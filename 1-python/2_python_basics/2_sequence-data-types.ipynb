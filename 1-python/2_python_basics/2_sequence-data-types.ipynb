{
 "cells": [
  {
   "cell_type": "markdown",
   "metadata": {
    "tags": []
   },
   "source": [
    "## Sequence data types"
   ]
  },
  {
   "cell_type": "markdown",
   "metadata": {},
   "source": [
    "In this exercise we explore the different types of sequence data types in Python. These are very important in Python, and provide a convenient way to deal with data of arbitrary sizes. First we present immutable data types, these can not be changed after they are created, and then the mutable data types are shown. There are exercises throughout, and solutions are available at the end of the document."
   ]
  },
  {
   "cell_type": "markdown",
   "metadata": {},
   "source": [
    "### Strings\n",
    "Strings are a simple case of a sequence data type as each character can be accessed using its index. The syntax for doing so uses square brackets."
   ]
  },
  {
   "cell_type": "code",
   "execution_count": null,
   "metadata": {},
   "outputs": [],
   "source": [
    "a = \"Hello\"\n",
    "print(a[0])  # indices starts at 0, so this prints the first letter of the string"
   ]
  },
  {
   "cell_type": "markdown",
   "metadata": {},
   "source": [
    "It is possible to select parts of the string using what is called slicing, selecting a range of indices. The to and from index are separated by a colon."
   ]
  },
  {
   "cell_type": "code",
   "execution_count": null,
   "metadata": {},
   "outputs": [],
   "source": [
    "print(a[1:3])  # from 1 to (but not including) 3\n",
    "print(a[1:])  # from 1 to (and including) end\n",
    "print(a[:3])  # from start to (and not including) 3\n",
    "print(a[1:-2])  # from 2 to (and not including) 2 from the end"
   ]
  },
  {
   "cell_type": "markdown",
   "metadata": {},
   "source": [
    "Strings can be concatenated using the + operator."
   ]
  },
  {
   "cell_type": "code",
   "execution_count": null,
   "metadata": {},
   "outputs": [],
   "source": [
    "print(\"Hello\" + \" \" + \"World\")"
   ]
  },
  {
   "cell_type": "markdown",
   "metadata": {},
   "source": [
    "Strings can be repeated by multiplying with an integer."
   ]
  },
  {
   "cell_type": "code",
   "execution_count": null,
   "metadata": {},
   "outputs": [],
   "source": [
    "print(20 * \"-o-\")"
   ]
  },
  {
   "cell_type": "markdown",
   "metadata": {},
   "source": [
    "It is possible to loop over the characters in a string with a for-loop."
   ]
  },
  {
   "cell_type": "code",
   "execution_count": null,
   "metadata": {},
   "outputs": [],
   "source": [
    "for letter in a:\n",
    "    print(letter)"
   ]
  },
  {
   "cell_type": "markdown",
   "metadata": {},
   "source": [
    "There is a built in len function that returns the length of any sequence data type, here for a string."
   ]
  },
  {
   "cell_type": "code",
   "execution_count": null,
   "metadata": {},
   "outputs": [],
   "source": [
    "print(len(a))"
   ]
  },
  {
   "cell_type": "markdown",
   "metadata": {},
   "source": [
    "Strings are implemented as objects, and these can have helpful methods associated with them. Here we show a few examples."
   ]
  },
  {
   "cell_type": "code",
   "execution_count": null,
   "metadata": {},
   "outputs": [],
   "source": [
    "print(a)  # Original string\n",
    "print(a.lower())  # Returns a as lower case letters\n",
    "print(a.upper())  # Returns a as upper case letters\n",
    "print(a.count(\"l\"))  # Counts the number of occurances of given string"
   ]
  },
  {
   "cell_type": "markdown",
   "metadata": {},
   "source": [
    "Strings are a immutable data structure, which means that the content can not be changed directly."
   ]
  },
  {
   "cell_type": "code",
   "execution_count": null,
   "metadata": {},
   "outputs": [],
   "source": [
    "print(a)\n",
    "# a[2] = \"j\" # uncomment this line to try and change an l to a j in Hello.\n",
    "print(a)"
   ]
  },
  {
   "cell_type": "markdown",
   "metadata": {},
   "source": [
    "**(1) Task:** <br>\n",
    "Use slicing to print the ESS part of these strings."
   ]
  },
  {
   "cell_type": "code",
   "execution_count": null,
   "metadata": {},
   "outputs": [],
   "source": [
    "A = \"Professionalism\"\n",
    "B = \"Multiprocessing\"\n",
    "C = \"Brightness\"\n",
    "D = \"Impressionistic\""
   ]
  },
  {
   "cell_type": "markdown",
   "metadata": {
    "tags": []
   },
   "source": [
    "**Solution:**"
   ]
  },
  {
   "cell_type": "code",
   "execution_count": null,
   "metadata": {
    "tags": [
     "hide-cell",
     "solution"
    ]
   },
   "outputs": [],
   "source": [
    "print(A[4:7])\n",
    "print(B[9:12])\n",
    "print(C[-3:])\n",
    "print(D[4:7])"
   ]
  },
  {
   "cell_type": "markdown",
   "metadata": {},
   "source": [
    "### Tuples\n",
    "Tuples holds a sequence of objects that can be accessed by index. They are similar to strings, but instead of only being able to hold characters in a sequence, they can hold anything. It is important not to think of a Python tuple as a vector or other similar mathematical concept, tuples are just a container using indices to retrieve the information. Tuples are defined using parenthesis, and like strings are immutable."
   ]
  },
  {
   "cell_type": "code",
   "execution_count": null,
   "metadata": {},
   "outputs": [],
   "source": [
    "tup = (1, 2.0, \"three\")\n",
    "print(tup)"
   ]
  },
  {
   "cell_type": "markdown",
   "metadata": {},
   "source": [
    "The different elements of a tuple can be accessed in the same manner as a string, there is however an important difference. If a colon is not used, the return value is what the tuple contains at that index, but when a colon is used, a tuple containing the selected items is returned. This applies even when the colon notation is used to select just one entry, as shown below."
   ]
  },
  {
   "cell_type": "code",
   "execution_count": null,
   "metadata": {},
   "outputs": [],
   "source": [
    "print(tup[0])  # Returns the integer at the first position\n",
    "print(tup[2])  # Returns the string at the third position\n",
    "print(tup[1:])  # Returns a tuple with second and third element\n",
    "print(tup[1:2])  # Returns a tuple with the third element"
   ]
  },
  {
   "cell_type": "markdown",
   "metadata": {},
   "source": [
    "It is possible to construct for-loops as with strings. Sometimes it can be convenient to have the index available, and this is usually done using the *len* function that provides the length and the function *range*."
   ]
  },
  {
   "cell_type": "code",
   "execution_count": null,
   "metadata": {},
   "outputs": [],
   "source": [
    "for element in tup:\n",
    "    print(element)"
   ]
  },
  {
   "cell_type": "code",
   "execution_count": null,
   "metadata": {},
   "outputs": [],
   "source": [
    "for index in range(len(tup)):\n",
    "    print(index, tup[index])"
   ]
  },
  {
   "cell_type": "markdown",
   "metadata": {},
   "source": [
    "There is also a short notation for checking if a certain element exists in a list, the *in* operator."
   ]
  },
  {
   "cell_type": "code",
   "execution_count": null,
   "metadata": {},
   "outputs": [],
   "source": [
    "if 2.0 in tup:\n",
    "    print(\"2.0 was found in the tuple!\")\n",
    "else:\n",
    "    print(\"2.0 was not found in the tuple!\")"
   ]
  },
  {
   "cell_type": "markdown",
   "metadata": {},
   "source": [
    "**(2) Task:** <br>\n",
    "Tuples can be combined to form new tuples in the same manner as strings. Create one tuple from the available tuples below and using slicing so that the end results is the integers from 1 to 5."
   ]
  },
  {
   "cell_type": "code",
   "execution_count": null,
   "metadata": {
    "tags": []
   },
   "outputs": [],
   "source": [
    "A = (4, 5)\n",
    "B = (2, 3, 4)\n",
    "C = (1, 8)"
   ]
  },
  {
   "cell_type": "markdown",
   "metadata": {},
   "source": [
    "**Solution:**"
   ]
  },
  {
   "cell_type": "code",
   "execution_count": null,
   "metadata": {
    "tags": [
     "hide-cell",
     "solution"
    ]
   },
   "outputs": [],
   "source": [
    "D = C[0:1] + B[0:2] + A\n",
    "print(D)"
   ]
  },
  {
   "cell_type": "markdown",
   "metadata": {},
   "source": [
    "### Lists\n",
    "Lists are like tuples, but mutable, and can thus be modified. This makes lists preferable in most situations, but we will later see an important exception. Lists are defined using square brackets. "
   ]
  },
  {
   "cell_type": "code",
   "execution_count": null,
   "metadata": {
    "tags": []
   },
   "outputs": [],
   "source": [
    "ls = [1, 2.0, \"three\"]\n",
    "print(ls)"
   ]
  },
  {
   "cell_type": "markdown",
   "metadata": {
    "tags": []
   },
   "source": [
    "Since lists are mutable, the slicing notation can also be used to modify elements of the list."
   ]
  },
  {
   "cell_type": "code",
   "execution_count": null,
   "metadata": {
    "tags": []
   },
   "outputs": [],
   "source": [
    "ls[1] = 1.8  # Change a single element\n",
    "print(ls)\n",
    "ls[0:2] = [0.5, 1.5]  # Change two elements in the list\n",
    "print(ls)"
   ]
  },
  {
   "cell_type": "markdown",
   "metadata": {
    "tags": []
   },
   "source": [
    "Elements can be deleted using the *del* operator, this will not leave a gap in the list but the remaining indices will be moved in order to avoid a gap."
   ]
  },
  {
   "cell_type": "code",
   "execution_count": null,
   "metadata": {
    "tags": []
   },
   "outputs": [],
   "source": [
    "del ls[1]\n",
    "print(ls)"
   ]
  },
  {
   "cell_type": "markdown",
   "metadata": {
    "tags": []
   },
   "source": [
    "It is possible to construct for loops as with strings/tuples, but be mindful that modifying the length of a list that is being looped can quickly result in unexpected behavior."
   ]
  },
  {
   "cell_type": "code",
   "execution_count": null,
   "metadata": {
    "tags": []
   },
   "outputs": [],
   "source": [
    "print(\"-- without index --\")\n",
    "for element in ls:\n",
    "    print(element)\n",
    "\n",
    "print(\"---- with index ---\")\n",
    "for index in range(len(ls)):\n",
    "    print(index, ls[index])"
   ]
  },
  {
   "cell_type": "markdown",
   "metadata": {
    "tags": []
   },
   "source": [
    "As lists and tuples can hold all types, they can even hold other lists or tuples."
   ]
  },
  {
   "cell_type": "code",
   "execution_count": null,
   "metadata": {
    "tags": []
   },
   "outputs": [],
   "source": [
    "new_list = [1, 2.0, [0.1, 0.5], ls, (9, 8)]\n",
    "print(new_list)"
   ]
  },
  {
   "cell_type": "markdown",
   "metadata": {
    "tags": []
   },
   "source": [
    "Since lists can be modified, there are a range of useful methods defined for this purpose. Here we demonstrate append that adds an element to the end of the list and sort that sorts lists consisting of numerical entries."
   ]
  },
  {
   "cell_type": "code",
   "execution_count": null,
   "metadata": {
    "tags": []
   },
   "outputs": [],
   "source": [
    "new_list.append(100)\n",
    "print(new_list)"
   ]
  },
  {
   "cell_type": "code",
   "execution_count": null,
   "metadata": {
    "tags": []
   },
   "outputs": [],
   "source": [
    "numerical_list = [4, 0.2, 3.8, 91, 6.71]\n",
    "numerical_list.sort()\n",
    "print(numerical_list)"
   ]
  },
  {
   "cell_type": "markdown",
   "metadata": {
    "tags": []
   },
   "source": [
    "There are more methods available than is reasonable to demonstrate here, but it is important to note that one can get help directly from the language in order to explore such methods. Here we see the help of the list object."
   ]
  },
  {
   "cell_type": "code",
   "execution_count": null,
   "metadata": {
    "tags": []
   },
   "outputs": [],
   "source": [
    "help(numerical_list)"
   ]
  },
  {
   "cell_type": "markdown",
   "metadata": {
    "tags": []
   },
   "source": [
    "**(3) Task:** <br>\n",
    "Given this list of numerical entries, print the five smallest and five largest values."
   ]
  },
  {
   "cell_type": "code",
   "execution_count": null,
   "metadata": {
    "tags": []
   },
   "outputs": [],
   "source": [
    "n_list = [12, 4, 1.2, -3.1, 9.8, 4, 1.2, 2.3, 5.0, 10.0, -1.001]"
   ]
  },
  {
   "cell_type": "markdown",
   "metadata": {
    "tags": []
   },
   "source": [
    "**Solution:**"
   ]
  },
  {
   "cell_type": "code",
   "execution_count": null,
   "metadata": {
    "tags": [
     "hide-cell",
     "solution"
    ]
   },
   "outputs": [],
   "source": [
    "n_list.sort()\n",
    "print(\"Five smallest entries: \", n_list[:5])\n",
    "print(\"Five largest entries:  \", n_list[-5:])"
   ]
  },
  {
   "cell_type": "markdown",
   "metadata": {
    "tags": []
   },
   "source": [
    "### Dictionaries\n",
    "Dictionaries is probably the most important data type in Python, as it is simple, powerful and fast. Like the name implies, it allows for a look up in some database. Items are added to this database with a key that is used to find them again. The information is thus indexed with keys instead of integers. It is however important that the key doesn't change, so it has to be immutable. Keys are most commonly strings, but all immutable types are allowed.\n",
    "Dictionaries are defined with curly brackets and uses colon to separate the key and item."
   ]
  },
  {
   "cell_type": "code",
   "execution_count": null,
   "metadata": {
    "tags": []
   },
   "outputs": [],
   "source": [
    "dictionary = {\"A\": 5, 1: 32, (1, 2): \"one_two\"}\n",
    "print(dictionary[\"A\"])\n",
    "print(dictionary[1])\n",
    "print(dictionary[(1, 2)])"
   ]
  },
  {
   "cell_type": "markdown",
   "metadata": {
    "tags": []
   },
   "source": [
    "Dictionaries are mutable, so it is possible to change current entries, add new ones and even delete entries."
   ]
  },
  {
   "cell_type": "code",
   "execution_count": null,
   "metadata": {
    "tags": []
   },
   "outputs": [],
   "source": [
    "print(dictionary, \"Original dictionary\")\n",
    "dictionary[\"A\"] = 12\n",
    "print(dictionary, \"Modified A\")\n",
    "dictionary[\"B\"] = \"C\"\n",
    "print(dictionary, \"Added a B entry\")\n",
    "del dictionary[\"B\"]\n",
    "print(dictionary, \"Delete B entry\")"
   ]
  },
  {
   "cell_type": "markdown",
   "metadata": {
    "tags": []
   },
   "source": [
    "The information stored in the dictionary is not ordered in any specific way, and thus it is not possible to use slicing to create smaller dictionaries. It is still possible to loop over the entries, but you may be surprised to learn that the elements returned are the keys and not the values. This does make sense, as the value can easily be reached using the key, but the key can not be reached using the value."
   ]
  },
  {
   "cell_type": "code",
   "execution_count": null,
   "metadata": {
    "tags": []
   },
   "outputs": [],
   "source": [
    "print(dictionary)\n",
    "for element in dictionary:\n",
    "    print(element, dictionary[element])"
   ]
  },
  {
   "cell_type": "markdown",
   "metadata": {
    "tags": []
   },
   "source": [
    "It is often useful to include the keys in the loop, this can be achieved using the *item* method that returns a list of tuples with key, value pairs."
   ]
  },
  {
   "cell_type": "code",
   "execution_count": null,
   "metadata": {
    "tags": []
   },
   "outputs": [],
   "source": [
    "for key, item in dictionary.items():\n",
    "    print(\"For key\", key, \"the value\", item, \"is stored\")"
   ]
  },
  {
   "cell_type": "markdown",
   "metadata": {
    "tags": []
   },
   "source": [
    "**(4) Task:** <br>\n",
    "Use a dictionary to set up a shop with some inventory and associated prices. Use a for-loop to create a sale, display the inventory with prices before and after."
   ]
  },
  {
   "cell_type": "markdown",
   "metadata": {
    "tags": []
   },
   "source": [
    "**Solution:**"
   ]
  },
  {
   "cell_type": "code",
   "execution_count": null,
   "metadata": {
    "tags": [
     "hide-cell",
     "solution"
    ]
   },
   "outputs": [],
   "source": [
    "shop = {\"usb hub\": 150.0, \"wireless mouse\": 200.0, \"laptop\": 6000.0, \"screen\": 2500.0}\n",
    "print(\"Prices prior to sale \", shop)\n",
    "for key in shop:\n",
    "    shop[key] *= 0.9  # 10% discount\n",
    "print(\"Prices during to sale\", shop)"
   ]
  },
  {
   "cell_type": "markdown",
   "metadata": {
    "tags": []
   },
   "source": [
    "**(5) Task:** <br>\n",
    "Given three base colors, for example red, green and blue, write a dictionary that contains the names of the resulting color when two different base colors are mixed. "
   ]
  },
  {
   "cell_type": "markdown",
   "metadata": {
    "tags": []
   },
   "source": [
    "**Solution:**"
   ]
  },
  {
   "cell_type": "code",
   "execution_count": null,
   "metadata": {
    "tags": [
     "hide-cell",
     "solution"
    ]
   },
   "outputs": [],
   "source": [
    "# Use tuples that contain two of the colors as the keys in a dictionary,\n",
    "# while the values should correspond to the name of the combined color.\n",
    "# It is necessary to set up each mix twice,\n",
    "# as a tuple with its elements reversed is recognized as a different key.\n",
    "\n",
    "mixes = {\n",
    "    (\"blue\", \"red\"): \"purple\",\n",
    "    (\"blue\", \"green\"): \"cyan\",\n",
    "    (\"red\", \"blue\"): \"purple\",\n",
    "    (\"red\", \"green\"): \"yellow\",\n",
    "    (\"green\", \"blue\"): \"cyan\",\n",
    "    (\"green\", \"red\"): \"yellow\",\n",
    "}\n",
    "\n",
    "print(mixes[(\"blue\", \"red\")])"
   ]
  }
 ],
 "metadata": {
  "kernelspec": {
   "display_name": "Python 3 (ipykernel)",
   "language": "python",
   "name": "python3"
  },
  "language_info": {
   "codemirror_mode": {
    "name": "ipython",
    "version": 3
   },
   "file_extension": ".py",
   "mimetype": "text/x-python",
   "name": "python",
   "nbconvert_exporter": "python",
   "pygments_lexer": "ipython3",
   "version": "3.10.10"
  }
 },
 "nbformat": 4,
 "nbformat_minor": 4
}
