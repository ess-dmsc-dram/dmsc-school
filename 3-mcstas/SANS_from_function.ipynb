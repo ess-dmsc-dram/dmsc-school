{
 "cells": [
  {
   "cell_type": "code",
   "execution_count": null,
   "id": "egyptian-salvation",
   "metadata": {
    "slideshow": {
     "slide_type": ""
    },
    "tags": []
   },
   "outputs": [],
   "source": [
    "import mcstasscript as ms\n",
    "import mcstasscript.jb_interface as ms_widget\n",
    "import scipp as sc\n",
    "import plopp as pp\n",
    "import numpy as np\n",
    "\n",
    "import matplotlib.pyplot as plt\n",
    "\n",
    "# %matplotlib widget\n",
    "\n",
    "import make_SANS_instrument"
   ]
  },
  {
   "cell_type": "code",
   "execution_count": null,
   "id": "bd898479-315c-4a20-ad34-b960efe390e8",
   "metadata": {
    "slideshow": {
     "slide_type": ""
    },
    "tags": [
     "remove-cell"
    ]
   },
   "outputs": [],
   "source": [
    "my_configurator = ms.Configurator()\n",
    "my_configurator.set_mcrun_path(\"/usr/bin/\")\n",
    "my_configurator.set_mcstas_path(\"/usr/share/mcstas/3.3/\")"
   ]
  },
  {
   "cell_type": "markdown",
   "id": "unexpected-mandate",
   "metadata": {},
   "source": [
    "# SANS exercise\n",
    "\n",
    "\n",
    "In this notebook you will get this simplified SANS instrument and answer a few questions about the results. You will also get to improve it and run experiments with both with and without a sample.\n",
    "\n",
    "### Get an instrument object\n",
    "Here from a function, in future could be online repository"
   ]
  },
  {
   "cell_type": "code",
   "execution_count": null,
   "id": "loose-workstation",
   "metadata": {},
   "outputs": [],
   "source": [
    "instrument = make_SANS_instrument.make(input_path=\"run_folder\")\n",
    "nexus_mode = False"
   ]
  },
  {
   "cell_type": "markdown",
   "id": "continued-thong",
   "metadata": {},
   "source": [
    "## Investigate instrument\n",
    "First investigate the instrument object *instrument* using some of the available methods. All the methods that help do that start with the word show. In particular, look at what parameters are available and take a look at the instrument geometry."
   ]
  },
  {
   "cell_type": "code",
   "execution_count": null,
   "id": "conceptual-knitting",
   "metadata": {},
   "outputs": [],
   "source": [
    "instrument.show_parameters()"
   ]
  },
  {
   "cell_type": "code",
   "execution_count": null,
   "id": "secret-surrey",
   "metadata": {},
   "outputs": [],
   "source": [
    "instrument.show_instrument()"
   ]
  },
  {
   "cell_type": "markdown",
   "id": "scientific-earthquake",
   "metadata": {},
   "source": [
    "## Set parameters\n",
    "Before running the instrument we need to set some parameters. The most important one is the *detector_distance* parameter describing the distance between the sample and the detector. Given the need for high angular precision in determining the scattering angle of the neutron, which of these would be best?\n",
    "\n",
    "- A: 1 m\n",
    "- B: 2 m\n",
    "- C: 3 m\n",
    "\n",
    "Could instead have question on wavelength band to test time of flight knowledge."
   ]
  },
  {
   "cell_type": "code",
   "execution_count": null,
   "id": "separate-madonna",
   "metadata": {},
   "outputs": [],
   "source": [
    "# quiz C"
   ]
  },
  {
   "cell_type": "markdown",
   "id": "drawn-belarus",
   "metadata": {},
   "source": [
    "Set the parameters of the instrument using the *set_parameters* method.\n",
    "- sample_distance: 150 m\n",
    "- wavelength: 6 Å\n",
    "- wavelength bad: 1.5 Å\n",
    "- enable_sample: 0\n",
    "- n_pulses: 1"
   ]
  },
  {
   "cell_type": "code",
   "execution_count": null,
   "id": "southeast-weight",
   "metadata": {},
   "outputs": [],
   "source": [
    "instrument.set_parameters(\n",
    "    sample_distance=150, wavelength=6, d_wavelength=1.5, enable_sample=0, n_pulses=1\n",
    ")"
   ]
  },
  {
   "cell_type": "markdown",
   "id": "featured-replica",
   "metadata": {},
   "source": [
    "## Run the instrument\n",
    "Now the simulation can be executed with the backengine method. Store the returned data in a python variable called data."
   ]
  },
  {
   "cell_type": "code",
   "execution_count": null,
   "id": "infrared-major",
   "metadata": {
    "slideshow": {
     "slide_type": ""
    },
    "tags": []
   },
   "outputs": [],
   "source": [
    "ncpu = 2\n",
    "instrument.settings(ncount=5e6, mpi=ncpu, suppress_output=True)"
   ]
  },
  {
   "cell_type": "code",
   "execution_count": null,
   "id": "addressed-mexican",
   "metadata": {},
   "outputs": [],
   "source": [
    "data = instrument.backengine()\n",
    "data"
   ]
  },
  {
   "cell_type": "code",
   "execution_count": null,
   "id": "controversial-wilderness",
   "metadata": {
    "slideshow": {
     "slide_type": ""
    },
    "tags": []
   },
   "outputs": [],
   "source": [
    "# ms_widget.show(data)\n",
    "\n",
    "to_plot = [\"signal\", \"signal_tof\", \"signal_tof_all\"]\n",
    "\n",
    "ms.make_sub_plot(\n",
    "    [ms.name_search(key, data) for key in to_plot],\n",
    "    figsize=(12, 8),\n",
    "    log=True,\n",
    "    orders_of_mag=5,\n",
    ")"
   ]
  },
  {
   "cell_type": "markdown",
   "id": "intermediate-isaac",
   "metadata": {
    "slideshow": {
     "slide_type": ""
    },
    "tags": []
   },
   "source": [
    "### Interpretation of the data\n",
    "The detector is a He3 tube centered 25 cm above the beam height and with a metal casing. \n",
    "\n",
    "What does the signal look like without sample?\n",
    "- A: Most of the signal close to the direct beam\n",
    "- B: Flat signal over detector height \n",
    "- C: Most of the signal is far away from the direct beam"
   ]
  },
  {
   "cell_type": "code",
   "execution_count": null,
   "id": "worst-lease",
   "metadata": {
    "slideshow": {
     "slide_type": ""
    },
    "tags": []
   },
   "outputs": [],
   "source": [
    "# quiz A"
   ]
  },
  {
   "cell_type": "markdown",
   "id": "minute-separation",
   "metadata": {},
   "source": [
    "Is this a problem for a SANS instrument?\n",
    "- A: Yes\n",
    "- B: No"
   ]
  },
  {
   "cell_type": "code",
   "execution_count": null,
   "id": "substantial-activity",
   "metadata": {},
   "outputs": [],
   "source": [
    "# quiz A"
   ]
  },
  {
   "cell_type": "markdown",
   "id": "continued-gazette",
   "metadata": {},
   "source": [
    "How can it be improved?\n",
    "- A: By adding a Velocity selector\n",
    "- B: By adding a Chopper\n",
    "- C: By adding a Beamstop\n",
    "- D: By adding a Slit"
   ]
  },
  {
   "cell_type": "code",
   "execution_count": null,
   "id": "alpine-kuwait",
   "metadata": {},
   "outputs": [],
   "source": [
    "# quiz C"
   ]
  },
  {
   "cell_type": "markdown",
   "id": "substantial-navigation",
   "metadata": {},
   "source": [
    "## Improve the instrument\n",
    "In order to improve the performance of the instrument, we will add a McStas component. The first aspect to consider when doing so is where to place it, both in the component sequence and its physical location. We start by looking at the code sequence.\n",
    "\n",
    "### McStas sequence \n",
    "Use either the *show_diagram* or *show_components* method on the instrument object to get an overview of the component sequence in the instrument. Where would you place the new component?\n",
    "\n",
    "- A: After the source\n",
    "- B: Before the sample position\n",
    "- C: After the sample position\n",
    "- D: Before the detector position"
   ]
  },
  {
   "cell_type": "code",
   "execution_count": null,
   "id": "composite-difference",
   "metadata": {},
   "outputs": [],
   "source": [
    "instrument.show_diagram()"
   ]
  },
  {
   "cell_type": "code",
   "execution_count": null,
   "id": "religious-equality",
   "metadata": {},
   "outputs": [],
   "source": [
    "# quiz C and D correct"
   ]
  },
  {
   "cell_type": "markdown",
   "id": "authorized-recovery",
   "metadata": {},
   "source": [
    "### Which component\n",
    "Now we need to select what type of component to add to the instrument, here we will need the *Beamstop* component. Use the *component_help* method on the instrument to learn more about this component."
   ]
  },
  {
   "cell_type": "code",
   "execution_count": null,
   "id": "recent-asian",
   "metadata": {},
   "outputs": [],
   "source": [
    "instrument.component_help(\"Beamstop\")"
   ]
  },
  {
   "cell_type": "markdown",
   "id": "young-liquid",
   "metadata": {},
   "source": [
    "### Add chopper component and set parameters\n",
    "Use the *add_component* method on the instrument to add a chopper. Place it in the component sequence by using either the *before* or *after* keyword argument.\n",
    "\n",
    "Set the parameters:\n",
    " - yheight: 0.05 m\n",
    " - radius: 0.7 m\n",
    " - nslit: 1.0\n",
    " - nu, delay and theta_0: To the variables calculated in the instrument (use quotation marks)"
   ]
  },
  {
   "cell_type": "code",
   "execution_count": null,
   "id": "built-venezuela",
   "metadata": {},
   "outputs": [],
   "source": [
    "beamstop = instrument.add_component(\"beamstop\", \"Beamstop\", before=\"detector_position\")\n",
    "beamstop.set_parameters(xwidth=0.1, yheight=0.02)"
   ]
  },
  {
   "cell_type": "code",
   "execution_count": null,
   "id": "lesser-retrieval",
   "metadata": {},
   "outputs": [],
   "source": [
    "# quiz(instrument)"
   ]
  },
  {
   "cell_type": "markdown",
   "id": "engaging-terminal",
   "metadata": {},
   "source": [
    "### Placing the component in space\n",
    "The next physical location of the component need to be specified, which is done using the *set_AT* component. This method takes a list of 3 numbers, corresponding to the *x*, *y* and *z* coordinates of the component. One can also specify in what coordinate system one wants to work, which can be that of any preceeding component. Use the *RELATIVE* keyword to work in the *source* coordinate system. The position of the chopper is needed for calculating phase, so it is available as a variable in the instrument, use this variable to set the position."
   ]
  },
  {
   "cell_type": "code",
   "execution_count": null,
   "id": "overhead-marriage",
   "metadata": {},
   "outputs": [],
   "source": [
    "beamstop.set_AT([0, 0, \"0.9*detector_distance\"], RELATIVE=\"sample_position\")"
   ]
  },
  {
   "cell_type": "code",
   "execution_count": null,
   "id": "acute-depression",
   "metadata": {},
   "outputs": [],
   "source": [
    "# quiz(instrument)"
   ]
  },
  {
   "cell_type": "markdown",
   "id": "thick-precipitation",
   "metadata": {},
   "source": [
    "### Verify new component\n",
    "Now that the chopper has been added to the instrument, lets show the component sequence again to verify it was added correctly."
   ]
  },
  {
   "cell_type": "code",
   "execution_count": null,
   "id": "original-carnival",
   "metadata": {},
   "outputs": [],
   "source": [
    "instrument.show_diagram()"
   ]
  },
  {
   "cell_type": "markdown",
   "id": "narrow-dealing",
   "metadata": {},
   "source": [
    "## Run improved instrument\n",
    "Run the improved instrument with the following parameters:\n",
    "- sample_distance: 150 m\n",
    "- d_wavelength: 1.5 Å\n",
    "- enable_sample: 0\n",
    "- n_pulses: 1"
   ]
  },
  {
   "cell_type": "code",
   "execution_count": null,
   "id": "bearing-volume",
   "metadata": {
    "slideshow": {
     "slide_type": ""
    },
    "tags": []
   },
   "outputs": [],
   "source": [
    "instrument.settings(ncount=5e6, mpi=ncpu, suppress_output=True)\n",
    "\n",
    "if nexus_mode:\n",
    "    instrument.set_parameters(\n",
    "        sample_distance=150, d_wavelength=1.5, enable_sample=0, n_pulses=3, integration_time=5E4\n",
    "    )\n",
    "    instrument.settings(\n",
    "        output_path=\"SANS_without_sample_NeXus_3_pulse\", NeXus=nexus_mode, ncount=1.5e7\n",
    "    )\n",
    "    background_data = instrument.backengine()"
   ]
  },
  {
   "cell_type": "code",
   "execution_count": null,
   "id": "genuine-plant",
   "metadata": {},
   "outputs": [],
   "source": [
    "instrument.set_parameters(\n",
    "    sample_distance=150, d_wavelength=1.5, enable_sample=0, n_pulses=1, integration_time=5E4\n",
    ")\n",
    "instrument.settings(\n",
    "    output_path=\"SANS_without_sample_NeXus_1_pulse\", NeXus=nexus_mode, ncount=5e6\n",
    ")\n",
    "background_data = instrument.backengine()"
   ]
  },
  {
   "cell_type": "code",
   "execution_count": null,
   "id": "agricultural-marble",
   "metadata": {},
   "outputs": [],
   "source": [
    "background_data"
   ]
  },
  {
   "cell_type": "code",
   "execution_count": null,
   "id": "interesting-processing",
   "metadata": {
    "slideshow": {
     "slide_type": ""
    },
    "tags": []
   },
   "outputs": [],
   "source": [
    "ms.make_sub_plot(\n",
    "    [ms.name_search(key, background_data) for key in to_plot],\n",
    "    figsize=(12, 8),\n",
    "    log=True,\n",
    "    orders_of_mag=5,\n",
    ")\n",
    "# ms_widget.show(data)\n",
    "# ms.make_sub_plot([improved_data[0], improved_data[3]], figsize=(12, 8), log=True, orders_of_mag=10)"
   ]
  },
  {
   "cell_type": "markdown",
   "id": "satisfactory-october",
   "metadata": {},
   "source": [
    "Do you see an improvement compared to earlier results?\n",
    "- A: Yes\n",
    "- B: No"
   ]
  },
  {
   "cell_type": "code",
   "execution_count": null,
   "id": "cardiac-boulder",
   "metadata": {},
   "outputs": [],
   "source": [
    "# quiz A"
   ]
  },
  {
   "cell_type": "markdown",
   "id": "empty-addiction",
   "metadata": {},
   "source": [
    "## Run with sample\n",
    "Now the sample can be added by setting the *enable_sample* parameter to one and calling the *backengine* method again."
   ]
  },
  {
   "cell_type": "code",
   "execution_count": null,
   "id": "successful-seven",
   "metadata": {
    "slideshow": {
     "slide_type": ""
    },
    "tags": []
   },
   "outputs": [],
   "source": [
    "if nexus_mode:\n",
    "    instrument.settings(\n",
    "        ncount=1.5e7,\n",
    "        mpi=ncpu,\n",
    "        suppress_output=True,\n",
    "        output_path=\"SANS_with_sample_NeXus_3_pulse\",\n",
    "        NeXus=nexus_mode,\n",
    "    )\n",
    "    instrument.set_parameters(\n",
    "        sample_distance=150, d_wavelength=1.5, enable_sample=1, n_pulses=3, integration_time=500\n",
    "    )\n",
    "\n",
    "    sample_data = instrument.backengine()"
   ]
  },
  {
   "cell_type": "code",
   "execution_count": null,
   "id": "straight-border",
   "metadata": {
    "slideshow": {
     "slide_type": ""
    },
    "tags": []
   },
   "outputs": [],
   "source": [
    "instrument.settings(\n",
    "    ncount=5e6,\n",
    "    mpi=ncpu,\n",
    "    suppress_output=True,\n",
    "    output_path=\"SANS_with_sample_NeXus_1_pulse\",\n",
    "    NeXus=nexus_mode,\n",
    ")\n",
    "instrument.set_parameters(\n",
    "    sample_distance=150, d_wavelength=1.5, enable_sample=1, n_pulses=1, integration_time=500\n",
    ")\n",
    "\n",
    "sample_data = instrument.backengine()"
   ]
  },
  {
   "cell_type": "code",
   "execution_count": null,
   "id": "exempt-instrument",
   "metadata": {
    "slideshow": {
     "slide_type": ""
    },
    "tags": []
   },
   "outputs": [],
   "source": [
    "ms.make_sub_plot(\n",
    "    [ms.name_search(key, sample_data) for key in to_plot],\n",
    "    figsize=(12, 8),\n",
    "    log=True,\n",
    "    orders_of_mag=10,\n",
    ")"
   ]
  },
  {
   "cell_type": "markdown",
   "id": "objective-cholesterol",
   "metadata": {
    "slideshow": {
     "slide_type": ""
    },
    "tags": []
   },
   "source": [
    "Question to check the students are seeing the final dataset."
   ]
  }
 ],
 "metadata": {
  "kernelspec": {
   "display_name": "Python 3",
   "language": "python",
   "name": "python3"
  },
  "language_info": {
   "codemirror_mode": {
    "name": "ipython",
    "version": 3
   },
   "file_extension": ".py",
   "mimetype": "text/x-python",
   "name": "python",
   "nbconvert_exporter": "python",
   "pygments_lexer": "ipython3",
   "version": "3.8.8"
  }
 },
 "nbformat": 4,
 "nbformat_minor": 5
}
