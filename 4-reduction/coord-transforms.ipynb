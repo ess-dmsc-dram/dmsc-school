{
 "cells": [
  {
   "cell_type": "code",
   "execution_count": null,
   "metadata": {},
   "outputs": [],
   "source": [
    "%matplotlib widget"
   ]
  },
  {
   "cell_type": "markdown",
   "id": "c610b2e7-3883-4ed5-b2bc-15a0cea6d3c0",
   "metadata": {},
   "source": [
    "# Coordinate transformations\n",
    "\n",
    "We often need to compute new coordinates from other coordinates; for example wavelength from time-of-flight or scattering angle from positions.\n",
    "Scipp has a flexible utility for this purpose: [scipp.transform_coords](https://scipp.github.io/generated/functions/scipp.transform_coords.html).\n",
    "\n",
    "## Setup\n",
    "\n",
    "Consider a beamline with straight neutron beams (i.e., without guides, focusing optics, analyzers, etc.):\n",
    "\n",
    "![image](../images/straight-beamline.svg)\n",
    "\n",
    "We want to compute the total length of the flight path `Ltotal` from positions of the detector, sample, and source.\n",
    "It is easy enough to write code that does this.\n",
    "However, consider the backscattering QENS beamline from the McStas session:\n",
    "\n",
    "![image](../images/qens-beamline.svg)\n",
    "\n",
    "Here, we need to take the analyzer into account when computing `Ltotal`.\n",
    "\n",
    "To illustrate, we begin with the example of straight beams and generate some test data.\n",
    "The exact contents of the data don't matter here, but note that we store the various positions as coordinates."
   ]
  },
  {
   "cell_type": "code",
   "execution_count": null,
   "id": "6f6e4041-77ab-40a0-9577-0907a4582752",
   "metadata": {},
   "outputs": [],
   "source": [
    "import scipp as sc"
   ]
  },
  {
   "cell_type": "code",
   "execution_count": null,
   "id": "d8d483d8-971b-4122-81ab-7b96964daef9",
   "metadata": {},
   "outputs": [],
   "source": [
    "source_position = sc.vector([0.0, 0.0, -10.0], unit=\"m\")\n",
    "sample_position = sc.vector([0.0, 0.0, 0.0], unit=\"m\")\n",
    "position = sc.vectors(\n",
    "    dims=[\"position\"],\n",
    "    values=[\n",
    "        [0.0, 0.5, 1.0],\n",
    "        [0.0, 1.0, 1.0],\n",
    "        [0.0, 1.5, 1.0],\n",
    "    ],\n",
    "    unit=\"m\",\n",
    ")\n",
    "\n",
    "data = sc.DataArray(\n",
    "    sc.ones(sizes={\"position\": 3}),\n",
    "    coords={\n",
    "        \"source_position\": source_position,\n",
    "        \"sample_position\": sample_position,\n",
    "        \"position\": position,\n",
    "    },\n",
    ")\n",
    "data"
   ]
  },
  {
   "cell_type": "markdown",
   "id": "57777b8e-0708-457d-942a-eff88c6efa1e",
   "metadata": {},
   "source": [
    "## The manual approach\n",
    "\n",
    "A straight-forward way of computing `Ltotal` from this is the following:"
   ]
  },
  {
   "cell_type": "code",
   "execution_count": null,
   "id": "9c5b63b3-19c0-4a8a-9b01-3bd80b880fb3",
   "metadata": {},
   "outputs": [],
   "source": [
    "L1 = sc.norm(data.coords[\"sample_position\"] - data.coords[\"source_position\"])\n",
    "L2 = sc.norm(data.coords[\"position\"] - data.coords[\"sample_position\"])\n",
    "Ltotal = L1 + L2\n",
    "Ltotal"
   ]
  },
  {
   "cell_type": "markdown",
   "id": "b255c737-2ce0-4a63-83d7-b57eabb2483a",
   "metadata": {},
   "source": [
    "This uses vector arithmetic on the coordinates and [scipp.norm](https://scipp.github.io/generated/functions/scipp.norm.html) to compute vector lengths.\n",
    "\n",
    "## Less pedestrian: using functions\n",
    "\n",
    "However, if we now want to do this for the QENS experiment, we need to rewrite the entire procedure.\n",
    "To avoid this, let us define some functions and use those to compute the sample `Ltotal` as before:"
   ]
  },
  {
   "cell_type": "code",
   "execution_count": null,
   "id": "f8a8ad40-b39d-4b0b-8240-f1e6369ebf18",
   "metadata": {},
   "outputs": [],
   "source": [
    "def straight_l1(source_position, sample_position):\n",
    "    return sc.norm(sample_position - source_position)\n",
    "\n",
    "\n",
    "def straight_l2(sample_position, position):\n",
    "    return sc.norm(position - sample_position)\n",
    "\n",
    "\n",
    "def l_total(L1, L2):\n",
    "    return L1 + L2"
   ]
  },
  {
   "cell_type": "code",
   "execution_count": null,
   "id": "33e0e186-5968-4209-8454-a89f1511530e",
   "metadata": {},
   "outputs": [],
   "source": [
    "L1 = straight_l1(\n",
    "    source_position=data.coords[\"source_position\"],\n",
    "    sample_position=data.coords[\"sample_position\"],\n",
    ")\n",
    "L2 = straight_l2(\n",
    "    sample_position=data.coords[\"sample_position\"],\n",
    "    position=data.coords[\"position\"],\n",
    ")\n",
    "Ltotal = l_total(L1=L1, L2=L2)\n",
    "Ltotal"
   ]
  },
  {
   "cell_type": "markdown",
   "id": "decb17ab-6fb1-4bca-8435-eb5f17abfcef",
   "metadata": {},
   "source": [
    "We could now define a function for backscattering.\n",
    "But we would still need to rewrite the 2nd cell above.\n",
    "\n",
    "## Using `transform_coords`\n",
    "\n",
    "Instead, we are going to use [scipp.transform_coords](https://scipp.github.io/generated/functions/scipp.transform_coords.html).\n",
    "First, we have to store our functions in a `dict`:"
   ]
  },
  {
   "cell_type": "code",
   "execution_count": null,
   "id": "adc593c7-7b66-4cfe-bd23-0e38b87e6bc1",
   "metadata": {},
   "outputs": [],
   "source": [
    "graph = {\"L1\": straight_l1, \"L2\": straight_l2, \"Ltotal\": l_total}"
   ]
  },
  {
   "cell_type": "markdown",
   "id": "c7e58979-0e13-4f85-a1af-d65cb5f22ed8",
   "metadata": {},
   "source": [
    "The `dict`-keys are names for the outputs of the functions.\n",
    "\n",
    "This dict can be seen as defining a graph that connects coordinates with functions that can compute them.\n",
    "We can visualize it with Scipp:"
   ]
  },
  {
   "cell_type": "code",
   "execution_count": null,
   "id": "4c47c05e-9668-4f44-91a2-7e8c64de3ab2",
   "metadata": {},
   "outputs": [],
   "source": [
    "sc.show_graph(graph)"
   ]
  },
  {
   "cell_type": "markdown",
   "id": "9503769c-4322-4fad-8568-38052412aaf2",
   "metadata": {},
   "source": [
    "Note how coordinates (white boxes) and functions (gray boxes) are connected.\n",
    "Scipp knows that, e.g., `straight_l1` produces `L1` because of the `dict`-key and uses `source_position` and `sample_position` as inputs because of the names of the function arguments.\n",
    "\n",
    "We can now compute `Ltotal` by using the graph with `transform_coords`:"
   ]
  },
  {
   "cell_type": "code",
   "execution_count": null,
   "id": "4c0c2fd5-4545-434b-89fc-60e11aa90c5e",
   "metadata": {},
   "outputs": [],
   "source": [
    "converted = data.transform_coords(\"Ltotal\", graph=graph)\n",
    "converted"
   ]
  },
  {
   "cell_type": "markdown",
   "id": "acbbc667-4b69-45d2-96b2-7d67b463c03d",
   "metadata": {},
   "source": [
    "This did several things for us.\n",
    "\n",
    "- It computed `Ltotal` as we requested and stored it as a new coordinate.\n",
    "- It also computed `L1` and `L2` because those were needed for `Ltotal`.\n",
    "- It renamed the dimension from `position` to `Ltotal` because we consider the latter to have replaced the former.\n",
    "\n",
    "It is also possible to compute other values than `Ltotal`:"
   ]
  },
  {
   "cell_type": "code",
   "execution_count": null,
   "id": "3d5fc962-9397-41c5-b8a4-9b6e55bc24f4",
   "metadata": {},
   "outputs": [],
   "source": [
    "data.transform_coords(\"L1\", graph=graph)"
   ]
  },
  {
   "cell_type": "markdown",
   "id": "761466c7-0e84-4696-b430-752e8f2db214",
   "metadata": {},
   "source": [
    "## Customizing the graph\n",
    "\n",
    "We can now adapt the above example to compute `Ltotal` for the `QENS` experiment.\n",
    "First, generate some new test data.\n",
    "This is similar to before but now includes `analyzer_position`."
   ]
  },
  {
   "cell_type": "code",
   "execution_count": null,
   "id": "0053446e-5707-4652-8d1e-6cd6fe767890",
   "metadata": {},
   "outputs": [],
   "source": [
    "source_position = sc.vector([0.0, 0.0, -10.0], unit=\"m\")\n",
    "sample_position = sc.vector([0.0, 0.0, 0.0], unit=\"m\")\n",
    "analyzer_position = sc.vector([0.0, 1.0, 1.0], unit=\"m\")\n",
    "position = sc.vectors(\n",
    "    dims=[\"position\"],\n",
    "    values=[\n",
    "        [0.0, 1.9, 0.0],\n",
    "        [0.0, 2.0, 0.0],\n",
    "        [0.0, 2.1, 0.0],\n",
    "    ],\n",
    "    unit=\"m\",\n",
    ")\n",
    "\n",
    "qens_data = sc.DataArray(\n",
    "    sc.ones(sizes={\"position\": 3}),\n",
    "    coords={\n",
    "        \"source_position\": source_position,\n",
    "        \"sample_position\": sample_position,\n",
    "        \"analyzer_position\": analyzer_position,\n",
    "        \"position\": position,\n",
    "    },\n",
    ")\n",
    "qens_data"
   ]
  },
  {
   "cell_type": "markdown",
   "id": "6e5dd80d-7a90-4814-8274-82ab0c7384e5",
   "metadata": {},
   "source": [
    "Now, define a new function to compute `L2` for the `QENS` beamline.\n",
    "Remember that `L2` is the length of the flight path from sample to analyzer to detector.\n",
    "\n",
    "![image](../images/qens-beamline.svg)"
   ]
  },
  {
   "cell_type": "code",
   "execution_count": null,
   "id": "804ed2e8-fd98-4a81-8a3e-2009b6542417",
   "metadata": {},
   "outputs": [],
   "source": [
    "def backscattering_l2(sample_position, analyzer_position, position):\n",
    "    a = sc.norm(analyzer_position - sample_position)\n",
    "    b = sc.norm(position - analyzer_position)\n",
    "    return a + b"
   ]
  },
  {
   "cell_type": "markdown",
   "id": "67ec979a-8018-43df-95dc-c7a183d7e883",
   "metadata": {},
   "source": [
    "We can reuse the graph for the straight beamline and simply replace the function for `L2`:"
   ]
  },
  {
   "cell_type": "code",
   "execution_count": null,
   "id": "2da5618c-553e-41ae-b086-b763ee619198",
   "metadata": {},
   "outputs": [],
   "source": [
    "graph[\"L2\"] = backscattering_l2\n",
    "sc.show_graph(graph)"
   ]
  },
  {
   "cell_type": "code",
   "execution_count": null,
   "id": "87d9798c-8020-4ed9-bd84-c00e98c5753d",
   "metadata": {},
   "outputs": [],
   "source": [
    "converted = qens_data.transform_coords(\"Ltotal\", graph=graph)\n",
    "converted"
   ]
  },
  {
   "cell_type": "markdown",
   "id": "fe07cbe5-e69e-4697-9507-9e7b29193406",
   "metadata": {},
   "source": [
    "## The larger picture\n",
    "\n",
    "The examples shown above are fairly small and easy to see through.\n",
    "But in practice, coordinate transformations can involve more and more complicated steps.\n",
    "As an example, here is the default graph provided by ScippNeutron:"
   ]
  },
  {
   "cell_type": "code",
   "execution_count": null,
   "id": "632096dc-47d4-4754-9afe-69722abda5ef",
   "metadata": {},
   "outputs": [],
   "source": [
    "import scippneutron as scn\n",
    "\n",
    "graph = scn.conversion.graph.beamline.beamline(scatter=True)\n",
    "sc.show_graph(graph)"
   ]
  },
  {
   "cell_type": "markdown",
   "id": "aa041155-a017-4bc8-b4c5-7c66474083a9",
   "metadata": {},
   "source": [
    "It is similar to our own graph but involves additional intermediate results and can also be used to compute the scattering angle `two_theta`.\n",
    "\n",
    "We can also add functions to compute the energy transfer in an indirect-geometry inelastic experiment:\n",
    "(If you don't know the syntax, simple read `{**a, **b}` as merging the two dicts `a` and `b` into a single dict.)"
   ]
  },
  {
   "cell_type": "code",
   "execution_count": null,
   "id": "14cafa2e-728f-4066-b0d3-d61d7cc8db53",
   "metadata": {},
   "outputs": [],
   "source": [
    "graph = {\n",
    "    **scn.conversion.graph.beamline.beamline(scatter=True),\n",
    "    **scn.conversion.graph.tof.indirect_inelastic(start=\"tof\"),\n",
    "}\n",
    "sc.show_graph(graph)"
   ]
  },
  {
   "cell_type": "markdown",
   "id": "2e7db018-3c1d-4b2a-912e-a1318b72469b",
   "metadata": {},
   "source": [
    "If instead, we were working with an elastic experiment, we could use [scn.conversion.graph.tof.elastic](https://scipp.github.io/scippneutron/generated/modules/scippneutron.conversion.graph.tof.elastic.html) or any other graph provided by [sc.conversion.graph](https://scipp.github.io/scippneutron/generated/modules/scippneutron.conversion.graph.html).\n",
    "\n",
    "This graph assumes straight beams as indicated by the function names.\n",
    "We can adapt it like before for our specific geometry as shown below.\n",
    "Here, we also remove `scattered_beam` as there is no single 'scattered beam' in this case."
   ]
  },
  {
   "cell_type": "code",
   "execution_count": null,
   "id": "c0ffafd6-9340-4a0b-b38d-d8e0fa194017",
   "metadata": {},
   "outputs": [],
   "source": [
    "graph[\"L2\"] = backscattering_l2\n",
    "del graph[\"scattered_beam\"]\n",
    "sc.show_graph(graph)"
   ]
  }
 ],
 "metadata": {
  "kernelspec": {
   "display_name": "Python 3 (ipykernel)",
   "language": "python",
   "name": "python3"
  },
  "language_info": {
   "codemirror_mode": {
    "name": "ipython",
    "version": 3
   },
   "file_extension": ".py",
   "mimetype": "text/x-python",
   "name": "python",
   "nbconvert_exporter": "python",
   "pygments_lexer": "ipython3",
   "version": "3.9.19"
  }
 },
 "nbformat": 4,
 "nbformat_minor": 5
}
