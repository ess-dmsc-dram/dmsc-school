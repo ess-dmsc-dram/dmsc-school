{
 "cells": [
  {
   "cell_type": "markdown",
   "metadata": {
    "editable": true,
    "slideshow": {
     "slide_type": ""
    },
    "tags": []
   },
   "source": [
    "# Fitting Powder diffraction data\n",
    "\n",
    "Previously, you [simulated](./../3-mcstas/mcstas-powder.ipynb) and [reduced](./../4-scipp/reduction-powder.ipynb) powder diffraction data.\n",
    "In this exercise, you will analyse this data with `easyscience`.\n",
    "Before the analysis can begin, it is necessary to load the experimental data and check that it looks reasonable. \n",
    "The data can be loaded with `np.loadtxt` as the data has been stored in a simple space-separated column file.\n",
    "For simplicity, we use a custom wrapper around `np.loadtxt`:"
   ]
  },
  {
   "cell_type": "code",
   "execution_count": null,
   "metadata": {
    "editable": true,
    "slideshow": {
     "slide_type": ""
    },
    "tags": []
   },
   "outputs": [],
   "source": [
    "import numpy as np\n",
    "from load import load\n",
    "\n",
    "q, i, di = load('../4-reduction/powder_reduced_3pulses.xye')"
   ]
  },
  {
   "cell_type": "markdown",
   "metadata": {
    "editable": true,
    "slideshow": {
     "slide_type": ""
    },
    "tags": []
   },
   "source": [
    "With the data read in, we can produce a quick plot. "
   ]
  },
  {
   "cell_type": "code",
   "execution_count": null,
   "metadata": {
    "editable": true,
    "slideshow": {
     "slide_type": ""
    },
    "tags": []
   },
   "outputs": [],
   "source": [
    "import matplotlib.pyplot as plt\n",
    "\n",
    "fig, ax = plt.subplots()\n",
    "ax.errorbar(q, i, di, fmt='.')\n",
    "ax.set(yscale='log', xlabel='$t$/s', ylabel='I(t)')\n",
    "plt.show()"
   ]
  }
 ],
 "metadata": {
  "kernelspec": {
   "display_name": "Python 3 (ipykernel)",
   "language": "python",
   "name": "python3"
  },
  "language_info": {
   "codemirror_mode": {
    "name": "ipython",
    "version": 3
   },
   "file_extension": ".py",
   "mimetype": "text/x-python",
   "name": "python",
   "nbconvert_exporter": "python",
   "pygments_lexer": "ipython3",
   "version": "3.11.9"
  }
 },
 "nbformat": 4,
 "nbformat_minor": 4
}
