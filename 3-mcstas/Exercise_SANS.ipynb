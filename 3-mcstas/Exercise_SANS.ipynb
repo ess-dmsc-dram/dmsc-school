{
 "cells": [
  {
   "cell_type": "code",
   "execution_count": null,
   "id": "egyptian-salvation",
   "metadata": {
    "editable": true,
    "slideshow": {
     "slide_type": ""
    },
    "tags": [
     "solution",
     "hide-cell"
    ]
   },
   "outputs": [],
   "source": [
    "import mcstasscript as ms\n",
    "import make_SANS_instrument\n",
    "import quizlib"
   ]
  },
  {
   "cell_type": "code",
   "execution_count": null,
   "id": "obvious-meeting",
   "metadata": {
    "editable": true,
    "slideshow": {
     "slide_type": ""
    },
    "tags": []
   },
   "outputs": [],
   "source": [
    "quiz = quizlib.SANS_Quiz()"
   ]
  },
  {
   "cell_type": "code",
   "execution_count": null,
   "id": "bd898479-315c-4a20-ad34-b960efe390e8",
   "metadata": {
    "editable": true,
    "slideshow": {
     "slide_type": ""
    },
    "tags": [
     "solution",
     "hide-cell"
    ]
   },
   "outputs": [],
   "source": [
    "my_configurator = ms.Configurator()\n",
    "my_configurator.set_mcrun_path(\"/usr/bin/\")\n",
    "my_configurator.set_mcstas_path(\"/usr/share/mcstas/3.4/\")"
   ]
  },
  {
   "cell_type": "markdown",
   "id": "unexpected-mandate",
   "metadata": {
    "editable": true,
    "slideshow": {
     "slide_type": ""
    },
    "tags": []
   },
   "source": [
    "# SANS exercise\n",
    "\n",
    "In this notebook you will work with a McStas model of a simplified SANS instrument. You will have to answer questions in the notebook by working with this model, both by running simulations and expanding the model. We will use the Python McStas API McStasScript to work with the instrument, you can find documentation [here](https://mads-bertelsen.github.io).\n",
    "\n",
    "SANS is an abbreviation for Small Angle Neutron Scattering, and as the name suggests is concerned with neutrons scattered at very small angles.\n",
    "Here we will look at a sample in solution composed of some simple geometry, which will cause an interesting scattering pattern on the detector.\n",
    "\n",
    "### Get the instrument object\n",
    "First we need the McStas instrument object. Here it is retrieved from a local python function that generates it."
   ]
  },
  {
   "cell_type": "code",
   "execution_count": null,
   "id": "loose-workstation",
   "metadata": {
    "editable": true,
    "slideshow": {
     "slide_type": ""
    },
    "tags": []
   },
   "outputs": [],
   "source": [
    "instrument = make_SANS_instrument.make(input_path=\"run_folder\")"
   ]
  },
  {
   "cell_type": "markdown",
   "id": "continued-thong",
   "metadata": {
    "editable": true,
    "slideshow": {
     "slide_type": ""
    },
    "tags": []
   },
   "source": [
    "## Investigate instrument\n",
    "The first task is to investigate the instrument object `instrument` using some of the available methods available on that object. Each method that show something about the instrument starts with the word show, so you can use tab to autocomplete in the cell to see the relevant methods.\n",
    "\n",
    "In particular, look at what parameters are available and take a look at the instrument geometry."
   ]
  },
  {
   "cell_type": "code",
   "execution_count": null,
   "id": "conceptual-knitting",
   "metadata": {
    "editable": true,
    "slideshow": {
     "slide_type": ""
    },
    "tags": [
     "solution",
     "hide-cell"
    ]
   },
   "outputs": [],
   "source": [
    "instrument.show_parameters()"
   ]
  },
  {
   "cell_type": "code",
   "execution_count": null,
   "id": "secret-surrey",
   "metadata": {
    "editable": true,
    "slideshow": {
     "slide_type": ""
    },
    "tags": [
     "remove-cell",
     "dmsc-school-keep"
    ]
   },
   "outputs": [],
   "source": [
    "instrument.show_instrument()"
   ]
  },
  {
   "cell_type": "markdown",
   "id": "scientific-earthquake",
   "metadata": {
    "editable": true,
    "slideshow": {
     "slide_type": ""
    },
    "tags": []
   },
   "source": [
    "## Set parameters\n",
    "\n",
    "Before we run a simulation using the instrument, we need to set some parameters to the desired values.\n",
    "The most important one is the `detector_distance` parameter describing the distance between the sample and the detector.\n",
    "Given the need for high angular precision in determining the scattering angle of the neutron, which of these would be best?\n",
    "\n",
    "- A: 1 m\n",
    "- B: 2 m\n",
    "- C: 3 m"
   ]
  },
  {
   "cell_type": "code",
   "execution_count": null,
   "id": "2eae5a15-b070-4d56-b302-82d01cf436ab",
   "metadata": {
    "editable": true,
    "slideshow": {
     "slide_type": ""
    },
    "tags": [
     "remove-output"
    ]
   },
   "outputs": [],
   "source": [
    "quiz.question_1()"
   ]
  },
  {
   "cell_type": "code",
   "execution_count": null,
   "id": "separate-madonna",
   "metadata": {
    "editable": true,
    "slideshow": {
     "slide_type": ""
    },
    "tags": [
     "solution",
     "hide-cell"
    ]
   },
   "outputs": [],
   "source": [
    "quiz.question_1(\"C\")"
   ]
  },
  {
   "cell_type": "markdown",
   "id": "drawn-belarus",
   "metadata": {
    "editable": true,
    "slideshow": {
     "slide_type": ""
    },
    "tags": []
   },
   "source": [
    "Set the parameters of the instrument using the `set_parameters` method. In addition to the detector distance from the previous question, the parameters should be: \n",
    "- sample_distance: 150 m\n",
    "- wavelength: 6 Å\n",
    "- wavelength band: 1.5 Å\n",
    "- enable_sample: 0\n",
    "- n_pulses: 1"
   ]
  },
  {
   "cell_type": "code",
   "execution_count": null,
   "id": "southeast-weight",
   "metadata": {
    "editable": true,
    "slideshow": {
     "slide_type": ""
    },
    "tags": [
     "solution",
     "hide-cell"
    ]
   },
   "outputs": [],
   "source": [
    "instrument.set_parameters(\n",
    "    sample_distance=150,\n",
    "    wavelength=6,\n",
    "    d_wavelength=1.5,\n",
    "    enable_sample=0,\n",
    "    detector_distance=3,\n",
    ")"
   ]
  },
  {
   "cell_type": "code",
   "execution_count": null,
   "id": "moved-injury",
   "metadata": {
    "editable": true,
    "slideshow": {
     "slide_type": ""
    },
    "tags": [
     "hide-output"
    ]
   },
   "outputs": [],
   "source": [
    "# Test your instrument by giving it to the question_2 function\n",
    "quiz.question_2(instrument)"
   ]
  },
  {
   "cell_type": "markdown",
   "id": "bored-basin",
   "metadata": {
    "editable": true,
    "slideshow": {
     "slide_type": ""
    },
    "tags": []
   },
   "source": [
    "## Instrument settings\n",
    "Before running the simulation, a few settings pertaining to computing options need to be specified. This is done with a different method to clearly distinguish these from the instrument parameters. One important setting is called `output_path` which sets the name of the generated folder with simulation output."
   ]
  },
  {
   "cell_type": "code",
   "execution_count": null,
   "id": "infrared-major",
   "metadata": {
    "editable": true,
    "slideshow": {
     "slide_type": ""
    },
    "tags": []
   },
   "outputs": [],
   "source": [
    "instrument.settings(ncount=5e6, mpi=4, suppress_output=True, NeXus=True, output_path=\"first_run\")"
   ]
  },
  {
   "cell_type": "code",
   "execution_count": null,
   "id": "e29fd2b5-6602-48ee-8199-b3da388f92c1",
   "metadata": {
    "editable": true,
    "slideshow": {
     "slide_type": ""
    },
    "tags": [
     "remove-cell"
    ]
   },
   "outputs": [],
   "source": [
    "instrument.settings(mpi=2)"
   ]
  },
  {
   "cell_type": "markdown",
   "id": "featured-replica",
   "metadata": {
    "editable": true,
    "slideshow": {
     "slide_type": ""
    },
    "tags": []
   },
   "source": [
    "## Run the instrument\n",
    "Now the simulation can be executed with the `backengine` method. This method returns a list of data object. Store this returned data in a python variable named `data`."
   ]
  },
  {
   "cell_type": "code",
   "execution_count": null,
   "id": "addressed-mexican",
   "metadata": {
    "editable": true,
    "slideshow": {
     "slide_type": ""
    },
    "tags": [
     "solution"
    ]
   },
   "outputs": [],
   "source": [
    "data = instrument.backengine()\n",
    "data"
   ]
  },
  {
   "cell_type": "markdown",
   "id": "e2f1e4f3-2099-497e-afe2-fbf754322ba4",
   "metadata": {
    "editable": true,
    "slideshow": {
     "slide_type": ""
    },
    "tags": []
   },
   "source": [
    "### Visualize the data\n",
    "The data objects in the returned list can be plotted with the McStasScript function `make_plot`. The plots can be customized, use these keyword arguments:\n",
    "- log : True\n",
    "- orders_of_mag : 5 (maximum orders of magnitudes plotted when using logarithmic plotting)\n",
    "\n",
    "#### Plot overview\n",
    "The function should plot three graphs:\n",
    "##### 1D absorption logger\n",
    "This shows intensity along our single detector tube along its height y. Its coordinate system is such that 0 is 25 cm above the center of the beam.\n",
    "##### 1D TOF absorption logger\n",
    "Shows the same intensity as a function of the detector height, though here also as a function of when the neutron was detected. This one has the time axis restricted to show only one pulse.\n",
    "##### 1D TOF absorption logger\n",
    "Same as above, though will show all pulses if several are simulated."
   ]
  },
  {
   "cell_type": "code",
   "execution_count": null,
   "id": "controversial-wilderness",
   "metadata": {
    "editable": true,
    "slideshow": {
     "slide_type": ""
    },
    "tags": [
     "solution"
    ]
   },
   "outputs": [],
   "source": [
    "ms.make_plot(data, figsize=(7, 5), log=True, orders_of_mag=5)"
   ]
  },
  {
   "cell_type": "markdown",
   "id": "intermediate-isaac",
   "metadata": {
    "editable": true,
    "slideshow": {
     "slide_type": ""
    },
    "tags": []
   },
   "source": [
    "### Interpretation of the data\n",
    "The detector is a He3 tube centered 25 cm above the beam height and with a metal casing. \n",
    "\n",
    "What does the signal look like without sample?\n",
    "- A: Most of the signal close to the direct beam\n",
    "- B: Flat signal over detector height \n",
    "- C: Most of the signal is far away from the direct beam"
   ]
  },
  {
   "cell_type": "code",
   "execution_count": null,
   "id": "58335dd0-2bba-458d-9d59-2d36018c734b",
   "metadata": {
    "editable": true,
    "slideshow": {
     "slide_type": ""
    },
    "tags": [
     "remove-output"
    ]
   },
   "outputs": [],
   "source": [
    "quiz.question_3()"
   ]
  },
  {
   "cell_type": "code",
   "execution_count": null,
   "id": "worst-lease",
   "metadata": {
    "editable": true,
    "slideshow": {
     "slide_type": ""
    },
    "tags": [
     "solution",
     "hide-cell"
    ]
   },
   "outputs": [],
   "source": [
    "quiz.question_3(\"A\")"
   ]
  },
  {
   "cell_type": "markdown",
   "id": "minute-separation",
   "metadata": {
    "editable": true,
    "slideshow": {
     "slide_type": ""
    },
    "tags": []
   },
   "source": [
    "Is this a problem for a SANS instrument?\n",
    "- A: Yes\n",
    "- B: No"
   ]
  },
  {
   "cell_type": "code",
   "execution_count": null,
   "id": "d6d3a963-d95d-4435-bfb8-7a183cb252cc",
   "metadata": {
    "editable": true,
    "slideshow": {
     "slide_type": ""
    },
    "tags": [
     "remove-output"
    ]
   },
   "outputs": [],
   "source": [
    "quiz.question_4()"
   ]
  },
  {
   "cell_type": "code",
   "execution_count": null,
   "id": "substantial-activity",
   "metadata": {
    "editable": true,
    "slideshow": {
     "slide_type": ""
    },
    "tags": [
     "solution",
     "hide-cell"
    ]
   },
   "outputs": [],
   "source": [
    "quiz.question_4(\"A\")"
   ]
  },
  {
   "cell_type": "markdown",
   "id": "continued-gazette",
   "metadata": {
    "editable": true,
    "slideshow": {
     "slide_type": ""
    },
    "tags": []
   },
   "source": [
    "How can it be improved?\n",
    "- A: By adding a Velocity selector\n",
    "- B: By adding a Chopper\n",
    "- C: By adding a Beamstop\n",
    "- D: By adding a Slit"
   ]
  },
  {
   "cell_type": "code",
   "execution_count": null,
   "id": "7e5b1612-ca67-4830-99f2-971f8d7d98b2",
   "metadata": {
    "editable": true,
    "slideshow": {
     "slide_type": ""
    },
    "tags": [
     "remove-output"
    ]
   },
   "outputs": [],
   "source": [
    "quiz.question_5()"
   ]
  },
  {
   "cell_type": "code",
   "execution_count": null,
   "id": "alpine-kuwait",
   "metadata": {
    "editable": true,
    "slideshow": {
     "slide_type": ""
    },
    "tags": [
     "solution",
     "hide-cell"
    ]
   },
   "outputs": [],
   "source": [
    "quiz.question_5(\"C\")"
   ]
  },
  {
   "cell_type": "markdown",
   "id": "substantial-navigation",
   "metadata": {
    "editable": true,
    "slideshow": {
     "slide_type": ""
    },
    "tags": []
   },
   "source": [
    "## Improve the instrument\n",
    "\n",
    "In order to improve the performance of the instrument, we will add a McStas component corresponding to the answer of question 5.\n",
    "The first aspect to consider when adding a component is where to place it, both in the component sequence and its physical location.\n",
    "The position in the component sequence needs to be specified when adding the component, so this will be the first decision.\n",
    "\n",
    "### McStas component sequence \n",
    "\n",
    "Use either the `show_diagram` or `show_components` method on the instrument object to get an overview of the component sequence in the instrument.\n",
    "Where would you place the new component?\n",
    "\n",
    "- A: After the source\n",
    "- B: Before the sample position\n",
    "- C: After the sample position\n",
    "- D: Before the detector position"
   ]
  },
  {
   "cell_type": "code",
   "execution_count": null,
   "id": "composite-difference",
   "metadata": {
    "editable": true,
    "slideshow": {
     "slide_type": ""
    },
    "tags": [
     "solution"
    ]
   },
   "outputs": [],
   "source": [
    "instrument.show_diagram()"
   ]
  },
  {
   "cell_type": "code",
   "execution_count": null,
   "id": "3cf51422-f934-4dcf-8947-2d940fca2d6c",
   "metadata": {
    "editable": true,
    "slideshow": {
     "slide_type": ""
    },
    "tags": [
     "remove-output"
    ]
   },
   "outputs": [],
   "source": [
    "quiz.question_6()"
   ]
  },
  {
   "cell_type": "code",
   "execution_count": null,
   "id": "religious-equality",
   "metadata": {
    "editable": true,
    "slideshow": {
     "slide_type": ""
    },
    "tags": [
     "solution",
     "hide-cell"
    ]
   },
   "outputs": [],
   "source": [
    "quiz.question_6(\"D\")"
   ]
  },
  {
   "cell_type": "markdown",
   "id": "authorized-recovery",
   "metadata": {
    "editable": true,
    "slideshow": {
     "slide_type": ""
    },
    "tags": []
   },
   "source": [
    "### Which component\n",
    "\n",
    "Now we need to select what type of component to add to the instrument, here we will need the `Beamstop` component.\n",
    "Use the `component_help` method on the instrument to learn more about this component."
   ]
  },
  {
   "cell_type": "code",
   "execution_count": null,
   "id": "recent-asian",
   "metadata": {
    "editable": true,
    "slideshow": {
     "slide_type": ""
    },
    "tags": [
     "solution",
     "hide-cell"
    ]
   },
   "outputs": [],
   "source": [
    "instrument.component_help(\"Beamstop\")"
   ]
  },
  {
   "cell_type": "markdown",
   "id": "young-liquid",
   "metadata": {
    "editable": true,
    "slideshow": {
     "slide_type": ""
    },
    "tags": []
   },
   "source": [
    "### Add beamstop component and set parameters\n",
    "\n",
    "Use the `add_component` method on the instrument to add a beamstop.\n",
    "Place it in the component sequence according to your answer in question 6 by using either the `before` or `after` keyword arguments in `add_component`. The `add_component` method returns the component object, save that in a Python variable.\n",
    "\n",
    "The component should have these parameters set:\n",
    "- `xwidth`: 0.1 m\n",
    "- `yheight`: 0.02 m\n",
    "\n",
    "After adding the component to the instrument object, provide the instrument object to the question 7 so it can be confirmed that the component was added correctly."
   ]
  },
  {
   "cell_type": "code",
   "execution_count": null,
   "id": "built-venezuela",
   "metadata": {
    "editable": true,
    "slideshow": {
     "slide_type": ""
    },
    "tags": [
     "solution",
     "hide-cell"
    ]
   },
   "outputs": [],
   "source": [
    "beamstop = instrument.add_component(\"beamstop\", \"Beamstop\", before=\"detector_position\")\n",
    "beamstop.set_parameters(xwidth=0.1, yheight=0.02)"
   ]
  },
  {
   "cell_type": "code",
   "execution_count": null,
   "id": "lesser-retrieval",
   "metadata": {
    "editable": true,
    "slideshow": {
     "slide_type": ""
    },
    "tags": [
     "hide-output"
    ]
   },
   "outputs": [],
   "source": [
    "# Validate instrument again\n",
    "quiz.question_7(instrument)"
   ]
  },
  {
   "cell_type": "markdown",
   "id": "engaging-terminal",
   "metadata": {
    "editable": true,
    "slideshow": {
     "slide_type": ""
    },
    "tags": []
   },
   "source": [
    "### Placing the component in space\n",
    "\n",
    "The next decision is the physical location of the component, this is done using the `set_AT` method on component object.\n",
    "This method takes a list of 3 numbers, corresponding to the `x`, `y` and `z` coordinates of the component.\n",
    "\n",
    "One can also specify in what coordinate system one wants to work, this can be that of any preceding component.\n",
    "Use the `RELATIVE` keyword to work in the `sample_position` coordinate system. The instrument has a parameter called `detector_distance`, use this to place the beamstop 90% of the way from the sample to the detector.\n",
    "\n",
    "After setting the position of the beamstop component, provide the instrument object to question 8 so it can be checked it was updated correctly."
   ]
  },
  {
   "cell_type": "code",
   "execution_count": null,
   "id": "overhead-marriage",
   "metadata": {
    "editable": true,
    "slideshow": {
     "slide_type": ""
    },
    "tags": [
     "solution",
     "hide-cell"
    ]
   },
   "outputs": [],
   "source": [
    "beamstop.set_AT([0, 0, \"0.9*detector_distance\"], RELATIVE=\"sample_position\")"
   ]
  },
  {
   "cell_type": "code",
   "execution_count": null,
   "id": "acute-depression",
   "metadata": {
    "editable": true,
    "slideshow": {
     "slide_type": ""
    },
    "tags": [
     "hide-output"
    ]
   },
   "outputs": [],
   "source": [
    "quiz.question_8(instrument)"
   ]
  },
  {
   "cell_type": "markdown",
   "id": "thick-precipitation",
   "metadata": {
    "editable": true,
    "slideshow": {
     "slide_type": ""
    },
    "tags": []
   },
   "source": [
    "### Verify new component\n",
    "Now that the beamstop has been added to the instrument, lets show the component sequence again to verify it was added correctly."
   ]
  },
  {
   "cell_type": "code",
   "execution_count": null,
   "id": "original-carnival",
   "metadata": {
    "editable": true,
    "slideshow": {
     "slide_type": ""
    },
    "tags": [
     "solution"
    ]
   },
   "outputs": [],
   "source": [
    "instrument.show_diagram()"
   ]
  },
  {
   "cell_type": "markdown",
   "id": "narrow-dealing",
   "metadata": {
    "editable": true,
    "slideshow": {
     "slide_type": ""
    },
    "tags": []
   },
   "source": [
    "## Run improved instrument\n",
    "\n",
    "Run the improved instrument with the following parameters:\n",
    "\n",
    "- `sample_distance`: 150 m\n",
    "- `d_wavelength`: 1.5 Å\n",
    "- `enable_sample`: 0\n",
    "- `n_pulses`: 1\n",
    "- `integration_time`: 5E4 s\n",
    "- `detector_distance`: 3 m\n",
    "\n",
    "We set a long integration time as this corresponds to a calibration run done just once, and by running this for a longer time the statistical error will be smaller.\n",
    "\n",
    "Store the returned data in a variable called `background_data`. Name the generated data folder \"SANS_without_sample_1_pulse\" using the *output_path* argument in the `settings` method of the instrument."
   ]
  },
  {
   "cell_type": "code",
   "execution_count": null,
   "id": "genuine-plant",
   "metadata": {
    "editable": true,
    "slideshow": {
     "slide_type": ""
    },
    "tags": [
     "solution"
    ]
   },
   "outputs": [],
   "source": [
    "instrument.set_parameters(enable_sample=0, d_wavelength=1.5, n_pulses=1,\n",
    "                          detector_distance=3, integration_time=5e4)\n",
    "instrument.settings(output_path=\"SANS_without_sample_1_pulse\")\n",
    "\n",
    "background_data = instrument.backengine()\n",
    "background_data"
   ]
  },
  {
   "cell_type": "markdown",
   "id": "da1a24c1-7dd2-4fb6-909d-1e3c3a66bf5d",
   "metadata": {
    "editable": true,
    "slideshow": {
     "slide_type": ""
    },
    "tags": []
   },
   "source": [
    "Plot the resulting data."
   ]
  },
  {
   "cell_type": "code",
   "execution_count": null,
   "id": "interesting-processing",
   "metadata": {
    "editable": true,
    "slideshow": {
     "slide_type": ""
    },
    "tags": [
     "solution"
    ]
   },
   "outputs": [],
   "source": [
    "ms.make_plot(background_data, figsize=(7, 5), log=True, orders_of_mag=5)"
   ]
  },
  {
   "cell_type": "markdown",
   "id": "satisfactory-october",
   "metadata": {
    "editable": true,
    "slideshow": {
     "slide_type": ""
    },
    "tags": []
   },
   "source": [
    "Do you see an improvement compared to earlier results?\n",
    "- A: Yes\n",
    "- B: No"
   ]
  },
  {
   "cell_type": "code",
   "execution_count": null,
   "id": "886d61a8-b0f4-4fc6-a58f-8f6c3f7e4647",
   "metadata": {
    "editable": true,
    "slideshow": {
     "slide_type": ""
    },
    "tags": [
     "remove-output"
    ]
   },
   "outputs": [],
   "source": [
    "quiz.question_9()"
   ]
  },
  {
   "cell_type": "code",
   "execution_count": null,
   "id": "cardiac-boulder",
   "metadata": {
    "editable": true,
    "slideshow": {
     "slide_type": ""
    },
    "tags": [
     "solution",
     "hide-cell"
    ]
   },
   "outputs": [],
   "source": [
    "quiz.question_9(\"A\")"
   ]
  },
  {
   "cell_type": "markdown",
   "id": "empty-addiction",
   "metadata": {
    "editable": true,
    "slideshow": {
     "slide_type": ""
    },
    "tags": []
   },
   "source": [
    "## Run with sample\n",
    "\n",
    "Its time to add the sample, this can be done by updating the `enable_sample` parameter to 1 and calling the `backengine` method again. Here the integration time should be smaller, 500 s, as this run correspond to one of many measurements of different samples. Save the data in a variable called `sample_data` and use the settings method to provide a reasonable name to the run using the *output_path* argument."
   ]
  },
  {
   "cell_type": "code",
   "execution_count": null,
   "id": "straight-border",
   "metadata": {
    "editable": true,
    "slideshow": {
     "slide_type": ""
    },
    "tags": [
     "solution"
    ]
   },
   "outputs": [],
   "source": [
    "instrument.settings(output_path=\"SANS_with_sample_1_pulse\")\n",
    "instrument.set_parameters(enable_sample=1, integration_time=500)\n",
    "\n",
    "sample_data = instrument.backengine()"
   ]
  },
  {
   "cell_type": "markdown",
   "id": "666e7f11-2c1a-4a2b-bcca-fa3033279cf9",
   "metadata": {
    "editable": true,
    "slideshow": {
     "slide_type": ""
    },
    "tags": []
   },
   "source": [
    "Plot the resulting data."
   ]
  },
  {
   "cell_type": "code",
   "execution_count": null,
   "id": "95267e8e-a988-4add-8adf-7dd48cb258e6",
   "metadata": {
    "editable": true,
    "slideshow": {
     "slide_type": ""
    },
    "tags": []
   },
   "outputs": [],
   "source": [
    "ms.make_plot(sample_data, figsize=(7, 5), log=True, orders_of_mag=5)"
   ]
  },
  {
   "cell_type": "markdown",
   "id": "objective-cholesterol",
   "metadata": {
    "editable": true,
    "slideshow": {
     "slide_type": ""
    },
    "tags": []
   },
   "source": [
    "Compare the results with and without sample. Where on the detector is the difference largest?\n",
    "- A: Lowest part of the detector\n",
    "- B: Middle of the detector\n",
    "- C: Top of the detector"
   ]
  },
  {
   "cell_type": "code",
   "execution_count": null,
   "id": "cultural-spanking",
   "metadata": {
    "editable": true,
    "slideshow": {
     "slide_type": ""
    },
    "tags": [
     "remove-output"
    ]
   },
   "outputs": [],
   "source": [
    "quiz.question_10()"
   ]
  },
  {
   "cell_type": "code",
   "execution_count": null,
   "id": "696d5ad8-3e90-4de4-ab95-e5d15f97857b",
   "metadata": {
    "editable": true,
    "slideshow": {
     "slide_type": ""
    },
    "tags": [
     "solution",
     "hide-cell"
    ]
   },
   "outputs": [],
   "source": [
    "quiz.question_10(\"A\")"
   ]
  },
  {
   "cell_type": "markdown",
   "id": "ae47e2fa-8fcd-4e53-8280-1a559557226b",
   "metadata": {
    "editable": true,
    "slideshow": {
     "slide_type": ""
    },
    "tags": []
   },
   "source": [
    "## Increase the number of pulses\n",
    "\n",
    "Your final task is to re-run the simulations with and without sample,\n",
    "using 3 pulses from the source instead of 1 which was used so far. This is controlled using the *n_pulses* parameter on the instrument object. Set integration time to 5E4 s when running without sample and 500 s when running with sample. We will use this data throughout the exercises for the rest of the school.\n",
    "\n",
    "**Hints:**\n",
    "\n",
    "- Change the destination folder so that you don't overwrite the results from the 1-pulse simulations.\n",
    "- Remember to adjust the `ncount` accordingly, we would like 3 times more rays now that we use 3 pulses."
   ]
  },
  {
   "cell_type": "code",
   "execution_count": null,
   "id": "809edf30-91e3-413f-82cd-627366648244",
   "metadata": {
    "editable": true,
    "slideshow": {
     "slide_type": ""
    },
    "tags": [
     "hide-cell",
     "solution"
    ]
   },
   "outputs": [],
   "source": [
    "# Without sample\n",
    "instrument.settings(ncount=1.5e7, output_path=\"SANS_without_sample_3_pulse\")\n",
    "instrument.set_parameters(enable_sample=0, n_pulses=3, integration_time=5e4)\n",
    "background_3_pulses = instrument.backengine()\n",
    "\n",
    "# With sample\n",
    "instrument.settings(ncount=1.5e7, output_path=\"SANS_with_sample_3_pulse\")\n",
    "instrument.set_parameters(enable_sample=1, n_pulses=3, integration_time=500)\n",
    "sample_3_pulses = instrument.backengine()"
   ]
  },
  {
   "cell_type": "markdown",
   "id": "ef52c71e-e802-464d-b0cd-b1b339d22c3c",
   "metadata": {
    "editable": true,
    "slideshow": {
     "slide_type": ""
    },
    "tags": []
   },
   "source": [
    "### Compare results with shorter runs\n",
    "By saving the results in different python variables, you can compare the two runs by plotting each. Use of the `make_sub_plot` function might make it easier to view each monitor side by side."
   ]
  },
  {
   "cell_type": "code",
   "execution_count": null,
   "id": "1c2336ef-01c5-4a96-98d3-b13758a6cf64",
   "metadata": {
    "editable": true,
    "slideshow": {
     "slide_type": ""
    },
    "tags": [
     "solution",
     "hide-cell"
    ]
   },
   "outputs": [],
   "source": [
    "def compare_monitors(monitor_name):\n",
    "    sample_low_ncount = ms.name_search(monitor_name, sample_data)\n",
    "    sample_high_ncount = ms.name_search(monitor_name, sample_3_pulses)\n",
    "    ms.make_sub_plot([sample_low_ncount, sample_high_ncount], log=True, orders_of_mag=5)    \n",
    "\n",
    "compare_monitors(\"signal\")"
   ]
  },
  {
   "cell_type": "code",
   "execution_count": null,
   "id": "5a1ba6e5-22ce-43aa-8302-f43efb372fe3",
   "metadata": {
    "editable": true,
    "slideshow": {
     "slide_type": ""
    },
    "tags": [
     "solution",
     "hide-cell"
    ]
   },
   "outputs": [],
   "source": [
    "compare_monitors(\"signal_tof_all\")"
   ]
  },
  {
   "cell_type": "code",
   "execution_count": null,
   "id": "841008b1-5a0f-445a-be74-67749fa194dc",
   "metadata": {
    "editable": true,
    "slideshow": {
     "slide_type": ""
    },
    "tags": [
     "solution",
     "hide-cell"
    ]
   },
   "outputs": [],
   "source": [
    "compare_monitors(\"signal_tof\")"
   ]
  },
  {
   "cell_type": "code",
   "execution_count": null,
   "id": "d722a296-ecbd-4407-b990-d0df5e8f0b3a",
   "metadata": {
    "editable": true,
    "slideshow": {
     "slide_type": ""
    },
    "tags": []
   },
   "outputs": [],
   "source": []
  }
 ],
 "metadata": {
  "celltoolbar": "Tags",
  "kernelspec": {
   "display_name": "Python 3 (ipykernel)",
   "language": "python",
   "name": "python3"
  },
  "language_info": {
   "codemirror_mode": {
    "name": "ipython",
    "version": 3
   },
   "file_extension": ".py",
   "mimetype": "text/x-python",
   "name": "python",
   "nbconvert_exporter": "python",
   "pygments_lexer": "ipython3",
   "version": "3.10.14"
  }
 },
 "nbformat": 4,
 "nbformat_minor": 5
}
