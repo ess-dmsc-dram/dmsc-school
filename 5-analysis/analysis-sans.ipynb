{
 "cells": [
  {
   "cell_type": "markdown",
   "metadata": {
    "editable": true,
    "slideshow": {
     "slide_type": ""
    },
    "tags": []
   },
   "source": [
    "# Fitting SANS data\n",
    "\n",
    "Previously, some small angle neutron scattering (SANS) data has been [simulated](./../3-mcstas/mcstas-sans.ipynb) and [reduced](./../4-scipp/reduction-sans.ipynb), and can now be analysed with `easyscience`.\n",
    "Before the analysis can begin, it is necessary to load the experimental data and check that it looks reasonable. \n",
    "The data can be loaded with `np.loadtxt` as the data has been stored in a simple space-separated column file. "
   ]
  },
  {
   "cell_type": "code",
   "execution_count": null,
   "metadata": {
    "editable": true,
    "slideshow": {
     "slide_type": ""
    },
    "tags": []
   },
   "outputs": [],
   "source": [
    "import numpy as np\n",
    "import utils"
   ]
  },
  {
   "cell_type": "code",
   "execution_count": null,
   "metadata": {},
   "outputs": [],
   "source": [
    "filename = '../4-reduction/sans_iofq.dat'"
   ]
  },
  {
   "cell_type": "markdown",
   "metadata": {},
   "source": [
    "⚠️ **If you did not complete the SANS data reduction yesterday**,\n",
    "you can use some pre-prepared data by uncommenting and running the cell below:"
   ]
  },
  {
   "cell_type": "code",
   "execution_count": null,
   "metadata": {},
   "outputs": [],
   "source": [
    "filename = utils.fetch_data(\"4-reduction/sans_iofq.dat\")"
   ]
  },
  {
   "cell_type": "code",
   "execution_count": null,
   "metadata": {
    "editable": true,
    "slideshow": {
     "slide_type": ""
    },
    "tags": []
   },
   "outputs": [],
   "source": [
    "q, i, di = utils.load(filename)"
   ]
  },
  {
   "cell_type": "markdown",
   "metadata": {
    "editable": true,
    "slideshow": {
     "slide_type": ""
    },
    "tags": []
   },
   "source": [
    "With the data read in, we can produce a quick plot. "
   ]
  },
  {
   "cell_type": "code",
   "execution_count": null,
   "metadata": {
    "editable": true,
    "slideshow": {
     "slide_type": ""
    },
    "tags": []
   },
   "outputs": [],
   "source": [
    "import matplotlib.pyplot as plt\n",
    "\n",
    "fig, ax = plt.subplots()\n",
    "ax.errorbar(q, i, di, fmt='.')\n",
    "ax.set(yscale='log', xlabel='$q$/Å^-1', ylabel='I(q)')\n",
    "plt.show()"
   ]
  },
  {
   "cell_type": "markdown",
   "metadata": {
    "editable": true,
    "slideshow": {
     "slide_type": ""
    },
    "tags": []
   },
   "source": [
    "We now want to consider the mathematical model to be used in the analysis. \n",
    "There are SANS models a range of different systems, see for instance [the models in SasView](https://www.sasview.org/docs/user/qtgui/Perspectives/Fitting/models/index.html). \n",
    "However, initially, we will assume that our data has arisen from a spherical system. \n",
    "\n",
    "The mathematical model for a sphere is \n",
    "\n",
    "$$\n",
    "I(q) = \\frac{\\text{scale}}{V} \\bigg(\\frac{3 V \\Delta \\rho [\\sin{(qr)} - qr \\cos{(qr)}]}{(qr)^3}\\bigg)^2 + \\text{bkg}, \n",
    "$$ (sphere)\n",
    "\n",
    "where $\\text{scale}$ is a scale factor, $V$ is the volume of the sphere, $\\Delta \\rho$ is the difference between the solvent and particle scattering length density, $r$ is the radius of the sphere, $\\text{bkg}$ is a uniform background, and $q$ is the *q*-vector that the intensity is being calculated for.\n",
    "\n",
    "## Exercise 1: simplify the expression\n",
    "\n",
    "The mathematical model described in Eqn. {eq}`sphere` has five parameters. \n",
    "What simple mathematical simplification can be performed to reduce this to four?\n",
    "\n",
    "**Solution:**"
   ]
  },
  {
   "cell_type": "markdown",
   "metadata": {
    "editable": true,
    "slideshow": {
     "slide_type": ""
    },
    "tags": [
     "hide-cell",
     "solution"
    ]
   },
   "source": [
    "```{toggle}\n",
    "The volume of a sphere is related to the radius of the sphere as \n",
    "\n",
    "$$\n",
    "V = \\frac{4}{3} \\pi r^3. \n",
    "$$ (volume-sphere)\n",
    "\n",
    "Therefore, the parameter $V$ can be replaced with Eqn. {eq}`volume-sphere`.\n",
    "```"
   ]
  },
  {
   "cell_type": "markdown",
   "metadata": {},
   "source": [
    "## Exercise 2: write a function that computes for the form factor of a sphere\n",
    "\n",
    "Four parameters is a suitable number for modelling. \n",
    "Therefore, we should write a function that implements your reduced dimensionality version of Eqn. {eq}`sphere`."
   ]
  },
  {
   "cell_type": "code",
   "execution_count": null,
   "metadata": {
    "editable": true,
    "slideshow": {
     "slide_type": ""
    },
    "tags": [
     "hide-cell",
     "solution"
    ]
   },
   "outputs": [],
   "source": [
    "def sphere(q):\n",
    "    \"\"\"\n",
    "    The function for the form factor of a sphere. \n",
    "    \n",
    "    Parameters\n",
    "    ----------\n",
    "    q: \n",
    "        q-vectors to calculate for.\n",
    "    \n",
    "    Returns\n",
    "    -------\n",
    "    : \n",
    "        The modelled intensity.\n",
    "    \"\"\"\n",
    "    qr = q * r.value\n",
    "    V = 4 / 3 * np.pi * r.value ** 3\n",
    "    return scale.value / V * (3 * V * delta_rho.value * (np.sin(qr) - qr * np.cos(qr)) / ((qr) ** 3)) ** 2 + bkg.value"
   ]
  },
  {
   "cell_type": "markdown",
   "metadata": {},
   "source": [
    "## Exercise 3: create fitting parameters\n",
    "\n",
    "Create four `Parameter` objects, for $\\text{scale}$, $\\Delta \\rho$, $r$, and $\\text{bkg}$.\n",
    "\n",
    "Each should have an initial value and a uniform prior distribution based on the values given in {numref}`sans-parameters`, except for the $\\text{scale}$ which should be fixed to a value of 1.4 &times; 10<sup>-7</sup>."
   ]
  },
  {
   "cell_type": "markdown",
   "metadata": {
    "tags": [
     "remove-cell",
     "dmsc-school-keep"
    ]
   },
   "source": [
    "| Parameter | Initial Value | Min | Max |\n",
    "| --- | --- | --- | --- |\n",
    "| $\\text{scale}$ | 1.4 &times; 10<sup>-7</sup> | N/A | N/A |\n",
    "| $\\Delta \\rho$ | 3 | 0 | 10 |\n",
    "| $r$ | 80 | 10 | 1000 |\n",
    "| $\\text{bkg}$ | 3.0 &times; 10<sup>-3</sup> | 1.0 &times; 10<sup>-3</sup> | 1.0 &times; 10<sup>-2</sup> |"
   ]
  },
  {
   "cell_type": "markdown",
   "metadata": {
    "editable": true,
    "slideshow": {
     "slide_type": ""
    },
    "tags": [
     "dmsc-school-remove"
    ]
   },
   "source": [
    "```{list-table} Parameter values for the spherical model.\n",
    ":name: sans-parameters\n",
    ":header-rows: 1\n",
    ":align: center\n",
    "\n",
    "* - Parameter\n",
    "  - Initial Value\n",
    "  - Min\n",
    "  - Max\n",
    "* - $\\text{scale}$\n",
    "  - 1.4 &times; 10<sup>-8</sup>\n",
    "  - N/A\n",
    "  - N/A\n",
    "* - $\\Delta \\rho$\n",
    "  - 3\n",
    "  - 0\n",
    "  - 10\n",
    "* - $r$\n",
    "  - 80\n",
    "  - 10\n",
    "  - 1000\n",
    "* - $\\text{bkg}$\n",
    "  - 3.0 &times; 10<sup>-3</sup>\n",
    "  - 1.0 &times; 10<sup>-3</sup>\n",
    "  - 1.0 &times; 10<sup>-2</sup>\n",
    "```"
   ]
  },
  {
   "cell_type": "markdown",
   "metadata": {},
   "source": [
    "**Solution:**"
   ]
  },
  {
   "cell_type": "code",
   "execution_count": null,
   "metadata": {
    "editable": true,
    "slideshow": {
     "slide_type": ""
    },
    "tags": [
     "hide-cell",
     "solution"
    ]
   },
   "outputs": [],
   "source": [
    "from easyscience.Objects.variable import Parameter\n",
    "\n",
    "scale = Parameter(name='scale', value=1.4e-7, fixed=True)\n",
    "delta_rho = Parameter(name='delta_rho', value=3, fixed=False, min=0, max=10)\n",
    "r = Parameter(name='r', value=80, fixed=False, min=0, max=1000)\n",
    "bkg = Parameter(name='bkg', value=0.01, fixed=False, min=0.001, max=0.1)"
   ]
  },
  {
   "cell_type": "markdown",
   "metadata": {
    "editable": true,
    "slideshow": {
     "slide_type": ""
    },
    "tags": []
   },
   "source": [
    "It is now possible to compare our model at the initial estimates to the simulated data. "
   ]
  },
  {
   "cell_type": "code",
   "execution_count": null,
   "metadata": {
    "editable": true,
    "slideshow": {
     "slide_type": ""
    },
    "tags": []
   },
   "outputs": [],
   "source": [
    "fig, ax = plt.subplots()\n",
    "ax.errorbar(q, i, di, fmt='.')\n",
    "ax.plot(q, sphere(q), '-k', zorder=10)\n",
    "ax.set(yscale='log', xlabel='$q$/Å^-1', ylabel='I(q)')\n",
    "plt.show()"
   ]
  },
  {
   "cell_type": "markdown",
   "metadata": {
    "editable": true,
    "slideshow": {
     "slide_type": ""
    },
    "tags": []
   },
   "source": [
    "## Exercise 4: find maximum likelihood estimates\n",
    "\n",
    "Using `easyscience`, obtain maximum likelihood estimates for the four parameters of the model from comparison with the data.\n",
    "\n",
    "**Solution:**"
   ]
  },
  {
   "cell_type": "code",
   "execution_count": null,
   "metadata": {
    "editable": true,
    "slideshow": {
     "slide_type": ""
    },
    "tags": [
     "hide-cell",
     "solution"
    ]
   },
   "outputs": [],
   "source": [
    "from easyscience.Objects.ObjectClasses import BaseObj\n",
    "from easyscience.fitting import Fitter\n",
    "\n",
    "params = BaseObj(name='params', delta_rho=delta_rho, r=r, bkg=bkg)\n",
    "f = Fitter(params, sphere)\n",
    "\n",
    "res = f.fit(x=q, y=i, weights=1/di)"
   ]
  },
  {
   "cell_type": "markdown",
   "metadata": {
    "editable": true,
    "slideshow": {
     "slide_type": ""
    },
    "tags": []
   },
   "source": [
    "We can then plot the model and the data together as before and print the values of the parameters along with their uncertainties. "
   ]
  },
  {
   "cell_type": "code",
   "execution_count": null,
   "metadata": {
    "editable": true,
    "slideshow": {
     "slide_type": ""
    },
    "tags": []
   },
   "outputs": [],
   "source": [
    "fig, ax = plt.subplots()\n",
    "ax.errorbar(q, i, di, fmt='.')\n",
    "ax.plot(q, sphere(q), '-k', zorder=10)\n",
    "ax.set(yscale='log', xlabel='$q$/Å^-1', ylabel='I(q)')\n",
    "plt.show()"
   ]
  },
  {
   "cell_type": "code",
   "execution_count": null,
   "metadata": {
    "editable": true,
    "slideshow": {
     "slide_type": ""
    },
    "tags": []
   },
   "outputs": [],
   "source": [
    "delta_rho, r, bkg"
   ]
  }
 ],
 "metadata": {
  "kernelspec": {
   "display_name": "Python 3 (ipykernel)",
   "language": "python",
   "name": "python3"
  },
  "language_info": {
   "codemirror_mode": {
    "name": "ipython",
    "version": 3
   },
   "file_extension": ".py",
   "mimetype": "text/x-python",
   "name": "python",
   "nbconvert_exporter": "python",
   "pygments_lexer": "ipython3",
   "version": "3.12.11"
  }
 },
 "nbformat": 4,
 "nbformat_minor": 4
}
