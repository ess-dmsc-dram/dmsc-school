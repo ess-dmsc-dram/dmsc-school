{
 "cells": [
  {
   "cell_type": "code",
   "execution_count": null,
   "metadata": {},
   "outputs": [],
   "source": [
    "%matplotlib widget"
   ]
  },
  {
   "cell_type": "code",
   "execution_count": null,
   "id": "egyptian-salvation",
   "metadata": {
    "editable": true,
    "slideshow": {
     "slide_type": ""
    },
    "tags": []
   },
   "outputs": [],
   "source": [
    "import mcstasscript as ms\n",
    "import make_SANS_instrument\n",
    "import quizlib"
   ]
  },
  {
   "cell_type": "code",
   "execution_count": null,
   "id": "obvious-meeting",
   "metadata": {
    "editable": true,
    "slideshow": {
     "slide_type": ""
    },
    "tags": []
   },
   "outputs": [],
   "source": [
    "quiz = quizlib.SANS_Quiz()"
   ]
  },
  {
   "cell_type": "markdown",
   "id": "unexpected-mandate",
   "metadata": {
    "editable": true,
    "slideshow": {
     "slide_type": ""
    },
    "tags": []
   },
   "source": [
    "# SANS exercise\n",
    "\n",
    "In this notebook you will work with a McStas model of a simplified SANS instrument. You will have to answer questions in the notebook by working with this model, both by running simulations and expanding the model. We will use the Python McStas API McStasScript to work with the instrument, you can find documentation [here](https://mads-bertelsen.github.io).\n",
    "\n",
    "SANS is an abbreviation for Small Angle Neutron Scattering, and as the name suggests is concerned with neutrons scattered at very small angles.\n",
    "Here we will look at a sample in solution composed of some simple geometry, which will cause an interesting scattering pattern on the detector.\n",
    "\n",
    "## Get the instrument object\n",
    "First we need the McStas instrument object. Here it is retrieved from a local python function that generates it."
   ]
  },
  {
   "cell_type": "code",
   "execution_count": null,
   "id": "loose-workstation",
   "metadata": {
    "editable": true,
    "slideshow": {
     "slide_type": ""
    },
    "tags": []
   },
   "outputs": [],
   "source": [
    "instrument = make_SANS_instrument.make()"
   ]
  },
  {
   "cell_type": "markdown",
   "id": "continued-thong",
   "metadata": {
    "editable": true,
    "slideshow": {
     "slide_type": ""
    },
    "tags": []
   },
   "source": [
    "## Investigate instrument\n",
    "The first task is to investigate the instrument object `instrument` using some of the available methods available on that object. Each method that show something about the instrument starts with the word show, so you can use tab to autocomplete in the cell to see the relevant methods.\n",
    "\n",
    "In particular, look at what parameters are available and take a look at the instrument geometry."
   ]
  },
  {
   "cell_type": "code",
   "execution_count": null,
   "metadata": {},
   "outputs": [],
   "source": [
    "# Insert your solution:\n"
   ]
  },
  {
   "cell_type": "code",
   "execution_count": null,
   "id": "secret-surrey",
   "metadata": {
    "editable": true,
    "slideshow": {
     "slide_type": ""
    },
    "tags": [
     "remove-cell",
     "dmsc-school-keep"
    ]
   },
   "outputs": [],
   "source": [
    "instrument.show_instrument(format='window')"
   ]
  },
  {
   "cell_type": "markdown",
   "id": "scientific-earthquake",
   "metadata": {
    "editable": true,
    "slideshow": {
     "slide_type": ""
    },
    "tags": []
   },
   "source": [
    "## Set parameters\n",
    "\n",
    "Before we run a simulation using the instrument, we need to set some parameters to the desired values.\n",
    "The most important one is the `detector_distance` parameter describing the distance between the sample and the detector.\n",
    "Given the need for high angular precision in determining the scattering angle of the neutron, which of these would be best?\n",
    "\n",
    "- A: 1 m\n",
    "- B: 2 m\n",
    "- C: 3 m"
   ]
  },
  {
   "cell_type": "code",
   "execution_count": null,
   "id": "2eae5a15-b070-4d56-b302-82d01cf436ab",
   "metadata": {
    "editable": true,
    "slideshow": {
     "slide_type": ""
    },
    "tags": [
     "remove-output"
    ]
   },
   "outputs": [],
   "source": [
    "quiz.question_1()"
   ]
  },
  {
   "cell_type": "markdown",
   "id": "drawn-belarus",
   "metadata": {
    "editable": true,
    "slideshow": {
     "slide_type": ""
    },
    "tags": []
   },
   "source": [
    "Set the parameters of the instrument using the `set_parameters` method. In addition to the detector distance from the previous question, the parameters should be: \n",
    "- sample_distance: 150 m\n",
    "- wavelength: 6 \u00c5\n",
    "- wavelength band: 1.5 \u00c5\n",
    "- enable_sample: 0\n",
    "- n_pulses: 1"
   ]
  },
  {
   "cell_type": "code",
   "execution_count": null,
   "metadata": {},
   "outputs": [],
   "source": [
    "# Insert your solution:\n"
   ]
  },
  {
   "cell_type": "code",
   "execution_count": null,
   "id": "moved-injury",
   "metadata": {
    "editable": true,
    "slideshow": {
     "slide_type": ""
    },
    "tags": [
     "hide-output"
    ]
   },
   "outputs": [],
   "source": [
    "# Test your instrument by giving it to the question_2 function\n",
    "quiz.question_2(instrument)"
   ]
  },
  {
   "cell_type": "markdown",
   "id": "bored-basin",
   "metadata": {
    "editable": true,
    "slideshow": {
     "slide_type": ""
    },
    "tags": []
   },
   "source": [
    "## Instrument settings\n",
    "Before running the simulation, a few settings pertaining to computing options need to be specified. This is done with a different method to clearly distinguish these from the instrument parameters. One important setting is called `output_path` which sets the name of the generated folder with simulation output."
   ]
  },
  {
   "cell_type": "code",
   "execution_count": null,
   "id": "infrared-major",
   "metadata": {
    "editable": true,
    "slideshow": {
     "slide_type": ""
    },
    "tags": []
   },
   "outputs": [],
   "source": [
    "instrument.settings(ncount=5e6, mpi=4, suppress_output=True, NeXus=True, output_path=\"first_run\")"
   ]
  },
  {
   "cell_type": "markdown",
   "id": "featured-replica",
   "metadata": {
    "editable": true,
    "slideshow": {
     "slide_type": ""
    },
    "tags": []
   },
   "source": [
    "## Run the instrument\n",
    "Now the simulation can be executed with the `backengine` method. This method returns a list of data object. Store this returned data in a python variable named `data`."
   ]
  },
  {
   "cell_type": "code",
   "execution_count": null,
   "metadata": {},
   "outputs": [],
   "source": [
    "# Insert your solution:\n"
   ]
  },
  {
   "cell_type": "markdown",
   "id": "e2f1e4f3-2099-497e-afe2-fbf754322ba4",
   "metadata": {
    "editable": true,
    "slideshow": {
     "slide_type": ""
    },
    "tags": []
   },
   "source": [
    "### Visualize the data\n",
    "The data objects in the returned list can be plotted with the McStasScript function `make_plot`. The plots can be customized, use these keyword arguments:\n",
    "- log : True\n",
    "- orders_of_mag : 5 (maximum orders of magnitudes plotted when using logarithmic plotting)\n",
    "\n",
    "#### Plot overview\n",
    "The function should plot three graphs:\n",
    "##### 1D absorption logger\n",
    "This shows intensity along our single detector tube along its height y. Its coordinate system is such that 0 is 25 cm above the center of the beam.\n",
    "##### 1D TOF absorption logger\n",
    "Shows the same intensity as a function of the detector height, though here also as a function of when the neutron was detected. This one has the time axis restricted to show only one pulse.\n",
    "##### 1D TOF absorption logger\n",
    "Same as above, though will show all pulses if several are simulated."
   ]
  },
  {
   "cell_type": "code",
   "execution_count": null,
   "metadata": {},
   "outputs": [],
   "source": [
    "# Insert your solution:\n"
   ]
  },
  {
   "cell_type": "markdown",
   "id": "intermediate-isaac",
   "metadata": {
    "editable": true,
    "slideshow": {
     "slide_type": ""
    },
    "tags": []
   },
   "source": [
    "### Interpretation of the data\n",
    "The detector is a He3 tube centered 25 cm above the beam height and with a metal casing. \n",
    "\n",
    "What does the signal look like without sample?\n",
    "- A: Most of the signal close to the direct beam\n",
    "- B: Flat signal over detector height \n",
    "- C: Most of the signal is far away from the direct beam"
   ]
  },
  {
   "cell_type": "code",
   "execution_count": null,
   "id": "58335dd0-2bba-458d-9d59-2d36018c734b",
   "metadata": {
    "editable": true,
    "slideshow": {
     "slide_type": ""
    },
    "tags": [
     "remove-output"
    ]
   },
   "outputs": [],
   "source": [
    "quiz.question_3()"
   ]
  },
  {
   "cell_type": "markdown",
   "id": "minute-separation",
   "metadata": {
    "editable": true,
    "slideshow": {
     "slide_type": ""
    },
    "tags": []
   },
   "source": [
    "Is this a problem for a SANS instrument?\n",
    "- A: Yes\n",
    "- B: No"
   ]
  },
  {
   "cell_type": "code",
   "execution_count": null,
   "id": "d6d3a963-d95d-4435-bfb8-7a183cb252cc",
   "metadata": {
    "editable": true,
    "slideshow": {
     "slide_type": ""
    },
    "tags": [
     "remove-output"
    ]
   },
   "outputs": [],
   "source": [
    "quiz.question_4()"
   ]
  },
  {
   "cell_type": "markdown",
   "id": "continued-gazette",
   "metadata": {
    "editable": true,
    "slideshow": {
     "slide_type": ""
    },
    "tags": []
   },
   "source": [
    "How can it be improved?\n",
    "- A: By adding a Velocity selector\n",
    "- B: By adding a Chopper\n",
    "- C: By adding a Beamstop\n",
    "- D: By adding a Slit"
   ]
  },
  {
   "cell_type": "code",
   "execution_count": null,
   "id": "7e5b1612-ca67-4830-99f2-971f8d7d98b2",
   "metadata": {
    "editable": true,
    "slideshow": {
     "slide_type": ""
    },
    "tags": [
     "remove-output"
    ]
   },
   "outputs": [],
   "source": [
    "quiz.question_5()"
   ]
  },
  {
   "cell_type": "markdown",
   "id": "substantial-navigation",
   "metadata": {
    "editable": true,
    "slideshow": {
     "slide_type": ""
    },
    "tags": []
   },
   "source": [
    "## Improve the instrument\n",
    "\n",
    "In order to improve the performance of the instrument, we will add a McStas component corresponding to the answer of question 5.\n",
    "The first aspect to consider when adding a component is where to place it, both in the component sequence and its physical location.\n",
    "The position in the component sequence needs to be specified when adding the component, so this will be the first decision.\n",
    "\n",
    "### McStas component sequence \n",
    "\n",
    "Use either the `show_diagram` or `show_components` method on the instrument object to get an overview of the component sequence in the instrument.\n",
    "Where would you place the new component?\n",
    "\n",
    "- A: After the source\n",
    "- B: Before the sample position\n",
    "- C: After the sample position\n",
    "- D: Before the detector position"
   ]
  },
  {
   "cell_type": "code",
   "execution_count": null,
   "metadata": {},
   "outputs": [],
   "source": [
    "# Insert your solution:\n"
   ]
  },
  {
   "cell_type": "code",
   "execution_count": null,
   "id": "3cf51422-f934-4dcf-8947-2d940fca2d6c",
   "metadata": {
    "editable": true,
    "slideshow": {
     "slide_type": ""
    },
    "tags": [
     "remove-output"
    ]
   },
   "outputs": [],
   "source": [
    "quiz.question_6()"
   ]
  },
  {
   "cell_type": "markdown",
   "id": "authorized-recovery",
   "metadata": {
    "editable": true,
    "slideshow": {
     "slide_type": ""
    },
    "tags": []
   },
   "source": [
    "### Which component\n",
    "\n",
    "Now we need to select what type of component to add to the instrument, here we will need the `Beamstop` component.\n",
    "Use the `component_help` method on the instrument to learn more about this component."
   ]
  },
  {
   "cell_type": "code",
   "execution_count": null,
   "metadata": {},
   "outputs": [],
   "source": [
    "# Insert your solution:\n"
   ]
  },
  {
   "cell_type": "markdown",
   "id": "young-liquid",
   "metadata": {
    "editable": true,
    "slideshow": {
     "slide_type": ""
    },
    "tags": []
   },
   "source": [
    "### Add beamstop component and set parameters\n",
    "\n",
    "Use the `add_component` method on the instrument to add a beamstop.\n",
    "Place it in the component sequence according to your answer in question 6 by using either the `before` or `after` keyword arguments in `add_component`. The `add_component` method returns the component object, save that in a Python variable.\n",
    "\n",
    "The component should have these parameters set:\n",
    "- `xwidth`: 0.1 m\n",
    "- `yheight`: 0.02 m\n",
    "\n",
    "After adding the component to the instrument object, provide the instrument object to the question 7 so it can be confirmed that the component was added correctly."
   ]
  },
  {
   "cell_type": "code",
   "execution_count": null,
   "metadata": {},
   "outputs": [],
   "source": [
    "# Insert your solution:\n"
   ]
  },
  {
   "cell_type": "code",
   "execution_count": null,
   "id": "lesser-retrieval",
   "metadata": {
    "editable": true,
    "slideshow": {
     "slide_type": ""
    },
    "tags": [
     "hide-output"
    ]
   },
   "outputs": [],
   "source": [
    "# Validate instrument again\n",
    "quiz.question_7(instrument)"
   ]
  },
  {
   "cell_type": "markdown",
   "id": "engaging-terminal",
   "metadata": {
    "editable": true,
    "slideshow": {
     "slide_type": ""
    },
    "tags": []
   },
   "source": [
    "### Placing the component in space\n",
    "\n",
    "The next decision is the physical location of the component, this is done using the `set_AT` method on component object.\n",
    "This method takes a list of 3 numbers, corresponding to the `x`, `y` and `z` coordinates of the component.\n",
    "\n",
    "One can also specify in what coordinate system one wants to work, this can be that of any preceding component.\n",
    "Use the `RELATIVE` keyword to work in the `sample_position` coordinate system. The instrument has a parameter called `detector_distance`, use this to place the beamstop 90% of the way from the sample to the detector.\n",
    "\n",
    "After setting the position of the beamstop component, provide the instrument object to question 8 so it can be checked it was updated correctly."
   ]
  },
  {
   "cell_type": "code",
   "execution_count": null,
   "metadata": {},
   "outputs": [],
   "source": [
    "# Insert your solution:\n"
   ]
  },
  {
   "cell_type": "code",
   "execution_count": null,
   "id": "acute-depression",
   "metadata": {
    "editable": true,
    "slideshow": {
     "slide_type": ""
    },
    "tags": [
     "hide-output"
    ]
   },
   "outputs": [],
   "source": [
    "quiz.question_8(instrument)"
   ]
  },
  {
   "cell_type": "markdown",
   "id": "thick-precipitation",
   "metadata": {
    "editable": true,
    "slideshow": {
     "slide_type": ""
    },
    "tags": []
   },
   "source": [
    "### Verify new component\n",
    "Now that the beamstop has been added to the instrument, lets show the component sequence again to verify it was added correctly."
   ]
  },
  {
   "cell_type": "code",
   "execution_count": null,
   "metadata": {},
   "outputs": [],
   "source": [
    "# Insert your solution:\n"
   ]
  },
  {
   "cell_type": "markdown",
   "id": "narrow-dealing",
   "metadata": {
    "editable": true,
    "slideshow": {
     "slide_type": ""
    },
    "tags": []
   },
   "source": [
    "## Run improved instrument\n",
    "\n",
    "Its time to run the improved instrument. We will use the same parameters as earlier, but now also set `integration_time` to $5\\times 10^4$, corresponding to 13.8 hours. This is supposed to emulate a long measurement of the instrument background only done rarely. We use the integration time in the continued workflow to estimate the error on the measured signal.\n",
    "\n",
    "Store the returned data in a variable called `background_data`. Name the generated data folder \"SANS_without_sample_1_pulse\" using the *output_path* argument in the `settings` method of the instrument."
   ]
  },
  {
   "cell_type": "code",
   "execution_count": null,
   "metadata": {},
   "outputs": [],
   "source": [
    "# Insert your solution:\n"
   ]
  },
  {
   "cell_type": "markdown",
   "id": "da1a24c1-7dd2-4fb6-909d-1e3c3a66bf5d",
   "metadata": {
    "editable": true,
    "slideshow": {
     "slide_type": ""
    },
    "tags": []
   },
   "source": [
    "Plot the resulting data."
   ]
  },
  {
   "cell_type": "code",
   "execution_count": null,
   "metadata": {},
   "outputs": [],
   "source": [
    "# Insert your solution:\n"
   ]
  },
  {
   "cell_type": "markdown",
   "id": "satisfactory-october",
   "metadata": {
    "editable": true,
    "slideshow": {
     "slide_type": ""
    },
    "tags": []
   },
   "source": [
    "Do you see an improvement compared to earlier results?\n",
    "- A: Yes\n",
    "- B: No"
   ]
  },
  {
   "cell_type": "code",
   "execution_count": null,
   "id": "886d61a8-b0f4-4fc6-a58f-8f6c3f7e4647",
   "metadata": {
    "editable": true,
    "slideshow": {
     "slide_type": ""
    },
    "tags": [
     "remove-output"
    ]
   },
   "outputs": [],
   "source": [
    "quiz.question_9()"
   ]
  },
  {
   "cell_type": "markdown",
   "id": "empty-addiction",
   "metadata": {
    "editable": true,
    "slideshow": {
     "slide_type": ""
    },
    "tags": []
   },
   "source": [
    "## Run with sample\n",
    "\n",
    "Its time to add the sample, this can be done by updating the `enable_sample` parameter to 1 and calling the `backengine` method again. Here the integration time should be smaller, 500 s, as this run correspond to one of many measurements of different samples. Save the data in a variable called `sample_data` and use the settings method to provide a reasonable name to the run using the *output_path* argument."
   ]
  },
  {
   "cell_type": "code",
   "execution_count": null,
   "metadata": {},
   "outputs": [],
   "source": [
    "# Insert your solution:\n"
   ]
  },
  {
   "cell_type": "markdown",
   "id": "666e7f11-2c1a-4a2b-bcca-fa3033279cf9",
   "metadata": {
    "editable": true,
    "slideshow": {
     "slide_type": ""
    },
    "tags": []
   },
   "source": [
    "Plot the resulting data."
   ]
  },
  {
   "cell_type": "code",
   "execution_count": null,
   "id": "95267e8e-a988-4add-8adf-7dd48cb258e6",
   "metadata": {
    "editable": true,
    "slideshow": {
     "slide_type": ""
    },
    "tags": []
   },
   "outputs": [],
   "source": [
    "ms.make_sub_plot(sample_data, log=True, orders_of_mag=5)"
   ]
  },
  {
   "cell_type": "markdown",
   "id": "objective-cholesterol",
   "metadata": {
    "editable": true,
    "slideshow": {
     "slide_type": ""
    },
    "tags": []
   },
   "source": [
    "Compare the results with and without sample. Where on the detector is the difference largest?\n",
    "- A: Lowest part of the detector\n",
    "- B: Middle of the detector\n",
    "- C: Top of the detector"
   ]
  },
  {
   "cell_type": "code",
   "execution_count": null,
   "id": "cultural-spanking",
   "metadata": {
    "editable": true,
    "slideshow": {
     "slide_type": ""
    },
    "tags": [
     "remove-output"
    ]
   },
   "outputs": [],
   "source": [
    "quiz.question_10()"
   ]
  },
  {
   "cell_type": "markdown",
   "id": "ae47e2fa-8fcd-4e53-8280-1a559557226b",
   "metadata": {
    "editable": true,
    "slideshow": {
     "slide_type": ""
    },
    "tags": []
   },
   "source": [
    "## Increase the number of pulses\n",
    "\n",
    "Your final task is to re-run the simulations with and without sample,\n",
    "using 3 pulses from the source instead of 1 which was used so far. This is controlled using the *n_pulses* parameter on the instrument object. Set integration time to 5E4 s when running without sample and 500 s when running with sample. We will use this data throughout the exercises for the rest of the school.\n",
    "\n",
    "**Hints:**\n",
    "\n",
    "- Change the destination folder so that you don't overwrite the results from the 1-pulse simulations.\n",
    "- Remember to adjust the `ncount` accordingly, we would like 3 times more rays now that we use 3 pulses."
   ]
  },
  {
   "cell_type": "code",
   "execution_count": null,
   "metadata": {},
   "outputs": [],
   "source": [
    "# Insert your solution:\n"
   ]
  },
  {
   "cell_type": "markdown",
   "id": "ef52c71e-e802-464d-b0cd-b1b339d22c3c",
   "metadata": {
    "editable": true,
    "slideshow": {
     "slide_type": ""
    },
    "tags": []
   },
   "source": [
    "### Compare results with shorter runs\n",
    "By saving the results in different python variables, you can compare the two runs by plotting each. Use of the `make_sub_plot` function might make it easier to view each monitor side by side."
   ]
  },
  {
   "cell_type": "code",
   "execution_count": null,
   "metadata": {},
   "outputs": [],
   "source": [
    "# Insert your solution:\n"
   ]
  },
  {
   "cell_type": "code",
   "execution_count": null,
   "metadata": {},
   "outputs": [],
   "source": [
    "# Insert your solution:\n"
   ]
  },
  {
   "cell_type": "code",
   "execution_count": null,
   "metadata": {},
   "outputs": [],
   "source": [
    "# Insert your solution:\n"
   ]
  }
 ],
 "metadata": {
  "celltoolbar": "Tags",
  "kernelspec": {
   "display_name": "Python 3 (ipykernel)",
   "language": "python",
   "name": "python3"
  },
  "language_info": {
   "codemirror_mode": {
    "name": "ipython",
    "version": 3
   },
   "file_extension": ".py",
   "mimetype": "text/x-python",
   "name": "python",
   "nbconvert_exporter": "python",
   "pygments_lexer": "ipython3",
   "version": "3.12.9"
  }
 },
 "nbformat": 4,
 "nbformat_minor": 5
}
