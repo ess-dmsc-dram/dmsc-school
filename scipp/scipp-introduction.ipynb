{
 "cells": [
  {
   "cell_type": "markdown",
   "id": "cfc2eac2-42f1-47cb-9f09-1b6c597f0239",
   "metadata": {
    "editable": true,
    "slideshow": {
     "slide_type": ""
    },
    "tags": []
   },
   "source": [
    "<a href=\"https://scipp.github.io\"><img src=\"https://scipp.github.io/_static/logo-2022.svg\" width=\"600\" /></a>\n",
    "\n",
    "# Multi-dimensional arrays with labeled dimensions and physical units\n",
    "\n",
    "## [scipp.github.io](https://scipp.github.io)"
   ]
  },
  {
   "cell_type": "code",
   "execution_count": null,
   "id": "4fd44f82-593f-43f2-a8ca-d9ef5b864623",
   "metadata": {
    "editable": true,
    "slideshow": {
     "slide_type": ""
    },
    "tags": []
   },
   "outputs": [],
   "source": [
    "%matplotlib inline\n",
    "import numpy as np\n",
    "import scipp as sc\n",
    "import matplotlib.pyplot as plt\n",
    "\n",
    "rng = np.random.default_rng(seed=1234)"
   ]
  },
  {
   "cell_type": "code",
   "execution_count": null,
   "id": "1d9b1c65-c2a2-43be-addf-aecdc48c659b",
   "metadata": {
    "editable": true,
    "slideshow": {
     "slide_type": ""
    },
    "tags": []
   },
   "outputs": [],
   "source": [
    "def plot(*x):\n",
    "    \"\"\"\n",
    "    Useful plot function for 1d and 2d data\n",
    "    \"\"\"\n",
    "    fig, ax = plt.subplots()\n",
    "    for a in x:\n",
    "        if a.ndim == 1:\n",
    "            ax.plot(np.arange(len(a)), a)\n",
    "        elif a.ndim == 2:\n",
    "            ax.imshow(a, origin=\"lower\")\n",
    "\n",
    "def scatter(x, y):\n",
    "    \"\"\"\n",
    "    Simple scatter plot\n",
    "    \"\"\"\n",
    "    fig, ax = plt.subplots()\n",
    "    ax.scatter(x, y, marker=\".\", s=1)\n",
    "    ax.set_aspect(\"equal\")\n",
    "    ax.set_xlim(x.min(), x.max())\n",
    "    ax.set_ylim(y.min(), y.max())\n",
    "    return ax"
   ]
  },
  {
   "cell_type": "markdown",
   "id": "711a1179-a3e5-4d60-a538-6ddbb2418952",
   "metadata": {
    "editable": true,
    "slideshow": {
     "slide_type": ""
    },
    "tags": []
   },
   "source": [
    "## 1. Introduction to labeled dimensions: why do we need them?"
   ]
  },
  {
   "cell_type": "code",
   "execution_count": null,
   "id": "e7eb1b73-b841-4696-bc5e-73fb5f063e71",
   "metadata": {
    "editable": true,
    "slideshow": {
     "slide_type": ""
    },
    "tags": []
   },
   "outputs": [],
   "source": [
    "ny, nx = 10, 20\n",
    "a = np.sin(np.arange(ny) / (ny / 4)).reshape((-1, 1)) * np.cos(np.arange(nx) / (ny / 4))\n",
    "a.shape"
   ]
  },
  {
   "cell_type": "code",
   "execution_count": null,
   "id": "4bcf0f99-f1a3-4e0c-81dc-b53681d1760f",
   "metadata": {
    "editable": true,
    "slideshow": {
     "slide_type": ""
    },
    "tags": []
   },
   "outputs": [],
   "source": [
    "plot(a)"
   ]
  },
  {
   "cell_type": "code",
   "execution_count": null,
   "id": "75b6612c-4241-46ac-be57-af9a99cab75b",
   "metadata": {
    "editable": true,
    "slideshow": {
     "slide_type": ""
    },
    "tags": []
   },
   "outputs": [],
   "source": [
    "# Slice out row number 4\n",
    "plot(a[4, :])"
   ]
  },
  {
   "cell_type": "markdown",
   "id": "f135c682-5074-420c-a497-1b1458afe843",
   "metadata": {
    "editable": true,
    "slideshow": {
     "slide_type": ""
    },
    "tags": []
   },
   "source": [
    "### We can't always deduce from the shape"
   ]
  },
  {
   "cell_type": "code",
   "execution_count": null,
   "id": "61611d8c-b202-4727-9135-ab6101e81593",
   "metadata": {
    "editable": true,
    "slideshow": {
     "slide_type": ""
    },
    "tags": []
   },
   "outputs": [],
   "source": [
    "ny, nx = 20, 20\n",
    "a = np.sin(np.arange(ny) / (ny / 4)).reshape((-1, 1)) * np.cos(np.arange(nx) / (ny / 4))\n",
    "a.shape"
   ]
  },
  {
   "cell_type": "code",
   "execution_count": null,
   "id": "e9c50988-0fec-4788-8021-d8b3eb6041f2",
   "metadata": {},
   "outputs": [],
   "source": [
    "plot(a)"
   ]
  },
  {
   "cell_type": "code",
   "execution_count": null,
   "id": "c285a8d4-95ae-4bc4-ae7b-5935db371451",
   "metadata": {},
   "outputs": [],
   "source": [
    "# Not always obvious which dimension is which\n",
    "plot(a[:, 4], a[4, :])"
   ]
  },
  {
   "cell_type": "markdown",
   "id": "e375cb07-b2eb-46f9-ab5e-68dd12fe31ca",
   "metadata": {},
   "source": [
    "### The situation gets worse with more dimensions\n",
    "\n",
    "Say I now have an array that has 4 dimensions: `x, y, z, time` (in that order, maybe?)"
   ]
  },
  {
   "cell_type": "code",
   "execution_count": null,
   "id": "a58514bd-6c6c-4c93-8d8b-429fd47034f6",
   "metadata": {},
   "outputs": [],
   "source": [
    "a = np.random.random([20] * 4)\n",
    "a.shape"
   ]
  },
  {
   "cell_type": "markdown",
   "id": "a800667f-7e2c-4ca5-b949-acb5c245536b",
   "metadata": {},
   "source": [
    "I want to get the first `z` slice...\n",
    "\n",
    "Which one was it again?"
   ]
  },
  {
   "cell_type": "code",
   "execution_count": null,
   "id": "2ffa21ab-5254-4984-b45e-21f8e0c22694",
   "metadata": {
    "editable": true,
    "slideshow": {
     "slide_type": ""
    },
    "tags": []
   },
   "outputs": [],
   "source": [
    "z_slice = a[:, :, 0, :]  # x,y,z,t\n",
    "z_slice = a[0, :, :, :]  # z,y,x,t\n",
    "z_slice = a[:, :, :, 0]  # t,x,y,z"
   ]
  },
  {
   "cell_type": "markdown",
   "id": "0371d1b8-9633-4b12-8566-7b1049431193",
   "metadata": {
    "editable": true,
    "slideshow": {
     "slide_type": ""
    },
    "tags": []
   },
   "source": [
    "Quiz: Which one is the 4th `z`, 3rd `x`, 5th `y` between 10th to 15th of `t`?\n",
    "1. `a[3, 5, 4, 9:15]`\n",
    "2. `a[9:15, 2, 4, 3]`\n",
    "3. `a[2, 4, 3, 9:15]`\n",
    "4. `a[3, 4, 5, 9:15]`"
   ]
  },
  {
   "cell_type": "markdown",
   "id": "13f35a1c-c377-49b0-a8ea-a682d03ec466",
   "metadata": {
    "editable": true,
    "slideshow": {
     "slide_type": ""
    },
    "tags": []
   },
   "source": [
    "<br><br>\n",
    "\n",
    "### Introducing labeled dimensions\n",
    "\n",
    "<img src=\"https://docs.xarray.dev/en/stable/_static/dataset-diagram-logo.png\" width=\"220\" /> &nbsp;&nbsp;&nbsp;&nbsp;&nbsp;&nbsp;&nbsp;&nbsp; <img src=\"https://scipp.github.io/_static/logo-2022.svg\" width=\"220\" />\n",
    "\n",
    "[Xarray](https://docs.xarray.dev/en/stable/index.html) (https://docs.xarray.dev) introduced labels to multi-dimensional Numpy arrays.\n",
    "\n",
    "\"*real-world datasets are usually more than just raw numbers; they have labels which encode information about how the array values map to locations in space, time, etc.*\"\n",
    "\n",
    "We have embraced, and to a large extent copied, the Xarray mechanism."
   ]
  },
  {
   "cell_type": "code",
   "execution_count": null,
   "id": "f0ba61d1-53f8-450d-85cf-170e0b730cb0",
   "metadata": {
    "editable": true,
    "slideshow": {
     "slide_type": ""
    },
    "tags": []
   },
   "outputs": [],
   "source": [
    "var = sc.array(dims=[\"x\", \"y\", \"z\", \"time\"], values=a)\n",
    "var"
   ]
  },
  {
   "cell_type": "markdown",
   "id": "396918b2-461e-4e4e-9659-2d94098155d6",
   "metadata": {
    "editable": true,
    "slideshow": {
     "slide_type": ""
    },
    "tags": []
   },
   "source": [
    "Getting the `z` slice is now easy and **readable**"
   ]
  },
  {
   "cell_type": "code",
   "execution_count": null,
   "id": "139a6447-8e0c-444b-8442-453b99872a39",
   "metadata": {
    "editable": true,
    "slideshow": {
     "slide_type": ""
    },
    "tags": []
   },
   "outputs": [],
   "source": [
    "var[\"z\", 0]"
   ]
  },
  {
   "cell_type": "markdown",
   "id": "44f4f6e3-3b3c-4e5d-9791-8db45f72a22b",
   "metadata": {
    "editable": true,
    "slideshow": {
     "slide_type": ""
    },
    "tags": []
   },
   "source": [
    "Quiz: Which one is the 4th `z`, 3rd `x`, 5th `y` between 10th to 15th of `t`?\n",
    "1. `a[\"x\", 3][\"y\", 5][\"z\", 4][\"time\", 9:15]`\n",
    "2. `a[\"x\", 9:15][\"y\", 2][\"z\", 4][\"time\", 9:15]`\n",
    "3. `a[\"x\", 2][\"y\", 4][\"z\", 3][\"time\", 9:15]`\n",
    "4. `a[\"x\", 3][\"y\", 4][\"z\", 3][\"time\", 9:15]`\n",
    "\n",
    "Easy!"
   ]
  },
  {
   "cell_type": "markdown",
   "id": "f1136ca6-f6b5-4e08-bd89-f79b8ee22032",
   "metadata": {
    "editable": true,
    "slideshow": {
     "slide_type": ""
    },
    "tags": []
   },
   "source": [
    "<br><br>\n",
    "\n",
    "### Adding coordinates\n",
    "\n",
    "- Coordinates can be specified for each dimension.\n",
    "- They describe the extent of each axis, as well as how far each data point is from its neighbours."
   ]
  },
  {
   "cell_type": "code",
   "execution_count": null,
   "id": "db1955bc-03d7-4915-8f78-41fa29879c52",
   "metadata": {
    "editable": true,
    "slideshow": {
     "slide_type": ""
    },
    "tags": []
   },
   "outputs": [],
   "source": [
    "data = sc.array(dims=[\"space\", \"time\"], values=rng.random((5, 10)))\n",
    "sc.show(data)"
   ]
  },
  {
   "cell_type": "markdown",
   "id": "772caaea-96c6-48f3-8dc7-e17ebef1e0fa",
   "metadata": {
    "editable": true,
    "slideshow": {
     "slide_type": ""
    },
    "tags": []
   },
   "source": [
    "In Scipp and Xarray, coordinates are added in a data structure called `DataArray`:"
   ]
  },
  {
   "cell_type": "code",
   "execution_count": null,
   "id": "9fae8696-a15a-49f6-bfdf-5133e27b2304",
   "metadata": {
    "editable": true,
    "slideshow": {
     "slide_type": ""
    },
    "tags": []
   },
   "outputs": [],
   "source": [
    "da = sc.DataArray(\n",
    "    data=data,\n",
    "    coords={\n",
    "        \"altitude\": sc.linspace(\"space\", 0, 8000, 5),\n",
    "    },\n",
    ")\n",
    "sc.show(da)"
   ]
  },
  {
   "cell_type": "code",
   "execution_count": null,
   "id": "18c6b274-9fad-4f73-9cee-6b2163e3bc59",
   "metadata": {
    "editable": true,
    "slideshow": {
     "slide_type": ""
    },
    "tags": []
   },
   "outputs": [],
   "source": [
    "da"
   ]
  },
  {
   "cell_type": "markdown",
   "id": "665ed227-e8ae-41d1-892d-ef387fd92fa8",
   "metadata": {
    "editable": true,
    "slideshow": {
     "slide_type": ""
    },
    "tags": []
   },
   "source": [
    "### Exercise 1. Add `year` coordinate `[2000, 2010)` to the `time` dimension.\n",
    "Each column for all `altitude`s is collected every `year` from 2000 to 2009"
   ]
  },
  {
   "cell_type": "markdown",
   "id": "a05b93ec-b017-4562-b076-5d9232e8ca09",
   "metadata": {
    "editable": true,
    "slideshow": {
     "slide_type": ""
    },
    "tags": []
   },
   "source": [
    "**Hint: You can create a ``Variable`` with consecutive numbers by ``sc.arange(dim, start, stop)``.**"
   ]
  },
  {
   "cell_type": "code",
   "execution_count": null,
   "id": "7297e204-0611-4c60-b545-0d2852e2ffc5",
   "metadata": {
    "editable": true,
    "scrolled": true,
    "slideshow": {
     "slide_type": ""
    },
    "tags": [
     "hide-cell",
     "remove-output"
    ]
   },
   "outputs": [],
   "source": [
    "da = sc.DataArray(\n",
    "    data=data,\n",
    "    coords={\n",
    "        \"year\": sc.arange(\"\", 2000, ),\n",
    "        \"altitude\": sc.linspace(\"space\", 0, 8000, 5),\n",
    "    },\n",
    ")\n",
    "sc.show(da)\n",
    "da"
   ]
  },
  {
   "cell_type": "markdown",
   "id": "e27847a0-20b7-47a8-b3de-5be469cd1fe9",
   "metadata": {
    "editable": true,
    "slideshow": {
     "slide_type": ""
    },
    "tags": []
   },
   "source": [
    "**Solution:**"
   ]
  },
  {
   "cell_type": "code",
   "execution_count": null,
   "id": "05c26863-4cab-4e11-8c3c-ab28752832a3",
   "metadata": {
    "editable": true,
    "slideshow": {
     "slide_type": ""
    },
    "tags": [
     "solution"
    ]
   },
   "outputs": [],
   "source": [
    "da = sc.DataArray(\n",
    "    data=data,\n",
    "    coords={\n",
    "        \"year\": sc.arange(\"time\", 2000, 2010),\n",
    "        \"altitude\": sc.linspace(\"space\", 0, 8000, 5),\n",
    "    },\n",
    ")\n",
    "sc.show(da)\n",
    "da"
   ]
  },
  {
   "cell_type": "markdown",
   "id": "bb1aab64-bfbb-4544-87e8-75cc4ec6ee22",
   "metadata": {
    "editable": true,
    "slideshow": {
     "slide_type": ""
    },
    "tags": []
   },
   "source": [
    "### Exercise 2. Add `year` coordinate based on the `scipp-year`.\n",
    "`scipp-year` was used instead of Gregorian `year` while collecting data.\n",
    "Please add Gregorian `year` coordinate.\n",
    "> Hint: First `scipp` was released in 2020."
   ]
  },
  {
   "cell_type": "code",
   "execution_count": null,
   "id": "c4c8f30a-9275-4065-a1f4-1b8d4ba04d7b",
   "metadata": {
    "editable": true,
    "slideshow": {
     "slide_type": ""
    },
    "tags": []
   },
   "outputs": [],
   "source": [
    "da = sc.DataArray(\n",
    "    data= sc.array(dims=[\"space\", \"time\"], values=rng.random((5, 24))),\n",
    "    coords={\n",
    "        \"scipp-year\": sc.arange(\"time\", -20, 4),\n",
    "        \"altitude\": sc.linspace(\"space\", 0, 80000, 5)\n",
    "    },\n",
    ")\n",
    "sc.show(da)\n",
    "da"
   ]
  },
  {
   "cell_type": "markdown",
   "id": "272f5bcd-cf47-45c8-aaf7-c99c4af7d965",
   "metadata": {
    "editable": true,
    "slideshow": {
     "slide_type": ""
    },
    "tags": []
   },
   "source": [
    "**Solution:**"
   ]
  },
  {
   "cell_type": "code",
   "execution_count": null,
   "id": "111a440d-3ff5-49cc-a340-751484267bc4",
   "metadata": {
    "editable": true,
    "slideshow": {
     "slide_type": ""
    },
    "tags": [
     "hide-cell",
     "solution"
    ]
   },
   "outputs": [],
   "source": [
    "da.coords['year'] = da.coords['scipp-year'] + 2020\n",
    "sc.show(da)\n",
    "da"
   ]
  },
  {
   "cell_type": "markdown",
   "id": "fcc3ea33-ac08-47fa-85e8-35ead9d189b2",
   "metadata": {
    "editable": true,
    "slideshow": {
     "slide_type": ""
    },
    "tags": []
   },
   "source": [
    "**Hint:**"
   ]
  },
  {
   "cell_type": "code",
   "execution_count": null,
   "id": "ad35a9c4-de62-4c94-a36c-b6f250f4897d",
   "metadata": {
    "editable": true,
    "slideshow": {
     "slide_type": ""
    },
    "tags": [
     "hide-cell",
     "remove-output"
    ]
   },
   "outputs": [],
   "source": [
    "da.coords['year'] = da.coords['scipp-year'] + \n",
    "sc.show(da)\n",
    "da"
   ]
  },
  {
   "cell_type": "markdown",
   "id": "61c0aec4-fffb-475f-87f0-57a82cbc3e65",
   "metadata": {
    "editable": true,
    "slideshow": {
     "slide_type": ""
    },
    "tags": []
   },
   "source": [
    "<br><br>"
   ]
  },
  {
   "cell_type": "markdown",
   "id": "1f282c12-2d83-4fa7-b4d4-ef72f8a99fe5",
   "metadata": {
    "editable": true,
    "slideshow": {
     "slide_type": ""
    },
    "tags": []
   },
   "source": [
    "## 2. Going further\n",
    "\n",
    "<img src=\"https://scipp.github.io/_static/logo-2022.svg\" width=\"220\" />\n",
    "\n",
    "### 2.1 Physical units\n",
    "\n",
    "Every data variable and coordinate in Scipp has physical units.\n",
    "&nbsp;&nbsp;&nbsp;&nbsp;&nbsp;&nbsp;&nbsp;&nbsp;&nbsp;&nbsp;&nbsp;&nbsp;&nbsp;\n",
    "&nbsp;&nbsp;&nbsp;&nbsp;&nbsp;&nbsp;&nbsp;&nbsp;&nbsp;&nbsp;&nbsp;&nbsp;&nbsp;\n",
    "(see also [pint](https://pint.readthedocs.io/en/stable/), [astropy.units](https://docs.astropy.org/en/stable/units/index.html), [pint-xarray](https://pint-xarray.readthedocs.io/en/stable/), ...)"
   ]
  },
  {
   "cell_type": "code",
   "execution_count": null,
   "id": "8165952c-0730-4554-9833-969a9755a8b7",
   "metadata": {
    "editable": true,
    "slideshow": {
     "slide_type": ""
    },
    "tags": []
   },
   "outputs": [],
   "source": [
    "x = sc.array(dims=['row'], values=rng.normal(size=10000), unit='cm')\n",
    "y = sc.array(dims=['row'], values=rng.normal(size=10000), unit='cm')\n",
    "recording = sc.DataArray(data=sc.ones(sizes=x.sizes, unit='counts'),\n",
    "                         coords={'x': x, 'y': y})\n",
    "image = recording.hist(y=100, x=100)\n",
    "image"
   ]
  },
  {
   "cell_type": "code",
   "execution_count": null,
   "id": "69b929e6-967a-4c5f-80fe-b7ad896b0dda",
   "metadata": {
    "editable": true,
    "slideshow": {
     "slide_type": ""
    },
    "tags": []
   },
   "outputs": [],
   "source": [
    "image.plot(aspect=\"equal\")"
   ]
  },
  {
   "cell_type": "code",
   "execution_count": null,
   "id": "4ba9cca0-ccc9-4079-bf93-a4645b7f80ec",
   "metadata": {
    "editable": true,
    "slideshow": {
     "slide_type": ""
    },
    "tags": []
   },
   "outputs": [],
   "source": [
    "integration_time = sc.scalar(300.0, unit=\"s\")\n",
    "image /= integration_time\n",
    "print(image.unit)\n",
    "\n",
    "image.plot(aspect=\"equal\")"
   ]
  },
  {
   "cell_type": "markdown",
   "id": "c50b87c9-3f0d-412a-ac3a-30f40bd96e46",
   "metadata": {
    "editable": true,
    "slideshow": {
     "slide_type": ""
    },
    "tags": []
   },
   "source": [
    "<br><br>\n",
    "\n",
    "### Units also provide protection\n",
    "\n",
    "Say I now have a background image (dark frame) which I want to subtract from the signal image above,\n",
    "but I forgot to first normalize it by integration time"
   ]
  },
  {
   "cell_type": "code",
   "execution_count": null,
   "id": "0d9546fc-ecd3-495d-bd24-16e5820ccc34",
   "metadata": {
    "editable": true,
    "slideshow": {
     "slide_type": ""
    },
    "tags": [
     "raises-exception"
    ]
   },
   "outputs": [],
   "source": [
    "background = sc.array(dims=[\"y\", \"x\"], values=rng.random((100, 100)), unit=\"counts\")\n",
    "\n",
    "image - background"
   ]
  },
  {
   "cell_type": "code",
   "execution_count": null,
   "id": "cdd8501d-cce9-471d-87be-b7fd3cea7e24",
   "metadata": {
    "editable": true,
    "slideshow": {
     "slide_type": ""
    },
    "tags": []
   },
   "outputs": [],
   "source": [
    "background_integration_time = sc.scalar(60.0, unit=\"s\")\n",
    "background /= background_integration_time\n",
    "\n",
    "background_subtracted = image - background"
   ]
  },
  {
   "cell_type": "code",
   "execution_count": null,
   "id": "f142bd68-b0fa-403a-b4d6-b0312c531d9d",
   "metadata": {
    "editable": true,
    "slideshow": {
     "slide_type": ""
    },
    "tags": []
   },
   "outputs": [],
   "source": [
    "background_subtracted.plot(aspect=\"equal\")"
   ]
  },
  {
   "cell_type": "markdown",
   "id": "80ba2204-ba55-4ab9-b7fd-0e886ed3eb15",
   "metadata": {
    "editable": true,
    "slideshow": {
     "slide_type": ""
    },
    "tags": []
   },
   "source": [
    "- The units are very useful in early prevention of difficult-to-spot bugs in a workflow.\n",
    "- They save **hours** of debugging time, free-up mental capacity and let the user focus on the important thing: **doing science**.\n",
    "\n",
    "<br><br>"
   ]
  },
  {
   "cell_type": "markdown",
   "id": "64ec0507-83cf-47eb-b68d-d98b69a31be0",
   "metadata": {
    "editable": true,
    "slideshow": {
     "slide_type": ""
    },
    "tags": []
   },
   "source": [
    "### Units for label-based indexing\n",
    "\n",
    "We also use units to distinguish between positional indexing and label-based indexing:"
   ]
  },
  {
   "cell_type": "code",
   "execution_count": null,
   "id": "f3c8befd-396f-44c2-b905-c81d8dbf83f7",
   "metadata": {
    "editable": true,
    "slideshow": {
     "slide_type": ""
    },
    "tags": []
   },
   "outputs": [],
   "source": [
    "image['x', 0.5 * sc.Unit('cm')].plot()"
   ]
  },
  {
   "cell_type": "markdown",
   "id": "ef6afc0f-a9d0-4958-82ca-5cffb33e72f0",
   "metadata": {
    "editable": true,
    "slideshow": {
     "slide_type": ""
    },
    "tags": []
   },
   "source": [
    "Positional index is based on the `dimension`, and the value index is based on the `coordinates`."
   ]
  },
  {
   "cell_type": "code",
   "execution_count": null,
   "id": "c3d3b72f-51f5-43dd-8a15-c3a53620b492",
   "metadata": {
    "editable": true,
    "slideshow": {
     "slide_type": ""
    },
    "tags": []
   },
   "outputs": [],
   "source": [
    "da = sc.DataArray(\n",
    "    data=sc.array(dims=[\"space\", \"time\"], values=rng.random((5, 9))),\n",
    "    coords={\n",
    "        \"time\": sc.arange(\"time\", 19, 28, unit='s'),\n",
    "        \"altitude\": sc.linspace(\"space\", 0, 800, 5, unit='m')\n",
    "    },\n",
    ")\n",
    "sc.show(da)\n",
    "da"
   ]
  },
  {
   "cell_type": "markdown",
   "id": "5e68eb06-5213-48c0-b0e6-64f89e2b0296",
   "metadata": {
    "editable": true,
    "slideshow": {
     "slide_type": ""
    },
    "tags": []
   },
   "source": [
    "We want to select the data where the `time` is `20` seconds."
   ]
  },
  {
   "cell_type": "code",
   "execution_count": null,
   "id": "d51e8875-1e31-46a4-a670-483f2c0ca195",
   "metadata": {
    "editable": true,
    "slideshow": {
     "slide_type": ""
    },
    "tags": []
   },
   "outputs": [],
   "source": [
    "da.coords['time']  # 20 seconds is the 1-st value of the `time` coordinate."
   ]
  },
  {
   "cell_type": "markdown",
   "id": "30a5748e-5423-48ed-bde4-93066635d328",
   "metadata": {
    "editable": true,
    "slideshow": {
     "slide_type": ""
    },
    "tags": []
   },
   "source": [
    "So we can select the 1st slice of `time` dimension."
   ]
  },
  {
   "cell_type": "code",
   "execution_count": null,
   "id": "312cb0a9-b936-48a6-8926-0cf1240bed07",
   "metadata": {
    "editable": true,
    "slideshow": {
     "slide_type": ""
    },
    "tags": []
   },
   "outputs": [],
   "source": [
    "da['time', 1]"
   ]
  },
  {
   "cell_type": "markdown",
   "id": "3056cb1e-eacf-4e1a-bb8c-dfa61ff4269b",
   "metadata": {
    "editable": true,
    "slideshow": {
     "slide_type": ""
    },
    "tags": []
   },
   "source": [
    "But instead, we can use `unit` for selecting the data corresponding to the `time` of `20` seconds."
   ]
  },
  {
   "cell_type": "code",
   "execution_count": null,
   "id": "55d47719-8013-4f45-be65-05451e7638ce",
   "metadata": {
    "editable": true,
    "slideshow": {
     "slide_type": ""
    },
    "tags": []
   },
   "outputs": [],
   "source": [
    "da['time', sc.scalar(20, unit='s')]"
   ]
  },
  {
   "cell_type": "markdown",
   "id": "dab51e8d-bc4e-42de-a5ac-784bcdc33ce9",
   "metadata": {
    "editable": true,
    "slideshow": {
     "slide_type": ""
    },
    "tags": []
   },
   "source": [
    "Quiz. Which ones are selecting the data slice where `altitude` is `600 m`? (Multiple choices)\n",
    "\n",
    "1. da['altitude', 3]\n",
    "2. da['space', 3]\n",
    "3. da['altitude', sc.scalar(600, unit='m')]\n",
    "4. da['space', sc.scalar(600, unit='m')]"
   ]
  },
  {
   "cell_type": "markdown",
   "id": "cf8ab972-1b0c-4e5b-8a9d-9eb14d777645",
   "metadata": {
    "editable": true,
    "slideshow": {
     "slide_type": ""
    },
    "tags": []
   },
   "source": [
    "You can also use it for selecting a range."
   ]
  },
  {
   "cell_type": "code",
   "execution_count": null,
   "id": "f0340677-fc94-4b47-809b-c5763583699b",
   "metadata": {
    "editable": true,
    "slideshow": {
     "slide_type": ""
    },
    "tags": []
   },
   "outputs": [],
   "source": [
    "da['time', sc.scalar(20, unit='s'):sc.scalar(24, unit='s')]"
   ]
  },
  {
   "cell_type": "markdown",
   "id": "b235a15c-d62f-4ea1-9b53-6aff20db5fe9",
   "metadata": {
    "editable": true,
    "slideshow": {
     "slide_type": ""
    },
    "tags": []
   },
   "source": [
    "Quiz. Which ones are selecting the data slice where `altitude` is between `300 m` to `700 m`? (Multiple choices)\n",
    "\n",
    "1. da['altitude', 2:4]\n",
    "2. da['space', 2:4]\n",
    "3. da['altitude', sc.scalar(300, unit='m'):sc.scalar(700, unit='m')]\n",
    "4. da['space', sc.scalar(300, unit='m'):sc.scalar(700, unit='m')]"
   ]
  },
  {
   "cell_type": "markdown",
   "id": "98bede80-7f46-4313-a0d6-eec6beb5d583",
   "metadata": {
    "editable": true,
    "slideshow": {
     "slide_type": ""
    },
    "tags": []
   },
   "source": [
    "### Exercise 3. Coordinate and Units\n",
    "\n",
    "Instead of `altitude`, we want to use `pressure` coordinate for `space` dimension.\n",
    "\n",
    "Here is the incomplete function `altitude_to_pressure` that converts `altitude[m]` into `pressure[hPa]`.\n",
    "\n",
    "Complete the function and use it to add the `pressure` coordinate."
   ]
  },
  {
   "cell_type": "code",
   "execution_count": null,
   "id": "65925e2b-c362-486f-9baf-3b0b0a7a6893",
   "metadata": {
    "editable": true,
    "slideshow": {
     "slide_type": ""
    },
    "tags": [
     "remove-output",
     "raises-exception"
    ]
   },
   "outputs": [],
   "source": [
    "def altitude_to_pressure(altitude):\n",
    "    p_b = sc.scalar(1013.25, unit='hPa')\n",
    "    return p_b*(sc.scalar(1) - altitude/sc.scalar(44307, unit=''))**5\n",
    "\n",
    "da.coords['pressure'] = altitude_to_pressure(da.coords['altitude'])\n",
    "da"
   ]
  },
  {
   "cell_type": "markdown",
   "id": "62378dc0-c49c-410e-8c6a-05ba206bc25e",
   "metadata": {
    "editable": true,
    "slideshow": {
     "slide_type": ""
    },
    "tags": []
   },
   "source": [
    "Now we can drop the unecessary coordinate, `altitude`."
   ]
  },
  {
   "cell_type": "code",
   "execution_count": null,
   "id": "049bb750-d0b9-4498-9e67-57c4f7df6056",
   "metadata": {
    "editable": true,
    "slideshow": {
     "slide_type": ""
    },
    "tags": []
   },
   "outputs": [],
   "source": [
    "da = da.drop_coords(['altitude'])\n",
    "da"
   ]
  },
  {
   "cell_type": "markdown",
   "id": "f1880ff1-eb0d-4b85-bcdd-845c0e6563da",
   "metadata": {
    "editable": true,
    "slideshow": {
     "slide_type": ""
    },
    "tags": []
   },
   "source": [
    "<br><br>"
   ]
  },
  {
   "cell_type": "markdown",
   "id": "43ea32cc-1478-4ace-896e-b742f069bada",
   "metadata": {
    "editable": true,
    "slideshow": {
     "slide_type": ""
    },
    "tags": []
   },
   "source": [
    "### 2.2 Bin-edge coordinates\n",
    "\n",
    "- It is sometimes necessary to have coordinates that represent a range for each data value.\n",
    "- E.g. \"the temperature was 310 K in the time span between 10 and 20 seconds\".\n",
    "- This also arises every time we histogram data, as in the image above.\n",
    "- Scipp supports this by having **bin-edge coordinates**: a coordinate which has a length of 1 more than the dimension length."
   ]
  },
  {
   "cell_type": "code",
   "execution_count": null,
   "id": "2d58b3be-c83e-478a-97fa-8fc5f4d9965b",
   "metadata": {
    "editable": true,
    "slideshow": {
     "slide_type": ""
    },
    "tags": []
   },
   "outputs": [],
   "source": [
    "image = recording.hist(y=8, x=8)\n",
    "sc.show(image)"
   ]
  },
  {
   "cell_type": "code",
   "execution_count": null,
   "id": "dd251dfb-6f61-428c-b86e-2809cadf44f2",
   "metadata": {
    "editable": true,
    "slideshow": {
     "slide_type": ""
    },
    "tags": []
   },
   "outputs": [],
   "source": [
    "image"
   ]
  },
  {
   "cell_type": "code",
   "execution_count": null,
   "id": "6cd3cffd-16dd-482e-adcb-e0f7c381ae68",
   "metadata": {
    "editable": true,
    "slideshow": {
     "slide_type": ""
    },
    "tags": []
   },
   "outputs": [],
   "source": [
    "image.plot(aspect='equal')"
   ]
  },
  {
   "cell_type": "markdown",
   "id": "9bce7e32-77a6-4a4a-9c70-ac6f624f08f7",
   "metadata": {
    "editable": true,
    "slideshow": {
     "slide_type": ""
    },
    "tags": []
   },
   "source": [
    "- Numpy and Matplotlib return the bin edges and the data counts separately\n",
    "- We have everything stored inside a single data structure"
   ]
  },
  {
   "cell_type": "markdown",
   "id": "2af8212a-031f-4490-8022-21e5f57163b2",
   "metadata": {
    "editable": true,
    "slideshow": {
     "slide_type": ""
    },
    "tags": []
   },
   "source": [
    "### Exercise 4. Bin-edge coordinates and Units\n",
    "\n",
    "We would like to investigate data by subtracting `background` from `recording`.\n",
    "\n",
    "Here is the collected data `recording`."
   ]
  },
  {
   "cell_type": "code",
   "execution_count": null,
   "id": "b9a661a9-7af3-424a-8a40-925efc1129cf",
   "metadata": {
    "editable": true,
    "slideshow": {
     "slide_type": ""
    },
    "tags": [
     "hide-cell"
    ]
   },
   "outputs": [],
   "source": [
    "b_x = sc.array(dims=['row'], values=rng.normal(size=100000-200), unit='cm')\n",
    "b_y = sc.array(dims=['row'], values=rng.normal(size=100000-200), unit='cm')\n",
    "\n",
    "x1 = rng.random(size=100)*2 + 2\n",
    "x2 = rng.random(size=100)*2 + 2\n",
    "y1 = (np.sqrt(1 - (np.abs(x1-3)*2 - 1)**2))/3 - 2\n",
    "y2 = (np.arccos(1-np.abs(x2-3)*2) - 3.14)/3 - 2\n",
    "s_x = sc.array(dims=['row'], values = np.concatenate((x1, x2)), unit='cm')\n",
    "s_y = sc.array(dims=['row'], values = np.concatenate((y1, y2)), unit='cm')\n",
    "\n",
    "x = sc.concat([s_x, b_x], dim='row')\n",
    "y = sc.concat([s_y, b_y], dim='row')\n",
    "\n",
    "recording = sc.DataArray(data=sc.ones(sizes=x.sizes, unit='counts'),\n",
    "                         coords={'x': x, 'y': y})"
   ]
  },
  {
   "cell_type": "code",
   "execution_count": null,
   "id": "b58418e4-e801-4fd9-989b-1a243f368b61",
   "metadata": {
    "editable": true,
    "slideshow": {
     "slide_type": ""
    },
    "tags": []
   },
   "outputs": [],
   "source": [
    "recording"
   ]
  },
  {
   "cell_type": "markdown",
   "id": "3ff7679c-ff50-4212-b68b-ddc56b671b60",
   "metadata": {
    "editable": true,
    "slideshow": {
     "slide_type": ""
    },
    "tags": []
   },
   "source": [
    "And the `recording` was collected for `recording_time` seconds."
   ]
  },
  {
   "cell_type": "code",
   "execution_count": null,
   "id": "9176a085-2cdf-456f-88f2-525e314f9ba6",
   "metadata": {
    "editable": true,
    "slideshow": {
     "slide_type": ""
    },
    "tags": []
   },
   "outputs": [],
   "source": [
    "recording_time = sc.scalar(100000, unit='s')\n",
    "recording_time"
   ]
  },
  {
   "cell_type": "markdown",
   "id": "5f19eb2e-7ed5-4804-af0c-5342a1e8dfb7",
   "metadata": {
    "editable": true,
    "slideshow": {
     "slide_type": ""
    },
    "tags": []
   },
   "source": [
    "#### 4-1. First, we want to make a 100 by 100 histogram of the `recording` per second."
   ]
  },
  {
   "cell_type": "markdown",
   "id": "c00e4202-6da7-4bf7-8475-93b1e23cba4a",
   "metadata": {
    "editable": true,
    "slideshow": {
     "slide_type": ""
    },
    "tags": []
   },
   "source": [
    "**Hint:**"
   ]
  },
  {
   "cell_type": "code",
   "execution_count": null,
   "id": "b77175f5-ad2a-4b46-9fc9-0a4b814de234",
   "metadata": {
    "editable": true,
    "slideshow": {
     "slide_type": ""
    },
    "tags": [
     "hide-cell",
     "raises-exception",
     "remove-output"
    ]
   },
   "outputs": [],
   "source": [
    "signal = recording.hist(y=, x=)/recording_time\n",
    "signal.plot(aspect='equal')"
   ]
  },
  {
   "cell_type": "markdown",
   "id": "90c932cf-68ac-4848-927f-401046b11c65",
   "metadata": {
    "editable": true,
    "slideshow": {
     "slide_type": ""
    },
    "tags": []
   },
   "source": [
    "**Solution:**"
   ]
  },
  {
   "cell_type": "code",
   "execution_count": null,
   "id": "04d84864-63a8-414d-91d4-823eb8d1504d",
   "metadata": {
    "editable": true,
    "slideshow": {
     "slide_type": ""
    },
    "tags": [
     "hide-cell",
     "solution"
    ]
   },
   "outputs": [],
   "source": [
    "signal = recording.hist(y=100, x=100)/recording_time\n",
    "signal.plot(aspect='equal')"
   ]
  },
  {
   "cell_type": "markdown",
   "id": "0a99e909-d6db-477d-8d70-09597b66ffc2",
   "metadata": {
    "editable": true,
    "slideshow": {
     "slide_type": ""
    },
    "tags": []
   },
   "source": [
    "#### 4-2. Let's substract `background` from the `signal`. `background` was collected for `50,000` seconds."
   ]
  },
  {
   "cell_type": "code",
   "execution_count": null,
   "id": "5b8d5a7d-0446-415c-b2ce-c7802ece16dd",
   "metadata": {
    "editable": true,
    "slideshow": {
     "slide_type": ""
    },
    "tags": []
   },
   "outputs": [],
   "source": [
    "b_x = sc.array(dims=['row'], values=rng.normal(size=50_000), unit='cm')\n",
    "b_y = sc.array(dims=['row'], values=rng.normal(size=50_000), unit='cm')\n",
    "\n",
    "bg_recording = sc.DataArray(data=sc.ones(sizes=b_x.sizes, unit='counts'),\n",
    "                          coords={'x': b_x, 'y': b_y})\n",
    "bg_recording"
   ]
  },
  {
   "cell_type": "markdown",
   "id": "4f23b59d-6f0e-4d83-915b-e528f46fedd9",
   "metadata": {
    "editable": true,
    "slideshow": {
     "slide_type": ""
    },
    "tags": []
   },
   "source": [
    "**Hint:**"
   ]
  },
  {
   "cell_type": "code",
   "execution_count": null,
   "id": "e58094c5-d24a-4148-8faf-b8f1b287b4fb",
   "metadata": {
    "editable": true,
    "slideshow": {
     "slide_type": ""
    },
    "tags": [
     "remove-output",
     "raises-exception"
    ]
   },
   "outputs": [],
   "source": [
    "background_recording_time = sc.scalar( , unit='s')\n",
    "\n",
    "background = bg_recording.hist(y=signal.coords[''], x=signal.coords[''])\n",
    "background /= background_recording_time\n",
    "\n",
    "subtracted = signal - background\n",
    "subtracted.plot(aspect='equal')"
   ]
  },
  {
   "cell_type": "markdown",
   "id": "673c7d00-ae61-4c5c-b9b3-ec150d0992c8",
   "metadata": {
    "editable": true,
    "slideshow": {
     "slide_type": ""
    },
    "tags": []
   },
   "source": [
    "**Solution:**"
   ]
  },
  {
   "cell_type": "code",
   "execution_count": null,
   "id": "b62c0ecc-e44c-4767-b973-23c88af47963",
   "metadata": {
    "editable": true,
    "slideshow": {
     "slide_type": ""
    },
    "tags": [
     "solution",
     "hide-cell"
    ]
   },
   "outputs": [],
   "source": [
    "background_recording_time = sc.scalar(50_000, unit='s')\n",
    "\n",
    "background = bg_recording.hist(y=signal.coords['y'], x=signal.coords['x'])\n",
    "background /= background_recording_time\n",
    "\n",
    "subtracted = signal - background\n",
    "subtracted.plot(aspect='equal')"
   ]
  },
  {
   "cell_type": "markdown",
   "id": "da71dd0e-22ed-4d0b-84d1-2e1e852a304f",
   "metadata": {
    "editable": true,
    "slideshow": {
     "slide_type": ""
    },
    "tags": []
   },
   "source": [
    "<br><br>"
   ]
  },
  {
   "cell_type": "markdown",
   "id": "50b9719e-b407-4ca5-b4cb-0accb66b81dd",
   "metadata": {
    "editable": true,
    "slideshow": {
     "slide_type": ""
    },
    "tags": []
   },
   "source": [
    "## 3. Binned data\n",
    "\n",
    "Scipp distinguishes **histogrammed** data from **binned** data:\n",
    "\n",
    "- Histogrammed data refers to regular dense arrays of, e.g., floating-point values with an associated bin-edge coordinate.\n",
    "- Binned data refers to the precursor of histogrammed data, i.e., each bin contains a “list” of contributing events or values. Binned data can be converted into a histogram by computing the sum over all events or values in a bin.\n",
    "\n",
    "<!-- \n",
    "TODO: Add image file.\n",
    "<img src=\"binned_drawing.svg\" />\n",
    "-->\n",
    "\n",
    "This is conceptually similar to a multi-dimensional <a href=\"https://awkward-array.org/doc/main/\"><img src=\"https://iris-hep.org/assets/logos/awkward.svg\" width=\"100\" /></a>.\n",
    "\n",
    "It is best illustrated with an example of data analysis.\n",
    "For this, we will use one of the NYC taxi datasets.\n",
    "\n",
    "<br><br>\n",
    "\n",
    "### NYC yellow taxi dataset\n",
    "\n",
    "<img src=\"https://vaex.readthedocs.io/en/latest/_images/datasets_2_1.png\" /> <img src=\"https://cdn-images-1.medium.com/v2/resize:fit:2680/1*fqrY2h4uLD3eKEvJ6hlI2g.png\" width=\"600\" />\n",
    "\n",
    "(https://vaex.readthedocs.io/en/latest/datasets.html, Dataset from 2015, obtained as a HDF5 file from the Vaex docs,\n",
    "and subsequently cleaned of outliers).\n",
    "\n",
    "For today, we will use a small set of it."
   ]
  },
  {
   "cell_type": "code",
   "execution_count": null,
   "id": "b840ce9e-9263-4bbc-a26c-8dbf9bcf35ad",
   "metadata": {
    "editable": true,
    "slideshow": {
     "slide_type": ""
    },
    "tags": []
   },
   "outputs": [],
   "source": [
    "!wget https://public.esss.dk/groups/scipp/dmsc-summer-school/scipp/nyc_taxi_data_2015_small.h5"
   ]
  },
  {
   "cell_type": "code",
   "execution_count": null,
   "id": "e8764926-3361-4e13-9a33-259a3fb2579c",
   "metadata": {
    "editable": true,
    "slideshow": {
     "slide_type": ""
    },
    "tags": []
   },
   "outputs": [],
   "source": [
    "%matplotlib widget\n",
    "\n",
    "da = sc.io.load_hdf5('nyc_taxi_data_2015_small.h5')\n",
    "da"
   ]
  },
  {
   "cell_type": "code",
   "execution_count": null,
   "id": "7193d873-cc1e-425f-a749-93a3266e24e6",
   "metadata": {
    "editable": true,
    "slideshow": {
     "slide_type": ""
    },
    "tags": []
   },
   "outputs": [],
   "source": [
    "n = 1000\n",
    "x = da.coords[\"dropoff_longitude\"].values[::n]\n",
    "y = da.coords[\"dropoff_latitude\"].values[::n]\n",
    "scatter(x, y)"
   ]
  },
  {
   "cell_type": "markdown",
   "id": "5b5973a2-b1ef-4499-ab15-2b30cd183a92",
   "metadata": {
    "editable": true,
    "slideshow": {
     "slide_type": ""
    },
    "tags": []
   },
   "source": [
    "### Binning the data records\n",
    "\n",
    "- Working with binned data is most efficient when keeping the number of bins relatively low.\n",
    "- Binning is essentially like overlaying a grid of bin edges onto our data"
   ]
  },
  {
   "cell_type": "code",
   "execution_count": null,
   "id": "16b2ba41-115e-4b63-91b3-2a324bfd0e18",
   "metadata": {
    "editable": true,
    "slideshow": {
     "slide_type": ""
    },
    "tags": []
   },
   "outputs": [],
   "source": [
    "ax = scatter(x, y)\n",
    "for lon in np.linspace(*ax.get_xlim(), 9):\n",
    "    ax.axvline(lon, color=\"gray\")\n",
    "for lat in np.linspace(*ax.get_ylim(), 9):\n",
    "    ax.axhline(lat, color=\"gray\")"
   ]
  },
  {
   "cell_type": "code",
   "execution_count": null,
   "id": "a70c54e4-3050-4b11-8c84-3b7c00d94583",
   "metadata": {
    "editable": true,
    "slideshow": {
     "slide_type": ""
    },
    "tags": []
   },
   "outputs": [],
   "source": [
    "# Bin into 8 longitude & latitude bins\n",
    "binned = da.bin(dropoff_latitude=8, dropoff_longitude=8)\n",
    "binned"
   ]
  },
  {
   "cell_type": "code",
   "execution_count": null,
   "id": "f0ac90b5-0db2-4cf1-a46b-8971dd23b283",
   "metadata": {
    "editable": true,
    "slideshow": {
     "slide_type": ""
    },
    "tags": []
   },
   "outputs": [],
   "source": [
    "sc.show(binned)"
   ]
  },
  {
   "cell_type": "code",
   "execution_count": null,
   "id": "ea41121b-8269-4d73-a8de-45e0027c1d70",
   "metadata": {
    "editable": true,
    "slideshow": {
     "slide_type": ""
    },
    "tags": []
   },
   "outputs": [],
   "source": [
    "# Histogramming is summing all the counts in each bin\n",
    "\n",
    "binned_sum = binned.bins.sum()\n",
    "binned_hist = binned.hist()\n",
    "data_hist = da.hist(dropoff_latitude=8, dropoff_longitude=8)\n",
    "\n",
    "data_hist.plot(aspect=\"equal\", norm=\"log\") + binned_hist.plot(aspect=\"equal\", norm=\"log\") + binned_sum.plot(aspect=\"equal\", norm=\"log\")"
   ]
  },
  {
   "cell_type": "markdown",
   "id": "5634399f-4001-4f07-84ba-b0bb3c3aceab",
   "metadata": {
    "editable": true,
    "slideshow": {
     "slide_type": ""
    },
    "tags": []
   },
   "source": [
    "<br><br>\n",
    "\n",
    "### Selecting/slicing bins\n",
    "\n",
    "- Binning *groups* the data into bins, but keeps the underlying table of records beneath\n",
    "- **No information is lost, it is simply re-ordered**\n",
    "- The bins can then be used for slicing the data, providing extremely efficient data selection and filtering"
   ]
  },
  {
   "cell_type": "code",
   "execution_count": null,
   "id": "5eda030b-bf22-4253-ae51-817a49b5af45",
   "metadata": {
    "editable": true,
    "slideshow": {
     "slide_type": ""
    },
    "tags": []
   },
   "outputs": [],
   "source": [
    "manh = binned[\"dropoff_longitude\", 1][\"dropoff_latitude\", 4]\n",
    "manh"
   ]
  },
  {
   "cell_type": "code",
   "execution_count": null,
   "id": "cbe0f765-5b54-4e38-b8e4-c1e3ff4e297b",
   "metadata": {
    "editable": true,
    "slideshow": {
     "slide_type": ""
    },
    "tags": []
   },
   "outputs": [],
   "source": [
    "# We can now histogram this with a much finer resolution\n",
    "\n",
    "manh.hist(dropoff_latitude=300, dropoff_longitude=300).plot(norm=\"log\", aspect=\"equal\")"
   ]
  },
  {
   "cell_type": "code",
   "execution_count": null,
   "id": "d267521d-e645-4e45-926d-2afe07c2b44d",
   "metadata": {
    "editable": true,
    "slideshow": {
     "slide_type": ""
    },
    "tags": []
   },
   "outputs": [],
   "source": [
    "# We select another bin, which contains the JFK airport\n",
    "\n",
    "jfk = binned[\"dropoff_longitude\", 6][\"dropoff_latitude\", 1]\n",
    "jfk.hist(dropoff_latitude=300, dropoff_longitude=300).plot(norm=\"log\", aspect=\"equal\")"
   ]
  },
  {
   "cell_type": "markdown",
   "id": "770570b6-5a34-4e8f-b359-142093e4b7e0",
   "metadata": {
    "editable": true,
    "slideshow": {
     "slide_type": ""
    },
    "tags": []
   },
   "source": [
    "![jfk](https://upload.wikimedia.org/wikipedia/commons/thumb/5/5a/JFK_airport_terminal_map.png/640px-JFK_airport_terminal_map.png)\n",
    "\n",
    "(https://commons.wikimedia.org/wiki/File:JFK_airport_terminal_map.png)"
   ]
  },
  {
   "cell_type": "markdown",
   "id": "4048aef4-27ac-4296-a8a8-c59b1de897cc",
   "metadata": {
    "editable": true,
    "slideshow": {
     "slide_type": ""
    },
    "tags": []
   },
   "source": [
    "<br><br>\n",
    "\n",
    "### Binning into a new dimension\n",
    "\n",
    "- Data that has already been binned can also be binned further into new dimensions"
   ]
  },
  {
   "cell_type": "code",
   "execution_count": null,
   "id": "51cd60a5-dd43-4fda-9a9b-e8b5add46bdf",
   "metadata": {
    "editable": true,
    "slideshow": {
     "slide_type": ""
    },
    "tags": []
   },
   "outputs": [],
   "source": [
    "manh"
   ]
  },
  {
   "cell_type": "markdown",
   "id": "59a1c9cc-c661-4570-9d83-d0560201f449",
   "metadata": {
    "editable": true,
    "slideshow": {
     "slide_type": ""
    },
    "tags": []
   },
   "source": [
    "- we look at the trip distances inside the Manhattan and JFK bins we have selected above."
   ]
  },
  {
   "cell_type": "code",
   "execution_count": null,
   "id": "47734c5a-584c-44a9-8404-0cb8027624ea",
   "metadata": {
    "editable": true,
    "slideshow": {
     "slide_type": ""
    },
    "tags": []
   },
   "outputs": [],
   "source": [
    "# Use 100 distance bins\n",
    "manh_dist = manh.bin(trip_distance=100)\n",
    "manh_dist"
   ]
  },
  {
   "cell_type": "code",
   "execution_count": null,
   "id": "7a865a9c-e2a9-4fa8-8e58-fd68f9c9c835",
   "metadata": {
    "editable": true,
    "slideshow": {
     "slide_type": ""
    },
    "tags": []
   },
   "outputs": [],
   "source": [
    "manh_dist.hist().plot()"
   ]
  },
  {
   "cell_type": "code",
   "execution_count": null,
   "id": "39a77bf1-6338-40fd-a4e7-829110cbed1d",
   "metadata": {
    "editable": true,
    "slideshow": {
     "slide_type": ""
    },
    "tags": []
   },
   "outputs": [],
   "source": [
    "jfk_dist = jfk.bin(trip_distance=100)\n",
    "jfk_dist.hist().plot()"
   ]
  },
  {
   "cell_type": "markdown",
   "id": "b48ca7fb-3982-4a49-8465-3123eee72c38",
   "metadata": {
    "editable": true,
    "slideshow": {
     "slide_type": ""
    },
    "tags": []
   },
   "source": [
    "<br><br>\n",
    "\n",
    "\n",
    "### Other operations on bins: what is the fare amount as a function of distance?\n",
    "\n",
    "- In addition to summing/histogramming, bins can be used for other reduction operations: `min()`, `max()`, and `mean()`."
   ]
  },
  {
   "cell_type": "code",
   "execution_count": null,
   "id": "afa8b050-ba24-4d3c-aa93-843265e6473e",
   "metadata": {
    "editable": true,
    "slideshow": {
     "slide_type": ""
    },
    "tags": []
   },
   "outputs": [],
   "source": [
    "manh_dist"
   ]
  },
  {
   "cell_type": "markdown",
   "id": "2d8d5554-28a8-4f0a-a054-4e3eb21c4f61",
   "metadata": {
    "editable": true,
    "slideshow": {
     "slide_type": ""
    },
    "tags": []
   },
   "source": [
    "- To get the minimum and maximum fares for all trips that ended inside our Manhattan area, we can do"
   ]
  },
  {
   "cell_type": "code",
   "execution_count": null,
   "id": "58efcd20-039e-457b-9bb4-3e201aad17e6",
   "metadata": {
    "editable": true,
    "slideshow": {
     "slide_type": ""
    },
    "tags": []
   },
   "outputs": [],
   "source": [
    "manh_dist.bins.coords['fare_amount'].min(), manh.bins.coords['fare_amount'].max()"
   ]
  },
  {
   "cell_type": "markdown",
   "id": "a997f099-8b80-425c-afd1-8816215d2fa4",
   "metadata": {
    "editable": true,
    "slideshow": {
     "slide_type": ""
    },
    "tags": []
   },
   "source": [
    "- These values are somewhat strange, indicative of bad data in the table.\n",
    "- We restrict our fare range from \\\\$0 to \\\\$200."
   ]
  },
  {
   "cell_type": "code",
   "execution_count": null,
   "id": "d212a5fb-03b6-4477-ab8c-601e10cec8e4",
   "metadata": {
    "editable": true,
    "slideshow": {
     "slide_type": ""
    },
    "tags": []
   },
   "outputs": [],
   "source": [
    "# Make 100 bins between 0 and 200 dollars\n",
    "nbins = 100\n",
    "fare_bins = sc.linspace('fare_amount', 0, 200, nbins + 1, unit='dollar')\n",
    "\n",
    "# Bin & plot our data\n",
    "manh_dist.bin(fare_amount=fare_bins).hist().transpose().plot(norm=\"log\")"
   ]
  },
  {
   "cell_type": "markdown",
   "id": "9b7b3413-3c1b-46a2-8756-12e9b21d3018",
   "metadata": {
    "editable": true,
    "slideshow": {
     "slide_type": ""
    },
    "tags": []
   },
   "source": [
    "Some things we can say about the data:\n",
    "\n",
    "- there appears to be a (somewhat expected) correlation between fare amount and trip distance: the further you go, the more you'll have to pay\n",
    "- for a given trip distance, clients usually pay above the diagonal line, rarely below\n",
    "- there appears to be a magic fare amount of \\\\$52 that will take you anywhere from 0 to 60 miles!\n",
    "\n",
    "<br><br>\n",
    "\n",
    "## 4. Plopp: interactive data visualization tools\n",
    "\n",
    "<img src=\"https://scipp.github.io/plopp/_static/logo.svg\" width=\"200\" />\n",
    "\n",
    "https://scipp.github.io/plopp "
   ]
  },
  {
   "cell_type": "code",
   "execution_count": null,
   "id": "0a454655-bc5a-43fd-ae53-cdf0dc96b902",
   "metadata": {
    "editable": true,
    "slideshow": {
     "slide_type": ""
    },
    "tags": []
   },
   "outputs": [],
   "source": [
    "import plopp as pp\n",
    "\n",
    "fare_lat_lon = da.hist(fare_amount=fare_bins, dropoff_latitude=300, dropoff_longitude=300)\n",
    "fare_lat_lon"
   ]
  },
  {
   "cell_type": "code",
   "execution_count": null,
   "id": "bfd3d529-8f73-4147-86af-7a623063f496",
   "metadata": {
    "editable": true,
    "slideshow": {
     "slide_type": ""
    },
    "tags": []
   },
   "outputs": [],
   "source": [
    "pp.inspector(fare_lat_lon, dim='fare_amount', norm='log')"
   ]
  },
  {
   "cell_type": "markdown",
   "id": "ce48dba2-d420-463a-a6cf-748ffc8abb6d",
   "metadata": {
    "editable": true,
    "slideshow": {
     "slide_type": ""
    },
    "tags": []
   },
   "source": [
    "### Final Exercise."
   ]
  }
 ],
 "metadata": {
  "kernelspec": {
   "display_name": "Python 3 (ipykernel)",
   "language": "python",
   "name": "python3"
  },
  "language_info": {
   "codemirror_mode": {
    "name": "ipython",
    "version": 3
   },
   "file_extension": ".py",
   "mimetype": "text/x-python",
   "name": "python",
   "nbconvert_exporter": "python",
   "pygments_lexer": "ipython3",
   "version": "3.10.12"
  }
 },
 "nbformat": 4,
 "nbformat_minor": 5
}
