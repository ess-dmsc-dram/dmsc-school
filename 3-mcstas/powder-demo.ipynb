{
 "cells": [
  {
   "cell_type": "code",
   "execution_count": 1,
   "id": "4426c34d-ec7c-441d-bfab-7e755ad09e3f",
   "metadata": {},
   "outputs": [],
   "source": [
    "import mcstasscript as ms\n",
    "import make_powder_instrument\n",
    "import quizlib\n",
    "\n",
    "%matplotlib widget\n",
    "\n",
    "import numpy as np\n",
    "import mcstastox\n",
    "import scipp as sc\n",
    "\n",
    "from scippneutron.conversion.graph.beamline import beamline\n",
    "from scippneutron.conversion.graph.tof import elastic\n",
    "\n",
    "def read_event_union(data, source_name=\"Source\", sample_name=\"sample_position\"):\n",
    "    with mcstastox.Read(data[0].original_data_location) as file:\n",
    "        source_position, source_rotation = file.get_component_placement(source_name)\n",
    "        sample_position, sample_rotation = file.get_component_placement(sample_name)\n",
    "        \n",
    "        detector_comps = file.get_components_with_ids()\n",
    "        global_positions_all = None    \n",
    "    \n",
    "        for detector in detector_comps:\n",
    "            mon = ms.name_search(detector, data)\n",
    "    \n",
    "            y = mon.get_data_column(\"y\")\n",
    "            positions = np.column_stack((np.zeros_like(y), y, np.zeros_like(y)))\n",
    "            global_positions = file.transform(positions, detector)\n",
    "    \n",
    "            if global_positions_all is None:\n",
    "                global_positions_all = global_positions\n",
    "                event_weights = mon.get_data_column(\"p\")\n",
    "                event_times = mon.get_data_column(\"t\")\n",
    "            else:\n",
    "                global_positions_all = np.vstack((global_positions_all, global_positions))\n",
    "                event_weights = np.concatenate((event_weights, mon.get_data_column(\"p\")))\n",
    "                event_times = np.concatenate((event_times, mon.get_data_column(\"t\")))\n",
    "    \n",
    "        events = sc.DataArray(\n",
    "                data=sc.array(dims=['events'], unit=sc.units.counts, values=event_weights),\n",
    "                coords={\n",
    "                    'position' : sc.vectors(dims=['events'], values=global_positions_all, unit='m'),\n",
    "                    't': sc.array(dims=['events'], unit='s', values=event_times),\n",
    "                    'source_position': sc.vector(source_position, unit='m'),\n",
    "                    'sample_position': sc.vector(sample_position, unit='m'),                \n",
    "                })\n",
    "\n",
    "        return events\n",
    "\n",
    "def read_event_classic(data, source_name=\"Source\", sample_name=\"sample_position\"):\n",
    "    with mcstastox.Read(data[0].original_data_location) as file:\n",
    "        events = file.export_scipp_simple(source_name, sample_name)\n",
    "\n",
    "        detector_name_1 = \"Banana_large\"\n",
    "        detector_name_2 = \"Banana_small\"\n",
    "        variables_1 = file.get_component_variables(detector_name_1)\n",
    "        variables_2 = file.get_component_variables(detector_name_2)\n",
    "        if \"L\" in variables_1 and \"L\" in variables_2:\n",
    "            raw_event_data_1 = events.get_event_data(variables=[\"id\", \"t\", \"L\"], component_name=detector_name_1)\n",
    "            raw_event_data_2 = events.get_event_data(variables=[\"id\", \"t\", \"L\"], component_name=detector_name_2)\n",
    "            full_L = np.concatenate((raw_event_data_1[\"L\"], raw_event_data_2[\"L\"]))\n",
    "            \n",
    "    events.coords[\"x\"] = sc.array(dims=[\"events\"], values=events.coords[\"position\"].fields.x.values, unit=\"m\")\n",
    "    events.coords[\"y\"] = sc.array(dims=[\"events\"], values=events.coords[\"position\"].fields.y.values, unit=\"m\")\n",
    "    events.coords[\"z\"] = sc.array(dims=[\"events\"], values=events.coords[\"position\"].fields.z.values, unit=\"m\")\n",
    "\n",
    "    # Get ground truth simulated wavelength\n",
    "    if \"L\" in variables_1 and \"L\" in variables_2:\n",
    "        events.coords[\"sim_wavelength\"] = sc.array(dims=[\"events\"], values=raw_event_data[\"L\"], unit=\"Å\")\n",
    "\n",
    "    return events\n",
    "\n",
    "\n",
    "def analyze(data, union_detectors=False):\n",
    "\n",
    "    if union_detectors:\n",
    "        events = read_event_union(data)\n",
    "    else:\n",
    "        events = read_event_classic(data)\n",
    "    \n",
    "    # McStas provides absolute time, not time of flight\n",
    "    events.coords[\"tof\"] = events.coords[\"t\"]# - sc.to_unit(sc.scalar(2.86/2, unit=\"ms\"), \"s\")\n",
    "    \n",
    "    graph = {**beamline(scatter=True), **elastic(\"tof\")}\n",
    "    events = events.transform_coords(\"dspacing\", graph=graph)\n",
    "\n",
    "    return events\n",
    "\n",
    "def run(par_dict=None, settings_dict=None, union_detectors=False):\n",
    "\n",
    "    if par_dict is None:\n",
    "        par_dict = {}\n",
    "\n",
    "    if settings_dict is None:\n",
    "        settings_dict = {}\n",
    "\n",
    "    if \"NeXus\" not in settings_dict:\n",
    "        settings_dict[\"NeXus\"] = True\n",
    "\n",
    "    instrument = make_powder_instrument.make(union_detectors=False)\n",
    "    instrument.set_parameters(**par_dict)\n",
    "    instrument.settings(**settings_dict)\n",
    "    data = instrument.backengine()\n",
    "\n",
    "    events = analyze(data)\n",
    "\n",
    "    return events\n",
    "\n",
    "def plot_with_dspacings(events, filename, d_min=0):\n",
    "    d_hist = events.hist(dspacing=sc.linspace(\"dspacing\", 0.6, 3.0, num=800, unit=\"Å\", endpoint=False))\n",
    "    max_val = max(d_hist.values)\n",
    "\n",
    "    laz = np.loadtxt(filename)\n",
    "    d_spacings = laz[:, 5]\n",
    "    intensity = laz[:, 11]\n",
    "\n",
    "    intensity_normalized = intensity/intensity.max()\n",
    "\n",
    "    fig =  d_hist.plot()\n",
    "\n",
    "    for d_space, intensity_norm in zip(d_spacings, intensity_normalized):\n",
    "        if d_space > d_min:\n",
    "            fig.ax.plot([d_space, d_space], [0, max_val], \"-k\", alpha=intensity_norm)\n",
    "    \n",
    "    return fig\n",
    "\n",
    "def run_and_plot(par_dict=None, settings_dict=None, union_detectors=False):\n",
    "    events = run(par_dict, settings_dict, union_detectors)\n",
    "\n",
    "    if \"reflections\" in par_dict:\n",
    "        filename = par_dict[\"reflections\"].strip(('\"'))\n",
    "    else:\n",
    "        filename = \"Na2Ca3Al2F14.laz\"\n",
    "    \n",
    "    return plot_with_dspacings(events, filename, d_min=0.5)"
   ]
  },
  {
   "cell_type": "code",
   "execution_count": 2,
   "id": "0561791a-7f2c-4ab6-a706-42e0f9ed9c05",
   "metadata": {},
   "outputs": [
    {
     "name": "stdout",
     "output_type": "stream",
     "text": [
      "       l_min                      = 0.5                 // Minimum simulated wavelength [AA]\n",
      "       l_max                      = 4.0                 // Maximum simulated wavelength [AA]\n",
      "int    n_pulses                   = 1                   // Number of simulated pulses\n",
      "       guide_curve_deg            = 1.0                 // \n",
      "       chopper_wavelength_center  = 2.5                 // Center of wavelength band [AA]\n",
      "double frequency_multiplier       = 1                   // [1] Chopper frequency as multiple of source frequency\n",
      "       detector_height            = 2.5                 // \n",
      "string reflections                = \"Na2Ca3Al2F14.laz\"  // \n",
      "       sample_radius              = 0.01                // \n",
      "       sample_height              = 0.05                // \n"
     ]
    }
   ],
   "source": [
    "instrument = make_powder_instrument.make(union_detectors=False)\n",
    "instrument.show_parameters()"
   ]
  },
  {
   "cell_type": "markdown",
   "id": "2cf11e6e-a208-48c6-a49b-98d8939dbfc7",
   "metadata": {},
   "source": [
    "### Quick run for testing"
   ]
  },
  {
   "cell_type": "code",
   "execution_count": 3,
   "id": "81685319-800e-4fb5-8f3c-7f3284f64dd7",
   "metadata": {},
   "outputs": [
    {
     "data": {
      "application/vnd.jupyter.widget-view+json": {
       "model_id": "6e4b41a4b8594c68aff3ab1e01db53c3",
       "version_major": 2,
       "version_minor": 0
      },
      "text/plain": [
       "InteractiveFigure(children=(HBar(), HBar(children=(VBar(children=(Toolbar(children=(ButtonTool(icon='home', la…"
      ]
     },
     "execution_count": 3,
     "metadata": {},
     "output_type": "execute_result"
    }
   ],
   "source": [
    "pars = dict(reflections='\"Fe.laz\"', frequency_multiplier=3, guide_curve_deg=0, detector_height=1.5)\n",
    "settings = dict(suppress_output=True, ncount=5E7, mpi=10)\n",
    "\n",
    "fig = run_and_plot(pars, settings)\n",
    "fig"
   ]
  },
  {
   "cell_type": "markdown",
   "id": "570e9a5a-903d-4d69-80e5-70294c8ca43a",
   "metadata": {},
   "source": [
    "### Run and work with scipp object directly"
   ]
  },
  {
   "cell_type": "code",
   "execution_count": 4,
   "id": "73a97140-5ced-4473-b2f2-d35e8a186277",
   "metadata": {},
   "outputs": [],
   "source": [
    "settings[\"ncount\"]=1E9\n",
    "events = run(pars, settings)"
   ]
  },
  {
   "cell_type": "code",
   "execution_count": 5,
   "id": "4e150db3-ca95-4256-8017-9207c26d35cf",
   "metadata": {},
   "outputs": [
    {
     "data": {
      "text/html": [
       "<div><!-- Original source from -->\n",
       "<!-- https://github.com/jsignell/xarray/blob/1d960933ab252e0f79f7e050e6c9261d55568057/xarray/static/html/icons-svg-inline.html -->\n",
       "<svg style=\"position: absolute; width: 0; height: 0; overflow: hidden\">\n",
       "<defs>\n",
       "<symbol id=\"icon-database\" viewBox=\"0 0 32 32\">\n",
       "<title>Show/Hide data repr</title>\n",
       "<path d=\"M16 0c-8.837 0-16 2.239-16 5v4c0 2.761 7.163 5 16 5s16-2.239 16-5v-4c0-2.761-7.163-5-16-5z\"></path>\n",
       "<path d=\"M16 17c-8.837 0-16-2.239-16-5v6c0 2.761 7.163 5 16 5s16-2.239 16-5v-6c0 2.761-7.163 5-16 5z\"></path>\n",
       "<path d=\"M16 26c-8.837 0-16-2.239-16-5v6c0 2.761 7.163 5 16 5s16-2.239 16-5v-6c0 2.761-7.163 5-16 5z\"></path>\n",
       "</symbol>\n",
       "<symbol id=\"icon-file-text2\" viewBox=\"0 0 32 32\">\n",
       "<title>Show/Hide attributes</title>\n",
       "<path d=\"M28.681 7.159c-0.694-0.947-1.662-2.053-2.724-3.116s-2.169-2.030-3.116-2.724c-1.612-1.182-2.393-1.319-2.841-1.319h-15.5c-1.378 0-2.5 1.121-2.5 2.5v27c0 1.378 1.122 2.5 2.5 2.5h23c1.378 0 2.5-1.122 2.5-2.5v-19.5c0-0.448-0.137-1.23-1.319-2.841zM24.543 5.457c0.959 0.959 1.712 1.825 2.268 2.543h-4.811v-4.811c0.718 0.556 1.584 1.309 2.543 2.268zM28 29.5c0 0.271-0.229 0.5-0.5 0.5h-23c-0.271 0-0.5-0.229-0.5-0.5v-27c0-0.271 0.229-0.5 0.5-0.5 0 0 15.499-0 15.5 0v7c0 0.552 0.448 1 1 1h7v19.5z\"></path>\n",
       "<path d=\"M23 26h-14c-0.552 0-1-0.448-1-1s0.448-1 1-1h14c0.552 0 1 0.448 1 1s-0.448 1-1 1z\"></path>\n",
       "<path d=\"M23 22h-14c-0.552 0-1-0.448-1-1s0.448-1 1-1h14c0.552 0 1 0.448 1 1s-0.448 1-1 1z\"></path>\n",
       "<path d=\"M23 18h-14c-0.552 0-1-0.448-1-1s0.448-1 1-1h14c0.552 0 1 0.448 1 1s-0.448 1-1 1z\"></path>\n",
       "</symbol>\n",
       "</defs>\n",
       "</svg><style id=\"scipp-style-sheet\">.sc-root{--sc-background-color0:var(--jp-layout-color0,#fff);--sc-background-color1:var(--jp-layout-color1,#fcfcfc);--sc-background-color2:var(--jp-layout-color2,#efefef);--sc-inverse-background-color0:var(--jp-inverse-layout-color4,#111);--sc-font-color0:var(--jp-content-font-color0,#000);--sc-font-color1:var(--jp-content-font-color1,#555);--sc-font-color2:var(--jp-content-font-color2,#888);--sc-font-color3:var(--jp-content-font-color3,#ccc);}body.vscode-dark .sc-root{--sc-font-color0:rgba(255,255,255,1);--sc-font-color1:rgba(255,255,255,0.70);--sc-font-color2:rgba(255,255,255,0.54);--sc-font-color3:rgba(255,255,255,0.38);--sc-border-color:#1F1F1F;--sc-disabled-color:#515151;--sc-background-color0:#111111;--sc-background-color1:#111111;--sc-background-color2:#313131;}.sc-wrap{font-size:14px;min-width:300px;max-width:800px;}.sc-var-attrs .sc-wrap{padding-left:3em;}.sc-header{padding-top:6px;padding-bottom:6px;margin-bottom:4px;border-bottom:solid 1px #ddd;}.sc-header > div,.sc-header > ul{display:inline;margin-top:0;margin-bottom:0;}.sc-obj-type,.sc-array-name{margin-left:2px;margin-right:10px;}.sc-obj-type{color:var(--sc-font-color1);}.sc-underlying-size{color:var(--sc-font-color2);}.sc-sections,.reveal .sc-sections{padding-left:0 !important;display:grid;grid-template-columns:150px auto auto auto 1fr 20px 20px;}.sc-section-item{display:contents;}.sc-section-item input{display:none;}.sc-section-item input:enabled + label{cursor:pointer;color:var(--sc-font-color1);}.sc-section-item input:enabled + label:hover{color:var(--sc-font-color0);}.sc-section-summary{grid-column:1;font-weight:500;}.sc-section-summary > span{display:inline-block;padding-left:0.5em;}.sc-section-summary-in:disabled + label{color:var(--sc-font-color1);}.sc-section-summary-in + label:before{display:inline-block;content:'►';font-size:11px;width:15px;text-align:center;}.sc-section-summary-in:disabled + label:before{color:var(--sc-font-color3);}.sc-section-summary-in:checked + label:before{content:'▼';}.sc-section-summary-in:checked + label > span{display:none;}.sc-section-summary,.sc-section-inline-details{padding-top:4px;padding-bottom:4px;}.sc-section-inline-details{grid-column:2 / 6;}.sc-section-details{display:none;grid-column:1 / -1;margin-bottom:5px;}.sc-section-summary-in:checked ~ .sc-section-details{display:contents;}.sc-array-wrap{grid-column:1 / -1;display:grid;grid-template-columns:20px auto;}.sc-array-wrap > label{grid-column:1;vertical-align:top;}.sc-preview{color:var(--sc-font-color2);}.sc-array-preview,.sc-array-data{padding:0 5px !important;grid-column:2;}.sc-array-data,.sc-array-in:checked ~ .sc-array-preview{display:none;}.sc-array-in:checked ~ .sc-array-data,.sc-array-preview{display:inline-block;}.sc-dim-list{display:inline-block !important;list-style:none;padding:0 !important;margin:0;}.sc-dim-list li{display:inline-block;padding:0;margin:0!important;}.sc-dim-list:before{content:'(';}.sc-dim-list:after{content:')';}.sc-dim-list li:not(:last-child):after{content:',';padding-right:5px;}.sc-dim-list li span,.sc-standalone-var-name > span span,.sc-var-name > span span{padding:0 !important;}.sc-aligned{font-weight:bold;}.sc-var-list,.sc-var-item,.reveal .sc-var-list,.reveal .sc-var-item{display:contents;}.sc-var-item > div,.sc-var-item label,.sc-var-item > .sc-var-name span{background-color:var(--sc-background-color1);margin-bottom:0;}.sc-var-item > .sc-var-name:hover span{padding-right:5px;}.sc-var-list > li:nth-child(odd) > div,.sc-var-list > li:nth-child(odd) > label,.sc-var-list > li:nth-child(odd) > .sc-var-name span{background-color:var(--sc-background-color2);}.sc-var-name{grid-column:1;}.sc-var-dims{grid-column:2;}.sc-var-dtype{grid-column:3;text-align:right;color:var(--sc-font-color2);}.sc-var-unit{grid-column:4;text-align:left;color:var(--sc-font-color1);max-width:50pt;text-overflow:ellipsis;}.sc-value-preview{grid-column:5;}.sc-var-preview-variances{text-align:right;}.sc-sections .sc-section-item .sc-section-summary,.sc-sections .sc-section-item .sc-section-inline-details,.sc-section-item .sc-var-list .sc-var-item > div,.sc-section-item .sc-var-list .sc-var-item > label,.sc-section-details .sc-var-list .sc-var-item > div,.sc-section-details .sc-var-list .sc-var-item > label{margin-top:0;margin-bottom:0;}.sc-var-name,.sc-var-dims,.sc-var-dtype,.sc-var-unit,.sc-preview,.sc-attrs dt{white-space:nowrap;overflow:hidden;text-overflow:ellipsis;padding-right:10px;}.sc-var-name:hover,.sc-var-dims:hover,.sc-var-dtype:hover,.sc-var-unit:hover,.sc-attrs dt:hover{overflow:visible;width:auto;z-index:1;}.sc-var-attrs{display:block;}.sc-var-data,.reveal .sc-var-data{display:none;}.sc-var-attrs,.sc-var-data{background-color:var(--sc-background-color0) !important;padding-bottom:5px !important;}.sc-var-attrs-in:checked ~ .sc-var-attrs{display:none;}.sc-var-data-in:checked ~ .sc-var-data{display:block;}.sc-var-data > table{float:right;}.sc-var-name span,.sc-var-data{padding-left:25px !important;}.sc-var-attrs,.sc-var-data{grid-column:1 / -1;}dl.sc-attrs{padding:0;margin:0;display:grid;grid-template-columns:125px auto;}.sc-attrs dt,dd{padding:0;margin:0;float:left;padding-right:10px;width:auto;}.sc-attrs dt{font-weight:normal;grid-column:1;}.sc-attrs dt:hover span{display:inline-block;padding-right:10px;}.sc-attrs dd{grid-column:2;white-space:pre-wrap;word-break:break-all;}.sc-icon-database,.sc-icon-file-text2{display:inline-block;vertical-align:middle;width:1em;height:1.5em !important;stroke-width:0;stroke:currentColor;fill:currentColor;}label.sc-hide-icon svg{opacity:0;}.sc-standalone-var-name{grid-column:1/3;}.sc-standalone-var-name span{padding-left:25px;padding-right:10px;}.sc-title{font-weight:bold;font-size:1.5em;}.sc-subtitle{font-weight:normal;font-style:italic;text-align:left;font-size:1.2em;padding:1px;}.sc-label{fill:var(--sc-font-color0,#444444);text-anchor:middle;}.sc-name{fill:var(--sc-font-color0,#111111);}.sc-inset-line{stroke:var(--sc-font-color1);stroke-width:0.05;stroke-dasharray:0.2,0.2;}.sc-log-wrap{height:25ex;resize:vertical;overflow-y:scroll;display:flex;flex-direction:column-reverse;border:1px solid;border-color:var(--jp-border-color2);background-color:var(--sc-background-color1);}div.sc-log{line-height:2.5ex;}table.sc-log{table-layout:auto;border-collapse:collapse;}tr.sc-log:nth-child(even){background-color:var(--sc-background-color0);}tr.sc-log > td{vertical-align:top;padding-bottom:0.5ex;}.sc-log-time-stamp{min-width:22ch;font-family:var(--jp-code-font-family);color:var(--sc-font-color2);}.sc-log-level{min-width:10ch;}tr.sc-log-debug td.sc-log-level{color:var(--jp-accent-color1);}tr.sc-log-info td.sc-log-level{color:var(--jp-info-color1);}tr.sc-log-warning td.sc-log-level{color:var(--jp-warn-color1);}tr.sc-log-error td.sc-log-level{font-weight:bold;color:var(--jp-error-color2);}tr.sc-log-critical td.sc-log-level{font-weight:bold;color:var(--sc-background-color0);background-color:var(--jp-error-color1);}.sc-log-message{white-space:pre-wrap;width:100%;}.sc-log-html-payload{white-space:normal;}.sc-log-name{padding-right:0.5em;text-align:right;white-space:pre-wrap;color:var(--sc-font-color3);}</style><div class='sc-wrap sc-root'><div class='sc-header'><div class='sc-obj-type'>scipp.DataArray (43.00 MB)</div></div><ul class='sc-sections'><li class='sc-section-item'><input id='section-265b70e5-f75d-4883-9845-c4e658229792' class='sc-section-summary-in' type='checkbox' disabled ><label for='section-265b70e5-f75d-4883-9845-c4e658229792' class='sc-section-summary' >Dimensions:</label><div class='sc-section-inline-details'><ul class='sc-dim-list'><li><span>events</span>: 331524</li></ul></div><div class='sc-section-details'></div></li><li class='sc-section-item'><input id='section-74e31fc1-50ab-4868-a672-1cb75481fbe7' class='sc-section-summary-in' type='checkbox'  checked><label for='section-74e31fc1-50ab-4868-a672-1cb75481fbe7' class='sc-section-summary'  title='Expand/collapse section'>Coordinates: <span>(16)</span></label><div class='sc-section-inline-details'></div><div class='sc-section-details'><ul class='sc-var-list'><li class='sc-var-item'><div class='sc-var-name'><span>L1</span></div><div class='sc-var-dims'>()</div><div class='sc-var-dtype'>float64</div><div class='sc-var-unit'>m</div><div class='sc-value-preview sc-preview'><span><div>160.63899999999998</div></span></div><input id='attrs-3c404ce6-a9f0-41b4-8600-0286d4c87f7c' class='sc-var-attrs-in' type='checkbox' disabled><label for='attrs-3c404ce6-a9f0-41b4-8600-0286d4c87f7c' class='sc-hide-icon' title='Show/Hide attributes'><svg class='icon sc-icon-file-text2'><use xlink:href='#icon-file-text2'></use></svg></label><input id='data-20192c20-0fac-4b7d-9ef5-e065f1d68c66' class='sc-var-data-in' type='checkbox'><label for='data-20192c20-0fac-4b7d-9ef5-e065f1d68c66' title='Show/Hide data repr'><svg class='icon sc-icon-database'><use xlink:href='#icon-database'></use></svg></label><pre class='sc-var-data'>Values:<br>array(160.639)</pre></span></li><li class='sc-var-item'><div class='sc-var-name'><span>L2</span></div><div class='sc-var-dims'>(events)</div><div class='sc-var-dtype'>float64</div><div class='sc-var-unit'>m</div><div class='sc-value-preview sc-preview'><span><div>3.500, 3.558, ..., 3.500, 3.534</div></span></div><input id='attrs-d2852920-9fc6-4747-9558-8536ad781f76' class='sc-var-attrs-in' type='checkbox' disabled><label for='attrs-d2852920-9fc6-4747-9558-8536ad781f76' class='sc-hide-icon' title='Show/Hide attributes'><svg class='icon sc-icon-file-text2'><use xlink:href='#icon-file-text2'></use></svg></label><input id='data-d6b58aa7-b8be-4695-b631-62c116a4bd2e' class='sc-var-data-in' type='checkbox'><label for='data-d6b58aa7-b8be-4695-b631-62c116a4bd2e' title='Show/Hide data repr'><svg class='icon sc-icon-database'><use xlink:href='#icon-database'></use></svg></label><pre class='sc-var-data'>Values:<br>array([3.50020089, 3.55758433, 3.50020089, ..., 3.55758433, 3.50020089,\n",
       "       3.5337878 ], shape=(331524,))</pre></span></li><li class='sc-var-item'><div class='sc-var-name'><span>Ltotal</span></div><div class='sc-var-dims'>(events)</div><div class='sc-var-dtype'>float64</div><div class='sc-var-unit'>m</div><div class='sc-value-preview sc-preview'><span><div>164.139, 164.197, ..., 164.139, 164.173</div></span></div><input id='attrs-24be40a9-99b2-4da2-a85a-c0a9f8023aa4' class='sc-var-attrs-in' type='checkbox' disabled><label for='attrs-24be40a9-99b2-4da2-a85a-c0a9f8023aa4' class='sc-hide-icon' title='Show/Hide attributes'><svg class='icon sc-icon-file-text2'><use xlink:href='#icon-file-text2'></use></svg></label><input id='data-40ef7950-8191-4d5f-ad6c-19d3f7abec27' class='sc-var-data-in' type='checkbox'><label for='data-40ef7950-8191-4d5f-ad6c-19d3f7abec27' title='Show/Hide data repr'><svg class='icon sc-icon-database'><use xlink:href='#icon-database'></use></svg></label><pre class='sc-var-data'>Values:<br>array([164.13920089, 164.19658433, 164.13920089, ..., 164.19658433,\n",
       "       164.13920089, 164.1727878 ], shape=(331524,))</pre></span></li><li class='sc-var-item'><div class='sc-var-name'><span class='sc-aligned'>dspacing</span></div><div class='sc-var-dims'>(events)</div><div class='sc-var-dtype'>float64</div><div class='sc-var-unit'>Å</div><div class='sc-value-preview sc-preview'><span><div>2.125, 5.983, ..., 15.322, 4.645</div></span></div><input id='attrs-5571057f-ebbb-4bf8-baa9-7f40d56bd1d0' class='sc-var-attrs-in' type='checkbox' disabled><label for='attrs-5571057f-ebbb-4bf8-baa9-7f40d56bd1d0' class='sc-hide-icon' title='Show/Hide attributes'><svg class='icon sc-icon-file-text2'><use xlink:href='#icon-file-text2'></use></svg></label><input id='data-44da1faa-19a3-47cf-8d4f-faf2f5321667' class='sc-var-data-in' type='checkbox'><label for='data-44da1faa-19a3-47cf-8d4f-faf2f5321667' title='Show/Hide data repr'><svg class='icon sc-icon-database'><use xlink:href='#icon-database'></use></svg></label><pre class='sc-var-data'>Values:<br>array([ 2.12475966,  5.98340907,  1.19807276, ...,  9.40307281,\n",
       "       15.32166406,  4.64495514], shape=(331524,))</pre></span></li><li class='sc-var-item'><div class='sc-var-name'><span>incident_beam</span></div><div class='sc-var-dims'>()</div><div class='sc-var-dtype'>vector3</div><div class='sc-var-unit'>m</div><div class='sc-value-preview sc-preview'><span><div>[  0.      0.    160.639]</div></span></div><input id='attrs-efeec469-76b6-4381-82cf-39309a65abef' class='sc-var-attrs-in' type='checkbox' disabled><label for='attrs-efeec469-76b6-4381-82cf-39309a65abef' class='sc-hide-icon' title='Show/Hide attributes'><svg class='icon sc-icon-file-text2'><use xlink:href='#icon-file-text2'></use></svg></label><input id='data-aad68acb-0243-4f50-a88a-a707d02334f1' class='sc-var-data-in' type='checkbox'><label for='data-aad68acb-0243-4f50-a88a-a707d02334f1' title='Show/Hide data repr'><svg class='icon sc-icon-database'><use xlink:href='#icon-database'></use></svg></label><pre class='sc-var-data'>Values:<br>array([  0.   ,   0.   , 160.639])</pre></span></li><li class='sc-var-item'><div class='sc-var-name'><span>position</span></div><div class='sc-var-dims'>(events)</div><div class='sc-var-dtype'>vector3</div><div class='sc-var-unit'>m</div><div class='sc-value-preview sc-preview'><span><div>[2.61120081e+00 3.75000000e-02 1.58308414e+02], [  1.99498867   0.6375     163.51476428], ..., [-8.31900623e-01 -3.75000000e-02  1.64038697e+02], [ -1.73675776  -0.4875     163.67769585]</div></span></div><input id='attrs-e6101dd0-c514-47af-b204-857f1fc0b6b0' class='sc-var-attrs-in' type='checkbox' disabled><label for='attrs-e6101dd0-c514-47af-b204-857f1fc0b6b0' class='sc-hide-icon' title='Show/Hide attributes'><svg class='icon sc-icon-file-text2'><use xlink:href='#icon-file-text2'></use></svg></label><input id='data-c183fe0d-618b-43a4-bbfa-e3030aedac56' class='sc-var-data-in' type='checkbox'><label for='data-c183fe0d-618b-43a4-bbfa-e3030aedac56' title='Show/Hide data repr'><svg class='icon sc-icon-database'><use xlink:href='#icon-database'></use></svg></label><pre class='sc-var-data'>Values:<br>array([[ 2.61120081e+00,  3.75000000e-02,  1.58308414e+02],\n",
       "       [ 1.99498867e+00,  6.37500000e-01,  1.63514764e+02],\n",
       "       [ 1.18270851e+00, -3.75000000e-02,  1.57344884e+02],\n",
       "       ...,\n",
       "       [-1.00868694e+00, -6.37500000e-01,  1.63990500e+02],\n",
       "       [-8.31900623e-01, -3.75000000e-02,  1.64038697e+02],\n",
       "       [-1.73675776e+00, -4.87500000e-01,  1.63677696e+02]],\n",
       "      shape=(331524, 3))</pre></span></li><li class='sc-var-item'><div class='sc-var-name'><span>sample_position</span></div><div class='sc-var-dims'>()</div><div class='sc-var-dtype'>vector3</div><div class='sc-var-unit'>m</div><div class='sc-value-preview sc-preview'><span><div>[  0.      0.    160.639]</div></span></div><input id='attrs-aec789ae-195a-46e5-9dd6-66de02a2b1a8' class='sc-var-attrs-in' type='checkbox' disabled><label for='attrs-aec789ae-195a-46e5-9dd6-66de02a2b1a8' class='sc-hide-icon' title='Show/Hide attributes'><svg class='icon sc-icon-file-text2'><use xlink:href='#icon-file-text2'></use></svg></label><input id='data-23fcc063-7b5f-47c6-bece-148b3ea891b1' class='sc-var-data-in' type='checkbox'><label for='data-23fcc063-7b5f-47c6-bece-148b3ea891b1' title='Show/Hide data repr'><svg class='icon sc-icon-database'><use xlink:href='#icon-database'></use></svg></label><pre class='sc-var-data'>Values:<br>array([  0.   ,   0.   , 160.639])</pre></span></li><li class='sc-var-item'><div class='sc-var-name'><span>scattered_beam</span></div><div class='sc-var-dims'>(events)</div><div class='sc-var-dtype'>vector3</div><div class='sc-var-unit'>m</div><div class='sc-value-preview sc-preview'><span><div>[ 2.61120081  0.0375     -2.33058583], [1.99498867 0.6375     2.87576428], ..., [-0.83190062 -0.0375      3.39969724], [-1.73675776 -0.4875      3.03869585]</div></span></div><input id='attrs-2f456a77-7bb6-41c2-856d-c0340512433e' class='sc-var-attrs-in' type='checkbox' disabled><label for='attrs-2f456a77-7bb6-41c2-856d-c0340512433e' class='sc-hide-icon' title='Show/Hide attributes'><svg class='icon sc-icon-file-text2'><use xlink:href='#icon-file-text2'></use></svg></label><input id='data-00b32f79-a1ec-4eb4-9f96-878e5003d7f7' class='sc-var-data-in' type='checkbox'><label for='data-00b32f79-a1ec-4eb4-9f96-878e5003d7f7' title='Show/Hide data repr'><svg class='icon sc-icon-database'><use xlink:href='#icon-database'></use></svg></label><pre class='sc-var-data'>Values:<br>array([[ 2.61120081,  0.0375    , -2.33058583],\n",
       "       [ 1.99498867,  0.6375    ,  2.87576428],\n",
       "       [ 1.18270851, -0.0375    , -3.29411605],\n",
       "       ...,\n",
       "       [-1.00868694, -0.6375    ,  3.35149976],\n",
       "       [-0.83190062, -0.0375    ,  3.39969724],\n",
       "       [-1.73675776, -0.4875    ,  3.03869585]], shape=(331524, 3))</pre></span></li><li class='sc-var-item'><div class='sc-var-name'><span>source_position</span></div><div class='sc-var-dims'>()</div><div class='sc-var-dtype'>vector3</div><div class='sc-var-unit'>m</div><div class='sc-value-preview sc-preview'><span><div>[0. 0. 0.]</div></span></div><input id='attrs-cfe85761-7264-443f-bc6b-77e68195223e' class='sc-var-attrs-in' type='checkbox' disabled><label for='attrs-cfe85761-7264-443f-bc6b-77e68195223e' class='sc-hide-icon' title='Show/Hide attributes'><svg class='icon sc-icon-file-text2'><use xlink:href='#icon-file-text2'></use></svg></label><input id='data-f22212ab-ac9f-4b8b-ad47-c619f8ec5c85' class='sc-var-data-in' type='checkbox'><label for='data-f22212ab-ac9f-4b8b-ad47-c619f8ec5c85' title='Show/Hide data repr'><svg class='icon sc-icon-database'><use xlink:href='#icon-database'></use></svg></label><pre class='sc-var-data'>Values:<br>array([0., 0., 0.])</pre></span></li><li class='sc-var-item'><div class='sc-var-name'><span class='sc-aligned'>t</span></div><div class='sc-var-dims'>(events)</div><div class='sc-var-dtype'>float64</div><div class='sc-var-unit'>s</div><div class='sc-value-preview sc-preview'><span><div>0.161, 0.154, ..., 0.152, 0.102</div></span></div><input id='attrs-babd8bbb-311f-4bb1-809b-41da1df0ab8f' class='sc-var-attrs-in' type='checkbox' disabled><label for='attrs-babd8bbb-311f-4bb1-809b-41da1df0ab8f' class='sc-hide-icon' title='Show/Hide attributes'><svg class='icon sc-icon-file-text2'><use xlink:href='#icon-file-text2'></use></svg></label><input id='data-84670332-324b-4959-af3f-4484e52124f1' class='sc-var-data-in' type='checkbox'><label for='data-84670332-324b-4959-af3f-4484e52124f1' title='Show/Hide data repr'><svg class='icon sc-icon-database'><use xlink:href='#icon-database'></use></svg></label><pre class='sc-var-data'>Values:<br>array([0.16091414, 0.15375352, 0.09794379, ..., 0.13284158, 0.1523413 ,\n",
       "       0.10203763], shape=(331524,))</pre></span></li><li class='sc-var-item'><div class='sc-var-name'><span>tof</span></div><div class='sc-var-dims'>(events)</div><div class='sc-var-dtype'>float64</div><div class='sc-var-unit'>s</div><div class='sc-value-preview sc-preview'><span><div>0.161, 0.154, ..., 0.152, 0.102</div></span></div><input id='attrs-36a00455-d7dc-4236-b590-c79747e940ee' class='sc-var-attrs-in' type='checkbox' disabled><label for='attrs-36a00455-d7dc-4236-b590-c79747e940ee' class='sc-hide-icon' title='Show/Hide attributes'><svg class='icon sc-icon-file-text2'><use xlink:href='#icon-file-text2'></use></svg></label><input id='data-d22f60b0-42d3-473f-ade7-f49971de0804' class='sc-var-data-in' type='checkbox'><label for='data-d22f60b0-42d3-473f-ade7-f49971de0804' title='Show/Hide data repr'><svg class='icon sc-icon-database'><use xlink:href='#icon-database'></use></svg></label><pre class='sc-var-data'>Values:<br>array([0.16091414, 0.15375352, 0.09794379, ..., 0.13284158, 0.1523413 ,\n",
       "       0.10203763], shape=(331524,))</pre></span></li><li class='sc-var-item'><div class='sc-var-name'><span>two_theta</span></div><div class='sc-var-dims'>(events)</div><div class='sc-var-dtype'>float64</div><div class='sc-var-unit'>rad</div><div class='sc-value-preview sc-preview'><span><div>2.299, 0.629, ..., 0.240, 0.536</div></span></div><input id='attrs-496d3bcc-0396-4370-80d6-ab8161b6a066' class='sc-var-attrs-in' type='checkbox' disabled><label for='attrs-496d3bcc-0396-4370-80d6-ab8161b6a066' class='sc-hide-icon' title='Show/Hide attributes'><svg class='icon sc-icon-file-text2'><use xlink:href='#icon-file-text2'></use></svg></label><input id='data-2a95b949-9480-4c4e-9f8c-184e76774ade' class='sc-var-data-in' type='checkbox'><label for='data-2a95b949-9480-4c4e-9f8c-184e76774ade' title='Show/Hide data repr'><svg class='icon sc-icon-database'><use xlink:href='#icon-database'></use></svg></label><pre class='sc-var-data'>Values:<br>array([2.29942007, 0.62945671, 2.79673031, ..., 0.34204185, 0.24021721,\n",
       "       0.53572718], shape=(331524,))</pre></span></li><li class='sc-var-item'><div class='sc-var-name'><span class='sc-aligned'>wavelength</span></div><div class='sc-var-dims'>(events)</div><div class='sc-var-dtype'>float64</div><div class='sc-var-unit'>Å</div><div class='sc-value-preview sc-preview'><span><div>3.878, 3.704, ..., 3.672, 2.459</div></span></div><input id='attrs-91012b53-8af9-4b63-959f-de068b70d259' class='sc-var-attrs-in' type='checkbox' disabled><label for='attrs-91012b53-8af9-4b63-959f-de068b70d259' class='sc-hide-icon' title='Show/Hide attributes'><svg class='icon sc-icon-file-text2'><use xlink:href='#icon-file-text2'></use></svg></label><input id='data-cbbe9c95-4b6a-4c25-9dbf-8e7dd86f6306' class='sc-var-data-in' type='checkbox'><label for='data-cbbe9c95-4b6a-4c25-9dbf-8e7dd86f6306' title='Show/Hide data repr'><svg class='icon sc-icon-database'><use xlink:href='#icon-database'></use></svg></label><pre class='sc-var-data'>Values:<br>array([3.87830449, 3.70442643, 2.36061197, ..., 3.20058915, 3.67168445,\n",
       "       2.45877745], shape=(331524,))</pre></span></li><li class='sc-var-item'><div class='sc-var-name'><span class='sc-aligned'>x</span></div><div class='sc-var-dims'>(events)</div><div class='sc-var-dtype'>float64</div><div class='sc-var-unit'>m</div><div class='sc-value-preview sc-preview'><span><div>2.611, 1.995, ..., -0.832, -1.737</div></span></div><input id='attrs-8f2e76c5-3723-4470-ae74-33027047c72c' class='sc-var-attrs-in' type='checkbox' disabled><label for='attrs-8f2e76c5-3723-4470-ae74-33027047c72c' class='sc-hide-icon' title='Show/Hide attributes'><svg class='icon sc-icon-file-text2'><use xlink:href='#icon-file-text2'></use></svg></label><input id='data-0394ec9c-ca20-45e6-a231-7884b64c3e88' class='sc-var-data-in' type='checkbox'><label for='data-0394ec9c-ca20-45e6-a231-7884b64c3e88' title='Show/Hide data repr'><svg class='icon sc-icon-database'><use xlink:href='#icon-database'></use></svg></label><pre class='sc-var-data'>Values:<br>array([ 2.61120081,  1.99498867,  1.18270851, ..., -1.00868694,\n",
       "       -0.83190062, -1.73675776], shape=(331524,))</pre></span></li><li class='sc-var-item'><div class='sc-var-name'><span class='sc-aligned'>y</span></div><div class='sc-var-dims'>(events)</div><div class='sc-var-dtype'>float64</div><div class='sc-var-unit'>m</div><div class='sc-value-preview sc-preview'><span><div>0.037, 0.637, ..., -0.037, -0.487</div></span></div><input id='attrs-5925a43c-5776-4160-bd97-25d5cd205352' class='sc-var-attrs-in' type='checkbox' disabled><label for='attrs-5925a43c-5776-4160-bd97-25d5cd205352' class='sc-hide-icon' title='Show/Hide attributes'><svg class='icon sc-icon-file-text2'><use xlink:href='#icon-file-text2'></use></svg></label><input id='data-669d4701-62d4-489c-b139-578e633f2109' class='sc-var-data-in' type='checkbox'><label for='data-669d4701-62d4-489c-b139-578e633f2109' title='Show/Hide data repr'><svg class='icon sc-icon-database'><use xlink:href='#icon-database'></use></svg></label><pre class='sc-var-data'>Values:<br>array([ 0.0375,  0.6375, -0.0375, ..., -0.6375, -0.0375, -0.4875],\n",
       "      shape=(331524,))</pre></span></li><li class='sc-var-item'><div class='sc-var-name'><span class='sc-aligned'>z</span></div><div class='sc-var-dims'>(events)</div><div class='sc-var-dtype'>float64</div><div class='sc-var-unit'>m</div><div class='sc-value-preview sc-preview'><span><div>158.308, 163.515, ..., 164.039, 163.678</div></span></div><input id='attrs-543a9810-4fe8-4ea2-a1a3-f74ff085f81f' class='sc-var-attrs-in' type='checkbox' disabled><label for='attrs-543a9810-4fe8-4ea2-a1a3-f74ff085f81f' class='sc-hide-icon' title='Show/Hide attributes'><svg class='icon sc-icon-file-text2'><use xlink:href='#icon-file-text2'></use></svg></label><input id='data-1a28fa1d-2965-415b-8335-b3902267484c' class='sc-var-data-in' type='checkbox'><label for='data-1a28fa1d-2965-415b-8335-b3902267484c' title='Show/Hide data repr'><svg class='icon sc-icon-database'><use xlink:href='#icon-database'></use></svg></label><pre class='sc-var-data'>Values:<br>array([158.30841417, 163.51476428, 157.34488395, ..., 163.99049976,\n",
       "       164.03869724, 163.67769585], shape=(331524,))</pre></span></li></ul></div></li><li class='sc-section-item'><input id='section-41ce341d-49de-41b8-963f-81d104cb91b3' class='sc-section-summary-in' type='checkbox'  checked><label for='section-41ce341d-49de-41b8-963f-81d104cb91b3' class='sc-section-summary'  title='Expand/collapse section'>Data: <span>(1)</span></label><div class='sc-section-inline-details'></div><div class='sc-section-details'><ul class='sc-var-list'><li class='sc-var-item'><div class='sc-var-name'><span></span></div><div class='sc-var-dims'>(events)</div><div class='sc-var-dtype'>float64</div><div class='sc-var-unit'>counts</div><div class='sc-value-preview sc-preview'><span><div>0.000, 0.000, ..., 0.001, 8.160e-05</div></span></div><input id='attrs-5b1ac387-2d35-417a-aaf4-698ae5c28db1' class='sc-var-attrs-in' type='checkbox' disabled><label for='attrs-5b1ac387-2d35-417a-aaf4-698ae5c28db1' class='sc-hide-icon' title='Show/Hide attributes'><svg class='icon sc-icon-file-text2'><use xlink:href='#icon-file-text2'></use></svg></label><input id='data-7338bda8-cc53-466d-9c39-83000d71dc34' class='sc-var-data-in' type='checkbox'><label for='data-7338bda8-cc53-466d-9c39-83000d71dc34' title='Show/Hide data repr'><svg class='icon sc-icon-database'><use xlink:href='#icon-database'></use></svg></label><pre class='sc-var-data'>Values:<br>array([1.61020885e-04, 4.09729705e-04, 4.80577400e+01, ...,\n",
       "       1.29640143e-06, 5.79030461e-04, 8.16038612e-05], shape=(331524,))</pre></li></ul></div></li></ul></div></div>"
      ],
      "text/plain": [
       "<scipp.DataArray>\n",
       "Dimensions: Sizes[events:331524, ]\n",
       "Coordinates:\n",
       "  L1                        float64              [m]  ()  160.639\n",
       "  L2                        float64              [m]  (events)  [3.5002, 3.55758, ..., 3.5002, 3.53379]\n",
       "  Ltotal                    float64              [m]  (events)  [164.139, 164.197, ..., 164.139, 164.173]\n",
       "* dspacing                  float64             [Å]  (events)  [2.12476, 5.98341, ..., 15.3217, 4.64496]\n",
       "  incident_beam             vector3              [m]  ()  (0, 0, 160.639)\n",
       "  position                  vector3              [m]  (events)  [(2.6112, 0.0375, 158.308), (1.99499, 0.6375, 163.515), ..., (-0.831901, -0.0375, 164.039), (-1.73676, -0.4875, 163.678)]\n",
       "  sample_position           vector3              [m]  ()  (0, 0, 160.639)\n",
       "  scattered_beam            vector3              [m]  (events)  [(2.6112, 0.0375, -2.33059), (1.99499, 0.6375, 2.87576), ..., (-0.831901, -0.0375, 3.3997), (-1.73676, -0.4875, 3.0387)]\n",
       "  source_position           vector3              [m]  ()  (0, 0, 0)\n",
       "* t                         float64              [s]  (events)  [0.160914, 0.153754, ..., 0.152341, 0.102038]\n",
       "  tof                       float64              [s]  (events)  [0.160914, 0.153754, ..., 0.152341, 0.102038]\n",
       "  two_theta                 float64            [rad]  (events)  [2.29942, 0.629457, ..., 0.240217, 0.535727]\n",
       "* wavelength                float64             [Å]  (events)  [3.8783, 3.70443, ..., 3.67168, 2.45878]\n",
       "* x                         float64              [m]  (events)  [2.6112, 1.99499, ..., -0.831901, -1.73676]\n",
       "* y                         float64              [m]  (events)  [0.0375, 0.6375, ..., -0.0375, -0.4875]\n",
       "* z                         float64              [m]  (events)  [158.308, 163.515, ..., 164.039, 163.678]\n",
       "Data:\n",
       "                            float64         [counts]  (events)  [0.000161021, 0.00040973, ..., 0.00057903, 8.16039e-05]\n"
      ]
     },
     "execution_count": 5,
     "metadata": {},
     "output_type": "execute_result"
    }
   ],
   "source": [
    "graph = {**beamline(scatter=True), **elastic(\"tof\")}\n",
    "events = events.transform_coords(\"wavelength\", graph=graph)\n",
    "\n",
    "events"
   ]
  },
  {
   "cell_type": "code",
   "execution_count": 6,
   "id": "a08156a1-b046-4baf-9fd3-4d7c372a4e64",
   "metadata": {},
   "outputs": [
    {
     "data": {
      "application/vnd.jupyter.widget-view+json": {
       "model_id": "2771672eb6b14b4193ac1a5f3df4a407",
       "version_major": 2,
       "version_minor": 0
      },
      "text/plain": [
       "Figure(children=(HBar(children=(HTML(value=''),)), HBox(children=(VBar(children=(Toolbar(children=(ButtonTool(…"
      ]
     },
     "execution_count": 6,
     "metadata": {},
     "output_type": "execute_result"
    }
   ],
   "source": [
    "import plopp as pp\n",
    "\n",
    "pp.scatter3d(events[0::3], pos='position', size=0.02, cbar=True, norm=\"linear\")"
   ]
  },
  {
   "cell_type": "code",
   "execution_count": 7,
   "id": "77f3a780-76f5-4e27-a8dd-c926ae53e4ca",
   "metadata": {},
   "outputs": [
    {
     "data": {
      "text/html": [
       "<div><!-- Original source from -->\n",
       "<!-- https://github.com/jsignell/xarray/blob/1d960933ab252e0f79f7e050e6c9261d55568057/xarray/static/html/icons-svg-inline.html -->\n",
       "<svg style=\"position: absolute; width: 0; height: 0; overflow: hidden\">\n",
       "<defs>\n",
       "<symbol id=\"icon-database\" viewBox=\"0 0 32 32\">\n",
       "<title>Show/Hide data repr</title>\n",
       "<path d=\"M16 0c-8.837 0-16 2.239-16 5v4c0 2.761 7.163 5 16 5s16-2.239 16-5v-4c0-2.761-7.163-5-16-5z\"></path>\n",
       "<path d=\"M16 17c-8.837 0-16-2.239-16-5v6c0 2.761 7.163 5 16 5s16-2.239 16-5v-6c0 2.761-7.163 5-16 5z\"></path>\n",
       "<path d=\"M16 26c-8.837 0-16-2.239-16-5v6c0 2.761 7.163 5 16 5s16-2.239 16-5v-6c0 2.761-7.163 5-16 5z\"></path>\n",
       "</symbol>\n",
       "<symbol id=\"icon-file-text2\" viewBox=\"0 0 32 32\">\n",
       "<title>Show/Hide attributes</title>\n",
       "<path d=\"M28.681 7.159c-0.694-0.947-1.662-2.053-2.724-3.116s-2.169-2.030-3.116-2.724c-1.612-1.182-2.393-1.319-2.841-1.319h-15.5c-1.378 0-2.5 1.121-2.5 2.5v27c0 1.378 1.122 2.5 2.5 2.5h23c1.378 0 2.5-1.122 2.5-2.5v-19.5c0-0.448-0.137-1.23-1.319-2.841zM24.543 5.457c0.959 0.959 1.712 1.825 2.268 2.543h-4.811v-4.811c0.718 0.556 1.584 1.309 2.543 2.268zM28 29.5c0 0.271-0.229 0.5-0.5 0.5h-23c-0.271 0-0.5-0.229-0.5-0.5v-27c0-0.271 0.229-0.5 0.5-0.5 0 0 15.499-0 15.5 0v7c0 0.552 0.448 1 1 1h7v19.5z\"></path>\n",
       "<path d=\"M23 26h-14c-0.552 0-1-0.448-1-1s0.448-1 1-1h14c0.552 0 1 0.448 1 1s-0.448 1-1 1z\"></path>\n",
       "<path d=\"M23 22h-14c-0.552 0-1-0.448-1-1s0.448-1 1-1h14c0.552 0 1 0.448 1 1s-0.448 1-1 1z\"></path>\n",
       "<path d=\"M23 18h-14c-0.552 0-1-0.448-1-1s0.448-1 1-1h14c0.552 0 1 0.448 1 1s-0.448 1-1 1z\"></path>\n",
       "</symbol>\n",
       "</defs>\n",
       "</svg><style id=\"scipp-style-sheet\">.sc-root{--sc-background-color0:var(--jp-layout-color0,#fff);--sc-background-color1:var(--jp-layout-color1,#fcfcfc);--sc-background-color2:var(--jp-layout-color2,#efefef);--sc-inverse-background-color0:var(--jp-inverse-layout-color4,#111);--sc-font-color0:var(--jp-content-font-color0,#000);--sc-font-color1:var(--jp-content-font-color1,#555);--sc-font-color2:var(--jp-content-font-color2,#888);--sc-font-color3:var(--jp-content-font-color3,#ccc);}body.vscode-dark .sc-root{--sc-font-color0:rgba(255,255,255,1);--sc-font-color1:rgba(255,255,255,0.70);--sc-font-color2:rgba(255,255,255,0.54);--sc-font-color3:rgba(255,255,255,0.38);--sc-border-color:#1F1F1F;--sc-disabled-color:#515151;--sc-background-color0:#111111;--sc-background-color1:#111111;--sc-background-color2:#313131;}.sc-wrap{font-size:14px;min-width:300px;max-width:800px;}.sc-var-attrs .sc-wrap{padding-left:3em;}.sc-header{padding-top:6px;padding-bottom:6px;margin-bottom:4px;border-bottom:solid 1px #ddd;}.sc-header > div,.sc-header > ul{display:inline;margin-top:0;margin-bottom:0;}.sc-obj-type,.sc-array-name{margin-left:2px;margin-right:10px;}.sc-obj-type{color:var(--sc-font-color1);}.sc-underlying-size{color:var(--sc-font-color2);}.sc-sections,.reveal .sc-sections{padding-left:0 !important;display:grid;grid-template-columns:150px auto auto auto 1fr 20px 20px;}.sc-section-item{display:contents;}.sc-section-item input{display:none;}.sc-section-item input:enabled + label{cursor:pointer;color:var(--sc-font-color1);}.sc-section-item input:enabled + label:hover{color:var(--sc-font-color0);}.sc-section-summary{grid-column:1;font-weight:500;}.sc-section-summary > span{display:inline-block;padding-left:0.5em;}.sc-section-summary-in:disabled + label{color:var(--sc-font-color1);}.sc-section-summary-in + label:before{display:inline-block;content:'►';font-size:11px;width:15px;text-align:center;}.sc-section-summary-in:disabled + label:before{color:var(--sc-font-color3);}.sc-section-summary-in:checked + label:before{content:'▼';}.sc-section-summary-in:checked + label > span{display:none;}.sc-section-summary,.sc-section-inline-details{padding-top:4px;padding-bottom:4px;}.sc-section-inline-details{grid-column:2 / 6;}.sc-section-details{display:none;grid-column:1 / -1;margin-bottom:5px;}.sc-section-summary-in:checked ~ .sc-section-details{display:contents;}.sc-array-wrap{grid-column:1 / -1;display:grid;grid-template-columns:20px auto;}.sc-array-wrap > label{grid-column:1;vertical-align:top;}.sc-preview{color:var(--sc-font-color2);}.sc-array-preview,.sc-array-data{padding:0 5px !important;grid-column:2;}.sc-array-data,.sc-array-in:checked ~ .sc-array-preview{display:none;}.sc-array-in:checked ~ .sc-array-data,.sc-array-preview{display:inline-block;}.sc-dim-list{display:inline-block !important;list-style:none;padding:0 !important;margin:0;}.sc-dim-list li{display:inline-block;padding:0;margin:0!important;}.sc-dim-list:before{content:'(';}.sc-dim-list:after{content:')';}.sc-dim-list li:not(:last-child):after{content:',';padding-right:5px;}.sc-dim-list li span,.sc-standalone-var-name > span span,.sc-var-name > span span{padding:0 !important;}.sc-aligned{font-weight:bold;}.sc-var-list,.sc-var-item,.reveal .sc-var-list,.reveal .sc-var-item{display:contents;}.sc-var-item > div,.sc-var-item label,.sc-var-item > .sc-var-name span{background-color:var(--sc-background-color1);margin-bottom:0;}.sc-var-item > .sc-var-name:hover span{padding-right:5px;}.sc-var-list > li:nth-child(odd) > div,.sc-var-list > li:nth-child(odd) > label,.sc-var-list > li:nth-child(odd) > .sc-var-name span{background-color:var(--sc-background-color2);}.sc-var-name{grid-column:1;}.sc-var-dims{grid-column:2;}.sc-var-dtype{grid-column:3;text-align:right;color:var(--sc-font-color2);}.sc-var-unit{grid-column:4;text-align:left;color:var(--sc-font-color1);max-width:50pt;text-overflow:ellipsis;}.sc-value-preview{grid-column:5;}.sc-var-preview-variances{text-align:right;}.sc-sections .sc-section-item .sc-section-summary,.sc-sections .sc-section-item .sc-section-inline-details,.sc-section-item .sc-var-list .sc-var-item > div,.sc-section-item .sc-var-list .sc-var-item > label,.sc-section-details .sc-var-list .sc-var-item > div,.sc-section-details .sc-var-list .sc-var-item > label{margin-top:0;margin-bottom:0;}.sc-var-name,.sc-var-dims,.sc-var-dtype,.sc-var-unit,.sc-preview,.sc-attrs dt{white-space:nowrap;overflow:hidden;text-overflow:ellipsis;padding-right:10px;}.sc-var-name:hover,.sc-var-dims:hover,.sc-var-dtype:hover,.sc-var-unit:hover,.sc-attrs dt:hover{overflow:visible;width:auto;z-index:1;}.sc-var-attrs{display:block;}.sc-var-data,.reveal .sc-var-data{display:none;}.sc-var-attrs,.sc-var-data{background-color:var(--sc-background-color0) !important;padding-bottom:5px !important;}.sc-var-attrs-in:checked ~ .sc-var-attrs{display:none;}.sc-var-data-in:checked ~ .sc-var-data{display:block;}.sc-var-data > table{float:right;}.sc-var-name span,.sc-var-data{padding-left:25px !important;}.sc-var-attrs,.sc-var-data{grid-column:1 / -1;}dl.sc-attrs{padding:0;margin:0;display:grid;grid-template-columns:125px auto;}.sc-attrs dt,dd{padding:0;margin:0;float:left;padding-right:10px;width:auto;}.sc-attrs dt{font-weight:normal;grid-column:1;}.sc-attrs dt:hover span{display:inline-block;padding-right:10px;}.sc-attrs dd{grid-column:2;white-space:pre-wrap;word-break:break-all;}.sc-icon-database,.sc-icon-file-text2{display:inline-block;vertical-align:middle;width:1em;height:1.5em !important;stroke-width:0;stroke:currentColor;fill:currentColor;}label.sc-hide-icon svg{opacity:0;}.sc-standalone-var-name{grid-column:1/3;}.sc-standalone-var-name span{padding-left:25px;padding-right:10px;}.sc-title{font-weight:bold;font-size:1.5em;}.sc-subtitle{font-weight:normal;font-style:italic;text-align:left;font-size:1.2em;padding:1px;}.sc-label{fill:var(--sc-font-color0,#444444);text-anchor:middle;}.sc-name{fill:var(--sc-font-color0,#111111);}.sc-inset-line{stroke:var(--sc-font-color1);stroke-width:0.05;stroke-dasharray:0.2,0.2;}.sc-log-wrap{height:25ex;resize:vertical;overflow-y:scroll;display:flex;flex-direction:column-reverse;border:1px solid;border-color:var(--jp-border-color2);background-color:var(--sc-background-color1);}div.sc-log{line-height:2.5ex;}table.sc-log{table-layout:auto;border-collapse:collapse;}tr.sc-log:nth-child(even){background-color:var(--sc-background-color0);}tr.sc-log > td{vertical-align:top;padding-bottom:0.5ex;}.sc-log-time-stamp{min-width:22ch;font-family:var(--jp-code-font-family);color:var(--sc-font-color2);}.sc-log-level{min-width:10ch;}tr.sc-log-debug td.sc-log-level{color:var(--jp-accent-color1);}tr.sc-log-info td.sc-log-level{color:var(--jp-info-color1);}tr.sc-log-warning td.sc-log-level{color:var(--jp-warn-color1);}tr.sc-log-error td.sc-log-level{font-weight:bold;color:var(--jp-error-color2);}tr.sc-log-critical td.sc-log-level{font-weight:bold;color:var(--sc-background-color0);background-color:var(--jp-error-color1);}.sc-log-message{white-space:pre-wrap;width:100%;}.sc-log-html-payload{white-space:normal;}.sc-log-name{padding-right:0.5em;text-align:right;white-space:pre-wrap;color:var(--sc-font-color3);}</style><div class='sc-wrap sc-root'><div class='sc-header'><div class='sc-obj-type'>scipp.DataArray (43.00 MB)</div></div><ul class='sc-sections'><li class='sc-section-item'><input id='section-c20ffe87-425a-42fd-866c-e442076ae774' class='sc-section-summary-in' type='checkbox' disabled ><label for='section-c20ffe87-425a-42fd-866c-e442076ae774' class='sc-section-summary' >Dimensions:</label><div class='sc-section-inline-details'><ul class='sc-dim-list'><li><span>events</span>: 331524</li></ul></div><div class='sc-section-details'></div></li><li class='sc-section-item'><input id='section-83f5d16f-48e9-410a-b4b7-48a8d4c7325d' class='sc-section-summary-in' type='checkbox'  checked><label for='section-83f5d16f-48e9-410a-b4b7-48a8d4c7325d' class='sc-section-summary'  title='Expand/collapse section'>Coordinates: <span>(16)</span></label><div class='sc-section-inline-details'></div><div class='sc-section-details'><ul class='sc-var-list'><li class='sc-var-item'><div class='sc-var-name'><span>L1</span></div><div class='sc-var-dims'>()</div><div class='sc-var-dtype'>float64</div><div class='sc-var-unit'>m</div><div class='sc-value-preview sc-preview'><span><div>160.63899999999998</div></span></div><input id='attrs-69bad031-6ed6-4e82-93bf-df401cac42ac' class='sc-var-attrs-in' type='checkbox' disabled><label for='attrs-69bad031-6ed6-4e82-93bf-df401cac42ac' class='sc-hide-icon' title='Show/Hide attributes'><svg class='icon sc-icon-file-text2'><use xlink:href='#icon-file-text2'></use></svg></label><input id='data-71993494-5911-45fd-90cd-7c1a04ed7b72' class='sc-var-data-in' type='checkbox'><label for='data-71993494-5911-45fd-90cd-7c1a04ed7b72' title='Show/Hide data repr'><svg class='icon sc-icon-database'><use xlink:href='#icon-database'></use></svg></label><pre class='sc-var-data'>Values:<br>array(160.639)</pre></span></li><li class='sc-var-item'><div class='sc-var-name'><span>L2</span></div><div class='sc-var-dims'>(events)</div><div class='sc-var-dtype'>float64</div><div class='sc-var-unit'>m</div><div class='sc-value-preview sc-preview'><span><div>3.500, 3.558, ..., 3.500, 3.534</div></span></div><input id='attrs-54fda4a7-32c9-41ab-9069-f947f171b05e' class='sc-var-attrs-in' type='checkbox' disabled><label for='attrs-54fda4a7-32c9-41ab-9069-f947f171b05e' class='sc-hide-icon' title='Show/Hide attributes'><svg class='icon sc-icon-file-text2'><use xlink:href='#icon-file-text2'></use></svg></label><input id='data-8932b908-70a2-4fe6-bf3d-c8bfea8a3748' class='sc-var-data-in' type='checkbox'><label for='data-8932b908-70a2-4fe6-bf3d-c8bfea8a3748' title='Show/Hide data repr'><svg class='icon sc-icon-database'><use xlink:href='#icon-database'></use></svg></label><pre class='sc-var-data'>Values:<br>array([3.50020089, 3.55758433, 3.50020089, ..., 3.55758433, 3.50020089,\n",
       "       3.5337878 ], shape=(331524,))</pre></span></li><li class='sc-var-item'><div class='sc-var-name'><span>Ltotal</span></div><div class='sc-var-dims'>(events)</div><div class='sc-var-dtype'>float64</div><div class='sc-var-unit'>m</div><div class='sc-value-preview sc-preview'><span><div>164.139, 164.197, ..., 164.139, 164.173</div></span></div><input id='attrs-aa3044c7-f872-4c8d-9383-367d1e90474d' class='sc-var-attrs-in' type='checkbox' disabled><label for='attrs-aa3044c7-f872-4c8d-9383-367d1e90474d' class='sc-hide-icon' title='Show/Hide attributes'><svg class='icon sc-icon-file-text2'><use xlink:href='#icon-file-text2'></use></svg></label><input id='data-043f1ee8-015b-481b-9d77-9a568b925ecb' class='sc-var-data-in' type='checkbox'><label for='data-043f1ee8-015b-481b-9d77-9a568b925ecb' title='Show/Hide data repr'><svg class='icon sc-icon-database'><use xlink:href='#icon-database'></use></svg></label><pre class='sc-var-data'>Values:<br>array([164.13920089, 164.19658433, 164.13920089, ..., 164.19658433,\n",
       "       164.13920089, 164.1727878 ], shape=(331524,))</pre></span></li><li class='sc-var-item'><div class='sc-var-name'><span class='sc-aligned'>dspacing</span></div><div class='sc-var-dims'>(events)</div><div class='sc-var-dtype'>float64</div><div class='sc-var-unit'>Å</div><div class='sc-value-preview sc-preview'><span><div>2.125, 5.983, ..., 15.322, 4.645</div></span></div><input id='attrs-b4e71959-6970-4a9f-b5d4-f0dd42992d65' class='sc-var-attrs-in' type='checkbox' disabled><label for='attrs-b4e71959-6970-4a9f-b5d4-f0dd42992d65' class='sc-hide-icon' title='Show/Hide attributes'><svg class='icon sc-icon-file-text2'><use xlink:href='#icon-file-text2'></use></svg></label><input id='data-57c4b078-7a21-4705-bf55-41e64862eb37' class='sc-var-data-in' type='checkbox'><label for='data-57c4b078-7a21-4705-bf55-41e64862eb37' title='Show/Hide data repr'><svg class='icon sc-icon-database'><use xlink:href='#icon-database'></use></svg></label><pre class='sc-var-data'>Values:<br>array([ 2.12475966,  5.98340907,  1.19807276, ...,  9.40307281,\n",
       "       15.32166406,  4.64495514], shape=(331524,))</pre></span></li><li class='sc-var-item'><div class='sc-var-name'><span>incident_beam</span></div><div class='sc-var-dims'>()</div><div class='sc-var-dtype'>vector3</div><div class='sc-var-unit'>m</div><div class='sc-value-preview sc-preview'><span><div>[  0.      0.    160.639]</div></span></div><input id='attrs-10062b45-b567-4f24-be3e-d55389a2eced' class='sc-var-attrs-in' type='checkbox' disabled><label for='attrs-10062b45-b567-4f24-be3e-d55389a2eced' class='sc-hide-icon' title='Show/Hide attributes'><svg class='icon sc-icon-file-text2'><use xlink:href='#icon-file-text2'></use></svg></label><input id='data-456fa40d-aad4-4e03-b47a-bfc1aba0e642' class='sc-var-data-in' type='checkbox'><label for='data-456fa40d-aad4-4e03-b47a-bfc1aba0e642' title='Show/Hide data repr'><svg class='icon sc-icon-database'><use xlink:href='#icon-database'></use></svg></label><pre class='sc-var-data'>Values:<br>array([  0.   ,   0.   , 160.639])</pre></span></li><li class='sc-var-item'><div class='sc-var-name'><span>position</span></div><div class='sc-var-dims'>(events)</div><div class='sc-var-dtype'>vector3</div><div class='sc-var-unit'>m</div><div class='sc-value-preview sc-preview'><span><div>[2.61120081e+00 3.75000000e-02 1.58308414e+02], [  1.99498867   0.6375     163.51476428], ..., [-8.31900623e-01 -3.75000000e-02  1.64038697e+02], [ -1.73675776  -0.4875     163.67769585]</div></span></div><input id='attrs-8270f44b-2190-41af-8705-8f979295563f' class='sc-var-attrs-in' type='checkbox' disabled><label for='attrs-8270f44b-2190-41af-8705-8f979295563f' class='sc-hide-icon' title='Show/Hide attributes'><svg class='icon sc-icon-file-text2'><use xlink:href='#icon-file-text2'></use></svg></label><input id='data-46ddd3ea-dc5f-4ce8-a3a4-6c2e70de7f1e' class='sc-var-data-in' type='checkbox'><label for='data-46ddd3ea-dc5f-4ce8-a3a4-6c2e70de7f1e' title='Show/Hide data repr'><svg class='icon sc-icon-database'><use xlink:href='#icon-database'></use></svg></label><pre class='sc-var-data'>Values:<br>array([[ 2.61120081e+00,  3.75000000e-02,  1.58308414e+02],\n",
       "       [ 1.99498867e+00,  6.37500000e-01,  1.63514764e+02],\n",
       "       [ 1.18270851e+00, -3.75000000e-02,  1.57344884e+02],\n",
       "       ...,\n",
       "       [-1.00868694e+00, -6.37500000e-01,  1.63990500e+02],\n",
       "       [-8.31900623e-01, -3.75000000e-02,  1.64038697e+02],\n",
       "       [-1.73675776e+00, -4.87500000e-01,  1.63677696e+02]],\n",
       "      shape=(331524, 3))</pre></span></li><li class='sc-var-item'><div class='sc-var-name'><span>sample_position</span></div><div class='sc-var-dims'>()</div><div class='sc-var-dtype'>vector3</div><div class='sc-var-unit'>m</div><div class='sc-value-preview sc-preview'><span><div>[  0.      0.    160.639]</div></span></div><input id='attrs-9b8b95d4-0857-41c8-8dd7-6e784dd5f6b0' class='sc-var-attrs-in' type='checkbox' disabled><label for='attrs-9b8b95d4-0857-41c8-8dd7-6e784dd5f6b0' class='sc-hide-icon' title='Show/Hide attributes'><svg class='icon sc-icon-file-text2'><use xlink:href='#icon-file-text2'></use></svg></label><input id='data-947ec50a-bd5c-4c17-b29c-40f4e52bf236' class='sc-var-data-in' type='checkbox'><label for='data-947ec50a-bd5c-4c17-b29c-40f4e52bf236' title='Show/Hide data repr'><svg class='icon sc-icon-database'><use xlink:href='#icon-database'></use></svg></label><pre class='sc-var-data'>Values:<br>array([  0.   ,   0.   , 160.639])</pre></span></li><li class='sc-var-item'><div class='sc-var-name'><span>scattered_beam</span></div><div class='sc-var-dims'>(events)</div><div class='sc-var-dtype'>vector3</div><div class='sc-var-unit'>m</div><div class='sc-value-preview sc-preview'><span><div>[ 2.61120081  0.0375     -2.33058583], [1.99498867 0.6375     2.87576428], ..., [-0.83190062 -0.0375      3.39969724], [-1.73675776 -0.4875      3.03869585]</div></span></div><input id='attrs-ee11e314-f66f-4425-9336-f6f92ce1c777' class='sc-var-attrs-in' type='checkbox' disabled><label for='attrs-ee11e314-f66f-4425-9336-f6f92ce1c777' class='sc-hide-icon' title='Show/Hide attributes'><svg class='icon sc-icon-file-text2'><use xlink:href='#icon-file-text2'></use></svg></label><input id='data-88949619-cafe-4803-8e6f-361549d1e51d' class='sc-var-data-in' type='checkbox'><label for='data-88949619-cafe-4803-8e6f-361549d1e51d' title='Show/Hide data repr'><svg class='icon sc-icon-database'><use xlink:href='#icon-database'></use></svg></label><pre class='sc-var-data'>Values:<br>array([[ 2.61120081,  0.0375    , -2.33058583],\n",
       "       [ 1.99498867,  0.6375    ,  2.87576428],\n",
       "       [ 1.18270851, -0.0375    , -3.29411605],\n",
       "       ...,\n",
       "       [-1.00868694, -0.6375    ,  3.35149976],\n",
       "       [-0.83190062, -0.0375    ,  3.39969724],\n",
       "       [-1.73675776, -0.4875    ,  3.03869585]], shape=(331524, 3))</pre></span></li><li class='sc-var-item'><div class='sc-var-name'><span>source_position</span></div><div class='sc-var-dims'>()</div><div class='sc-var-dtype'>vector3</div><div class='sc-var-unit'>m</div><div class='sc-value-preview sc-preview'><span><div>[0. 0. 0.]</div></span></div><input id='attrs-b2724346-c00b-48a8-a437-aa68706181c1' class='sc-var-attrs-in' type='checkbox' disabled><label for='attrs-b2724346-c00b-48a8-a437-aa68706181c1' class='sc-hide-icon' title='Show/Hide attributes'><svg class='icon sc-icon-file-text2'><use xlink:href='#icon-file-text2'></use></svg></label><input id='data-1ef021b3-a2ef-4aa6-9470-185603c8ee37' class='sc-var-data-in' type='checkbox'><label for='data-1ef021b3-a2ef-4aa6-9470-185603c8ee37' title='Show/Hide data repr'><svg class='icon sc-icon-database'><use xlink:href='#icon-database'></use></svg></label><pre class='sc-var-data'>Values:<br>array([0., 0., 0.])</pre></span></li><li class='sc-var-item'><div class='sc-var-name'><span class='sc-aligned'>t</span></div><div class='sc-var-dims'>(events)</div><div class='sc-var-dtype'>float64</div><div class='sc-var-unit'>s</div><div class='sc-value-preview sc-preview'><span><div>0.161, 0.154, ..., 0.152, 0.102</div></span></div><input id='attrs-e1b44b7d-5d6c-4023-88a0-80de2fbef611' class='sc-var-attrs-in' type='checkbox' disabled><label for='attrs-e1b44b7d-5d6c-4023-88a0-80de2fbef611' class='sc-hide-icon' title='Show/Hide attributes'><svg class='icon sc-icon-file-text2'><use xlink:href='#icon-file-text2'></use></svg></label><input id='data-692fabee-e8cc-467d-a2d1-a9b1a5105d69' class='sc-var-data-in' type='checkbox'><label for='data-692fabee-e8cc-467d-a2d1-a9b1a5105d69' title='Show/Hide data repr'><svg class='icon sc-icon-database'><use xlink:href='#icon-database'></use></svg></label><pre class='sc-var-data'>Values:<br>array([0.16091414, 0.15375352, 0.09794379, ..., 0.13284158, 0.1523413 ,\n",
       "       0.10203763], shape=(331524,))</pre></span></li><li class='sc-var-item'><div class='sc-var-name'><span>tof</span></div><div class='sc-var-dims'>(events)</div><div class='sc-var-dtype'>float64</div><div class='sc-var-unit'>s</div><div class='sc-value-preview sc-preview'><span><div>0.161, 0.154, ..., 0.152, 0.102</div></span></div><input id='attrs-22e01939-7806-4d62-94a8-8ceb71bfcae0' class='sc-var-attrs-in' type='checkbox' disabled><label for='attrs-22e01939-7806-4d62-94a8-8ceb71bfcae0' class='sc-hide-icon' title='Show/Hide attributes'><svg class='icon sc-icon-file-text2'><use xlink:href='#icon-file-text2'></use></svg></label><input id='data-820b8e64-0d7f-47d4-872b-51a032908035' class='sc-var-data-in' type='checkbox'><label for='data-820b8e64-0d7f-47d4-872b-51a032908035' title='Show/Hide data repr'><svg class='icon sc-icon-database'><use xlink:href='#icon-database'></use></svg></label><pre class='sc-var-data'>Values:<br>array([0.16091414, 0.15375352, 0.09794379, ..., 0.13284158, 0.1523413 ,\n",
       "       0.10203763], shape=(331524,))</pre></span></li><li class='sc-var-item'><div class='sc-var-name'><span>two_theta</span></div><div class='sc-var-dims'>(events)</div><div class='sc-var-dtype'>float64</div><div class='sc-var-unit'>rad</div><div class='sc-value-preview sc-preview'><span><div>2.299, 0.629, ..., 0.240, 0.536</div></span></div><input id='attrs-f160bf82-40d1-440d-a885-15a1fb3e1d89' class='sc-var-attrs-in' type='checkbox' disabled><label for='attrs-f160bf82-40d1-440d-a885-15a1fb3e1d89' class='sc-hide-icon' title='Show/Hide attributes'><svg class='icon sc-icon-file-text2'><use xlink:href='#icon-file-text2'></use></svg></label><input id='data-77a477fa-f6a8-467f-87fc-cf9dc2ac7fea' class='sc-var-data-in' type='checkbox'><label for='data-77a477fa-f6a8-467f-87fc-cf9dc2ac7fea' title='Show/Hide data repr'><svg class='icon sc-icon-database'><use xlink:href='#icon-database'></use></svg></label><pre class='sc-var-data'>Values:<br>array([2.29942007, 0.62945671, 2.79673031, ..., 0.34204185, 0.24021721,\n",
       "       0.53572718], shape=(331524,))</pre></span></li><li class='sc-var-item'><div class='sc-var-name'><span class='sc-aligned'>wavelength</span></div><div class='sc-var-dims'>(events)</div><div class='sc-var-dtype'>float64</div><div class='sc-var-unit'>Å</div><div class='sc-value-preview sc-preview'><span><div>3.878, 3.704, ..., 3.672, 2.459</div></span></div><input id='attrs-9d0291a0-330f-46e5-a9f3-414f23737deb' class='sc-var-attrs-in' type='checkbox' disabled><label for='attrs-9d0291a0-330f-46e5-a9f3-414f23737deb' class='sc-hide-icon' title='Show/Hide attributes'><svg class='icon sc-icon-file-text2'><use xlink:href='#icon-file-text2'></use></svg></label><input id='data-7a63f6bd-cd3e-46ee-947c-26d593f1865b' class='sc-var-data-in' type='checkbox'><label for='data-7a63f6bd-cd3e-46ee-947c-26d593f1865b' title='Show/Hide data repr'><svg class='icon sc-icon-database'><use xlink:href='#icon-database'></use></svg></label><pre class='sc-var-data'>Values:<br>array([3.87830449, 3.70442643, 2.36061197, ..., 3.20058915, 3.67168445,\n",
       "       2.45877745], shape=(331524,))</pre></span></li><li class='sc-var-item'><div class='sc-var-name'><span class='sc-aligned'>x</span></div><div class='sc-var-dims'>(events)</div><div class='sc-var-dtype'>float64</div><div class='sc-var-unit'>m</div><div class='sc-value-preview sc-preview'><span><div>2.611, 1.995, ..., -0.832, -1.737</div></span></div><input id='attrs-b1527c22-2c55-4544-b896-aa4ed29322bc' class='sc-var-attrs-in' type='checkbox' disabled><label for='attrs-b1527c22-2c55-4544-b896-aa4ed29322bc' class='sc-hide-icon' title='Show/Hide attributes'><svg class='icon sc-icon-file-text2'><use xlink:href='#icon-file-text2'></use></svg></label><input id='data-026b81af-38a3-4405-b4a1-4b3a3015e547' class='sc-var-data-in' type='checkbox'><label for='data-026b81af-38a3-4405-b4a1-4b3a3015e547' title='Show/Hide data repr'><svg class='icon sc-icon-database'><use xlink:href='#icon-database'></use></svg></label><pre class='sc-var-data'>Values:<br>array([ 2.61120081,  1.99498867,  1.18270851, ..., -1.00868694,\n",
       "       -0.83190062, -1.73675776], shape=(331524,))</pre></span></li><li class='sc-var-item'><div class='sc-var-name'><span class='sc-aligned'>y</span></div><div class='sc-var-dims'>(events)</div><div class='sc-var-dtype'>float64</div><div class='sc-var-unit'>m</div><div class='sc-value-preview sc-preview'><span><div>0.037, 0.637, ..., -0.037, -0.487</div></span></div><input id='attrs-6b70bcf7-e264-4e48-8d09-5be2b07184a6' class='sc-var-attrs-in' type='checkbox' disabled><label for='attrs-6b70bcf7-e264-4e48-8d09-5be2b07184a6' class='sc-hide-icon' title='Show/Hide attributes'><svg class='icon sc-icon-file-text2'><use xlink:href='#icon-file-text2'></use></svg></label><input id='data-b246b664-f573-4dc2-8886-47c4f45f783a' class='sc-var-data-in' type='checkbox'><label for='data-b246b664-f573-4dc2-8886-47c4f45f783a' title='Show/Hide data repr'><svg class='icon sc-icon-database'><use xlink:href='#icon-database'></use></svg></label><pre class='sc-var-data'>Values:<br>array([ 0.0375,  0.6375, -0.0375, ..., -0.6375, -0.0375, -0.4875],\n",
       "      shape=(331524,))</pre></span></li><li class='sc-var-item'><div class='sc-var-name'><span class='sc-aligned'>z</span></div><div class='sc-var-dims'>(events)</div><div class='sc-var-dtype'>float64</div><div class='sc-var-unit'>m</div><div class='sc-value-preview sc-preview'><span><div>158.308, 163.515, ..., 164.039, 163.678</div></span></div><input id='attrs-8d9a6e03-03a6-40a6-b602-3c95fea1f90c' class='sc-var-attrs-in' type='checkbox' disabled><label for='attrs-8d9a6e03-03a6-40a6-b602-3c95fea1f90c' class='sc-hide-icon' title='Show/Hide attributes'><svg class='icon sc-icon-file-text2'><use xlink:href='#icon-file-text2'></use></svg></label><input id='data-963249f4-9d19-4402-b784-c45e28459784' class='sc-var-data-in' type='checkbox'><label for='data-963249f4-9d19-4402-b784-c45e28459784' title='Show/Hide data repr'><svg class='icon sc-icon-database'><use xlink:href='#icon-database'></use></svg></label><pre class='sc-var-data'>Values:<br>array([158.30841417, 163.51476428, 157.34488395, ..., 163.99049976,\n",
       "       164.03869724, 163.67769585], shape=(331524,))</pre></span></li></ul></div></li><li class='sc-section-item'><input id='section-67f4b868-cf52-4eca-9c50-41e199501df6' class='sc-section-summary-in' type='checkbox'  checked><label for='section-67f4b868-cf52-4eca-9c50-41e199501df6' class='sc-section-summary'  title='Expand/collapse section'>Data: <span>(1)</span></label><div class='sc-section-inline-details'></div><div class='sc-section-details'><ul class='sc-var-list'><li class='sc-var-item'><div class='sc-var-name'><span></span></div><div class='sc-var-dims'>(events)</div><div class='sc-var-dtype'>float64</div><div class='sc-var-unit'>counts</div><div class='sc-value-preview sc-preview'><span><div>0.000, 0.000, ..., 0.001, 8.160e-05</div></span></div><input id='attrs-6d158990-8488-4bfd-bac6-fcdb1b16e5f8' class='sc-var-attrs-in' type='checkbox' disabled><label for='attrs-6d158990-8488-4bfd-bac6-fcdb1b16e5f8' class='sc-hide-icon' title='Show/Hide attributes'><svg class='icon sc-icon-file-text2'><use xlink:href='#icon-file-text2'></use></svg></label><input id='data-4a97490c-4e57-45a1-ae62-f7c2da952c60' class='sc-var-data-in' type='checkbox'><label for='data-4a97490c-4e57-45a1-ae62-f7c2da952c60' title='Show/Hide data repr'><svg class='icon sc-icon-database'><use xlink:href='#icon-database'></use></svg></label><pre class='sc-var-data'>Values:<br>array([1.61020885e-04, 4.09729705e-04, 4.80577400e+01, ...,\n",
       "       1.29640143e-06, 5.79030461e-04, 8.16038612e-05], shape=(331524,))</pre></li></ul></div></li></ul></div></div>"
      ],
      "text/plain": [
       "<scipp.DataArray>\n",
       "Dimensions: Sizes[events:331524, ]\n",
       "Coordinates:\n",
       "  L1                        float64              [m]  ()  160.639\n",
       "  L2                        float64              [m]  (events)  [3.5002, 3.55758, ..., 3.5002, 3.53379]\n",
       "  Ltotal                    float64              [m]  (events)  [164.139, 164.197, ..., 164.139, 164.173]\n",
       "* dspacing                  float64             [Å]  (events)  [2.12476, 5.98341, ..., 15.3217, 4.64496]\n",
       "  incident_beam             vector3              [m]  ()  (0, 0, 160.639)\n",
       "  position                  vector3              [m]  (events)  [(2.6112, 0.0375, 158.308), (1.99499, 0.6375, 163.515), ..., (-0.831901, -0.0375, 164.039), (-1.73676, -0.4875, 163.678)]\n",
       "  sample_position           vector3              [m]  ()  (0, 0, 160.639)\n",
       "  scattered_beam            vector3              [m]  (events)  [(2.6112, 0.0375, -2.33059), (1.99499, 0.6375, 2.87576), ..., (-0.831901, -0.0375, 3.3997), (-1.73676, -0.4875, 3.0387)]\n",
       "  source_position           vector3              [m]  ()  (0, 0, 0)\n",
       "* t                         float64              [s]  (events)  [0.160914, 0.153754, ..., 0.152341, 0.102038]\n",
       "  tof                       float64              [s]  (events)  [0.160914, 0.153754, ..., 0.152341, 0.102038]\n",
       "  two_theta                 float64            [rad]  (events)  [2.29942, 0.629457, ..., 0.240217, 0.535727]\n",
       "* wavelength                float64             [Å]  (events)  [3.8783, 3.70443, ..., 3.67168, 2.45878]\n",
       "* x                         float64              [m]  (events)  [2.6112, 1.99499, ..., -0.831901, -1.73676]\n",
       "* y                         float64              [m]  (events)  [0.0375, 0.6375, ..., -0.0375, -0.4875]\n",
       "* z                         float64              [m]  (events)  [158.308, 163.515, ..., 164.039, 163.678]\n",
       "Data:\n",
       "                            float64         [counts]  (events)  [0.000161021, 0.00040973, ..., 0.00057903, 8.16039e-05]\n"
      ]
     },
     "execution_count": 7,
     "metadata": {},
     "output_type": "execute_result"
    }
   ],
   "source": [
    "#events.coords[\"y\"] = events.coords[\"position\"].fields.y\n",
    "#del events.coords[\"y\"]\n",
    "events"
   ]
  },
  {
   "cell_type": "code",
   "execution_count": 8,
   "id": "504a6c11-8619-40f5-ae54-8f758ad03579",
   "metadata": {},
   "outputs": [
    {
     "data": {
      "application/vnd.jupyter.widget-view+json": {
       "model_id": "b3f12a02817848a3a6bd1139641e7523",
       "version_major": 2,
       "version_minor": 0
      },
      "text/plain": [
       "InteractiveFigure(children=(HBar(), HBar(children=(VBar(children=(Toolbar(children=(ButtonTool(icon='home', la…"
      ]
     },
     "execution_count": 8,
     "metadata": {},
     "output_type": "execute_result"
    }
   ],
   "source": [
    "events_binned = events.bin(wavelength=120, dspacing=800)\n",
    "pp.slicer(events_binned.hist(), keep=[\"wavelength\", \"dspacing\"], norm=\"log\", vmax=1E6, vmin=1E-3)"
   ]
  },
  {
   "cell_type": "code",
   "execution_count": 9,
   "id": "b90077b1-9982-4ee7-92f1-87f56a721718",
   "metadata": {},
   "outputs": [
    {
     "data": {
      "application/vnd.jupyter.widget-view+json": {
       "model_id": "d2b607925fa6432ab4fd6d4de6474def",
       "version_major": 2,
       "version_minor": 0
      },
      "text/plain": [
       "InteractiveFigure(children=(HBar(), HBar(children=(VBar(children=(Toolbar(children=(ButtonTool(icon='home', la…"
      ]
     },
     "execution_count": 9,
     "metadata": {},
     "output_type": "execute_result"
    }
   ],
   "source": [
    "events.hist(t=200).plot()"
   ]
  },
  {
   "cell_type": "markdown",
   "id": "80a15e7a-d826-4d5b-8ab1-a6241aebd26e",
   "metadata": {},
   "source": [
    "### Run instrument directly without the help functions"
   ]
  },
  {
   "cell_type": "code",
   "execution_count": 10,
   "id": "cfc9ba35-ff3b-487c-84bc-2edb1f617287",
   "metadata": {},
   "outputs": [],
   "source": [
    "instrument = make_powder_instrument.make(union_detectors=False)"
   ]
  },
  {
   "cell_type": "code",
   "execution_count": null,
   "id": "bc355501-ac80-4d0d-b7f2-36f7b6965c8b",
   "metadata": {},
   "outputs": [],
   "source": [
    "instrument.show_parameters()"
   ]
  },
  {
   "cell_type": "code",
   "execution_count": null,
   "id": "93c5a7be-298f-4d35-b19b-04dbe33fa456",
   "metadata": {},
   "outputs": [],
   "source": [
    "instrument.set_parameters(frequency_multiplier=8, reflections='\"Fe.laz\"')\n",
    "instrument.settings(ncount=1e7, mpi=10, suppress_output=True, NeXus=True, output_path=\"first_run\")"
   ]
  },
  {
   "cell_type": "code",
   "execution_count": null,
   "id": "3c807166-cfab-4365-ab4d-b3a8ff839d1e",
   "metadata": {},
   "outputs": [],
   "source": [
    "data = instrument.backengine()"
   ]
  },
  {
   "cell_type": "code",
   "execution_count": null,
   "id": "9e39e67a-eff6-42e6-b414-b5030d592957",
   "metadata": {},
   "outputs": [],
   "source": []
  },
  {
   "cell_type": "code",
   "execution_count": null,
   "id": "26d0aef4-3333-457c-bb1d-8ae2458d64e7",
   "metadata": {},
   "outputs": [],
   "source": [
    "ms.make_sub_plot(data, log=True, orders_of_mag=5)"
   ]
  },
  {
   "cell_type": "code",
   "execution_count": null,
   "id": "0f8ec62e-5748-43dd-abb2-bcb801958a14",
   "metadata": {},
   "outputs": [],
   "source": [
    "ms.make_sub_plot([data[0].make_2d(\"th\", \"y\"), data[1].make_2d(\"th\", \"y\")], log=True, orders_of_mag=5)"
   ]
  },
  {
   "cell_type": "markdown",
   "id": "eeffde02-ad04-4a15-8ece-02e6e1ec67aa",
   "metadata": {},
   "source": [
    "### Visualize instrument (opens in new window)"
   ]
  },
  {
   "cell_type": "code",
   "execution_count": null,
   "id": "06a06f6b-060e-4c31-995a-b9adc58f656d",
   "metadata": {},
   "outputs": [],
   "source": [
    "#instrument.show_instrument(format=\"window\")"
   ]
  },
  {
   "cell_type": "code",
   "execution_count": null,
   "id": "27c143b1-e301-41d9-a669-734c5c7bc2cd",
   "metadata": {},
   "outputs": [],
   "source": []
  }
 ],
 "metadata": {
  "kernelspec": {
   "display_name": "Python 3 (ipykernel)",
   "language": "python",
   "name": "python3"
  },
  "language_info": {
   "codemirror_mode": {
    "name": "ipython",
    "version": 3
   },
   "file_extension": ".py",
   "mimetype": "text/x-python",
   "name": "python",
   "nbconvert_exporter": "python",
   "pygments_lexer": "ipython3",
   "version": "3.12.9"
  }
 },
 "nbformat": 4,
 "nbformat_minor": 5
}
