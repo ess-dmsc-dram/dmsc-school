{
 "cells": [
  {
   "cell_type": "code",
   "execution_count": null,
   "id": "egyptian-salvation",
   "metadata": {
    "editable": true,
    "slideshow": {
     "slide_type": ""
    },
    "tags": []
   },
   "outputs": [],
   "source": [
    "import mcstasscript as ms\n",
    "import make_powder_instrument\n",
    "from mcstasutils import plot\n",
    "import quizlib"
   ]
  },
  {
   "cell_type": "code",
   "execution_count": null,
   "id": "obvious-meeting",
   "metadata": {
    "editable": true,
    "slideshow": {
     "slide_type": ""
    },
    "tags": []
   },
   "outputs": [],
   "source": [
    "quiz = quizlib.Powder_Quiz()"
   ]
  },
  {
   "cell_type": "markdown",
   "id": "unexpected-mandate",
   "metadata": {
    "editable": true,
    "slideshow": {
     "slide_type": ""
    },
    "tags": []
   },
   "source": [
    "# Powder diffraction exercise\n",
    "\n",
    "In this notebook you will work with a McStas model of a simplified powder diffraction instrument.\n",
    "You will have to answer questions in the notebook by working with this model, both by running simulations and expanding the model.\n",
    "We will use the Python McStas API McStasScript to work with the instrument, you can find documentation [here](https://mads-bertelsen.github.io).\n",
    "\n",
    "## Get the instrument object\n",
    "First we need the McStas instrument object. Here it is retrieved from a local python function that generates it."
   ]
  },
  {
   "cell_type": "code",
   "execution_count": null,
   "id": "loose-workstation",
   "metadata": {
    "editable": true,
    "slideshow": {
     "slide_type": ""
    },
    "tags": []
   },
   "outputs": [],
   "source": [
    "instrument = make_powder_instrument.make()"
   ]
  },
  {
   "cell_type": "markdown",
   "id": "continued-thong",
   "metadata": {
    "editable": true,
    "slideshow": {
     "slide_type": ""
    },
    "tags": []
   },
   "source": [
    "## Investigate instrument\n",
    "The first task is to investigate the instrument object `instrument` using some of the available methods available on that object. Each method that show something about the instrument starts with the word show, so you can use tab to autocomplete in the cell to see the relevant methods.\n",
    "\n",
    "In particular, look at what parameters are available and take a look at the instrument geometry."
   ]
  },
  {
   "cell_type": "code",
   "execution_count": null,
   "id": "conceptual-knitting",
   "metadata": {
    "editable": true,
    "slideshow": {
     "slide_type": ""
    },
    "tags": [
     "solution",
     "hide-cell"
    ]
   },
   "outputs": [],
   "source": [
    "instrument = make_powder_instrument.make()\n",
    "instrument.show_parameters()"
   ]
  },
  {
   "cell_type": "code",
   "execution_count": null,
   "id": "secret-surrey",
   "metadata": {},
   "outputs": [],
   "source": [
    "# instrument.show_instrument(format='window')\n",
    "instrument.show_diagram()"
   ]
  },
  {
   "cell_type": "markdown",
   "id": "6dd52c67-0fe5-4ed1-a924-993a0c8e27c5",
   "metadata": {},
   "source": [
    "### Set sample size\n",
    "Select appropriate sample size given Vanadium has a macroscopic scattering cross section $\\Sigma$ of around 0.35 cm^-1. A neutron beam with intensity $I_0$ that travel in a media a distance of $z$ will be attenuated as the neutrons scatter in the material, and the remaining intensity $I$ can be calculated with the Beer-Lambert law:\n",
    "\n",
    "$$\n",
    "  I = I_0 e^{-z\\Sigma}\n",
    "$$\n",
    "\n",
    "For our experiment we want to observe neutrons that scattered once, as neutrons that scatter more than once would be considered background.\n",
    "\n",
    "What sample depth would be appropriate?\n",
    "\n",
    "- A: 10 cm\n",
    "- B: 1 cm\n",
    "- C: 1 mm"
   ]
  },
  {
   "cell_type": "code",
   "execution_count": null,
   "id": "06fdd143-1dab-4c75-a98e-1fe33bf1eabb",
   "metadata": {},
   "outputs": [],
   "source": [
    "# answer\n",
    "import numpy as np\n",
    "fraction_left = np.exp(-0.35*1)\n",
    "print(\"scattering probability\", 1 - fraction_left)\n",
    "print(\"single scattering probability\", (1 - fraction_left)*fraction_left)\n",
    "print(\"double scattering probability\", (1 - fraction_left)**2*fraction_left)\n",
    "print(\"single to multiple scattering probability \", (1 - fraction_left)*fraction_left/(1-fraction_left))"
   ]
  },
  {
   "cell_type": "code",
   "execution_count": null,
   "id": "adfea97a-ce20-457c-8c8f-39415c9696df",
   "metadata": {},
   "outputs": [],
   "source": [
    "quiz.question_1(\"B\")"
   ]
  },
  {
   "cell_type": "markdown",
   "id": "d40d30a4-2cdd-4e5a-b584-ed6f4a9202de",
   "metadata": {},
   "source": [
    "### Set sample size in simulated instrument\n",
    "Use the *set_parameters* method to set the sample thickness, here using the parameter *sample_radius*. Set the wavelength range using \"l_min\" and \"l_max\" to 2.5 - 2.501."
   ]
  },
  {
   "cell_type": "code",
   "execution_count": null,
   "id": "49c34751-fc94-470b-833f-bab3995c21bc",
   "metadata": {},
   "outputs": [],
   "source": [
    "wavelength = 2.5\n",
    "instrument.set_parameters(sample_radius=0.005, l_min=wavelength, l_max=wavelength + 0.001)"
   ]
  },
  {
   "cell_type": "code",
   "execution_count": null,
   "id": "a9e3cea0-137f-4bf4-8580-d9bd908eba42",
   "metadata": {},
   "outputs": [],
   "source": [
    "quiz.question_2(instrument)"
   ]
  },
  {
   "cell_type": "markdown",
   "id": "ae1dff88-3b87-4286-a13b-0f6d4e746928",
   "metadata": {},
   "source": [
    "### Run simulation\n",
    "Run the simulation in this configuration and plot the data."
   ]
  },
  {
   "cell_type": "code",
   "execution_count": null,
   "id": "bfe9f1ab",
   "metadata": {},
   "outputs": [],
   "source": [
    "instrument.settings(ncount=4.0e6, mpi=4, suppress_output=True, NeXus=True)"
   ]
  },
  {
   "cell_type": "code",
   "execution_count": null,
   "id": "45843473",
   "metadata": {
    "tags": [
     "remove-cell"
    ]
   },
   "outputs": [],
   "source": [
    "instrument.settings(mpi=2)"
   ]
  },
  {
   "cell_type": "code",
   "execution_count": null,
   "id": "35dcf5e1-0035-4651-a937-76d300db3805",
   "metadata": {},
   "outputs": [],
   "source": [
    "data = instrument.backengine()"
   ]
  },
  {
   "cell_type": "code",
   "execution_count": null,
   "id": "294ab064-2c47-467c-83fb-634b1930c533",
   "metadata": {},
   "outputs": [],
   "source": [
    "%matplotlib widget\n",
    "\n",
    "ms.make_sub_plot(data)"
   ]
  },
  {
   "cell_type": "markdown",
   "id": "f57ff9ba-05b6-4a2f-8e26-4dff1ade6b95",
   "metadata": {},
   "source": [
    "### Time resolution\n",
    "Whats the relative uncertainty on the time observed at the sample position, FWHM?\n",
    "\n",
    "Insert value as a percentage."
   ]
  },
  {
   "cell_type": "code",
   "execution_count": null,
   "id": "967b33ab-692a-4da5-9927-8fd45ef74357",
   "metadata": {},
   "outputs": [],
   "source": [
    "# answer\n",
    "print(\"delta t/t\", (1.0453E5 - 1.0173E5)/(0.5*(1.0453E5 + 1.0173E5))*100, \"%\")"
   ]
  },
  {
   "cell_type": "code",
   "execution_count": null,
   "id": "b71a480d-4284-4523-9541-f9940015915b",
   "metadata": {},
   "outputs": [],
   "source": [
    "quiz.question_3(2.715)"
   ]
  },
  {
   "cell_type": "markdown",
   "id": "cfdc54c9-e152-4135-a48a-06ab2ad8a80a",
   "metadata": {},
   "source": [
    "This will correspond to the wavelength resolution at this wavelength, generally we need less than 1% for powder diffraction, is this sufficient?\n",
    "\n",
    "- A: yes\n",
    "- B: no"
   ]
  },
  {
   "cell_type": "code",
   "execution_count": null,
   "id": "3338f5a2-5965-4336-871e-847b1c03f083",
   "metadata": {},
   "outputs": [],
   "source": [
    "quiz.question_4(\"B\")"
   ]
  },
  {
   "cell_type": "markdown",
   "id": "18c29a3b-d019-4573-8711-d27cd824cd13",
   "metadata": {},
   "source": [
    "How could we improve this?\n",
    "- A: monochromator\n",
    "- B: chopper\n",
    "- C: velocity selector\n",
    "- D: shorter guide"
   ]
  },
  {
   "cell_type": "code",
   "execution_count": null,
   "id": "b3e11942-0786-43b1-a366-7242329d2813",
   "metadata": {},
   "outputs": [],
   "source": [
    "quiz.question_5(\"B\")"
   ]
  },
  {
   "cell_type": "markdown",
   "id": "852b969a-d0b3-4aa8-a113-6e5af8e614c8",
   "metadata": {},
   "source": [
    "The chopper needs to be inserted outside of the ESS monolith which has a radius of 6 m. Where in the McStas component sequence would that have to go?\n",
    "\n",
    "- A: before feeder\n",
    "- B: after feeder\n",
    "- C: before expanding\n",
    "- D: after expanding"
   ]
  },
  {
   "cell_type": "code",
   "execution_count": null,
   "id": "7df3b611-7638-464e-b6fa-524103b8c129",
   "metadata": {},
   "outputs": [],
   "source": [
    "quiz.question_6(\"B\")"
   ]
  },
  {
   "cell_type": "markdown",
   "id": "4bdb713d-7c0b-471f-b3d0-f4e79aedc549",
   "metadata": {},
   "source": [
    "Add the chopper with the following parameters:\n",
    "- `yheight`: 0.05 m\n",
    "- `radius`: 0.35 m\n",
    "- `nslit`: 1.0\n",
    "- `theta_0`: 7.0 deg\n",
    "- `delay`: To the variable calculated in the instrument (use quotation marks)\n",
    "- `nu`: A calculation using the `frequency_multiplier` variable, \"frequency_multiplier*14.0\"\n"
   ]
  },
  {
   "cell_type": "code",
   "execution_count": null,
   "id": "3c0530ec-33d1-47f6-bc22-a7583dae8148",
   "metadata": {},
   "outputs": [],
   "source": [
    "# simple answer, to be used to skip this question (also sets position, next question)\n",
    "#make_powder_instrument.add_chopper(instrument)"
   ]
  },
  {
   "cell_type": "code",
   "execution_count": null,
   "id": "659025e2-95cc-4c43-bf45-906affda3118",
   "metadata": {},
   "outputs": [],
   "source": [
    "# Answer: Adding the chopper manually\n",
    "make_powder_instrument.add_chopper_calculations(instrument)\n",
    "    \n",
    "chopper = instrument.add_component(\"chopper\", \"DiskChopper\", after=\"feeder\")\n",
    "chopper.theta_0 = 7.0\n",
    "chopper.nslit = 1\n",
    "chopper.radius = 0.35\n",
    "chopper.yheight = 0.05\n",
    "chopper.nu = \"frequency_multiplier*14.0\"\n",
    "chopper.delay = \"delay\"  # Variable with calculated delay"
   ]
  },
  {
   "cell_type": "code",
   "execution_count": null,
   "id": "52a34b9e-0579-4673-a9cb-e69b5e3e6e57",
   "metadata": {},
   "outputs": [],
   "source": [
    "quiz.question_7(instrument)"
   ]
  },
  {
   "cell_type": "markdown",
   "id": "427be722-2d19-4783-8d59-d8e1f1ed1bfe",
   "metadata": {},
   "source": [
    "Set the chopper position, a variable is already created with the name \"chopper_position\" and value of 6.5 meters, this is the distance relative to the neutron Source."
   ]
  },
  {
   "cell_type": "code",
   "execution_count": null,
   "id": "56b77e3a-9978-4961-b436-de5c403003f3",
   "metadata": {},
   "outputs": [],
   "source": [
    "chopper = instrument.get_component(\"chopper\")\n",
    "chopper.set_AT(\"chopper_position\", RELATIVE=\"Source\")"
   ]
  },
  {
   "cell_type": "code",
   "execution_count": null,
   "id": "027d2865-ed60-406e-a696-ba18c65488a9",
   "metadata": {},
   "outputs": [],
   "source": [
    "quiz.question_8(instrument)"
   ]
  },
  {
   "cell_type": "markdown",
   "id": "39ee1044-d33d-442d-af92-2f71af8fa616",
   "metadata": {},
   "source": [
    "Run the simulation with the parameter frequency_multiplier set to 3 and plot the data"
   ]
  },
  {
   "cell_type": "code",
   "execution_count": null,
   "id": "2ed43761-dc5a-487b-9596-1738ce2870a3",
   "metadata": {},
   "outputs": [],
   "source": [
    "# Answer\n",
    "instrument.set_parameters(frequency_multiplier=3)\n",
    "data = instrument.backengine()"
   ]
  },
  {
   "cell_type": "code",
   "execution_count": null,
   "id": "ac253a4a-4c77-4c22-ad3e-222011c97116",
   "metadata": {},
   "outputs": [],
   "source": [
    "# Answer\n",
    "ms.make_sub_plot(data)"
   ]
  },
  {
   "cell_type": "markdown",
   "id": "8115a6b3-efc8-4a1a-8dca-6d56c99b0615",
   "metadata": {},
   "source": [
    "Whats the relative time uncertainty with this setup? Insert the answer as a percentage."
   ]
  },
  {
   "cell_type": "code",
   "execution_count": null,
   "id": "ad278d03-905f-4b1f-83fc-a719c9ecc9c5",
   "metadata": {},
   "outputs": [],
   "source": [
    "print(\"delta t/t\", (1.0315E5 - 1.0267E5)/1.0289E5*100, \"%\")"
   ]
  },
  {
   "cell_type": "code",
   "execution_count": null,
   "id": "f5f38269-bf2c-4635-b61c-24b133fcbccd",
   "metadata": {},
   "outputs": [],
   "source": [
    "quiz.question_9(0.4665)"
   ]
  },
  {
   "cell_type": "markdown",
   "id": "e3fae354-e62c-4855-ad3b-8426324e7964",
   "metadata": {},
   "source": [
    "### Set parameters for run with Si sample\n",
    "Set wavelength interval from 0.5 to 4.0 Å\n",
    "Select sample called \"sample_Si\", you will need to use '\"string\"'. The detector_height also needs to be set to 1.5 m."
   ]
  },
  {
   "cell_type": "code",
   "execution_count": null,
   "id": "70d8d97c-5468-40c3-aa16-9786c83055dc",
   "metadata": {},
   "outputs": [],
   "source": [
    "instrument.set_parameters(sample_choice='\"sample_Si\"', l_min=0.5, l_max=4.0, detector_height=1.5)"
   ]
  },
  {
   "cell_type": "code",
   "execution_count": null,
   "id": "ab69158e-51ee-4af0-a289-7180b39689cc",
   "metadata": {},
   "outputs": [],
   "source": [
    "quiz.question_10(instrument)"
   ]
  },
  {
   "cell_type": "markdown",
   "id": "3a7b7729-91c7-4166-9ec2-b6cafc07f584",
   "metadata": {},
   "source": [
    "Now we are ready to run the simulation"
   ]
  },
  {
   "cell_type": "code",
   "execution_count": null,
   "id": "e185f45b-a53b-4267-ae80-d427dae81c51",
   "metadata": {},
   "outputs": [],
   "source": [
    "data = instrument.backengine()"
   ]
  },
  {
   "cell_type": "markdown",
   "id": "8136d181-c30f-4f98-a6e9-188b19097b89",
   "metadata": {},
   "source": [
    "The event data can be visualized with the supplied *plot* function."
   ]
  },
  {
   "cell_type": "code",
   "execution_count": null,
   "id": "d6779d2a-680d-4880-b8e7-452d26b8d304",
   "metadata": {},
   "outputs": [],
   "source": [
    "plot(data)"
   ]
  },
  {
   "cell_type": "markdown",
   "id": "92872809-edc8-4fe9-b061-f611f6cb54d2",
   "metadata": {},
   "source": [
    "### Describe the data\n",
    "What do we see in the plots from event data?\n",
    "\n",
    "- A: Inelastic peaks\n",
    "- B: Magnetic scattering\n",
    "- C: Bragg peaks"
   ]
  },
  {
   "cell_type": "code",
   "execution_count": null,
   "id": "f98ba55d-525f-4f42-92a5-cb85e065e864",
   "metadata": {},
   "outputs": [],
   "source": [
    "quiz.question_11(\"C\")"
   ]
  },
  {
   "cell_type": "markdown",
   "id": "a34082416544558c",
   "metadata": {},
   "source": [
    "Set the instrument settings to a reasonable value for the number of neutrons and MPI processes. This will be used in the following simulations."
   ]
  },
  {
   "cell_type": "code",
   "execution_count": null,
   "id": "08a11f21-0caa-47b6-b6a1-0d311c032c1b",
   "metadata": {},
   "outputs": [],
   "source": [
    "instrument.settings(ncount=4.0e8, mpi=4, suppress_output=True, NeXus=True)"
   ]
  },
  {
   "cell_type": "code",
   "execution_count": null,
   "id": "b85eab05",
   "metadata": {
    "tags": [
     "remove-cell"
    ]
   },
   "outputs": [],
   "source": [
    "instrument.settings(mpi=2)"
   ]
  },
  {
   "cell_type": "markdown",
   "id": "92a9a336-faec-4b32-a202-57411289c26b",
   "metadata": {},
   "source": [
    "## Run reference sample: Si"
   ]
  },
  {
   "cell_type": "code",
   "execution_count": null,
   "id": "54ddec18-05a0-4972-809e-bda6f8110aab",
   "metadata": {},
   "outputs": [],
   "source": [
    "# Set frequency multiplier to 3 for high resolution\n",
    "instrument.set_parameters(sample_choice='\"sample_Si\"', frequency_multiplier=3, detector_height=1.5)\n",
    "instrument.settings(output_path=\"output_sample_Si\")"
   ]
  },
  {
   "cell_type": "code",
   "execution_count": null,
   "id": "738bd4ce-1196-490b-a917-ca5d6f2d5a0f",
   "metadata": {},
   "outputs": [],
   "source": [
    "data_si = instrument.backengine()"
   ]
  },
  {
   "cell_type": "code",
   "execution_count": null,
   "id": "4862a4e5-fbdb-41e8-82d5-806e5e768f5e",
   "metadata": {},
   "outputs": [],
   "source": [
    "plot(data_si, orders_of_mag=5)"
   ]
  },
  {
   "cell_type": "markdown",
   "id": "7792dbb6-3876-44ab-b855-d5d7dddcca88",
   "metadata": {},
   "source": [
    "## Run calibration sample: Vanadium"
   ]
  },
  {
   "cell_type": "code",
   "execution_count": null,
   "id": "4ccae20c-f4fc-49c3-bad8-7280489a3909",
   "metadata": {},
   "outputs": [],
   "source": [
    "instrument.set_parameters(sample_choice='\"sample_Vanadium\"')\n",
    "instrument.settings(output_path=\"output_sample_vanadium\")\n",
    "\n",
    "data_vanadium = instrument.backengine()"
   ]
  },
  {
   "cell_type": "code",
   "execution_count": null,
   "id": "c864bcc7-fa03-470c-aa81-3e626d8d445d",
   "metadata": {},
   "outputs": [],
   "source": [
    "plot(data_vanadium, orders_of_mag=5)"
   ]
  },
  {
   "cell_type": "markdown",
   "id": "5f5d988f-8876-4112-9628-ee4261828a94",
   "metadata": {},
   "source": [
    "## Run main sample: LBCO"
   ]
  },
  {
   "cell_type": "code",
   "execution_count": null,
   "id": "2035f0b9-4aab-43b4-85ff-4756bcea9779",
   "metadata": {},
   "outputs": [],
   "source": [
    "instrument.set_parameters(sample_choice='\"sample_LBCO\"')\n",
    "instrument.settings(output_path=\"output_sample_LBCO\")\n",
    "\n",
    "data_sample_lbco = instrument.backengine()"
   ]
  },
  {
   "cell_type": "code",
   "execution_count": null,
   "id": "51cc50fa-198c-43cd-beb0-68da74bd06f5",
   "metadata": {},
   "outputs": [],
   "source": [
    "plot(data_sample_lbco, orders_of_mag=5)"
   ]
  }
 ],
 "metadata": {
  "celltoolbar": "Tags",
  "kernelspec": {
   "display_name": "Python 3 (ipykernel)",
   "language": "python",
   "name": "python3"
  },
  "language_info": {
   "codemirror_mode": {
    "name": "ipython",
    "version": 3
   },
   "file_extension": ".py",
   "mimetype": "text/x-python",
   "name": "python",
   "nbconvert_exporter": "python",
   "pygments_lexer": "ipython3",
   "version": "3.12.7"
  }
 },
 "nbformat": 4,
 "nbformat_minor": 5
}
