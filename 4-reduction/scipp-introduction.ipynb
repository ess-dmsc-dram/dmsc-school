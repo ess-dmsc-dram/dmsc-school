{
 "cells": [
  {
   "cell_type": "markdown",
   "id": "cfc2eac2-42f1-47cb-9f09-1b6c597f0239",
   "metadata": {
    "editable": true,
    "slideshow": {
     "slide_type": ""
    },
    "tags": []
   },
   "source": [
    "# Introduction to Scipp\n",
    "\n",
    "<a href=\"https://scipp.github.io\"><img src=\"https://scipp.github.io/_static/logo-2022.svg\" width=\"400\" /></a>\n",
    "\n",
    "<h4><i>Multi-dimensional arrays with labeled dimensions and physical units</i></h4>\n",
    "\n",
    "<h3><a href=\"https://scipp.github.io\">scipp.github.io</a></h3>\n",
    "\n",
    "<br><br>\n",
    "\n",
    "Scipp is an open-source library developed by ESS for handling, manipulating and visualizing multi-dimensional data arrays.\n",
    "\n",
    "It enriches raw NumPy-like arrays by adding named dimensions and associated coordinates.\n",
    "In addition, it supports\n",
    "\n",
    "- Physical units which are handled in arithmetic operations\n",
    "- Histograms, i.e., bin-edge axes, which are by 1 longer than the data extent\n",
    "- Propagation of uncertainties\n",
    "\n",
    "<br><br>"
   ]
  },
  {
   "cell_type": "code",
   "execution_count": null,
   "id": "4fd44f82-593f-43f2-a8ca-d9ef5b864623",
   "metadata": {
    "editable": true,
    "slideshow": {
     "slide_type": ""
    },
    "tags": []
   },
   "outputs": [],
   "source": [
    "%matplotlib inline\n",
    "import numpy as np\n",
    "import scipp as sc\n",
    "import matplotlib.pyplot as plt\n",
    "\n",
    "# import scipp_intro\n",
    "from scipp_utils import quiz, plot, scatter\n",
    "\n",
    "rng = np.random.default_rng(seed=1234)"
   ]
  },
  {
   "cell_type": "markdown",
   "id": "711a1179-a3e5-4d60-a538-6ddbb2418952",
   "metadata": {
    "editable": true,
    "slideshow": {
     "slide_type": ""
    },
    "tags": []
   },
   "source": [
    "<br><br><br><br>\n",
    "\n",
    "## 1. Labeled dimensions: why do we need them?\n",
    "\n",
    "Say I have a 2D rectangular array of data"
   ]
  },
  {
   "cell_type": "code",
   "execution_count": null,
   "id": "e7eb1b73-b841-4696-bc5e-73fb5f063e71",
   "metadata": {
    "editable": true,
    "slideshow": {
     "slide_type": ""
    },
    "tags": []
   },
   "outputs": [],
   "source": [
    "ny, nx = 10, 20\n",
    "a = np.sin(np.arange(ny) / (ny / 4)).reshape((-1, 1)) * np.cos(np.arange(nx) / (ny / 4))\n",
    "a.shape"
   ]
  },
  {
   "cell_type": "markdown",
   "id": "fdecdc8b-6bc5-45bb-83ba-41b92b37e356",
   "metadata": {},
   "source": [
    "that looks something like"
   ]
  },
  {
   "cell_type": "code",
   "execution_count": null,
   "id": "4bcf0f99-f1a3-4e0c-81dc-b53681d1760f",
   "metadata": {
    "editable": true,
    "slideshow": {
     "slide_type": ""
    },
    "tags": []
   },
   "outputs": [],
   "source": [
    "plot(a)"
   ]
  },
  {
   "cell_type": "markdown",
   "id": "e420820c-778b-4eca-be9d-8af621e5fc69",
   "metadata": {},
   "source": [
    "My task is now to slice out row number 4.\n",
    "Because of the shape of the array, I know that the row dimension in the smallest, so I slice the first dimension of the 2D array:"
   ]
  },
  {
   "cell_type": "code",
   "execution_count": null,
   "id": "75b6612c-4241-46ac-be57-af9a99cab75b",
   "metadata": {
    "editable": true,
    "slideshow": {
     "slide_type": ""
    },
    "tags": []
   },
   "outputs": [],
   "source": [
    "# Slice out row number 4\n",
    "plot(a[4, :])"
   ]
  },
  {
   "cell_type": "markdown",
   "id": "f135c682-5074-420c-a497-1b1458afe843",
   "metadata": {
    "editable": true,
    "slideshow": {
     "slide_type": ""
    },
    "tags": []
   },
   "source": [
    "### We can't always deduce from the shape\n",
    "\n",
    "Now say I have an array which has a square shape:"
   ]
  },
  {
   "cell_type": "code",
   "execution_count": null,
   "id": "61611d8c-b202-4727-9135-ab6101e81593",
   "metadata": {
    "editable": true,
    "slideshow": {
     "slide_type": ""
    },
    "tags": []
   },
   "outputs": [],
   "source": [
    "ny, nx = 20, 20\n",
    "a = np.sin(np.arange(ny) / (ny / 4)).reshape((-1, 1)) * np.cos(np.arange(nx) / (ny / 4))\n",
    "a.shape"
   ]
  },
  {
   "cell_type": "code",
   "execution_count": null,
   "id": "e9c50988-0fec-4788-8021-d8b3eb6041f2",
   "metadata": {
    "editable": true,
    "slideshow": {
     "slide_type": ""
    },
    "tags": []
   },
   "outputs": [],
   "source": [
    "plot(a)"
   ]
  },
  {
   "cell_type": "markdown",
   "id": "b13cee8c-ba36-4016-bde5-54c2ed17ad74",
   "metadata": {},
   "source": [
    "Do I slice the first or the second index of the 2D array?"
   ]
  },
  {
   "cell_type": "code",
   "execution_count": null,
   "id": "c285a8d4-95ae-4bc4-ae7b-5935db371451",
   "metadata": {
    "editable": true,
    "slideshow": {
     "slide_type": ""
    },
    "tags": []
   },
   "outputs": [],
   "source": [
    "# Not always obvious which dimension is which\n",
    "plot(a[:, 4], a[4, :])"
   ]
  },
  {
   "cell_type": "markdown",
   "id": "e375cb07-b2eb-46f9-ab5e-68dd12fe31ca",
   "metadata": {
    "editable": true,
    "slideshow": {
     "slide_type": ""
    },
    "tags": []
   },
   "source": [
    "### The situation gets worse with more dimensions\n",
    "\n",
    "Say I now have an array that has 4 dimensions: `x, y, z, t` (in that order, maybe?, or is it `z, y, x, t`, or `t, x, y, z`?)"
   ]
  },
  {
   "cell_type": "code",
   "execution_count": null,
   "id": "a58514bd-6c6c-4c93-8d8b-429fd47034f6",
   "metadata": {
    "editable": true,
    "slideshow": {
     "slide_type": ""
    },
    "tags": []
   },
   "outputs": [],
   "source": [
    "a = np.random.random([20] * 4)\n",
    "a.shape"
   ]
  },
  {
   "cell_type": "markdown",
   "id": "633d8cb8-3af4-40ab-b141-9605af85cf97",
   "metadata": {},
   "source": [
    "**Quiz time!**"
   ]
  },
  {
   "cell_type": "code",
   "execution_count": null,
   "id": "9f6124ba-6c9e-43c4-8b2f-263cd1006b27",
   "metadata": {},
   "outputs": [],
   "source": [
    "quiz(1)"
   ]
  },
  {
   "cell_type": "markdown",
   "id": "13f35a1c-c377-49b0-a8ea-a682d03ec466",
   "metadata": {
    "editable": true,
    "slideshow": {
     "slide_type": ""
    },
    "tags": []
   },
   "source": [
    "<br><br>\n",
    "\n",
    "### Introducing labeled dimensions\n",
    "\n",
    "<img src=\"https://docs.xarray.dev/en/stable/_static/dataset-diagram-logo.png\" width=\"220\" /> &nbsp;&nbsp;&nbsp;&nbsp;&nbsp;&nbsp;&nbsp;&nbsp; <img src=\"https://scipp.github.io/_static/logo-2022.svg\" width=\"220\" />\n",
    "\n",
    "[Xarray](https://docs.xarray.dev/en/stable/index.html) (https://docs.xarray.dev) introduced labels to multi-dimensional Numpy arrays.\n",
    "\n",
    "\"*real-world datasets are usually more than just raw numbers; they have labels which encode information about how the array values map to locations in space, time, etc.*\"\n",
    "\n",
    "We have embraced, and to a large extent copied, the Xarray mechanism."
   ]
  },
  {
   "cell_type": "code",
   "execution_count": null,
   "id": "f0ba61d1-53f8-450d-85cf-170e0b730cb0",
   "metadata": {
    "editable": true,
    "slideshow": {
     "slide_type": ""
    },
    "tags": []
   },
   "outputs": [],
   "source": [
    "var = sc.array(dims=[\"x\", \"y\", \"z\", \"time\"], values=a)\n",
    "var"
   ]
  },
  {
   "cell_type": "markdown",
   "id": "dcf46114-4acd-443a-9fba-2048925b8631",
   "metadata": {
    "editable": true,
    "slideshow": {
     "slide_type": ""
    },
    "tags": []
   },
   "source": [
    "**Quiz time again!**\n",
    "\n",
    "Can you guess the syntax?"
   ]
  },
  {
   "cell_type": "code",
   "execution_count": null,
   "id": "3673b4a9-6c1a-44d0-98eb-e26742cba793",
   "metadata": {
    "editable": true,
    "slideshow": {
     "slide_type": ""
    },
    "tags": []
   },
   "outputs": [],
   "source": [
    "quiz(2)"
   ]
  },
  {
   "cell_type": "markdown",
   "id": "396918b2-461e-4e4e-9659-2d94098155d6",
   "metadata": {
    "editable": true,
    "slideshow": {
     "slide_type": ""
    },
    "tags": []
   },
   "source": [
    "<br><br>\n",
    "\n",
    "Getting the `z` slice is now easy and **readable**."
   ]
  },
  {
   "cell_type": "markdown",
   "id": "f1136ca6-f6b5-4e08-bd89-f79b8ee22032",
   "metadata": {
    "editable": true,
    "slideshow": {
     "slide_type": ""
    },
    "tags": []
   },
   "source": [
    "<br><br>\n",
    "\n",
    "### Adding coordinates\n",
    "\n",
    "- Coordinates can be specified for each dimension.\n",
    "- They describe the extent of each axis, as well as how far each data point is from its neighbours.\n",
    "\n",
    "Here is an array that represents air pollution levels as a function of altitude and time."
   ]
  },
  {
   "cell_type": "code",
   "execution_count": null,
   "id": "58fe73bd-421b-44e4-a7b9-ab2682347600",
   "metadata": {
    "editable": true,
    "slideshow": {
     "slide_type": ""
    },
    "tags": []
   },
   "outputs": [],
   "source": [
    "data = sc.array(\n",
    "    dims=[\"altitude\", \"year\"],\n",
    "    values=np.linspace(500, 10, 5).reshape((5, 1)) * rng.random(10),\n",
    ")\n",
    "sc.show(data)"
   ]
  },
  {
   "cell_type": "code",
   "execution_count": null,
   "id": "0f993dd5-a61b-4540-ab0d-759f02f9a3dd",
   "metadata": {
    "editable": true,
    "slideshow": {
     "slide_type": ""
    },
    "tags": []
   },
   "outputs": [],
   "source": [
    "data.plot()"
   ]
  },
  {
   "cell_type": "markdown",
   "id": "772caaea-96c6-48f3-8dc7-e17ebef1e0fa",
   "metadata": {
    "editable": true,
    "slideshow": {
     "slide_type": ""
    },
    "tags": []
   },
   "source": [
    "In Scipp and Xarray, coordinates are added in a data structure called `DataArray`:"
   ]
  },
  {
   "cell_type": "code",
   "execution_count": null,
   "id": "9fae8696-a15a-49f6-bfdf-5133e27b2304",
   "metadata": {
    "editable": true,
    "slideshow": {
     "slide_type": ""
    },
    "tags": []
   },
   "outputs": [],
   "source": [
    "da = sc.DataArray(\n",
    "    data=data,\n",
    "    coords={\n",
    "        \"altitude\": sc.linspace(\"altitude\", 0, 8000, 5),\n",
    "    },\n",
    ")\n",
    "sc.show(da)"
   ]
  },
  {
   "cell_type": "code",
   "execution_count": null,
   "id": "18c6b274-9fad-4f73-9cee-6b2163e3bc59",
   "metadata": {
    "editable": true,
    "slideshow": {
     "slide_type": ""
    },
    "tags": []
   },
   "outputs": [],
   "source": [
    "da"
   ]
  },
  {
   "cell_type": "code",
   "execution_count": null,
   "id": "f15bde96-adb5-491f-8182-e03a2de1a20e",
   "metadata": {
    "editable": true,
    "slideshow": {
     "slide_type": ""
    },
    "tags": []
   },
   "outputs": [],
   "source": [
    "da.plot()"
   ]
  },
  {
   "cell_type": "markdown",
   "id": "5763c649-23f2-47be-b136-61068c89e2cd",
   "metadata": {
    "editable": true,
    "slideshow": {
     "slide_type": ""
    },
    "tags": []
   },
   "source": [
    "### Accessing and adding more coordinates\n",
    "\n",
    "Coordinates are stored in a `dict`,\n",
    "and each dimension can have more that one coordinate.\n",
    "\n",
    "Getting and setting coordinates is done using the same syntax as Python dicts:"
   ]
  },
  {
   "cell_type": "code",
   "execution_count": null,
   "id": "15d07039-9d87-457a-9805-e81d153c221b",
   "metadata": {},
   "outputs": [],
   "source": [
    "print(da.coords.keys())\n",
    "da.coords[\"altitude\"]"
   ]
  },
  {
   "cell_type": "markdown",
   "id": "4f26752f-d9cb-44ee-b98f-66ee23fb4c08",
   "metadata": {
    "editable": true,
    "slideshow": {
     "slide_type": ""
    },
    "tags": []
   },
   "source": [
    "### Exercise 1.1: Adding a new coordinate\n",
    "\n",
    "The air pollution data was collected every `year` from 2014 to 2023; `[2014, 2024)`. </br>\n",
    "Let's add a coordinate, `year` to the `year` dimension.\n",
    "> **Tip:** You can create a ``Variable`` with consecutive numbers by ``sc.arange(dim, start, stop)``."
   ]
  },
  {
   "cell_type": "markdown",
   "id": "6e137984-12d1-4f3e-9809-792dad915ae2",
   "metadata": {
    "editable": true,
    "slideshow": {
     "slide_type": ""
    },
    "tags": []
   },
   "source": [
    "**Hint:**"
   ]
  },
  {
   "cell_type": "markdown",
   "id": "c490ef37-45b2-40ac-82c5-0c8c3aa40da1",
   "metadata": {
    "editable": true,
    "scrolled": true,
    "slideshow": {
     "slide_type": ""
    },
    "tags": [
     "hide-cell"
    ]
   },
   "source": [
    "```python\n",
    "da = sc.DataArray(\n",
    "    data=data,\n",
    "    coords={\n",
    "        \"altitude\": sc.linspace(\"altitude\", 0, 8000, 5),\n",
    "        \"year\": sc.arange(..., 2014, ...)\n",
    "    },\n",
    ")\n",
    "```\n",
    "or\n",
    "```python\n",
    "da.coords['year'] = sc.arange(..., 2014, ...)\n",
    "```"
   ]
  },
  {
   "cell_type": "markdown",
   "id": "e27847a0-20b7-47a8-b3de-5be469cd1fe9",
   "metadata": {
    "editable": true,
    "slideshow": {
     "slide_type": ""
    },
    "tags": []
   },
   "source": [
    "**Solution:**"
   ]
  },
  {
   "cell_type": "code",
   "execution_count": null,
   "id": "05c26863-4cab-4e11-8c3c-ab28752832a3",
   "metadata": {
    "editable": true,
    "slideshow": {
     "slide_type": ""
    },
    "tags": [
     "solution",
     "hide-cell"
    ]
   },
   "outputs": [],
   "source": [
    "da = sc.DataArray(\n",
    "    data=data,\n",
    "    coords={\n",
    "        \"altitude\": sc.linspace(\"altitude\", 0, 8000, 5),\n",
    "        \"year\": sc.arange(\"year\", 2014, 2024),\n",
    "    },\n",
    ")\n",
    "sc.show(da)\n",
    "da"
   ]
  },
  {
   "cell_type": "markdown",
   "id": "10c6c6e4-b055-4d0c-bd98-c375dfc1b1f2",
   "metadata": {
    "editable": true,
    "slideshow": {
     "slide_type": ""
    },
    "tags": []
   },
   "source": [
    "### Exercise 1.2: Compute new coordinate\n",
    "\n",
    "Add a new coordinate representing the Scipp-year.\n",
    "> **Hint:** Scipp was first released in 2020"
   ]
  },
  {
   "cell_type": "markdown",
   "id": "3f55624b-edba-4d06-a3aa-77652f8b4d6f",
   "metadata": {},
   "source": [
    "**Solution:**"
   ]
  },
  {
   "cell_type": "code",
   "execution_count": null,
   "id": "b1ebb17a-c544-4979-901f-8b73365c3505",
   "metadata": {
    "editable": true,
    "slideshow": {
     "slide_type": ""
    },
    "tags": [
     "hide-cell",
     "solution"
    ]
   },
   "outputs": [],
   "source": [
    "da.coords[\"scipp-year\"] = da.coords[\"year\"] - 2020\n",
    "sc.show(da)\n",
    "da"
   ]
  },
  {
   "cell_type": "markdown",
   "id": "61c0aec4-fffb-475f-87f0-57a82cbc3e65",
   "metadata": {
    "editable": true,
    "slideshow": {
     "slide_type": ""
    },
    "tags": []
   },
   "source": [
    "<br><br><br><br><br><br><br><br>"
   ]
  },
  {
   "cell_type": "markdown",
   "id": "1f282c12-2d83-4fa7-b4d4-ef72f8a99fe5",
   "metadata": {
    "editable": true,
    "slideshow": {
     "slide_type": ""
    },
    "tags": []
   },
   "source": [
    "## 2. Going further\n",
    "\n",
    "<img src=\"https://scipp.github.io/_static/logo-2022.svg\" width=\"220\" />\n",
    "\n",
    "### 2.1 Physical units\n",
    "\n",
    "Every data variable and coordinate in Scipp has physical units.\n",
    "&nbsp;&nbsp;&nbsp;&nbsp;&nbsp;&nbsp;&nbsp;&nbsp;&nbsp;&nbsp;&nbsp;&nbsp;&nbsp;\n",
    "&nbsp;&nbsp;&nbsp;&nbsp;&nbsp;&nbsp;&nbsp;&nbsp;&nbsp;&nbsp;&nbsp;&nbsp;&nbsp;\n",
    "(see also [pint](https://pint.readthedocs.io/en/stable/), [astropy.units](https://docs.astropy.org/en/stable/units/index.html), [pint-xarray](https://pint-xarray.readthedocs.io/en/stable/), ...)"
   ]
  },
  {
   "cell_type": "markdown",
   "id": "4399adcd-8696-436d-a0a4-dd7fcf0ba9e1",
   "metadata": {
    "editable": true,
    "slideshow": {
     "slide_type": ""
    },
    "tags": []
   },
   "source": [
    "Array `Variable` with unit:"
   ]
  },
  {
   "cell_type": "code",
   "execution_count": null,
   "id": "d2bc87e3-139f-4a2c-b1bd-7892c51bdf3d",
   "metadata": {
    "editable": true,
    "slideshow": {
     "slide_type": ""
    },
    "tags": []
   },
   "outputs": [],
   "source": [
    "temperature = sc.array(dims=[\"time\"], values=[300.0, 301.0, 312.0, 340.0], unit=\"K\")\n",
    "temperature"
   ]
  },
  {
   "cell_type": "markdown",
   "id": "8542b0d5-9f08-4687-a358-54e4ae394edd",
   "metadata": {
    "editable": true,
    "slideshow": {
     "slide_type": ""
    },
    "tags": []
   },
   "source": [
    "Scalar `Variable` (no dimensions) with unit:"
   ]
  },
  {
   "cell_type": "code",
   "execution_count": null,
   "id": "9d58f38f-1eee-403f-af35-d9b84c73749b",
   "metadata": {
    "editable": true,
    "slideshow": {
     "slide_type": ""
    },
    "tags": []
   },
   "outputs": [],
   "source": [
    "sound_speed = sc.scalar(340.0, unit=\"m/s\")\n",
    "sound_speed"
   ]
  },
  {
   "cell_type": "markdown",
   "id": "4b8d4fb1-4e75-4a83-a6a4-62770b1ba048",
   "metadata": {
    "editable": true,
    "slideshow": {
     "slide_type": ""
    },
    "tags": []
   },
   "source": [
    "Coordinates and data with units in a `DataArray`:"
   ]
  },
  {
   "cell_type": "code",
   "execution_count": null,
   "id": "bbb5a5fc-ea73-49b4-9984-8e4e8efc86e9",
   "metadata": {
    "editable": true,
    "slideshow": {
     "slide_type": ""
    },
    "tags": []
   },
   "outputs": [],
   "source": [
    "cph_air = sc.DataArray(\n",
    "    data=sc.array(\n",
    "        dims=[\"altitude\", \"year\"],\n",
    "        values=np.linspace(500, 10, 5).reshape((5, 1)) * rng.random(10),\n",
    "        unit=\"m-3\",\n",
    "    ),\n",
    "    coords={\n",
    "        \"altitude\": sc.linspace(\"altitude\", 0, 8000, 5, unit=\"m\"),\n",
    "        \"year\": sc.arange(\"year\", 2014, 2024, unit=\"year\"),\n",
    "    },\n",
    ")\n",
    "cph_air"
   ]
  },
  {
   "cell_type": "markdown",
   "id": "dd7b634c-4ec2-4aa6-8ff9-f1bf39d8630a",
   "metadata": {
    "editable": true,
    "slideshow": {
     "slide_type": ""
    },
    "tags": []
   },
   "source": [
    "Units are automatically handled in arithmetic operations.\n",
    "\n",
    "Say I know the mean utra-fine particle mass"
   ]
  },
  {
   "cell_type": "code",
   "execution_count": null,
   "id": "e07effd3-e4ec-49f4-bc40-07b62841bbfd",
   "metadata": {
    "editable": true,
    "slideshow": {
     "slide_type": ""
    },
    "tags": []
   },
   "outputs": [],
   "source": [
    "utra_fine_particle_mass = sc.scalar(1.0e-6, unit=\"kg\")\n",
    "\n",
    "cph_air *= utra_fine_particle_mass\n",
    "cph_air"
   ]
  },
  {
   "cell_type": "markdown",
   "id": "c50b87c9-3f0d-412a-ac3a-30f40bd96e46",
   "metadata": {
    "editable": true,
    "slideshow": {
     "slide_type": ""
    },
    "tags": []
   },
   "source": [
    "<br><br>\n",
    "\n",
    "### Units also provide protection\n",
    "\n",
    "Say I now also have air pollution data for another city, e.g. NYC.\n",
    "\n",
    "I would like to compute the difference between CPH and NYC air pollution (as a function of altitude and year),\n",
    "but I forgot to multiply the NYC by particle mass:"
   ]
  },
  {
   "cell_type": "code",
   "execution_count": null,
   "id": "0d9546fc-ecd3-495d-bd24-16e5820ccc34",
   "metadata": {
    "editable": true,
    "slideshow": {
     "slide_type": ""
    },
    "tags": [
     "raises-exception"
    ]
   },
   "outputs": [],
   "source": [
    "nyc_air = sc.DataArray(\n",
    "    data=sc.array(\n",
    "        dims=[\"altitude\", \"year\"],\n",
    "        values=np.linspace(800, 20, 5).reshape((5, 1)) * rng.random(10),\n",
    "        unit=\"m-3\",\n",
    "    ),\n",
    "    coords={\n",
    "        \"altitude\": sc.linspace(\"altitude\", 0, 8000, 5, unit=\"m\"),\n",
    "        \"year\": sc.arange(\"year\", 2014, 2024, unit=\"year\"),\n",
    "    },\n",
    ")\n",
    "\n",
    "cph_air - nyc_air"
   ]
  },
  {
   "cell_type": "code",
   "execution_count": null,
   "id": "cdd8501d-cce9-471d-87be-b7fd3cea7e24",
   "metadata": {
    "editable": true,
    "slideshow": {
     "slide_type": ""
    },
    "tags": []
   },
   "outputs": [],
   "source": [
    "nyc_air *= utra_fine_particle_mass\n",
    "\n",
    "air_difference = cph_air - nyc_air"
   ]
  },
  {
   "cell_type": "code",
   "execution_count": null,
   "id": "f142bd68-b0fa-403a-b4d6-b0312c531d9d",
   "metadata": {
    "editable": true,
    "slideshow": {
     "slide_type": ""
    },
    "tags": []
   },
   "outputs": [],
   "source": [
    "air_difference.plot()"
   ]
  },
  {
   "cell_type": "markdown",
   "id": "80ba2204-ba55-4ab9-b7fd-0e886ed3eb15",
   "metadata": {
    "editable": true,
    "slideshow": {
     "slide_type": ""
    },
    "tags": []
   },
   "source": [
    "- The units are very useful in early prevention of difficult-to-spot bugs in a workflow.\n",
    "- They save **hours** of debugging time, free-up mental capacity and let the user focus on the important thing: **doing science**.\n",
    "\n",
    "<br><br><br><br><br><br>"
   ]
  },
  {
   "cell_type": "markdown",
   "id": "64ec0507-83cf-47eb-b68d-d98b69a31be0",
   "metadata": {
    "editable": true,
    "slideshow": {
     "slide_type": ""
    },
    "tags": []
   },
   "source": [
    "### Units for label-based indexing\n",
    "\n",
    "We also use units to distinguish between positional indexing and label-based indexing:"
   ]
  },
  {
   "cell_type": "code",
   "execution_count": null,
   "id": "f3c8befd-396f-44c2-b905-c81d8dbf83f7",
   "metadata": {
    "editable": true,
    "slideshow": {
     "slide_type": ""
    },
    "tags": []
   },
   "outputs": [],
   "source": [
    "cph_air[\"altitude\", 2000.0 * sc.Unit(\"m\")].plot()"
   ]
  },
  {
   "cell_type": "markdown",
   "id": "ef6afc0f-a9d0-4958-82ca-5cffb33e72f0",
   "metadata": {
    "editable": true,
    "slideshow": {
     "slide_type": ""
    },
    "tags": []
   },
   "source": [
    "Positional index is based on the `dimension`, and the value index is based on the `coordinates`."
   ]
  },
  {
   "cell_type": "markdown",
   "id": "98bede80-7f46-4313-a0d6-eec6beb5d583",
   "metadata": {
    "editable": true,
    "slideshow": {
     "slide_type": ""
    },
    "tags": []
   },
   "source": [
    "<br><br><br><br><br><br>\n",
    "\n",
    "### Exercise 2: Coordinate and Units\n",
    "\n",
    "We have a data array that contains `air polution` as a function of `year` and `altitude` above the city of Copenhagen.\n",
    "However, we want to have a `pressure` coordinate for the `altitude` dimension instead of `altitude`.\n",
    "\n",
    "Assuming a constant air temperature $T$ of 300 K, the pressure as a function of height $h$ is given by\n",
    "\n",
    "$$ P = P_{0} \\exp{\\left[ \\frac{-g_{0}Mh}{RT} \\right]} $$\n",
    "\n",
    "Here is the incomplete function `altitude_to_pressure` that converts `altitude[m]` into `pressure[hPa]`.\n",
    "\n",
    "Complete the function and use it to add the `pressure` coordinate to `cph_air`."
   ]
  },
  {
   "cell_type": "code",
   "execution_count": null,
   "id": "ec880de0-7930-401d-819a-5b57c1fd7bbf",
   "metadata": {
    "editable": true,
    "slideshow": {
     "slide_type": ""
    },
    "tags": []
   },
   "outputs": [],
   "source": [
    "def altitude_to_pressure(altitude):\n",
    "    M = sc.scalar(0.0289644, unit=\"kg/mol\")\n",
    "    g0 = sc.scalar(9.80665, unit=\"m/s2\")\n",
    "    R = sc.scalar(8.3144598, unit=\"J/mol/K\")\n",
    "    T = sc.scalar(300.0)\n",
    "    p0 = sc.scalar(1013.25, unit=\"hPa\")\n",
    "    return p0 * sc.exp(-g0 * M * altitude / (R * T))"
   ]
  },
  {
   "cell_type": "markdown",
   "id": "5357ad95-e4b1-4a66-b8e4-41d01b89a14d",
   "metadata": {
    "editable": true,
    "slideshow": {
     "slide_type": ""
    },
    "tags": []
   },
   "source": [
    "**Solution:**"
   ]
  },
  {
   "cell_type": "code",
   "execution_count": null,
   "id": "6590d99d-4e0f-4f25-b3ff-058f0b150b6c",
   "metadata": {
    "editable": true,
    "slideshow": {
     "slide_type": ""
    },
    "tags": [
     "solution",
     "hide-cell"
    ]
   },
   "outputs": [],
   "source": [
    "def altitude_to_pressure(altitude):\n",
    "    M = sc.scalar(0.0289644, unit=\"kg/mol\")\n",
    "    g0 = sc.scalar(9.80665, unit=\"m/s2\")\n",
    "    R = sc.scalar(8.3144598, unit=\"J/mol/K\")\n",
    "    T = sc.scalar(300.0, unit=\"K\")\n",
    "    p0 = sc.scalar(1013.25, unit=\"hPa\")\n",
    "    return p0 * sc.exp(-g0 * M * altitude / (R * T))\n",
    "\n",
    "\n",
    "cph_air.coords[\"pressure\"] = altitude_to_pressure(cph_air.coords[\"altitude\"])\n",
    "cph_air"
   ]
  },
  {
   "cell_type": "markdown",
   "id": "f1880ff1-eb0d-4b85-bcdd-845c0e6563da",
   "metadata": {
    "editable": true,
    "slideshow": {
     "slide_type": ""
    },
    "tags": []
   },
   "source": [
    "<br><br><br><br><br><br><br><br><br><br>"
   ]
  },
  {
   "cell_type": "markdown",
   "id": "43ea32cc-1478-4ace-896e-b742f069bada",
   "metadata": {
    "editable": true,
    "slideshow": {
     "slide_type": ""
    },
    "tags": []
   },
   "source": [
    "### 2.2 Histogramming and Bin-edge coordinates\n",
    "\n",
    "- It is sometimes necessary to have coordinates that represent a range for each data value.\n",
    "- E.g. \"the temperature was 310 K in the time span between 10 and 20 seconds\".\n",
    "- This also arises every time we histogram data, as in the image above.\n",
    "- Scipp supports this by having **bin-edge coordinates**: a coordinate which has a length of 1 more than the dimension length.\n",
    "\n",
    "The next data set is meant to represent photon events arriving on a camera.\n",
    "We have a long list of `x` and `y` positions for the photons."
   ]
  },
  {
   "cell_type": "code",
   "execution_count": null,
   "id": "f7c28476-16fe-4a97-b86b-ed42e442ba10",
   "metadata": {
    "editable": true,
    "slideshow": {
     "slide_type": ""
    },
    "tags": []
   },
   "outputs": [],
   "source": [
    "x = sc.array(dims=[\"row\"], values=rng.normal(size=10000), unit=\"cm\")\n",
    "y = sc.array(dims=[\"row\"], values=rng.normal(size=10000), unit=\"cm\")\n",
    "recording = sc.DataArray(\n",
    "    data=sc.ones(sizes=x.sizes, unit=\"counts\"), coords={\"x\": x, \"y\": y}\n",
    ")\n",
    "recording"
   ]
  },
  {
   "cell_type": "code",
   "execution_count": null,
   "id": "7f9d8bbf-7e95-4919-8d98-9a39a07b7dd9",
   "metadata": {
    "editable": true,
    "slideshow": {
     "slide_type": ""
    },
    "tags": []
   },
   "outputs": [],
   "source": [
    "scatter(x.values, y.values)"
   ]
  },
  {
   "cell_type": "markdown",
   "id": "b77b5686-7932-404c-9a48-9aa1cc28561c",
   "metadata": {
    "editable": true,
    "slideshow": {
     "slide_type": ""
    },
    "tags": []
   },
   "source": [
    "It is very common to histogram such data.\n",
    "\n",
    "In Scipp, histogramming has a very concise and easy-to-use syntax.\n",
    "To make 8 bins in both the `x` and `y` dimensions:"
   ]
  },
  {
   "cell_type": "code",
   "execution_count": null,
   "id": "2d58b3be-c83e-478a-97fa-8fc5f4d9965b",
   "metadata": {
    "editable": true,
    "slideshow": {
     "slide_type": ""
    },
    "tags": []
   },
   "outputs": [],
   "source": [
    "image = recording.hist(y=8, x=8)\n",
    "image.plot(aspect=\"equal\")"
   ]
  },
  {
   "cell_type": "markdown",
   "id": "88c7413d-9ba7-4a4e-8701-5f26a977bc10",
   "metadata": {
    "editable": true,
    "slideshow": {
     "slide_type": ""
    },
    "tags": []
   },
   "source": [
    "The `x` and `y` coordinates are now **bin-edge** coordinates."
   ]
  },
  {
   "cell_type": "code",
   "execution_count": null,
   "id": "dd251dfb-6f61-428c-b86e-2809cadf44f2",
   "metadata": {
    "editable": true,
    "slideshow": {
     "slide_type": ""
    },
    "tags": []
   },
   "outputs": [],
   "source": [
    "sc.show(image)\n",
    "image"
   ]
  },
  {
   "cell_type": "markdown",
   "id": "9bce7e32-77a6-4a4a-9c70-ac6f624f08f7",
   "metadata": {
    "editable": true,
    "slideshow": {
     "slide_type": ""
    },
    "tags": []
   },
   "source": [
    "- Numpy and Matplotlib return the bin edges and the data counts separately\n",
    "- We have everything stored inside a single data structure\n",
    "\n",
    "You can of course adjust the number of bins:"
   ]
  },
  {
   "cell_type": "code",
   "execution_count": null,
   "id": "4735d859-38d2-4672-b130-c3ebad704e2d",
   "metadata": {
    "editable": true,
    "slideshow": {
     "slide_type": ""
    },
    "tags": []
   },
   "outputs": [],
   "source": [
    "recording.hist(y=100, x=100).plot(aspect=\"equal\")"
   ]
  },
  {
   "cell_type": "markdown",
   "id": "2af8212a-031f-4490-8022-21e5f57163b2",
   "metadata": {
    "editable": true,
    "slideshow": {
     "slide_type": ""
    },
    "tags": []
   },
   "source": [
    "<br><br><br><br><br>\n",
    "\n",
    "### Exercise 3: Histogramming (TODO)"
   ]
  },
  {
   "cell_type": "markdown",
   "id": "50b9719e-b407-4ca5-b4cb-0accb66b81dd",
   "metadata": {
    "editable": true,
    "slideshow": {
     "slide_type": ""
    },
    "tags": []
   },
   "source": [
    "<br><br><br><br><br><br><br><br><br><br><br><br>\n",
    "\n",
    "## 3. Binned data\n",
    "\n",
    "Scipp distinguishes **histogrammed** data from **binned** data:\n",
    "\n",
    "- Histogrammed data refers to regular dense arrays of, e.g., floating-point values with an associated bin-edge coordinate.\n",
    "- Binned data refers to the precursor of histogrammed data, i.e., each bin contains a “list” of contributing events or values. Binned data can be converted into a histogram by computing the sum over all events or values in a bin.\n",
    "\n",
    "![binned](../images/binned_drawing.svg)\n",
    "\n",
    "This is conceptually similar to a multi-dimensional <a href=\"https://awkward-array.org/doc/main/\"><img src=\"https://iris-hep.org/assets/logos/awkward.svg\" width=\"100\" /></a>.\n",
    "\n",
    "It is best illustrated with an example of data analysis.\n",
    "For this, we will use one of the NYC taxi datasets.\n",
    "\n",
    "<br><br>\n",
    "\n",
    "### NYC yellow taxi dataset\n",
    "\n",
    "<img src=\"https://vaex.readthedocs.io/en/latest/_images/datasets_2_1.png\" /> <img src=\"https://cdn-images-1.medium.com/v2/resize:fit:2680/1*fqrY2h4uLD3eKEvJ6hlI2g.png\" width=\"600\" />\n",
    "\n",
    "(https://vaex.readthedocs.io/en/latest/datasets.html, Dataset from 2015, obtained as a HDF5 file from the Vaex docs,\n",
    "and subsequently cleaned of outliers).\n",
    "\n",
    "For today, we will use a small set of it."
   ]
  },
  {
   "cell_type": "code",
   "execution_count": null,
   "id": "b840ce9e-9263-4bbc-a26c-8dbf9bcf35ad",
   "metadata": {
    "editable": true,
    "slideshow": {
     "slide_type": ""
    },
    "tags": []
   },
   "outputs": [],
   "source": [
    "!wget -nc --no-verbose https://public.esss.dk/groups/scipp/dmsc-summer-school/scipp/nyc_taxi_data_2015_small.zip\n",
    "!unzip -qq nyc_taxi_data_2015_small.zip"
   ]
  },
  {
   "cell_type": "code",
   "execution_count": null,
   "id": "e8764926-3361-4e13-9a33-259a3fb2579c",
   "metadata": {
    "editable": true,
    "slideshow": {
     "slide_type": ""
    },
    "tags": []
   },
   "outputs": [],
   "source": [
    "# %matplotlib widget\n",
    "\n",
    "da = sc.io.load_hdf5(\"nyc_taxi_data_2015_small.h5\")\n",
    "da"
   ]
  },
  {
   "cell_type": "code",
   "execution_count": null,
   "id": "7193d873-cc1e-425f-a749-93a3266e24e6",
   "metadata": {
    "editable": true,
    "slideshow": {
     "slide_type": ""
    },
    "tags": []
   },
   "outputs": [],
   "source": [
    "n = 100\n",
    "x = da.coords[\"dropoff_longitude\"].values[::n]\n",
    "y = da.coords[\"dropoff_latitude\"].values[::n]\n",
    "scatter(x, y)"
   ]
  },
  {
   "cell_type": "markdown",
   "id": "5b5973a2-b1ef-4499-ab15-2b30cd183a92",
   "metadata": {
    "editable": true,
    "slideshow": {
     "slide_type": ""
    },
    "tags": []
   },
   "source": [
    "### Binning the data records\n",
    "\n",
    "- Working with binned data is most efficient when keeping the number of bins relatively low.\n",
    "- Binning is essentially like overlaying a grid of bin edges onto our data"
   ]
  },
  {
   "cell_type": "code",
   "execution_count": null,
   "id": "16b2ba41-115e-4b63-91b3-2a324bfd0e18",
   "metadata": {
    "editable": true,
    "slideshow": {
     "slide_type": ""
    },
    "tags": []
   },
   "outputs": [],
   "source": [
    "ax = scatter(x, y, get_ax=True)\n",
    "for lon in np.linspace(*ax.get_xlim(), 9):\n",
    "    ax.axvline(lon, color=\"gray\")\n",
    "for lat in np.linspace(*ax.get_ylim(), 9):\n",
    "    ax.axhline(lat, color=\"gray\")"
   ]
  },
  {
   "cell_type": "code",
   "execution_count": null,
   "id": "a70c54e4-3050-4b11-8c84-3b7c00d94583",
   "metadata": {
    "editable": true,
    "slideshow": {
     "slide_type": ""
    },
    "tags": []
   },
   "outputs": [],
   "source": [
    "# Bin into 8 longitude & latitude bins\n",
    "binned = da.bin(dropoff_latitude=8, dropoff_longitude=8)\n",
    "binned"
   ]
  },
  {
   "cell_type": "code",
   "execution_count": null,
   "id": "ea41121b-8269-4d73-a8de-45e0027c1d70",
   "metadata": {
    "editable": true,
    "slideshow": {
     "slide_type": ""
    },
    "tags": []
   },
   "outputs": [],
   "source": [
    "# Histogramming is summing all the counts in each bin\n",
    "binned_sum = binned.bins.sum()\n",
    "\n",
    "binned_sum.plot(aspect=\"equal\", norm=\"log\")"
   ]
  },
  {
   "cell_type": "markdown",
   "id": "5634399f-4001-4f07-84ba-b0bb3c3aceab",
   "metadata": {
    "editable": true,
    "slideshow": {
     "slide_type": ""
    },
    "tags": []
   },
   "source": [
    "<br><br><br><br>\n",
    "\n",
    "### Selecting/slicing bins\n",
    "\n",
    "- Binning *groups* the data into bins, but keeps the underlying table of records beneath\n",
    "- **No information is lost, it is simply re-ordered**\n",
    "- The bins can then be used for slicing the data, providing extremely efficient data selection and filtering"
   ]
  },
  {
   "cell_type": "code",
   "execution_count": null,
   "id": "5eda030b-bf22-4253-ae51-817a49b5af45",
   "metadata": {
    "editable": true,
    "slideshow": {
     "slide_type": ""
    },
    "tags": []
   },
   "outputs": [],
   "source": [
    "manh = binned[\"dropoff_longitude\", 1][\"dropoff_latitude\", 4]\n",
    "manh"
   ]
  },
  {
   "cell_type": "code",
   "execution_count": null,
   "id": "cbe0f765-5b54-4e38-b8e4-c1e3ff4e297b",
   "metadata": {
    "editable": true,
    "slideshow": {
     "slide_type": ""
    },
    "tags": []
   },
   "outputs": [],
   "source": [
    "# We can now histogram this with a much finer resolution\n",
    "\n",
    "manh.hist(dropoff_latitude=300, dropoff_longitude=300).plot(norm=\"log\", aspect=\"equal\")"
   ]
  },
  {
   "cell_type": "code",
   "execution_count": null,
   "id": "d267521d-e645-4e45-926d-2afe07c2b44d",
   "metadata": {
    "editable": true,
    "slideshow": {
     "slide_type": ""
    },
    "tags": []
   },
   "outputs": [],
   "source": [
    "# We select another bin, which contains the JFK airport\n",
    "\n",
    "jfk = binned[\"dropoff_longitude\", 6][\"dropoff_latitude\", 1]\n",
    "jfk.hist(dropoff_latitude=300, dropoff_longitude=300).plot(norm=\"log\", aspect=\"equal\")"
   ]
  },
  {
   "cell_type": "markdown",
   "id": "770570b6-5a34-4e8f-b359-142093e4b7e0",
   "metadata": {
    "editable": true,
    "slideshow": {
     "slide_type": ""
    },
    "tags": []
   },
   "source": [
    "![jfk](https://upload.wikimedia.org/wikipedia/commons/thumb/5/5a/JFK_airport_terminal_map.png/640px-JFK_airport_terminal_map.png)\n",
    "\n",
    "(https://commons.wikimedia.org/wiki/File:JFK_airport_terminal_map.png)"
   ]
  },
  {
   "cell_type": "markdown",
   "id": "4048aef4-27ac-4296-a8a8-c59b1de897cc",
   "metadata": {
    "editable": true,
    "slideshow": {
     "slide_type": ""
    },
    "tags": []
   },
   "source": [
    "<br><br>\n",
    "\n",
    "### Binning into a new dimension\n",
    "\n",
    "- Data that has already been binned can also be binned further into new dimensions"
   ]
  },
  {
   "cell_type": "code",
   "execution_count": null,
   "id": "51cd60a5-dd43-4fda-9a9b-e8b5add46bdf",
   "metadata": {
    "editable": true,
    "slideshow": {
     "slide_type": ""
    },
    "tags": []
   },
   "outputs": [],
   "source": [
    "manh"
   ]
  },
  {
   "cell_type": "markdown",
   "id": "59a1c9cc-c661-4570-9d83-d0560201f449",
   "metadata": {
    "editable": true,
    "slideshow": {
     "slide_type": ""
    },
    "tags": []
   },
   "source": [
    "- we look at the trip distances inside the Manhattan and JFK bins we have selected above."
   ]
  },
  {
   "cell_type": "code",
   "execution_count": null,
   "id": "47734c5a-584c-44a9-8404-0cb8027624ea",
   "metadata": {
    "editable": true,
    "slideshow": {
     "slide_type": ""
    },
    "tags": []
   },
   "outputs": [],
   "source": [
    "# Use 100 distance bins\n",
    "manh_dist = manh.bin(trip_distance=100)\n",
    "manh_dist"
   ]
  },
  {
   "cell_type": "code",
   "execution_count": null,
   "id": "7a865a9c-e2a9-4fa8-8e58-fd68f9c9c835",
   "metadata": {
    "editable": true,
    "slideshow": {
     "slide_type": ""
    },
    "tags": []
   },
   "outputs": [],
   "source": [
    "manh_dist.hist().plot()"
   ]
  },
  {
   "cell_type": "code",
   "execution_count": null,
   "id": "39a77bf1-6338-40fd-a4e7-829110cbed1d",
   "metadata": {
    "editable": true,
    "slideshow": {
     "slide_type": ""
    },
    "tags": []
   },
   "outputs": [],
   "source": [
    "jfk_dist = jfk.bin(trip_distance=100)\n",
    "jfk_dist.hist().plot()"
   ]
  },
  {
   "cell_type": "markdown",
   "id": "b48ca7fb-3982-4a49-8465-3123eee72c38",
   "metadata": {
    "editable": true,
    "slideshow": {
     "slide_type": ""
    },
    "tags": []
   },
   "source": [
    "<br><br>\n",
    "\n",
    "\n",
    "### Other operations on bins: what is the fare amount as a function of distance?\n",
    "\n",
    "- In addition to summing/histogramming, bins can be used for other reduction operations: `min()`, `max()`, and `mean()`."
   ]
  },
  {
   "cell_type": "code",
   "execution_count": null,
   "id": "afa8b050-ba24-4d3c-aa93-843265e6473e",
   "metadata": {
    "editable": true,
    "slideshow": {
     "slide_type": ""
    },
    "tags": []
   },
   "outputs": [],
   "source": [
    "manh_dist"
   ]
  },
  {
   "cell_type": "markdown",
   "id": "2d8d5554-28a8-4f0a-a054-4e3eb21c4f61",
   "metadata": {
    "editable": true,
    "slideshow": {
     "slide_type": ""
    },
    "tags": []
   },
   "source": [
    "- To get the minimum and maximum fares for all trips that ended inside our Manhattan area, we can do"
   ]
  },
  {
   "cell_type": "code",
   "execution_count": null,
   "id": "58efcd20-039e-457b-9bb4-3e201aad17e6",
   "metadata": {
    "editable": true,
    "slideshow": {
     "slide_type": ""
    },
    "tags": []
   },
   "outputs": [],
   "source": [
    "manh_dist.bins.coords[\"fare_amount\"].min(), manh.bins.coords[\"fare_amount\"].max()"
   ]
  },
  {
   "cell_type": "markdown",
   "id": "a997f099-8b80-425c-afd1-8816215d2fa4",
   "metadata": {
    "editable": true,
    "slideshow": {
     "slide_type": ""
    },
    "tags": []
   },
   "source": [
    "- These values are somewhat strange, indicative of bad data in the table.\n",
    "- We restrict our fare range from \\\\$0 to \\\\$200."
   ]
  },
  {
   "cell_type": "code",
   "execution_count": null,
   "id": "d212a5fb-03b6-4477-ab8c-601e10cec8e4",
   "metadata": {
    "editable": true,
    "slideshow": {
     "slide_type": ""
    },
    "tags": []
   },
   "outputs": [],
   "source": [
    "# Make 100 bins between 0 and 200 dollars\n",
    "nbins = 100\n",
    "fare_bins = sc.linspace(\"fare_amount\", 0, 200, nbins + 1, unit=\"dollar\")\n",
    "\n",
    "# Bin & plot our data\n",
    "manh_dist.bin(fare_amount=fare_bins).hist().transpose().plot(norm=\"log\")"
   ]
  },
  {
   "cell_type": "markdown",
   "id": "9b7b3413-3c1b-46a2-8756-12e9b21d3018",
   "metadata": {
    "editable": true,
    "slideshow": {
     "slide_type": ""
    },
    "tags": []
   },
   "source": [
    "Some things we can say about the data:\n",
    "\n",
    "- there appears to be a (somewhat expected) correlation between fare amount and trip distance: the further you go, the more you'll have to pay\n",
    "- for a given trip distance, clients usually pay above the diagonal line, rarely below\n",
    "- there appears to be a magic fare amount of \\\\$52 that will take you anywhere from 0 to 60 miles!\n",
    "\n",
    "<br><br>\n",
    "\n",
    "## 4. Plopp: interactive data visualization tools\n",
    "\n",
    "<img src=\"https://scipp.github.io/plopp/_static/logo.svg\" width=\"200\" />\n",
    "\n",
    "https://scipp.github.io/plopp "
   ]
  },
  {
   "cell_type": "code",
   "execution_count": null,
   "id": "0a454655-bc5a-43fd-ae53-cdf0dc96b902",
   "metadata": {
    "editable": true,
    "slideshow": {
     "slide_type": ""
    },
    "tags": []
   },
   "outputs": [],
   "source": [
    "import plopp as pp\n",
    "\n",
    "fare_lat_lon = da.hist(\n",
    "    fare_amount=fare_bins, dropoff_latitude=300, dropoff_longitude=300\n",
    ")\n",
    "fare_lat_lon"
   ]
  },
  {
   "cell_type": "code",
   "execution_count": null,
   "id": "bfd3d529-8f73-4147-86af-7a623063f496",
   "metadata": {
    "editable": true,
    "slideshow": {
     "slide_type": ""
    },
    "tags": [
     "remove-output"
    ]
   },
   "outputs": [],
   "source": [
    "%matplotlib widget\n",
    "\n",
    "inspect = pp.inspector(fare_lat_lon, dim=\"fare_amount\", norm=\"log\")\n",
    "inspect"
   ]
  },
  {
   "cell_type": "code",
   "execution_count": null,
   "id": "be30c814-f60e-45be-b13c-60f0496706f3",
   "metadata": {
    "editable": true,
    "slideshow": {
     "slide_type": ""
    },
    "tags": [
     "solution",
     "remove-input"
    ]
   },
   "outputs": [],
   "source": [
    "tool = inspect[0][0].toolbar['inspect']._tool\n",
    "tool.start()\n",
    "tool.click(-73.9859, 40.7463)\n",
    "tool.click(-73.9575, 40.7120)\n",
    "tool.click(-73.9522, 40.7777)\n",
    "display(inspect[0][0].fig)\n",
    "display(inspect[0][1].fig)"
   ]
  },
  {
   "cell_type": "markdown",
   "id": "ce48dba2-d420-463a-a6cf-748ffc8abb6d",
   "metadata": {
    "editable": true,
    "slideshow": {
     "slide_type": ""
    },
    "tags": []
   },
   "source": [
    "<br><br><br><br><br><br><br>\n",
    "\n",
    "### Final Exercise.\n",
    "\n",
    "You decided to join an exchange program in NY.\n",
    "\n",
    "But living expense is too much there, even compared to Cph!\n",
    "\n",
    "Luckily you can take over a car from a previous student in the same program, and you are allowed to have a part-time job for 12 hours a week and there is no limit of income.\n",
    "\n",
    "So you decided to be a shared-car driver. And you want to maximize your income within those 12 hours, so you are going to analyse which day to drive around which place!\n",
    "\n",
    "You are free to choose 2 days among all 7 days, and there are 2 places, Manhattan and JFK airport region, you can be registered as a driver.\n",
    "\n",
    "In order to do so, let's\n",
    "    1. Add a coordinate of `weekday` based on the `pickup_datetime`.\n",
    "    2. Draw histograms of `fair/trip_distance` for each region."
   ]
  },
  {
   "cell_type": "markdown",
   "id": "10737b8c-c51c-4cba-992e-a259ee77e297",
   "metadata": {
    "editable": true,
    "slideshow": {
     "slide_type": ""
    },
    "tags": []
   },
   "source": [
    "**Solution**"
   ]
  },
  {
   "cell_type": "code",
   "execution_count": null,
   "id": "bbc50745-2b39-4c4e-8398-fdf1b7749e20",
   "metadata": {},
   "outputs": [],
   "source": [
    "from datetime import datetime\n",
    "\n",
    "\n",
    "def datetime_to_weekday(t: datetime) -> str:\n",
    "    ..."
   ]
  }
 ],
 "metadata": {
  "kernelspec": {
   "display_name": "Python 3 (ipykernel)",
   "language": "python",
   "name": "python3"
  },
  "language_info": {
   "codemirror_mode": {
    "name": "ipython",
    "version": 3
   },
   "file_extension": ".py",
   "mimetype": "text/x-python",
   "name": "python",
   "nbconvert_exporter": "python",
   "pygments_lexer": "ipython3",
   "version": "3.10.12"
  }
 },
 "nbformat": 4,
 "nbformat_minor": 5
}
