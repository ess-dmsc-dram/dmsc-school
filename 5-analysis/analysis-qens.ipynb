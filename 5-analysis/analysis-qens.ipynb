{
 "cells": [
  {
   "cell_type": "markdown",
   "metadata": {
    "editable": true,
    "slideshow": {
     "slide_type": ""
    },
    "tags": []
   },
   "source": [
    "# Fitting QENS data\n",
    "\n",
    "Previously, some quasi-elastic neutron scattering (QENS) data has been [simulated](./../3-mcstas/mcstas-qens.ipynb) and [reduced](./../4-scipp/reduction-qens.ipynb) and can now be analysed with `easyscience`.\n",
    "Before the analysis can begin, it is necessary to load the experimental data and check that it looks reasonable. \n",
    "The data can be loaded with `np.loadtxt` as the data has been stored in a simple space-separated column file."
   ]
  },
  {
   "cell_type": "code",
   "execution_count": null,
   "metadata": {
    "editable": true,
    "slideshow": {
     "slide_type": ""
    },
    "tags": []
   },
   "outputs": [],
   "source": [
    "import numpy as np\n",
    "import pandas as pd\n",
    "import utils"
   ]
  },
  {
   "cell_type": "code",
   "execution_count": null,
   "metadata": {},
   "outputs": [],
   "source": [
    "filename = '../4-reduction/energy_transfer_QENS_unknown_quasi_elastic_many_neutrons.dat'"
   ]
  },
  {
   "cell_type": "markdown",
   "metadata": {
    "tags": [
     "remove-cell",
     "dmsc-school-keep"
    ]
   },
   "source": [
    "⚠️ **If you did not complete the QENS data reduction yesterday**,\n",
    "you can use some pre-prepared data by uncommenting and running the cell below:"
   ]
  },
  {
   "cell_type": "code",
   "execution_count": null,
   "metadata": {
    "tags": [
     "remove-cell",
     "dmsc-school-keep"
    ]
   },
   "outputs": [],
   "source": [
    "# filename = utils.fetch_data(\"4-reduction/energy_transfer_QENS_unknown_quasi_elastic_many_neutrons.dat\")"
   ]
  },
  {
   "cell_type": "code",
   "execution_count": null,
   "metadata": {
    "editable": true,
    "slideshow": {
     "slide_type": ""
    },
    "tags": []
   },
   "outputs": [],
   "source": [
    "q, i, di = utils.load(filename)"
   ]
  },
  {
   "cell_type": "markdown",
   "metadata": {
    "editable": true,
    "slideshow": {
     "slide_type": ""
    },
    "tags": []
   },
   "source": [
    "With the data read in, we can produce a quick plot. "
   ]
  },
  {
   "cell_type": "code",
   "execution_count": null,
   "metadata": {
    "editable": true,
    "slideshow": {
     "slide_type": ""
    },
    "tags": []
   },
   "outputs": [],
   "source": [
    "import matplotlib.pyplot as plt\n",
    "\n",
    "fig, ax = plt.subplots()\n",
    "ax.errorbar(q, i, di, fmt='.')\n",
    "ax.set(xlabel='$\\\\omega$/meV', ylabel='$I(\\\\omega)$')\n",
    "plt.show()"
   ]
  },
  {
   "cell_type": "markdown",
   "metadata": {
    "editable": true,
    "slideshow": {
     "slide_type": ""
    },
    "tags": []
   },
   "source": [
    "The QENS data covers a slightly broader range than we want to investigate.\n",
    "Therefore, we will crop the data so that we are only using points between -0.06 and 0.06 meV. "
   ]
  },
  {
   "cell_type": "code",
   "execution_count": null,
   "metadata": {
    "editable": true,
    "slideshow": {
     "slide_type": ""
    },
    "tags": []
   },
   "outputs": [],
   "source": [
    "sel = (q > -0.06) & (q < 0.06)\n",
    "q, i, di = q[sel], i[sel], di[sel]"
   ]
  },
  {
   "cell_type": "markdown",
   "metadata": {
    "editable": true,
    "slideshow": {
     "slide_type": ""
    },
    "tags": []
   },
   "source": [
    "We now want to consider the mathematical model to be used in the analysis. \n",
    "QENS data is typically analysed by fitting a Lorentzian function to the data, which has the functional form\n",
    "\n",
    "$$\n",
    "I(\\omega) = \\frac{A\\gamma}{\\pi\\big[(\\omega - \\omega_0) ^ 2 + \\gamma ^ 2\\big]},\n",
    "$$ (lorentzian)\n",
    "\n",
    "where $A$ is a scale factor, $\\gamma$ is the half-width at half-maximum, and $\\omega_0$ is the centre offset. \n",
    "\n",
    "## Exercise 1: implement a Lorentzian function\n",
    "\n",
    "Write a function that implements Eqn. {eq}`lorentzian`, called `lorentzian`. \n",
    "\n",
    "**Solution:**"
   ]
  },
  {
   "cell_type": "code",
   "execution_count": null,
   "metadata": {
    "editable": true,
    "slideshow": {
     "slide_type": ""
    },
    "tags": [
     "hide-cell",
     "solution"
    ]
   },
   "outputs": [],
   "source": [
    "def lorentzian(omega: np.ndarray) -> np.ndarray:\n",
    "    \"\"\"\n",
    "    A Lorentzian function.\n",
    "    \n",
    "    :omega: the energy transfer values to calculate over.\n",
    "\n",
    "    :return: intensity values.\n",
    "    \"\"\"\n",
    "    return A.value / np.pi * gamma.value / ((omega - omega_0.value) ** 2 + gamma.value ** 2)"
   ]
  },
  {
   "cell_type": "markdown",
   "metadata": {
    "editable": true,
    "slideshow": {
     "slide_type": ""
    },
    "tags": []
   },
   "source": [
    "The instrument has a finite resolution, and to take this into account, the Lorentzian function must be convolved with this resolution. In our case, the resolution is a Gaussian distribution that is centred at zero with width, $\\sigma$. \n",
    "In real experiments there are ways to measure $\\sigma$, but for this project, we will simply model it. "
   ]
  },
  {
   "cell_type": "code",
   "execution_count": null,
   "metadata": {
    "editable": true,
    "slideshow": {
     "slide_type": ""
    },
    "tags": []
   },
   "outputs": [],
   "source": [
    "from scipy.stats import norm\n",
    "\n",
    "def intensity(omega):\n",
    "    \"\"\"\n",
    "    The convolution of a Gaussian and the Lorentzian.\n",
    "    \n",
    "    :omega: the energy transfer values to calculate over.\n",
    "\n",
    "    :return: intensity values.\n",
    "    \"\"\"\n",
    "    gauss = norm(0, sigma.value).pdf(omega)\n",
    "    gauss /= gauss.sum()\n",
    "    return np.convolve(lorentzian(omega), gauss, 'same')"
   ]
  },
  {
   "cell_type": "markdown",
   "metadata": {},
   "source": [
    "This means that there are a total of four parameters in our model. \n",
    "\n",
    "## Exercise 2: create fitting parameters\n",
    "\n",
    "Create four `Parameter` objects, for $A$, $\\gamma$, $\\omega_0$, and $\\sigma$.\n",
    "\n",
    "Each should have an initial value and a uniform prior distribution, based on the values given in {numref}`qens-parameters`."
   ]
  },
  {
   "cell_type": "markdown",
   "metadata": {
    "tags": [
     "remove-cell",
     "dmsc-school-keep"
    ]
   },
   "source": [
    "| Parameter | Initial Value | Min | Max |\n",
    "| --- | --- | --- | --- |\n",
    "| $A$ | 10 | 1 | 100 |\n",
    "| $\\gamma$ | 8.0 &times; 10<sup>-3</sup> | 1.0 &times; 10<sup>-4</sup> | 1.0 &times; 10<sup>-2</sup> |\n",
    "| $\\omega_0$ | 1.0 &times; 10<sup>-3</sup> | -2.0 &times; 10<sup>-3</sup> | 2.0 &times; 10<sup>-3</sup> |\n",
    "| $\\sigma$ | 1.0 &times; 10<sup>-3</sup> | 1.0 &times; 10<sup>-5</sup> | 1.0 &times; 10<sup>-1</sup> |"
   ]
  },
  {
   "cell_type": "markdown",
   "metadata": {
    "editable": true,
    "slideshow": {
     "slide_type": ""
    },
    "tags": [
     "dmsc-school-remove"
    ]
   },
   "source": [
    "```{list-table} Parameter values.\n",
    ":name: qens-parameters\n",
    ":header-rows: 1\n",
    ":align: center\n",
    "\n",
    "* - Parameter\n",
    "  - Initial Value\n",
    "  - Min\n",
    "  - Max\n",
    "* - $A$\n",
    "  - 10\n",
    "  - 1\n",
    "  - 100\n",
    "* - $\\gamma$\n",
    "  - 8.0 &times; 10<sup>-3</sup>\n",
    "  - 1.0 &times; 10<sup>-4</sup>\n",
    "  - 1.0 &times; 10<sup>-2</sup>\n",
    "* - $\\omega_0$\n",
    "  - 1.0 &times; 10<sup>-3</sup>\n",
    "  - -2.0 &times; 10<sup>-3</sup>\n",
    "  - 2.0 &times; 10<sup>-3</sup>\n",
    "* - $\\sigma$\n",
    "  - 1.0 &times; 10<sup>-3</sup>\n",
    "  - 1.0 &times; 10<sup>-5</sup>\n",
    "  - 1.0 &times; 10<sup>-1</sup>\n",
    "```"
   ]
  },
  {
   "cell_type": "markdown",
   "metadata": {},
   "source": [
    "**Solution:**"
   ]
  },
  {
   "cell_type": "code",
   "execution_count": null,
   "metadata": {
    "editable": true,
    "slideshow": {
     "slide_type": ""
    },
    "tags": [
     "hide-cell",
     "solution"
    ]
   },
   "outputs": [],
   "source": [
    "from easyscience.Objects.variable import Parameter\n",
    "\n",
    "A = Parameter(name='A', value=10, fixed=False, min=0.01, max=100)\n",
    "gamma = Parameter(name='gamma', value=8e-3, fixed=False, min=1e-4, max=10e-3)\n",
    "omega_0 = Parameter(name='omega_0', value=0.001, fixed=False, min=-0.002, max=0.002)\n",
    "sigma = Parameter(name='sigma', value=0.001, fixed=False, min=1e-5, max=0.1)"
   ]
  },
  {
   "cell_type": "markdown",
   "metadata": {
    "editable": true,
    "slideshow": {
     "slide_type": ""
    },
    "tags": []
   },
   "source": [
    "It is now possible to compare our model at the initial estimates to the simulated data. "
   ]
  },
  {
   "cell_type": "code",
   "execution_count": null,
   "metadata": {
    "editable": true,
    "slideshow": {
     "slide_type": ""
    },
    "tags": []
   },
   "outputs": [],
   "source": [
    "fig, ax = plt.subplots()\n",
    "ax.errorbar(q, i, di, fmt='.')\n",
    "ax.plot(q, intensity(q), '-k', zorder=10)\n",
    "ax.set(xlabel='$\\\\omega$/meV', ylabel='$I(\\\\omega)$')\n",
    "plt.show()"
   ]
  },
  {
   "cell_type": "markdown",
   "metadata": {},
   "source": [
    "## Exercise 3: find maximum likelihood estimates\n",
    "\n",
    "Using `easyscience`, obtain maximum likelihood estimates for the four parameters of the model from comparison with the data.\n",
    "\n",
    "**Solution:**"
   ]
  },
  {
   "cell_type": "code",
   "execution_count": null,
   "metadata": {
    "editable": true,
    "slideshow": {
     "slide_type": ""
    },
    "tags": [
     "hide-cell",
     "solution"
    ]
   },
   "outputs": [],
   "source": [
    "from easyscience.Objects.ObjectClasses import BaseObj\n",
    "from easyscience.fitting import Fitter\n",
    "\n",
    "params = BaseObj(name='params', A=A, gamma=gamma, omega_0=omega_0, sigma=sigma)\n",
    "f = Fitter(params, intensity)\n",
    "\n",
    "res = f.fit(x=q, y=i, weights=1/di)"
   ]
  },
  {
   "cell_type": "markdown",
   "metadata": {
    "editable": true,
    "slideshow": {
     "slide_type": ""
    },
    "tags": []
   },
   "source": [
    "We can then plot the model and the data together as before and print the values of the parameters along with their uncertainties. "
   ]
  },
  {
   "cell_type": "code",
   "execution_count": null,
   "metadata": {
    "editable": true,
    "slideshow": {
     "slide_type": ""
    },
    "tags": []
   },
   "outputs": [],
   "source": [
    "fig, ax = plt.subplots()\n",
    "ax.errorbar(q, i, di, fmt='.')\n",
    "ax.plot(q, intensity(q), '-k', zorder=10)\n",
    "ax.set(xlabel='$\\\\omega$/meV', ylabel='$I(\\\\omega)$')\n",
    "plt.show()"
   ]
  },
  {
   "cell_type": "code",
   "execution_count": null,
   "metadata": {
    "editable": true,
    "slideshow": {
     "slide_type": ""
    },
    "tags": []
   },
   "outputs": [],
   "source": [
    "A, gamma, omega_0, sigma"
   ]
  },
  {
   "cell_type": "markdown",
   "metadata": {},
   "source": [
    "Finally, we save the fit parameters to a CSV file."
   ]
  },
  {
   "cell_type": "code",
   "execution_count": null,
   "metadata": {},
   "outputs": [],
   "source": [
    "utils.save_fit_params('qens_fit.csv', (A, gamma, omega_0, sigma))"
   ]
  }
 ],
 "metadata": {
  "kernelspec": {
   "display_name": "Python 3 (ipykernel)",
   "language": "python",
   "name": "python3"
  },
  "language_info": {
   "codemirror_mode": {
    "name": "ipython",
    "version": 3
   },
   "file_extension": ".py",
   "mimetype": "text/x-python",
   "name": "python",
   "nbconvert_exporter": "python",
   "pygments_lexer": "ipython3",
   "version": "3.11.10"
  }
 },
 "nbformat": 4,
 "nbformat_minor": 4
}
