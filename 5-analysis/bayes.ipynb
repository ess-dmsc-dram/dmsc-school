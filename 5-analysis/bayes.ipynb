{
 "cells": [
  {
   "cell_type": "markdown",
   "metadata": {},
   "source": [
    "# Uniform priors in `easyscience`\n",
    "\n",
    "Bayesian methods are becoming more and more popular in the analysis of model-dependent data, in particular in neutron scattering. \n",
    "Thinking about data [probabilistically](./prob_data.ipynb), helps towards an understanding of Bayesian modelling.\n",
    "Bayesian modelling is about how to include prior knowledge about the system or parameters under study in the analysis. \n",
    "\n",
    "The same data as previously will be used again. "
   ]
  },
  {
   "cell_type": "code",
   "execution_count": 1,
   "metadata": {},
   "outputs": [],
   "source": [
    "import numpy as np\n",
    "\n",
    "np.random.seed(123)\n",
    "\n",
    "a_true = -0.9594\n",
    "b_true = 7.294\n",
    "c_true = 3.102\n",
    "\n",
    "N = 25\n",
    "x = np.linspace(0, 10, N)\n",
    "yerr = 1 + 1 * np.random.rand(N)\n",
    "y = a_true * x ** 2 + b_true * x + c_true\n",
    "y += np.abs(y) * 0.1 * np.random.randn(N)"
   ]
  },
  {
   "cell_type": "code",
   "execution_count": 2,
   "metadata": {
    "editable": true,
    "slideshow": {
     "slide_type": ""
    },
    "tags": [
     "remove-cell"
    ]
   },
   "outputs": [
    {
     "data": {
      "application/papermill.record/image/png": "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",
      "application/papermill.record/text/plain": "<Figure size 500x300 with 1 Axes>"
     },
     "metadata": {
      "scrapbook": {
       "mime_prefix": "application/papermill.record/",
       "name": "uniform_fig"
      }
     },
     "output_type": "display_data"
    },
    {
     "data": {
      "image/png": "[encoded data removed]",
      "text/plain": [
       "<Figure size 500x300 with 1 Axes>"
      ]
     },
     "metadata": {},
     "output_type": "display_data"
    }
   ],
   "source": [
    "import matplotlib.pyplot as plt\n",
    "from myst_nb import glue\n",
    "from scipy.stats import uniform\n",
    "\n",
    "_x = np.linspace(-2, 12, 1000)\n",
    "fig, ax = plt.subplots(figsize=(5,3))\n",
    "u = uniform(loc=0, scale=10)\n",
    "ax.plot(_x, u.pdf(_x))\n",
    "ax.set_ylim(0, None)\n",
    "ax.set_xlim(_x.min(), _x.max())\n",
    "ax.set_xlabel('$b$')\n",
    "ax.set_ylabel('$p(b)$')\n",
    "fig.tight_layout()\n",
    "glue(\"uniform_fig\", fig, display=False)"
   ]
  },
  {
   "cell_type": "markdown",
   "metadata": {
    "editable": true,
    "slideshow": {
     "slide_type": ""
    },
    "tags": []
   },
   "source": [
    "The most straightforward way to include prior knowledge in some analysis is through the use of bounded parameters. \n",
    "Bounded parameters cannot have values less than some lower bound or greater than some upper bound, as the probability of the parameters having these values is zero. \n",
    "For example, if the parameter `b` from the quadratic model has bounds of 0 and 10, then there is an equal probability that the value of `b` can be anything in between 0 and 10, and a probability of 0 outside those bounds, i.e., it has a uniform prior probability distribution ({numref}`uniform`).\n",
    "\n",
    "```{glue:figure} uniform_fig\n",
    ":name: \"uniform\"\n",
    "\n",
    "A uniform distribution (blue line), from 0 to 10.\n",
    "```\n",
    "\n",
    "Information about bounds can be included in `easyscience` parameters as `min` and `max` values."
   ]
  },
  {
   "cell_type": "code",
   "execution_count": 3,
   "metadata": {
    "editable": true,
    "slideshow": {
     "slide_type": ""
    },
    "tags": []
   },
   "outputs": [],
   "source": [
    "from easyscience.Objects.new_variable import Parameter\n",
    "\n",
    "a = Parameter(name='a', value=a_true, fixed=False, min=-5.0, max=0.5)\n",
    "b = Parameter(name='b', value=b_true, fixed=False, min=0, max=10)\n",
    "c = Parameter(name='c', value=c_true, fixed=False, min=-20, max=50)"
   ]
  },
  {
   "cell_type": "markdown",
   "metadata": {},
   "source": [
    "We can then perform the analysis in the same fashion as previously, however, this time the bounds will be respected. "
   ]
  },
  {
   "cell_type": "code",
   "execution_count": 4,
   "metadata": {},
   "outputs": [
    {
     "data": {
      "text/plain": [
       "(<Parameter 'a': -0.9206 ± 0.0373, bounds=[-5.0:0.5]>,\n",
       " <Parameter 'b': 7.0861 ± 0.3947, bounds=[0.0:10.0]>,\n",
       " <Parameter 'c': 2.0548 ± 0.8492, bounds=[-20.0:50.0]>)"
      ]
     },
     "execution_count": 4,
     "metadata": {},
     "output_type": "execute_result"
    }
   ],
   "source": [
    "from easyscience.Objects.ObjectClasses import BaseObj\n",
    "from easyscience.fitting import Fitter\n",
    "\n",
    "def math_model(x, *args, **kwargs):\n",
    "    return a.value * x ** 2 + b.value * x + c.value\n",
    "\n",
    "quad = BaseObj(name='quad', a=a, b=b, c=c)\n",
    "f = Fitter(quad, math_model)\n",
    "\n",
    "res = f.fit(x=x, y=y, weights=yerr)\n",
    "\n",
    "a, b, c"
   ]
  },
  {
   "cell_type": "markdown",
   "metadata": {},
   "source": [
    "Currently `easyscience` only supports uniform prior probability distributions, however, there are plans to extend this in the future. "
   ]
  },
  {
   "cell_type": "markdown",
   "metadata": {},
   "source": []
  }
 ],
 "metadata": {
  "kernelspec": {
   "display_name": "Python 3 (ipykernel)",
   "language": "python",
   "name": "python3"
  },
  "language_info": {
   "codemirror_mode": {
    "name": "ipython",
    "version": 3
   },
   "file_extension": ".py",
   "mimetype": "text/x-python",
   "name": "python",
   "nbconvert_exporter": "python",
   "pygments_lexer": "ipython3",
   "version": "3.11.9"
  }
 },
 "nbformat": 4,
 "nbformat_minor": 4
}
