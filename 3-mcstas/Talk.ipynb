{
 "cells": [
  {
   "cell_type": "markdown",
   "id": "polyphonic-waste",
   "metadata": {
    "slideshow": {
     "slide_type": "slide"
    }
   },
   "source": [
    "# Simulation session\n",
    "- Theory on Monte Carlo ray-tracing simulations\n",
    "- Introduction to the McStas package\n",
    "- Learn basics of the Python API McStasScript"
   ]
  },
  {
   "cell_type": "markdown",
   "id": "numeric-situation",
   "metadata": {
    "slideshow": {
     "slide_type": "slide"
    }
   },
   "source": [
    "## Monte Carlo"
   ]
  },
  {
   "cell_type": "code",
   "execution_count": null,
   "id": "violent-hearing",
   "metadata": {
    "slideshow": {
     "slide_type": "-"
    }
   },
   "outputs": [],
   "source": [
    "import monte_carlo\n",
    "%matplotlib widget\n",
    "monte_carlo.example_interactive(square_side_length=1.0)"
   ]
  },
  {
   "cell_type": "markdown",
   "id": "commercial-uzbekistan",
   "metadata": {
    "slideshow": {
     "slide_type": "slide"
    }
   },
   "source": [
    "## Monte Carlo ray-tracing"
   ]
  },
  {
   "cell_type": "code",
   "execution_count": null,
   "id": "departmental-executive",
   "metadata": {},
   "outputs": [],
   "source": [
    "monte_carlo.example_interactive(square_side_length=1.1)"
   ]
  },
  {
   "cell_type": "markdown",
   "id": "infinite-retreat",
   "metadata": {
    "slideshow": {
     "slide_type": "slide"
    }
   },
   "source": [
    "### Random starting position and direction"
   ]
  },
  {
   "cell_type": "code",
   "execution_count": null,
   "id": "institutional-trial",
   "metadata": {},
   "outputs": [],
   "source": [
    "import simple_simulator\n",
    "sim = simple_simulator.Simulator()\n",
    "src = sim.add_component(\"Source\", width=0.1, height=0.1, angle_spread=30)\n",
    "sim.add_component(\"Propagator\", distance=0.1)\n",
    "\n",
    "rays = sim.run(num_rays=15)\n",
    "sim.visualize(rays, show_coordinates=False)"
   ]
  },
  {
   "cell_type": "markdown",
   "id": "enormous-latino",
   "metadata": {
    "slideshow": {
     "slide_type": "slide"
    }
   },
   "source": [
    "### Example with guide"
   ]
  },
  {
   "cell_type": "code",
   "execution_count": null,
   "id": "peaceful-raleigh",
   "metadata": {},
   "outputs": [],
   "source": [
    "import ray_tracer_examples\n",
    "sim = ray_tracer_examples.guide()\n",
    "\n",
    "rays = sim.run(num_rays=20)\n",
    "sim.visualize(rays)"
   ]
  },
  {
   "cell_type": "markdown",
   "id": "welsh-medium",
   "metadata": {
    "slideshow": {
     "slide_type": "slide"
    }
   },
   "source": [
    "### Complex example"
   ]
  },
  {
   "cell_type": "code",
   "execution_count": null,
   "id": "unlimited-procedure",
   "metadata": {},
   "outputs": [],
   "source": [
    "import ray_tracer_examples\n",
    "sim = ray_tracer_examples.large()\n",
    "\n",
    "rays = sim.run(num_rays=100)\n",
    "sim.visualize(rays)"
   ]
  },
  {
   "cell_type": "markdown",
   "id": "searching-uniform",
   "metadata": {
    "slideshow": {
     "slide_type": "slide"
    }
   },
   "source": [
    "# Monte Carlo ray-tracing in Neutron Scattering\n",
    "- Used to simulate the facility\n",
    "    - Target\n",
    "    - Moderator\n",
    "    - Guides\n",
    "    - Choppers\n",
    "    - Sample\n",
    "    - Detectors\n",
    "    - ...\n",
    "- Predict performance\n",
    "- Optimize source / instruments"
   ]
  },
  {
   "cell_type": "markdown",
   "id": "caring-latest",
   "metadata": {
    "slideshow": {
     "slide_type": "slide"
    }
   },
   "source": [
    "# McStas\n",
    "McStas was originally created in Denmark and is celebrating its 25th anniversary this year!\n",
    "\n",
    "- Allows user to simulate an instrument through sequence of components place in space\n",
    "- Has large component library\n",
    "- Relatively easy to create new components\n",
    "\n",
    "### Technical\n",
    "- C programming language and code generation\n",
    "- C-meta language for instrument file that describes simulation"
   ]
  },
  {
   "cell_type": "markdown",
   "id": "adequate-delay",
   "metadata": {
    "slideshow": {
     "slide_type": "slide"
    }
   },
   "source": [
    "### Coordiante system\n",
    "- x: left, looking in the beam direction\n",
    "- y: upwards, against gravity\n",
    "- z: beam direction "
   ]
  },
  {
   "cell_type": "code",
   "execution_count": null,
   "id": "boring-residence",
   "metadata": {},
   "outputs": [],
   "source": [
    "import simple_simulator\n",
    "sim = simple_simulator.Simulator()\n",
    "src = sim.add_component(\"Source\", width=0.1, height=0.1, angle_spread=3)\n",
    "sim.add_component(\"Propagator\", distance=0.1)\n",
    "\n",
    "rays = sim.run(num_rays=5)\n",
    "sim.visualize(rays, show_coordinates=0.06)"
   ]
  },
  {
   "cell_type": "code",
   "execution_count": null,
   "id": "stunning-photograph",
   "metadata": {
    "slideshow": {
     "slide_type": "slide"
    }
   },
   "outputs": [],
   "source": [
    "sim = simple_simulator.Simulator()\n",
    "\n",
    "src = sim.add_component(\"Source\", width=0.05, height=0.05, angle_spread=3)\n",
    "guide = sim.add_component(\"Guide\", width=0.07, height=0.07, length=2,\n",
    "                          position=[0,0,0.75], rotation=[0,0,0])\n",
    "monitor = sim.add_component(\"Monitor\", nx=20, ny=20, width=0.08, height=0.08,\n",
    "                            position=[0,0,guide.length + 0.2], relative=guide)\n",
    "\n",
    "rays = sim.run(num_rays=5)\n",
    "sim.visualize(rays, show_coordinates=[0.06, 0.06, 0.25])"
   ]
  },
  {
   "cell_type": "code",
   "execution_count": null,
   "id": "impressed-shark",
   "metadata": {
    "slideshow": {
     "slide_type": "slide"
    }
   },
   "outputs": [],
   "source": [
    "import ray_tracer_examples\n",
    "sim = ray_tracer_examples.large()\n",
    "rays = sim.run(num_rays=20)\n",
    "sim.visualize(rays, show_coordinates=[0.06, 0.06, 0.1])"
   ]
  },
  {
   "cell_type": "markdown",
   "id": "hazardous-hacker",
   "metadata": {
    "slideshow": {
     "slide_type": "slide"
    }
   },
   "source": [
    "### Units in McStas\n",
    "Components can be contributed and could use any unit. Commonly SI + meV and Å.\n",
    "\n",
    "Positions and rotation of components always in meters and degrees."
   ]
  },
  {
   "cell_type": "markdown",
   "id": "expanded-nepal",
   "metadata": {
    "slideshow": {
     "slide_type": "slide"
    }
   },
   "source": [
    "## McStasScript Python API\n",
    "There exists a Python API to run McStas, here we will go through how to make a simple simulation."
   ]
  },
  {
   "cell_type": "markdown",
   "id": "retired-adrian",
   "metadata": {
    "slideshow": {
     "slide_type": "slide"
    }
   },
   "source": [
    "### Import the McStasScript package"
   ]
  },
  {
   "cell_type": "code",
   "execution_count": null,
   "id": "mexican-nelson",
   "metadata": {},
   "outputs": [],
   "source": [
    "import mcstasscript as ms"
   ]
  },
  {
   "cell_type": "markdown",
   "id": "administrative-smoke",
   "metadata": {
    "slideshow": {
     "slide_type": "slide"
    }
   },
   "source": [
    "### Create instrument object"
   ]
  },
  {
   "cell_type": "code",
   "execution_count": null,
   "id": "material-publicity",
   "metadata": {},
   "outputs": [],
   "source": [
    "instrument = ms.McStas_instr(\"python_tutorial\")"
   ]
  },
  {
   "cell_type": "markdown",
   "id": "ordinary-bumper",
   "metadata": {
    "slideshow": {
     "slide_type": "slide"
    }
   },
   "source": [
    "### See available components"
   ]
  },
  {
   "cell_type": "code",
   "execution_count": null,
   "id": "animal-slovakia",
   "metadata": {},
   "outputs": [],
   "source": [
    "instrument.available_components()"
   ]
  },
  {
   "cell_type": "code",
   "execution_count": null,
   "id": "compliant-disclaimer",
   "metadata": {},
   "outputs": [],
   "source": [
    "instrument.available_components(\"sources\")"
   ]
  },
  {
   "cell_type": "markdown",
   "id": "representative-trinidad",
   "metadata": {
    "slideshow": {
     "slide_type": "slide"
    }
   },
   "source": [
    "### Get help for any component"
   ]
  },
  {
   "cell_type": "code",
   "execution_count": null,
   "id": "liberal-composition",
   "metadata": {},
   "outputs": [],
   "source": [
    "instrument.component_help(\"Source_div\")"
   ]
  },
  {
   "cell_type": "markdown",
   "id": "prerequisite-beauty",
   "metadata": {
    "slideshow": {
     "slide_type": "slide"
    }
   },
   "source": [
    "### Add a component to the instrument"
   ]
  },
  {
   "cell_type": "code",
   "execution_count": null,
   "id": "spiritual-volleyball",
   "metadata": {},
   "outputs": [],
   "source": [
    "src = instrument.add_component(\"source\", \"Source_div\")\n",
    "instrument.show_components()"
   ]
  },
  {
   "cell_type": "code",
   "execution_count": null,
   "id": "prostate-bullet",
   "metadata": {},
   "outputs": [],
   "source": [
    "print(src)"
   ]
  },
  {
   "cell_type": "markdown",
   "id": "underlying-exception",
   "metadata": {
    "slideshow": {
     "slide_type": "slide"
    }
   },
   "source": [
    "### Set component parameters"
   ]
  },
  {
   "cell_type": "code",
   "execution_count": null,
   "id": "hybrid-vegetation",
   "metadata": {},
   "outputs": [],
   "source": [
    "src.set_parameters(xwidth=0.1, yheight=0.05,\n",
    "                   focus_aw=1.2, focus_ah=2.3)\n",
    "print(src)"
   ]
  },
  {
   "cell_type": "markdown",
   "id": "plain-worcester",
   "metadata": {
    "slideshow": {
     "slide_type": "slide"
    }
   },
   "source": [
    "### See all parameters"
   ]
  },
  {
   "cell_type": "code",
   "execution_count": null,
   "id": "musical-dominant",
   "metadata": {},
   "outputs": [],
   "source": [
    "src.show_parameters()"
   ]
  },
  {
   "cell_type": "markdown",
   "id": "coated-covering",
   "metadata": {
    "slideshow": {
     "slide_type": "slide"
    }
   },
   "source": [
    "### Add instrument parameters"
   ]
  },
  {
   "cell_type": "code",
   "execution_count": null,
   "id": "selective-appeal",
   "metadata": {},
   "outputs": [],
   "source": [
    "wavelength_par = instrument.add_parameter(\"wavelength\", value=5.0,\n",
    "                                      comment=\"Wavelength in [Ang]\")\n",
    "\n",
    "wavelength_spread_par = instrument.add_parameter(\"wavelength_spread\", value=1.2,\n",
    "                                      comment=\"Wavelength spread in [Ang]\")"
   ]
  },
  {
   "cell_type": "code",
   "execution_count": null,
   "id": "dominican-notebook",
   "metadata": {},
   "outputs": [],
   "source": [
    "src.set_parameters(lambda0=wavelength_par, dlambda=\"wavelength_spread\")\n",
    "print(src)"
   ]
  },
  {
   "cell_type": "markdown",
   "id": "written-database",
   "metadata": {
    "slideshow": {
     "slide_type": "slide"
    }
   },
   "source": [
    "### Place components in space"
   ]
  },
  {
   "cell_type": "code",
   "execution_count": null,
   "id": "functional-courage",
   "metadata": {},
   "outputs": [],
   "source": [
    "guide_A = instrument.add_component(\"guide_A\", \"Guide_gravity\")\n",
    "guide_A.set_parameters(w1=0.05, h1=0.05, l=5, m=2.5)\n",
    "guide_A.set_AT([0, 0, 2], RELATIVE=\"source\")"
   ]
  },
  {
   "cell_type": "code",
   "execution_count": null,
   "id": "aware-frequency",
   "metadata": {},
   "outputs": [],
   "source": [
    "guide_B = instrument.add_component(\"guide_B\", \"Guide_gravity\")\n",
    "guide_B.set_parameters(w1=0.05, h1=0.05, l=5, m=2.5)\n",
    "guide_B.set_AT([0, 0, guide_A.l + 0.2], RELATIVE=guide_A)"
   ]
  },
  {
   "cell_type": "markdown",
   "id": "closed-bidding",
   "metadata": {
    "slideshow": {
     "slide_type": "slide"
    }
   },
   "source": [
    "### Place a monitor component"
   ]
  },
  {
   "cell_type": "code",
   "execution_count": null,
   "id": "canadian-hamburg",
   "metadata": {},
   "outputs": [],
   "source": [
    "mon = instrument.add_component(\"monitor\", \"PSD_monitor\")\n",
    "mon.set_parameters(nx=100, ny=100, filename='\"PSD.dat\"',\n",
    "                   xwidth=0.05, yheight=0.05, restore_neutron=1)\n",
    "mon.set_AT([0, 0, guide_B.l + 0.5], RELATIVE=guide_B)"
   ]
  },
  {
   "cell_type": "markdown",
   "id": "pressing-radar",
   "metadata": {
    "slideshow": {
     "slide_type": "slide"
    }
   },
   "source": [
    "### See geometry"
   ]
  },
  {
   "cell_type": "code",
   "execution_count": null,
   "id": "immune-teaching",
   "metadata": {},
   "outputs": [],
   "source": [
    "instrument.show_instrument()"
   ]
  },
  {
   "cell_type": "markdown",
   "id": "behind-might",
   "metadata": {
    "slideshow": {
     "slide_type": "slide"
    }
   },
   "source": [
    "### Get overview of component sequence"
   ]
  },
  {
   "cell_type": "code",
   "execution_count": null,
   "id": "legitimate-liberia",
   "metadata": {},
   "outputs": [],
   "source": [
    "instrument.show_components()"
   ]
  },
  {
   "cell_type": "markdown",
   "id": "classified-spank",
   "metadata": {
    "slideshow": {
     "slide_type": "slide"
    }
   },
   "source": [
    "### Place a component earlier in the sequence"
   ]
  },
  {
   "cell_type": "code",
   "execution_count": null,
   "id": "pending-alert",
   "metadata": {},
   "outputs": [],
   "source": [
    "mon = instrument.add_component(\"monitor_in_guide\", \"PSD_monitor\", after=\"guide_A\")\n",
    "mon.set_parameters(nx=100, ny=100, filename='\"PSD_in_guide.dat\"',\n",
    "                   xwidth=0.05, yheight=0.05, restore_neutron=1)\n",
    "mon.set_AT([0, 0, guide_A.l + 0.1], RELATIVE=guide_A)"
   ]
  },
  {
   "cell_type": "markdown",
   "id": "appointed-compiler",
   "metadata": {
    "slideshow": {
     "slide_type": "slide"
    }
   },
   "source": [
    "### See diagram of instrument sequence"
   ]
  },
  {
   "cell_type": "code",
   "execution_count": null,
   "id": "unsigned-washer",
   "metadata": {
    "scrolled": true
   },
   "outputs": [],
   "source": [
    "instrument.show_diagram()"
   ]
  },
  {
   "cell_type": "markdown",
   "id": "neither-pharmacology",
   "metadata": {
    "slideshow": {
     "slide_type": "slide"
    }
   },
   "source": [
    "## Executing the simulation\n",
    "### See what parameters are available"
   ]
  },
  {
   "cell_type": "code",
   "execution_count": null,
   "id": "continental-matrix",
   "metadata": {},
   "outputs": [],
   "source": [
    "instrument.show_parameters()"
   ]
  },
  {
   "cell_type": "markdown",
   "id": "fixed-sydney",
   "metadata": {},
   "source": [
    "### Set parameters"
   ]
  },
  {
   "cell_type": "code",
   "execution_count": null,
   "id": "latin-blond",
   "metadata": {},
   "outputs": [],
   "source": [
    "instrument.set_parameters(wavelength=2.8)\n",
    "instrument.show_parameters()"
   ]
  },
  {
   "cell_type": "markdown",
   "id": "eleven-venue",
   "metadata": {
    "slideshow": {
     "slide_type": "slide"
    }
   },
   "source": [
    "### McStas settings"
   ]
  },
  {
   "cell_type": "code",
   "execution_count": null,
   "id": "colonial-daniel",
   "metadata": {},
   "outputs": [],
   "source": [
    "instrument.settings(ncount=5E6, output_path=\"mcstas_data_set\", suppress_output=True)\n",
    "instrument.show_settings()"
   ]
  },
  {
   "cell_type": "markdown",
   "id": "outer-telling",
   "metadata": {
    "slideshow": {
     "slide_type": "slide"
    }
   },
   "source": [
    "### Execute the simulation"
   ]
  },
  {
   "cell_type": "code",
   "execution_count": null,
   "id": "legal-cancellation",
   "metadata": {
    "tags": [
     "hide-output"
    ]
   },
   "outputs": [],
   "source": [
    "data = instrument.backengine()"
   ]
  },
  {
   "cell_type": "markdown",
   "id": "amended-cholesterol",
   "metadata": {
    "slideshow": {
     "slide_type": "slide"
    }
   },
   "source": [
    "### Plot the data"
   ]
  },
  {
   "cell_type": "code",
   "execution_count": null,
   "id": "manual-excuse",
   "metadata": {
    "scrolled": false
   },
   "outputs": [],
   "source": [
    "ms.make_sub_plot(data, figsize=(10, 4))"
   ]
  },
  {
   "cell_type": "markdown",
   "id": "national-latest",
   "metadata": {
    "slideshow": {
     "slide_type": "slide"
    }
   },
   "source": [
    "### Run with different parameters"
   ]
  },
  {
   "cell_type": "code",
   "execution_count": null,
   "id": "delayed-threshold",
   "metadata": {
    "tags": [
     "hide-output"
    ]
   },
   "outputs": [],
   "source": [
    "instrument.set_parameters(wavelength=0.8, wavelength_spread=0.1)\n",
    "instrument.settings(ncount=1E8, mpi=6)\n",
    "data = instrument.backengine()"
   ]
  },
  {
   "cell_type": "code",
   "execution_count": null,
   "id": "binding-stewart",
   "metadata": {},
   "outputs": [],
   "source": [
    "ms.make_sub_plot(data, figsize=(10, 4))"
   ]
  },
  {
   "cell_type": "markdown",
   "id": "figured-hundred",
   "metadata": {
    "slideshow": {
     "slide_type": "slide"
    }
   },
   "source": [
    "# Exercises\n",
    "\n",
    "Two choices:\n",
    "- Elastic: Small Angle Neutron Scattering SANS\n",
    "- Inelastic: Quasi-Elastic Neutron Scattering QENS\n",
    "\n",
    "In both you will get an instrument and change it slightly.\n",
    "\n",
    "There will be quiz questions to guide you with feedback.\n",
    "\n",
    "In the coming days you will continue working with the data you generate today!"
   ]
  },
  {
   "cell_type": "code",
   "execution_count": 1,
   "id": "sixth-individual",
   "metadata": {},
   "outputs": [],
   "source": [
    "import quizlib\n",
    "quiz = quizlib.SANS_Quiz()"
   ]
  },
  {
   "cell_type": "code",
   "execution_count": null,
   "id": "integrated-arena",
   "metadata": {},
   "outputs": [],
   "source": [
    "quiz.question_1()"
   ]
  }
 ],
 "metadata": {
  "celltoolbar": "Slideshow",
  "kernelspec": {
   "display_name": "Python 3",
   "language": "python",
   "name": "python3"
  },
  "language_info": {
   "codemirror_mode": {
    "name": "ipython",
    "version": 3
   },
   "file_extension": ".py",
   "mimetype": "text/x-python",
   "name": "python",
   "nbconvert_exporter": "python",
   "pygments_lexer": "ipython3",
   "version": "3.8.8"
  }
 },
 "nbformat": 4,
 "nbformat_minor": 5
}
