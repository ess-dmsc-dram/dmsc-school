{
 "cells": [
  {
   "cell_type": "code",
   "execution_count": null,
   "metadata": {},
   "outputs": [],
   "source": [
    "%matplotlib widget"
   ]
  },
  {
   "cell_type": "markdown",
   "id": "polyphonic-waste",
   "metadata": {
    "editable": true,
    "slideshow": {
     "slide_type": ""
    },
    "tags": []
   },
   "source": [
    "# Simulation\n",
    "At the ESS we have used simulations extensively to design and optimize the facility.\n",
    "\n",
    "\n",
    "## Monte Carlo Ray-tracing\n",
    "For simulation of neutron scattering the most popular technique is Monte Carlo ray-tracing. Lets look at the two separately and then merge them.\n",
    "\n",
    "### Monte Carlo\n",
    "The Monte Carlo technique relies on using random numbers to estimate values that would otherwise be difficult to calculate. It is a computationally expensive technique, but is very versatile and often work when other more efficient techniques fail. For example one could estimate the value of $\\pi$ by using random sampling to find the ratio of the areas of a circle and a square as shown below. The ratio of their area's can simply be estimated by the number of random points falling outside and inside the circle, from which an estimate of $\\pi$ can be calculated. The more random points we use, the better an estimate of $\\pi$."
   ]
  },
  {
   "cell_type": "code",
   "execution_count": null,
   "id": "violent-hearing",
   "metadata": {},
   "outputs": [],
   "source": [
    "import monte_carlo\n",
    "monte_carlo.example()"
   ]
  },
  {
   "cell_type": "markdown",
   "id": "adequate-delay",
   "metadata": {
    "editable": true,
    "slideshow": {
     "slide_type": ""
    },
    "tags": []
   },
   "source": [
    "### Ray-tracing\n",
    "The ray-tracing part of the simulation deals with the paths of the neutrons through space. Thus the geometric effects in the optics can be understood, as the path of the neutrons are traced through the known guide system.\n",
    "\n",
    "## Monte Carlo ray-tracing\n",
    "Combining these techniques one can start the rays with random velocities drawn from a distribution that resembles the real source, trace the path of the neutrons through the instrument, and at each interaction, random numbers will be used to sample the behavior using the known probability distributions. Repeating this with many rays allow us to estimate for example the flux at the detector, or even the distribution of flux on the detector.\n",
    "\n",
    "## McStas\n",
    "The McStas software package is a framework for fast Monte Carlo ray-tracing simulations of neutron scattering instruments. The main feature of the code is that it effectively connects a number of smaller pieces of codes called *components* that each describe a spatially separated part of the instrument. Examples of such components could be guide pieces, choppers, samples, monitors and so forth. Instruments are then built from a sequence of such components. When someone has an idea for something new they would like to simulate, it's often easier to create that thing as a McStas component than it would be to write a specialized software package for the purpose. Because of this, the package grows with community contributed components.\n",
    "\n",
    "### Programming language\n",
    "The McStas core and components are all written using the C programming language, though the user interface for assembling the instrument is a meta-language built upon C. This means C code is allowed in parts the file, but it also has a section for adding these components with their parameters and physical positions / rotations with a simple syntax. There also exists a McStas python API called McStasScript, this is what will be used during this course.\n",
    "\n",
    "### Coordinate system\n",
    "To use McStas effectively it is important to understand the coordinate system. The beam direction is generally along the z direction, y points upwards against gravity and x to the left when looking in the beam direction. Furthermore each component will have its own coordinate system, and components can be placed relative to one another. The McStas core handles this complexity so each component can work in a simple local coordinate system.\n",
    "\n",
    "### Units\n",
    "McStas generally uses SI units with the exception of \u00c5 and meV and in few cases $\\mu$s. Physical distances when placing components are given in meters and rotations in degrees. The contributed nature of components however means that their parameters could in principle have any unit, so look in their documentation to be sure, it is typically in the top of the component file.\n",
    "\n",
    "### Simulation\n",
    "Often the simulation will run to estimate a intensity, meaning neutrons per second, and will give this result with an error. This error can be reduced by using more rays for the simulation, corresponding to more Monte Carlo samples. To get the expected count from an experiment, one would have to multiply the intensity with the experiment time. It is also important to understand that the error reported by McStas has nothing to do with the expected error in an experiment, that would be calculated from the square root of the number of counts, the McStas error instead measures the quality of the intensity estimate.\n",
    "\n",
    "## Quick tutorial\n",
    "Thorough Python McStas tutorials can be found with the documentation for McStasScript [here](https://mads-bertelsen.github.io), and for examples in the C syntax one can look in the McStas package or on the package [website](https://www.mcstas.org).\n",
    "\n",
    "### Import the package\n",
    "First the package needs to be installed, then it can be imported. McStasScript also needs to be configured to access the local McStas installation, this is covered in the documentation. It is common to define a shorter name when importing to save some keystrokes, here ms is chosen."
   ]
  },
  {
   "cell_type": "code",
   "execution_count": null,
   "id": "foster-union",
   "metadata": {
    "editable": true,
    "slideshow": {
     "slide_type": ""
    },
    "tags": []
   },
   "outputs": [],
   "source": [
    "import mcstasscript as ms"
   ]
  },
  {
   "cell_type": "markdown",
   "id": "previous-bishop",
   "metadata": {},
   "source": [
    "The main class is called McStas_instr, which makes an instrument object. It just needs a name, which will correspond to the name of the instrument file."
   ]
  },
  {
   "cell_type": "code",
   "execution_count": null,
   "id": "active-turkish",
   "metadata": {},
   "outputs": [],
   "source": [
    "instrument = ms.McStas_instr(\"python_tutorial\")"
   ]
  },
  {
   "cell_type": "markdown",
   "id": "smart-prompt",
   "metadata": {},
   "source": [
    "As we learned the instrument is composed of components. The instrument object already knows what components are available, so we can ask it to share that information:"
   ]
  },
  {
   "cell_type": "code",
   "execution_count": null,
   "id": "forty-delhi",
   "metadata": {},
   "outputs": [],
   "source": [
    "instrument.available_components()"
   ]
  },
  {
   "cell_type": "markdown",
   "id": "established-patrol",
   "metadata": {},
   "source": [
    "These are categories, lets see what sources are available."
   ]
  },
  {
   "cell_type": "code",
   "execution_count": null,
   "id": "international-rendering",
   "metadata": {},
   "outputs": [],
   "source": [
    "instrument.available_components(\"sources\")"
   ]
  },
  {
   "cell_type": "markdown",
   "id": "marked-classic",
   "metadata": {},
   "source": [
    "We start our instrument with a *Source_div* component, lets get some help on that."
   ]
  },
  {
   "cell_type": "code",
   "execution_count": null,
   "id": "remarkable-semiconductor",
   "metadata": {},
   "outputs": [],
   "source": [
    "instrument.component_help(\"Source_div\")"
   ]
  },
  {
   "cell_type": "markdown",
   "id": "sensitive-psychology",
   "metadata": {},
   "source": [
    "Now we are ready to add this to our instrument. We use *add_component* to add the new component to our instrument, and *show_components* to see the current state of the instrument component sequence."
   ]
  },
  {
   "cell_type": "code",
   "execution_count": null,
   "id": "apart-cooking",
   "metadata": {},
   "outputs": [],
   "source": [
    "src = instrument.add_component(\"source\", \"Source_div\")\n",
    "instrument.show_components()"
   ]
  },
  {
   "cell_type": "markdown",
   "id": "stuffed-capitol",
   "metadata": {},
   "source": [
    "We saved a reference to the component in the python variable `src`, we can print that to see more."
   ]
  },
  {
   "cell_type": "code",
   "execution_count": null,
   "id": "failing-bubble",
   "metadata": {},
   "outputs": [],
   "source": [
    "print(src)"
   ]
  },
  {
   "cell_type": "markdown",
   "id": "waiting-electron",
   "metadata": {},
   "source": [
    "There are some required parameters for this component, lets set these to reasonable values."
   ]
  },
  {
   "cell_type": "code",
   "execution_count": null,
   "id": "loose-insured",
   "metadata": {},
   "outputs": [],
   "source": [
    "src.set_parameters(xwidth=0.1, yheight=0.05,\n",
    "                   focus_aw=1.2, focus_ah=2.3)\n",
    "print(src)"
   ]
  },
  {
   "cell_type": "markdown",
   "id": "imported-memorial",
   "metadata": {},
   "source": [
    "There are more optional parameters, to see them all including short explanations, one can call *show_parameters* on an instrument object."
   ]
  },
  {
   "cell_type": "code",
   "execution_count": null,
   "id": "lasting-fairy",
   "metadata": {},
   "outputs": [],
   "source": [
    "src.show_parameters()"
   ]
  },
  {
   "cell_type": "markdown",
   "id": "introductory-lighter",
   "metadata": {},
   "source": [
    "It seems there are two ways to define the energy range of the emitted neutrons, through energy and wavelength. Here lets use wavelength, and lets allow the wavelength to be user specified by defining a couple of *instrument parameters*."
   ]
  },
  {
   "cell_type": "code",
   "execution_count": null,
   "id": "coastal-national",
   "metadata": {},
   "outputs": [],
   "source": [
    "wavelength_par = instrument.add_parameter(\"wavelength\", value=5.0,\n",
    "                                      comment=\"Wavelength in [Ang]\")\n",
    "\n",
    "wavelength_spread_par = instrument.add_parameter(\"wavelength_spread\", value=1.2,\n",
    "                                      comment=\"Wavelength spread in [Ang]\")"
   ]
  },
  {
   "cell_type": "markdown",
   "id": "found-trail",
   "metadata": {},
   "source": [
    "We can assign these to component parameters in two ways as shown below. Either using the parameter object, or by providing the parameter name as a string."
   ]
  },
  {
   "cell_type": "code",
   "execution_count": null,
   "id": "visible-calculator",
   "metadata": {},
   "outputs": [],
   "source": [
    "src.set_parameters(lambda0=wavelength_par, dlambda=\"wavelength_spread\")\n",
    "print(src)"
   ]
  },
  {
   "cell_type": "markdown",
   "id": "foster-recruitment",
   "metadata": {},
   "source": [
    "Now the next component we want to add is a piece of guide. We will use the component `Guide_gravity`, and place it in space using the `set_AT` method. This takes the relative position, and then a name of the coordinate system to use, which correspond to a previous component, here the source. In McStas the convention is that guide components have their opening in the center of the specified location, while for example samples are centered on that location."
   ]
  },
  {
   "cell_type": "code",
   "execution_count": null,
   "id": "great-prerequisite",
   "metadata": {},
   "outputs": [],
   "source": [
    "guide_A = instrument.add_component(\"guide_A\", \"Guide_gravity\")\n",
    "guide_A.set_parameters(w1=0.05, h1=0.05, l=5, m=2.5)\n",
    "guide_A.set_AT([0, 0, 2], RELATIVE=\"source\")"
   ]
  },
  {
   "cell_type": "markdown",
   "id": "checked-celebrity",
   "metadata": {},
   "source": [
    "We can add an additional piece of guide. Notice how we use the length of *guide_A* to place the start of the next guide. We can also use the component object to set the reference instead of a string."
   ]
  },
  {
   "cell_type": "code",
   "execution_count": null,
   "id": "ambient-regard",
   "metadata": {},
   "outputs": [],
   "source": [
    "guide_B = instrument.add_component(\"guide_B\", \"Guide_gravity\")\n",
    "guide_B.set_parameters(w1=0.05, h1=0.05, l=5, m=2.5)\n",
    "guide_B.set_AT([0, 0, guide_A.l + 0.2], RELATIVE=guide_A)"
   ]
  },
  {
   "cell_type": "markdown",
   "id": "weighted-switch",
   "metadata": {},
   "source": [
    "After the guide we will place a monitor which record the spatial distribution of the beam. Notice that specifying a literal string requires double use quotation marks in McStasScript, otherwise it would be interpreted as a variable. For C it is also important that the string in the file has the \" character, so that has to be the innermost one."
   ]
  },
  {
   "cell_type": "code",
   "execution_count": null,
   "id": "polyphonic-lotus",
   "metadata": {},
   "outputs": [],
   "source": [
    "mon = instrument.add_component(\"monitor\", \"PSD_monitor\")\n",
    "mon.set_parameters(nx=100, ny=100, filename='\"PSD.dat\"',\n",
    "                   xwidth=0.05, yheight=0.05, restore_neutron=1)\n",
    "mon.set_AT([0, 0, guide_B.l + 0.5], RELATIVE=guide_B)"
   ]
  },
  {
   "cell_type": "markdown",
   "id": "impressed-incentive",
   "metadata": {},
   "source": [
    "Lets see the status of the components in our instrument object now."
   ]
  },
  {
   "cell_type": "code",
   "execution_count": null,
   "id": "round-walker",
   "metadata": {},
   "outputs": [],
   "source": [
    "instrument.show_components()"
   ]
  },
  {
   "cell_type": "markdown",
   "id": "seven-investment",
   "metadata": {},
   "source": [
    "If we wanted to add a monitor between *guide_A* and *guide_B*, we could place it between them in the code and rerun our notebook. This is not always possible, for example when you get a instrument object from a function call, so it's also possible to give a keyword argument to the *add_component* call to place a component some other place in the sequence. Below we place a monitor *after* guide_A. "
   ]
  },
  {
   "cell_type": "code",
   "execution_count": null,
   "id": "consistent-shoot",
   "metadata": {},
   "outputs": [],
   "source": [
    "mon = instrument.add_component(\"monitor_in_guide\", \"PSD_monitor\", after=\"guide_A\")\n",
    "mon.set_parameters(nx=100, ny=100, filename='\"PSD_in_guide.dat\"',\n",
    "                   xwidth=0.05, yheight=0.05, restore_neutron=1)\n",
    "mon.set_AT([0, 0, guide_A.l + 0.1], RELATIVE=guide_A)"
   ]
  },
  {
   "cell_type": "markdown",
   "id": "armed-execution",
   "metadata": {},
   "source": [
    "There are two tools to show the component sequence, the other is reached with the *show_diagram* method as below. It also shows what coordinate system each component is using, here we see both the middle monitor and guide_B are in the guide_A coordinate system."
   ]
  },
  {
   "cell_type": "code",
   "execution_count": null,
   "id": "realistic-veteran",
   "metadata": {
    "scrolled": true
   },
   "outputs": [],
   "source": [
    "instrument.show_diagram()"
   ]
  },
  {
   "cell_type": "markdown",
   "id": "structural-emission",
   "metadata": {},
   "source": [
    "Now we would like to execute the simulation, though lets first take a look at the included parameters of the instrument, this is done with *show_parameters*."
   ]
  },
  {
   "cell_type": "code",
   "execution_count": null,
   "id": "metallic-policy",
   "metadata": {},
   "outputs": [],
   "source": [
    "instrument.show_parameters()"
   ]
  },
  {
   "cell_type": "markdown",
   "id": "lucky-continent",
   "metadata": {},
   "source": [
    "These can be modified with *set_parameters* on the instrument object."
   ]
  },
  {
   "cell_type": "code",
   "execution_count": null,
   "id": "objective-blogger",
   "metadata": {},
   "outputs": [],
   "source": [
    "instrument.set_parameters(wavelength=2.8)"
   ]
  },
  {
   "cell_type": "markdown",
   "id": "portuguese-supervision",
   "metadata": {
    "editable": true,
    "slideshow": {
     "slide_type": ""
    },
    "tags": []
   },
   "source": [
    "And we an see how that modified the value by calling *show_parameters* again"
   ]
  },
  {
   "cell_type": "code",
   "execution_count": null,
   "id": "generous-hudson",
   "metadata": {},
   "outputs": [],
   "source": [
    "instrument.show_parameters()"
   ]
  },
  {
   "cell_type": "markdown",
   "id": "norwegian-entity",
   "metadata": {},
   "source": [
    "There are also some computational settings that can be adjusted with the *settings* method, here we set the number of rays and the name of the folder for the generated data. The current settings can be seen with  *show_settings*."
   ]
  },
  {
   "cell_type": "code",
   "execution_count": null,
   "id": "secret-export",
   "metadata": {},
   "outputs": [],
   "source": [
    "instrument.settings(ncount=5E6, output_path=\"mcstas_data_set\")\n",
    "instrument.show_settings()"
   ]
  },
  {
   "cell_type": "markdown",
   "id": "future-egypt",
   "metadata": {},
   "source": [
    "Now we are ready to execute the simulation, this is done with the *backengine* method. It will return a data object, so store that in a python variable, here with the name `data`."
   ]
  },
  {
   "cell_type": "code",
   "execution_count": null,
   "id": "piano-medium",
   "metadata": {
    "tags": [
     "hide-output"
    ]
   },
   "outputs": [],
   "source": [
    "data = instrument.backengine()"
   ]
  },
  {
   "cell_type": "markdown",
   "id": "eight-envelope",
   "metadata": {},
   "source": [
    "McStasScript includes functions for plotting the data, for example *make_sub_plot*."
   ]
  },
  {
   "cell_type": "code",
   "execution_count": null,
   "id": "mediterranean-pricing",
   "metadata": {},
   "outputs": [],
   "source": [
    "ms.make_sub_plot(data)"
   ]
  },
  {
   "cell_type": "markdown",
   "id": "korean-melissa",
   "metadata": {},
   "source": [
    "We see that there is little difference between the beam in the middle of this straight guide and after, though of course the intensities are slightly lower at the end. We can rerun the simulation at a different wavelength. Shorter wavelengths are more challenging for the guide system, so we will try that."
   ]
  },
  {
   "cell_type": "code",
   "execution_count": null,
   "id": "falling-insured",
   "metadata": {
    "tags": [
     "hide-output"
    ]
   },
   "outputs": [],
   "source": [
    "instrument.set_parameters(wavelength=0.8, wavelength_spread=0.1)\n",
    "data = instrument.backengine()"
   ]
  },
  {
   "cell_type": "code",
   "execution_count": null,
   "id": "eligible-handle",
   "metadata": {},
   "outputs": [],
   "source": [
    "ms.make_sub_plot(data)"
   ]
  },
  {
   "cell_type": "markdown",
   "id": "biological-massage",
   "metadata": {},
   "source": [
    "Here we see a significant difference as the early reflections can be seen only in the corners. This is because the middle monitor is so close to the start of the guide that rays that would end in the center through a reflection has too steep an angle of incidence on the mirrors, and are thus not reflected."
   ]
  },
  {
   "cell_type": "code",
   "execution_count": null,
   "id": "typical-function",
   "metadata": {},
   "outputs": [],
   "source": []
  }
 ],
 "metadata": {
  "celltoolbar": "Tags",
  "kernelspec": {
   "display_name": "Python 3 (ipykernel)",
   "language": "python",
   "name": "python3"
  },
  "language_info": {
   "codemirror_mode": {
    "name": "ipython",
    "version": 3
   },
   "file_extension": ".py",
   "mimetype": "text/x-python",
   "name": "python",
   "nbconvert_exporter": "python",
   "pygments_lexer": "ipython3",
   "version": "3.10.14"
  }
 },
 "nbformat": 4,
 "nbformat_minor": 5
}
