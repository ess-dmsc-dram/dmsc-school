{
 "cells": [
  {
   "cell_type": "markdown",
   "metadata": {
    "tags": []
   },
   "source": [
    "## Working with functions"
   ]
  },
  {
   "cell_type": "markdown",
   "metadata": {},
   "source": [
    "In this exercise we will look at defining your own functions in Python. Functions provides a neat way of reusing code, resulting in shorter and clearer programs. This notebook covers the input to functions, output from functions and how they are used. There are exercises throughout the notebook, and the solution are available at the bottom."
   ]
  },
  {
   "cell_type": "markdown",
   "metadata": {},
   "source": [
    "### Defining and calling a function\n",
    "Here a simple python function is defined. The def keyword is used to start a definition of a function and is followed by the name of the function. The input for the function is within parenthesis, but our first print_hello function has no input. After the input a colon is used to signify the start of the function body. The function body is executed whenever the function is called, and need to be indented. The function body ends at the first line that is not indented."
   ]
  },
  {
   "cell_type": "code",
   "execution_count": null,
   "metadata": {},
   "outputs": [],
   "source": [
    "def print_hello():\n",
    "    print(\"Hello World\")\n",
    "\n",
    "\n",
    "print_hello()  # Calling our defined function"
   ]
  },
  {
   "cell_type": "markdown",
   "metadata": {},
   "source": [
    "### Function input\n",
    "Functions can take arguments, which makes them more flexible. Consider the following."
   ]
  },
  {
   "cell_type": "code",
   "execution_count": null,
   "metadata": {},
   "outputs": [],
   "source": [
    "def print_twice(x):\n",
    "    print(\n",
    "        2 * x\n",
    "    )  # When an integer is multiplied by a string, it is printed that number of times\n",
    "\n",
    "\n",
    "print_twice(\"bye \")"
   ]
  },
  {
   "cell_type": "markdown",
   "metadata": {},
   "source": [
    "It is allowed to have several arguments, making the function yet more flexible. Note however that the number of arguments used when calling the function must match the function definition."
   ]
  },
  {
   "cell_type": "code",
   "execution_count": null,
   "metadata": {},
   "outputs": [],
   "source": [
    "def print_N(x, N):\n",
    "    print(N * x)\n",
    "\n",
    "\n",
    "print_N(\"-><-\", 10)\n",
    "print_N(\"-||-\", 10)"
   ]
  },
  {
   "cell_type": "markdown",
   "metadata": {},
   "source": [
    "**(1) Task:** <br>\n",
    "Before running the function below, what would you expect to happen when swapping the input arguments?"
   ]
  },
  {
   "cell_type": "code",
   "execution_count": null,
   "metadata": {
    "tags": [
     "hide-cell"
    ]
   },
   "outputs": [],
   "source": [
    "print_N(10, \"-><-\")\n",
    "print_N(10, \"-||-\")"
   ]
  },
  {
   "cell_type": "markdown",
   "metadata": {},
   "source": [
    "### Keyword arguments\n",
    "When a function takes several arguments, it can be difficult to remember the order and purpose of each. Keyword arguments have a default value, and can be called with their name. They can also be called in any order, and even neglected as a default value is available."
   ]
  },
  {
   "cell_type": "code",
   "execution_count": null,
   "metadata": {},
   "outputs": [],
   "source": [
    "def print_N_kw(string=\"\", repeat=1):\n",
    "    print(repeat * string)\n",
    "\n",
    "\n",
    "print_N_kw(string=\"/<>\", repeat=10)\n",
    "print_N_kw(repeat=10, string=\"/<>\")\n",
    "print_N_kw(string=\"______________________________\")"
   ]
  },
  {
   "cell_type": "markdown",
   "metadata": {},
   "source": [
    "### Function output\n",
    "Functions can also return output directly to the caller using the return keyword. "
   ]
  },
  {
   "cell_type": "code",
   "execution_count": null,
   "metadata": {},
   "outputs": [],
   "source": [
    "def add_five(x):\n",
    "    return x + 5\n",
    "\n",
    "\n",
    "y = add_five(4)\n",
    "print(y)"
   ]
  },
  {
   "cell_type": "markdown",
   "metadata": {},
   "source": [
    "It is even possible to have multiple outputs from a function, they are returned as a tuple, but can be extracted as they are returned. If the output of a function with multiple return values are assigned to a single variable, the entire tuple is stored there."
   ]
  },
  {
   "cell_type": "code",
   "execution_count": null,
   "metadata": {},
   "outputs": [],
   "source": [
    "def add_and_subtract_five(x):\n",
    "    return x + 5, x - 5\n",
    "\n",
    "\n",
    "a, b = add_and_subtract_five(11)  # The returned tuple is extracted into a and b\n",
    "print(a)\n",
    "print(b)"
   ]
  },
  {
   "cell_type": "code",
   "execution_count": null,
   "metadata": {},
   "outputs": [],
   "source": [
    "c = add_and_subtract_five(11)  # two outputs assigned to a single variable\n",
    "print(c)  # c now contains a tuple\n",
    "print(c[0], c[1])  # tuples are accessed like lists"
   ]
  },
  {
   "cell_type": "markdown",
   "metadata": {},
   "source": [
    "### Exercises\n",
    "Plenty of exercises can be done with the ingredients available now!"
   ]
  },
  {
   "cell_type": "markdown",
   "metadata": {
    "tags": []
   },
   "source": [
    "**(2) Task:** <br>\n",
    "Write a function that multiply two inputs and returns the result, but if the result is larger than 100, it should be halved."
   ]
  },
  {
   "cell_type": "markdown",
   "metadata": {
    "tags": []
   },
   "source": [
    "**Solution:**"
   ]
  },
  {
   "cell_type": "code",
   "execution_count": null,
   "metadata": {
    "tags": [
     "hide-cell",
     "solution"
    ]
   },
   "outputs": [],
   "source": [
    "def multiply_and_maybe_halve(x, y):\n",
    "    out = x * y\n",
    "    return out / 2 if out > 100.0 else out\n",
    "\n",
    "\n",
    "a = multiply_and_maybe_halve(5, 8)\n",
    "print(a)\n",
    "b = multiply_and_maybe_halve(12, 9)\n",
    "print(b)"
   ]
  },
  {
   "cell_type": "markdown",
   "metadata": {
    "tags": []
   },
   "source": [
    "**(3) Task:** <br>\n",
    "Write a function that combines two lists"
   ]
  },
  {
   "cell_type": "markdown",
   "metadata": {
    "tags": []
   },
   "source": [
    "**Solution:**"
   ]
  },
  {
   "cell_type": "code",
   "execution_count": null,
   "metadata": {
    "tags": [
     "hide-cell",
     "solution"
    ]
   },
   "outputs": [],
   "source": [
    "def combine_lists(first_list, second_list):\n",
    "    return first_list + second_list\n",
    "\n",
    "\n",
    "combine_lists([1, 2, 3], [\"a\", \"b\", \"c\"])"
   ]
  },
  {
   "cell_type": "markdown",
   "metadata": {
    "tags": []
   },
   "source": [
    "**(4) Task:** <br>\n",
    "Combine the following three functions into one, choosing between the styles using a keyword argument."
   ]
  },
  {
   "cell_type": "code",
   "execution_count": null,
   "metadata": {
    "tags": []
   },
   "outputs": [],
   "source": [
    "def print_among_stars(x):\n",
    "    print(10 * \"*\" + x + 10 * \"*\")\n",
    "\n",
    "\n",
    "def print_among_lines(x):\n",
    "    print(10 * \"-\" + x + 10 * \"-\")\n",
    "\n",
    "\n",
    "def return_among_lines(x):\n",
    "    return 10 * \"-\" + x + 10 * \"-\""
   ]
  },
  {
   "cell_type": "markdown",
   "metadata": {},
   "source": [
    "**Solution:**"
   ]
  },
  {
   "cell_type": "code",
   "execution_count": null,
   "metadata": {
    "tags": [
     "hide-cell",
     "solution"
    ]
   },
   "outputs": [],
   "source": [
    "def print_among(x, style=\"stars\"):\n",
    "    chars = {\"stars\": \"*\", \"lines\": \"-\", \"return\": \"-\"}\n",
    "    pad = chars[style] * 10\n",
    "    out = pad + x + pad\n",
    "    if style == \"return\":\n",
    "        return out\n",
    "    print(out)\n",
    "\n",
    "\n",
    "print_among(\"hurray\")\n",
    "print_among(\"hurray\", style=\"lines\")\n",
    "a = print_among(\"hurray\", style=\"return\")\n",
    "a"
   ]
  },
  {
   "cell_type": "markdown",
   "metadata": {},
   "source": [
    "### Variable number of input parameters\n",
    "In most cases where a function has to work on some scalable input, it is easiest to pass a list to the function, as in this example."
   ]
  },
  {
   "cell_type": "code",
   "execution_count": null,
   "metadata": {},
   "outputs": [],
   "source": [
    "def sum_list(x):\n",
    "    output = 0\n",
    "    for element in x:\n",
    "        output += element\n",
    "\n",
    "    return output\n",
    "\n",
    "\n",
    "s = sum_list([1, 2, 10])\n",
    "print(s)"
   ]
  },
  {
   "cell_type": "markdown",
   "metadata": {},
   "source": [
    "Python can however make the input of a function into a list automatically by defining the input parameter with a *."
   ]
  },
  {
   "cell_type": "code",
   "execution_count": null,
   "metadata": {},
   "outputs": [],
   "source": [
    "def sum_input(*args):\n",
    "    output = 0\n",
    "    for element in args:\n",
    "        output += element\n",
    "\n",
    "    return output\n",
    "\n",
    "\n",
    "s = sum_input(1, 2, 10, 100)\n",
    "print(s)"
   ]
  },
  {
   "cell_type": "markdown",
   "metadata": {},
   "source": [
    "The same principle can be applied for keyword arguments by using two stars, and these are then assembled into a dictionary. The name kwargs is often used, denoting \"keyword arguments\". The next example of a function just assembles the given keyword variables into a dict, but prints \"quack\" in case a variable named \"duck\" is among them."
   ]
  },
  {
   "cell_type": "code",
   "execution_count": null,
   "metadata": {},
   "outputs": [],
   "source": [
    "def make_dict(**kwargs):\n",
    "    if \"duck\" in kwargs:\n",
    "        print(\"quack\")\n",
    "\n",
    "    return kwargs\n",
    "\n",
    "\n",
    "d = make_dict(h=3, speed=2000, string=\"hello\")\n",
    "print(d)"
   ]
  },
  {
   "cell_type": "code",
   "execution_count": null,
   "metadata": {},
   "outputs": [],
   "source": [
    "e = make_dict(duck=3)\n",
    "print(e)"
   ]
  },
  {
   "cell_type": "markdown",
   "metadata": {},
   "source": [
    "### Doc strings\n",
    "It is good practice to comment ones code, and functions are no exception. Python functions support what is called doc strings which is placed at the start of the function, and can then later be showed with the help function. "
   ]
  },
  {
   "cell_type": "code",
   "execution_count": null,
   "metadata": {},
   "outputs": [],
   "source": [
    "def make_dict(**kwargs):\n",
    "    \"\"\"\n",
    "    Returns given keyword arguments as dictionary\n",
    "\n",
    "    Prints quack in case a duck was contained in the keyword arguments\n",
    "    \"\"\"\n",
    "\n",
    "    if \"duck\" in kwargs:\n",
    "        print(\"quack\")\n",
    "\n",
    "    return kwargs\n",
    "\n",
    "\n",
    "d = make_dict(h=3, speed=2000, string=\"hello\")\n",
    "print(d)"
   ]
  },
  {
   "cell_type": "code",
   "execution_count": null,
   "metadata": {},
   "outputs": [],
   "source": [
    "help(make_dict)"
   ]
  },
  {
   "cell_type": "markdown",
   "metadata": {},
   "source": [
    "### Escalating scope\n",
    "If a variable is used within a Python function that is not defined as input or within the function, the python interpreter will look for it outside of the function. This can be surprising, and is not necessarily considered a good practice."
   ]
  },
  {
   "cell_type": "code",
   "execution_count": null,
   "metadata": {},
   "outputs": [],
   "source": [
    "def check_below_3():\n",
    "    if outside_par < 3:  # outside_par never defined!\n",
    "        print(\"outside_par is below 3!\")\n",
    "    else:\n",
    "        print(\"outside_par is 3 or above!\")\n",
    "\n",
    "\n",
    "outside_par = 5  # outside_par defined before running the function\n",
    "check_below_3()\n",
    "\n",
    "outside_par = 2  # change in outside_par reflected in next function call\n",
    "check_below_3()"
   ]
  },
  {
   "cell_type": "markdown",
   "metadata": {},
   "source": [
    "## Storing function definitions in variables\n",
    "It is possible to store a reference to a function as a variable, or pass the name of the function to another function. This can also aid in adding flexibility to functions."
   ]
  },
  {
   "cell_type": "code",
   "execution_count": null,
   "metadata": {},
   "outputs": [],
   "source": [
    "def compare_smaller(x, y):\n",
    "    if x < y:\n",
    "        return True\n",
    "    else:\n",
    "        return False\n",
    "\n",
    "\n",
    "def sort(x, func):\n",
    "    \"\"\"\n",
    "    sorts a list according to a comparison function\n",
    "\n",
    "    Parameters\n",
    "    ----------\n",
    "    x : list\n",
    "        List to be sorted\n",
    "\n",
    "    func : function\n",
    "        Function that takes two input from list and returns logical\n",
    "\n",
    "    Returns\n",
    "    -------\n",
    "    list\n",
    "        Sorted list based on x\n",
    "    \"\"\"\n",
    "    is_not_sorted = True  # Assume it is not sorted\n",
    "    while is_not_sorted:  # Keep sorting until list is sorted\n",
    "        # This loop runs through the array and switches elements out of order\n",
    "        for i in range(len(x) - 1):\n",
    "            if func(x[i], x[i + 1]):\n",
    "                temp = x[i]\n",
    "                x[i] = x[i + 1]\n",
    "                x[i + 1] = temp\n",
    "\n",
    "        is_not_sorted = False  # Assume list is now sorted, but check\n",
    "\n",
    "        # This loop checks that the list is sorted\n",
    "        for i in range(len(x) - 1):\n",
    "            if func(\n",
    "                x[i], x[i + 1]\n",
    "            ):  # If two adjecent elements are out of order, it is not sorted\n",
    "                is_not_sorted = True\n",
    "\n",
    "    # Since the while loop is only stopped when is_not_sorted is false, x must now be sorted\n",
    "    return x\n",
    "\n",
    "\n",
    "input_list = [1, 2, 5, 3, 19, 8, 8]\n",
    "output_list = sort(input_list, compare_smaller)\n",
    "print(output_list)"
   ]
  },
  {
   "cell_type": "markdown",
   "metadata": {
    "tags": []
   },
   "source": [
    "**(5) Task:**<br>\n",
    "Define your own comparison function and use it with sort."
   ]
  },
  {
   "cell_type": "markdown",
   "metadata": {
    "tags": []
   },
   "source": [
    "**Solution:**"
   ]
  },
  {
   "cell_type": "code",
   "execution_count": null,
   "metadata": {
    "tags": [
     "hide-cell",
     "solution"
    ]
   },
   "outputs": [],
   "source": [
    "def compare_larger(x, y):\n",
    "    if x > y:\n",
    "        return True\n",
    "    else:\n",
    "        return False\n",
    "\n",
    "\n",
    "sort(input_list, compare_larger)"
   ]
  },
  {
   "cell_type": "markdown",
   "metadata": {},
   "source": [
    "## Recursive functions\n",
    "\n",
    "Functions can also call themselves to perform recursive operations.\n",
    "\n",
    "**(6) Task:**<br>\n",
    "Write a function that will recursively decrement the input in steps of 1, until the result is 0."
   ]
  },
  {
   "cell_type": "markdown",
   "metadata": {
    "tags": []
   },
   "source": [
    "**Solution:**"
   ]
  },
  {
   "cell_type": "code",
   "execution_count": null,
   "metadata": {
    "tags": [
     "hide-cell",
     "solution"
    ]
   },
   "outputs": [],
   "source": [
    "def decrement(x):\n",
    "    print(x)\n",
    "    x = x - 1\n",
    "    if x < 1:\n",
    "        return x\n",
    "    return decrement(x)\n",
    "\n",
    "\n",
    "decrement(10)"
   ]
  }
 ],
 "metadata": {
  "kernelspec": {
   "display_name": "Python 3 (ipykernel)",
   "language": "python",
   "name": "python3"
  },
  "language_info": {
   "codemirror_mode": {
    "name": "ipython",
    "version": 3
   },
   "file_extension": ".py",
   "mimetype": "text/x-python",
   "name": "python",
   "nbconvert_exporter": "python",
   "pygments_lexer": "ipython3",
   "version": "3.10.10"
  }
 },
 "nbformat": 4,
 "nbformat_minor": 4
}
