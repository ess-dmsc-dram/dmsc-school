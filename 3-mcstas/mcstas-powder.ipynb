{
 "cells": [
  {
   "cell_type": "code",
   "execution_count": null,
   "id": "egyptian-salvation",
   "metadata": {
    "editable": true,
    "slideshow": {
     "slide_type": ""
    },
    "tags": []
   },
   "outputs": [],
   "source": [
    "import mcstasscript as ms\n",
    "import make_powder_instrument\n",
    "import quizlib"
   ]
  },
  {
   "cell_type": "code",
   "execution_count": null,
   "id": "obvious-meeting",
   "metadata": {
    "editable": true,
    "slideshow": {
     "slide_type": ""
    },
    "tags": []
   },
   "outputs": [],
   "source": [
    "quiz = quizlib.Powder_Quiz()"
   ]
  },
  {
   "cell_type": "markdown",
   "id": "unexpected-mandate",
   "metadata": {
    "editable": true,
    "slideshow": {
     "slide_type": ""
    },
    "tags": []
   },
   "source": [
    "# Powder diffraction exercise\n",
    "\n",
    "In this notebook you will work with a McStas model of a simplified powder diffraction instrument.\n",
    "You will have to answer questions in the notebook by working with this model, both by running simulations and expanding the model.\n",
    "We will use the Python McStas API McStasScript to work with the instrument, you can find documentation [here](https://mads-bertelsen.github.io).\n",
    "\n",
    "## Get the instrument object\n",
    "First we need the McStas instrument object. Here it is retrieved from a local python function that generates it."
   ]
  },
  {
   "cell_type": "code",
   "execution_count": null,
   "id": "loose-workstation",
   "metadata": {
    "editable": true,
    "slideshow": {
     "slide_type": ""
    },
    "tags": []
   },
   "outputs": [],
   "source": [
    "instrument = make_powder_instrument.make()"
   ]
  },
  {
   "cell_type": "markdown",
   "id": "continued-thong",
   "metadata": {
    "editable": true,
    "slideshow": {
     "slide_type": ""
    },
    "tags": []
   },
   "source": [
    "## Investigate instrument\n",
    "The first task is to investigate the instrument object `instrument` using some of the available methods available on that object. Each method that show something about the instrument starts with the word show, so you can use tab to autocomplete in the cell to see the relevant methods.\n",
    "\n",
    "In particular, look at what parameters are available and take a look at the instrument geometry."
   ]
  },
  {
   "cell_type": "code",
   "execution_count": null,
   "id": "conceptual-knitting",
   "metadata": {
    "editable": true,
    "slideshow": {
     "slide_type": ""
    },
    "tags": [
     "solution",
     "hide-cell"
    ]
   },
   "outputs": [],
   "source": [
    "instrument.show_parameters()"
   ]
  },
  {
   "cell_type": "code",
   "execution_count": null,
   "id": "secret-surrey",
   "metadata": {
    "editable": true,
    "slideshow": {
     "slide_type": ""
    },
    "tags": [
     "remove-cell",
     "dmsc-school-keep"
    ]
   },
   "outputs": [],
   "source": [
    "# instrument.show_instrument(format='window')\n",
    "instrument.show_diagram()"
   ]
  },
  {
   "cell_type": "markdown",
   "id": "cc0e8cba-6523-4617-b724-aec90439caf8",
   "metadata": {},
   "source": [
    "### Question 1\n",
    "Question about what is going on in the instrument model, checking for example how many choppers there are"
   ]
  },
  {
   "cell_type": "code",
   "execution_count": null,
   "id": "b07d6d40-9738-4510-951e-58ca7f6242d6",
   "metadata": {},
   "outputs": [],
   "source": [
    "def plot(data, var1=\"th\", var2=\"t\", t_bins=200, **kwargs):\n",
    "    event1 = ms.name_search(\"Banana_large\", data)\n",
    "    event2 = ms.name_search(\"Banana_small\", data)\n",
    "\n",
    "    bins1=(200, t_bins)\n",
    "    bins2=(100, t_bins)\n",
    "    \n",
    "    ms.make_sub_plot([event2.make_2d(var1, var2, n_bins=bins2), event1.make_2d(var1, var2, n_bins=bins1)], **kwargs)\n",
    "\n",
    "def plot_opposite(data, var1=\"th\", var2=\"t\", t_bins=200, **kwargs):\n",
    "    event1 = ms.name_search(\"Banana_large\", data)\n",
    "    event2 = ms.name_search(\"Banana_small\", data)\n",
    "\n",
    "    bins1=(200, t_bins)\n",
    "    bins2=(100, t_bins)\n",
    "    \n",
    "    ms.make_sub_plot([event1.make_2d(var1, var2, n_bins=bins1), event2.make_2d(var1, var2, n_bins=bins2)], **kwargs)"
   ]
  },
  {
   "cell_type": "code",
   "execution_count": null,
   "id": "14f73a6b-2c0f-4dd7-b4a2-4cc047733fd9",
   "metadata": {},
   "outputs": [],
   "source": [
    "mpi = 8"
   ]
  },
  {
   "cell_type": "markdown",
   "id": "b5ceb127-0cbe-41b1-b8f8-ad5e9af149c5",
   "metadata": {},
   "source": [
    "### Run basic instrument\n",
    "Run without pulse shaping chopper"
   ]
  },
  {
   "cell_type": "code",
   "execution_count": null,
   "id": "35f27cc0-3b20-4943-8552-d727bc471610",
   "metadata": {},
   "outputs": [],
   "source": [
    "instrument.get_component(\"chopper\").set_WHEN(\"frequency_multiplier!=0\") # code to remove chopper"
   ]
  },
  {
   "cell_type": "code",
   "execution_count": null,
   "id": "47fadd96-8fcc-4747-adab-5162c37d178b",
   "metadata": {
    "scrolled": true
   },
   "outputs": [],
   "source": [
    "# instrument.set_parameters(frequency_multiplier=3, guide_curve_deg=0, detector_height=1.5)\n",
    "# instrument.settings(ncount=5e8, mpi=8, suppress_output=False, NeXus=True, output_path=\"powder_run\")\n",
    "\n",
    "instrument.settings(ncount=2e8, mpi=mpi, suppress_output=True, NeXus=True, output_path=\"powder_run\")\n",
    "instrument.set_parameters(sample_choice='\"sample_fe\"', frequency_multiplier=3, guide_curve_deg=0, detector_height=1.5)\n",
    "\n",
    "\n",
    "data = instrument.backengine()\n",
    "data"
   ]
  },
  {
   "cell_type": "code",
   "execution_count": null,
   "id": "7e3f1529-b981-4857-8d88-7a74241e2700",
   "metadata": {},
   "outputs": [],
   "source": [
    "plot(data, orders_of_mag=5, log=True)"
   ]
  },
  {
   "cell_type": "markdown",
   "id": "ce41a00f-72d7-43b5-a91f-a020a9b93847",
   "metadata": {},
   "source": [
    "### Run basic instrument\n",
    "Here with pulse shaping chopper running too slow"
   ]
  },
  {
   "cell_type": "code",
   "execution_count": null,
   "id": "3e7cc49f-7f72-4dfd-89c4-c4b9193d0b5c",
   "metadata": {},
   "outputs": [],
   "source": [
    "instrument.set_parameters(reflections='\"Fe.laz\"', frequency_multiplier=1, guide_curve_deg=0, detector_height=1.5)\n",
    "instrument.settings(ncount=5e8, mpi=14, suppress_output=True, NeXus=True, output_path=\"powder_run\")\n",
    "\n",
    "data = instrument.backengine()\n",
    "data"
   ]
  },
  {
   "cell_type": "code",
   "execution_count": null,
   "id": "80868182-fd0c-45ac-8b7d-52c2969ae969",
   "metadata": {},
   "outputs": [],
   "source": [
    "plot(data, orders_of_mag=5, log=True)"
   ]
  },
  {
   "cell_type": "markdown",
   "id": "8e66a2fb-c68c-483a-9ddc-b9e4dca28393",
   "metadata": {},
   "source": [
    "## Question 2\n"
   ]
  },
  {
   "cell_type": "code",
   "execution_count": null,
   "id": "4854c8cb-cd86-4fb7-a923-79671db47043",
   "metadata": {},
   "outputs": [],
   "source": []
  },
  {
   "cell_type": "code",
   "execution_count": null,
   "id": "2a38600a-346b-4eec-9a42-1dd219b1b1a9",
   "metadata": {},
   "outputs": [],
   "source": [
    "\n",
    "instrument.settings(ncount=2e8, mpi=mpi, suppress_output=True, NeXus=True, output_path=\"powder_run\")\n",
    "\n",
    "instrument.set_parameters(sample_choice='\"sample_Si\"', frequency_multiplier=1, guide_curve_deg=0, detector_height=1.5)\n",
    "\n",
    "\n",
    "instrument.set_parameters(frequency_multiplier=0)\n",
    "data_without = instrument.backengine()\n",
    "\n",
    "instrument.set_parameters(frequency_multiplier=1)\n",
    "data_with = instrument.backengine()\n",
    "\n",
    "instrument.set_parameters(frequency_multiplier=3)\n",
    "data_with_fast = instrument.backengine()"
   ]
  },
  {
   "cell_type": "code",
   "execution_count": null,
   "id": "96ce5a4b-f887-43a7-b7da-f7291c7074ff",
   "metadata": {},
   "outputs": [],
   "source": [
    "plot_options = dict(orders_of_mag=5, log=True, left_lim=[-170, 10], right_lim=[-10, 170])\n",
    "\n",
    "plot(data_without, **plot_options)\n",
    "plot(data_with, **plot_options)\n",
    "plot(data_with_fast, **plot_options)"
   ]
  },
  {
   "cell_type": "code",
   "execution_count": null,
   "id": "a70b811d-f1a6-4fc4-a0d6-c81323b39bdb",
   "metadata": {},
   "outputs": [],
   "source": [
    "plot_options = dict(orders_of_mag=5, log=True, left_lim=[10, -170], right_lim=[170, -10], top_lim=0.16, bottom_lim=0.06)\n",
    "\n",
    "plot_opposite(data_without, **plot_options)\n",
    "plot_opposite(data_with, **plot_options)\n",
    "plot_opposite(data_with_fast, **plot_options)"
   ]
  },
  {
   "cell_type": "code",
   "execution_count": null,
   "id": "0b9b7e9e-f628-45a1-acc2-a747d3952902",
   "metadata": {},
   "outputs": [],
   "source": [
    "data_without[0].original_data_location"
   ]
  },
  {
   "cell_type": "code",
   "execution_count": null,
   "id": "a85b85cb-97bf-4dd6-988a-ac899b636c57",
   "metadata": {},
   "outputs": [],
   "source": [
    "\n",
    "instrument.settings(ncount=2e8, mpi=mpi, suppress_output=True, NeXus=True, output_path=\"powder_run\")\n",
    "\n",
    "instrument.set_parameters(sample_choice='\"sample_2\"', frequency_multiplier=1, guide_curve_deg=0, detector_height=1.5)\n",
    "\n",
    "\n",
    "instrument.set_parameters(frequency_multiplier=0)\n",
    "data_without = instrument.backengine()\n",
    "\n",
    "instrument.set_parameters(frequency_multiplier=1)\n",
    "data_with = instrument.backengine()\n",
    "\n",
    "instrument.set_parameters(frequency_multiplier=3)\n",
    "data_with_fast = instrument.backengine()"
   ]
  },
  {
   "cell_type": "code",
   "execution_count": null,
   "id": "3d9d140e-cf42-46df-88d9-fe68b6e8f6eb",
   "metadata": {},
   "outputs": [],
   "source": [
    "plot_options = dict(orders_of_mag=5, log=True, left_lim=[-170, 10], right_lim=[-10, 170])\n",
    "\n",
    "plot(data_without, **plot_options)\n",
    "plot(data_with, **plot_options)\n",
    "plot(data_with_fast, **plot_options)"
   ]
  },
  {
   "cell_type": "code",
   "execution_count": null,
   "id": "16a9cf6c-7d92-493b-9eeb-0be8dbb5f96b",
   "metadata": {},
   "outputs": [],
   "source": []
  },
  {
   "cell_type": "code",
   "execution_count": null,
   "id": "ce8ddee2-dc7c-4706-8f61-c4012d5fc643",
   "metadata": {},
   "outputs": [],
   "source": [
    "\n",
    "instrument.settings(ncount=2e8, mpi=mpi, suppress_output=True, NeXus=True, output_path=\"powder_run\")\n",
    "\n",
    "instrument.set_parameters(sample_choice='\"sample_vanadium\"', frequency_multiplier=1, guide_curve_deg=0, detector_height=1.5)\n",
    "\n",
    "\n",
    "# instrument.set_parameters(frequency_multiplier=0)\n",
    "# data_without = instrument.backengine()\n",
    "\n",
    "# instrument.set_parameters(frequency_multiplier=1)\n",
    "# data_with = instrument.backengine()\n",
    "\n",
    "instrument.set_parameters(frequency_multiplier=3)\n",
    "data_with_fast = instrument.backengine()"
   ]
  },
  {
   "cell_type": "code",
   "execution_count": null,
   "id": "7da866ad-a95a-4568-9ddb-a5f5912ec0b6",
   "metadata": {},
   "outputs": [],
   "source": [
    "plot_options = dict(orders_of_mag=5, log=True, left_lim=[-170, 10], right_lim=[-10, 170])\n",
    "\n",
    "# plot(data_without, **plot_options)\n",
    "# plot(data_with, **plot_options)\n",
    "plot(data_with_fast, **plot_options)"
   ]
  },
  {
   "cell_type": "code",
   "execution_count": null,
   "id": "0dc8593d-4873-41a4-8ed6-adec9f2ccdcd",
   "metadata": {},
   "outputs": [],
   "source": [
    "data_with_fast[0].original_data_location"
   ]
  },
  {
   "cell_type": "code",
   "execution_count": null,
   "id": "3a2003c8-b2e2-42bb-82db-25a2e7372d12",
   "metadata": {},
   "outputs": [],
   "source": []
  },
  {
   "cell_type": "code",
   "execution_count": null,
   "id": "ebdd65a0-4864-4858-abe1-b41dc12e85da",
   "metadata": {},
   "outputs": [],
   "source": []
  },
  {
   "cell_type": "code",
   "execution_count": null,
   "id": "f5ef5b8c-a514-40a0-8cfa-82b881182c97",
   "metadata": {},
   "outputs": [],
   "source": [
    "\n",
    "t_without = ms.name_search(\"Banana_small\", data_without).make_1d(\"th\", n_bins=50)\n",
    "t_with = ms.name_search(\"Banana_small\", data_with).make_1d(\"th\", n_bins=50)\n",
    "t_with_fast = ms.name_search(\"Banana_small\", data_with_fast).make_1d(\"th\", n_bins=50)\n",
    "\n",
    "ms.make_sub_plot([t_without, t_with, t_with_fast])"
   ]
  },
  {
   "cell_type": "markdown",
   "id": "scientific-earthquake",
   "metadata": {
    "editable": true,
    "slideshow": {
     "slide_type": ""
    },
    "tags": []
   },
   "source": [
    "## Set parameters\n",
    "\n",
    "Before we run a simulation using the instrument, we need to set some parameters to the desired values."
   ]
  },
  {
   "cell_type": "markdown",
   "id": "bored-basin",
   "metadata": {
    "editable": true,
    "slideshow": {
     "slide_type": ""
    },
    "tags": []
   },
   "source": [
    "## Instrument settings\n",
    "Before running the simulation, a few settings pertaining to computing options need to be specified. This is done with a different method to clearly distinguish these from the instrument parameters. One important setting is called `output_path` which sets the name of the generated folder with simulation output."
   ]
  },
  {
   "cell_type": "code",
   "execution_count": null,
   "id": "infrared-major",
   "metadata": {
    "editable": true,
    "slideshow": {
     "slide_type": ""
    },
    "tags": []
   },
   "outputs": [],
   "source": [
    "instrument.set_parameters(reflections='\"Fe.laz\"', frequency_multiplier=3, guide_curve_deg=0, detector_height=1.5)\n",
    "instrument.settings(ncount=5e8, mpi=4, suppress_output=True, NeXus=True, output_path=\"powder_run\")"
   ]
  },
  {
   "cell_type": "code",
   "execution_count": null,
   "id": "e29fd2b5-6602-48ee-8199-b3da388f92c1",
   "metadata": {
    "editable": true,
    "slideshow": {
     "slide_type": ""
    },
    "tags": [
     "remove-cell"
    ]
   },
   "outputs": [],
   "source": [
    "instrument.settings(mpi=2)"
   ]
  },
  {
   "cell_type": "markdown",
   "id": "featured-replica",
   "metadata": {
    "editable": true,
    "slideshow": {
     "slide_type": ""
    },
    "tags": []
   },
   "source": [
    "## Run the instrument\n",
    "Now the simulation can be executed with the `backengine` method. This method returns a list of data object. Store this returned data in a python variable named `data`."
   ]
  },
  {
   "cell_type": "code",
   "execution_count": null,
   "id": "addressed-mexican",
   "metadata": {
    "editable": true,
    "slideshow": {
     "slide_type": ""
    },
    "tags": [
     "solution"
    ]
   },
   "outputs": [],
   "source": [
    "data = instrument.backengine()\n",
    "data"
   ]
  },
  {
   "cell_type": "markdown",
   "id": "e2f1e4f3-2099-497e-afe2-fbf754322ba4",
   "metadata": {
    "editable": true,
    "slideshow": {
     "slide_type": ""
    },
    "tags": []
   },
   "source": [
    "### Visualize the data\n",
    "The data objects in the returned list can be plotted with the McStasScript function `make_plot`. The plots can be customized, use these keyword arguments:\n",
    "- log : True\n",
    "- orders_of_mag : 5 (maximum orders of magnitudes plotted when using logarithmic plotting)"
   ]
  },
  {
   "cell_type": "code",
   "execution_count": null,
   "id": "controversial-wilderness",
   "metadata": {
    "editable": true,
    "slideshow": {
     "slide_type": ""
    },
    "tags": [
     "solution"
    ]
   },
   "outputs": [],
   "source": [
    "ms.make_sub_plot(data, log=True, orders_of_mag=5)"
   ]
  },
  {
   "cell_type": "code",
   "execution_count": null,
   "id": "b66a69f9-480b-4ab9-b9e3-3a77e9954dfb",
   "metadata": {},
   "outputs": [],
   "source": [
    "data"
   ]
  },
  {
   "cell_type": "code",
   "execution_count": null,
   "id": "2dce2ff4-62f5-4b64-97e6-8e0dcad31bec",
   "metadata": {},
   "outputs": [],
   "source": [
    "event1 = ms.name_search(\"Banana_large\", data)\n",
    "event2 = ms.name_search(\"Banana_small\", data)"
   ]
  },
  {
   "cell_type": "code",
   "execution_count": null,
   "id": "1750e8f6-236a-40d4-b12e-692c2dfe1a4c",
   "metadata": {},
   "outputs": [],
   "source": [
    "ms.make_sub_plot([event2.make_2d(\"th\", \"y\"), event1.make_2d(\"th\", \"y\")], log=True)"
   ]
  },
  {
   "cell_type": "code",
   "execution_count": null,
   "id": "1021bedc-2a5a-43b3-b00d-beb60c5b9f42",
   "metadata": {},
   "outputs": [],
   "source": [
    "event1 = ms.name_search(\"Banana_large\", data)\n",
    "event2 = ms.name_search(\"Banana_small\", data)\n",
    "\n",
    "var1 = \"th\"\n",
    "var2 = \"t\"\n",
    "t_bins = 200\n",
    "bins1=(100, t_bins)\n",
    "bins2=(50, t_bins)\n",
    "\n",
    "ms.make_sub_plot([event2.make_2d(var1, var2, n_bins=bins2), event1.make_2d(var1, var2, n_bins=bins1)], log=True, orders_of_mag=5)"
   ]
  },
  {
   "cell_type": "code",
   "execution_count": null,
   "id": "d484a37c-6bd1-4763-9bfc-e64729cc14f4",
   "metadata": {},
   "outputs": [],
   "source": [
    "event1.variables"
   ]
  },
  {
   "cell_type": "code",
   "execution_count": null,
   "id": "3bcff881-9c5d-4cbc-a57d-a225c2738d83",
   "metadata": {},
   "outputs": [],
   "source": [
    "event1.get_data_column(\"U1\")"
   ]
  },
  {
   "cell_type": "code",
   "execution_count": null,
   "id": "6b88238f-8101-4f84-a5c2-39d22ca4dfa3",
   "metadata": {},
   "outputs": [],
   "source": [
    "travel_time = event1.get_data_column(\"t\") - event1.get_data_column(\"U1\")"
   ]
  },
  {
   "cell_type": "code",
   "execution_count": null,
   "id": "b64d1d03-ee40-44c4-b7d3-bca5f52efd85",
   "metadata": {},
   "outputs": [],
   "source": [
    "travel_distance = event1.get_data_column(\"v\")*travel_time"
   ]
  },
  {
   "cell_type": "code",
   "execution_count": null,
   "id": "68a412df-c898-4b4f-93c6-0b237844c1ea",
   "metadata": {},
   "outputs": [],
   "source": [
    "travel_distance"
   ]
  },
  {
   "cell_type": "code",
   "execution_count": null,
   "id": "b1ab9caf-c217-4019-8caf-a292734a618c",
   "metadata": {},
   "outputs": [],
   "source": [
    "import matplotlib.pyplot as plt\n",
    "import numpy as np\n",
    "\n",
    "plt.hist(travel_distance, 100)"
   ]
  },
  {
   "cell_type": "markdown",
   "id": "substantial-navigation",
   "metadata": {
    "editable": true,
    "slideshow": {
     "slide_type": ""
    },
    "tags": []
   },
   "source": [
    "## Improve the instrument\n"
   ]
  },
  {
   "cell_type": "markdown",
   "id": "narrow-dealing",
   "metadata": {
    "editable": true,
    "slideshow": {
     "slide_type": ""
    },
    "tags": []
   },
   "source": [
    "## Run improved instrument"
   ]
  },
  {
   "cell_type": "markdown",
   "id": "empty-addiction",
   "metadata": {
    "editable": true,
    "slideshow": {
     "slide_type": ""
    },
    "tags": []
   },
   "source": [
    "## Run with sample\n"
   ]
  },
  {
   "cell_type": "code",
   "execution_count": null,
   "id": "11143227-eadb-4ebb-939a-f73e97990773",
   "metadata": {},
   "outputs": [],
   "source": []
  },
  {
   "cell_type": "code",
   "execution_count": null,
   "id": "881a343a-f270-41bd-881e-50c932b3bc9f",
   "metadata": {},
   "outputs": [],
   "source": []
  },
  {
   "cell_type": "code",
   "execution_count": null,
   "id": "49cc500a-e8fe-40ef-b420-7ea278c3f3b8",
   "metadata": {},
   "outputs": [],
   "source": []
  },
  {
   "cell_type": "code",
   "execution_count": null,
   "id": "c7a82dc6-fe4b-48e1-9fce-4bebb84304d6",
   "metadata": {},
   "outputs": [],
   "source": []
  }
 ],
 "metadata": {
  "celltoolbar": "Tags",
  "kernelspec": {
   "display_name": "Python 3 (ipykernel)",
   "language": "python",
   "name": "python3"
  },
  "language_info": {
   "codemirror_mode": {
    "name": "ipython",
    "version": 3
   },
   "file_extension": ".py",
   "mimetype": "text/x-python",
   "name": "python",
   "nbconvert_exporter": "python",
   "pygments_lexer": "ipython3",
   "version": "3.12.10"
  }
 },
 "nbformat": 4,
 "nbformat_minor": 5
}
