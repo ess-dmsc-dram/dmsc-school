{
 "cells": [
  {
   "cell_type": "markdown",
   "id": "a146780d-97b5-45a2-afe3-b852551bee2f",
   "metadata": {
    "editable": true,
    "slideshow": {
     "slide_type": ""
    },
    "tags": []
   },
   "source": [
    "# QENS data reduction\n",
    "\n",
    "This notebook will guide you through the data reduction for the QENS experiment that you simulated with McStas yesterday.\n",
    "\n",
    "The following is a basic outline of what this notebook will cover:\n",
    "\n",
    "- Loading the NeXus files that contain the data\n",
    "- Inspect/visualize the data contents\n",
    "- How to convert the raw `time-of-flight` coordinate to something more useful ($\\Delta E$)\n",
    "- Write the results to file"
   ]
  },
  {
   "cell_type": "code",
   "execution_count": null,
   "id": "9d2fb1a1-e0ea-4730-9a5a-0e5f8d6c6cd2",
   "metadata": {
    "editable": true,
    "slideshow": {
     "slide_type": ""
    },
    "tags": []
   },
   "outputs": [],
   "source": [
    "import numpy as np\n",
    "import scipp as sc\n",
    "import plopp as pp\n",
    "import scippneutron as scn\n",
    "import qens_utils as utils"
   ]
  },
  {
   "cell_type": "markdown",
   "id": "069bdf98-d741-403a-b49c-2968b9e4ecda",
   "metadata": {
    "editable": true,
    "slideshow": {
     "slide_type": ""
    },
    "tags": []
   },
   "source": [
    "## Process the elastic sample data\n",
    "\n",
    "### Load raw data\n",
    "\n",
    "Begin by loading and investigating the data obtained from the elastic sample."
   ]
  },
  {
   "cell_type": "code",
   "execution_count": null,
   "id": "b2bd884d-a098-45f5-93fd-f782bd3b6730",
   "metadata": {
    "editable": true,
    "slideshow": {
     "slide_type": ""
    },
    "tags": []
   },
   "outputs": [],
   "source": [
    "folder = \"../3-mcstas/QENS_elastic_many_neutrons\""
   ]
  },
  {
   "cell_type": "markdown",
   "id": "87879cfe-23f1-452c-bc07-822ffa932099",
   "metadata": {},
   "source": [
    "⚠️ **If you did not complete the QENS elastic simulation yesterday**,\n",
    "you can use some pre-prepared data by uncommenting and running the cell below:"
   ]
  },
  {
   "cell_type": "code",
   "execution_count": null,
   "id": "e3050bdc-86e6-485e-8311-30db0b47b895",
   "metadata": {},
   "outputs": [],
   "source": [
    "# folder = utils.fetch_data(\"3-mcstas/QENS_elastic_many_neutrons\")"
   ]
  },
  {
   "cell_type": "code",
   "execution_count": null,
   "id": "b12c04c5-ca15-466a-b963-7f884c94078b",
   "metadata": {
    "editable": true,
    "slideshow": {
     "slide_type": ""
    },
    "tags": []
   },
   "outputs": [],
   "source": [
    "events = utils.load_qens(folder)"
   ]
  },
  {
   "cell_type": "markdown",
   "id": "8c787461-a87c-4ce1-8dbe-2521dc0d4c9d",
   "metadata": {
    "editable": true,
    "slideshow": {
     "slide_type": ""
    },
    "tags": []
   },
   "source": [
    "The first way to inspect the data is to view the HTML representation of the loaded object.\n",
    "\n",
    "Try to explore what is inside the data, and familiarize yourself with the different sections (`Dimensions`, `Coordinates`, `Data`)."
   ]
  },
  {
   "cell_type": "code",
   "execution_count": null,
   "id": "214c5097-9522-4883-8ec8-3e7342c0a556",
   "metadata": {
    "editable": true,
    "slideshow": {
     "slide_type": ""
    },
    "tags": []
   },
   "outputs": [],
   "source": [
    "events"
   ]
  },
  {
   "cell_type": "markdown",
   "id": "4d948bb3-c09f-472f-9cbf-fab570faf1d2",
   "metadata": {
    "editable": true,
    "slideshow": {
     "slide_type": ""
    },
    "tags": []
   },
   "source": [
    "### Visualize the raw data\n",
    "\n",
    "Here is a histogram of the raw data in `tof`:"
   ]
  },
  {
   "cell_type": "code",
   "execution_count": null,
   "id": "072fb6b8-52cb-4c67-8d64-528709fda352",
   "metadata": {
    "editable": true,
    "slideshow": {
     "slide_type": ""
    },
    "tags": []
   },
   "outputs": [],
   "source": [
    "events.hist(tof=100).plot()"
   ]
  },
  {
   "cell_type": "markdown",
   "id": "e3143ac1-7ded-4402-b0a8-0fcfa86470e7",
   "metadata": {
    "editable": true,
    "slideshow": {
     "slide_type": ""
    },
    "tags": []
   },
   "source": [
    "It is more enlightening to look at a 2D histogram in `tof` and `y` as this shows a defect of the detector for a certain y-range:"
   ]
  },
  {
   "cell_type": "code",
   "execution_count": null,
   "id": "9a0cc022-3a37-4592-8cf1-c4c0ac4b7bc7",
   "metadata": {
    "editable": true,
    "slideshow": {
     "slide_type": ""
    },
    "tags": []
   },
   "outputs": [],
   "source": [
    "events.hist(tof=100, y=100).plot()"
   ]
  },
  {
   "cell_type": "markdown",
   "id": "c3dd4d68-692c-4eb9-a92d-56907b362ed7",
   "metadata": {
    "editable": true,
    "slideshow": {
     "slide_type": ""
    },
    "tags": []
   },
   "source": [
    "### Exercise 1: mask bad region\n",
    "\n",
    "We need to handle the events that are affected by the detector defect.\n",
    "The simplest way of doing so it to mask the affected region in y.\n",
    "We will do so by binning in y and applying a y-dependent mask to the data array.\n",
    "\n",
    "**Steps**:\n",
    "\n",
    "1. Define bin-edges in the y-dimension that cover the entire range of the data.\n",
    "There should be three bins which cover the y-range below the broken region, the broken region, and the the range above the broken region, respectively.\n",
    "So you should end up with a length-4 array of bin-edges.\n",
    "2. Define another array for the mask which should have the values `[False, True, False]`.\n",
    "So it masks the middle bin but not the others.\n",
    "3. Apply the mask by binning the events using the edges you defined and inserting the mask into the binned array's masks.\n",
    "\n",
    "**Hints**:\n",
    "\n",
    "- Use `sc.array` to create arrays for the bin-edges and the mask.\n",
    "- Bin the data using `binned_for_mask = events.bin(...)`,\n",
    "- Apply the mask by inserting it into `binned_for_mask.masks` which behaves like a `dict`."
   ]
  },
  {
   "cell_type": "markdown",
   "id": "4d053255-0bbf-402a-bbf0-b71f2511d49b",
   "metadata": {
    "editable": true,
    "slideshow": {
     "slide_type": ""
    },
    "tags": []
   },
   "source": [
    "**Solution:**"
   ]
  },
  {
   "cell_type": "code",
   "execution_count": null,
   "id": "35db1b83-a75a-474e-80e1-ef6be506bc81",
   "metadata": {
    "editable": true,
    "slideshow": {
     "slide_type": ""
    },
    "tags": [
     "hide-cell",
     "solution"
    ]
   },
   "outputs": [],
   "source": [
    "y = events.coords[\"y\"]\n",
    "mask_regions = sc.array(\n",
    "    dims=[\"y\"],\n",
    "    values=[0.21, 0.26, 0.27, 0.29],\n",
    "    unit=y.unit,\n",
    ")\n",
    "binned_for_mask = events.bin(y=mask_regions)\n",
    "mask = sc.array(dims=[\"y\"], values=[False, True, False])\n",
    "binned_for_mask.masks[\"bad_timing\"] = mask\n",
    "binned_for_mask"
   ]
  },
  {
   "cell_type": "markdown",
   "id": "b10172ed-3a42-437b-a91b-b1f7d79581ac",
   "metadata": {
    "editable": true,
    "slideshow": {
     "slide_type": ""
    },
    "tags": []
   },
   "source": [
    "We plot the data array with the mask below.\n",
    "The black band in the middle bin indicates the mask:"
   ]
  },
  {
   "cell_type": "code",
   "execution_count": null,
   "id": "d48d17bf-3b11-4114-a604-493ab187a972",
   "metadata": {
    "editable": true,
    "slideshow": {
     "slide_type": ""
    },
    "tags": []
   },
   "outputs": [],
   "source": [
    "binned_for_mask.hist().plot(vmin=0)"
   ]
  },
  {
   "cell_type": "markdown",
   "id": "7d6f12b3-8422-4922-8636-2f4f777cf2a4",
   "metadata": {
    "editable": true,
    "slideshow": {
     "slide_type": ""
    },
    "tags": []
   },
   "source": [
    "When making the same 2D histogram as before, the masked events will be dropped and the result is a histogram with a gap:"
   ]
  },
  {
   "cell_type": "code",
   "execution_count": null,
   "id": "b2a74296-dfb0-46ee-9e67-e91ebff9e69b",
   "metadata": {
    "editable": true,
    "slideshow": {
     "slide_type": ""
    },
    "tags": []
   },
   "outputs": [],
   "source": [
    "binned_for_mask.hist(tof=100, y=100).plot()"
   ]
  },
  {
   "cell_type": "markdown",
   "id": "1606596c-407f-4b4a-b95a-a0f70937fbb8",
   "metadata": {
    "editable": true,
    "slideshow": {
     "slide_type": ""
    },
    "tags": []
   },
   "source": [
    "### Transform to energy transfer\n",
    "\n",
    "The next step is to compute the measured energy transfer in the sample from time-of-flight and the other coordinates of our data.\n",
    "We use [scipp.transform_coords](https://scipp.github.io/generated/functions/scipp.transform_coords.html) for this purpose.\n",
    "\n",
    "Scippneutron provides some pre-defined functions for coordinate transformations, see the [documentation](https://scipp.github.io/scippneutron/user-guide/coordinate-transformations.html) for a list.\n",
    "In particular, it provides [scippneutron.conversion.tof.energy_transfer_indirect_from_tof](https://scipp.github.io/scippneutron/generated/modules/scippneutron.conversion.tof.energy_transfer_indirect_from_tof.html) which computes the energy transfer for an indirect-geometry spectrometer:\n",
    "\n",
    "$$\\Delta E = \\frac{m_n L_1^2}{2 {(t-t_0)}^2} - \\mathsf{final\\_energy}\\,, \\qquad t_0 = \\sqrt{\\frac{L_2^2 m_n}{2 \\mathsf{final\\_energy}}}\\,,$$\n",
    "\n",
    "where $m_n$ is the neutron mass, $L_1$ is the primary flight path length (from source to sample), and $L_2$ is the secondary flight path length (from sample to detector).\n",
    "The intermediate variable $t_0$ is the the time of flight for the secondary path such that $(t - t_0)$ is the arrival time at the sample.\n",
    "\n",
    "While Scippneutron provides most of what we need, we have to define some custom components for our specific instrument.\n",
    "We require functions to compute\n",
    "\n",
    "- **L2**, the path length of the scattered neutron. The default function in Scippneutron assumes a straight path but here, we need to take the reflection from the analyzer crystal into account: $L_2 = |\\overline{\\mathsf{sample},\\mathsf{analyzer}}| + |\\overline{\\mathsf{analyser},\\mathsf{detector}}|$\n",
    "\n",
    "- **final_wavelength**, the neutron wavelength that the analyzer selects for. We compute it from the known $d$-spacing of the analyzer $d_a$ and the scattering angle off the analyzer $\\theta_a$: $\\mathsf{final\\_wavelength} = 2 d_a \\sin{\\theta_a}$\n",
    "\n",
    "- **final_energy**, the energy of the neutrons that hit the detector (more below): $\\mathsf{final\\_energy} = \\displaystyle\\frac{m_n}{2} v_f^2$\n",
    "\n",
    "The first two are implemented below.\n",
    "They use the positions and analyzer parameters in the input data."
   ]
  },
  {
   "cell_type": "code",
   "execution_count": null,
   "id": "83a02a65-1c85-4965-ba09-02aa771beb7a",
   "metadata": {
    "editable": true,
    "slideshow": {
     "slide_type": ""
    },
    "tags": []
   },
   "outputs": [],
   "source": [
    "def backscattered_l2(position, sample_position, analyzer_position):\n",
    "    \"\"\"\n",
    "    Compute the length of the secondary flight path for backscattering off an analyzer.\n",
    "    \"\"\"\n",
    "    return sc.norm(position - analyzer_position) + sc.norm(\n",
    "        analyzer_position - sample_position\n",
    "    )\n",
    "\n",
    "\n",
    "def wavelength_from_analyzer(analyzer_dspacing, analyzer_angle):\n",
    "    \"\"\"\n",
    "    Compute the neutron wavelength after scattering from the analyzer's d-spacing.\n",
    "\n",
    "    Assuming Bragg scattering in the analyzer, the wavelength is\n",
    "        wavelength = 2 * d * sin(theta)\n",
    "\n",
    "    Where\n",
    "        d is the analyzer's d-spacing,\n",
    "        theta is the scattering angle or equivalently, the tilt of the analyzer\n",
    "              w.r.t. to the sample-analyzer axis.\n",
    "    \"\"\"\n",
    "    # 2*theta is the angle between transmitted and scattered beam.\n",
    "    return (\n",
    "        2\n",
    "        * analyzer_dspacing\n",
    "        * sc.sin(sc.scalar(np.pi / 2, unit=\"rad\") - analyzer_angle.to(unit=\"rad\"))\n",
    "    )"
   ]
  },
  {
   "cell_type": "markdown",
   "id": "3f413f3e-75e4-4d30-9910-bf2fa610d25e",
   "metadata": {
    "editable": true,
    "slideshow": {
     "slide_type": ""
    },
    "tags": []
   },
   "source": [
    "We can start assembling the graph to compute the energy transfer:"
   ]
  },
  {
   "cell_type": "code",
   "execution_count": null,
   "id": "2262f2d6-3bb0-47a6-89c6-76e6abd7e78b",
   "metadata": {
    "editable": true,
    "slideshow": {
     "slide_type": ""
    },
    "tags": []
   },
   "outputs": [],
   "source": [
    "from scippneutron.conversion.graph.beamline import beamline\n",
    "from scippneutron.conversion.tof import energy_transfer_indirect_from_tof\n",
    "\n",
    "graph = {\n",
    "    **beamline(scatter=True),\n",
    "    \"energy_transfer\": energy_transfer_indirect_from_tof,\n",
    "    # Replace L2 with our own implementation.\n",
    "    \"L2\": backscattered_l2,\n",
    "    # Insert a new function for the wavelength.\n",
    "    \"final_wavelength\": wavelength_from_analyzer,\n",
    "}\n",
    "# Optional: remove unused functions in order to clean up the image below.\n",
    "del graph[\"two_theta\"]\n",
    "del graph[\"scattered_beam\"]\n",
    "del graph[\"Ltotal\"]\n",
    "sc.show_graph(graph, simplified=True)"
   ]
  },
  {
   "cell_type": "markdown",
   "id": "d36a8332-d6f8-418a-a1e2-b08c5ff165fa",
   "metadata": {
    "editable": true,
    "slideshow": {
     "slide_type": ""
    },
    "tags": []
   },
   "source": [
    "### Exercise 2: Compute energy transfer \n",
    "\n",
    "We can see that `final_energy` is not yet linked to `final_wavelength` in the graph.\n",
    "Your task is to implement a function `def final_energy(final_wavelength)` to fill in the gap.\n",
    "\n",
    "The energy is given by\n",
    "\n",
    "$$\\mathsf{final\\_energy} = \\frac{m_n}{2} v_f^2, \\qquad v_f = \\frac{2\\pi\\hbar}{m_n \\mathsf{final\\_wavelength}},$$\n",
    "\n",
    "where $v_f$ is the speed of the scattered neutron and $m_n$ is the neutron mass.\n",
    "\n",
    "#### Exercise 2.1: Finish the graph\n",
    "\n",
    "**Steps**:\n",
    "\n",
    "- Define a new function that computes the final energy given the equations above.\n",
    "    - Tip: Ensure that the result has unit `meV`.\n",
    "    - Tip: Use [sc.constants](https://scipp.github.io/generated/modules/scipp.constants.html) to get values for $\\hbar$ (or $h$) and $m_n$.\n",
    "- Insert the new function into the graph."
   ]
  },
  {
   "cell_type": "markdown",
   "id": "873b2eb3-f74e-49dc-a502-0cb79b937b6a",
   "metadata": {
    "editable": true,
    "slideshow": {
     "slide_type": ""
    },
    "tags": []
   },
   "source": [
    "**Solution:**"
   ]
  },
  {
   "cell_type": "code",
   "execution_count": null,
   "id": "ae488bd2-8a3e-4f1e-a929-226695da18da",
   "metadata": {
    "editable": true,
    "slideshow": {
     "slide_type": ""
    },
    "tags": [
     "hide-cell",
     "solution"
    ]
   },
   "outputs": [],
   "source": [
    "def final_energy(final_wavelength):\n",
    "    \"\"\"\n",
    "    Compute the neutron energy after scattering.\n",
    "\n",
    "    Uses\n",
    "        final_energy = mn / 2 * final_speed**2\n",
    "        final_speed = 2 * pi * hbar / mn / final_wavelength\n",
    "\n",
    "    Where\n",
    "        mn is the neutron mass,\n",
    "        final_wavelength is the wavelength after scattering,\n",
    "        final_speed is the speed after scattering.\n",
    "    \"\"\"\n",
    "    return sc.to_unit(\n",
    "        sc.constants.h**2 / 2 / sc.constants.neutron_mass / (final_wavelength**2),\n",
    "        \"meV\",\n",
    "    )\n",
    "\n",
    "\n",
    "graph[\"final_energy\"] = final_energy\n",
    "sc.show_graph(graph, simplified=True)"
   ]
  },
  {
   "cell_type": "markdown",
   "id": "7d625a5a-0041-481b-8514-905fcd04a095",
   "metadata": {
    "editable": true,
    "slideshow": {
     "slide_type": ""
    },
    "tags": []
   },
   "source": [
    "#### Exercise 2.2: Compute energy transfer with the masked data\n",
    "\n",
    "Use `binned_for_mask.transform_coords` (or what ever name you used for the masked array) to compute `\"energy_transfer\"`."
   ]
  },
  {
   "cell_type": "code",
   "execution_count": null,
   "id": "fa3bfc7d-9716-4753-a38d-9cdc95c77c6e",
   "metadata": {
    "editable": true,
    "slideshow": {
     "slide_type": ""
    },
    "tags": [
     "hide-cell",
     "solution"
    ]
   },
   "outputs": [],
   "source": [
    "in_energy_transfer = binned_for_mask.transform_coords(\"energy_transfer\", graph=graph)\n",
    "in_energy_transfer"
   ]
  },
  {
   "cell_type": "markdown",
   "id": "bb663488-66d0-4447-8326-9747266b1fbf",
   "metadata": {
    "editable": true,
    "slideshow": {
     "slide_type": ""
    },
    "tags": []
   },
   "source": [
    "#### Exercise 2.3: Compute energy transfer for unmasked data\n",
    "\n",
    "For comparison, also compute energy transfer with the original data without a mask."
   ]
  },
  {
   "cell_type": "markdown",
   "id": "42143150-822d-4a5d-980c-54d8a3d570e9",
   "metadata": {
    "editable": true,
    "slideshow": {
     "slide_type": ""
    },
    "tags": []
   },
   "source": [
    "**Solution:**"
   ]
  },
  {
   "cell_type": "code",
   "execution_count": null,
   "id": "db29e8ef-bb6d-49ad-9557-0c2a2d6a67b9",
   "metadata": {
    "editable": true,
    "slideshow": {
     "slide_type": ""
    },
    "tags": [
     "hide-cell",
     "solution"
    ]
   },
   "outputs": [],
   "source": [
    "in_energy_transfer_unmasked = events.transform_coords(\"energy_transfer\", graph=graph)"
   ]
  },
  {
   "cell_type": "markdown",
   "id": "4650cf37-9f19-4ba2-b600-2f40cddae1bb",
   "metadata": {
    "editable": true,
    "slideshow": {
     "slide_type": ""
    },
    "tags": []
   },
   "source": [
    "Now we can plot the masked and unmasked data to compare them.\n",
    "As always, we first need to histogram them.\n",
    "(We use `in_energy_transfer.bins.concat()` to undo the binning from exercise 1.\n",
    "Without it, we would get a 2D histogram in `y` and `energy_transfer`.)"
   ]
  },
  {
   "cell_type": "code",
   "execution_count": null,
   "id": "bf1fd84e-8de7-4830-8e0f-db43e109ccdf",
   "metadata": {
    "editable": true,
    "slideshow": {
     "slide_type": ""
    },
    "tags": []
   },
   "outputs": [],
   "source": [
    "masked_hist = in_energy_transfer.bins.concat().hist(energy_transfer=100)\n",
    "unmasked_hist = in_energy_transfer_unmasked.hist(energy_transfer=100)"
   ]
  },
  {
   "cell_type": "markdown",
   "id": "6f3e7177-d666-4aaa-8043-17f1c41e6a4a",
   "metadata": {
    "editable": true,
    "slideshow": {
     "slide_type": ""
    },
    "tags": []
   },
   "source": [
    "And finally, we can plot the data:"
   ]
  },
  {
   "cell_type": "code",
   "execution_count": null,
   "id": "80945a3e-ccbe-4643-98cf-2a42b9b651af",
   "metadata": {
    "editable": true,
    "slideshow": {
     "slide_type": ""
    },
    "tags": []
   },
   "outputs": [],
   "source": [
    "pp.plot(\n",
    "    {\n",
    "        \"unmasked\": unmasked_hist,\n",
    "        \"masked\": masked_hist,\n",
    "    }\n",
    ")"
   ]
  },
  {
   "cell_type": "markdown",
   "id": "1570786f-a91d-436b-8a4b-31fc6f2b316f",
   "metadata": {
    "editable": true,
    "slideshow": {
     "slide_type": ""
    },
    "tags": []
   },
   "source": [
    "### Exercise 3: Compute energy transfer for all samples\n",
    "\n",
    "We have only looked at one of our three samples so far.\n",
    "Now, we repeat the same procedure for the remaining two.\n",
    "\n",
    "Your task is to load the other samples, mask the broken detector region, and compute energy_transfer.\n",
    "(You don't need to repeat the calculation for the unmasked data.\n",
    "\n",
    "**Hints**:\n",
    "\n",
    "- Write a function that encapsulates the whole procedure.\n",
    "- You can reuse the mask bin-edges and the mask itself.\n",
    "- Store the results for all samples in a `dict`. This way, you can easily plot it using `pp.plot`.\n",
    "- Use a scalar variable with a unit, e.g. `sc.scalar(0.01, unit='meV')`, for the histogramming to get a constant bin width."
   ]
  },
  {
   "cell_type": "code",
   "execution_count": null,
   "id": "2e4de6c2-a44d-4154-aacf-31d3511ce9c5",
   "metadata": {},
   "outputs": [],
   "source": [
    "folders = (\n",
    "    \"../3-mcstas/QENS_elastic_many_neutrons\",\n",
    "    \"../3-mcstas/QENS_known_quasi_elastic_many_neutrons\",\n",
    "    \"../3-mcstas/QENS_unknown_quasi_elastic_many_neutrons\",\n",
    ")"
   ]
  },
  {
   "cell_type": "markdown",
   "id": "f48ca389-dbe0-4033-9af3-99d423f8aea3",
   "metadata": {},
   "source": [
    "⚠️ **If you did not complete the Si simulation yesterday**,\n",
    "you can use some pre-prepared data by uncommenting and running the cell below:"
   ]
  },
  {
   "cell_type": "code",
   "execution_count": null,
   "id": "69c3f512-b658-483d-aa8e-43d17054a620",
   "metadata": {},
   "outputs": [],
   "source": [
    "# folders = (\n",
    "#     utils.fetch_data(\"3-mcstas/QENS_elastic_many_neutrons\"),\n",
    "#     utils.fetch_data(\"3-mcstas/QENS_known_quasi_elastic_many_neutrons\"),\n",
    "#     utils.fetch_data(\"3-mcstas/QENS_unknown_quasi_elastic_many_neutrons\")\n",
    "# )"
   ]
  },
  {
   "cell_type": "markdown",
   "id": "42c68493-1dbc-4f51-bcee-f75e470c80a8",
   "metadata": {
    "editable": true,
    "slideshow": {
     "slide_type": ""
    },
    "tags": []
   },
   "source": [
    "**Solution:**"
   ]
  },
  {
   "cell_type": "code",
   "execution_count": null,
   "id": "71aae837-557a-4b1c-a88d-5ed0d00f4926",
   "metadata": {
    "editable": true,
    "slideshow": {
     "slide_type": ""
    },
    "tags": [
     "hide-cell",
     "solution"
    ]
   },
   "outputs": [],
   "source": [
    "def process_sample(raw_events, bin_width=0.001 * sc.Unit('meV')):\n",
    "    binned_for_mask = raw_events.bin(y=mask_regions)\n",
    "    binned_for_mask.masks[\"bad_timing\"] = mask\n",
    "\n",
    "    in_energy_transfer = binned_for_mask.transform_coords(\n",
    "        \"energy_transfer\", graph=graph\n",
    "    )\n",
    "\n",
    "    hist = in_energy_transfer.bins.concat().hist(energy_transfer=bin_width)\n",
    "\n",
    "    return hist\n",
    "\n",
    "results = {}\n",
    "for folder in folders:\n",
    "    events = utils.load_qens(folder)\n",
    "    # Remove the file path prefix from the folder name\n",
    "    data_name = folder.split(\"/\")[-1]\n",
    "    results[data_name] = process_sample(events)\n",
    "\n",
    "pp.plot(results)"
   ]
  },
  {
   "cell_type": "markdown",
   "id": "440e9d0b-d741-4823-aec5-a73a07cc26a4",
   "metadata": {
    "editable": true,
    "slideshow": {
     "slide_type": ""
    },
    "tags": []
   },
   "source": [
    "### Save result to disk\n",
    "\n",
    "Finally, we need to save our results to disk so that the reduced data can be forwarded to the next step in the pipeline (data analysis).\n",
    "We will use a simple text file for this.\n",
    "\n",
    "This code assumes that you stored your histograms in a `dict` called `results`.\n",
    "If this is not the case, you need to modify the code below."
   ]
  },
  {
   "cell_type": "code",
   "execution_count": null,
   "id": "1d784eaa-364a-4b89-bfc7-7da3dd21371a",
   "metadata": {
    "editable": true,
    "slideshow": {
     "slide_type": ""
    },
    "tags": []
   },
   "outputs": [],
   "source": [
    "from scippneutron.io import save_xye\n",
    "\n",
    "for name, result in results.items():\n",
    "    # The simple file format does not support bin-edge coordinates.\n",
    "    # So we convert to bin-centers first.\n",
    "    data = result.copy()\n",
    "    data.coords[\"energy_transfer\"] = sc.midpoints(data.coords[\"energy_transfer\"])\n",
    "\n",
    "    save_xye(f\"energy_transfer_{name}.dat\", data)"
   ]
  },
  {
   "cell_type": "markdown",
   "id": "301e3056-351f-43fd-b418-4d63d7fd1290",
   "metadata": {
    "editable": true,
    "slideshow": {
     "slide_type": ""
    },
    "tags": []
   },
   "source": [
    "## Bonus exercise\n",
    "\n",
    "Re-run the reduction using the results from the simulations with less neutrons,\n",
    "and compare the results."
   ]
  },
  {
   "cell_type": "markdown",
   "id": "70e62b8c-6565-4c1d-8e2b-d50fcdf25ea0",
   "metadata": {},
   "source": [
    "**Solution:**"
   ]
  },
  {
   "cell_type": "code",
   "execution_count": null,
   "id": "a9743a88-b6b8-4c17-ac3f-2f35c7e8ed3c",
   "metadata": {
    "tags": [
     "hide-input",
     "solution"
    ]
   },
   "outputs": [],
   "source": [
    "bin_widths = [0.0001 * sc.Unit('meV')] + [0.001 * sc.Unit('meV')] * 2\n",
    "\n",
    "figures = []\n",
    "for bin_width, case in zip(bin_widths, folders):\n",
    "    results = {}\n",
    "    for folder in [case.replace(\"_many_neutrons\", \"\"), case]:\n",
    "        events = utils.load_qens(folder)\n",
    "        data_name = str(folder).split(\"/\")[-1]\n",
    "        results[data_name] = process_sample(events, bin_width=bin_width)\n",
    "\n",
    "    figures.append(pp.plot(results, title=case.replace(\"../3-mcstas/QENS_\", \"\").replace(\"_many_neutrons\", \"\")))\n",
    "\n",
    "figures[0] + figures[1] + figures[2]"
   ]
  }
 ],
 "metadata": {
  "kernelspec": {
   "display_name": "Python 3 (ipykernel)",
   "language": "python",
   "name": "python3"
  },
  "language_info": {
   "codemirror_mode": {
    "name": "ipython",
    "version": 3
   },
   "file_extension": ".py",
   "mimetype": "text/x-python",
   "name": "python",
   "nbconvert_exporter": "python",
   "pygments_lexer": "ipython3",
   "version": "3.12.11"
  }
 },
 "nbformat": 4,
 "nbformat_minor": 5
}
