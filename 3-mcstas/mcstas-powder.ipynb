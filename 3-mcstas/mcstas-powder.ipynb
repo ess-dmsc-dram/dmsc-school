{
 "cells": [
  {
   "cell_type": "code",
   "id": "egyptian-salvation",
   "metadata": {
    "editable": true,
    "slideshow": {
     "slide_type": ""
    },
    "tags": []
   },
   "source": [
    "import mcstasscript as ms\n",
    "import make_powder_instrument\n",
    "from mcstasutils import plot\n",
    "import quizlib"
   ],
   "outputs": [],
   "execution_count": null
  },
  {
   "cell_type": "code",
   "id": "obvious-meeting",
   "metadata": {
    "editable": true,
    "slideshow": {
     "slide_type": ""
    },
    "tags": []
   },
   "source": [
    "quiz = quizlib.Powder_Quiz()"
   ],
   "outputs": [],
   "execution_count": null
  },
  {
   "cell_type": "markdown",
   "id": "unexpected-mandate",
   "metadata": {
    "editable": true,
    "slideshow": {
     "slide_type": ""
    },
    "tags": []
   },
   "source": [
    "# Powder diffraction exercise\n",
    "\n",
    "In this notebook you will work with a McStas model of a simplified powder diffraction instrument.\n",
    "You will have to answer questions in the notebook by working with this model, both by running simulations and expanding the model.\n",
    "We will use the Python McStas API McStasScript to work with the instrument, you can find documentation [here](https://mads-bertelsen.github.io).\n",
    "\n",
    "## Get the instrument object\n",
    "First we need the McStas instrument object. Here it is retrieved from a local python function that generates it."
   ]
  },
  {
   "cell_type": "code",
   "id": "loose-workstation",
   "metadata": {
    "editable": true,
    "slideshow": {
     "slide_type": ""
    },
    "tags": []
   },
   "source": [
    "instrument = make_powder_instrument.make()"
   ],
   "outputs": [],
   "execution_count": null
  },
  {
   "cell_type": "markdown",
   "id": "continued-thong",
   "metadata": {
    "editable": true,
    "slideshow": {
     "slide_type": ""
    },
    "tags": []
   },
   "source": [
    "## Investigate instrument\n",
    "The first task is to investigate the instrument object `instrument` using some of the available methods available on that object. Each method that show something about the instrument starts with the word show, so you can use tab to autocomplete in the cell to see the relevant methods.\n",
    "\n",
    "In particular, look at what parameters are available and take a look at the instrument geometry."
   ]
  },
  {
   "cell_type": "code",
   "id": "conceptual-knitting",
   "metadata": {
    "editable": true,
    "slideshow": {
     "slide_type": ""
    },
    "tags": [
     "solution",
     "hide-cell"
    ]
   },
   "source": [
    "instrument.show_parameters()"
   ],
   "outputs": [],
   "execution_count": null
  },
  {
   "metadata": {},
   "cell_type": "code",
   "source": [
    "# instrument.show_instrument(format='window')\n",
    "instrument.show_diagram()"
   ],
   "id": "secret-surrey",
   "outputs": [],
   "execution_count": null
  },
  {
   "metadata": {},
   "cell_type": "markdown",
   "source": "Set the instrument settings to a reasonable value for the number of neutrons and MPI processes. This will be used in the following simulations.",
   "id": "a34082416544558c"
  },
  {
   "metadata": {},
   "cell_type": "code",
   "source": "instrument.settings(ncount=4.0e8, mpi=2, suppress_output=True, NeXus=True)",
   "id": "08a11f21-0caa-47b6-b6a1-0d311c032c1b",
   "outputs": [],
   "execution_count": null
  },
  {
   "metadata": {},
   "cell_type": "markdown",
   "source": [
    "### Question 1\n",
    "Question about what is going on in the instrument model, checking for example how many choppers there are"
   ],
   "id": "cc0e8cba-6523-4617-b724-aec90439caf8"
  },
  {
   "metadata": {},
   "cell_type": "markdown",
   "source": [
    "### Run basic instrument for Si sample\n",
    "Run without pulse shaping chopper"
   ],
   "id": "b5ceb127-0cbe-41b1-b8f8-ad5e9af149c5"
  },
  {
   "metadata": {},
   "cell_type": "code",
   "source": [
    "instrument.set_parameters(sample_choice='\"sample_Si\"', detector_height=3)\n",
    "instrument.settings(output_path=\"output_sample_Si_no_chopper\")"
   ],
   "id": "35f27cc0-3b20-4943-8552-d727bc471610",
   "outputs": [],
   "execution_count": null
  },
  {
   "cell_type": "code",
   "id": "d424cc57-2dde-4c2c-9423-2f4c12e0fcbc",
   "metadata": {},
   "source": "#data_initial = instrument.backengine()",
   "outputs": [],
   "execution_count": null
  },
  {
   "cell_type": "code",
   "id": "79349e06-72a0-40dd-983e-9d476007b331",
   "metadata": {},
   "source": "#plot(data_initial, orders_of_mag=5)",
   "outputs": [],
   "execution_count": null
  },
  {
   "metadata": {},
   "cell_type": "markdown",
   "source": "## Add a chopper",
   "id": "92a9a336-faec-4b32-a202-57411289c26b"
  },
  {
   "cell_type": "code",
   "id": "54ddec18-05a0-4972-809e-bda6f8110aab",
   "metadata": {},
   "source": [
    "instrument.set_parameters(enable_chopper=1, frequency_multiplier=3)  # Set the frequency multiplier to 3 for high resolution\n",
    "instrument.settings(output_path=\"output_sample_Si\")"
   ],
   "outputs": [],
   "execution_count": null
  },
  {
   "cell_type": "code",
   "id": "738bd4ce-1196-490b-a917-ca5d6f2d5a0f",
   "metadata": {},
   "source": [
    "data_high_res = instrument.backengine()"
   ],
   "outputs": [],
   "execution_count": null
  },
  {
   "cell_type": "code",
   "id": "4862a4e5-fbdb-41e8-82d5-806e5e768f5e",
   "metadata": {},
   "source": [
    "plot(data_high_res, orders_of_mag=5)"
   ],
   "outputs": [],
   "execution_count": null
  },
  {
   "cell_type": "markdown",
   "id": "5f5d988f-8876-4112-9628-ee4261828a94",
   "metadata": {},
   "source": "## Run second sample: LBCO"
  },
  {
   "cell_type": "code",
   "id": "2035f0b9-4aab-43b4-85ff-4756bcea9779",
   "metadata": {},
   "source": [
    "instrument.set_parameters(sample_choice='\"sample_LBCO\"')\n",
    "instrument.settings(output_path=\"output_sample_LBCO\")\n",
    "\n",
    "data_sample_2 = instrument.backengine()"
   ],
   "outputs": [],
   "execution_count": null
  },
  {
   "cell_type": "code",
   "id": "51cc50fa-198c-43cd-beb0-68da74bd06f5",
   "metadata": {},
   "source": [
    "plot(data_sample_2, orders_of_mag=5)"
   ],
   "outputs": [],
   "execution_count": null
  },
  {
   "cell_type": "markdown",
   "id": "7792dbb6-3876-44ab-b855-d5d7dddcca88",
   "metadata": {},
   "source": [
    "## Run Vanadium sample"
   ]
  },
  {
   "cell_type": "code",
   "id": "4ccae20c-f4fc-49c3-bad8-7280489a3909",
   "metadata": {},
   "source": [
    "instrument.set_parameters(sample_choice='\"sample_Vanadium\"')\n",
    "instrument.settings(output_path=\"output_sample_vanadium\")\n",
    "\n",
    "data_vanadium = instrument.backengine()"
   ],
   "outputs": [],
   "execution_count": null
  },
  {
   "cell_type": "code",
   "id": "c864bcc7-fa03-470c-aa81-3e626d8d445d",
   "metadata": {},
   "source": [
    "plot(data_vanadium, orders_of_mag=5)"
   ],
   "outputs": [],
   "execution_count": null
  }
 ],
 "metadata": {
  "celltoolbar": "Tags",
  "kernelspec": {
   "display_name": "Python 3 (ipykernel)",
   "language": "python",
   "name": "python3"
  },
  "language_info": {
   "codemirror_mode": {
    "name": "ipython",
    "version": 3
   },
   "file_extension": ".py",
   "mimetype": "text/x-python",
   "name": "python",
   "nbconvert_exporter": "python",
   "pygments_lexer": "ipython3",
   "version": "3.12.10"
  }
 },
 "nbformat": 4,
 "nbformat_minor": 5
}
