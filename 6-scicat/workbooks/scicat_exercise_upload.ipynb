{
 "cells": [
  {
   "cell_type": "markdown",
   "id": "ca98ee44",
   "metadata": {},
   "source": [
    "# Scicat Exercise Upload\n",
    "\n",
    "## Upload - Scitacean"
   ]
  },
  {
   "cell_type": "markdown",
   "id": "fd510530",
   "metadata": {},
   "source": [
    "### Authentication\n",
    "\n",
    "Go to [scicat user page](https://staging.scicat.ess.eu/user) to copy the token.\n",
    "\n",
    "Instantiate scitacean `client` object with the token and `copy transfer` object.<br>\n",
    "It means, `client` will copy the files of the dataset to the `source_folder` as uploading."
   ]
  },
  {
   "cell_type": "code",
   "execution_count": null,
   "id": "b908d32d",
   "metadata": {},
   "outputs": [],
   "source": [
    "import getpass\n",
    "\n",
    "TOKEN = getpass.getpass(\"Enter your token: \")"
   ]
  },
  {
   "cell_type": "code",
   "execution_count": null,
   "id": "8f47b513",
   "metadata": {},
   "outputs": [],
   "source": [
    "from scitacean import Client, RemotePath\n",
    "from scitacean.transfer.copy import CopyFileTransfer\n",
    "\n",
    "source_folder = RemotePath(\"/PATH/TO/THE/SOURCE/FOLDER/TO/DATASET\")\n",
    "client = Client.from_token(\n",
    "    url=\"https://staging.scicat.ess.eu/api/v3\",\n",
    "    token=TOKEN,\n",
    "    file_transfer=CopyFileTransfer(source_folder=source_folder),\n",
    ")\n"
   ]
  },
  {
   "cell_type": "markdown",
   "id": "cbc242ba",
   "metadata": {},
   "source": [
    "### Create Dataset Object\n",
    "\n",
    "We create `scitacean` dataset object with mandatory information to create `scicat` dataset."
   ]
  },
  {
   "cell_type": "code",
   "execution_count": null,
   "id": "35be67af",
   "metadata": {},
   "outputs": [],
   "source": [
    "from scitacean import Dataset\n",
    "from scitacean import DatasetType\n",
    "\n",
    "\n",
    "MY_NAME = \"YOUR_NAME\"\n",
    "MY_EMAIL = \"YOUR_EMAIL\"\n",
    "PROPOSAL_ID = \"YOUR_PROPOSAL_ID\"\n",
    "\n",
    "\n",
    "raw_dataset = Dataset(\n",
    "    type=DatasetType.DERIVED,\n",
    "    contact_email=\"sunyoung.yoo@ess.eu\",\n",
    "    investigator=\"MY_NAME\",\n",
    "    owner=MY_NAME,\n",
    "    owner_email=MY_EMAIL,\n",
    "    used_software=[\"scipp\", \"pymuhrec\"],\n",
    "    data_format=\"tiff\",\n",
    "    is_published=False,\n",
    "    owner_group=PROPOSAL_ID,\n",
    "    access_groups=[PROPOSAL_ID],\n",
    "    instrument_id=None,\n",
    "    techniques=[],\n",
    "    keywords=[\"DMSC Summer School 2025\", \"Powder\"],\n",
    "    license=\"unknown\",\n",
    "    proposal_id=PROPOSAL_ID,\n",
    "    source_folder=source_folder.posix,\n",
    "    name=\"Summer School Reduced Dataset\",\n",
    "    description=\"Awesome reduced dataset from the DMSC Summer School 2025\",\n",
    ")\n",
    "raw_dataset"
   ]
  },
  {
   "cell_type": "markdown",
   "id": "1b16cc81",
   "metadata": {},
   "source": [
    "## Add file path to the dataset object\n",
    "\n",
    "We can add files to upload along with the `dataset`.<br>\n",
    "It assumes that `source_folder` is accessible for `copying` the files to."
   ]
  },
  {
   "cell_type": "code",
   "execution_count": null,
   "id": "81ff2ba8",
   "metadata": {},
   "outputs": [],
   "source": [
    "raw_dataset.add_local_files(\"/PATH/TO/THE/FILE\")\n",
    "raw_dataset"
   ]
  },
  {
   "cell_type": "markdown",
   "id": "8d264e3e",
   "metadata": {},
   "source": [
    "## Upload the dataset!"
   ]
  },
  {
   "cell_type": "code",
   "execution_count": null,
   "id": "ca9e87c9",
   "metadata": {},
   "outputs": [],
   "source": [
    "client.upload_new_dataset_now(dataset=raw_dataset)"
   ]
  },
  {
   "cell_type": "markdown",
   "id": "1377dd5f",
   "metadata": {},
   "source": [
    "## Upload Dataset using SFTP Connection\n",
    "\n",
    "If `files` cannot be copied to the `source` path, <br>\n",
    "they can be explicitly uploaded via `SFTP` connection.\n",
    "\n",
    "### Authenticate to SFTP server"
   ]
  },
  {
   "cell_type": "code",
   "execution_count": null,
   "id": "fc4de7ed",
   "metadata": {},
   "outputs": [],
   "source": [
    "SFTP_USER_NAME = input(\"Enter the SFTP username: \")\n",
    "SFTP_SERVER_PASSWORD = getpass.getpass(\"Enter the SFTP server password: \")"
   ]
  },
  {
   "cell_type": "markdown",
   "id": "bc4cfdfc",
   "metadata": {},
   "source": [
    "### Create file transfer, scicat client and dataset object"
   ]
  },
  {
   "cell_type": "code",
   "execution_count": null,
   "id": "c86bfd83",
   "metadata": {},
   "outputs": [],
   "source": [
    "from scitacean import Client, Dataset, RemotePath\n",
    "from scitacean import DatasetType\n",
    "from scitacean.transfer.sftp import SFTPFileTransfer\n",
    "\n",
    "MY_NAME = \"YOUR_NAME\"\n",
    "MY_EMAIL = \"YOUR_EMAIL\"\n",
    "PROPOSAL_ID = \"YOUR_PROPOSAL_ID\"\n",
    "\n",
    "source_folder = RemotePath(\"/PATH/TO/THE/SOURCE/FOLDER/TO/DATASET\")\n",
    "client = Client.from_token(\n",
    "    url=\"https://staging.scicat.ess.eu/api/v3\",\n",
    "    token=TOKEN,\n",
    "    file_transfer=SFTPFileTransfer(\n",
    "        host=\"SFTP_HOST\",\n",
    "        username=SFTP_USER_NAME,\n",
    "        password=SFTP_SERVER_PASSWORD,\n",
    "        source_folder=source_folder,\n",
    "    ),\n",
    ")\n",
    "\n",
    "raw_dataset = Dataset(\n",
    "    type=DatasetType.DERIVED,\n",
    "    contact_email=\"sunyoung.yoo@ess.eu\",\n",
    "    investigator=\"MY_NAME\",\n",
    "    owner=MY_NAME,\n",
    "    owner_email=MY_EMAIL,\n",
    "    used_software=[\"scipp\", \"pymuhrec\"],\n",
    "    data_format=\"tiff\",\n",
    "    is_published=False,\n",
    "    owner_group=PROPOSAL_ID,\n",
    "    access_groups=[PROPOSAL_ID],\n",
    "    instrument_id=None,\n",
    "    techniques=[],\n",
    "    keywords=[\"DMSC Summer School 2025\", \"Powder\"],\n",
    "    license=\"unknown\",\n",
    "    proposal_id=PROPOSAL_ID,\n",
    "    source_folder=source_folder.posix,\n",
    "    name=\"Summer School Reduced Dataset\",\n",
    "    description=\"Awesome reduced dataset from the DMSC Summer School 2025\",\n",
    ")\n",
    "raw_dataset"
   ]
  },
  {
   "cell_type": "markdown",
   "id": "a14b1a02",
   "metadata": {},
   "source": [
    "### Add Files and Upload"
   ]
  },
  {
   "cell_type": "code",
   "execution_count": null,
   "id": "1b938112",
   "metadata": {},
   "outputs": [],
   "source": [
    "raw_dataset.add_local_files(\"/PATH/TO/THE/FILE\")\n",
    "client.upload_new_dataset_now(dataset=raw_dataset)"
   ]
  }
 ],
 "metadata": {
  "kernelspec": {
   "display_name": "dmsc-school",
   "language": "python",
   "name": "python3"
  },
  "language_info": {
   "codemirror_mode": {
    "name": "ipython",
    "version": 3
   },
   "file_extension": ".py",
   "mimetype": "text/x-python",
   "name": "python",
   "nbconvert_exporter": "python",
   "pygments_lexer": "ipython3",
   "version": "3.12.8"
  },
  "orphan": true
 },
 "nbformat": 4,
 "nbformat_minor": 5
}
