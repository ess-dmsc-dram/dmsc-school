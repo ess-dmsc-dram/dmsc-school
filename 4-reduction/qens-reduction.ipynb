{
 "cells": [
  {
   "cell_type": "markdown",
   "id": "a146780d-97b5-45a2-afe3-b852551bee2f",
   "metadata": {
    "editable": true,
    "slideshow": {
     "slide_type": ""
    },
    "tags": []
   },
   "source": [
    "# QENS data reduction\n",
    "\n",
    "This notebook will guide you through the data reduction for the QENS experiment that you simulated with McStas yesterday.\n",
    "\n",
    "The following is a basic outline of what this notebook will cover:\n",
    "\n",
    "- Loading the NeXus files that contain the data\n",
    "- Inspect/visualize the data contents\n",
    "- How to convert the raw `time-of-flight` coordinate to something more useful ($\\Delta E$)\n",
    "- Write the results to file\n",
    "- Process more than one pulse"
   ]
  },
  {
   "cell_type": "code",
   "execution_count": null,
   "id": "9d2fb1a1-e0ea-4730-9a5a-0e5f8d6c6cd2",
   "metadata": {
    "editable": true,
    "slideshow": {
     "slide_type": ""
    },
    "tags": []
   },
   "outputs": [],
   "source": [
    "import numpy as np\n",
    "import plopp as pp\n",
    "import scippneutron as scn\n",
    "import utils\n",
    "\n",
    "import scipp as sc"
   ]
  },
  {
   "cell_type": "markdown",
   "id": "069bdf98-d741-403a-b49c-2968b9e4ecda",
   "metadata": {
    "editable": true,
    "slideshow": {
     "slide_type": ""
    },
    "tags": []
   },
   "source": [
    "# Single pulse\n",
    "\n",
    "### Load raw data\n",
    "\n",
    "Begin by loading and investigating a single file.\n",
    "In this example, we use the known quasi elastic sample, but any file with a single pulse will do."
   ]
  },
  {
   "cell_type": "code",
   "execution_count": null,
   "id": "c5a05e73-e36b-41ed-887c-674d09df6de3",
   "metadata": {
    "editable": true,
    "slideshow": {
     "slide_type": ""
    },
    "tags": [
     "remove-cell"
    ]
   },
   "outputs": [],
   "source": [
    "# Optional: download the data\n",
    "!wget -nc --no-verbose https://public.esss.dk/groups/scipp/dmsc-summer-school/qens/qens_elastic_1_pulse.h5\n",
    "!wget -nc --no-verbose https://public.esss.dk/groups/scipp/dmsc-summer-school/qens/qens_known_quasi_elastic_1_pulse.h5\n",
    "!wget -nc --no-verbose https://public.esss.dk/groups/scipp/dmsc-summer-school/qens/qens_unknown_quasi_elastic_1_pulse.h5"
   ]
  },
  {
   "cell_type": "code",
   "execution_count": null,
   "id": "037773ba-aab8-4144-aef6-8e9affa9ce33",
   "metadata": {
    "editable": true,
    "slideshow": {
     "slide_type": ""
    },
    "tags": []
   },
   "outputs": [],
   "source": [
    "fname = \"qens_known_quasi_elastic_1_pulse.h5\"\n",
    "\n",
    "events = utils.load_qens(fname)"
   ]
  },
  {
   "cell_type": "markdown",
   "id": "8c787461-a87c-4ce1-8dbe-2521dc0d4c9d",
   "metadata": {
    "editable": true,
    "slideshow": {
     "slide_type": ""
    },
    "tags": []
   },
   "source": [
    "The first way to inspect the data is to view the HTML representation of the loaded object.\n",
    "\n",
    "Try to explore what is inside the data, and familiarize yourself with the different sections (`Dimensions`, `Coordinates`, `Data`)."
   ]
  },
  {
   "cell_type": "code",
   "execution_count": null,
   "id": "214c5097-9522-4883-8ec8-3e7342c0a556",
   "metadata": {
    "editable": true,
    "slideshow": {
     "slide_type": ""
    },
    "tags": []
   },
   "outputs": [],
   "source": [
    "events"
   ]
  },
  {
   "cell_type": "markdown",
   "id": "4d948bb3-c09f-472f-9cbf-fab570faf1d2",
   "metadata": {
    "editable": true,
    "slideshow": {
     "slide_type": ""
    },
    "tags": []
   },
   "source": [
    "### Visualize the raw data\n",
    "\n",
    "Here is a histogram of the raw data in `tof`:"
   ]
  },
  {
   "cell_type": "code",
   "execution_count": null,
   "id": "072fb6b8-52cb-4c67-8d64-528709fda352",
   "metadata": {
    "editable": true,
    "slideshow": {
     "slide_type": ""
    },
    "tags": []
   },
   "outputs": [],
   "source": [
    "events.hist(tof=100).plot()"
   ]
  },
  {
   "cell_type": "markdown",
   "id": "e3143ac1-7ded-4402-b0a8-0fcfa86470e7",
   "metadata": {
    "editable": true,
    "slideshow": {
     "slide_type": ""
    },
    "tags": []
   },
   "source": [
    "It is more enlightening to look at a 2D histogram in `tof` and `y` as this shows a defect of the detector for a certain y-range:"
   ]
  },
  {
   "cell_type": "code",
   "execution_count": null,
   "id": "9a0cc022-3a37-4592-8cf1-c4c0ac4b7bc7",
   "metadata": {
    "editable": true,
    "slideshow": {
     "slide_type": ""
    },
    "tags": []
   },
   "outputs": [],
   "source": [
    "events.hist(tof=100, y=100).plot()"
   ]
  },
  {
   "cell_type": "markdown",
   "id": "c3dd4d68-692c-4eb9-a92d-56907b362ed7",
   "metadata": {
    "editable": true,
    "slideshow": {
     "slide_type": ""
    },
    "tags": []
   },
   "source": [
    "### Exercise 1: mask bad region\n",
    "\n",
    "We need to handle the events that are affected by the detector defect.\n",
    "The simplest way of doing so it to mask the affected region in y.\n",
    "We will do so by binning in y and applying a y-dependent mask to the data array.\n",
    "\n",
    "**Steps**:\n",
    "\n",
    "1. Define bin-edges in the y-dimension that cover the entire range of the data.\n",
    "There should be three bins which cover the y-range below the broken region, the broken region, and the the range above the broken region, respectively.\n",
    "So you should end up with a length-4 array of bin-edges.\n",
    "2. Define another array for the mask which should have the values `[False, True, False]`.\n",
    "So it masks the middle bin but not the others.\n",
    "3. Apply the mask by binning the events using the edges you defined and inserting the mask into the binned array's masks.\n",
    "\n",
    "**Hints**:\n",
    "\n",
    "- Use `sc.array` to create arrays for the bin-edges and the mask.\n",
    "- Bin the data using `binned_for_mask = events.bin(...)`,\n",
    "- Apply the mask by inserting it into `binned_for_mask.masks` which behaves like a `dict`."
   ]
  },
  {
   "cell_type": "markdown",
   "id": "4d053255-0bbf-402a-bbf0-b71f2511d49b",
   "metadata": {
    "editable": true,
    "slideshow": {
     "slide_type": ""
    },
    "tags": []
   },
   "source": [
    "**Solution:**"
   ]
  },
  {
   "cell_type": "code",
   "execution_count": null,
   "id": "35db1b83-a75a-474e-80e1-ef6be506bc81",
   "metadata": {
    "editable": true,
    "slideshow": {
     "slide_type": ""
    },
    "tags": [
     "hide-cell",
     "solution"
    ]
   },
   "outputs": [],
   "source": [
    "y = events.coords[\"y\"]\n",
    "mask_regions = sc.array(\n",
    "    dims=[\"y\"],\n",
    "    values=[0.21, 0.26, 0.27, 0.29],\n",
    "    unit=y.unit,\n",
    ")\n",
    "binned_for_mask = events.bin(y=mask_regions)\n",
    "mask = sc.array(dims=[\"y\"], values=[False, True, False])\n",
    "binned_for_mask.masks[\"bad_timing\"] = mask\n",
    "binned_for_mask"
   ]
  },
  {
   "cell_type": "markdown",
   "id": "b10172ed-3a42-437b-a91b-b1f7d79581ac",
   "metadata": {
    "editable": true,
    "slideshow": {
     "slide_type": ""
    },
    "tags": []
   },
   "source": [
    "We plot the data array with the mask below.\n",
    "The black band in the middle bin indicates the mask:"
   ]
  },
  {
   "cell_type": "code",
   "execution_count": null,
   "id": "d48d17bf-3b11-4114-a604-493ab187a972",
   "metadata": {
    "editable": true,
    "slideshow": {
     "slide_type": ""
    },
    "tags": []
   },
   "outputs": [],
   "source": [
    "binned_for_mask.hist().plot()"
   ]
  },
  {
   "cell_type": "markdown",
   "id": "7d6f12b3-8422-4922-8636-2f4f777cf2a4",
   "metadata": {
    "editable": true,
    "slideshow": {
     "slide_type": ""
    },
    "tags": []
   },
   "source": [
    "When making the same 2D histogram as before, the masked events will be dropped and the result is a histogram with a gap:"
   ]
  },
  {
   "cell_type": "code",
   "execution_count": null,
   "id": "b2a74296-dfb0-46ee-9e67-e91ebff9e69b",
   "metadata": {
    "editable": true,
    "slideshow": {
     "slide_type": ""
    },
    "tags": []
   },
   "outputs": [],
   "source": [
    "binned_for_mask.hist(tof=100, y=100).plot()"
   ]
  },
  {
   "cell_type": "markdown",
   "id": "1606596c-407f-4b4a-b95a-a0f70937fbb8",
   "metadata": {
    "editable": true,
    "slideshow": {
     "slide_type": ""
    },
    "tags": []
   },
   "source": [
    "### Transform to energy transfer\n",
    "\n",
    "The next step is to compute the measured energy transfer in the sample from time-of-flight and the other coordinates of our data.\n",
    "We use [scipp.transform_coords](https://scipp.github.io/generated/functions/scipp.transform_coords.html) for this purpose.\n",
    "\n",
    "Scippneutron provides some pre-defined functions for coordinate transformations, see the [documentation](https://scipp.github.io/scippneutron/user-guide/coordinate-transformations.html) for a list.\n",
    "In particular, it provides [scippneutron.conversion.tof.energy_transfer_indirect_from_tof](https://scipp.github.io/scippneutron/generated/modules/scippneutron.conversion.tof.energy_transfer_indirect_from_tof.html) which computes the energy transfer for an indirect-geometry spectrometer:\n",
    "\n",
    "$$\\Delta E = \\frac{m_n L_1^2}{2 {(t-t_0)}^2} - \\mathsf{final\\_energy}\\,, \\qquad t_0 = \\sqrt{\\frac{L_2^2 m_n}{2 \\mathsf{final\\_energy}}}\\,,$$\n",
    "\n",
    "where $m_n$ is the neutron mass, $L_1$ is the primary flight path length (from source to sample), and $L_2$ is the secondary flight path length (from sample to detector).\n",
    "The intermediate variable $t_0$ is the the time of flight for the secondary path such that $(t - t_0)$ is the arrival time at the sample.\n",
    "\n",
    "While Scippneutron provides most of what we need, we have to define some custom components for our specific instrument.\n",
    "We require functions to compute\n",
    "\n",
    "- **L2**, the path length of the scattered neutron. The default function in Scippneutron assumes a straight path but here, we need to take the reflection from the analyzer crystal into account: $L_2 = |\\overline{\\mathsf{sample},\\mathsf{analyzer}}| + |\\overline{\\mathsf{analyser},\\mathsf{detector}}|$\n",
    "\n",
    "- **final_wavelength**, the neutron wavelength that the analyzer selects for. We compute it from the known $d$-spacing of the analyzer $d_a$ and the scattering angle off the analyzer $\\theta_a$: $\\mathsf{final\\_wavelength} = 2 d_a \\sin{\\theta_a}$\n",
    "\n",
    "- **final_energy**, the energy of the neutrons that hit the detector (more below): $\\mathsf{final\\_energy} = \\displaystyle\\frac{m_n}{2} v_f^2$\n",
    "\n",
    "The first two are implemented below.\n",
    "They use the positions and analyzer parameters in the input data."
   ]
  },
  {
   "cell_type": "code",
   "execution_count": null,
   "id": "83a02a65-1c85-4965-ba09-02aa771beb7a",
   "metadata": {
    "editable": true,
    "slideshow": {
     "slide_type": ""
    },
    "tags": []
   },
   "outputs": [],
   "source": [
    "def backscattered_l2(position, sample_position, analyzer_position):\n",
    "    \"\"\"\n",
    "    Compute the length of the secondary flight path for backscattering off an analyzer.\n",
    "    \"\"\"\n",
    "    # TODO Subtraction from Mad's script ?!\n",
    "    return (\n",
    "        sc.norm(position - analyzer_position)\n",
    "        + sc.norm(analyzer_position - sample_position)\n",
    "        - sc.scalar(0.03, unit=\"m\")\n",
    "    )\n",
    "\n",
    "\n",
    "def wavelength_from_analyzer(analyzer_dspacing, analyzer_angle):\n",
    "    \"\"\"\n",
    "    Compute the neutron wavelength after scattering from the analyzer's d-spacing.\n",
    "\n",
    "    Assuming Bragg scattering in the analyzer, the wavelength is\n",
    "        wavelength = 2 * d * sin(theta)\n",
    "\n",
    "    Where\n",
    "        d is the analyzer's d-spacing,\n",
    "        theta is the scattering angle or equivalently, the tilt of the analyzer\n",
    "              w.r.t. to the sample-analyzer axis.\n",
    "    \"\"\"\n",
    "    # 2*theta is the angle between transmitted and scattered beam.\n",
    "    return (\n",
    "        2\n",
    "        * analyzer_dspacing\n",
    "        * sc.sin(sc.scalar(np.pi / 2, unit=\"rad\") - analyzer_angle.to(unit=\"rad\"))\n",
    "    )"
   ]
  },
  {
   "cell_type": "markdown",
   "id": "3f413f3e-75e4-4d30-9910-bf2fa610d25e",
   "metadata": {
    "editable": true,
    "slideshow": {
     "slide_type": ""
    },
    "tags": []
   },
   "source": [
    "We can start assembling the graph to compute the energy transfer:"
   ]
  },
  {
   "cell_type": "code",
   "execution_count": null,
   "id": "2262f2d6-3bb0-47a6-89c6-76e6abd7e78b",
   "metadata": {
    "editable": true,
    "slideshow": {
     "slide_type": ""
    },
    "tags": []
   },
   "outputs": [],
   "source": [
    "from scippneutron.conversion.graph.beamline import beamline\n",
    "from scippneutron.conversion.tof import energy_transfer_indirect_from_tof\n",
    "\n",
    "graph = {\n",
    "    **beamline(scatter=True),\n",
    "    \"energy_transfer\": energy_transfer_indirect_from_tof,\n",
    "    \n",
    "    # Replace L2 with our own implementation.\n",
    "    \"L2\": backscattered_l2,\n",
    "    # Insert a new function for the wavelength.\n",
    "    \"final_wavelength\": wavelength_from_analyzer,\n",
    "}\n",
    "# Optional: remove unused functions in order to clean up the image below.\n",
    "del graph[\"two_theta\"]\n",
    "del graph[\"scattered_beam\"]\n",
    "del graph[\"Ltotal\"]\n",
    "sc.show_graph(graph, simplified=True)"
   ]
  },
  {
   "cell_type": "markdown",
   "id": "d36a8332-d6f8-418a-a1e2-b08c5ff165fa",
   "metadata": {
    "editable": true,
    "slideshow": {
     "slide_type": ""
    },
    "tags": []
   },
   "source": [
    "### Exercise 2: Compute energy transfer \n",
    "\n",
    "We can see that `final_energy` is not yet linked to `final_wavelength` in the graph.\n",
    "Your task is to implement a function `def final_energy(final_wavelength)` to fill in the gap.\n",
    "\n",
    "The energy is given by\n",
    "\n",
    "$$\\mathsf{final\\_energy} = \\frac{m_n}{2} v_f^2, \\qquad v_f = \\frac{2\\pi\\hbar}{m_n \\mathsf{final\\_wavelength}},$$\n",
    "\n",
    "where $v_f$ is the speed of the scattered neutron and $m_n$ is the neutron mass.\n",
    "\n",
    "#### Exercise 2.1: Finish the graph\n",
    "\n",
    "**Steps**:\n",
    "\n",
    "- Define a new function that computes the final energy given the equations above.\n",
    "    - Tip: Ensure that the result has unit `meV`.\n",
    "    - Tip: Use [sc.constants](https://scipp.github.io/generated/modules/scipp.constants.html) to get values for $\\hbar$ (or $h$) and $m_n$.\n",
    "- Insert the new function into the graph."
   ]
  },
  {
   "cell_type": "markdown",
   "id": "873b2eb3-f74e-49dc-a502-0cb79b937b6a",
   "metadata": {
    "editable": true,
    "slideshow": {
     "slide_type": ""
    },
    "tags": []
   },
   "source": [
    "**Solution:**"
   ]
  },
  {
   "cell_type": "code",
   "execution_count": null,
   "id": "ae488bd2-8a3e-4f1e-a929-226695da18da",
   "metadata": {
    "editable": true,
    "slideshow": {
     "slide_type": ""
    },
    "tags": [
     "hide-cell",
     "solution"
    ]
   },
   "outputs": [],
   "source": [
    "def final_energy(final_wavelength):\n",
    "    \"\"\"\n",
    "    Compute the neutron energy after scattering.\n",
    "\n",
    "    Uses\n",
    "        final_energy = mn / 2 * final_speed**2\n",
    "        final_speed = 2 * pi * hbar / mn / final_wavelength\n",
    "\n",
    "    Where\n",
    "        mn is the neutron mass,\n",
    "        final_wavelength is the wavelength after scattering,\n",
    "        final_speed is the speed after scattering.\n",
    "    \"\"\"\n",
    "    return sc.to_unit(\n",
    "        sc.constants.h**2 / 2 / sc.constants.neutron_mass / (final_wavelength**2),\n",
    "        \"meV\",\n",
    "    )\n",
    "\n",
    "graph[\"final_energy\"] = final_energy\n",
    "sc.show_graph(graph, simplified=True)"
   ]
  },
  {
   "cell_type": "markdown",
   "id": "7d625a5a-0041-481b-8514-905fcd04a095",
   "metadata": {
    "editable": true,
    "slideshow": {
     "slide_type": ""
    },
    "tags": []
   },
   "source": [
    "#### Exercise 2.2: Compute energy transfer with the masked data\n",
    "\n",
    "Use `binned_for_mask.transform_coords` (or what ever name you used for the masked array) to compute `\"energy_transfer\"`."
   ]
  },
  {
   "cell_type": "code",
   "execution_count": null,
   "id": "fa3bfc7d-9716-4753-a38d-9cdc95c77c6e",
   "metadata": {
    "editable": true,
    "slideshow": {
     "slide_type": ""
    },
    "tags": [
     "hide-cell",
     "solution"
    ]
   },
   "outputs": [],
   "source": [
    "def correct_tof(data):\n",
    "    data = data.copy()\n",
    "    # TODO according to Mads' script\n",
    "    #  Instrument focuses at center of pulse, 2.86 ms / 2\n",
    "    shift = sc.scalar(0.5 * 2.86, unit=\"ms\")\n",
    "    if \"tof\" in data.coords:\n",
    "        data.coords[\"tof\"] -= shift.to(unit=data.coords[\"tof\"].unit)\n",
    "    if data.bins and \"tof\" in data.bins.coords:\n",
    "        data.bins.coords[\"tof\"] -= shift.to(unit=data.bins.coords[\"tof\"].bins.unit)\n",
    "    return data\n",
    "\n",
    "\n",
    "def to_energy_transfer(data):\n",
    "    data = correct_tof(data)\n",
    "    return data.transform_coords(\"energy_transfer\", graph=graph)\n",
    "\n",
    "in_energy_transfer = to_energy_transfer(binned_for_mask)\n",
    "in_energy_transfer"
   ]
  },
  {
   "cell_type": "markdown",
   "id": "bb663488-66d0-4447-8326-9747266b1fbf",
   "metadata": {
    "editable": true,
    "slideshow": {
     "slide_type": ""
    },
    "tags": []
   },
   "source": [
    "#### Exercise 2.3: Compute energy transfer for unmasked data\n",
    "\n",
    "For comparison, also compute energy transfer with the original data without a mask."
   ]
  },
  {
   "cell_type": "markdown",
   "id": "42143150-822d-4a5d-980c-54d8a3d570e9",
   "metadata": {
    "editable": true,
    "slideshow": {
     "slide_type": ""
    },
    "tags": []
   },
   "source": [
    "**Solution:**"
   ]
  },
  {
   "cell_type": "code",
   "execution_count": null,
   "id": "db29e8ef-bb6d-49ad-9557-0c2a2d6a67b9",
   "metadata": {
    "editable": true,
    "slideshow": {
     "slide_type": ""
    },
    "tags": [
     "hide-cell",
     "solution"
    ]
   },
   "outputs": [],
   "source": [
    "in_energy_transfer_unmasked = to_energy_transfer(events)"
   ]
  },
  {
   "cell_type": "markdown",
   "id": "4650cf37-9f19-4ba2-b600-2f40cddae1bb",
   "metadata": {
    "editable": true,
    "slideshow": {
     "slide_type": ""
    },
    "tags": []
   },
   "source": [
    "Now we can plot the masked and unmasked data to compare them.\n",
    "As always, we first need to histogram them.\n",
    "(We use `in_energy_transfer.bins.concat()` to undo the binning from exercise 1.\n",
    "Without it, we would get a 2D histogram in `y` and `energy_transfer`.)"
   ]
  },
  {
   "cell_type": "code",
   "execution_count": null,
   "id": "bf1fd84e-8de7-4830-8e0f-db43e109ccdf",
   "metadata": {
    "editable": true,
    "slideshow": {
     "slide_type": ""
    },
    "tags": []
   },
   "outputs": [],
   "source": [
    "masked_hist = in_energy_transfer.bins.concat().hist(energy_transfer=100)\n",
    "unmasked_hist = in_energy_transfer_unmasked.hist(energy_transfer=100)"
   ]
  },
  {
   "cell_type": "markdown",
   "id": "1921e9e7-52f9-471d-a0bb-ef7c0546feb2",
   "metadata": {
    "editable": true,
    "slideshow": {
     "slide_type": ""
    },
    "tags": []
   },
   "source": [
    "The histogrammed data currently has no standard deviations on the counts.\n",
    "This needs to be added after we have performed the histogramming operation.\n",
    "\n",
    "When dealing with neutron events, we assume the data has a Poisson distribution.\n",
    "This means that the variance in a bin is equal to the counts in that bin\n",
    "(the standard deviation is then $\\sigma = \\sqrt{\\mathsf{counts}}$).\n",
    "\n",
    "We provide a helper function that will add Poisson variances to any given input:"
   ]
  },
  {
   "cell_type": "code",
   "execution_count": null,
   "id": "3f6a1af2-7992-4199-a973-8b2f34d51a07",
   "metadata": {
    "editable": true,
    "slideshow": {
     "slide_type": ""
    },
    "tags": []
   },
   "outputs": [],
   "source": [
    "utils.add_variances(masked_hist)\n",
    "utils.add_variances(unmasked_hist)"
   ]
  },
  {
   "cell_type": "markdown",
   "id": "6f3e7177-d666-4aaa-8043-17f1c41e6a4a",
   "metadata": {
    "editable": true,
    "slideshow": {
     "slide_type": ""
    },
    "tags": []
   },
   "source": [
    "And finally, we can plot the data:"
   ]
  },
  {
   "cell_type": "code",
   "execution_count": null,
   "id": "80945a3e-ccbe-4643-98cf-2a42b9b651af",
   "metadata": {
    "editable": true,
    "slideshow": {
     "slide_type": ""
    },
    "tags": []
   },
   "outputs": [],
   "source": [
    "pp.plot(\n",
    "    {\n",
    "        \"unmasked\": unmasked_hist,\n",
    "        \"masked\": masked_hist,\n",
    "    }\n",
    ")"
   ]
  },
  {
   "cell_type": "markdown",
   "id": "1570786f-a91d-436b-8a4b-31fc6f2b316f",
   "metadata": {
    "editable": true,
    "slideshow": {
     "slide_type": ""
    },
    "tags": []
   },
   "source": [
    "### Exercise 3: Compute energy transfer for all samples\n",
    "\n",
    "We have only looked at one of our three samples so far.\n",
    "Now, we repeat the same procedure for the remaining two.\n",
    "\n",
    "Your task is to load the other samples, mask the broken detector region, and compute energy_transfer.\n",
    "(You don't need to repeat the calculation for the unmasked data.\n",
    "And for now, only use the \"1_pulse\" files.)\n",
    "\n",
    "**Hints**:\n",
    "\n",
    "- Write a function that encapsulates the whole procedure.\n",
    "- You can reuse the mask bin-edges and the mask itself.\n",
    "- Store the results for all samples in a `dict`. This way, you can easily plot it using `pp.plot`."
   ]
  },
  {
   "cell_type": "markdown",
   "id": "42c68493-1dbc-4f51-bcee-f75e470c80a8",
   "metadata": {
    "editable": true,
    "slideshow": {
     "slide_type": ""
    },
    "tags": []
   },
   "source": [
    "**Solution:**"
   ]
  },
  {
   "cell_type": "code",
   "execution_count": null,
   "id": "a475d0b3-a441-421b-8e63-49031d77264b",
   "metadata": {
    "editable": true,
    "slideshow": {
     "slide_type": ""
    },
    "tags": []
   },
   "outputs": [],
   "source": [
    "def process_sample(raw_events):\n",
    "    binned_for_mask = raw_events.bin(y=mask_regions)\n",
    "    binned_for_mask.masks[\"bad_timing\"] = mask\n",
    "\n",
    "    in_energy_transfer = to_energy_transfer(binned_for_mask)\n",
    "\n",
    "    hist = in_energy_transfer.bins.concat().hist(energy_transfer=100)\n",
    "    utils.add_variances(hist)\n",
    "\n",
    "    return hist"
   ]
  },
  {
   "cell_type": "code",
   "execution_count": null,
   "id": "5c4aeb4d-9bf2-4348-9168-82562d1300d0",
   "metadata": {
    "editable": true,
    "slideshow": {
     "slide_type": ""
    },
    "tags": []
   },
   "outputs": [],
   "source": [
    "fnames = (\n",
    "    \"qens_elastic_1_pulse.h5\",\n",
    "    \"qens_known_quasi_elastic_1_pulse.h5\",\n",
    "    \"qens_unknown_quasi_elastic_1_pulse.h5\",\n",
    ")\n",
    "results = {}\n",
    "for fname in fnames:\n",
    "    events = utils.load_qens(fname)\n",
    "    # Remove the 'qens_' prefix and '.h5' extension from the file name.\n",
    "    data_name = fname[5:-3]\n",
    "    results[data_name] = process_sample(events)"
   ]
  },
  {
   "cell_type": "code",
   "execution_count": null,
   "id": "9db665f9-36ad-4214-91e6-72c7c0f51562",
   "metadata": {
    "editable": true,
    "slideshow": {
     "slide_type": ""
    },
    "tags": [
     "hide-cell",
     "solution"
    ]
   },
   "outputs": [],
   "source": [
    "pp.plot(results)"
   ]
  },
  {
   "cell_type": "markdown",
   "id": "440e9d0b-d741-4823-aec5-a73a07cc26a4",
   "metadata": {
    "editable": true,
    "slideshow": {
     "slide_type": ""
    },
    "tags": []
   },
   "source": [
    "### Save result to disk\n",
    "\n",
    "Finally, we need to save our results to disk so that the reduced data can be forwarded to the next step in the pipeline (data analysis).\n",
    "We will use a simple text file for this.\n",
    "\n",
    "This code assumes that you stored your histograms in a `dict` called `results` with keys of the form `\"elastic_1_pulse\"`, etc.\n",
    "If this is not the case, you need to modify the code below."
   ]
  },
  {
   "cell_type": "code",
   "execution_count": null,
   "id": "1d784eaa-364a-4b89-bfc7-7da3dd21371a",
   "metadata": {
    "editable": true,
    "slideshow": {
     "slide_type": ""
    },
    "tags": []
   },
   "outputs": [],
   "source": [
    "for name, result in results.items():\n",
    "    # The simple file format does not support bin-edge coordinates.\n",
    "    # So we convert to bin-centers first.\n",
    "    data = result.copy()\n",
    "    data.coords[\"energy_transfer\"] = sc.midpoints(data.coords[\"energy_transfer\"])\n",
    "\n",
    "    scn.io.save_xye(f\"qens_energy_transfer_{name}.dat\", data)"
   ]
  },
  {
   "cell_type": "markdown",
   "id": "301e3056-351f-43fd-b418-4d63d7fd1290",
   "metadata": {
    "editable": true,
    "slideshow": {
     "slide_type": ""
    },
    "tags": []
   },
   "source": [
    "## Three pulses\n",
    "\n",
    "### Load raw data\n",
    "\n",
    "We now want to repeat the reduction, but using more than a single pulse to improve our statistics.\n",
    "\n",
    "We begin by loading a run with 3 pulses."
   ]
  },
  {
   "cell_type": "code",
   "execution_count": null,
   "id": "41745f4f-df2c-4ee9-9666-421e2b935fb4",
   "metadata": {
    "editable": true,
    "slideshow": {
     "slide_type": ""
    },
    "tags": [
     "remove-cell"
    ]
   },
   "outputs": [],
   "source": [
    "# Optional: download sample data\n",
    "!wget -nc --no-verbose https://public.esss.dk/groups/scipp/dmsc-summer-school/qens/qens_elastic_3_pulse.h5\n",
    "!wget -nc --no-verbose https://public.esss.dk/groups/scipp/dmsc-summer-school/qens/qens_known_quasi_elastic_3_pulse.h5\n",
    "!wget -nc --no-verbose https://public.esss.dk/groups/scipp/dmsc-summer-school/qens/qens_unknown_quasi_elastic_3_pulse.h5"
   ]
  },
  {
   "cell_type": "code",
   "execution_count": null,
   "id": "5bfadd2c-e44a-4d5a-b70f-0f44569a9024",
   "metadata": {
    "editable": true,
    "slideshow": {
     "slide_type": ""
    },
    "tags": []
   },
   "outputs": [],
   "source": [
    "fname = \"qens_known_quasi_elastic_3_pulse.h5\"\n",
    "events_3_pulse = utils.load_qens(fname)\n",
    "events_3_pulse"
   ]
  },
  {
   "cell_type": "code",
   "execution_count": null,
   "id": "d39d0560-0e15-4b65-81ab-b66b4d9d6900",
   "metadata": {
    "editable": true,
    "slideshow": {
     "slide_type": ""
    },
    "tags": []
   },
   "outputs": [],
   "source": [
    "events_3_pulse.hist(tof=100, y=100).plot()"
   ]
  },
  {
   "cell_type": "markdown",
   "id": "f627499f-2ed8-442c-8efd-b532043f35c8",
   "metadata": {
    "editable": true,
    "slideshow": {
     "slide_type": ""
    },
    "tags": []
   },
   "source": [
    "We can see that we have 3 distinct pulses (3 horizontal bands of events).\n",
    "\n",
    "In order to combine the data from the 3 pulses (also known as 'pulse folding'), we need to compute a neutron time-of-flight relative to the start of each pulse, instead of absolute time.\n",
    "\n",
    "### Exercise 4: Fold the pulses\n",
    "\n",
    "You are provided with a function that will perform the folding correctly,\n",
    "assuming you supply it the correct inputs."
   ]
  },
  {
   "cell_type": "code",
   "execution_count": null,
   "id": "f0ba869c-d265-4588-b9c4-b33d6ee1f400",
   "metadata": {
    "editable": true,
    "slideshow": {
     "slide_type": ""
    },
    "tags": []
   },
   "outputs": [],
   "source": [
    "utils.fold_pulses?"
   ]
  },
  {
   "cell_type": "markdown",
   "id": "45c58107-5876-4a2f-8521-140aa077de85",
   "metadata": {
    "editable": true,
    "slideshow": {
     "slide_type": ""
    },
    "tags": []
   },
   "source": [
    "Steps:\n",
    "\n",
    "- Make an array of pulse offsets. That is, a length-3 array in dimension `tof` and with unit `\"ms\"`, starting at 0, using 14 pulses per second.\n",
    "- Make evenly-spaced pulse-edges that cover the entire `tof`-range. This should be a length-4 array.\n",
    "- Call `utils.fold_pulses` with your arrays and the loaded events.\n",
    "- Histogram in `tof` and `y` and plot like we have done above to see if the pulses are properly folded."
   ]
  },
  {
   "cell_type": "code",
   "execution_count": null,
   "id": "f78049a4-b3e2-4123-b421-18b54e758e22",
   "metadata": {
    "editable": true,
    "slideshow": {
     "slide_type": ""
    },
    "tags": [
     "hide-cell",
     "solution"
    ]
   },
   "outputs": [],
   "source": [
    "pulse_offsets = sc.arange(\"tof\", 3.0) * sc.scalar(1.0 / 14.0, unit=\"s\").to(unit=\"ms\")\n",
    "\n",
    "tmin = 247.8\n",
    "tmax = 392.0\n",
    "pulse_edges = sc.linspace(\"tof\", tmin, tmax, 4, unit=\"ms\")\n",
    "\n",
    "folded = utils.fold_pulses(events_3_pulse, pulse_edges, pulse_offsets)\n",
    "\n",
    "folded.hist(tof=100, y=100).plot()"
   ]
  },
  {
   "cell_type": "markdown",
   "id": "0a6d1f63-d859-42d6-a89a-e96e2fef5f2a",
   "metadata": {
    "editable": true,
    "slideshow": {
     "slide_type": ""
    },
    "tags": []
   },
   "source": [
    "### Exercise 5: Compute energy transfer for folded data.\n",
    "\n",
    "Load the other two files with \"3_pulse\" runs and fold them in the same way.\n",
    "Then, apply the mask and compute `energy_transfer` in the same way as for the \"1_pulse\" data.\n",
    "If you made a function for the latter, you can reuse it here."
   ]
  },
  {
   "cell_type": "code",
   "execution_count": null,
   "id": "01592b76-ddbc-406d-9aa2-707bf7c80fca",
   "metadata": {
    "editable": true,
    "slideshow": {
     "slide_type": ""
    },
    "tags": [
     "hide-cell",
     "solution"
    ]
   },
   "outputs": [],
   "source": [
    "fnames = (\n",
    "    \"qens_elastic_3_pulse.h5\",\n",
    "    \"qens_known_quasi_elastic_3_pulse.h5\",\n",
    "    \"qens_unknown_quasi_elastic_3_pulse.h5\",\n",
    ")\n",
    "results_3_pulse = {}\n",
    "for fname in fnames:\n",
    "    events = utils.load_qens(fname)\n",
    "    folded = utils.fold_pulses(events, pulse_edges, pulse_offsets)\n",
    "    # Remove the 'qens_' prefix and '.h5' extension from the file name.\n",
    "    data_name = fname[5:-3]\n",
    "    results_3_pulse[data_name] = process_sample(folded)\n",
    "\n",
    "pp.plot(results_3_pulse)"
   ]
  },
  {
   "cell_type": "markdown",
   "id": "4fd3181f-96f4-4dd7-9e74-6ca37a127a91",
   "metadata": {
    "editable": true,
    "slideshow": {
     "slide_type": ""
    },
    "tags": []
   },
   "source": [
    "We can compare the \"1_pulse\" and \"3_pulse\" runs by making a plot.\n",
    "But since we are using total event counts, we need to normalize the histograms before we can compare them.\n",
    "\n",
    "The code below assumes that your histograms are stored in dicts called `results` (for \"1_pulse\") and `results_3_pulse`.\n",
    "You may need to adapt the code to work with your way of storing the results."
   ]
  },
  {
   "cell_type": "code",
   "execution_count": null,
   "id": "8d3d207b-2da3-4ffb-9dcb-cb261c5b2a12",
   "metadata": {
    "editable": true,
    "slideshow": {
     "slide_type": ""
    },
    "tags": []
   },
   "outputs": [],
   "source": [
    "n1 = results[\"known_quasi_elastic_1_pulse\"]\n",
    "n1 = n1 / sc.values(n1.sum())\n",
    "n3 = results_3_pulse[\"known_quasi_elastic_3_pulse\"]\n",
    "n3 = n3 / sc.values(n3.sum())\n",
    "pp.plot({\"known_quasi_elastic_1_pulse\": n1, \"known_quasi_elastic_3_pulse\": n3})"
   ]
  },
  {
   "cell_type": "markdown",
   "id": "083dbcea-e36d-4f23-9753-28ea0674e91b",
   "metadata": {
    "editable": true,
    "slideshow": {
     "slide_type": ""
    },
    "tags": []
   },
   "source": [
    "### Save results to disk\n",
    "\n",
    "Again, we save the final results to a text file."
   ]
  },
  {
   "cell_type": "code",
   "execution_count": null,
   "id": "65903df5-6d65-4b04-b82c-a272bb93df1e",
   "metadata": {
    "editable": true,
    "slideshow": {
     "slide_type": ""
    },
    "tags": []
   },
   "outputs": [],
   "source": [
    "for name, result in results_3_pulse.items():\n",
    "    # The simple file format does not support bin-edge coordinates.\n",
    "    # So we convert to bin-centers first.\n",
    "    data = result.copy()\n",
    "    data.coords[\"energy_transfer\"] = sc.midpoints(data.coords[\"energy_transfer\"])\n",
    "\n",
    "    scn.io.save_xye(f\"qens_energy_transfer_{name}.dat\", data)"
   ]
  }
 ],
 "metadata": {
  "kernelspec": {
   "display_name": "Python 3 (ipykernel)",
   "language": "python",
   "name": "python3"
  },
  "language_info": {
   "codemirror_mode": {
    "name": "ipython",
    "version": 3
   },
   "file_extension": ".py",
   "mimetype": "text/x-python",
   "name": "python",
   "nbconvert_exporter": "python",
   "pygments_lexer": "ipython3",
   "version": "3.10.10"
  }
 },
 "nbformat": 4,
 "nbformat_minor": 5
}
