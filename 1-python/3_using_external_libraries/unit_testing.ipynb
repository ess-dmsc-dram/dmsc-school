{
 "cells": [
  {
   "cell_type": "markdown",
   "id": "naughty-liberal",
   "metadata": {
    "editable": true,
    "slideshow": {
     "slide_type": ""
    },
    "tags": []
   },
   "source": [
    "# Unit testing\n",
    "\n",
    "This notebook introduces the basic concepts of testing programs.\n",
    "It focusses on simplicity and presents some basic techniques guides through important aspects to consider when writing tests.\n",
    "\n",
    "Please note that automatic tests are usually not placed in notebooks but in separate modules.\n",
    "This makes them easier to organise and run.\n",
    "\n",
    "We will use [pytest](https://docs.pytest.org/en/stable/index.html), an easy to use 3rd party tool for writing and running tests in Python.\n",
    "In addition, we will use some functionality from the [testing](https://numpy.org/doc/stable/reference/routines.testing.html) module of Numpy.\n",
    "There are many alternatives to those tools, most notably the [unittest](https://docs.python.org/3/library/unittest.html) package that comes with the Python standard library.\n",
    "\n",
    "## Magnetic Quantum Numbers\n",
    "\n",
    "We begin with a simple example.\n",
    "\n",
    "We want to implement a function which computes the allowed magnetic quantum numbers $m$ for any given angular momentum $j$.\n",
    "Remember that $m = -j, -j+1, \\ldots , j-1, j$. This function is implemented below.\n",
    "\n",
    "<div class=\"alert alert-info\">\n",
    "\n",
    "**Note:**\n",
    "\n",
    "The code samples are not always written in a clean way but are sometimes overly convoluted in order to garnish them with hidden bugs.\n",
    "If you are looking for advice on how to write good Python, look elsewhere!\n",
    "\n",
    "</div>"
   ]
  },
  {
   "cell_type": "code",
   "execution_count": null,
   "id": "distinct-howard",
   "metadata": {
    "editable": true,
    "slideshow": {
     "slide_type": ""
    },
    "tags": []
   },
   "outputs": [],
   "source": [
    "import numpy as np"
   ]
  },
  {
   "cell_type": "code",
   "execution_count": null,
   "id": "latest-passing",
   "metadata": {
    "editable": true,
    "slideshow": {
     "slide_type": ""
    },
    "tags": []
   },
   "outputs": [],
   "source": [
    "def magnetic_quantum_numbers(j):\n",
    "    \"\"\"\n",
    "    Returns a list of all magnetic quantum numbers for a given angular momentum j.\n",
    "    The results are sorted in ascending order.\n",
    "    \"\"\"\n",
    "    if j < 0:\n",
    "        raise ValueError(\"j must be greater equal 0\")\n",
    "    negative = np.arange(-j, 0)\n",
    "    positive = -negative[::-1]\n",
    "    return list(np.concatenate((negative, [0], positive)))"
   ]
  },
  {
   "cell_type": "markdown",
   "id": "accompanied-wednesday",
   "metadata": {
    "editable": true,
    "slideshow": {
     "slide_type": ""
    },
    "tags": []
   },
   "source": [
    "In order to test this function, we can compare its output to what we would expect. For example:\n",
    "- $j = 0 \\rightarrow m = 0$\n",
    "- $j = 1 \\rightarrow m = 0, \\pm1$\n",
    "\n",
    "According to its docstring, `magnetic_quantum_numbers` promises to return a list of numbers sorted in ascending order. This implies that for $j=0,1$, we expect to get `[0]` and `[-1, 0, 1]`, respectively.\n",
    "\n",
    "We can encode tests for these by using assertions. The `assert` keyword in Python takes a condition and, if that condition is false, raises an `AssertionError`."
   ]
  },
  {
   "cell_type": "code",
   "execution_count": null,
   "id": "conservative-thermal",
   "metadata": {
    "editable": true,
    "slideshow": {
     "slide_type": ""
    },
    "tags": []
   },
   "outputs": [],
   "source": [
    "assert magnetic_quantum_numbers(0) == [0]\n",
    "assert magnetic_quantum_numbers(1) == [-1, 0, 1]"
   ]
  },
  {
   "cell_type": "markdown",
   "id": "killing-wisconsin",
   "metadata": {
    "editable": true,
    "slideshow": {
     "slide_type": ""
    },
    "tags": []
   },
   "source": [
    "No output was produced which means that both assertions passed. Our tests were successful!\n",
    "\n",
    "If this is not clear enough for you, feel free to add a print statement at the end of a cell to notify you that the tests passed, see below.\n",
    "\n",
    "Those tests are great and all, but two tests are hardly enough. In particular, we have only used integer values for $j$. Let's try a half integer now:"
   ]
  },
  {
   "cell_type": "code",
   "execution_count": null,
   "id": "portable-tamil",
   "metadata": {
    "editable": true,
    "slideshow": {
     "slide_type": ""
    },
    "tags": [
     "raises-exception"
    ]
   },
   "outputs": [],
   "source": [
    "assert magnetic_quantum_numbers(0.5) == [-0.5, 0.5]\n",
    "print(\"Success!\")"
   ]
  },
  {
   "cell_type": "markdown",
   "id": "going-national",
   "metadata": {
    "editable": true,
    "slideshow": {
     "slide_type": ""
    },
    "tags": []
   },
   "source": [
    "This is not so great anymore. What you are seing above (if you executed the cell) is one of the aforementioned `AssertionErrors`.\n",
    "\n",
    "Unfortunately, it does not provide any useful information other than letting us know that the test failed.\n",
    "\n",
    "We will later see ways for getting better outputs for failed tests. For now, just look at the result of our function manually:"
   ]
  },
  {
   "cell_type": "code",
   "execution_count": null,
   "id": "sorted-moisture",
   "metadata": {
    "editable": true,
    "slideshow": {
     "slide_type": ""
    },
    "tags": []
   },
   "outputs": [],
   "source": [
    "magnetic_quantum_numbers(0.5)"
   ]
  },
  {
   "cell_type": "markdown",
   "id": "whole-dublin",
   "metadata": {
    "editable": true,
    "slideshow": {
     "slide_type": ""
    },
    "tags": []
   },
   "source": [
    "There is an extra 0 in the list. This was fine for integer $j$ but it should not be there for half integers.\n",
    "We will fix `magnetic_quantum_numbers` later, but for now we leave it as it is.\n",
    "\n",
    "### Error Modes\n",
    "\n",
    "Until now, we have only looked at the 'happy path' of our function, meaning that all inputs are valid and the computation goes through to the end, albeit sometimes incorrectly.\n",
    "\n",
    "But it is equally important to test the error paths.\n",
    "If a function does not detect failures or invalid inputs, it might silently produce garbage results that can be very hard to notice.\n",
    "\n",
    "***\n",
    "### Aside: Exceptions\n",
    "In Python, errors are almost always reported in the form of exceptions. Here, you do not need to understand exactly how they work. Put simply, in order to signal ('raise') an error, we write\n",
    "```python\n",
    "raise RuntimeError(\"message\")\n",
    "```\n",
    "We can pass any message we want to describe the error. There are multiple predefined error types in Python. `RuntimeError` is a general error that we can use in most situations. When a function argument is invalid, one usually raises a `ValueError`.\n",
    "***\n",
    "\n",
    "`magnetic_quantum_numbers` has two conditions for its input:\n",
    "- $j \\geq 0$\n",
    "- $j$ is an integer or half integer\n",
    "\n",
    "We thus expect our function to raise a `ValueError` if either condition is violated.\n",
    "In order to test for that we use the external package __[pytest](https://docs.pytest.org/en/stable/index.html)__ which provides many utilities for writing tests. Here, we need the context manager `pytest.raises`. Again, there is no need to understand what a context manager is. For our purposes, simply read\n",
    "```python\n",
    "with pytest.raises(ValueError):\n",
    "```\n",
    "as 'check that the indented code below it raises a `ValueError`'."
   ]
  },
  {
   "cell_type": "code",
   "execution_count": null,
   "id": "quality-request",
   "metadata": {
    "editable": true,
    "slideshow": {
     "slide_type": ""
    },
    "tags": [
     "raises-exception"
    ]
   },
   "outputs": [],
   "source": [
    "import pytest\n",
    "\n",
    "with pytest.raises(ValueError):\n",
    "    magnetic_quantum_numbers(-1)\n",
    "with pytest.raises(ValueError):\n",
    "    magnetic_quantum_numbers(0.2)"
   ]
  },
  {
   "cell_type": "markdown",
   "id": "mysterious-opinion",
   "metadata": {
    "editable": true,
    "slideshow": {
     "slide_type": ""
    },
    "tags": []
   },
   "source": [
    "Another failure! But look at the error message. Only the second test failed by not raising a `ValueError`. The first one succeded.\n",
    "\n",
    "Looking at the implementation of `magnetic_quantum_numbers` above shows that there is indeed a check for $j < 0$ but none for the integer condition.\n",
    "\n",
    "Below you can find a complete implementation which passes all of our tests. Feel free to try it out and write more tests."
   ]
  },
  {
   "cell_type": "code",
   "execution_count": null,
   "id": "structural-lancaster",
   "metadata": {
    "editable": true,
    "slideshow": {
     "slide_type": ""
    },
    "tags": []
   },
   "outputs": [],
   "source": [
    "def magnetic_quantum_numbers(j):\n",
    "    if j < 0:\n",
    "        raise ValueError(\"j must be greater equal 0\")\n",
    "    if (2 * j) != int(2 * j):\n",
    "        raise ValueError(\"j must be an integer or half integer\")\n",
    "    return list(np.arange(-j, j + 1, 1))\n",
    "\n",
    "\n",
    "with pytest.raises(ValueError):\n",
    "    magnetic_quantum_numbers(-1)\n",
    "with pytest.raises(ValueError):\n",
    "    magnetic_quantum_numbers(0.2)"
   ]
  },
  {
   "cell_type": "markdown",
   "id": "german-lucas",
   "metadata": {
    "editable": true,
    "slideshow": {
     "slide_type": ""
    },
    "tags": []
   },
   "source": [
    "## Zeeman Splitting\n",
    "\n",
    "We can now use our function to compute physical observables.\n",
    "As an example, we are going to look at the Zeeman effect.\n",
    "Let us start by reminding ourselves of the formula.\n",
    "\n",
    "The coupling of the spin and orbital angular momentum of an electron to an external magentic field $B$ shifts the energy level of that electron by\n",
    "$$\n",
    "\\Delta E = \\mu_B g_j m_j B ,\n",
    "$$\n",
    "where $\\mu_B$ is the Bohr Magneton, $g_j$ the Landé factor, and $m_j$ the magnetic quantum number that we computed above. For simplicity, we only look at energy shifts relative to the magnetic field and omit $B$ in the following.\n",
    "\n",
    "First, we define a function which computes all energy shifts for a given set of angular momenta:"
   ]
  },
  {
   "cell_type": "code",
   "execution_count": null,
   "id": "brave-recycling",
   "metadata": {
    "editable": true,
    "slideshow": {
     "slide_type": ""
    },
    "tags": []
   },
   "outputs": [],
   "source": [
    "def zeeman_shifts(j, l, s):\n",
    "    lande = 1 + (j * (j + 1) - l * (l + 1) + s * (s + 1)) / (2 * j * (j + 1))\n",
    "    magneton = physical_constants[\"Bohr magneton in eV/T\"][0]\n",
    "    magn = magnetic_quantum_numbers(j)\n",
    "    return [magneton * m * lande for m in magn]"
   ]
  },
  {
   "cell_type": "markdown",
   "id": "brutal-input",
   "metadata": {
    "editable": true,
    "slideshow": {
     "slide_type": ""
    },
    "tags": []
   },
   "source": [
    "We are now faced with a difficult problem.\n",
    "We have a piece of Python code which implements a mathematical equation.\n",
    "But how can we test whether those two match?\n",
    "Before, we had a simple rule for what the output should be.\n",
    "This made it easy to write some tests which compare the actual to the expected output.\n",
    "However now, it seems as though we need the output of our function in order to know what result it should produce in the first place.\n",
    "\n",
    "Luckily though, people have performed many calculations based on the Zeeman effect already.\n",
    "So we can pick one or more of those results and compare out implementation with them.\n",
    "\n",
    "Let us choose the Lyman-α line, meaning the transition of an electron from an $n = 2$ orbital to $n=1$ in hydrogen.\n",
    "The impact of the Zeeman effect on this transition depends on the angular momentum, of course.\n",
    "For a transition from $|n, l, j, m_j\\rangle = |2, 1, \\frac{1}{2}, +\\frac{1}{2}\\rangle$ to $|1, 0, \\frac{1}{2}, +\\frac{1}{2}\\rangle$, the Zeeman effect induced energy difference is $\\Delta E = - \\frac{2}{3} \\mu_B$.\n",
    "So let us use that as a test: (We have electrons, so $s = \\frac{1}{2}$ is fixed.)"
   ]
  },
  {
   "cell_type": "code",
   "execution_count": null,
   "id": "compound-shock",
   "metadata": {
    "editable": true,
    "slideshow": {
     "slide_type": ""
    },
    "tags": []
   },
   "outputs": [],
   "source": [
    "from scipy.constants import physical_constants\n",
    "\n",
    "# The `[0]` in physical_constants['name'][0] extracts the actual value.\n",
    "bohr_magneton = physical_constants[\"Bohr magneton in eV/T\"][0]\n",
    "before = zeeman_shifts(1 / 2, 1, 1 / 2)\n",
    "after = zeeman_shifts(1 / 2, 0, 1 / 2)\n",
    "assert before[1] - after[1] == -2 / 3 * bohr_magneton"
   ]
  },
  {
   "cell_type": "markdown",
   "id": "responsible-chair",
   "metadata": {
    "editable": true,
    "slideshow": {
     "slide_type": ""
    },
    "tags": []
   },
   "source": [
    "The test passes! Note that we are using `before[1]` and `after[1]`, which extract the $m_j = +\\frac{1}{2}$ elements according to"
   ]
  },
  {
   "cell_type": "code",
   "execution_count": null,
   "id": "extensive-attachment",
   "metadata": {
    "editable": true,
    "slideshow": {
     "slide_type": ""
    },
    "tags": []
   },
   "outputs": [],
   "source": [
    "magnetic_quantum_numbers(1 / 2)"
   ]
  },
  {
   "cell_type": "markdown",
   "id": "ancient-accounting",
   "metadata": {
    "editable": true,
    "slideshow": {
     "slide_type": ""
    },
    "tags": []
   },
   "source": [
    "As a nice bonus, we are loading the Bohr magneton from SciPy with a specific unit.\n",
    "This lets us check if our function uses the units we expect.\n",
    "\n",
    "There are a lot more transitions we can use. \n",
    "For instance, $|2, 1, \\frac{3}{2}, +\\frac{1}{2}\\rangle$ to $|1, 0, \\frac{1}{2}, -\\frac{1}{2}\\rangle$ has an energy of $\\frac{5}{3} \\mu_B$:"
   ]
  },
  {
   "cell_type": "code",
   "execution_count": null,
   "id": "honey-findings",
   "metadata": {
    "editable": true,
    "slideshow": {
     "slide_type": ""
    },
    "tags": [
     "raises-exception"
    ]
   },
   "outputs": [],
   "source": [
    "before = zeeman_shifts(3 / 2, 1, 1 / 2)\n",
    "after = zeeman_shifts(1 / 2, 0, 1 / 2)\n",
    "assert before[2] - after[0] == 5 / 3 * bohr_magneton"
   ]
  },
  {
   "cell_type": "markdown",
   "id": "turkish-fisher",
   "metadata": {
    "editable": true,
    "slideshow": {
     "slide_type": ""
    },
    "tags": []
   },
   "source": [
    "What happened this time? Again, the failure message does not give us a lot of information. So let's output the results ourselves:"
   ]
  },
  {
   "cell_type": "code",
   "execution_count": null,
   "id": "joint-veteran",
   "metadata": {
    "editable": true,
    "slideshow": {
     "slide_type": ""
    },
    "tags": []
   },
   "outputs": [],
   "source": [
    "print(before[2] - after[0])\n",
    "print(5 / 3 * bohr_magneton)"
   ]
  },
  {
   "cell_type": "markdown",
   "id": "phantom-classification",
   "metadata": {
    "editable": true,
    "slideshow": {
     "slide_type": ""
    },
    "tags": []
   },
   "source": [
    "Pretty close but not an exact match!\n",
    "The problem here is that we are performing calculations with floating point numbers.\n",
    "Those have limited precision and we cannot expect two equivalent calculations to produce exactly the same results unless they do  _exactly_ the same operations in _exactly_ the same order.\n",
    "\n",
    "This means that we should not use the equality operator (`==`) as above but rather test for approximate equality.\n",
    "A useful tool for this is the [`testing` module of numpy](https://numpy.org/doc/stable/reference/routines.testing.html).\n",
    "It provides [`assert_almost_equal`](https://numpy.org/doc/stable/reference/generated/numpy.testing.assert_almost_equal.html#numpy.testing.assert_almost_equal) which does what we need:"
   ]
  },
  {
   "cell_type": "code",
   "execution_count": null,
   "id": "understanding-prague",
   "metadata": {
    "editable": true,
    "slideshow": {
     "slide_type": ""
    },
    "tags": []
   },
   "outputs": [],
   "source": [
    "np.testing.assert_almost_equal(before[2] - after[0], 5 / 3 * bohr_magneton)"
   ]
  },
  {
   "cell_type": "markdown",
   "id": "decreased-inventory",
   "metadata": {
    "editable": true,
    "slideshow": {
     "slide_type": ""
    },
    "tags": []
   },
   "source": [
    "Now there is no output meaning that the test passes.\n",
    "\n",
    "We could keep going and add more tests and you should do this in practice. But these kinds of tests are often of limited use because we generally do not have known outputs that we can easily compare to.\n",
    "\n",
    "A different approach (potentially supplementing the above) is searching for simple cases where we know the correct result. One such case would be a particle without spin. Here, the interaction with the magnetic field depends only on the orbital angular momentum and should thus give an energy shift of $m_j \\mu_B$. And indeed, our implementation satisfies this:"
   ]
  },
  {
   "cell_type": "code",
   "execution_count": null,
   "id": "rocky-wholesale",
   "metadata": {
    "editable": true,
    "slideshow": {
     "slide_type": ""
    },
    "tags": []
   },
   "outputs": [],
   "source": [
    "j = 1  # l = j here\n",
    "magn = magnetic_quantum_numbers(j)\n",
    "delta_E = zeeman_shifts(j, j, 0)\n",
    "for i in range(len(magn)):\n",
    "    np.testing.assert_almost_equal(\n",
    "        delta_E[i], magn[i] * physical_constants[\"Bohr magneton in eV/T\"][0]\n",
    "    )"
   ]
  },
  {
   "cell_type": "markdown",
   "id": "alpha-scoop",
   "metadata": {
    "editable": true,
    "slideshow": {
     "slide_type": ""
    },
    "tags": []
   },
   "source": [
    "Yet another testing ansatz is searching for properties of the expected results that we can test without knowing the actual numerical values.\n",
    "An example is the length of the output.\n",
    "We know that `zeeman_shifts` has to produce a list with the same number of elements as `magnetic_quantum_numbers`.\n",
    "This gives us an opportunity for testing with a broad range of different inputs.\n",
    "\n",
    "Write tests comparing the lengths below.\n",
    "You can use the simple `assert` here because lengths are integers and can compare exactly equal.\n",
    "You can simply list a bunch of possible inputs `j`, `l`, `s` or, for extra points, write a loop / loops to iterate through several different values.\n",
    "Note that not all combinations are physically allowed: $j = l+s, l+s-1, \\ldots , |l-s|$"
   ]
  },
  {
   "cell_type": "markdown",
   "id": "cda4b049-5a2c-4a7f-9ec5-fc1fae55650d",
   "metadata": {
    "editable": true,
    "slideshow": {
     "slide_type": ""
    },
    "tags": []
   },
   "source": [
    "**Solution:**"
   ]
  },
  {
   "cell_type": "code",
   "execution_count": null,
   "id": "tracked-monitoring",
   "metadata": {
    "editable": true,
    "slideshow": {
     "slide_type": ""
    },
    "tags": [
     "hide-cell",
     "solution"
    ]
   },
   "outputs": [],
   "source": [
    "test_momenta = ((1, 1, 0), (1.5, 0, 1.5), (1.5, 1, 0.5), (0.5, 2, 1.5))\n",
    "for j, l, s in test_momenta:\n",
    "    assert len(magnetic_quantum_numbers(j)) == len(zeeman_shifts(j, l, s))"
   ]
  },
  {
   "cell_type": "markdown",
   "id": "prescribed-speed",
   "metadata": {
    "editable": true,
    "slideshow": {
     "slide_type": ""
    },
    "tags": []
   },
   "source": [
    "Another property is that $\\Delta E$ is proportional to $m_j$. This is a simple relationship that we can exploit! We can do so in two ways:\n",
    "- $m_j$ always appears in pairs with opposite sign except for $m_j=0$. The Zeeman shifts thus appear in pairs as well. We can write tests that match the corresponding elements. Mind the order of results produced by `magnetic_quantum_numbers`.\n",
    "- Alternatively, we divide out $m_j$ which should give us the same value for every list element returned by `zeeman_shifts`. There is one exception that needs to be handled differently: $m_j = 0$.\n",
    "\n",
    "As an exercise, implement one or both of these tests. While the second approach is more thorough, the first one can still be a good exercise. It might help to convert the list returned by `zeeman_shifts` to a numpy array first."
   ]
  },
  {
   "cell_type": "markdown",
   "id": "7eab796e-b3f3-4619-948a-b192504a571b",
   "metadata": {
    "editable": true,
    "slideshow": {
     "slide_type": ""
    },
    "tags": []
   },
   "source": [
    "**Solution:**"
   ]
  },
  {
   "cell_type": "code",
   "execution_count": null,
   "id": "ancient-instrumentation",
   "metadata": {
    "editable": true,
    "slideshow": {
     "slide_type": ""
    },
    "tags": [
     "hide-cell",
     "solution"
    ]
   },
   "outputs": [],
   "source": [
    "# point 1\n",
    "for j, l, s in test_momenta:\n",
    "    delta_E = zeeman_shifts(j, l, s)\n",
    "    for i in range(1, len(delta_E)):\n",
    "        print(i, len(delta_E) - i, len(delta_E))\n",
    "        np.testing.assert_almost_equal(delta_E[i], -delta_E[-i - 1])\n",
    "\n",
    "# point 2\n",
    "for j, l, s in test_momenta:\n",
    "    delta_E = zeeman_shifts(j, l, s)\n",
    "    m_j = magnetic_quantum_numbers(j)\n",
    "    reference = delta_E[0] / m_j[0]\n",
    "    for i in range(1, len(delta_E)):\n",
    "        if m_j[i] == 0:\n",
    "            np.testing.assert_almost_equal(delta_E[i], 0)\n",
    "        else:\n",
    "            np.testing.assert_almost_equal(delta_E[i] / m_j[i], reference)"
   ]
  },
  {
   "cell_type": "markdown",
   "id": "meaningful-squad",
   "metadata": {
    "editable": true,
    "slideshow": {
     "slide_type": ""
    },
    "tags": []
   },
   "source": [
    "A last test before we are done with the Zeeman effect.\n",
    "Earlier, we talked about how important it is to also test the error modes of our code.\n",
    "So let's do this! `zeeman_shifts` has the same conditions on `j` as `magnetic_quantum_numbers`:"
   ]
  },
  {
   "cell_type": "code",
   "execution_count": null,
   "id": "adjustable-defense",
   "metadata": {
    "editable": true,
    "slideshow": {
     "slide_type": ""
    },
    "tags": []
   },
   "outputs": [],
   "source": [
    "with pytest.raises(ValueError):\n",
    "    zeeman_shifts(0.2, 1, 0)"
   ]
  },
  {
   "cell_type": "code",
   "execution_count": null,
   "id": "gothic-rolling",
   "metadata": {
    "editable": true,
    "slideshow": {
     "slide_type": ""
    },
    "tags": [
     "raises-exception"
    ]
   },
   "outputs": [],
   "source": [
    "with pytest.raises(ValueError):\n",
    "    zeeman_shifts(-1, 1, 0)"
   ]
  },
  {
   "cell_type": "markdown",
   "id": "bearing-politics",
   "metadata": {
    "editable": true,
    "slideshow": {
     "slide_type": ""
    },
    "tags": []
   },
   "source": [
    "We see that `zeeman_shifts` inherited the check for values of $j$ that are not integers or half-integers.\n",
    "But passing in $j=-1$ triggers a different error which tells us something about the implementation of our function but is not very informative to a user. (Try out $j=-2$, too!)\n",
    "We can remedy the situation by adding a corresponding check to the beginning of `zeeman_shifts`. Feel free to do this as an exercise.\n",
    "\n",
    "But there are more potential errors.\n",
    "As already mentioned, there are physical restrictions on the allowed function arguments: $j = l+s, l+s-1, \\ldots , |l-s|$\n",
    "It is evident from the source code of `zeeman_shifts` that those are not verified.\n",
    "As an exercise, you can implement such a check in `zeeman_shifts` and add a corresponding test here:"
   ]
  },
  {
   "cell_type": "markdown",
   "id": "ed82dcf7-ac3c-4091-8988-92ec4c6c8275",
   "metadata": {
    "editable": true,
    "slideshow": {
     "slide_type": ""
    },
    "tags": []
   },
   "source": [
    "**Solution:**"
   ]
  },
  {
   "cell_type": "code",
   "execution_count": null,
   "id": "perfect-windows",
   "metadata": {
    "editable": true,
    "slideshow": {
     "slide_type": ""
    },
    "tags": [
     "hide-cell",
     "solution"
    ]
   },
   "outputs": [],
   "source": [
    "def zeeman_shifts(j, l, s):\n",
    "    if l + s < j or j < np.abs(l - s):\n",
    "        raise ValueError(f\"Angular momenta out of range: j={j}, l={l}, s={s}\")\n",
    "    if l != int(l):\n",
    "        raise ValueError(f\"Orbital angular momentum is not an integer: {l}\")\n",
    "    if s == int(s) and j != int(j):\n",
    "        raise ValueError(\n",
    "            f\"Spin is integer but total angular momentum is not: s={s}, j={j}\"\n",
    "        )\n",
    "    if s != int(s) and 2 * s == int(2 * s) and j == int(j):\n",
    "        raise ValueError(\n",
    "            f\"Spin is half integer but total angular momentum is integer: s={s}, j={j}\"\n",
    "        )\n",
    "    lande = 1 + (j * (j + 1) - l * (l + 1) + s * (s + 1)) / (2 * j * (j + 1))\n",
    "    magneton = physical_constants[\"Bohr magneton in eV/T\"][0]\n",
    "    magn = magnetic_quantum_numbers(j)\n",
    "    return [magneton * m * lande for m in magn]\n",
    "\n",
    "\n",
    "# out of range\n",
    "with pytest.raises(ValueError):\n",
    "    zeeman_shifts(-1, 0, 0)\n",
    "with pytest.raises(ValueError):\n",
    "    zeeman_shifts(-1, 4, 2)\n",
    "with pytest.raises(ValueError):\n",
    "    zeeman_shifts(1, 0, 0)\n",
    "with pytest.raises(ValueError):\n",
    "    zeeman_shifts(3, 1, 0.5)\n",
    "# orbital integer check\n",
    "with pytest.raises(ValueError):\n",
    "    zeeman_shifts(0.5, 0.5, 0)\n",
    "# j is incorrect category\n",
    "with pytest.raises(ValueError):\n",
    "    zeeman_shifts(1, 1, 0.5)\n",
    "with pytest.raises(ValueError):\n",
    "    zeeman_shifts(1.5, 1, 1)"
   ]
  },
  {
   "cell_type": "markdown",
   "id": "cross-wonder",
   "metadata": {
    "editable": true,
    "slideshow": {
     "slide_type": ""
    },
    "tags": []
   },
   "source": [
    "***\n",
    "# Exercises\n",
    "\n",
    "You can do the exercises in this section in any order you like.\n",
    "\n",
    "- [Fibonacci](#Fibonacci)\n",
    "- [Leap Years](#Leap-Years)\n",
    "- [Histogramming](#Histogramming)\n",
    "- [Chi squared](#Chi-Squared)\n",
    "- [Least Squares Fit](#Least-Squares-Fit)\n",
    "- [Energy Transfer](#Energy-Transfer)\n",
    "\n",
    "As mentioned in the beginning, tests are usually not written in separate modules instead of notebooks.\n",
    "All exercises are available in this notebook as well as `test_exercises.py`.\n",
    "The latter shows how you can organise tests in a module using pytest.\n",
    "Note, however, that the descriptions in this notebook are more thorough and contain nicely formatted equations.\n",
    "\n",
    "If you stick with the notebook, you might want to use an alternative to the `assert` keyword that provides more information on failure.\n",
    "You can just replace\n",
    "```python\n",
    "assert a == b\n",
    "```\n",
    "with\n",
    "```python\n",
    "np.testing.assert_equal(a, b)\n",
    "```\n",
    "\n",
    "\n",
    "<div class=\"alert alert-warning\">\n",
    "\n",
    "**Hint:**\n",
    "\n",
    "It is generally a good idea to perform 'black box testing', that is, writing tests without modifying or, where possible, even looking at the code that we test.\n",
    "The examples in this notebook contain an implementation of the functions that we want to test.\n",
    "Avoid reading those if possible and focus on the descriptions given in text or function docstrings.\n",
    "\n",
    "</div>"
   ]
  },
  {
   "cell_type": "markdown",
   "id": "cellular-regard",
   "metadata": {
    "editable": true,
    "slideshow": {
     "slide_type": ""
    },
    "tags": []
   },
   "source": [
    "## Fibonacci\n",
    "\n",
    "The Fibonacci sequence is a common example for a recursive function. Here we indeed have a recursive implementation that we want to test.\n",
    "This can of course be done with a number of examples that you can pick manually.\n",
    "\n",
    "However, there is a different approach. We can also compute the Fibonacci numbers using \n",
    "$$\n",
    "x_n = \\frac{\\varphi^n - {(1 - \\varphi)}^n}{\\sqrt{5}}\n",
    "$$\n",
    "and compare that with the recursive implementation.\n",
    "$\\varphi \\approx 1.61803399$ is the golden ratio.\n",
    "You can get a high precision approximation of it from scipy:\n",
    "```python\n",
    "from scipy.constants import golden\n",
    "```\n",
    "Make sure to convert the result of the above equation to an integer or use an approximate comparison when comparing the two implementations."
   ]
  },
  {
   "cell_type": "code",
   "execution_count": null,
   "id": "destroyed-degree",
   "metadata": {
    "editable": true,
    "slideshow": {
     "slide_type": ""
    },
    "tags": []
   },
   "outputs": [],
   "source": [
    "def fibonacci(n):\n",
    "    \"\"\"\n",
    "    Return the nth Fibonacci number.\n",
    "    \"\"\"\n",
    "    if n in (0, 1):\n",
    "        return n\n",
    "    return fibonacci(n - 1) + fibonacci(n - 2)"
   ]
  },
  {
   "cell_type": "markdown",
   "id": "9b30f365-4dba-4437-b9fd-cf794c48cced",
   "metadata": {
    "editable": true,
    "slideshow": {
     "slide_type": ""
    },
    "tags": []
   },
   "source": [
    "**Solution:**"
   ]
  },
  {
   "cell_type": "code",
   "execution_count": null,
   "id": "numerous-cooler",
   "metadata": {
    "editable": true,
    "slideshow": {
     "slide_type": ""
    },
    "tags": [
     "hide-cell",
     "solution"
    ]
   },
   "outputs": [],
   "source": [
    "def fibonacci(n):\n",
    "    \"\"\"\n",
    "    Return the nth Fibonacci number.\n",
    "    \"\"\"\n",
    "    if n < 0:\n",
    "        raise ValueError(\"Input must be a positive integer.\")\n",
    "    if n in (0, 1):\n",
    "        return n\n",
    "    return fibonacci(n - 1) + fibonacci(n - 2)\n",
    "\n",
    "\n",
    "from scipy.constants import golden\n",
    "\n",
    "\n",
    "def fib_golden(n):\n",
    "    return int((golden**n - (1 - golden) ** n) / np.sqrt(5))\n",
    "\n",
    "\n",
    "for i in range(20):\n",
    "    assert fibonacci(i) == fib_golden(i)\n",
    "\n",
    "with pytest.raises(ValueError):\n",
    "    fibonacci(-1)"
   ]
  },
  {
   "cell_type": "markdown",
   "id": "inappropriate-capital",
   "metadata": {
    "editable": true,
    "slideshow": {
     "slide_type": ""
    },
    "tags": []
   },
   "source": [
    "## Leap Years\n",
    "\n",
    "A leap year is any year that is divisible by 4 unless it is also divisible by 100 and not by 400. The author of the function tried to be clever but is it actually correct?"
   ]
  },
  {
   "cell_type": "code",
   "execution_count": null,
   "id": "literary-quality",
   "metadata": {
    "editable": true,
    "slideshow": {
     "slide_type": ""
    },
    "tags": []
   },
   "outputs": [],
   "source": [
    "def is_leapyear(year):\n",
    "    \"\"\"\n",
    "    Return True if year is a leap year, False otherwise.\n",
    "    \"\"\"\n",
    "    return year % 400 == year % 100 + year % 4 != 0"
   ]
  },
  {
   "cell_type": "markdown",
   "id": "df123528-9152-414f-a25c-7990f9005416",
   "metadata": {
    "editable": true,
    "slideshow": {
     "slide_type": ""
    },
    "tags": []
   },
   "source": [
    "**Solution:**"
   ]
  },
  {
   "cell_type": "code",
   "execution_count": null,
   "id": "offshore-johnston",
   "metadata": {
    "editable": true,
    "slideshow": {
     "slide_type": ""
    },
    "tags": [
     "raises-exception",
     "hide-cell",
     "solution"
    ]
   },
   "outputs": [],
   "source": [
    "assert not is_leapyear(1)\n",
    "assert not is_leapyear(2)\n",
    "assert not is_leapyear(3)\n",
    "assert is_leapyear(4)\n",
    "assert not is_leapyear(100)\n",
    "assert is_leapyear(400)\n",
    "assert is_leapyear(2020)\n",
    "assert is_leapyear(2000)\n",
    "assert not is_leapyear(1000)"
   ]
  },
  {
   "cell_type": "markdown",
   "id": "northern-discount",
   "metadata": {
    "editable": true,
    "slideshow": {
     "slide_type": ""
    },
    "tags": []
   },
   "source": [
    "## Histogramming\n",
    "\n",
    "Here, we have a simple function for building histograms. When testing it, remember to think of possible _edge_ cases. Also, are all conditions on the arguments validated? And of course, you can always compute the results for some small cases manually."
   ]
  },
  {
   "cell_type": "code",
   "execution_count": null,
   "id": "indoor-poland",
   "metadata": {
    "editable": true,
    "slideshow": {
     "slide_type": ""
    },
    "tags": []
   },
   "outputs": [],
   "source": [
    "def histogram(data, bin_edges):\n",
    "    \"\"\"\n",
    "    Construct a histogram of one dimensional data.\n",
    "\n",
    "    Arguments:\n",
    "      data: 1D array.\n",
    "      bin_edges: (len=nbins+1) 1D array of bin edges.\n",
    "                 Must be monotonically increasing.\n",
    "                 Bin i is in range [bin_edges[i], bin_edges[i+1]].\n",
    "    \"\"\"\n",
    "    hist = np.zeros(shape=[len(bin_edges) - 1], dtype=int)\n",
    "    for value in data:\n",
    "        for i in range(1, len(bin_edges)):\n",
    "            if value < bin_edges[i]:\n",
    "                hist[i - 1] += 1\n",
    "                break\n",
    "    return hist"
   ]
  },
  {
   "cell_type": "markdown",
   "id": "0f0d9e80-d624-4ce6-9a13-630491e88ac4",
   "metadata": {
    "editable": true,
    "slideshow": {
     "slide_type": ""
    },
    "tags": []
   },
   "source": [
    "**Solution:**"
   ]
  },
  {
   "cell_type": "code",
   "execution_count": null,
   "id": "forced-pennsylvania",
   "metadata": {
    "editable": true,
    "slideshow": {
     "slide_type": ""
    },
    "tags": [
     "raises-exception",
     "hide-cell",
     "solution"
    ]
   },
   "outputs": [],
   "source": [
    "edges = np.array([0, 1, 2, 3])\n",
    "# empty input\n",
    "np.testing.assert_array_equal(histogram(np.array([]), edges), [0, 0, 0])\n",
    "# input outside of bins\n",
    "np.testing.assert_array_equal(histogram(np.array([4, 3]), edges), [0, 0, 0])\n",
    "# manual examples\n",
    "np.testing.assert_array_equal(\n",
    "    histogram(np.array([0, 0.1, 0.6, 2, 2.2, 0.2]), edges), [4, 0, 2]\n",
    ")\n",
    "np.testing.assert_array_equal(\n",
    "    histogram(np.array([-0.5, 0.1, 1.2, 2.2, 2.2, 0.3]), np.array([-1, 1, 2, 3])),\n",
    "    [3, 1, 2],\n",
    ")\n",
    "np.testing.assert_array_equal(\n",
    "    histogram(np.array([-0.5, 0.1, 1.2, 2.2, 2.2, 0.3]), edges), [2, 1, 2]\n",
    ")\n",
    "# not monotonically increasing bins\n",
    "with pytest.raises(ValueError):\n",
    "    histogram(np.array([0, 0.1, 0.6, 2, 2.2, 0.2]), np.array([0, 1, 3, 2]))"
   ]
  },
  {
   "cell_type": "markdown",
   "id": "attempted-arabic",
   "metadata": {
    "editable": true,
    "slideshow": {
     "slide_type": ""
    },
    "tags": []
   },
   "source": [
    "## Chi Squared\n",
    "\n",
    "The goodness of a fit is often measured using $\\chi^2$.\n",
    "It is defined as the sum of square differences of a model and measurement data:\n",
    "$$\n",
    "\\chi^2 = \\sum_{i=1}^{N}\\, \\frac{{(y_{\\text{model},\\,i} - y_{\\text{meas},\\,i})}^2}{\\sigma^{2}_{i}}\n",
    "$$\n",
    "Things to consider: Does the function reproduce small examples? Are there specific inputs that make for very simple outputs? Are there any symmetries that you can test? Are there invalid arguments?"
   ]
  },
  {
   "cell_type": "code",
   "execution_count": null,
   "id": "satellite-product",
   "metadata": {
    "editable": true,
    "slideshow": {
     "slide_type": ""
    },
    "tags": []
   },
   "outputs": [],
   "source": [
    "def chi_squared(model, meas, errors):\n",
    "    return np.sum(((model - meas) / errors) ** 2)"
   ]
  },
  {
   "cell_type": "markdown",
   "id": "0b27b2d1-86f6-4507-b938-de1f9db9812d",
   "metadata": {
    "editable": true,
    "slideshow": {
     "slide_type": ""
    },
    "tags": []
   },
   "source": [
    "**Solution:**"
   ]
  },
  {
   "cell_type": "code",
   "execution_count": null,
   "id": "sharp-klein",
   "metadata": {
    "editable": true,
    "slideshow": {
     "slide_type": ""
    },
    "tags": [
     "hide-cell",
     "solution"
    ]
   },
   "outputs": [],
   "source": [
    "model = np.array([1, 4, 2, 3])\n",
    "meas = np.array([2, 4, 4, 2])\n",
    "errors = np.array([1, 2, 2, 1])\n",
    "# special cases\n",
    "np.testing.assert_almost_equal(chi_squared(model, model, errors), 0)\n",
    "np.testing.assert_almost_equal(\n",
    "    chi_squared(model, np.zeros(len(model)), np.ones(len(model))), np.sum(model**2)\n",
    ")\n",
    "# symmetry in model and meas\n",
    "np.testing.assert_almost_equal(\n",
    "    chi_squared(model, meas, errors), chi_squared(meas, model, errors)\n",
    ")\n",
    "# manually computed result\n",
    "np.testing.assert_almost_equal(chi_squared(model, meas, errors), 3)\n",
    "\n",
    "# length mismatches\n",
    "with pytest.raises(ValueError):\n",
    "    chi_squared(model, [1, 2], errors)\n",
    "with pytest.raises(ValueError):\n",
    "    chi_squared([1, 2, 3], meas, errors)\n",
    "with pytest.raises(ValueError):\n",
    "    chi_squared(model, meas, [1, 2, 3, 4, 5])"
   ]
  },
  {
   "cell_type": "markdown",
   "id": "simplified-serbia",
   "metadata": {
    "editable": true,
    "slideshow": {
     "slide_type": ""
    },
    "tags": []
   },
   "source": [
    "## Least Squares Fit\n",
    "\n",
    "<div class=\"alert alert-info\">\n",
    "\n",
    "**Note:**\n",
    "\n",
    "This is a potentially longer and more complicated exercise, feel free to skip it.\n",
    "\n",
    "</div>\n",
    "\n",
    "In this exercise, we are looking at fitting a parabola using the method of least squares. There is a fundamental difference to the other exercises. Here, we generally cannot sensibly construct an expected output because the fit has to deal with randomness. We can still test a number of special cases, though.\n",
    "Additionally, in cases like this one, it can make sense to do some (at least partially) manual tests. For example, we can perform a fit and plot the result to see if it makes sense."
   ]
  },
  {
   "cell_type": "code",
   "execution_count": null,
   "id": "rural-boxing",
   "metadata": {
    "editable": true,
    "slideshow": {
     "slide_type": ""
    },
    "tags": []
   },
   "outputs": [],
   "source": [
    "def fit_parabola(x, y_meas, errors):\n",
    "    \"\"\"\n",
    "    Perform a least squares fit of a parabola.\n",
    "\n",
    "    Arguments:\n",
    "      x: Independent variable.\n",
    "      y_meas: measured values of the dependent variable.\n",
    "      errors: Uncertainties of the measured values.\n",
    "\n",
    "    Returns:\n",
    "      Best fit results for the parameters of the parabola.\n",
    "    \"\"\"\n",
    "    X = np.array([np.ones_like(x), x, x**2]).T\n",
    "    V = np.diag(1 / errors**2)\n",
    "    return np.linalg.inv(X.T @ V @ X) @ X.T @ V @ y_meas"
   ]
  },
  {
   "cell_type": "markdown",
   "id": "0d5171da-9551-4df1-8acd-7b20be536b3b",
   "metadata": {
    "editable": true,
    "slideshow": {
     "slide_type": ""
    },
    "tags": []
   },
   "source": [
    "**Solution:**"
   ]
  },
  {
   "cell_type": "code",
   "execution_count": null,
   "id": "alert-longer",
   "metadata": {
    "editable": true,
    "slideshow": {
     "slide_type": ""
    },
    "tags": [
     "hide-cell",
     "solution"
    ]
   },
   "outputs": [],
   "source": [
    "import matplotlib.pyplot as plt\n",
    "\n",
    "\n",
    "def eval_parabola(x, params):\n",
    "    return params[0] + params[1] * x + params[2] * x**2\n",
    "\n",
    "\n",
    "# clean parabola\n",
    "x = np.linspace(-2, 4, 10)\n",
    "true_params = np.array([0.1, 1.2, -2.4])\n",
    "y_meas = eval_parabola(x, true_params)\n",
    "errors = np.full(len(y_meas), 0.01)\n",
    "best_fit = fit_parabola(x, y_meas, errors)\n",
    "np.testing.assert_almost_equal(true_params, best_fit)\n",
    "\n",
    "# mismatch in argument sizes\n",
    "with pytest.raises(ValueError):\n",
    "    fit_parabola(x, y_meas, np.array([1, 2]))\n",
    "with pytest.raises(ValueError):\n",
    "    fit_parabola(x, np.zeros(len(x) + 1), errors)\n",
    "with pytest.raises(ValueError):\n",
    "    fit_parabola(np.zeros(len(x) + 1), y_meas, errors)\n",
    "\n",
    "# noisy data\n",
    "x = np.linspace(-2, 4, 10)\n",
    "true_params = np.array([-0.4, 2.2, 3.14])\n",
    "errors = np.random.uniform(0.5, 3, len(x))\n",
    "y_meas = np.random.normal(eval_parabola(x, true_params), errors)\n",
    "best_fit = fit_parabola(x, y_meas, errors)\n",
    "# does not work!\n",
    "# np.testing.assert_almost_equal(true_params, best_fit)\n",
    "\n",
    "# plot the result to eyeball it\n",
    "plt.errorbar(x, y_meas, errors, ls=\"\", marker=\".\")\n",
    "plt.plot(x, eval_parabola(x, best_fit))"
   ]
  },
  {
   "cell_type": "markdown",
   "id": "domestic-statement",
   "metadata": {
    "editable": true,
    "slideshow": {
     "slide_type": ""
    },
    "tags": []
   },
   "source": [
    "## Energy Transfer\n",
    "\n",
    "The energy transfer in inelastic scattering of neutrons is\n",
    "- **Direct**:\n",
    "$$\n",
    "\\Delta E_{\\text{direct}} = E_i - \\frac{m_{\\text{n}} L_2^2}{2 (t - t_0)}\\, , \\quad t_0 = \\sqrt{\\frac{L_1^2 m_\\text{n}}{E_i}}\n",
    "$$\n",
    "\n",
    "- **Indirect**:\n",
    "$$\n",
    "\\Delta E_{\\text{indirect}} = \\frac{m_{\\text{n}} L_1^2}{2 (t - t_0)} - E_f\\, , \\quad t_0 = \\sqrt{\\frac{L_2^2 m_\\text{n}}{E_f}}\n",
    "$$\n",
    "\n",
    "where $E_i$, $E_f$ are the initial and final energy, respectively. $t$ is the time-of-flight, $m_{\\text{n}}$ is the neutron mass, and $L_1$ and $L_2$ are the lengths of the primary and secondary flight paths.\n",
    "\n",
    "As usual, try to find special cases where the equations become simpler and you can easily predict the output. Also, write tests with incorrect / nonsense input to check if the function reports errors properly.\n",
    "Mind the units given in the docstring.\n",
    "It is important to pick inputs with good order of magnitude, otherwise, we will have problems with floating point precision.\n",
    "You might need to increase the required precision of the assertions.\n",
    "This can be done like so:\n",
    "```python\n",
    "np.testing.assert_almost_equal(a, b, decimal=20)\n",
    "```\n",
    "see https://numpy.org/doc/stable/reference/generated/numpy.testing.assert_almost_equal.html#numpy.testing.assert_almost_equal."
   ]
  },
  {
   "cell_type": "code",
   "execution_count": null,
   "id": "distinguished-holmes",
   "metadata": {
    "editable": true,
    "slideshow": {
     "slide_type": ""
    },
    "tags": []
   },
   "outputs": [],
   "source": [
    "from scipy.constants import neutron_mass"
   ]
  },
  {
   "cell_type": "code",
   "execution_count": null,
   "id": "middle-webcam",
   "metadata": {
    "editable": true,
    "slideshow": {
     "slide_type": ""
    },
    "tags": []
   },
   "outputs": [],
   "source": [
    "def energy_transfer(ei_or_ef, tof, L1, L2, mode):\n",
    "    \"\"\"\n",
    "    Compute the energy transfer for inelastic neutron scattering.\n",
    "\n",
    "    Units in square brackets.\n",
    "\n",
    "    Arguments:\n",
    "      ei_or_ef: [J] In direct scattering: the initial energy.\n",
    "                    In indirect scattering: the final energy.\n",
    "      tof: [s] Time-of-flight.\n",
    "      L1: [m] Primary flight path.\n",
    "      L2: [m] Secondary flight path.\n",
    "      mode: Either 'direct' or 'indirect'.\n",
    "    \"\"\"\n",
    "    if mode == \"direct\":\n",
    "        t0 = np.sqrt(L1**2 * neutron_mass / ei_or_ef)\n",
    "    elif mode == \"indirect\":\n",
    "        t0 = np.sqrt(L2**2 * neutron_mass / ei_or_ef)\n",
    "    delta_t = tof - t0\n",
    "    return ei_or_ef - neutron_mass * L2**2 / 2 / delta_t**2"
   ]
  },
  {
   "cell_type": "markdown",
   "id": "aecbcae7-0ff6-49d0-b720-cc057a3cd409",
   "metadata": {
    "editable": true,
    "slideshow": {
     "slide_type": ""
    },
    "tags": []
   },
   "source": [
    "**Solution:**"
   ]
  },
  {
   "cell_type": "code",
   "execution_count": null,
   "id": "preliminary-maryland",
   "metadata": {
    "editable": true,
    "slideshow": {
     "slide_type": ""
    },
    "tags": [
     "raises-exception",
     "hide-cell",
     "solution"
    ]
   },
   "outputs": [],
   "source": [
    "from scipy.constants import physical_constants\n",
    "\n",
    "ei = 1000 * physical_constants[\"electron volt\"][0]  # J\n",
    "tof = 1e-6  # s\n",
    "mn = neutron_mass  # kg\n",
    "np.testing.assert_almost_equal(energy_transfer(ei, tof, 3.2, 0, \"direct\"), ei)\n",
    "assert energy_transfer(ei, tof, 1, 0.5, \"direct\") < ei\n",
    "np.testing.assert_almost_equal(\n",
    "    energy_transfer(ei, 1, 0, 1, \"direct\"), ei - neutron_mass / 2\n",
    ")\n",
    "\n",
    "ef = 23 * physical_constants[\"electron volt\"][0]  # J\n",
    "np.testing.assert_almost_equal(energy_transfer(ef, tof, 0, 0.5, \"indirect\"), ef)\n",
    "np.testing.assert_almost_equal(\n",
    "    energy_transfer(ef, 1, 1, 0, \"indirect\"), neutron_mass / 2 - ef, decimal=20\n",
    ")\n",
    "\n",
    "with pytest.raises(ValueError):\n",
    "    energy_transfer(ei, tof, 2, 1, \"invalid\")"
   ]
  }
 ],
 "metadata": {
  "kernelspec": {
   "display_name": "Python 3 (ipykernel)",
   "language": "python",
   "name": "python3"
  },
  "language_info": {
   "codemirror_mode": {
    "name": "ipython",
    "version": 3
   },
   "file_extension": ".py",
   "mimetype": "text/x-python",
   "name": "python",
   "nbconvert_exporter": "python",
   "pygments_lexer": "ipython3",
   "version": "3.10.10"
  }
 },
 "nbformat": 4,
 "nbformat_minor": 5
}
