{
 "cells": [
  {
   "cell_type": "code",
   "execution_count": null,
   "metadata": {},
   "outputs": [],
   "source": [
    "%matplotlib widget"
   ]
  },
  {
   "cell_type": "markdown",
   "id": "403b137b-6d4c-4d44-8a36-45c3380e74b1",
   "metadata": {
    "editable": true,
    "slideshow": {
     "slide_type": ""
    },
    "tags": []
   },
   "source": [
    "# SANS data reduction\n",
    "\n",
    "This notebook will guide you through the data reduction for the SANS experiment that you simulated with McStas yesterday.\n",
    "\n",
    "The following is a basic outline of what this notebook will cover:\n",
    "\n",
    "- Loading the NeXus files that contain the data\n",
    "- Inspect/visualize the data contents\n",
    "- How to convert the raw `time-of-flight` coordinate to something more useful ($\\lambda$, $Q$, ...)\n",
    "- Normalize to a flat field run\n",
    "- Write the results to file\n",
    "- Process more than one pulse"
   ]
  },
  {
   "cell_type": "code",
   "execution_count": null,
   "id": "0bfa10eb-2a03-4672-802d-9d8f5620c9c5",
   "metadata": {
    "editable": true,
    "slideshow": {
     "slide_type": ""
    },
    "tags": []
   },
   "outputs": [],
   "source": [
    "import numpy as np\n",
    "import scipp as sc\n",
    "import plopp as pp\n",
    "import utils"
   ]
  },
  {
   "cell_type": "markdown",
   "id": "2319763f-3ef7-411b-8bf9-3d9635b314dd",
   "metadata": {
    "editable": true,
    "slideshow": {
     "slide_type": ""
    },
    "tags": []
   },
   "source": [
    "## Process the run with a sample\n",
    "\n",
    "### Load the NeXus file data"
   ]
  },
  {
   "cell_type": "code",
   "execution_count": null,
   "id": "6aff8748-d983-4dca-9330-1acaffc676d0",
   "metadata": {
    "editable": true,
    "slideshow": {
     "slide_type": ""
    },
    "tags": []
   },
   "outputs": [],
   "source": [
    "folder = \"../3-mcstas/SANS_with_sample_1_pulse\"\n",
    "\n",
    "sample = utils.load_sans(folder)"
   ]
  },
  {
   "cell_type": "markdown",
   "id": "82e79171-532d-45c9-953d-fadac3d1e963",
   "metadata": {
    "editable": true,
    "slideshow": {
     "slide_type": ""
    },
    "tags": []
   },
   "source": [
    "The first way to inspect the data is to view the HTML representation of the loaded object.\n",
    "\n",
    "Try to explore what is inside the data, and familiarize yourself with the different sections (`Dimensions`, `Coordinates`, `Data`)."
   ]
  },
  {
   "cell_type": "code",
   "execution_count": null,
   "id": "bf4e4857-739c-4d6d-94bc-14b6e2fd3da7",
   "metadata": {
    "editable": true,
    "slideshow": {
     "slide_type": ""
    },
    "tags": []
   },
   "outputs": [],
   "source": [
    "sample"
   ]
  },
  {
   "cell_type": "markdown",
   "id": "d337b0c8-9836-4338-80c2-6a4155c816e2",
   "metadata": {
    "editable": true,
    "slideshow": {
     "slide_type": ""
    },
    "tags": []
   },
   "source": [
    "### Visualize the data\n",
    "\n",
    "Here is a 2D visualization of the neutron counts, histogrammed along the `tof` and `y` dimensions:"
   ]
  },
  {
   "cell_type": "code",
   "execution_count": null,
   "id": "31ef1533-c991-40bc-a840-9713e5b132cb",
   "metadata": {
    "editable": true,
    "slideshow": {
     "slide_type": ""
    },
    "tags": []
   },
   "outputs": [],
   "source": [
    "sample.hist(tof=200, y=200).plot(norm=\"log\", vmin=1.0e-2)"
   ]
  },
  {
   "cell_type": "markdown",
   "id": "b3db4e2a-b79a-4866-9fef-5c2b315319eb",
   "metadata": {
    "editable": true,
    "slideshow": {
     "slide_type": ""
    },
    "tags": []
   },
   "source": [
    "Histogramming along `y` only gives a 1D plot:"
   ]
  },
  {
   "cell_type": "code",
   "execution_count": null,
   "id": "e7632c23-31ba-42dd-a118-75f4c821511d",
   "metadata": {
    "editable": true,
    "slideshow": {
     "slide_type": ""
    },
    "tags": []
   },
   "outputs": [],
   "source": [
    "sample.hist(y=200).plot(norm=\"log\")"
   ]
  },
  {
   "cell_type": "markdown",
   "id": "6e377969-cae6-44f3-a5cf-11c0df008e11",
   "metadata": {
    "editable": true,
    "slideshow": {
     "slide_type": ""
    },
    "tags": []
   },
   "source": [
    "### Coordinate transformations\n",
    "\n",
    "The first step in the data reduction is to convert the raw event coordinates (position, time-of-flight) to something physically meaningful such as wavelength ($\\lambda$) or momentum transfer ($Q$).\n",
    "\n",
    "Scipp has a dedicated method for this called `transform_coords` (see docs [here](https://scipp.github.io/scippneutron/user-guide/coordinate-transformations.html)).\n",
    "\n",
    "We begin with a standard graph which describes how to compute e.g. the wavelength from the other coordinates in the raw data."
   ]
  },
  {
   "cell_type": "code",
   "execution_count": null,
   "id": "5b4e0704-015c-47a1-a591-b9685eee9072",
   "metadata": {
    "editable": true,
    "slideshow": {
     "slide_type": ""
    },
    "tags": []
   },
   "outputs": [],
   "source": [
    "from scippneutron.conversion.graph.beamline import beamline\n",
    "from scippneutron.conversion.graph.tof import kinematic\n",
    "\n",
    "graph = {**beamline(scatter=True), **kinematic(\"tof\")}\n",
    "sc.show_graph(graph, simplified=True)"
   ]
  },
  {
   "cell_type": "markdown",
   "id": "e2ed91bc-43f8-424c-b84b-fadbfb2b106a",
   "metadata": {
    "editable": true,
    "slideshow": {
     "slide_type": ""
    },
    "tags": []
   },
   "source": [
    "To compute the wavelength of all the events, we simply call `transform_coords` on our loaded data,\n",
    "requesting the name of the coordinate we want in the output (`\"wavelength\"`),\n",
    "as well as providing it the graph to be used to compute it (i.e. the one we defined just above).\n",
    "\n",
    "This yields"
   ]
  },
  {
   "cell_type": "code",
   "execution_count": null,
   "id": "2c013a72-4006-472a-8f45-f63187adae19",
   "metadata": {
    "editable": true,
    "slideshow": {
     "slide_type": ""
    },
    "tags": []
   },
   "outputs": [],
   "source": [
    "sample_wav = sample.transform_coords(\"wavelength\", graph=graph)\n",
    "sample_wav"
   ]
  },
  {
   "cell_type": "markdown",
   "id": "13ac3430-4024-4354-9f4c-cea499c4dca2",
   "metadata": {
    "editable": true,
    "slideshow": {
     "slide_type": ""
    },
    "tags": []
   },
   "source": [
    "The result has a `wavelength` coordinate. We can also plot the result:"
   ]
  },
  {
   "cell_type": "code",
   "execution_count": null,
   "id": "1a05518c-7537-4cf2-89f2-781af5257ee2",
   "metadata": {
    "editable": true,
    "slideshow": {
     "slide_type": ""
    },
    "tags": []
   },
   "outputs": [],
   "source": [
    "sample_wav.hist(wavelength=200).plot()"
   ]
  },
  {
   "cell_type": "markdown",
   "id": "1d6485a2-5c0b-45f8-8099-76b2e60cbcea",
   "metadata": {
    "editable": true,
    "slideshow": {
     "slide_type": ""
    },
    "tags": []
   },
   "source": [
    "We can see that the range of observed wavelengths agrees with the range set in the McStas model (5.25 - 6.75 \u00c5)"
   ]
  },
  {
   "cell_type": "markdown",
   "id": "2f24c81d-09ce-47fb-ab85-373f2a38facb",
   "metadata": {
    "editable": true,
    "slideshow": {
     "slide_type": ""
    },
    "tags": []
   },
   "source": [
    "### Exercise 1: convert raw data to $Q$\n",
    "\n",
    "Instead of wavelength as in the example above,\n",
    "the task is now to convert the raw data to momentum-transfer $Q$.\n",
    "\n",
    "The transformation graph is missing the computation for $Q$ so you will have to add it in yourself.\n",
    "As a reminder, $Q$ is computed as follows\n",
    "\n",
    "$$Q = \\frac{4\\pi \\sin(\\theta)}{\\lambda}$$\n",
    "\n",
    "You have to:\n",
    "\n",
    "- create a function that computes $Q$\n",
    "- add it to the graph\n",
    "- call `transform_coords` using the new graph"
   ]
  },
  {
   "cell_type": "markdown",
   "id": "064ea76d-0138-4629-8d8a-71520192933c",
   "metadata": {
    "editable": true,
    "slideshow": {
     "slide_type": ""
    },
    "tags": []
   },
   "source": [
    "**Solution:**"
   ]
  },
  {
   "cell_type": "code",
   "execution_count": null,
   "metadata": {},
   "outputs": [],
   "source": [
    "# Insert your solution:\n"
   ]
  },
  {
   "cell_type": "markdown",
   "id": "6334deda-d505-40c9-8fb7-25f1fdda6054",
   "metadata": {
    "editable": true,
    "slideshow": {
     "slide_type": ""
    },
    "tags": []
   },
   "source": [
    "### Histogram the data in $Q$\n",
    "\n",
    "The final step in processing the sample run is to histogram the data into $Q$ bins."
   ]
  },
  {
   "cell_type": "code",
   "execution_count": null,
   "id": "44e6ba9f-3255-4491-9760-e817da9c1820",
   "metadata": {
    "editable": true,
    "slideshow": {
     "slide_type": ""
    },
    "tags": []
   },
   "outputs": [],
   "source": [
    "sample_h = sample_q.hist(Q=200)\n",
    "sample_h.plot(norm=\"log\", vmin=1)"
   ]
  },
  {
   "cell_type": "markdown",
   "id": "a3db945e-dc69-482f-ba62-d5e23a6bc1ad",
   "metadata": {
    "editable": true,
    "slideshow": {
     "slide_type": ""
    },
    "tags": []
   },
   "source": [
    "The histogrammed data currently has no standard deviations on the counts.\n",
    "This needs to be added after we have performed the histogramming operation.\n",
    "\n",
    "When dealing with neutron events, we assume the data has a Poisson distribution.\n",
    "This means that the variance in a bin is equal to the counts in that bin\n",
    "(the standard deviation is then $\\sigma = \\sqrt{\\mathrm{counts}}$).\n",
    "\n",
    "We provide a helper function that will add Poisson variances to any given input:"
   ]
  },
  {
   "cell_type": "code",
   "execution_count": null,
   "id": "5b04672f-a7e1-4c61-8921-6e4a8615fd44",
   "metadata": {
    "editable": true,
    "slideshow": {
     "slide_type": ""
    },
    "tags": []
   },
   "outputs": [],
   "source": [
    "utils.add_variances(sample_h)\n",
    "sample_h.data"
   ]
  },
  {
   "cell_type": "code",
   "execution_count": null,
   "id": "832f4a50-f14f-4442-8010-8aa1f46695ef",
   "metadata": {
    "editable": true,
    "slideshow": {
     "slide_type": ""
    },
    "tags": []
   },
   "outputs": [],
   "source": [
    "sample_h.plot(norm=\"log\", vmin=1)"
   ]
  },
  {
   "cell_type": "markdown",
   "id": "a4ba424c-05f1-436d-be55-25c7736b9ade",
   "metadata": {
    "editable": true,
    "slideshow": {
     "slide_type": ""
    },
    "tags": []
   },
   "source": [
    "## Exercise 2: process flat-field run\n",
    "\n",
    "Repeat the step carried out above for the run that contained no sample (also known as a \"flat-field\" run)."
   ]
  },
  {
   "cell_type": "markdown",
   "id": "8fef658d-b88a-4fce-96c2-6a2a6408e250",
   "metadata": {
    "editable": true,
    "slideshow": {
     "slide_type": ""
    },
    "tags": []
   },
   "source": [
    "**Solution:**"
   ]
  },
  {
   "cell_type": "code",
   "execution_count": null,
   "metadata": {},
   "outputs": [],
   "source": [
    "# Insert your solution:\n"
   ]
  },
  {
   "cell_type": "markdown",
   "id": "14116ebb-7ab7-496a-b4f6-db97ae5ab9f5",
   "metadata": {
    "editable": true,
    "slideshow": {
     "slide_type": ""
    },
    "tags": []
   },
   "source": [
    "**Bonus question:** can you explain why the counts in the flat-field data drop at high $Q$?\n",
    "\n",
    "## Exercise 3: Normalize the sample run\n",
    "\n",
    "The flat-field run is giving a measure of the efficiency of each detector pixel.\n",
    "This efficiency now needs to be used to correct the counts in the sample run to yield a realistic $I(Q)$ profile.\n",
    "\n",
    "In particular, this should remove any unwanted artifacts in the data,\n",
    "such as the drop in counts around 0.03 \u00c5<sup>-1</sup> due to the air bubble inside the detector tube.\n",
    "\n",
    "Normalizing is essentially just dividing the sample run by the flat field run.\n",
    "\n",
    "**Hint:** you may run into an error like `\"Mismatch in coordinate 'Q'\"`. Why is this happening? How can you get around it?"
   ]
  },
  {
   "cell_type": "markdown",
   "id": "896e8fd7-c8d5-428e-a85d-049bdb4ebcb5",
   "metadata": {
    "editable": true,
    "slideshow": {
     "slide_type": ""
    },
    "tags": []
   },
   "source": [
    "**Solution:**"
   ]
  },
  {
   "cell_type": "code",
   "execution_count": null,
   "metadata": {},
   "outputs": [],
   "source": [
    "# Insert your solution:\n"
   ]
  },
  {
   "cell_type": "code",
   "execution_count": null,
   "metadata": {},
   "outputs": [],
   "source": [
    "# Insert your solution:\n"
   ]
  },
  {
   "cell_type": "code",
   "execution_count": null,
   "id": "5750dd8a-a445-44d0-84a2-18eb9433e92b",
   "metadata": {
    "editable": true,
    "slideshow": {
     "slide_type": ""
    },
    "tags": []
   },
   "outputs": [],
   "source": [
    "normed.plot(norm=\"log\", vmin=1.0e-3, vmax=10.0)"
   ]
  },
  {
   "cell_type": "markdown",
   "id": "e17a5ace-57af-447a-bcbb-1337f0bed86b",
   "metadata": {
    "editable": true,
    "slideshow": {
     "slide_type": ""
    },
    "tags": []
   },
   "source": [
    "## Save result to disk\n",
    "\n",
    "Finally, we need to save our results to disk,\n",
    "so that the reduced data can be forwarded to the next step in the pipeline (data analysis).\n",
    "\n",
    "We will use a simple text file for this:"
   ]
  },
  {
   "cell_type": "code",
   "execution_count": null,
   "id": "7f69249a-f61f-457a-8a86-e9487b4b9dba",
   "metadata": {
    "editable": true,
    "slideshow": {
     "slide_type": ""
    },
    "tags": []
   },
   "outputs": [],
   "source": [
    "from scippneutron.io import save_xye\n",
    "\n",
    "# The simple file format does not support bin-edge coordinates.\n",
    "# So we convert to bin-centers first.\n",
    "data = normed.copy()\n",
    "data.coords[\"Q\"] = sc.midpoints(data.coords[\"Q\"])\n",
    "\n",
    "save_xye(\"sans_iofq.dat\", data)"
   ]
  },
  {
   "cell_type": "markdown",
   "id": "dc74c0b5-300a-436f-af3f-0f6cb138ff0b",
   "metadata": {
    "editable": true,
    "slideshow": {
     "slide_type": ""
    },
    "tags": []
   },
   "source": [
    "## Process data from 3 pulses\n",
    "\n",
    "We now want to repeat the reduction, but using more than a single pulse to improve our statistics.\n",
    "\n",
    "We begin by loading the run with 3 pulses."
   ]
  },
  {
   "cell_type": "code",
   "execution_count": null,
   "id": "848b6c47-f0b9-429d-8548-833ce553316d",
   "metadata": {
    "editable": true,
    "slideshow": {
     "slide_type": ""
    },
    "tags": []
   },
   "outputs": [],
   "source": [
    "folder = \"../3-mcstas/SANS_with_sample_3_pulse\"\n",
    "sample = utils.load_sans(folder)\n",
    "sample"
   ]
  },
  {
   "cell_type": "code",
   "execution_count": null,
   "id": "48e44873-40a9-475f-bec5-4148bad9636f",
   "metadata": {
    "editable": true,
    "slideshow": {
     "slide_type": ""
    },
    "tags": []
   },
   "outputs": [],
   "source": [
    "sample.hist(tof=200, y=200).plot(norm=\"log\", vmin=1.0e-2)"
   ]
  },
  {
   "cell_type": "markdown",
   "id": "9be6caf8-bdd0-4d96-90ae-711baba71aff",
   "metadata": {
    "editable": true,
    "slideshow": {
     "slide_type": ""
    },
    "tags": []
   },
   "source": [
    "We can see that we have 3 distinct pulses (3 horizontal bands of events).\n",
    "\n",
    "In order to combine the data from the 3 pulses (also known as 'pulse folding'),\n",
    "we need to compute a neutron time-of-flight relative to the start of each pulses, instead of absolute time.\n",
    "\n",
    "### Exercise 4: fold the pulses\n",
    "\n",
    "You are provided with a function that will perform the folding correctly,\n",
    "assuming you supply it the correct inputs."
   ]
  },
  {
   "cell_type": "code",
   "execution_count": null,
   "id": "7b0daed2-e34c-49b9-8f2c-3ea5646007e0",
   "metadata": {
    "editable": true,
    "slideshow": {
     "slide_type": ""
    },
    "tags": []
   },
   "outputs": [],
   "source": [
    "help(utils.fold_pulses)"
   ]
  },
  {
   "cell_type": "markdown",
   "id": "a3bd4ba9-725c-4afb-94ca-973170aee3a3",
   "metadata": {
    "editable": true,
    "slideshow": {
     "slide_type": ""
    },
    "tags": []
   },
   "source": [
    "Instead of reading the bin edges off the figure above,\n",
    "you should try to compute your bin edges in a way that is based on some known parameters of your simulation (e.g. wavelength range) as well as the physical layout of the instrument.\n",
    "\n",
    "**Hints:**\n",
    "\n",
    "- You have 3 pulses, so you need to supply 4 time-of-flight edges\n",
    "- Assume the first pulse has a zero time offset\n",
    "- The frequency of the ESS source is 14 Hz\n",
    "- To convert neutron wavelength to speed, you can use: $~~~~v = \\displaystyle\\frac{h}{m_{\\mathrm{n}}\\lambda} $"
   ]
  },
  {
   "cell_type": "markdown",
   "id": "9f4987c4-91dc-4de2-80c4-6284261abff0",
   "metadata": {
    "editable": true,
    "slideshow": {
     "slide_type": ""
    },
    "tags": []
   },
   "source": [
    "**Solution:**"
   ]
  },
  {
   "cell_type": "code",
   "execution_count": null,
   "metadata": {},
   "outputs": [],
   "source": [
    "# Insert your solution:\n"
   ]
  },
  {
   "cell_type": "code",
   "execution_count": null,
   "metadata": {},
   "outputs": [],
   "source": [
    "# Insert your solution:\n"
   ]
  },
  {
   "cell_type": "code",
   "execution_count": null,
   "metadata": {},
   "outputs": [],
   "source": [
    "# Insert your solution:\n"
   ]
  },
  {
   "cell_type": "code",
   "execution_count": null,
   "metadata": {},
   "outputs": [],
   "source": [
    "# Insert your solution:\n"
   ]
  },
  {
   "cell_type": "code",
   "execution_count": null,
   "metadata": {},
   "outputs": [],
   "source": [
    "# Insert your solution:\n"
   ]
  },
  {
   "cell_type": "code",
   "execution_count": null,
   "metadata": {},
   "outputs": [],
   "source": [
    "# Insert your solution:\n"
   ]
  },
  {
   "cell_type": "markdown",
   "id": "0d8a1bc4-0700-4666-bf12-f2a47ede6a81",
   "metadata": {
    "editable": true,
    "slideshow": {
     "slide_type": ""
    },
    "tags": []
   },
   "source": [
    "## Save results to disk\n",
    "\n",
    "Once again, we need to save our results to disk:"
   ]
  },
  {
   "cell_type": "code",
   "execution_count": null,
   "id": "4391e179-71f6-49a4-9bd2-dc0e0235b5f5",
   "metadata": {
    "editable": true,
    "slideshow": {
     "slide_type": ""
    },
    "tags": []
   },
   "outputs": [],
   "source": [
    "data = folded_normed.copy()\n",
    "data.coords[\"Q\"] = sc.midpoints(data.coords[\"Q\"])\n",
    "\n",
    "save_xye(\"sans_iofq_3pulses.dat\", data)"
   ]
  }
 ],
 "metadata": {
  "kernelspec": {
   "display_name": "Python 3 (ipykernel)",
   "language": "python",
   "name": "python3"
  },
  "language_info": {
   "codemirror_mode": {
    "name": "ipython",
    "version": 3
   },
   "file_extension": ".py",
   "mimetype": "text/x-python",
   "name": "python",
   "nbconvert_exporter": "python",
   "pygments_lexer": "ipython3",
   "version": "3.11.9"
  }
 },
 "nbformat": 4,
 "nbformat_minor": 5
}
