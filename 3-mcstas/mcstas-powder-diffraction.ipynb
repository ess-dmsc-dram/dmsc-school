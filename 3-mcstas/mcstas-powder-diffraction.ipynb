{
 "cells": [
  {
   "cell_type": "code",
   "execution_count": null,
   "id": "egyptian-salvation",
   "metadata": {
    "editable": true,
    "slideshow": {
     "slide_type": ""
    },
    "tags": []
   },
   "outputs": [],
   "source": [
    "import mcstasscript as ms\n",
    "import make_powder_instrument\n",
    "from mcstasutils import plot\n",
    "import quizlib"
   ]
  },
  {
   "cell_type": "code",
   "execution_count": null,
   "id": "obvious-meeting",
   "metadata": {
    "editable": true,
    "slideshow": {
     "slide_type": ""
    },
    "tags": []
   },
   "outputs": [],
   "source": [
    "quiz = quizlib.Powder_Quiz()"
   ]
  },
  {
   "cell_type": "markdown",
   "id": "unexpected-mandate",
   "metadata": {
    "editable": true,
    "slideshow": {
     "slide_type": ""
    },
    "tags": []
   },
   "source": [
    "# Powder diffraction exercise\n",
    "\n",
    "#### Diffraction\n",
    "Diffraction instruments aim to measure the elastic scattering from the sample, meaning the neutron does not change energy. Since elastic scattering is much more probable than inelastic scattering, diffraction instruments typically assume all neutrons has the same energy before and after interacting with the sample. The elastic signal provides information on the crystal structure of the sample through Braggs law, $n\\lambda = 2d \\text{sin}(\\theta)$, where $n$ is the scattering order, $\\lambda$ is the neutron wavelength, $d$ is a distance between two planes of atoms in the sample and $\\theta$ is the scattering angle. There will be many different planes of atoms in a crystal, and by measuring the distance between many of these the crystal structure can be asertained through analysis. Thus a diffractometer needs to measure scattering intensity as a function of neutron wavelength $\\lambda$ and scattering angle $\\theta$.\n",
    "\n",
    "#### Powder diffraction\n",
    "This instrument is a powder diffractometer, meaning the measurements are performed on a powder which have all crystal orientations. For this reason there is no need to rotate the sample. It is however relevant to measure a large range of scattering angles, as each can be in the bragg condition simultaniously.\n",
    "\n",
    "#### This exercise\n",
    "In this notebook you will work with a McStas model of a simplified powder diffraction instrument.\n",
    "You will have to answer questions in the notebook by working with this model, both by running simulations and expanding the model.\n",
    "We will use the Python McStas API McStasScript to work with the instrument, you can find documentation [here](https://mads-bertelsen.github.io).\n",
    "\n",
    "### Get the instrument object\n",
    "First we need the McStas instrument object. Here it is retrieved from a local python function that generates it."
   ]
  },
  {
   "cell_type": "code",
   "execution_count": null,
   "id": "loose-workstation",
   "metadata": {
    "editable": true,
    "slideshow": {
     "slide_type": ""
    },
    "tags": []
   },
   "outputs": [],
   "source": [
    "instrument = make_powder_instrument.make()"
   ]
  },
  {
   "cell_type": "markdown",
   "id": "continued-thong",
   "metadata": {
    "editable": true,
    "slideshow": {
     "slide_type": ""
    },
    "tags": []
   },
   "source": [
    "## Investigate instrument\n",
    "The first task is to investigate the instrument object `instrument` using some of the available methods available on that object. Each method that show something about the instrument starts with the word show, so you can use tab to autocomplete in the cell to see the relevant methods.\n",
    "\n",
    "In particular, look at what parameters are available and take a look at the instrument geometry."
   ]
  },
  {
   "cell_type": "code",
   "execution_count": null,
   "id": "conceptual-knitting",
   "metadata": {
    "editable": true,
    "slideshow": {
     "slide_type": ""
    },
    "tags": [
     "solution",
     "hide-cell"
    ]
   },
   "outputs": [],
   "source": [
    "instrument.show_parameters()"
   ]
  },
  {
   "cell_type": "code",
   "execution_count": null,
   "id": "e8590aee-6c17-4ea7-b3e3-e7a33dd37e26",
   "metadata": {
    "editable": true,
    "slideshow": {
     "slide_type": ""
    },
    "tags": [
     "solution",
     "remove-cell",
     "dmsc-school-keep"
    ]
   },
   "outputs": [],
   "source": [
    "instrument.show_instrument()"
   ]
  },
  {
   "cell_type": "code",
   "execution_count": null,
   "id": "secret-surrey",
   "metadata": {
    "editable": true,
    "slideshow": {
     "slide_type": ""
    },
    "tags": [
     "solution",
     "hide-cell"
    ]
   },
   "outputs": [],
   "source": [
    "instrument.show_diagram()"
   ]
  },
  {
   "cell_type": "markdown",
   "id": "6dd52c67-0fe5-4ed1-a924-993a0c8e27c5",
   "metadata": {
    "editable": true,
    "slideshow": {
     "slide_type": ""
    },
    "tags": []
   },
   "source": [
    "### Set sample size\n",
    "Select appropriate sample size given Vanadium has a macroscopic scattering cross section $\\Sigma$ of around 0.35 cm$^{-1}$. A neutron beam with intensity $I_0$ that travel in a media a distance of $z$ will be attenuated as the neutrons scatter in the material, and the remaining intensity $I$ can be calculated with the Beer-Lambert law:\n",
    "\n",
    "$$\n",
    "  I = I_0 e^{-z\\Sigma}\n",
    "$$\n",
    "\n",
    "For our experiment we want to observe neutrons that scattered once, as neutrons that scatter more than once would be considered background.\n",
    "\n",
    "What sample depth would be appropriate?\n",
    "\n",
    "- A: 10 cm\n",
    "- B: 1 cm\n",
    "- C: 1 mm"
   ]
  },
  {
   "cell_type": "code",
   "execution_count": null,
   "id": "06fdd143-1dab-4c75-a98e-1fe33bf1eabb",
   "metadata": {
    "editable": true,
    "slideshow": {
     "slide_type": ""
    },
    "tags": [
     "solution"
    ]
   },
   "outputs": [],
   "source": [
    "import numpy as np\n",
    "fraction_left = np.exp(-0.35*1.0) # 1 cm\n",
    "fraction_scattered = 1 - fraction_left \n",
    "print(f\"scattering probability {100*fraction_scattered:.1f} %\")\n",
    "# Assume same distance before and after each scattering (rough approximation)\n",
    "print(f\"single scattering probability {100*fraction_scattered*fraction_left:.1f} %\")\n",
    "print(f\"double scattering probability {100*fraction_scattered**2*fraction_left:.1f} %\")\n",
    "print(f\"fraction of single scattering to multiple scattering {100*fraction_scattered*fraction_left/fraction_scattered:.1f} %\")"
   ]
  },
  {
   "cell_type": "code",
   "execution_count": null,
   "id": "f0440f88-344c-4c6c-84a2-52eb30363f20",
   "metadata": {
    "editable": true,
    "slideshow": {
     "slide_type": ""
    },
    "tags": [
     "remove-output"
    ]
   },
   "outputs": [],
   "source": [
    "quiz.question_1()"
   ]
  },
  {
   "cell_type": "code",
   "execution_count": null,
   "id": "adfea97a-ce20-457c-8c8f-39415c9696df",
   "metadata": {
    "editable": true,
    "slideshow": {
     "slide_type": ""
    },
    "tags": [
     "hide-cell",
     "dmsc-school-remove"
    ]
   },
   "outputs": [],
   "source": [
    "quiz.question_1(\"B\")"
   ]
  },
  {
   "cell_type": "markdown",
   "id": "d40d30a4-2cdd-4e5a-b584-ed6f4a9202de",
   "metadata": {
    "editable": true,
    "slideshow": {
     "slide_type": ""
    },
    "tags": []
   },
   "source": [
    "### Set sample size in simulated instrument\n",
    "Use the *set_parameters* method on the instrument object to set the sample thickness, here using the parameter *sample_radius*. At first we will work with a narrow wavelength range of 2.5 - 2.501 Å, this should be specified using the *l_min* and *l_max* parameters."
   ]
  },
  {
   "cell_type": "code",
   "execution_count": null,
   "id": "49c34751-fc94-470b-833f-bab3995c21bc",
   "metadata": {
    "editable": true,
    "slideshow": {
     "slide_type": ""
    },
    "tags": [
     "solution",
     "hide-cell"
    ]
   },
   "outputs": [],
   "source": [
    "wavelength = 2.5\n",
    "instrument.set_parameters(sample_radius=0.005, l_min=wavelength, l_max=wavelength + 0.001)"
   ]
  },
  {
   "cell_type": "code",
   "execution_count": null,
   "id": "a9e3cea0-137f-4bf4-8580-d9bd908eba42",
   "metadata": {
    "editable": true,
    "slideshow": {
     "slide_type": ""
    },
    "tags": [
     "hide-output"
    ]
   },
   "outputs": [],
   "source": [
    "# Test your instrument by giving it to the question_2 function\n",
    "quiz.question_2(instrument)"
   ]
  },
  {
   "cell_type": "markdown",
   "id": "0ea8c3b5-e6f8-44c8-8e7f-d9c3d5016a45",
   "metadata": {
    "editable": true,
    "slideshow": {
     "slide_type": ""
    },
    "tags": []
   },
   "source": [
    "## Instrument settings\n",
    "Before running the simulation, a few settings pertaining to computing options need to be specified. This is done with a different method to clearly distinguish these from the instrument parameters. One important setting is called `output_path` which sets the name of the generated folder with simulation output."
   ]
  },
  {
   "cell_type": "code",
   "execution_count": null,
   "id": "5a8b971c-5e4d-456d-b7f3-7e4f561240fb",
   "metadata": {
    "editable": true,
    "slideshow": {
     "slide_type": ""
    },
    "tags": []
   },
   "outputs": [],
   "source": [
    "instrument.settings(ncount=4.0e6, mpi=4, suppress_output=True, NeXus=True, output_path=\"first_run\")"
   ]
  },
  {
   "cell_type": "code",
   "execution_count": null,
   "id": "5008c417-9c4a-4ad3-87e6-d416c6b4b2a5",
   "metadata": {
    "editable": true,
    "slideshow": {
     "slide_type": ""
    },
    "tags": [
     "remove-cell"
    ]
   },
   "outputs": [],
   "source": [
    "instrument.settings(mpi=2)"
   ]
  },
  {
   "cell_type": "markdown",
   "id": "ae1dff88-3b87-4286-a13b-0f6d4e746928",
   "metadata": {
    "editable": true,
    "slideshow": {
     "slide_type": ""
    },
    "tags": []
   },
   "source": [
    "## Run simulation\n",
    "Now the simulation can be executed with the `backengine` method. This method returns a list of data object. Store this returned data in a python variable named `data`."
   ]
  },
  {
   "cell_type": "code",
   "execution_count": null,
   "id": "35dcf5e1-0035-4651-a937-76d300db3805",
   "metadata": {
    "editable": true,
    "slideshow": {
     "slide_type": ""
    },
    "tags": [
     "solution",
     "hide-cell"
    ]
   },
   "outputs": [],
   "source": [
    "data = instrument.backengine()"
   ]
  },
  {
   "cell_type": "markdown",
   "id": "ccea6b4f-925b-44d4-8df5-52e712366e77",
   "metadata": {
    "editable": true,
    "slideshow": {
     "slide_type": ""
    },
    "tags": []
   },
   "source": [
    "### Visualize the data\n",
    "The data objects in the returned list can be plotted with the McStasScript function `make_sub_plot`.\n",
    "\n",
    "#### Plot overview\n",
    "The function should plot three graphs:\n",
    "##### PSD monitor\n",
    "Shows spatial distribution of intensity at the sample position.\n",
    "##### Time of flight monitor\n",
    "Shows intensity as a function of neutron arival time at the sample position.\n",
    "##### Wavelength monitor\n",
    "Shows intensity as a function of neutron wavelength at the sample position. Since a tiny wavelength interval was used, this simulation is almost for a constant wavelength.\n"
   ]
  },
  {
   "cell_type": "code",
   "execution_count": null,
   "id": "2a1059e3-dde7-42d3-b2dd-cb10e2ce4d89",
   "metadata": {
    "editable": true,
    "slideshow": {
     "slide_type": ""
    },
    "tags": [
     "remove-cell",
     "dmsc-school-keep"
    ]
   },
   "outputs": [],
   "source": [
    "# %matplotlib widget # Uncomment this to enable widget mode, this helps read values of graphs"
   ]
  },
  {
   "cell_type": "code",
   "execution_count": null,
   "id": "294ab064-2c47-467c-83fb-634b1930c533",
   "metadata": {
    "editable": true,
    "slideshow": {
     "slide_type": ""
    },
    "tags": [
     "solution",
     "hide-cell"
    ]
   },
   "outputs": [],
   "source": [
    "ms.make_sub_plot(data)"
   ]
  },
  {
   "cell_type": "markdown",
   "id": "f57ff9ba-05b6-4a2f-8e26-4dff1ade6b95",
   "metadata": {
    "editable": true,
    "slideshow": {
     "slide_type": ""
    },
    "tags": []
   },
   "source": [
    "### Time / wavelength resolution\n",
    "In order to analyze data from this instrument, the neutron energy is needed and on a pulsed source this can be calculated from the arrival time of the neutrons and the known distance between the source and sample. Since the simulation was performed with a constant wavelength, the width of the time distribution can be used to deduce the uncertainty in the recorded energy.\n",
    "\n",
    "Whats the relative uncertainty on the time observed at the sample position, FWHM?\n",
    "\n",
    "Insert value as a percentage."
   ]
  },
  {
   "cell_type": "code",
   "execution_count": null,
   "id": "967b33ab-692a-4da5-9927-8fd45ef74357",
   "metadata": {
    "editable": true,
    "slideshow": {
     "slide_type": ""
    },
    "tags": [
     "solution"
    ]
   },
   "outputs": [],
   "source": [
    "print(\"delta t/t\", (1.0453E5 - 1.0173E5)/(0.5*(1.0453E5 + 1.0173E5))*100, \"%\")"
   ]
  },
  {
   "cell_type": "code",
   "execution_count": null,
   "id": "5cd927f8-6742-43f1-9431-80747fd47002",
   "metadata": {
    "editable": true,
    "slideshow": {
     "slide_type": ""
    },
    "tags": [
     "remove-output"
    ]
   },
   "outputs": [],
   "source": [
    "quiz.question_3()"
   ]
  },
  {
   "cell_type": "code",
   "execution_count": null,
   "id": "b71a480d-4284-4523-9541-f9940015915b",
   "metadata": {
    "editable": true,
    "slideshow": {
     "slide_type": ""
    },
    "tags": [
     "dmsc-school-remove",
     "hide-cell"
    ]
   },
   "outputs": [],
   "source": [
    "quiz.question_3(2.715)"
   ]
  },
  {
   "cell_type": "markdown",
   "id": "cfdc54c9-e152-4135-a48a-06ab2ad8a80a",
   "metadata": {
    "editable": true,
    "slideshow": {
     "slide_type": ""
    },
    "tags": []
   },
   "source": [
    "This will correspond to the wavelength resolution at this wavelength, generally we need less than 1% for powder diffraction, is this sufficient?\n",
    "\n",
    "- A: yes\n",
    "- B: no"
   ]
  },
  {
   "cell_type": "code",
   "execution_count": null,
   "id": "3338f5a2-5965-4336-871e-847b1c03f083",
   "metadata": {
    "editable": true,
    "slideshow": {
     "slide_type": ""
    },
    "tags": [
     "remove-output"
    ]
   },
   "outputs": [],
   "source": [
    "quiz.question_4()"
   ]
  },
  {
   "cell_type": "code",
   "execution_count": null,
   "id": "53c16fbf-4d3a-4f70-b97c-7c0ff3e51773",
   "metadata": {
    "editable": true,
    "slideshow": {
     "slide_type": ""
    },
    "tags": [
     "dmsc-school-remove",
     "hide-cell"
    ]
   },
   "outputs": [],
   "source": [
    "quiz.question_4(\"B\")"
   ]
  },
  {
   "cell_type": "markdown",
   "id": "18c29a3b-d019-4573-8711-d27cd824cd13",
   "metadata": {
    "editable": true,
    "slideshow": {
     "slide_type": ""
    },
    "tags": []
   },
   "source": [
    "How could we improve this?\n",
    "- A: monochromator close to the sample\n",
    "- B: chopper close to the source\n",
    "- C: velocity selector close to the sample\n",
    "- D: shorter guide"
   ]
  },
  {
   "cell_type": "code",
   "execution_count": null,
   "id": "b3e11942-0786-43b1-a366-7242329d2813",
   "metadata": {
    "editable": true,
    "slideshow": {
     "slide_type": ""
    },
    "tags": [
     "remove-output"
    ]
   },
   "outputs": [],
   "source": [
    "quiz.question_5()"
   ]
  },
  {
   "cell_type": "code",
   "execution_count": null,
   "id": "0b0a26cc-c257-4405-93e2-a49b18413bc3",
   "metadata": {
    "editable": true,
    "slideshow": {
     "slide_type": ""
    },
    "tags": [
     "dmsc-school-remove",
     "hide-cell"
    ]
   },
   "outputs": [],
   "source": [
    "quiz.question_5(\"B\")"
   ]
  },
  {
   "cell_type": "markdown",
   "id": "852b969a-d0b3-4aa8-a113-6e5af8e614c8",
   "metadata": {
    "editable": true,
    "slideshow": {
     "slide_type": ""
    },
    "tags": []
   },
   "source": [
    "## Improve the instrument\n",
    "In order to improve the performance of the instrument, we will add a McStas component.\n",
    "The first aspect to consider when doing so is where to place it, both in the component sequence and its physical location.\n",
    "We start by investigating where to put the component in the component sequence, as that needs to be specified when adding the component, and the physical location can be updated later.\n",
    "\n",
    "### McStas sequence \n",
    "Use either the `show_diagram` or `show_components` method on the instrument object to get an overview of the component sequence in the instrument.\n",
    "Where would you place the new component? Keep in mind that the shielding around the source extends to a radius of 6 m, and it would not be possible to place it closer to the source than that distance.\n",
    "\n",
    "- A: before feeder guide section\n",
    "- B: after feeder guide section\n",
    "- C: before expanding guide section\n",
    "- D: after expanding guide section"
   ]
  },
  {
   "cell_type": "code",
   "execution_count": null,
   "id": "ef66eec2-89e3-4edf-8ad7-0935cf675031",
   "metadata": {
    "editable": true,
    "slideshow": {
     "slide_type": ""
    },
    "tags": [
     "solution",
     "hide-cell"
    ]
   },
   "outputs": [],
   "source": [
    "instrument.show_components()"
   ]
  },
  {
   "cell_type": "code",
   "execution_count": null,
   "id": "7df3b611-7638-464e-b6fa-524103b8c129",
   "metadata": {
    "editable": true,
    "slideshow": {
     "slide_type": ""
    },
    "tags": [
     "remove-output"
    ]
   },
   "outputs": [],
   "source": [
    "quiz.question_6()"
   ]
  },
  {
   "cell_type": "code",
   "execution_count": null,
   "id": "82b4c617-1855-4b9c-8e72-592585e54d50",
   "metadata": {
    "editable": true,
    "slideshow": {
     "slide_type": ""
    },
    "tags": [
     "dmsc-school-remove",
     "hide-cell"
    ]
   },
   "outputs": [],
   "source": [
    "quiz.question_6(\"B\")"
   ]
  },
  {
   "cell_type": "markdown",
   "id": "d511289d-4036-465e-8595-b43d2edff0b5",
   "metadata": {
    "editable": true,
    "slideshow": {
     "slide_type": ""
    },
    "tags": []
   },
   "source": [
    "### Which component\n",
    "\n",
    "Now we need to select what type of component to add to the instrument, here we will need the `DiskChopper` component.\n",
    "Use the `component_help` method on the instrument object to learn more about this component."
   ]
  },
  {
   "cell_type": "code",
   "execution_count": null,
   "id": "bb7c25b9-8f1e-4090-94ef-824883a78e96",
   "metadata": {
    "editable": true,
    "slideshow": {
     "slide_type": ""
    },
    "tags": [
     "solution",
     "hide-cell"
    ]
   },
   "outputs": [],
   "source": [
    "instrument.available_components(\"optics\")\n",
    "instrument.component_help(\"DiskChopper\")"
   ]
  },
  {
   "cell_type": "markdown",
   "id": "9699c192-5b0b-42bf-88fd-ad9174afcb9e",
   "metadata": {
    "editable": true,
    "slideshow": {
     "slide_type": ""
    },
    "tags": []
   },
   "source": [
    "### Chopper calculations\n",
    "When adding a chopper one need to perform calculations to obtain the appropriate rotation frequency and phase.\n",
    "For this exercise, those calculations can be added to the instrument using a function included in the given Python file."
   ]
  },
  {
   "cell_type": "code",
   "execution_count": null,
   "id": "6558bebf-9bf4-47d5-aedf-4c046653aa98",
   "metadata": {
    "editable": true,
    "slideshow": {
     "slide_type": ""
    },
    "tags": []
   },
   "outputs": [],
   "source": [
    "make_powder_instrument.add_chopper_calculations(instrument)\n",
    "\n",
    "# If low on time, its possible to add the calculations and choppper component, solving question 7 and 8. Only run one of the two functions.\n",
    "#make_powder_instrument.add_chopper(instrument)"
   ]
  },
  {
   "cell_type": "markdown",
   "id": "8da3828c-da60-4d71-9ec7-e46958d4c177",
   "metadata": {
    "editable": true,
    "slideshow": {
     "slide_type": ""
    },
    "tags": []
   },
   "source": [
    "To see what variables are used in the instrument, one can use the `show_variables` method like below. This will included the ones added by the above function."
   ]
  },
  {
   "cell_type": "code",
   "execution_count": null,
   "id": "232bce2b-c082-4c40-97c4-b231c8c340a7",
   "metadata": {
    "editable": true,
    "slideshow": {
     "slide_type": ""
    },
    "tags": [
     "solution",
     "hide-cell"
    ]
   },
   "outputs": [],
   "source": [
    "instrument.show_variables()"
   ]
  },
  {
   "cell_type": "markdown",
   "id": "4bdb713d-7c0b-471f-b3d0-f4e79aedc549",
   "metadata": {
    "editable": true,
    "slideshow": {
     "slide_type": ""
    },
    "tags": []
   },
   "source": [
    "### Add chopper component and set parameters\n",
    "\n",
    "Use the `add_component` method on the instrument object to add a chopper.\n",
    "Place it in the component sequence according to your answer in question 6 by using either the `before` or `after` keyword argument.\n",
    "\n",
    "The `add_component` method returns a component object, store that in a python variable.\n",
    "\n",
    "Set the following parameters on the chopper component object:\n",
    "- `yheight`: 0.05 m\n",
    "- `radius`: 0.35 m\n",
    "- `nslit`: 1.0\n",
    "- `theta_0`: 7.0 deg\n",
    "- `delay`: To the variable calculated in the instrument (use quotation marks)\n",
    "- `nu`: A calculation using the `frequency_multiplier` variable, \"frequency_multiplier*14.0\"\n"
   ]
  },
  {
   "cell_type": "code",
   "execution_count": null,
   "id": "659025e2-95cc-4c43-bf45-906affda3118",
   "metadata": {
    "editable": true,
    "slideshow": {
     "slide_type": ""
    },
    "tags": [
     "solution",
     "hide-cell"
    ]
   },
   "outputs": [],
   "source": [
    "chopper = instrument.add_component(\"chopper\", \"DiskChopper\", after=\"feeder\")\n",
    "chopper.theta_0 = 7.0\n",
    "chopper.nslit = 1\n",
    "chopper.radius = 0.35\n",
    "chopper.yheight = 0.05\n",
    "chopper.nu = \"frequency_multiplier*14.0\"\n",
    "chopper.delay = \"delay\"  # Variable with calculated delay"
   ]
  },
  {
   "cell_type": "code",
   "execution_count": null,
   "id": "52a34b9e-0579-4673-a9cb-e69b5e3e6e57",
   "metadata": {
    "editable": true,
    "slideshow": {
     "slide_type": ""
    },
    "tags": [
     "hide-output"
    ]
   },
   "outputs": [],
   "source": [
    "quiz.question_7(instrument)"
   ]
  },
  {
   "cell_type": "markdown",
   "id": "427be722-2d19-4783-8d59-d8e1f1ed1bfe",
   "metadata": {
    "editable": true,
    "slideshow": {
     "slide_type": ""
    },
    "tags": []
   },
   "source": [
    "### Placing the component in space\n",
    "The next task is to specify the physical location of the component, this is done using the `set_AT` method on the component object.\n",
    "This method takes a list of 3 numbers, corresponding to the `x`, `y` and `z` coordinates of the component. If just a single number is specified instead of a list, that is assumed to be the `z` coordinate.\n",
    "\n",
    "One can also specify in what coordinate system one wants to work, which can be that of any preceding component.\n",
    "Use the `RELATIVE` keyword to work in the `Source` coordinate system.\n",
    "The position of the chopper is needed for calculating phase, so it is available as a variable in the instrument, use this variable to set the position.\n",
    "\n",
    "Set the chopper position, a variable is already created with the name \"chopper_position\" and value of 6.5 meters, this is the distance relative to the neutron Source."
   ]
  },
  {
   "cell_type": "code",
   "execution_count": null,
   "id": "56b77e3a-9978-4961-b436-de5c403003f3",
   "metadata": {
    "editable": true,
    "slideshow": {
     "slide_type": ""
    },
    "tags": [
     "solution",
     "hide-cell"
    ]
   },
   "outputs": [],
   "source": [
    "chopper.set_AT(\"chopper_position\", RELATIVE=\"Source\")"
   ]
  },
  {
   "cell_type": "markdown",
   "id": "f5b55bd1-bdcd-4553-9182-cbce5662211c",
   "metadata": {
    "editable": true,
    "slideshow": {
     "slide_type": ""
    },
    "tags": []
   },
   "source": [
    "To check if the component was added correctly, provide your instrument object to the *question_8* function below."
   ]
  },
  {
   "cell_type": "code",
   "execution_count": null,
   "id": "027d2865-ed60-406e-a696-ba18c65488a9",
   "metadata": {
    "editable": true,
    "slideshow": {
     "slide_type": ""
    },
    "tags": [
     "hide-output"
    ]
   },
   "outputs": [],
   "source": [
    "quiz.question_8(instrument)"
   ]
  },
  {
   "cell_type": "markdown",
   "id": "07eaa5b5-74fa-4cca-a58d-006a81118269",
   "metadata": {
    "editable": true,
    "slideshow": {
     "slide_type": ""
    },
    "tags": []
   },
   "source": [
    "### Verify new component\n",
    "\n",
    "Now that the chopper has been added to the instrument, lets show the component sequence again to verify it was added correctly."
   ]
  },
  {
   "cell_type": "code",
   "execution_count": null,
   "id": "1ee44e85-36a7-4fd3-941f-838350ad6067",
   "metadata": {
    "editable": true,
    "slideshow": {
     "slide_type": ""
    },
    "tags": [
     "solution",
     "hide-cell"
    ]
   },
   "outputs": [],
   "source": [
    "instrument.show_diagram()"
   ]
  },
  {
   "cell_type": "markdown",
   "id": "39ee1044-d33d-442d-af92-2f71af8fa616",
   "metadata": {
    "editable": true,
    "slideshow": {
     "slide_type": ""
    },
    "tags": []
   },
   "source": [
    "## Run improved instrument\n",
    "\n",
    "Run the improved instrument with the parameter *frequency_multiplier* set to 3 and plot the data. The *frequency_multiplier* parameter controls the ratio of the frequency of the chopper and source, this should be a natural number to keep the two in sync.\n",
    "\n",
    "Use the `settings` method to set a reasonable name for this simulation run."
   ]
  },
  {
   "cell_type": "code",
   "execution_count": null,
   "id": "2ed43761-dc5a-487b-9596-1738ce2870a3",
   "metadata": {
    "editable": true,
    "slideshow": {
     "slide_type": ""
    },
    "tags": [
     "solution",
     "hide-cell"
    ]
   },
   "outputs": [],
   "source": [
    "instrument.set_parameters(frequency_multiplier=3)\n",
    "instrument.settings(output_path=\"improved_instrument\")\n",
    "data = instrument.backengine()"
   ]
  },
  {
   "cell_type": "markdown",
   "id": "a5a2623b-a3a8-462c-b07b-39f3a412365b",
   "metadata": {
    "editable": true,
    "slideshow": {
     "slide_type": ""
    },
    "tags": [
     "dmsc-school-keep",
     "remove-cell"
    ]
   },
   "source": [
    "We will be reading values of the produced graphs, in those cases the %matplotlib widget mode helps as it provides information on the cursor position over the graphs."
   ]
  },
  {
   "cell_type": "code",
   "execution_count": null,
   "id": "5bf185d8-6a1f-4176-b72e-9b4a76fdc919",
   "metadata": {
    "editable": true,
    "slideshow": {
     "slide_type": ""
    },
    "tags": [
     "remove-cell",
     "dmsc-school-keep"
    ]
   },
   "outputs": [],
   "source": [
    "# %matplotlib widget"
   ]
  },
  {
   "cell_type": "markdown",
   "id": "7cbf2600-9bb3-4bb2-a2b8-fd689bd32889",
   "metadata": {
    "editable": true,
    "slideshow": {
     "slide_type": ""
    },
    "tags": []
   },
   "source": [
    "Plot the data using the `make_sub_plot` function."
   ]
  },
  {
   "cell_type": "code",
   "execution_count": null,
   "id": "ac253a4a-4c77-4c22-ad3e-222011c97116",
   "metadata": {
    "editable": true,
    "slideshow": {
     "slide_type": ""
    },
    "tags": [
     "solution",
     "hide-cell"
    ]
   },
   "outputs": [],
   "source": [
    "ms.make_sub_plot(data)"
   ]
  },
  {
   "cell_type": "markdown",
   "id": "8115a6b3-efc8-4a1a-8dca-6d56c99b0615",
   "metadata": {
    "editable": true,
    "slideshow": {
     "slide_type": ""
    },
    "tags": []
   },
   "source": [
    "Whats the relative time uncertainty with this setup? Insert the answer as a percentage."
   ]
  },
  {
   "cell_type": "code",
   "execution_count": null,
   "id": "ad278d03-905f-4b1f-83fc-a719c9ecc9c5",
   "metadata": {
    "editable": true,
    "slideshow": {
     "slide_type": ""
    },
    "tags": [
     "solution",
     "hide-cell"
    ]
   },
   "outputs": [],
   "source": [
    "print(\"delta t/t\", (1.0315E5 - 1.0267E5)/1.0289E5*100, \"%\")"
   ]
  },
  {
   "cell_type": "code",
   "execution_count": null,
   "id": "f5f38269-bf2c-4635-b61c-24b133fcbccd",
   "metadata": {
    "editable": true,
    "slideshow": {
     "slide_type": ""
    },
    "tags": [
     "remove-output"
    ]
   },
   "outputs": [],
   "source": [
    "quiz.question_9()"
   ]
  },
  {
   "cell_type": "code",
   "execution_count": null,
   "id": "9178c37d-dde6-4c6d-8722-61fcd7760c27",
   "metadata": {
    "editable": true,
    "slideshow": {
     "slide_type": ""
    },
    "tags": [
     "hide-cell",
     "dmsc-school-remove"
    ]
   },
   "outputs": [],
   "source": [
    "quiz.question_9(0.4665)"
   ]
  },
  {
   "cell_type": "markdown",
   "id": "e3fae354-e62c-4855-ad3b-8426324e7964",
   "metadata": {
    "editable": true,
    "slideshow": {
     "slide_type": ""
    },
    "tags": []
   },
   "source": [
    "### Set parameters for run with Si sample\n",
    "Now we can run a simulation with a sample, set these parameters on the *instrument* object.\n",
    "\n",
    "- `l_min`: 0.5 Å\n",
    "- `l_max`: 4.0 Å\n",
    "- `sample_choice`: '\"sample_Si\"' (Need single and double quotes to send a literal string to McStas)\n",
    "- `detector_height`: 1.5 m\n",
    "\n",
    "Again set a descriptive name using the *output_path* keyword argument in the *settings* method on the *instrument* object."
   ]
  },
  {
   "cell_type": "code",
   "execution_count": null,
   "id": "70d8d97c-5468-40c3-aa16-9786c83055dc",
   "metadata": {
    "editable": true,
    "slideshow": {
     "slide_type": ""
    },
    "tags": [
     "solution",
     "hide-cell"
    ]
   },
   "outputs": [],
   "source": [
    "instrument.set_parameters(sample_choice='\"sample_Si\"', l_min=0.5, l_max=4.0, detector_height=1.5)\n",
    "instrument.settings(output_path=\"sample_Si_quick\")"
   ]
  },
  {
   "cell_type": "code",
   "execution_count": null,
   "id": "ab69158e-51ee-4af0-a289-7180b39689cc",
   "metadata": {
    "editable": true,
    "slideshow": {
     "slide_type": ""
    },
    "tags": []
   },
   "outputs": [],
   "source": [
    "quiz.question_10(instrument)"
   ]
  },
  {
   "cell_type": "markdown",
   "id": "3a7b7729-91c7-4166-9ec2-b6cafc07f584",
   "metadata": {
    "editable": true,
    "slideshow": {
     "slide_type": ""
    },
    "tags": []
   },
   "source": [
    "Now we are ready to run the simulation with the *backengine* method."
   ]
  },
  {
   "cell_type": "code",
   "execution_count": null,
   "id": "e185f45b-a53b-4267-ae80-d427dae81c51",
   "metadata": {
    "editable": true,
    "slideshow": {
     "slide_type": ""
    },
    "tags": [
     "solution",
     "hide-cell"
    ]
   },
   "outputs": [],
   "source": [
    "data = instrument.backengine()"
   ]
  },
  {
   "cell_type": "markdown",
   "id": "8136d181-c30f-4f98-a6e9-188b19097b89",
   "metadata": {
    "editable": true,
    "slideshow": {
     "slide_type": ""
    },
    "tags": []
   },
   "source": [
    "The resulting data list now contains event data from the large detector banks. This can be plotted in many ways, but to simplify this exercise a plot function is provided called *plot*."
   ]
  },
  {
   "cell_type": "code",
   "execution_count": null,
   "id": "d6779d2a-680d-4880-b8e7-452d26b8d304",
   "metadata": {
    "editable": true,
    "slideshow": {
     "slide_type": ""
    },
    "tags": []
   },
   "outputs": [],
   "source": [
    "plot(data)"
   ]
  },
  {
   "cell_type": "markdown",
   "id": "92872809-edc8-4fe9-b061-f611f6cb54d2",
   "metadata": {
    "editable": true,
    "slideshow": {
     "slide_type": ""
    },
    "tags": []
   },
   "source": [
    "### Describe the data\n",
    "What do we see in the plots from event data?\n",
    "\n",
    "- A: Inelastic peaks\n",
    "- B: Magnetic scattering\n",
    "- C: Bragg peaks"
   ]
  },
  {
   "cell_type": "code",
   "execution_count": null,
   "id": "f98ba55d-525f-4f42-92a5-cb85e065e864",
   "metadata": {
    "editable": true,
    "slideshow": {
     "slide_type": ""
    },
    "tags": [
     "remove-output"
    ]
   },
   "outputs": [],
   "source": [
    "quiz.question_11()"
   ]
  },
  {
   "cell_type": "code",
   "execution_count": null,
   "id": "d2d5e74e-30aa-4e61-a8a8-e9217de5bc64",
   "metadata": {
    "editable": true,
    "slideshow": {
     "slide_type": ""
    },
    "tags": [
     "solution",
     "hide-cell"
    ]
   },
   "outputs": [],
   "source": [
    "quiz.question_11(\"C\")"
   ]
  },
  {
   "cell_type": "markdown",
   "id": "a34082416544558c",
   "metadata": {
    "editable": true,
    "slideshow": {
     "slide_type": ""
    },
    "tags": []
   },
   "source": [
    "## Producing final data sets\n",
    "Over the next days you will work with data from this simulation. These simulations need to be performed with a larger number of neutron rays to have sufficient information, use the settings below.\n",
    "\n",
    "Be aware that if these simulations are repeated, new data folders will be created with an appended number, tomorrow you will need to know which of these contain the data you wish to proceed with."
   ]
  },
  {
   "cell_type": "code",
   "execution_count": null,
   "id": "08a11f21-0caa-47b6-b6a1-0d311c032c1b",
   "metadata": {
    "editable": true,
    "slideshow": {
     "slide_type": ""
    },
    "tags": []
   },
   "outputs": [],
   "source": [
    "instrument.settings(ncount=4.0e8, mpi=4, suppress_output=True, NeXus=True)"
   ]
  },
  {
   "cell_type": "code",
   "execution_count": null,
   "id": "b85eab05",
   "metadata": {
    "editable": true,
    "slideshow": {
     "slide_type": ""
    },
    "tags": [
     "remove-cell"
    ]
   },
   "outputs": [],
   "source": [
    "instrument.settings(mpi=2)"
   ]
  },
  {
   "cell_type": "markdown",
   "id": "92a9a336-faec-4b32-a202-57411289c26b",
   "metadata": {
    "editable": true,
    "slideshow": {
     "slide_type": ""
    },
    "tags": []
   },
   "source": [
    "## Run reference sample: Si\n",
    "The first dataset use a simple Si sample."
   ]
  },
  {
   "cell_type": "code",
   "execution_count": null,
   "id": "54ddec18-05a0-4972-809e-bda6f8110aab",
   "metadata": {
    "editable": true,
    "slideshow": {
     "slide_type": ""
    },
    "tags": []
   },
   "outputs": [],
   "source": [
    "instrument.set_parameters(sample_choice='\"sample_Si\"', frequency_multiplier=3, detector_height=1.5)\n",
    "instrument.settings(output_path=\"output_sample_Si\")"
   ]
  },
  {
   "cell_type": "code",
   "execution_count": null,
   "id": "738bd4ce-1196-490b-a917-ca5d6f2d5a0f",
   "metadata": {
    "editable": true,
    "slideshow": {
     "slide_type": ""
    },
    "tags": []
   },
   "outputs": [],
   "source": [
    "data_si = instrument.backengine()"
   ]
  },
  {
   "cell_type": "code",
   "execution_count": null,
   "id": "4862a4e5-fbdb-41e8-82d5-806e5e768f5e",
   "metadata": {
    "editable": true,
    "slideshow": {
     "slide_type": ""
    },
    "tags": []
   },
   "outputs": [],
   "source": [
    "plot(data_si, orders_of_mag=5)"
   ]
  },
  {
   "cell_type": "markdown",
   "id": "7792dbb6-3876-44ab-b855-d5d7dddcca88",
   "metadata": {
    "editable": true,
    "slideshow": {
     "slide_type": ""
    },
    "tags": []
   },
   "source": [
    "## Run calibration sample: Vanadium\n",
    "Next a simulation is performed with vanadium, this data will be used for normalization."
   ]
  },
  {
   "cell_type": "code",
   "execution_count": null,
   "id": "4ccae20c-f4fc-49c3-bad8-7280489a3909",
   "metadata": {
    "editable": true,
    "slideshow": {
     "slide_type": ""
    },
    "tags": []
   },
   "outputs": [],
   "source": [
    "instrument.set_parameters(sample_choice='\"sample_Vanadium\"')\n",
    "instrument.settings(output_path=\"output_sample_vanadium\")\n",
    "\n",
    "data_vanadium = instrument.backengine()"
   ]
  },
  {
   "cell_type": "code",
   "execution_count": null,
   "id": "c864bcc7-fa03-470c-aa81-3e626d8d445d",
   "metadata": {
    "editable": true,
    "slideshow": {
     "slide_type": ""
    },
    "tags": []
   },
   "outputs": [],
   "source": [
    "plot(data_vanadium, orders_of_mag=5)"
   ]
  },
  {
   "cell_type": "markdown",
   "id": "5f5d988f-8876-4112-9628-ee4261828a94",
   "metadata": {
    "editable": true,
    "slideshow": {
     "slide_type": ""
    },
    "tags": []
   },
   "source": [
    "## Run main sample: LBCO\n",
    "The last simulation uses a more complex sample that will be more difficult to analyze."
   ]
  },
  {
   "cell_type": "code",
   "execution_count": null,
   "id": "2035f0b9-4aab-43b4-85ff-4756bcea9779",
   "metadata": {
    "editable": true,
    "slideshow": {
     "slide_type": ""
    },
    "tags": []
   },
   "outputs": [],
   "source": [
    "instrument.set_parameters(sample_choice='\"sample_LBCO\"')\n",
    "instrument.settings(output_path=\"output_sample_LBCO\")\n",
    "\n",
    "data_sample_lbco = instrument.backengine()"
   ]
  },
  {
   "cell_type": "code",
   "execution_count": null,
   "id": "51cc50fa-198c-43cd-beb0-68da74bd06f5",
   "metadata": {
    "editable": true,
    "slideshow": {
     "slide_type": ""
    },
    "tags": []
   },
   "outputs": [],
   "source": [
    "plot(data_sample_lbco, orders_of_mag=5)"
   ]
  }
 ],
 "metadata": {
  "celltoolbar": "Tags",
  "kernelspec": {
   "display_name": "Python 3 (ipykernel)",
   "language": "python",
   "name": "python3"
  },
  "language_info": {
   "codemirror_mode": {
    "name": "ipython",
    "version": 3
   },
   "file_extension": ".py",
   "mimetype": "text/x-python",
   "name": "python",
   "nbconvert_exporter": "python",
   "pygments_lexer": "ipython3",
   "version": "3.10.14"
  }
 },
 "nbformat": 4,
 "nbformat_minor": 5
}
