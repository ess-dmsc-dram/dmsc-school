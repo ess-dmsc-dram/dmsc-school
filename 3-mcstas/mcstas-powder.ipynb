{
 "cells": [
  {
   "cell_type": "code",
   "execution_count": null,
   "id": "egyptian-salvation",
   "metadata": {
    "editable": true,
    "slideshow": {
     "slide_type": ""
    },
    "tags": []
   },
   "outputs": [],
   "source": [
    "import mcstasscript as ms\n",
    "import make_powder_instrument\n",
    "import quizlib"
   ]
  },
  {
   "cell_type": "code",
   "execution_count": null,
   "id": "obvious-meeting",
   "metadata": {
    "editable": true,
    "slideshow": {
     "slide_type": ""
    },
    "tags": []
   },
   "outputs": [],
   "source": [
    "quiz = quizlib.Powder_Quiz()"
   ]
  },
  {
   "cell_type": "markdown",
   "id": "unexpected-mandate",
   "metadata": {
    "editable": true,
    "slideshow": {
     "slide_type": ""
    },
    "tags": []
   },
   "source": [
    "# Powder diffraction exercise\n",
    "\n",
    "In this notebook you will work with a McStas model of a simplified powder diffraction instrument.\n",
    "You will have to answer questions in the notebook by working with this model, both by running simulations and expanding the model.\n",
    "We will use the Python McStas API McStasScript to work with the instrument, you can find documentation [here](https://mads-bertelsen.github.io).\n",
    "\n",
    "## Get the instrument object\n",
    "First we need the McStas instrument object. Here it is retrieved from a local python function that generates it."
   ]
  },
  {
   "cell_type": "code",
   "execution_count": null,
   "id": "loose-workstation",
   "metadata": {
    "editable": true,
    "slideshow": {
     "slide_type": ""
    },
    "tags": []
   },
   "outputs": [],
   "source": [
    "instrument = make_powder_instrument.make()"
   ]
  },
  {
   "cell_type": "markdown",
   "id": "continued-thong",
   "metadata": {
    "editable": true,
    "slideshow": {
     "slide_type": ""
    },
    "tags": []
   },
   "source": [
    "## Investigate instrument\n",
    "The first task is to investigate the instrument object `instrument` using some of the available methods available on that object. Each method that show something about the instrument starts with the word show, so you can use tab to autocomplete in the cell to see the relevant methods.\n",
    "\n",
    "In particular, look at what parameters are available and take a look at the instrument geometry."
   ]
  },
  {
   "cell_type": "code",
   "execution_count": null,
   "id": "conceptual-knitting",
   "metadata": {
    "editable": true,
    "slideshow": {
     "slide_type": ""
    },
    "tags": [
     "solution",
     "hide-cell"
    ]
   },
   "outputs": [],
   "source": [
    "instrument.show_parameters()"
   ]
  },
  {
   "cell_type": "code",
   "execution_count": null,
   "id": "secret-surrey",
   "metadata": {
    "editable": true,
    "slideshow": {
     "slide_type": ""
    },
    "tags": [
     "remove-cell",
     "dmsc-school-keep"
    ]
   },
   "outputs": [],
   "source": [
    "# instrument.show_instrument(format='window')"
   ]
  },
  {
   "cell_type": "markdown",
   "id": "scientific-earthquake",
   "metadata": {
    "editable": true,
    "slideshow": {
     "slide_type": ""
    },
    "tags": []
   },
   "source": [
    "## Set parameters\n",
    "\n",
    "Before we run a simulation using the instrument, we need to set some parameters to the desired values."
   ]
  },
  {
   "cell_type": "markdown",
   "id": "bored-basin",
   "metadata": {
    "editable": true,
    "slideshow": {
     "slide_type": ""
    },
    "tags": []
   },
   "source": [
    "## Instrument settings\n",
    "Before running the simulation, a few settings pertaining to computing options need to be specified. This is done with a different method to clearly distinguish these from the instrument parameters. One important setting is called `output_path` which sets the name of the generated folder with simulation output."
   ]
  },
  {
   "cell_type": "code",
   "execution_count": null,
   "id": "infrared-major",
   "metadata": {
    "editable": true,
    "slideshow": {
     "slide_type": ""
    },
    "tags": []
   },
   "outputs": [],
   "source": [
    "instrument.set_parameters(reflections='\"Fe.laz\"', frequency_multiplier=3, guide_curve_deg=0, detector_height=1.5)\n",
    "instrument.settings(ncount=5e7, mpi=4, suppress_output=True, output_path=\"powder_run\")"
   ]
  },
  {
   "cell_type": "code",
   "execution_count": null,
   "id": "e29fd2b5-6602-48ee-8199-b3da388f92c1",
   "metadata": {
    "editable": true,
    "slideshow": {
     "slide_type": ""
    },
    "tags": [
     "remove-cell"
    ]
   },
   "outputs": [],
   "source": [
    "instrument.settings(mpi=2)"
   ]
  },
  {
   "cell_type": "markdown",
   "id": "featured-replica",
   "metadata": {
    "editable": true,
    "slideshow": {
     "slide_type": ""
    },
    "tags": []
   },
   "source": [
    "## Run the instrument\n",
    "Now the simulation can be executed with the `backengine` method. This method returns a list of data object. Store this returned data in a python variable named `data`."
   ]
  },
  {
   "cell_type": "code",
   "execution_count": null,
   "id": "addressed-mexican",
   "metadata": {
    "editable": true,
    "slideshow": {
     "slide_type": ""
    },
    "tags": [
     "solution"
    ]
   },
   "outputs": [],
   "source": [
    "data = instrument.backengine()\n",
    "data"
   ]
  },
  {
   "cell_type": "markdown",
   "id": "e2f1e4f3-2099-497e-afe2-fbf754322ba4",
   "metadata": {
    "editable": true,
    "slideshow": {
     "slide_type": ""
    },
    "tags": []
   },
   "source": [
    "### Visualize the data\n",
    "The data objects in the returned list can be plotted with the McStasScript function `make_plot`. The plots can be customized, use these keyword arguments:\n",
    "- log : True\n",
    "- orders_of_mag : 5 (maximum orders of magnitudes plotted when using logarithmic plotting)"
   ]
  },
  {
   "cell_type": "code",
   "execution_count": null,
   "id": "controversial-wilderness",
   "metadata": {
    "editable": true,
    "slideshow": {
     "slide_type": ""
    },
    "tags": [
     "solution"
    ]
   },
   "outputs": [],
   "source": [
    "ms.make_sub_plot(data, log=True, orders_of_mag=5)"
   ]
  },
  {
   "cell_type": "markdown",
   "id": "substantial-navigation",
   "metadata": {
    "editable": true,
    "slideshow": {
     "slide_type": ""
    },
    "tags": []
   },
   "source": [
    "## Improve the instrument\n"
   ]
  },
  {
   "cell_type": "markdown",
   "id": "narrow-dealing",
   "metadata": {
    "editable": true,
    "slideshow": {
     "slide_type": ""
    },
    "tags": []
   },
   "source": [
    "## Run improved instrument"
   ]
  },
  {
   "cell_type": "markdown",
   "id": "empty-addiction",
   "metadata": {
    "editable": true,
    "slideshow": {
     "slide_type": ""
    },
    "tags": []
   },
   "source": [
    "## Run with sample\n"
   ]
  }
 ],
 "metadata": {
  "celltoolbar": "Tags",
  "kernelspec": {
   "display_name": "Python 3 (ipykernel)",
   "language": "python",
   "name": "python3"
  },
  "language_info": {
   "codemirror_mode": {
    "name": "ipython",
    "version": 3
   },
   "file_extension": ".py",
   "mimetype": "text/x-python",
   "name": "python",
   "nbconvert_exporter": "python",
   "pygments_lexer": "ipython3",
   "version": "3.12.10"
  }
 },
 "nbformat": 4,
 "nbformat_minor": 5
}
