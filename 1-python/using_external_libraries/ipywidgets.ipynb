{
 "cells": [
  {
   "cell_type": "markdown",
   "metadata": {
    "tags": []
   },
   "source": [
    "# Interactive widgets\n",
    "\n",
    "## What are widgets?\n",
    "\n",
    "Widgets are eventful python objects that have a representation in the browser, often as a control like a slider, textbox, etc.\n",
    "\n",
    "This notebook is an introduction to `ipywidgets` (see docs [here](https://ipywidgets.readthedocs.io/en/latest/index.html)),\n",
    "one of the most popular widgets libraries for Jupyter.\n",
    "\n",
    "## What can they be used for?\n",
    "\n",
    "You can use widgets to build interactive GUIs for your notebooks.\n",
    "You can also use widgets to synchronize stateful and stateless information between Python and JavaScript.\n",
    "\n",
    "## Using widgets\n",
    "\n",
    "To use the widget framework, you need to import ipywidgets."
   ]
  },
  {
   "cell_type": "code",
   "execution_count": null,
   "metadata": {
    "tags": []
   },
   "outputs": [],
   "source": [
    "import ipywidgets as ipw"
   ]
  },
  {
   "cell_type": "markdown",
   "metadata": {
    "editable": true,
    "slideshow": {
     "slide_type": ""
    },
    "tags": []
   },
   "source": [
    "### repr\n",
    "\n",
    "Widgets have their own display `repr` which allows them to be displayed using `IPython`'s display framework.\n",
    "Constructing and returning an `IntSlider` automatically displays the widget (as seen below).\n",
    "Widgets are displayed inside the output area below the code cell.\n",
    "Clearing cell output will also remove the widget."
   ]
  },
  {
   "cell_type": "code",
   "execution_count": null,
   "metadata": {
    "editable": true,
    "slideshow": {
     "slide_type": ""
    },
    "tags": []
   },
   "outputs": [],
   "source": [
    "slider = ipw.IntSlider()\n",
    "slider"
   ]
  },
  {
   "cell_type": "markdown",
   "metadata": {
    "tags": []
   },
   "source": [
    "### Closing widgets\n",
    "You can close a widget by calling its `close()` method."
   ]
  },
  {
   "cell_type": "code",
   "execution_count": null,
   "metadata": {
    "tags": []
   },
   "outputs": [],
   "source": [
    "# slider.close()"
   ]
  },
  {
   "cell_type": "markdown",
   "metadata": {
    "tags": []
   },
   "source": [
    "### Widget properties\n",
    "All of the `IPython` widgets share a similar naming scheme.\n",
    "To read the value of a widget, you can query its `value` property."
   ]
  },
  {
   "cell_type": "code",
   "execution_count": null,
   "metadata": {
    "tags": []
   },
   "outputs": [],
   "source": [
    "w = ipw.IntSlider()\n",
    "w"
   ]
  },
  {
   "cell_type": "code",
   "execution_count": null,
   "metadata": {
    "tags": []
   },
   "outputs": [],
   "source": [
    "w.value"
   ]
  },
  {
   "cell_type": "markdown",
   "metadata": {
    "editable": true,
    "slideshow": {
     "slide_type": ""
    },
    "tags": []
   },
   "source": [
    "Similarly, to set a widget's value, you can set its `value` property."
   ]
  },
  {
   "cell_type": "code",
   "execution_count": null,
   "metadata": {
    "editable": true,
    "slideshow": {
     "slide_type": ""
    },
    "tags": []
   },
   "outputs": [],
   "source": [
    "w.value = 55"
   ]
  },
  {
   "cell_type": "markdown",
   "metadata": {
    "tags": []
   },
   "source": [
    "## Widget list\n",
    "\n",
    "This is a non-exhaustive list of the mostly used widgets.\n",
    "You can see the [full list here](https://ipywidgets.readthedocs.io/en/stable/examples/Widget%20List.html).\n",
    "\n",
    "### Numeric widgets\n",
    "\n",
    "There are many widgets distributed with `ipywidgets` that are designed to display numeric values.\n",
    "Widgets exist for displaying integers and floats, both bounded and unbounded.\n",
    "The integer widgets share a similar naming scheme to their floating point counterparts.\n",
    "By replacing `Float` with `Int` in the widget name, you can find the Integer equivalent."
   ]
  },
  {
   "cell_type": "markdown",
   "metadata": {
    "tags": []
   },
   "source": [
    "#### IntSlider"
   ]
  },
  {
   "cell_type": "code",
   "execution_count": null,
   "metadata": {
    "tags": []
   },
   "outputs": [],
   "source": [
    "ipw.IntSlider(\n",
    "    value=7,\n",
    "    min=0,\n",
    "    max=10,\n",
    "    step=1,\n",
    "    description=\"Test:\",\n",
    "    disabled=False,\n",
    "    continuous_update=False,\n",
    "    orientation=\"horizontal\",\n",
    "    readout=True,\n",
    "    readout_format=\"d\",\n",
    ")"
   ]
  },
  {
   "cell_type": "markdown",
   "metadata": {
    "tags": []
   },
   "source": [
    "#### FloatSlider"
   ]
  },
  {
   "cell_type": "code",
   "execution_count": null,
   "metadata": {
    "tags": []
   },
   "outputs": [],
   "source": [
    "ipw.FloatSlider(\n",
    "    value=7.5,\n",
    "    min=0,\n",
    "    max=10.0,\n",
    "    step=0.1,\n",
    "    description=\"Test:\",\n",
    "    disabled=False,\n",
    "    continuous_update=False,\n",
    "    orientation=\"horizontal\",\n",
    "    readout=True,\n",
    "    readout_format=\".1f\",\n",
    ")"
   ]
  },
  {
   "cell_type": "markdown",
   "metadata": {
    "tags": []
   },
   "source": [
    "#### IntRangeSlider"
   ]
  },
  {
   "cell_type": "code",
   "execution_count": null,
   "metadata": {
    "tags": []
   },
   "outputs": [],
   "source": [
    "ipw.IntRangeSlider(\n",
    "    value=[2, 7],\n",
    "    min=0,\n",
    "    max=10,\n",
    "    step=1,\n",
    "    description=\"Test:\",\n",
    "    disabled=False,\n",
    "    continuous_update=False,\n",
    "    orientation=\"horizontal\",\n",
    "    readout=True,\n",
    "    readout_format=\"d\",\n",
    ")"
   ]
  },
  {
   "cell_type": "markdown",
   "metadata": {
    "tags": []
   },
   "source": [
    "#### FloatProgress"
   ]
  },
  {
   "cell_type": "code",
   "execution_count": null,
   "metadata": {
    "tags": []
   },
   "outputs": [],
   "source": [
    "ipw.FloatProgress(\n",
    "    value=7.5,\n",
    "    min=0,\n",
    "    max=10.0,\n",
    "    step=0.1,\n",
    "    description=\"Loading:\",\n",
    "    bar_style=\"info\",\n",
    "    orientation=\"horizontal\",\n",
    ")"
   ]
  },
  {
   "cell_type": "markdown",
   "metadata": {
    "tags": []
   },
   "source": [
    "#### IntText"
   ]
  },
  {
   "cell_type": "code",
   "execution_count": null,
   "metadata": {
    "tags": []
   },
   "outputs": [],
   "source": [
    "ipw.IntText(value=7, description=\"An integer:\", disabled=False)"
   ]
  },
  {
   "cell_type": "markdown",
   "metadata": {
    "tags": []
   },
   "source": [
    "### Boolean widgets\n",
    "\n",
    "There are three widgets that are designed to display a boolean value.\n",
    "\n",
    "#### ToggleButton"
   ]
  },
  {
   "cell_type": "code",
   "execution_count": null,
   "metadata": {
    "tags": []
   },
   "outputs": [],
   "source": [
    "ipw.ToggleButton(\n",
    "    value=False,\n",
    "    description=\"Click me\",\n",
    "    disabled=False,\n",
    "    button_style=\"\",  # 'success', 'info', 'warning', 'danger' or ''\n",
    "    tooltip=\"Description\",\n",
    "    icon=\"check\",\n",
    ")"
   ]
  },
  {
   "cell_type": "markdown",
   "metadata": {
    "tags": []
   },
   "source": [
    "#### Checkbox"
   ]
  },
  {
   "cell_type": "code",
   "execution_count": null,
   "metadata": {
    "tags": []
   },
   "outputs": [],
   "source": [
    "ipw.Checkbox(value=False, description=\"Check me\", indent=False)"
   ]
  },
  {
   "cell_type": "markdown",
   "metadata": {
    "tags": []
   },
   "source": [
    "### Selection widgets\n",
    "\n",
    "There are several widgets that can be used to display single selection lists, and two that can be used to select multiple values.\n",
    "All inherit from the same base class.\n",
    "You can specify the **enumeration of selectable options by passing a list** (options are either (label, value) pairs, or simply values for which the labels are derived by calling `str`).\n",
    "\n",
    "#### Dropdown"
   ]
  },
  {
   "cell_type": "code",
   "execution_count": null,
   "metadata": {
    "tags": []
   },
   "outputs": [],
   "source": [
    "ipw.Dropdown(\n",
    "    options=[\"1\", \"2\", \"3\"],\n",
    "    value=\"2\",\n",
    "    description=\"Number:\",\n",
    "    disabled=False,\n",
    ")"
   ]
  },
  {
   "cell_type": "markdown",
   "metadata": {
    "tags": []
   },
   "source": [
    "The following is also valid, displaying the words `'One', 'Two', 'Three'` as the dropdown choices but returning the values `1, 2, 3`."
   ]
  },
  {
   "cell_type": "code",
   "execution_count": null,
   "metadata": {
    "tags": []
   },
   "outputs": [],
   "source": [
    "ipw.Dropdown(\n",
    "    options=[(\"One\", 1), (\"Two\", 2), (\"Three\", 3)],\n",
    "    value=2,\n",
    "    description=\"Number:\",\n",
    ")"
   ]
  },
  {
   "cell_type": "markdown",
   "metadata": {
    "tags": []
   },
   "source": [
    "#### RadioButtons"
   ]
  },
  {
   "cell_type": "code",
   "execution_count": null,
   "metadata": {
    "tags": []
   },
   "outputs": [],
   "source": [
    "ipw.RadioButtons(\n",
    "    options=[\"pepperoni\", \"pineapple\", \"anchovies\"],\n",
    "    value='pineapple',\n",
    "    description=\"Pizza topping:\",\n",
    "    disabled=False,\n",
    ")"
   ]
  },
  {
   "cell_type": "markdown",
   "metadata": {
    "tags": []
   },
   "source": [
    "#### ToggleButtons"
   ]
  },
  {
   "cell_type": "code",
   "execution_count": null,
   "metadata": {
    "tags": []
   },
   "outputs": [],
   "source": [
    "ipw.ToggleButtons(\n",
    "    options=[\"Slow\", \"Regular\", \"Fast\"],\n",
    "    description=\"Speed:\",\n",
    "    disabled=False,\n",
    "    button_style=\"\",  # 'success', 'info', 'warning', 'danger' or ''\n",
    "    tooltips=[\"Description of slow\", \"Description of regular\", \"Description of fast\"],\n",
    ")"
   ]
  },
  {
   "cell_type": "markdown",
   "metadata": {
    "tags": []
   },
   "source": [
    "### String widgets\n",
    "\n",
    "There are several widgets that can be used to display a string value.\n",
    "The `Text` and `Textarea` widgets accept input.\n",
    "The `HTML` and `HTMLMath` widgets display a string as HTML (`HTMLMath` also renders math).\n",
    "The `Label` widget can be used to construct a custom control label.\n",
    "\n",
    "#### Text"
   ]
  },
  {
   "cell_type": "code",
   "execution_count": null,
   "metadata": {
    "tags": []
   },
   "outputs": [],
   "source": [
    "ipw.Text(\n",
    "    value=\"Hello World\",\n",
    "    placeholder=\"Type something\",\n",
    "    description=\"String:\",\n",
    "    disabled=False,\n",
    ")"
   ]
  },
  {
   "cell_type": "markdown",
   "metadata": {
    "tags": []
   },
   "source": [
    "#### Textarea"
   ]
  },
  {
   "cell_type": "code",
   "execution_count": null,
   "metadata": {
    "tags": []
   },
   "outputs": [],
   "source": [
    "ipw.Textarea(\n",
    "    value=\"Hello World\",\n",
    "    placeholder=\"Type something\",\n",
    "    description=\"String:\",\n",
    "    disabled=False,\n",
    ")"
   ]
  },
  {
   "cell_type": "markdown",
   "metadata": {
    "tags": []
   },
   "source": [
    "#### Label\n",
    "\n",
    "The `Label` widget is useful if you need add custom text and place it next to other widgets."
   ]
  },
  {
   "cell_type": "code",
   "execution_count": null,
   "metadata": {
    "tags": []
   },
   "outputs": [],
   "source": [
    "ipw.HBox(\n",
    "    [\n",
    "        ipw.Label(value=r\"This is before the slider\"),\n",
    "        ipw.FloatSlider(),\n",
    "        ipw.Label(value=r\"This is after the slider\"),\n",
    "    ]\n",
    ")"
   ]
  },
  {
   "cell_type": "markdown",
   "metadata": {
    "tags": []
   },
   "source": [
    "#### HTML"
   ]
  },
  {
   "cell_type": "code",
   "execution_count": null,
   "metadata": {
    "tags": []
   },
   "outputs": [],
   "source": [
    "ipw.HTML(\n",
    "    value=\"Hello <b>World</b>\",\n",
    ")"
   ]
  },
  {
   "cell_type": "markdown",
   "metadata": {
    "tags": []
   },
   "source": [
    "### Image"
   ]
  },
  {
   "cell_type": "code",
   "execution_count": null,
   "metadata": {
    "tags": []
   },
   "outputs": [],
   "source": [
    "file = open(\"../../images/ESS_02_small.jpg\", \"rb\")\n",
    "image = file.read()\n",
    "ipw.Image(\n",
    "    value=image,\n",
    "    format=\"jpg\",\n",
    "    width=300,\n",
    "    height=400,\n",
    ")"
   ]
  },
  {
   "cell_type": "markdown",
   "metadata": {
    "tags": []
   },
   "source": [
    "### Button"
   ]
  },
  {
   "cell_type": "code",
   "execution_count": null,
   "metadata": {
    "tags": []
   },
   "outputs": [],
   "source": [
    "ipw.Button(\n",
    "    description=\"Click me\",\n",
    "    disabled=False,\n",
    "    button_style=\"\",  # 'success', 'info', 'warning', 'danger' or ''\n",
    "    tooltip=\"Click me\",\n",
    "    icon=\"check\",\n",
    ")"
   ]
  },
  {
   "cell_type": "markdown",
   "metadata": {
    "tags": []
   },
   "source": [
    "### Container/Layout widgets\n",
    "\n",
    "These widgets are used to hold other widgets, called children. Each has a `children` property that may be set either when the widget is created or later."
   ]
  },
  {
   "cell_type": "markdown",
   "metadata": {
    "tags": []
   },
   "source": [
    "#### HBox"
   ]
  },
  {
   "cell_type": "code",
   "execution_count": null,
   "metadata": {
    "tags": []
   },
   "outputs": [],
   "source": [
    "items = [ipw.Button(description=str(i)) for i in range(4)]\n",
    "ipw.HBox(items)"
   ]
  },
  {
   "cell_type": "markdown",
   "metadata": {
    "tags": []
   },
   "source": [
    "#### VBox"
   ]
  },
  {
   "cell_type": "code",
   "execution_count": null,
   "metadata": {
    "tags": []
   },
   "outputs": [],
   "source": [
    "left_box = ipw.VBox([items[0], items[1]])\n",
    "right_box = ipw.VBox([items[2], items[3]])\n",
    "ipw.HBox([left_box, right_box])"
   ]
  },
  {
   "cell_type": "markdown",
   "metadata": {
    "tags": []
   },
   "source": [
    "## Widget events\n",
    "\n",
    "Widget properties are `IPython` traitlets and traitlets are eventful. To handle changes, the `observe` method of the widget can be used to register a callback. The doc string for `observe` can be seen below."
   ]
  },
  {
   "cell_type": "code",
   "execution_count": null,
   "metadata": {
    "tags": []
   },
   "outputs": [],
   "source": [
    "help(ipw.Widget.observe)"
   ]
  },
  {
   "cell_type": "markdown",
   "metadata": {
    "tags": []
   },
   "source": [
    "Mentioned in the doc string, the callback registered must have the signature `handler(change)` where `change` is a dictionary holding the information about the change.\n",
    "\n",
    "Using this method, an example of how to output an `IntSlider`'s value as it is changed can be seen below."
   ]
  },
  {
   "cell_type": "code",
   "execution_count": null,
   "metadata": {
    "tags": []
   },
   "outputs": [],
   "source": [
    "sl = ipw.IntSlider()\n",
    "but = ipw.Button()\n",
    "\n",
    "\n",
    "def on_value_change(change):\n",
    "    but.description = str(change[\"new\"])\n",
    "\n",
    "\n",
    "sl.observe(on_value_change, names=\"value\")\n",
    "\n",
    "ipw.HBox([sl, but])"
   ]
  },
  {
   "cell_type": "markdown",
   "metadata": {
    "tags": []
   },
   "source": [
    "## Linking Widgets\n",
    "\n",
    "Often, you may want to simply link widget attributes together. Synchronization of attributes can be done in a simpler way than by using bare traitlets events.\n",
    "\n",
    "The method is to use the `link` and `dlink` functions from the traitlets module (these two functions are re-exported by the `ipywidgets` module for convenience). This only works if we are interacting with a live kernel."
   ]
  },
  {
   "cell_type": "code",
   "execution_count": null,
   "metadata": {
    "tags": []
   },
   "outputs": [],
   "source": [
    "caption = ipw.Label(value=\"The values of slider1 and slider2 are synchronized\")\n",
    "sliders1, slider2 = ipw.IntSlider(description=\"Slider 1\"), ipw.IntSlider(\n",
    "    description=\"Slider 2\"\n",
    ")\n",
    "l = ipw.link((sliders1, \"value\"), (slider2, \"value\"))\n",
    "display(caption, sliders1, slider2)"
   ]
  },
  {
   "cell_type": "code",
   "execution_count": null,
   "metadata": {
    "tags": []
   },
   "outputs": [],
   "source": [
    "caption = ipw.Label(value=\"Changes in source values are reflected in target1\")\n",
    "source, target1 = ipw.IntSlider(description=\"Source\"), ipw.IntSlider(\n",
    "    description=\"Target 1\"\n",
    ")\n",
    "dl = ipw.dlink((source, \"value\"), (target1, \"value\"))\n",
    "display(caption, source, target1)"
   ]
  },
  {
   "cell_type": "markdown",
   "metadata": {
    "tags": []
   },
   "source": [
    "The `link()` and `dlink()` functions return a `Link` or `DLink` object.\n",
    "The link can be broken by calling the `unlink` method."
   ]
  },
  {
   "cell_type": "code",
   "execution_count": null,
   "metadata": {
    "tags": []
   },
   "outputs": [],
   "source": [
    "l.unlink()\n",
    "dl.unlink()"
   ]
  },
  {
   "cell_type": "markdown",
   "metadata": {
    "tags": []
   },
   "source": [
    "## Using \"Interact\"\n",
    "\n",
    "`ipywidgets` also comes with a high-level function called `interact` which tries to do a lot of the work for you, by guessing what kind of widget you would like to have to interact with a function, depending on the function input types.\n",
    "\n",
    "You can read more on how to use `interact` [here](https://ipywidgets.readthedocs.io/en/stable/examples/Using%20Interact.html)."
   ]
  },
  {
   "cell_type": "markdown",
   "metadata": {
    "editable": true,
    "slideshow": {
     "slide_type": ""
    },
    "tags": []
   },
   "source": [
    "## Exercises\n",
    "\n",
    "### 1. Dynamically disabling and hiding widgets\n",
    "\n",
    "In this exercise, we will learn how to use the `disabled` and `visibility` properties of the widgets, to control their behaviour and appearance.\n",
    "The goal is to create an interface that allows to enter into text boxes a number of vector components which depend on how many dimensions are available.\n",
    "\n",
    "1. Create a `RadioButtons` widget with 3 options: `\"1D\"`, `\"2D\"`, and `\"3D\"`, and the `\"1D\"` value should be the selected value to begin with.\n",
    "2. Create 3 `FloatText` widgets which all have `0` as a value and `\"x:\"`, `\"y:\"`, and `\"z:\"` as descriptions for the vector position.\n",
    "3. Create a further 3 `FloatText` widgets which all have `0` as a value and `\"v_x:\"`, `\"v_y:\"`, and `\"v_z:\"` as descriptions for the velocity components.\n",
    "4. Arrange your widgets into 3 columns using the `VBox` and `HBox` widgets. \n",
    "5. Disable the `y` and `z` position components by using the `.disabled` property of the widgets.\n",
    "6. Hide the `v_y` and `v_z` velocity components by using the `.layout.visibility=\"hidden\"` property of the widgets.\n",
    "7. In the end, it should look something like this:\n",
    "![widgets](../../images/vector_widgets.png)\n",
    "8. Create a function that will run through the position and velocity components and update the `.disabled` and `.visibility=\"hidden/visible\"` properties according to the selected value in the `RadioButtons` widget.\n",
    "9. Install a call-back using the `.observe` property from the `RadioButtons` to the update function so that the function is triggered every time the selected value in the `RadioButtons` is changed and check that everything is working as it should.\n",
    "10. Voila!\n",
    "11. **Bonus:** Instead of a `RadioButtons`, use a `IntText` widget to allow any number of dimensions to be entered. This means you have to dynamically create/destroy `FloatText` widgets in the positions and velocity columns. The contents of a `VBox` can be modified by changing its list of `.children`. It also does not make much sense to have disabled or hidden widgets since we do not know a priori the maximum number of dimensions. The goal is to only keep the widgets that we need, and they will all always be visible and enabled."
   ]
  },
  {
   "cell_type": "markdown",
   "metadata": {
    "editable": true,
    "slideshow": {
     "slide_type": ""
    },
    "tags": []
   },
   "source": [
    "**Solution:**"
   ]
  },
  {
   "cell_type": "code",
   "execution_count": null,
   "metadata": {},
   "outputs": [],
   "source": [
    "# Insert your solution:\n"
   ]
  },
  {
   "cell_type": "markdown",
   "metadata": {
    "tags": []
   },
   "source": [
    "**Bonus:**"
   ]
  },
  {
   "cell_type": "code",
   "execution_count": null,
   "metadata": {},
   "outputs": [],
   "source": [
    "# Insert your solution:\n"
   ]
  },
  {
   "cell_type": "markdown",
   "metadata": {
    "tags": []
   },
   "source": [
    "### 2. Use a slider to change the number of scatter points in a Matplotlib figure\n",
    "\n",
    "1. Create a scatter plot with Matplotlib"
   ]
  },
  {
   "cell_type": "code",
   "execution_count": null,
   "metadata": {
    "tags": []
   },
   "outputs": [],
   "source": [
    "import numpy as np\n",
    "import matplotlib.pyplot as plt\n",
    "\n",
    "%matplotlib widget\n",
    "\n",
    "N = 100\n",
    "x = np.random.normal(0.0, scale=20.0, size=N)\n",
    "y = np.random.normal(0.0, scale=20.0, size=N)\n",
    "\n",
    "fig, ax = plt.subplots()\n",
    "scat = ax.scatter(x, y, color=\"blue\", alpha=0.5)"
   ]
  },
  {
   "cell_type": "markdown",
   "metadata": {
    "tags": []
   },
   "source": [
    "2. Add a [`FloatLogSlider`](https://ipywidgets.readthedocs.io/en/stable/examples/Widget%20List.html#floatlogslider) that ranges from 1 to 1.0e5\n",
    "\n",
    "3. Define a function that would take in the value of the slider (via the `change` argument) and update the number of points in the scatter plot (for simplicity, you can delete the current scatter plot and draw a new one on the axes)\n",
    "\n",
    "4. Add a callback from the slider to the update function using the `observe` method.\n",
    "\n",
    "5. Display the slider above or below the figure.\n",
    "\n",
    "6. Once you got this working, try adding a `ColorPicker` widget that would be used to update the color of the scatter points."
   ]
  },
  {
   "cell_type": "markdown",
   "metadata": {
    "tags": []
   },
   "source": [
    "**Solution:**"
   ]
  },
  {
   "cell_type": "code",
   "execution_count": null,
   "metadata": {},
   "outputs": [],
   "source": [
    "# Insert your solution:\n"
   ]
  },
  {
   "cell_type": "markdown",
   "metadata": {
    "tags": []
   },
   "source": [
    "###  3. Create an interface to dynamically resize an image\n",
    "\n",
    "In this exercise, we will create an interface with a displayed image and some control widgets below, that will enable dynamic resizing of the image.\n",
    "\n",
    "1. Using the `PIL` (Python Image Library), get an image from a web url:"
   ]
  },
  {
   "cell_type": "code",
   "execution_count": null,
   "metadata": {
    "tags": []
   },
   "outputs": [],
   "source": [
    "import PIL.Image as Image\n",
    "\n",
    "img = Image.open(\"../../images/ESS_02_small.jpg\")\n",
    "img"
   ]
  },
  {
   "cell_type": "markdown",
   "metadata": {
    "tags": []
   },
   "source": [
    "2. Place the image inside an `Image` widget:"
   ]
  },
  {
   "cell_type": "code",
   "execution_count": null,
   "metadata": {
    "tags": []
   },
   "outputs": [],
   "source": [
    "im_widget = ipw.Image(value=img._repr_png_(), width=img.width, height=img.height)"
   ]
  },
  {
   "cell_type": "markdown",
   "metadata": {
    "tags": []
   },
   "source": [
    "3. Create two `IntText` widgets (one for the image width and one for the image height) and a `Button` widget that will run the image resizing function when clicked.\n",
    "\n",
    "4. Place the widgets inside a `HBox` container widget to keep them in the same line, and place the `im_widget` and the `HBox` inside a `VBox` container to place the image above the control widgets.\n",
    "\n",
    "5. At this point, it is probably a good idea to try and display the `VBox` to check that everything is set up properly.\n",
    "\n",
    "6. Next, create a function that, when called, would resize the image. In that function, you will need to:\n",
    "  - Make a copy of the original image\n",
    "  - Resize the copy with the `PIL` `resize()` function: `copied_image.resize((new_width, new_height))`\n",
    "  - Update the `value` of the `im_widget` with the `new_image._repr_png_()`\n",
    "\n",
    "7. Finally, you need to install a `on_click` call-back (see [here](https://ipywidgets.readthedocs.io/en/stable/examples/Widget%20Events.html#Special-events)) from the `Button` to the resizing function so that the function is triggered when the `Button` is clicked.\n",
    "\n",
    "8. Voila!\n",
    "\n",
    "9. **Bonus:** Try to achieve the same but using two `IntSlider`s instead of `IntText` so that you can resize the image by simply dragging sliders!"
   ]
  },
  {
   "cell_type": "markdown",
   "metadata": {
    "tags": []
   },
   "source": [
    "**Solution:**"
   ]
  },
  {
   "cell_type": "code",
   "execution_count": null,
   "metadata": {},
   "outputs": [],
   "source": [
    "# Insert your solution:\n"
   ]
  },
  {
   "cell_type": "markdown",
   "metadata": {
    "tags": []
   },
   "source": [
    "**Bonus:**"
   ]
  },
  {
   "cell_type": "code",
   "execution_count": null,
   "metadata": {},
   "outputs": [],
   "source": [
    "# Insert your solution:\n"
   ]
  }
 ],
 "metadata": {
  "kernelspec": {
   "display_name": "Python 3 (ipykernel)",
   "language": "python",
   "name": "python3"
  },
  "language_info": {
   "codemirror_mode": {
    "name": "ipython",
    "version": 3
   },
   "file_extension": ".py",
   "mimetype": "text/x-python",
   "name": "python",
   "nbconvert_exporter": "python",
   "pygments_lexer": "ipython3"
  }
 },
 "nbformat": 4,
 "nbformat_minor": 4
}
