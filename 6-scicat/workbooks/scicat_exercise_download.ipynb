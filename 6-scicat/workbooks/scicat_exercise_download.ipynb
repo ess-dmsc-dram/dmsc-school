{
 "cells": [
  {
   "cell_type": "markdown",
   "id": "8d3df4f9",
   "metadata": {},
   "source": [
    "# Scicat Exercise\n",
    "\n",
    "## Download - Scitacean\n",
    "### Authentication\n",
    "\n",
    "Go to [scicat user page](https://staging.scicat.ess.eu/user) to copy the token."
   ]
  },
  {
   "cell_type": "code",
   "execution_count": 1,
   "id": "b908d32d",
   "metadata": {},
   "outputs": [],
   "source": [
    "import getpass\n",
    "\n",
    "TOKEN = getpass.getpass(\"Enter your token: \")"
   ]
  },
  {
   "cell_type": "code",
   "execution_count": null,
   "id": "35be67af",
   "metadata": {},
   "outputs": [],
   "source": [
    "from scitacean import Client\n",
    "\n",
    "client = Client.from_token(\"staging.ess\", token=TOKEN)"
   ]
  },
  {
   "cell_type": "code",
   "execution_count": null,
   "id": "ca9e87c9",
   "metadata": {},
   "outputs": [],
   "source": [
    "dataset = client.get_dataset(pid=\"undefined/e3b8fedd-fddf-4a75-86dc-b31f3ab7166b\")\n",
    "dataset"
   ]
  },
  {
   "cell_type": "code",
   "execution_count": null,
   "id": "e06a9fd4",
   "metadata": {},
   "outputs": [],
   "source": [
    "client.download_files(dataset=dataset, target=\"./downloaded_files\")"
   ]
  },
  {
   "cell_type": "markdown",
   "id": "da250d43",
   "metadata": {},
   "source": [
    "## Upload Dataset using SFTP Connection\n",
    "### Authenticate to SFTP server"
   ]
  },
  {
   "cell_type": "code",
   "execution_count": 3,
   "id": "d5e2b7d4",
   "metadata": {},
   "outputs": [],
   "source": [
    "SFTP_USER_NAME = input(\"Enter the SFTP username: \")\n",
    "SFTP_SERVER_PASSWORD = getpass.getpass(\"Enter the SFTP server password: \")"
   ]
  },
  {
   "cell_type": "markdown",
   "id": "3fe9f35d",
   "metadata": {},
   "source": [
    "### Create file transfer object and scicat client"
   ]
  },
  {
   "cell_type": "code",
   "execution_count": null,
   "id": "6cfccab0",
   "metadata": {},
   "outputs": [],
   "source": [
    "from scitacean import Client\n",
    "from scitacean.transfer.sftp import SFTPFileTransfer\n",
    "\n",
    "client = Client.from_token(\n",
    "    \"staging.ess\",\n",
    "    token=TOKEN,\n",
    "    file_transfer=SFTPFileTransfer(\n",
    "        host=\"SFTP_HOST\",\n",
    "        username=SFTP_USER_NAME,\n",
    "        password=SFTP_SERVER_PASSWORD,\n",
    "    ),\n",
    ")"
   ]
  },
  {
   "cell_type": "markdown",
   "id": "392452dd",
   "metadata": {},
   "source": [
    "### Download dataset and files"
   ]
  },
  {
   "cell_type": "code",
   "execution_count": null,
   "id": "86ecbc43",
   "metadata": {},
   "outputs": [],
   "source": [
    "dataset = client.get_dataset(pid=\"undefined/e3b8fedd-fddf-4a75-86dc-b31f3ab7166b\")\n",
    "display(dataset)\n",
    "client.download_files(dataset=dataset, target=\"./downloaded_files\")"
   ]
  }
 ],
 "metadata": {
  "kernelspec": {
   "display_name": "dmsc-school",
   "language": "python",
   "name": "python3"
  },
  "language_info": {
   "codemirror_mode": {
    "name": "ipython",
    "version": 3
   },
   "file_extension": ".py",
   "mimetype": "text/x-python",
   "name": "python",
   "nbconvert_exporter": "python",
   "pygments_lexer": "ipython3",
   "version": "3.12.8"
  },
  "orphan": true
 },
 "nbformat": 4,
 "nbformat_minor": 5
}
