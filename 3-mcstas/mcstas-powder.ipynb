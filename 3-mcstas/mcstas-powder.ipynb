{
 "cells": [
  {
   "cell_type": "code",
   "execution_count": null,
   "id": "egyptian-salvation",
   "metadata": {
    "editable": true,
    "slideshow": {
     "slide_type": ""
    },
    "tags": []
   },
   "outputs": [],
   "source": [
    "import mcstasscript as ms\n",
    "import make_powder_instrument\n",
    "from mcstasutils import plot\n",
    "import quizlib"
   ]
  },
  {
   "cell_type": "code",
   "execution_count": null,
   "id": "obvious-meeting",
   "metadata": {
    "editable": true,
    "slideshow": {
     "slide_type": ""
    },
    "tags": []
   },
   "outputs": [],
   "source": [
    "quiz = quizlib.Powder_Quiz()"
   ]
  },
  {
   "cell_type": "markdown",
   "id": "unexpected-mandate",
   "metadata": {
    "editable": true,
    "slideshow": {
     "slide_type": ""
    },
    "tags": []
   },
   "source": [
    "# Powder diffraction exercise\n",
    "\n",
    "In this notebook you will work with a McStas model of a simplified powder diffraction instrument.\n",
    "You will have to answer questions in the notebook by working with this model, both by running simulations and expanding the model.\n",
    "We will use the Python McStas API McStasScript to work with the instrument, you can find documentation [here](https://mads-bertelsen.github.io).\n",
    "\n",
    "## Get the instrument object\n",
    "First we need the McStas instrument object. Here it is retrieved from a local python function that generates it."
   ]
  },
  {
   "cell_type": "code",
   "execution_count": null,
   "id": "loose-workstation",
   "metadata": {
    "editable": true,
    "slideshow": {
     "slide_type": ""
    },
    "tags": []
   },
   "outputs": [],
   "source": [
    "instrument = make_powder_instrument.make()"
   ]
  },
  {
   "cell_type": "markdown",
   "id": "continued-thong",
   "metadata": {
    "editable": true,
    "slideshow": {
     "slide_type": ""
    },
    "tags": []
   },
   "source": [
    "## Investigate instrument\n",
    "The first task is to investigate the instrument object `instrument` using some of the available methods available on that object. Each method that show something about the instrument starts with the word show, so you can use tab to autocomplete in the cell to see the relevant methods.\n",
    "\n",
    "In particular, look at what parameters are available and take a look at the instrument geometry."
   ]
  },
  {
   "cell_type": "code",
   "execution_count": null,
   "id": "conceptual-knitting",
   "metadata": {
    "editable": true,
    "slideshow": {
     "slide_type": ""
    },
    "tags": [
     "solution",
     "hide-cell"
    ]
   },
   "outputs": [],
   "source": [
    "instrument.show_parameters()"
   ]
  },
  {
   "cell_type": "code",
   "execution_count": null,
   "id": "secret-surrey",
   "metadata": {
    "editable": true,
    "scrolled": true,
    "slideshow": {
     "slide_type": ""
    },
    "tags": [
     "remove-cell",
     "dmsc-school-keep"
    ]
   },
   "outputs": [],
   "source": [
    "# instrument.show_instrument(format='window')\n",
    "instrument.show_diagram()"
   ]
  },
  {
   "cell_type": "markdown",
   "id": "cc0e8cba-6523-4617-b724-aec90439caf8",
   "metadata": {},
   "source": [
    "### Question 1\n",
    "Question about what is going on in the instrument model, checking for example how many choppers there are"
   ]
  },
  {
   "cell_type": "markdown",
   "id": "b5ceb127-0cbe-41b1-b8f8-ad5e9af149c5",
   "metadata": {},
   "source": [
    "### Run basic instrument for Si sample\n",
    "Run without pulse shaping chopper"
   ]
  },
  {
   "cell_type": "code",
   "execution_count": null,
   "id": "35f27cc0-3b20-4943-8552-d727bc471610",
   "metadata": {},
   "outputs": [],
   "source": [
    "instrument.get_component(\"chopper\").set_WHEN(\"frequency_multiplier!=0\") # code to remove chopper\n",
    "\n",
    "instrument.set_parameters(sample_choice='\"sample_Si\"', frequency_multiplier=0, guide_curve_deg=0, detector_height=1.5)\n",
    "instrument.settings(ncount=5.0e8, mpi=4, suppress_output=True, NeXus=True, output_path=\"powder_Si_initial\")"
   ]
  },
  {
   "cell_type": "code",
   "execution_count": null,
   "id": "08a11f21-0caa-47b6-b6a1-0d311c032c1b",
   "metadata": {
    "tags": [
     "remove-cell"
    ]
   },
   "outputs": [],
   "source": [
    "instrument.settings(mpi=2)"
   ]
  },
  {
   "cell_type": "code",
   "execution_count": null,
   "id": "d424cc57-2dde-4c2c-9423-2f4c12e0fcbc",
   "metadata": {},
   "outputs": [],
   "source": [
    "data_initial = instrument.backengine()"
   ]
  },
  {
   "cell_type": "code",
   "execution_count": null,
   "id": "79349e06-72a0-40dd-983e-9d476007b331",
   "metadata": {},
   "outputs": [],
   "source": [
    "plot(data_initial, orders_of_mag=5)"
   ]
  },
  {
   "cell_type": "markdown",
   "id": "92a9a336-faec-4b32-a202-57411289c26b",
   "metadata": {},
   "source": [
    "## Add a chopper"
   ]
  },
  {
   "cell_type": "code",
   "execution_count": null,
   "id": "bf631c28-51e3-4e08-a31a-4fdd972deb45",
   "metadata": {},
   "outputs": [],
   "source": [
    "instrument.set_parameters(frequency_multiplier=1)\n",
    "instrument.settings(output_path=\"powder_Si_with_chopper\")"
   ]
  },
  {
   "cell_type": "code",
   "execution_count": null,
   "id": "ceb57803-7e6f-45dc-90a3-23ea99222f89",
   "metadata": {},
   "outputs": [],
   "source": [
    "data_with_chopper = instrument.backengine()"
   ]
  },
  {
   "cell_type": "code",
   "execution_count": null,
   "id": "ccfac717-4e04-4f5b-9ed2-79e213771159",
   "metadata": {},
   "outputs": [],
   "source": [
    "plot(data_with_chopper, orders_of_mag=5)"
   ]
  },
  {
   "cell_type": "markdown",
   "id": "72dcac40-a3e3-4d6a-a733-077ca0d940f9",
   "metadata": {},
   "source": [
    "### High-resolution chopper"
   ]
  },
  {
   "cell_type": "code",
   "execution_count": null,
   "id": "54ddec18-05a0-4972-809e-bda6f8110aab",
   "metadata": {},
   "outputs": [],
   "source": [
    "instrument.set_parameters(frequency_multiplier=3)\n",
    "instrument.settings(ncount=1.0e9, output_path=\"powder_Si_high_resolution\")"
   ]
  },
  {
   "cell_type": "code",
   "execution_count": null,
   "id": "738bd4ce-1196-490b-a917-ca5d6f2d5a0f",
   "metadata": {},
   "outputs": [],
   "source": [
    "data_high_res = instrument.backengine()"
   ]
  },
  {
   "cell_type": "code",
   "execution_count": null,
   "id": "4862a4e5-fbdb-41e8-82d5-806e5e768f5e",
   "metadata": {},
   "outputs": [],
   "source": [
    "plot(data_high_res, orders_of_mag=5)"
   ]
  },
  {
   "cell_type": "markdown",
   "id": "5f5d988f-8876-4112-9628-ee4261828a94",
   "metadata": {},
   "source": [
    "## Run second (unknown) sample"
   ]
  },
  {
   "cell_type": "code",
   "execution_count": null,
   "id": "2035f0b9-4aab-43b4-85ff-4756bcea9779",
   "metadata": {},
   "outputs": [],
   "source": [
    "instrument.set_parameters(sample_choice='\"sample_2\"')\n",
    "instrument.settings(output_path=\"powder_sample_2\")\n",
    "\n",
    "data_sample_2 = instrument.backengine()"
   ]
  },
  {
   "cell_type": "code",
   "execution_count": null,
   "id": "51cc50fa-198c-43cd-beb0-68da74bd06f5",
   "metadata": {},
   "outputs": [],
   "source": [
    "plot(data_sample_2, orders_of_mag=5)"
   ]
  },
  {
   "cell_type": "markdown",
   "id": "38c77624a8588ca2",
   "metadata": {},
   "source": [
    "## Run third (unknown) sample"
   ]
  },
  {
   "cell_type": "code",
   "execution_count": null,
   "id": "dc7fadf4565e09e",
   "metadata": {},
   "outputs": [],
   "source": [
    "instrument.set_parameters(sample_choice='\"sample_3\"')\n",
    "instrument.settings(output_path=\"powder_sample_3\")\n",
    "\n",
    "data_sample_3 = instrument.backengine()"
   ]
  },
  {
   "cell_type": "code",
   "execution_count": null,
   "id": "3227e6d9703d7d9e",
   "metadata": {},
   "outputs": [],
   "source": [
    "plot(data_sample_3, orders_of_mag=5)"
   ]
  },
  {
   "cell_type": "markdown",
   "id": "7792dbb6-3876-44ab-b855-d5d7dddcca88",
   "metadata": {},
   "source": [
    "## Run Vanadium sample"
   ]
  },
  {
   "cell_type": "code",
   "execution_count": null,
   "id": "4ccae20c-f4fc-49c3-bad8-7280489a3909",
   "metadata": {},
   "outputs": [],
   "source": [
    "instrument.set_parameters(sample_choice='\"sample_Vanadium\"')\n",
    "instrument.settings(output_path=\"powder_vanadium\")\n",
    "\n",
    "data_vanadium = instrument.backengine()"
   ]
  },
  {
   "cell_type": "code",
   "execution_count": null,
   "id": "c864bcc7-fa03-470c-aa81-3e626d8d445d",
   "metadata": {},
   "outputs": [],
   "source": [
    "plot(data_vanadium, orders_of_mag=5)"
   ]
  },
  {
   "cell_type": "code",
   "execution_count": null,
   "id": "ab73d9c5-7592-466f-9221-755550fb752b",
   "metadata": {},
   "outputs": [],
   "source": []
  }
 ],
 "metadata": {
  "celltoolbar": "Tags",
  "kernelspec": {
   "display_name": "Python 3 (ipykernel)",
   "language": "python",
   "name": "python3"
  },
  "language_info": {
   "codemirror_mode": {
    "name": "ipython",
    "version": 3
   },
   "file_extension": ".py",
   "mimetype": "text/x-python",
   "name": "python",
   "nbconvert_exporter": "python",
   "pygments_lexer": "ipython3",
   "version": "3.13.5"
  }
 },
 "nbformat": 4,
 "nbformat_minor": 5
}
