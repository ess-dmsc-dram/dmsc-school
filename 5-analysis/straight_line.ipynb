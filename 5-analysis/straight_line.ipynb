{
 "cells": [
  {
   "cell_type": "markdown",
   "id": "79e15889-c15c-4368-ac7f-6f1463e46194",
   "metadata": {},
   "source": [
    "# Fitting a straight line with EasyCore\n",
    "\n",
    "The `EasyCore` library is designed for the modelling and analysis of experimental data. \n",
    "The modelling that we can perform can be any closed-form functional model, the parameters of which we can refine to get the best agreement between the model and the data. \n",
    "\n",
    "In this short demostration, we will show the analysis of linear data using `EasyCore`. \n",
    "The first task, is to import the components of `EasyCore` that we will use and some important data and plotting functionality. "
   ]
  },
  {
   "cell_type": "code",
   "execution_count": null,
   "id": "8d1778fd-f722-4d7a-9113-7dc0a6107c35",
   "metadata": {
    "tags": []
   },
   "outputs": [],
   "source": [
    "from easyCore import np\n",
    "from easyCore.Objects.Variable import Parameter\n",
    "from easyCore.Objects.ObjectClasses import BaseObj\n",
    "from easyCore.Fitting.Fitting import Fitter\n",
    "\n",
    "from scipy.stats import norm\n",
    "import matplotlib.pyplot as plt"
   ]
  },
  {
   "cell_type": "markdown",
   "id": "ad26a4ed-619c-4321-9481-0a4f2356c3d4",
   "metadata": {},
   "source": [
    "First, let's generate some data that we can analyse. \n",
    "The $x$ values that we will investigate will be from 1 to 10."
   ]
  },
  {
   "cell_type": "code",
   "execution_count": null,
   "id": "db3d8a65-5a6c-402b-a369-d1a56febd375",
   "metadata": {
    "tags": []
   },
   "outputs": [],
   "source": [
    "x = np.linspace(1, 10, 10)"
   ]
  },
  {
   "cell_type": "markdown",
   "id": "c75d8187-f70c-4bb4-9bfe-b5ebe40398aa",
   "metadata": {},
   "source": [
    "Next, to generate linear data, we will define a *true* gradient, $m$, and intercept, $c$. "
   ]
  },
  {
   "cell_type": "code",
   "execution_count": null,
   "id": "e09d8815-886a-45bd-970e-47299d4e6c2f",
   "metadata": {
    "tags": []
   },
   "outputs": [],
   "source": [
    "true_m = 2.3\n",
    "true_c = 9.6"
   ]
  },
  {
   "cell_type": "markdown",
   "id": "b5159959-6d32-4402-af38-7b54d7f9a6b6",
   "metadata": {},
   "source": [
    "We can then generate random samples from a normal distribution, where the standard deviation is always 1. "
   ]
  },
  {
   "cell_type": "code",
   "execution_count": null,
   "id": "af831e19-6409-41e1-9930-0771f22afd87",
   "metadata": {
    "tags": []
   },
   "outputs": [],
   "source": [
    "y = norm.rvs(loc=true_m * x + true_c, scale=1, size=(10), random_state=np.random.RandomState(1))"
   ]
  },
  {
   "cell_type": "markdown",
   "id": "dc413027-a7ce-443d-b167-903f1578aa7e",
   "metadata": {},
   "source": [
    "We can visualise this data with a plot. "
   ]
  },
  {
   "cell_type": "code",
   "execution_count": null,
   "id": "9ab0f21a-6680-45c9-8b9b-61f91ee5c48c",
   "metadata": {
    "tags": []
   },
   "outputs": [],
   "source": [
    "plt.plot(x, y, 'o')\n",
    "plt.xlabel('$x$')\n",
    "plt.ylabel('$y$')\n",
    "plt.show()"
   ]
  },
  {
   "cell_type": "markdown",
   "id": "2490a2f0-5b18-486e-b284-6d52ab7c318e",
   "metadata": {},
   "source": [
    "It is clear that there is a linear trend in this data, however, it is slightly noisy, as we would expect. \n",
    "The *model* that we will use to analyse this linear trend is the equation of a straight line, which has the form\n",
    "\n",
    "$$\n",
    "y = m x + c.\n",
    "$$\n",
    "\n",
    "In this function, there are two \"fitting parameters\", the gradient and the intercept. \n",
    "Therefore, the next step is to create `Parameter` objects for these. "
   ]
  },
  {
   "cell_type": "code",
   "execution_count": null,
   "id": "d806e4c5-dc1d-446f-ac1a-513164ff612a",
   "metadata": {
    "tags": []
   },
   "outputs": [],
   "source": [
    "m = Parameter(name='gradient', value=2, fixed=False)\n",
    "c = Parameter(name='intercept', value=10, fixed=False)"
   ]
  },
  {
   "cell_type": "markdown",
   "id": "7bd7a0ad-9449-4321-8921-727995f4c447",
   "metadata": {},
   "source": [
    "We can investigate these by showing a representation of the parameters."
   ]
  },
  {
   "cell_type": "code",
   "execution_count": null,
   "id": "0e8c1274-9822-4479-bb1d-fa8d1de3a635",
   "metadata": {
    "tags": []
   },
   "outputs": [],
   "source": [
    "m"
   ]
  },
  {
   "cell_type": "markdown",
   "id": "357ab06c-6e0a-4d30-bb07-7b161d60c6d1",
   "metadata": {},
   "source": [
    "We can see that `m` is a parameter, with a current value of 2 (and no uncertainty, as this comes from the fitting process). \n",
    "The parameter can be bounded, using the `min` and `max` keyword arguments, however, currently `m` is unbounded. \n",
    "\n",
    "Next, we construct the model that implements the equation of a straight line. "
   ]
  },
  {
   "cell_type": "code",
   "execution_count": null,
   "id": "010c94cb-af79-476e-b507-ff7e40760d44",
   "metadata": {},
   "outputs": [],
   "source": [
    "def fit_func(x, *args, **kwargs):\n",
    "    return m.raw_value * x + c.raw_value"
   ]
  },
  {
   "cell_type": "markdown",
   "id": "102cb73a-ae8b-4b9d-b8de-d61425c54c29",
   "metadata": {},
   "source": [
    "We can now have a look at the *current* model data alongside the data we are trying to fit."
   ]
  },
  {
   "cell_type": "code",
   "execution_count": null,
   "id": "ed0d85a5-5470-4181-bff4-89bb7870b525",
   "metadata": {},
   "outputs": [],
   "source": [
    "plt.plot(x, y, 'o')\n",
    "plt.plot(x, fit_func(x), '-')\n",
    "plt.xlabel('$x$')\n",
    "plt.ylabel('$y$')\n",
    "plt.show()"
   ]
  },
  {
   "cell_type": "markdown",
   "id": "20d7ccf6-18c8-456c-9d27-19f741089485",
   "metadata": {},
   "source": [
    "It is clear, that the model currently doesn't agree very well with the data. \n",
    "However, we can now use the fitting functionality to minimise the difference between the model and the data. \n",
    "To achieve this, first we combine the two fitting parameters into a single object. "
   ]
  },
  {
   "cell_type": "code",
   "execution_count": null,
   "id": "2092683f-76bf-4929-871e-2925f22a29a5",
   "metadata": {
    "tags": []
   },
   "outputs": [],
   "source": [
    "b = BaseObj('line', m=m, c=c)"
   ]
  },
  {
   "cell_type": "markdown",
   "id": "5df57850-87c3-4bbc-9829-692c8d56a4e9",
   "metadata": {},
   "source": [
    "This object is then passed to the `Fitter` along with the model that should be used. "
   ]
  },
  {
   "cell_type": "code",
   "execution_count": null,
   "id": "d612f982-f324-4957-920a-57e11d0f560f",
   "metadata": {
    "tags": []
   },
   "outputs": [],
   "source": [
    "f = Fitter(b, fit_func)"
   ]
  },
  {
   "cell_type": "markdown",
   "id": "af2ca35a-ecf2-4afd-91f7-3e4443a41bd1",
   "metadata": {},
   "source": [
    "Finally, the fitting can be performed. "
   ]
  },
  {
   "cell_type": "code",
   "execution_count": null,
   "id": "af4795c7-d70b-4383-8cc1-d6ce7481e177",
   "metadata": {
    "tags": []
   },
   "outputs": [],
   "source": [
    "res = f.fit(x, y, weights=np.ones_like(y))"
   ]
  },
  {
   "cell_type": "markdown",
   "id": "7a3c672c-9392-4468-9f4f-74d661cebf53",
   "metadata": {},
   "source": [
    "We can plot the fitted model and the data together, to show the agreement. "
   ]
  },
  {
   "cell_type": "code",
   "execution_count": null,
   "id": "f6e1fdbc-7f72-49b4-937c-46e628651d28",
   "metadata": {
    "tags": []
   },
   "outputs": [],
   "source": [
    "plt.plot(x, y, 'o')\n",
    "plt.plot(x, fit_func(x), '-')\n",
    "plt.xlabel('$x$')\n",
    "plt.ylabel('$y$')\n",
    "plt.show()"
   ]
  },
  {
   "cell_type": "markdown",
   "id": "7cfcccd8-60a1-402b-9d05-c000f9ef14f9",
   "metadata": {},
   "source": [
    "Additionally, we may investigate the resulting values for the gradient and intercept."
   ]
  },
  {
   "cell_type": "code",
   "execution_count": null,
   "id": "ec9ed549-6c20-4d6d-8435-8005740e157f",
   "metadata": {
    "tags": []
   },
   "outputs": [],
   "source": [
    "m"
   ]
  },
  {
   "cell_type": "code",
   "execution_count": null,
   "id": "3ff2ed11-399d-487c-a103-0b293aa74bc1",
   "metadata": {
    "tags": []
   },
   "outputs": [],
   "source": [
    "c"
   ]
  }
 ],
 "metadata": {
  "kernelspec": {
   "display_name": "Python 3 (ipykernel)",
   "language": "python",
   "name": "python3"
  },
  "language_info": {
   "codemirror_mode": {
    "name": "ipython",
    "version": 3
   },
   "file_extension": ".py",
   "mimetype": "text/x-python",
   "name": "python",
   "nbconvert_exporter": "python",
   "pygments_lexer": "ipython3",
   "version": "3.10.6"
  }
 },
 "nbformat": 4,
 "nbformat_minor": 5
}
