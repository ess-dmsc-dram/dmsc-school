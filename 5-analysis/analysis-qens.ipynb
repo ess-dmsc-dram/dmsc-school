{
 "cells": [
  {
   "cell_type": "code",
   "execution_count": null,
   "metadata": {},
   "outputs": [],
   "source": [
    "%matplotlib widget"
   ]
  },
  {
   "cell_type": "markdown",
   "metadata": {
    "editable": true,
    "slideshow": {
     "slide_type": ""
    },
    "tags": []
   },
   "source": [
    "# Fitting QENS data\n",
    "\n",
    "Previously, some quasi-elastic neutron scattering (QENS) data has been [simulated](./../3-mcstas/QENS_from_function.ipynb) and [reduced](./../4-scipp/qens-reduction.ipynb) and can now be analysed with `easyscience`. \n",
    "Before the analysis can begin, it is necessary to load the experimental data and check that it looks reasonable. \n",
    "The data can be loaded with `np.loadtxt` as the data has been stored in a simple space-separated column file."
   ]
  },
  {
   "cell_type": "code",
   "execution_count": null,
   "metadata": {
    "editable": true,
    "slideshow": {
     "slide_type": ""
    },
    "tags": []
   },
   "outputs": [],
   "source": [
    "import numpy as np\n",
    "from load import load\n",
    "\n",
    "q, i, di = load('../4-reduction/qens_energy_transfer_unknown_quasi_elastic_3_pulse.dat')"
   ]
  },
  {
   "cell_type": "markdown",
   "metadata": {
    "editable": true,
    "slideshow": {
     "slide_type": ""
    },
    "tags": []
   },
   "source": [
    "With the data read in, we can produce a quick plot. "
   ]
  },
  {
   "cell_type": "code",
   "execution_count": null,
   "metadata": {
    "editable": true,
    "slideshow": {
     "slide_type": ""
    },
    "tags": []
   },
   "outputs": [],
   "source": [
    "import matplotlib.pyplot as plt\n",
    "\n",
    "fig, ax = plt.subplots()\n",
    "ax.errorbar(q, i, di, fmt='.')\n",
    "ax.set(xlabel='$\\omega$/meV', ylabel='$I(\\omega)$')\n",
    "plt.show()"
   ]
  },
  {
   "cell_type": "markdown",
   "metadata": {
    "editable": true,
    "slideshow": {
     "slide_type": ""
    },
    "tags": []
   },
   "source": [
    "The QENS data covers a slightly broader range than we want to investigate.\n",
    "Therefore, we will crop the data so that we are only using points between -0.06 and 0.06 meV. "
   ]
  },
  {
   "cell_type": "code",
   "execution_count": null,
   "metadata": {
    "editable": true,
    "slideshow": {
     "slide_type": ""
    },
    "tags": []
   },
   "outputs": [],
   "source": [
    "sel = (q > -0.06) & (q < 0.06)\n",
    "q, i, di = q[sel], i[sel], di[sel]"
   ]
  },
  {
   "cell_type": "markdown",
   "metadata": {
    "editable": true,
    "slideshow": {
     "slide_type": ""
    },
    "tags": []
   },
   "source": [
    "We now want to consider the mathematical model to be used in the analysis. \n",
    "QENS data is typically analysed by fitting a Lorentzian function to the data, which has the functional form\n",
    "\n",
    "$$\n",
    "I(\\omega) = \\frac{A\\gamma}{\\pi\\big[(\\omega - \\omega_0) ^ 2 + \\gamma ^ 2\\big]},\n",
    "$$ (lorentzian)\n",
    "\n",
    "where $A$ is a scale factor, $\\gamma$ is the half-width at half-maximum, and $\\omega_0$ is the centre offset. \n",
    "\n",
    "## Exercise 1: implement a Lorentzian function\n",
    "\n",
    "Write a function that implements Eqn. {eq}`lorentzian`, called `lorentzian`. \n",
    "\n",
    "**Solution:**"
   ]
  },
  {
   "cell_type": "code",
   "execution_count": null,
   "metadata": {},
   "outputs": [],
   "source": [
    "# Insert your solution:\n"
   ]
  },
  {
   "cell_type": "markdown",
   "metadata": {
    "editable": true,
    "slideshow": {
     "slide_type": ""
    },
    "tags": []
   },
   "source": [
    "The instrument has a finite resolution, and to take this into account, the Lorentzian function must be convolved with this resolution. In our case, the resolution is a Gaussian distribution that is centred at zero with width, $\\sigma$. \n",
    "In real experiments there are ways to measure $\\sigma$, but for this project, we will simply model it. "
   ]
  },
  {
   "cell_type": "code",
   "execution_count": null,
   "metadata": {
    "editable": true,
    "slideshow": {
     "slide_type": ""
    },
    "tags": []
   },
   "outputs": [],
   "source": [
    "from scipy.stats import norm\n",
    "\n",
    "def intensity(omega):\n",
    "    \"\"\"\n",
    "    The convolution of a Gaussian and the Lorentzian.\n",
    "    \n",
    "    :omega: the energy transfer values to calculate over.\n",
    "\n",
    "    :return: intensity values.\n",
    "    \"\"\"\n",
    "    gauss = norm(0, sigma.value).pdf(omega)\n",
    "    gauss /= gauss.sum()\n",
    "    return np.convolve(lorentzian(omega), gauss, 'same')"
   ]
  },
  {
   "cell_type": "markdown",
   "metadata": {},
   "source": [
    "This means that there are a total of four parameters in our model. \n",
    "\n",
    "## Exercise 2: create fitting parameters\n",
    "\n",
    "Create four `Parameter` objects, for $A$, $\\gamma$, $\\omega_0$, and $\\sigma$.\n",
    "\n",
    "Each should have an initial value and a uniform prior distribution, based on the values given in {numref}`qens-parameters`."
   ]
  },
  {
   "cell_type": "markdown",
   "metadata": {
    "tags": [
     "remove-cell",
     "dmsc-school-keep"
    ]
   },
   "source": [
    "| Parameter | Initial Value | Min | Max |\n",
    "| --- | --- | --- | --- |\n",
    "| $A$ | 10 | 1 | 100 |\n",
    "| $\\gamma$ | 8.0 &times; 10<sup>-3</sup> | 1.0 &times; 10<sup>-4</sup> | 1.0 &times; 10<sup>-2</sup> |\n",
    "| $\\omega_0$ | 1.0 &times; 10<sup>-3</sup> | 0 | 2.0 &times; 10<sup>-3</sup> |\n",
    "| $\\sigma$ | 1.0 &times; 10<sup>-3</sup> | 1.0 &times; 10<sup>-5</sup> | 1.0 &times; 10<sup>-1</sup> |"
   ]
  },
  {
   "cell_type": "markdown",
   "metadata": {},
   "source": [
    "**Solution:**"
   ]
  },
  {
   "cell_type": "code",
   "execution_count": null,
   "metadata": {},
   "outputs": [],
   "source": [
    "# Insert your solution:\n"
   ]
  },
  {
   "cell_type": "markdown",
   "metadata": {
    "editable": true,
    "slideshow": {
     "slide_type": ""
    },
    "tags": []
   },
   "source": [
    "It is now possible to compare our model at the initial estimates to the simulated data. "
   ]
  },
  {
   "cell_type": "code",
   "execution_count": null,
   "metadata": {
    "editable": true,
    "slideshow": {
     "slide_type": ""
    },
    "tags": []
   },
   "outputs": [],
   "source": [
    "fig, ax = plt.subplots()\n",
    "ax.errorbar(q, i, di, fmt='.')\n",
    "ax.plot(q, intensity(q), '-k', zorder=10)\n",
    "ax.set(xlabel='$\\omega$/meV', ylabel='$I(\\omega)$')\n",
    "plt.show()"
   ]
  },
  {
   "cell_type": "markdown",
   "metadata": {},
   "source": [
    "## Exercise 3: find maximum likelihood estimates\n",
    "\n",
    "Using `easyscience`, obtain maximum likelihood estimates for the four parameters of the model from comparison with the data.\n",
    "\n",
    "**Solution:**"
   ]
  },
  {
   "cell_type": "code",
   "execution_count": null,
   "metadata": {},
   "outputs": [],
   "source": [
    "# Insert your solution:\n"
   ]
  },
  {
   "cell_type": "markdown",
   "metadata": {
    "editable": true,
    "slideshow": {
     "slide_type": ""
    },
    "tags": []
   },
   "source": [
    "We can then plot the model and the data together as before and print the values of the parameters along with their uncertainties. "
   ]
  },
  {
   "cell_type": "code",
   "execution_count": null,
   "metadata": {
    "editable": true,
    "slideshow": {
     "slide_type": ""
    },
    "tags": []
   },
   "outputs": [],
   "source": [
    "fig, ax = plt.subplots()\n",
    "ax.errorbar(q, i, di, fmt='.')\n",
    "ax.plot(q, intensity(q), '-k', zorder=10)\n",
    "ax.set(xlabel='$\\omega$/meV', ylabel='$I(\\omega)$')\n",
    "plt.show()"
   ]
  },
  {
   "cell_type": "code",
   "execution_count": null,
   "metadata": {
    "editable": true,
    "slideshow": {
     "slide_type": ""
    },
    "tags": []
   },
   "outputs": [],
   "source": [
    "A, gamma, omega_0, sigma"
   ]
  }
 ],
 "metadata": {
  "kernelspec": {
   "display_name": "Python 3 (ipykernel)",
   "language": "python",
   "name": "python3"
  },
  "language_info": {
   "codemirror_mode": {
    "name": "ipython",
    "version": 3
   },
   "file_extension": ".py",
   "mimetype": "text/x-python",
   "name": "python",
   "nbconvert_exporter": "python",
   "pygments_lexer": "ipython3",
   "version": "3.11.9"
  }
 },
 "nbformat": 4,
 "nbformat_minor": 4
}
