{
 "cells": [
  {
   "cell_type": "markdown",
   "id": "403b137b-6d4c-4d44-8a36-45c3380e74b1",
   "metadata": {
    "editable": true,
    "slideshow": {
     "slide_type": ""
    },
    "tags": []
   },
   "source": [
    "# SANS data reduction\n",
    "\n",
    "This notebook will guide you through the data reduction for the SANS experiment that you simulated with McStas yesterday.\n",
    "\n",
    "The following is a basic outline of what this notebook will cover:\n",
    "\n",
    "- Loading the NeXus files that contain the data\n",
    "- Inspect/visualize the data contents\n",
    "- How to convert the raw `time-of-flight` coordinate to something more useful ($\\lambda$, $Q$, ...)\n",
    "- Normalize to a flat field run\n",
    "- Write the results to file"
   ]
  },
  {
   "cell_type": "code",
   "execution_count": null,
   "id": "0bfa10eb-2a03-4672-802d-9d8f5620c9c5",
   "metadata": {
    "editable": true,
    "slideshow": {
     "slide_type": ""
    },
    "tags": []
   },
   "outputs": [],
   "source": [
    "import numpy as np\n",
    "import scipp as sc\n",
    "import plopp as pp\n",
    "import utils"
   ]
  },
  {
   "cell_type": "markdown",
   "id": "2319763f-3ef7-411b-8bf9-3d9635b314dd",
   "metadata": {
    "editable": true,
    "slideshow": {
     "slide_type": ""
    },
    "tags": []
   },
   "source": [
    "## Process the run with a sample\n",
    "\n",
    "### Load the NeXus file data"
   ]
  },
  {
   "cell_type": "code",
   "execution_count": null,
   "id": "6aff8748-d983-4dca-9330-1acaffc676d0",
   "metadata": {
    "editable": true,
    "slideshow": {
     "slide_type": ""
    },
    "tags": []
   },
   "outputs": [],
   "source": [
    "folder = \"../3-mcstas/SANS_with_sample_many_neutrons\"\n",
    "\n",
    "sample = utils.load_sans(folder)"
   ]
  },
  {
   "cell_type": "markdown",
   "id": "82e79171-532d-45c9-953d-fadac3d1e963",
   "metadata": {
    "editable": true,
    "slideshow": {
     "slide_type": ""
    },
    "tags": []
   },
   "source": [
    "The first way to inspect the data is to view the HTML representation of the loaded object.\n",
    "\n",
    "Try to explore what is inside the data, and familiarize yourself with the different sections (`Dimensions`, `Coordinates`, `Data`)."
   ]
  },
  {
   "cell_type": "code",
   "execution_count": null,
   "id": "bf4e4857-739c-4d6d-94bc-14b6e2fd3da7",
   "metadata": {
    "editable": true,
    "slideshow": {
     "slide_type": ""
    },
    "tags": []
   },
   "outputs": [],
   "source": [
    "sample"
   ]
  },
  {
   "cell_type": "markdown",
   "id": "d337b0c8-9836-4338-80c2-6a4155c816e2",
   "metadata": {
    "editable": true,
    "slideshow": {
     "slide_type": ""
    },
    "tags": []
   },
   "source": [
    "### Visualize the data\n",
    "\n",
    "Here is a 2D visualization of the neutron counts, histogrammed along the `tof` and `y` dimensions:"
   ]
  },
  {
   "cell_type": "code",
   "execution_count": null,
   "id": "31ef1533-c991-40bc-a840-9713e5b132cb",
   "metadata": {
    "editable": true,
    "slideshow": {
     "slide_type": ""
    },
    "tags": []
   },
   "outputs": [],
   "source": [
    "sample.hist(tof=200, y=200).plot(norm=\"log\", vmin=1.0e-2)"
   ]
  },
  {
   "cell_type": "markdown",
   "id": "b3db4e2a-b79a-4866-9fef-5c2b315319eb",
   "metadata": {
    "editable": true,
    "slideshow": {
     "slide_type": ""
    },
    "tags": []
   },
   "source": [
    "Histogramming along `y` only gives a 1D plot:"
   ]
  },
  {
   "cell_type": "code",
   "execution_count": null,
   "id": "e7632c23-31ba-42dd-a118-75f4c821511d",
   "metadata": {
    "editable": true,
    "slideshow": {
     "slide_type": ""
    },
    "tags": []
   },
   "outputs": [],
   "source": [
    "sample.hist(y=200).plot(norm=\"log\")"
   ]
  },
  {
   "cell_type": "markdown",
   "id": "6e377969-cae6-44f3-a5cf-11c0df008e11",
   "metadata": {
    "editable": true,
    "slideshow": {
     "slide_type": ""
    },
    "tags": []
   },
   "source": [
    "### Coordinate transformations\n",
    "\n",
    "The first step in the data reduction is to convert the raw event coordinates (position, time-of-flight) to something physically meaningful such as wavelength ($\\lambda$) or momentum transfer ($Q$).\n",
    "\n",
    "Scipp has a dedicated method for this called `transform_coords` (see docs [here](https://scipp.github.io/scippneutron/user-guide/coordinate-transformations.html)).\n",
    "\n",
    "We begin with a standard graph which describes how to compute e.g. the wavelength from the other coordinates in the raw data."
   ]
  },
  {
   "cell_type": "code",
   "execution_count": null,
   "id": "5b4e0704-015c-47a1-a591-b9685eee9072",
   "metadata": {
    "editable": true,
    "slideshow": {
     "slide_type": ""
    },
    "tags": []
   },
   "outputs": [],
   "source": [
    "from scippneutron.conversion.graph.beamline import beamline\n",
    "from scippneutron.conversion.graph.tof import kinematic\n",
    "\n",
    "graph = {**beamline(scatter=True), **kinematic(\"tof\")}\n",
    "sc.show_graph(graph, simplified=True)"
   ]
  },
  {
   "cell_type": "markdown",
   "id": "e2ed91bc-43f8-424c-b84b-fadbfb2b106a",
   "metadata": {
    "editable": true,
    "slideshow": {
     "slide_type": ""
    },
    "tags": []
   },
   "source": [
    "To compute the wavelength of all the events, we simply call `transform_coords` on our loaded data,\n",
    "requesting the name of the coordinate we want in the output (`\"wavelength\"`),\n",
    "as well as providing it the graph to be used to compute it (i.e. the one we defined just above).\n",
    "\n",
    "This yields"
   ]
  },
  {
   "cell_type": "code",
   "execution_count": null,
   "id": "2c013a72-4006-472a-8f45-f63187adae19",
   "metadata": {
    "editable": true,
    "slideshow": {
     "slide_type": ""
    },
    "tags": []
   },
   "outputs": [],
   "source": [
    "sample_wav = sample.transform_coords(\"wavelength\", graph=graph)\n",
    "sample_wav"
   ]
  },
  {
   "cell_type": "markdown",
   "id": "13ac3430-4024-4354-9f4c-cea499c4dca2",
   "metadata": {
    "editable": true,
    "slideshow": {
     "slide_type": ""
    },
    "tags": []
   },
   "source": [
    "The result has a `wavelength` coordinate. We can also plot the result:"
   ]
  },
  {
   "cell_type": "code",
   "execution_count": null,
   "id": "1a05518c-7537-4cf2-89f2-781af5257ee2",
   "metadata": {
    "editable": true,
    "slideshow": {
     "slide_type": ""
    },
    "tags": []
   },
   "outputs": [],
   "source": [
    "sample_wav.hist(wavelength=200).plot()"
   ]
  },
  {
   "cell_type": "markdown",
   "id": "1d6485a2-5c0b-45f8-8099-76b2e60cbcea",
   "metadata": {
    "editable": true,
    "slideshow": {
     "slide_type": ""
    },
    "tags": []
   },
   "source": [
    "We can see that the range of observed wavelengths agrees with the range set in the McStas model (5.25 - 6.75 Å)"
   ]
  },
  {
   "cell_type": "markdown",
   "id": "2f24c81d-09ce-47fb-ab85-373f2a38facb",
   "metadata": {
    "editable": true,
    "slideshow": {
     "slide_type": ""
    },
    "tags": []
   },
   "source": [
    "### Exercise 1: convert raw data to $Q$\n",
    "\n",
    "Instead of wavelength as in the example above,\n",
    "the task is now to convert the raw data to momentum-transfer $Q$.\n",
    "\n",
    "The transformation graph is missing the computation for $Q$ so you will have to add it in yourself.\n",
    "As a reminder, $Q$ is computed as follows\n",
    "\n",
    "$$Q = \\frac{4\\pi \\sin(\\theta)}{\\lambda}$$\n",
    "\n",
    "You have to:\n",
    "\n",
    "- create a function that computes $Q$\n",
    "- add it to the graph\n",
    "- call `transform_coords` using the new graph\n",
    "\n",
    "Note that the graph already contains the necessary components to compute the scattering angle $2 \\theta$ (called `two_theta` in code)."
   ]
  },
  {
   "cell_type": "markdown",
   "id": "064ea76d-0138-4629-8d8a-71520192933c",
   "metadata": {
    "editable": true,
    "slideshow": {
     "slide_type": ""
    },
    "tags": []
   },
   "source": [
    "**Solution:**"
   ]
  },
  {
   "cell_type": "code",
   "execution_count": null,
   "id": "f4b5288c-8194-43ea-b375-e25d8a67a3c0",
   "metadata": {
    "editable": true,
    "slideshow": {
     "slide_type": ""
    },
    "tags": [
     "hide-cell",
     "solution"
    ]
   },
   "outputs": [],
   "source": [
    "def compute_q(two_theta, wavelength):\n",
    "    return (4.0 * np.pi) * sc.sin(two_theta / 2) / wavelength\n",
    "\n",
    "\n",
    "graph[\"Q\"] = compute_q\n",
    "\n",
    "# Show the updated graph\n",
    "display(sc.show_graph(graph, simplified=True))\n",
    "\n",
    "# Run the coordinate transformation\n",
    "sample_q = sample.transform_coords(\"Q\", graph=graph)\n",
    "sample_q"
   ]
  },
  {
   "cell_type": "markdown",
   "id": "6334deda-d505-40c9-8fb7-25f1fdda6054",
   "metadata": {
    "editable": true,
    "slideshow": {
     "slide_type": ""
    },
    "tags": []
   },
   "source": [
    "### Histogram the data in $Q$\n",
    "\n",
    "The final step in processing the sample run is to histogram the data into $Q$ bins."
   ]
  },
  {
   "cell_type": "code",
   "execution_count": null,
   "id": "44e6ba9f-3255-4491-9760-e817da9c1820",
   "metadata": {
    "editable": true,
    "slideshow": {
     "slide_type": ""
    },
    "tags": []
   },
   "outputs": [],
   "source": [
    "sample_h = sample_q.hist(Q=200)\n",
    "sample_h.plot(norm=\"log\", vmin=1)"
   ]
  },
  {
   "cell_type": "markdown",
   "id": "a4ba424c-05f1-436d-be55-25c7736b9ade",
   "metadata": {
    "editable": true,
    "slideshow": {
     "slide_type": ""
    },
    "tags": []
   },
   "source": [
    "## Exercise 2: process flat-field run\n",
    "\n",
    "Repeat the step carried out above for the run that contained no sample (also known as a \"flat-field\" run)."
   ]
  },
  {
   "cell_type": "markdown",
   "id": "8fef658d-b88a-4fce-96c2-6a2a6408e250",
   "metadata": {
    "editable": true,
    "slideshow": {
     "slide_type": ""
    },
    "tags": []
   },
   "source": [
    "**Solution:**"
   ]
  },
  {
   "cell_type": "code",
   "execution_count": null,
   "id": "4dbd1772-d92c-402a-88d2-1c2bf93fae51",
   "metadata": {
    "editable": true,
    "slideshow": {
     "slide_type": ""
    },
    "tags": [
     "hide-cell",
     "solution"
    ]
   },
   "outputs": [],
   "source": [
    "folder = \"../3-mcstas/SANS_without_sample_many_neutrons\"\n",
    "# Load file\n",
    "flat = utils.load_sans(folder)\n",
    "\n",
    "# Convert to Q\n",
    "flat_q = flat.transform_coords(\"Q\", graph=graph)\n",
    "\n",
    "# Histogram and add variances\n",
    "flat_h = flat_q.hist(Q=200)\n",
    "flat_h.plot()"
   ]
  },
  {
   "cell_type": "markdown",
   "id": "14116ebb-7ab7-496a-b4f6-db97ae5ab9f5",
   "metadata": {
    "editable": true,
    "slideshow": {
     "slide_type": ""
    },
    "tags": []
   },
   "source": [
    "**Bonus question:** can you explain why the counts in the flat-field data drop at high $Q$?\n",
    "\n",
    "## Exercise 3: Normalize the sample run\n",
    "\n",
    "The flat-field run is giving a measure of the efficiency of each detector pixel.\n",
    "This efficiency now needs to be used to correct the counts in the sample run to yield a realistic $I(Q)$ profile.\n",
    "\n",
    "In particular, this should remove any unwanted artifacts in the data,\n",
    "such as the drop in counts around 0.03 Å<sup>-1</sup> due to the air bubble inside the detector tube.\n",
    "\n",
    "Normalizing is essentially just dividing the sample run by the flat field run.\n",
    "\n",
    "**Hint:** you may run into an error like `\"Mismatch in coordinate 'Q'\"`. Why is this happening? How can you get around it?"
   ]
  },
  {
   "cell_type": "markdown",
   "id": "896e8fd7-c8d5-428e-a85d-049bdb4ebcb5",
   "metadata": {
    "editable": true,
    "slideshow": {
     "slide_type": ""
    },
    "tags": []
   },
   "source": [
    "**Solution:**"
   ]
  },
  {
   "cell_type": "code",
   "execution_count": null,
   "id": "5da8bd92-7158-43ad-b59b-c67fb9542069",
   "metadata": {
    "editable": true,
    "slideshow": {
     "slide_type": ""
    },
    "tags": [
     "raises-exception",
     "hide-cell",
     "solution"
    ]
   },
   "outputs": [],
   "source": [
    "normed = sample_h / flat_h"
   ]
  },
  {
   "cell_type": "code",
   "execution_count": null,
   "id": "b5fb61a8-514d-49bc-8987-044a183309ef",
   "metadata": {
    "editable": true,
    "slideshow": {
     "slide_type": ""
    },
    "tags": [
     "hide-cell",
     "solution"
    ]
   },
   "outputs": [],
   "source": [
    "# Make common bins, restricting the range to avoid NaNs\n",
    "qbins = sc.linspace(\"Q\", 5.0e-3, 0.19, 201, unit=\"1/angstrom\")\n",
    "\n",
    "# Histogram both sample and flat-field with same bins\n",
    "sample_h = sample_q.hist(Q=qbins)\n",
    "flat_h = flat_q.hist(Q=qbins)\n",
    "\n",
    "# Normalize\n",
    "normed = sample_h / flat_h"
   ]
  },
  {
   "cell_type": "code",
   "execution_count": null,
   "id": "5750dd8a-a445-44d0-84a2-18eb9433e92b",
   "metadata": {
    "editable": true,
    "slideshow": {
     "slide_type": ""
    },
    "tags": []
   },
   "outputs": [],
   "source": [
    "normed.plot(norm=\"log\", vmin=1.0e-3, vmax=10.0)"
   ]
  },
  {
   "cell_type": "markdown",
   "id": "e17a5ace-57af-447a-bcbb-1337f0bed86b",
   "metadata": {
    "editable": true,
    "slideshow": {
     "slide_type": ""
    },
    "tags": []
   },
   "source": [
    "## Save result to disk\n",
    "\n",
    "Finally, we need to save our results to disk,\n",
    "so that the reduced data can be forwarded to the next step in the pipeline (data analysis).\n",
    "\n",
    "We will use a simple text file for this:"
   ]
  },
  {
   "cell_type": "code",
   "execution_count": null,
   "id": "7f69249a-f61f-457a-8a86-e9487b4b9dba",
   "metadata": {
    "editable": true,
    "slideshow": {
     "slide_type": ""
    },
    "tags": []
   },
   "outputs": [],
   "source": [
    "from scippneutron.io import save_xye\n",
    "\n",
    "# The simple file format does not support bin-edge coordinates.\n",
    "# So we convert to bin-centers first.\n",
    "data = normed.copy()\n",
    "data.coords[\"Q\"] = sc.midpoints(data.coords[\"Q\"])\n",
    "\n",
    "save_xye(\"sans_iofq.dat\", data)"
   ]
  },
  {
   "cell_type": "markdown",
   "id": "34cc302a-713a-4bcd-a402-065c5371e136",
   "metadata": {},
   "source": [
    "## Bonus exercise\n",
    "\n",
    "Re-run the reduction using the results from the simulations with less neutrons,\n",
    "and compare the results."
   ]
  }
 ],
 "metadata": {
  "kernelspec": {
   "display_name": "Python 3 (ipykernel)",
   "language": "python",
   "name": "python3"
  },
  "language_info": {
   "codemirror_mode": {
    "name": "ipython",
    "version": 3
   },
   "file_extension": ".py",
   "mimetype": "text/x-python",
   "name": "python",
   "nbconvert_exporter": "python",
   "pygments_lexer": "ipython3",
   "version": "3.12.10"
  }
 },
 "nbformat": 4,
 "nbformat_minor": 5
}
