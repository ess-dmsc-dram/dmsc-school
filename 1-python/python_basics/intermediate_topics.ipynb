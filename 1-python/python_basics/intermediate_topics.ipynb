{
 "cells": [
  {
   "cell_type": "markdown",
   "metadata": {
    "editable": true,
    "slideshow": {
     "slide_type": ""
    },
    "tags": []
   },
   "source": [
    "# Intermediate topics"
   ]
  },
  {
   "cell_type": "markdown",
   "metadata": {},
   "source": [
    "If you are already familiar with the Python basics, this notebook will introduce you to some more advanced topics.\n",
    "Neither of these topics is required to complete the exercises, but they may be useful to you in the future.\n",
    "\n",
    "This notebook is not a complete introduction to these topics, but rather a quick overview of some of the most useful features.\n",
    "If you want to learn more, you can find many tutorials online.\n",
    "\n",
    "We will cover:\n",
    "\n",
    "- Dict-comprehensions\n",
    "- Lambda functions\n",
    "- Type hints\n",
    "- Keyword arguments\n",
    "- `*args` and `**kwargs`\n",
    "- Dataclasses\n",
    "- Decorators\n",
    "- Utilities from the standard library"
   ]
  },
  {
   "cell_type": "markdown",
   "metadata": {},
   "source": [
    "## Dict-comprehension\n",
    "\n",
    "We previously introduced `list`-comprehension:"
   ]
  },
  {
   "cell_type": "code",
   "execution_count": null,
   "metadata": {},
   "outputs": [],
   "source": [
    "mylist = [2, 1, 3, 4, 5]\n",
    "mysquares = [x**2 for x in mylist]\n",
    "mysquares"
   ]
  },
  {
   "cell_type": "markdown",
   "metadata": {},
   "source": [
    "There is also `dict`-comprehension, with various flavors:"
   ]
  },
  {
   "cell_type": "code",
   "execution_count": null,
   "metadata": {},
   "outputs": [],
   "source": [
    "mydict = {\"a\": 1, \"b\": 2, \"c\": 3}\n",
    "\n",
    "# Iterate over dict items\n",
    "mysquaresdict = {key: value**2 for (key, value) in mydict.items()}\n",
    "\n",
    "# Iterate over dict items and modify keys\n",
    "mydictwithnewkeys = {key.upper(): value**2 for (key, value) in mydict.items()}\n",
    "\n",
    "# Iterate over a list or other iterable\n",
    "mydictfromlist = {x: x**2 for x in mylist}\n",
    "\n",
    "print(mysquaresdict)\n",
    "print(mydictwithnewkeys)\n",
    "print(mydictfromlist)"
   ]
  },
  {
   "cell_type": "markdown",
   "metadata": {},
   "source": [
    "## Lambda functions\n",
    "\n",
    "Lambda functions are a way to define functions \"inline\", without giving them a name.\n",
    "This can be useful when we deal with another function that takes a function as an argument.\n",
    "The syntax is:\n",
    "\n",
    "```python\n",
    "lambda <arguments>: <expression>\n",
    "```\n",
    "\n",
    "The expression is evaluated and returned when the function is called.\n",
    "Example:"
   ]
  },
  {
   "cell_type": "code",
   "execution_count": null,
   "metadata": {},
   "outputs": [],
   "source": [
    "def process_list(values, function):\n",
    "    return [function(x) for x in values]\n",
    "\n",
    "\n",
    "mylist = [2, 1, 3, 4, 5]\n",
    "print(process_list(mylist, lambda x: x + 2))\n",
    "print(process_list(mylist, lambda x: x**2))"
   ]
  },
  {
   "cell_type": "markdown",
   "metadata": {},
   "source": [
    "## Type hints\n",
    "\n",
    "Python is a dynamically typed language, which means that the type of a variable is not known at compile time.\n",
    "This is in contrast to statically typed languages like C, where the type of a variable must be declared before it is used.\n",
    "As a relatively recent addition to the language, Python now supports type hints.\n",
    "These are not enforced by the interpreter, but can be used by external tools to check for type errors.\n",
    "Maybe more importantly, they can be used to document the expected types of arguments and return values, improving readability.\n",
    "Over the past years, type hints have become increasingly popular, and are now used in many popular libraries, to the point where they are almost expected.\n",
    "\n",
    "Example:"
   ]
  },
  {
   "cell_type": "code",
   "execution_count": null,
   "metadata": {},
   "outputs": [],
   "source": [
    "def format_info(name: str, age: int) -> str:\n",
    "    return f\"{name} is {age} years old\""
   ]
  },
  {
   "cell_type": "markdown",
   "metadata": {},
   "source": [
    "- Type hints for function arguments are written after the argument name, separated by a colon:\n",
    "  - `name` is a string\n",
    "  - `age` is an integer\n",
    "- The return type is written after an arrow `->`:\n",
    "  - The function returns a string\n",
    "\n",
    "Note that the type hints are literally *hints* and are not enforced by the interpreter, so the following code will run without errors:"
   ]
  },
  {
   "cell_type": "code",
   "execution_count": null,
   "metadata": {},
   "outputs": [],
   "source": [
    "format_info(\"John\", 25.5)"
   ]
  },
  {
   "cell_type": "code",
   "execution_count": null,
   "metadata": {},
   "outputs": [],
   "source": [
    "format_info(11, [1, 2, 3])"
   ]
  },
  {
   "cell_type": "markdown",
   "metadata": {},
   "source": [
    "\n",
    "Apart from single types like `int`, `float`, `str`, `list`, `dict`, etc., we can also use combinations of types.\n",
    "Note that the `|` operator means 'OR', i.e. that the type can be one or the other.\n",
    "\n",
    "Example:"
   ]
  },
  {
   "cell_type": "code",
   "execution_count": null,
   "metadata": {},
   "outputs": [],
   "source": [
    "import math\n",
    "\n",
    "\n",
    "def mysqrt(x: list[int | float]) -> list[float]:\n",
    "    \"\"\"Take a list of integers or floats and return a list of their square roots\"\"\"\n",
    "    return [math.sqrt(y) for y in x]"
   ]
  },
  {
   "cell_type": "markdown",
   "metadata": {},
   "source": [
    "## Keyword arguments\n",
    "\n",
    "When calling a function, we can specify the arguments by position or by name.\n",
    "The latter is called *keyword arguments*.\n",
    "Keyword arguments can be used to make the code more readable, and to specify default values for arguments.\n",
    "Using keyword arguments for all arguments is a good practice (apart from cases such as function with a single arguments), as it makes the code more robust to changes in the function signature and improves readability:"
   ]
  },
  {
   "cell_type": "code",
   "execution_count": null,
   "metadata": {},
   "outputs": [],
   "source": [
    "def format_info(name: str, age: int) -> str:\n",
    "    return f\"{name} is {age} years old\"\n",
    "\n",
    "\n",
    "format_info(name=\"John\", age=25)"
   ]
  },
  {
   "cell_type": "markdown",
   "metadata": {
    "editable": true,
    "slideshow": {
     "slide_type": ""
    },
    "tags": []
   },
   "source": [
    "## \\*args and \\*\\*kwargs\n",
    "\n",
    "Sometimes we want to write a function that takes an arbitrary number of arguments.\n",
    "This can be done using `*args` and `**kwargs`.\n",
    "The names `args` and `kwargs` are not special, but are commonly used.\n",
    "Example:"
   ]
  },
  {
   "cell_type": "code",
   "execution_count": null,
   "metadata": {
    "editable": true,
    "slideshow": {
     "slide_type": ""
    },
    "tags": []
   },
   "outputs": [],
   "source": [
    "def average_age(*ages: int) -> float:\n",
    "    return sum(ages) / len(ages)\n",
    "\n",
    "\n",
    "def format_family_info(**ages: int) -> str:\n",
    "    info = \", \".join([f\"{name} is {age} years old\" for name, age in ages.items()])\n",
    "    return info + f\". Their average age is {average_age(*ages.values())}.\"\n",
    "\n",
    "\n",
    "format_family_info(John=25, Jane=24, Jack=17)"
   ]
  },
  {
   "cell_type": "markdown",
   "metadata": {},
   "source": [
    "We can also use `*` and `**` when calling a function, to unpack a list or dictionary into arguments:"
   ]
  },
  {
   "cell_type": "code",
   "execution_count": null,
   "metadata": {},
   "outputs": [],
   "source": [
    "family = {\"Jack\": 17, \"Jill\": 15}\n",
    "print(f\"Average age: {average_age(*family.values())}\")\n",
    "print(format_family_info(**family))"
   ]
  },
  {
   "cell_type": "markdown",
   "metadata": {},
   "source": [
    "## Dataclasses\n",
    "\n",
    "[Dataclasses](https://docs.python.org/3/library/dataclasses.html) are a convenient way to create classes that are mostly used to store data.\n",
    "Even if you are not familiar with classes in Python, you can probably understand the following example.\n",
    "For more details, see, for example, this video introduction: [If you're not using Python DATA CLASSES yet, you should](https://www.youtube.com/watch?v=vRVVyl9uaZc)."
   ]
  },
  {
   "cell_type": "code",
   "execution_count": null,
   "metadata": {},
   "outputs": [],
   "source": [
    "from dataclasses import dataclass\n",
    "\n",
    "\n",
    "@dataclass\n",
    "class Experiment:\n",
    "    name: str\n",
    "    date: str\n",
    "    temperature: float\n",
    "    pressure: float"
   ]
  },
  {
   "cell_type": "markdown",
   "metadata": {},
   "source": [
    "`@dataclass` is a so-called decorator that adds convenient functionality to the class.\n",
    "We can use our class `Experiment` as follows:"
   ]
  },
  {
   "cell_type": "code",
   "execution_count": null,
   "metadata": {},
   "outputs": [],
   "source": [
    "exp1 = Experiment(\n",
    "    name=\"my first experiment\", date=\"2020-01-01\", temperature=20.0, pressure=1.0\n",
    ")\n",
    "exp2 = Experiment(\n",
    "    name=\"my second experiment\", date=\"2020-01-02\", temperature=21.0, pressure=1.1\n",
    ")\n",
    "print(exp1)\n",
    "print(exp2)\n",
    "# Access fields\n",
    "print(exp1.date)"
   ]
  },
  {
   "cell_type": "markdown",
   "metadata": {},
   "source": [
    "Dataclasses can also have default arguments.\n",
    "For mutable default argument such as a list, we need to use `field(default_factory=list)`:"
   ]
  },
  {
   "cell_type": "code",
   "execution_count": null,
   "metadata": {},
   "outputs": [],
   "source": [
    "from dataclasses import dataclass, field\n",
    "\n",
    "\n",
    "@dataclass\n",
    "class Experiment:\n",
    "    date: str\n",
    "    location: str = \"ESS\"\n",
    "    comments: list = field(default_factory=list)\n",
    "\n",
    "\n",
    "# Default location and comments\n",
    "print(Experiment(date=\"2020-01-01\"))\n",
    "# Override default location, keep default comments\n",
    "print(Experiment(date=\"2020-01-01\", location=\"ILL\"))\n",
    "# Default location, override default comments\n",
    "print(Experiment(date=\"2020-01-01\", comments=[\"test1\", \"test2\"]))"
   ]
  },
  {
   "cell_type": "markdown",
   "metadata": {},
   "source": [
    "## Decorators\n",
    "\n",
    "Decorators are a way to modify the behavior of a function.\n",
    "They are written as functions that take a function as an argument, and return a new function.\n",
    "The syntax is:"
   ]
  },
  {
   "cell_type": "code",
   "execution_count": null,
   "metadata": {},
   "outputs": [],
   "source": [
    "def mydecorator(func):\n",
    "    def wrapper(*args, **kwargs):\n",
    "        # Do something before calling the function\n",
    "        print(\n",
    "            f\"Your function {func.__name__} is about to be called with arguments {args} and {kwargs}\"\n",
    "        )\n",
    "        # Call the function\n",
    "        result = func(*args, **kwargs)\n",
    "        # Do something after calling the function\n",
    "        print(f\"Your function {func.__name__} was called\")\n",
    "        return result\n",
    "\n",
    "    return wrapper\n",
    "\n",
    "\n",
    "@mydecorator\n",
    "def myfunction():\n",
    "    print(\"Hello world\")\n",
    "\n",
    "\n",
    "@mydecorator\n",
    "def myfunction2(x):\n",
    "    print(f\"Hello {x}\")\n",
    "\n",
    "\n",
    "myfunction()\n",
    "myfunction2(\"John\")"
   ]
  },
  {
   "cell_type": "markdown",
   "metadata": {
    "editable": true,
    "slideshow": {
     "slide_type": ""
    },
    "tags": []
   },
   "source": [
    "## Utilities from the standard library\n",
    "\n",
    "When you are writing Python code, you should always check if there is a utility in the standard library that does what you want.\n",
    "More often than not, there is.\n",
    "Here are some examples:\n",
    "\n",
    "- [Built-in functions](https://docs.python.org/3/library/functions.html) such as `map`, `filter`, `enumerate`, `zip`, and `reduce`.\n",
    "- [itertools](https://docs.python.org/3/library/itertools.html).\n",
    "- [functools](https://docs.python.org/3/library/functools.html), in particular [functools.partial](https://docs.python.org/3/library/functools.html#functools.partial)."
   ]
  }
 ],
 "metadata": {
  "kernelspec": {
   "display_name": "Python 3 (ipykernel)",
   "language": "python",
   "name": "python3"
  },
  "language_info": {
   "codemirror_mode": {
    "name": "ipython",
    "version": 3
   },
   "file_extension": ".py",
   "mimetype": "text/x-python",
   "name": "python",
   "nbconvert_exporter": "python",
   "pygments_lexer": "ipython3",
   "version": "3.12.7"
  }
 },
 "nbformat": 4,
 "nbformat_minor": 4
}
