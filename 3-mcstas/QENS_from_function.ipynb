{
 "cells": [
  {
   "cell_type": "code",
   "execution_count": null,
   "id": "egyptian-salvation",
   "metadata": {
    "editable": true,
    "slideshow": {
     "slide_type": ""
    },
    "tags": []
   },
   "outputs": [],
   "source": [
    "import mcstasscript as ms\n",
    "import mcstasscript.jb_interface as ms_widget\n",
    "import scipp as sc\n",
    "import plopp as pp\n",
    "import numpy as np\n",
    "\n",
    "import matplotlib.pyplot as plt\n",
    "\n",
    "# %matplotlib widget\n",
    "\n",
    "import make_QENS_instrument"
   ]
  },
  {
   "cell_type": "code",
   "execution_count": null,
   "id": "44b22807-4acd-409b-9755-3b5f21e6fdfa",
   "metadata": {
    "editable": true,
    "slideshow": {
     "slide_type": ""
    },
    "tags": [
     "remove-cell"
    ]
   },
   "outputs": [],
   "source": [
    "my_configurator = ms.Configurator()\n",
    "my_configurator.set_mcrun_path(\"/usr/bin/\")\n",
    "my_configurator.set_mcstas_path(\"/usr/share/mcstas/3.3/\")"
   ]
  },
  {
   "cell_type": "markdown",
   "id": "unexpected-mandate",
   "metadata": {},
   "source": [
    "# QENS exercise\n",
    "This notebook contains code and questions for a McStas simulation of a simplified backscattering instrument that can investigate quasi-elastic scattering from samples. Quasi-elastic scattering is inelastic scattering with small transfers and typically views a broadening of the elastic signal. At ESS the backscattering instrument under construction is called MIRACLES and uses an inverse time of flight technique, here neutrons are scattered of the sample and some hit an analyzer afterwards. This analyzer is angled such that the neutron is scattered almost backwards, and due to Braggs law this will happen with a given energy. It turns out the precision of that energy is highest when the neutron is scattered back in the direction it came from, but most instruments choose a slightly lower angle to avoid hitting the sample a second time. The detector is then placed slightly above or below the sample. Since the analyzer choose a specific energy, the final energy of the neutrons being recorded in the detector is known, this can be used to propagate the time of the neutron to the sample position. Then the time at that moment and the known pulse time can be used to calculate the time-of-flight, which with the known distance gives the speed and thus energy before scattering in the sample. The difference between the known initial and final energy provide the energy transfer, which for backscattering can be down to $\\mu$eV, where most other inelastic techniques look at meV.\n",
    "\n",
    "In this notebook you will get this simplified backscattering instrument and answer a few questions about the results. You will also get to improve it and run experiments with a small range of known and unknown samples.\n",
    "\n",
    "### Get an instrument object\n",
    "Here from a function, in future could be online repository"
   ]
  },
  {
   "cell_type": "code",
   "execution_count": null,
   "id": "loose-workstation",
   "metadata": {},
   "outputs": [],
   "source": [
    "instrument = make_QENS_instrument.make(input_path=\"run_folder\")\n",
    "nexus_mode = False"
   ]
  },
  {
   "cell_type": "markdown",
   "id": "continued-thong",
   "metadata": {},
   "source": [
    "## Investigate instrument\n",
    "First investigate the instrument object *instrument* using some of the available methods. All the methods that help do that start with the word show. In particular, look at what parameters are available and take a look at the instrument geometry."
   ]
  },
  {
   "cell_type": "code",
   "execution_count": null,
   "id": "conceptual-knitting",
   "metadata": {},
   "outputs": [],
   "source": [
    "instrument.show_parameters()"
   ]
  },
  {
   "cell_type": "code",
   "execution_count": null,
   "id": "secret-surrey",
   "metadata": {},
   "outputs": [],
   "source": [
    "instrument.set_parameters(\n",
    "    sample_distance=8, energy_width_ueV=3, sample_choice='\"Elastic\"', n_pulses=1\n",
    ")\n",
    "instrument.show_instrument()"
   ]
  },
  {
   "cell_type": "markdown",
   "id": "featured-replica",
   "metadata": {},
   "source": [
    "## Set parameters\n",
    "Before running the instrument we need to set some parameters. The most important one is the *sample_distance* parameter describing the distance between the source and the sample. Given the need for high precision in determining the energy of the neutron, which of the following instrument lengths should be chosen?\n",
    "\n",
    "- A: 30 m\n",
    "- B: 60 m\n",
    "- C: 150 m"
   ]
  },
  {
   "cell_type": "code",
   "execution_count": null,
   "id": "disciplinary-statistics",
   "metadata": {},
   "outputs": [],
   "source": [
    "# quiz C"
   ]
  },
  {
   "cell_type": "markdown",
   "id": "computational-reform",
   "metadata": {},
   "source": [
    "Set the *sample_distance* corresponding to the answer above and set the simulated energy width to 3 $\\mu$eV."
   ]
  },
  {
   "cell_type": "code",
   "execution_count": null,
   "id": "athletic-plant",
   "metadata": {},
   "outputs": [],
   "source": [
    "instrument.set_parameters(\n",
    "    sample_distance=150, energy_width_ueV=3, sample_choice='\"Elastic\"', n_pulses=1\n",
    ")"
   ]
  },
  {
   "cell_type": "code",
   "execution_count": null,
   "id": "black-haven",
   "metadata": {},
   "outputs": [],
   "source": [
    "# quiz"
   ]
  },
  {
   "cell_type": "markdown",
   "id": "painful-contributor",
   "metadata": {},
   "source": [
    "## Run the simulation\n",
    "Now the simulation can be executed with the backengine method. Store the returned data in a python variable called data."
   ]
  },
  {
   "cell_type": "code",
   "execution_count": null,
   "id": "exotic-digit",
   "metadata": {
    "editable": true,
    "slideshow": {
     "slide_type": ""
    },
    "tags": []
   },
   "outputs": [],
   "source": [
    "ncpu = 2\n",
    "instrument.settings(ncount=1e7, mpi=ncpu, suppress_output=True)\n",
    "data = instrument.backengine()"
   ]
  },
  {
   "cell_type": "code",
   "execution_count": null,
   "id": "toxic-inventory",
   "metadata": {},
   "outputs": [],
   "source": [
    "data"
   ]
  },
  {
   "cell_type": "code",
   "execution_count": null,
   "id": "together-framing",
   "metadata": {},
   "outputs": [],
   "source": [
    "ms.make_sub_plot(data[0:4], figsize=(10, 8), log=False, orders_of_mag=3)"
   ]
  },
  {
   "cell_type": "markdown",
   "id": "occasional-spouse",
   "metadata": {
    "editable": true,
    "slideshow": {
     "slide_type": ""
    },
    "tags": []
   },
   "source": [
    "### Questions\n",
    "Look at the time distribution of the signal, which statement about this data is true?\n",
    "- A: The data looks like a typical inelastic signal\n",
    "- B: The data looks like the ESS pulse structure\n",
    "- C: The data looks like a typical elastic signal\n",
    "- D: The data looks like the analyzer selected to broad an energy range"
   ]
  },
  {
   "cell_type": "code",
   "execution_count": null,
   "id": "outside-romania",
   "metadata": {},
   "outputs": [],
   "source": [
    "# quiz B"
   ]
  },
  {
   "cell_type": "markdown",
   "id": "smart-disclosure",
   "metadata": {},
   "source": [
    "Is this a problem for a backscattering instrument?\n",
    "- A: Yes, the low time resolution means low energy resolution\n",
    "- B: No, the low time resolution is not necessary for high energy resolution"
   ]
  },
  {
   "cell_type": "code",
   "execution_count": null,
   "id": "addressed-council",
   "metadata": {},
   "outputs": [],
   "source": [
    "# quiz A"
   ]
  },
  {
   "cell_type": "markdown",
   "id": "arranged-compression",
   "metadata": {},
   "source": [
    "How can the instrument be improved? \n",
    "- A: Add a chopper to control the time aspect\n",
    "- B: Add a slit before sample to reduce the illuminated area\n",
    "- C: Add a slit before analyzer to ensure same angle\n",
    "- D: Add a spin polarizer to select spin state"
   ]
  },
  {
   "cell_type": "code",
   "execution_count": null,
   "id": "legislative-adolescent",
   "metadata": {},
   "outputs": [],
   "source": [
    "# quiz A"
   ]
  },
  {
   "cell_type": "markdown",
   "id": "proved-rally",
   "metadata": {},
   "source": [
    "## Improve the instrument\n",
    "In order to improve the performance of the instrument, we will add a McStas component. The first aspect to consider when doing so is where to place it, both in the component sequence and its physical location. We start by looking at the code sequence.\n",
    "\n",
    "### McStas sequence \n",
    "Use either the *show_diagram* or *show_components* method on the instrument object to get an overview of the component sequence in the instrument. Where would you place the new component?\n",
    "\n",
    "- A: After the source\n",
    "- B: Before the sample position\n",
    "- C: After the sample position\n",
    "- D: After the analyzer"
   ]
  },
  {
   "cell_type": "code",
   "execution_count": null,
   "id": "skilled-botswana",
   "metadata": {},
   "outputs": [],
   "source": [
    "instrument.show_diagram()"
   ]
  },
  {
   "cell_type": "code",
   "execution_count": null,
   "id": "diverse-permit",
   "metadata": {},
   "outputs": [],
   "source": [
    "# quiz A and B correct"
   ]
  },
  {
   "cell_type": "markdown",
   "id": "german-garlic",
   "metadata": {},
   "source": [
    "### Which component\n",
    "Now we need to select what type of component to add to the instrument, here we will need the *DiskChopper* component. Use the *component_help* method on the instrument to learn more about this component."
   ]
  },
  {
   "cell_type": "code",
   "execution_count": null,
   "id": "human-essex",
   "metadata": {},
   "outputs": [],
   "source": [
    "instrument.component_help(\"DiskChopper\")"
   ]
  },
  {
   "cell_type": "markdown",
   "id": "floral-cleaning",
   "metadata": {},
   "source": [
    "### Chopper calculations\n",
    "When adding a chopper one need to perform some calculations on delay and frequency. For this exercise, those calculations can be added to the instrument using a function in this folder"
   ]
  },
  {
   "cell_type": "code",
   "execution_count": null,
   "id": "infectious-agreement",
   "metadata": {},
   "outputs": [],
   "source": [
    "make_QENS_instrument.add_chopper_code(instrument)"
   ]
  },
  {
   "cell_type": "markdown",
   "id": "civil-explorer",
   "metadata": {},
   "source": [
    "To see what variables are used in the instrument, one can use the *show_variables* method like below."
   ]
  },
  {
   "cell_type": "code",
   "execution_count": null,
   "id": "concrete-ballot",
   "metadata": {},
   "outputs": [],
   "source": [
    "instrument.show_variables()"
   ]
  },
  {
   "cell_type": "markdown",
   "id": "referenced-context",
   "metadata": {},
   "source": [
    "### Add chopper component and set parameters\n",
    "Use the *add_component* method on the instrument to add a chopper. Place it in the component sequence by using either the *before* or *after* keyword argument.\n",
    "\n",
    "Set the parameters:\n",
    " - yheight: 0.05 m\n",
    " - radius: 0.7 m\n",
    " - nslit: 1.0\n",
    " - nu, delay and theta_0: To the variables calculated in the instrument (use quotation marks)"
   ]
  },
  {
   "cell_type": "code",
   "execution_count": null,
   "id": "atlantic-familiar",
   "metadata": {},
   "outputs": [],
   "source": [
    "chopper = instrument.add_component(\"chopper\", \"DiskChopper\", after=\"source\")\n",
    "chopper.set_parameters(\n",
    "    yheight=0.05,\n",
    "    radius=0.7,\n",
    "    nu=\"chopper_frequency\",\n",
    "    nslit=1.0,\n",
    "    delay=\"chopper_delay\",\n",
    "    theta_0=\"chopper_theta\",\n",
    ")"
   ]
  },
  {
   "cell_type": "code",
   "execution_count": null,
   "id": "southeast-smart",
   "metadata": {},
   "outputs": [],
   "source": [
    "# quiz(instrument)"
   ]
  },
  {
   "cell_type": "markdown",
   "id": "labeled-connection",
   "metadata": {},
   "source": [
    "### Placing the component in space\n",
    "The next physical location of the component need to be specified, which is done using the *set_AT* component. This method takes a list of 3 numbers, corresponding to the *x*, *y* and *z* coordinates of the component. One can also specify in what coordinate system one wants to work, which can be that of any preceeding component. Use the *RELATIVE* keyword to work in the *source* coordinate system. The position of the chopper is needed for calculating phase, so it is available as a variable in the instrument, use this variable to set the position."
   ]
  },
  {
   "cell_type": "code",
   "execution_count": null,
   "id": "boring-address",
   "metadata": {},
   "outputs": [],
   "source": [
    "chopper.set_AT(\"chopper_distance\", RELATIVE=\"source\")"
   ]
  },
  {
   "cell_type": "code",
   "execution_count": null,
   "id": "lovely-miller",
   "metadata": {},
   "outputs": [],
   "source": [
    "# quiz(isntrument)"
   ]
  },
  {
   "cell_type": "markdown",
   "id": "surgical-mathematics",
   "metadata": {},
   "source": [
    "### Verify new component\n",
    "Now that the chopper has been added to the instrument, lets show the component sequence again to verify it was added correctly."
   ]
  },
  {
   "cell_type": "code",
   "execution_count": null,
   "id": "double-level",
   "metadata": {},
   "outputs": [],
   "source": [
    "instrument.show_diagram()"
   ]
  },
  {
   "cell_type": "markdown",
   "id": "intensive-billy",
   "metadata": {},
   "source": [
    "## Run improved instrument\n",
    "Run the improved instrument with the following parameters:\n",
    "- sample_distance: 150 m\n",
    "- energy_width_ueV: 5 ueV\n",
    "- sample_choice: '\"Elastic\"'\n",
    "- frequency_multiplier: 10 (This controls the ratio between chopper and source frequency)"
   ]
  },
  {
   "cell_type": "code",
   "execution_count": null,
   "id": "complete-norwegian",
   "metadata": {},
   "outputs": [],
   "source": [
    "instrument.show_parameters()"
   ]
  },
  {
   "cell_type": "code",
   "execution_count": null,
   "id": "fifty-wound",
   "metadata": {
    "editable": true,
    "slideshow": {
     "slide_type": ""
    },
    "tags": []
   },
   "outputs": [],
   "source": [
    "if nexus_mode:\n",
    "    instrument.settings(\n",
    "        ncount=3e7,\n",
    "        mpi=ncpu,\n",
    "        suppress_output=True,\n",
    "        output_path=\"QENS_elastic_NeXus_3_pulse\",\n",
    "        NeXus=nexus_mode,\n",
    "    )\n",
    "    instrument.set_parameters(\n",
    "        sample_distance=150,\n",
    "        energy_width_ueV=5,\n",
    "        sample_choice='\"Elastic\"',\n",
    "        n_pulses=3,\n",
    "        frequency_multiplier=10,\n",
    "    )\n",
    "\n",
    "    data_improved = instrument.backengine()"
   ]
  },
  {
   "cell_type": "code",
   "execution_count": null,
   "id": "reasonable-story",
   "metadata": {
    "editable": true,
    "slideshow": {
     "slide_type": ""
    },
    "tags": []
   },
   "outputs": [],
   "source": [
    "instrument.settings(\n",
    "    ncount=1e7,\n",
    "    mpi=ncpu,\n",
    "    suppress_output=True,\n",
    "    output_path=\"QENS_elastic_NeXus_1_pulse\",\n",
    "    NeXus=nexus_mode,\n",
    ")\n",
    "instrument.set_parameters(\n",
    "    sample_distance=150,\n",
    "    energy_width_ueV=5,\n",
    "    sample_choice='\"Elastic\"',\n",
    "    n_pulses=1,\n",
    "    frequency_multiplier=10,\n",
    ")\n",
    "\n",
    "data_improved = instrument.backengine()"
   ]
  },
  {
   "cell_type": "code",
   "execution_count": null,
   "id": "amazing-easter",
   "metadata": {},
   "outputs": [],
   "source": [
    "ms.make_sub_plot(data_improved[0:4], figsize=(10, 8), log=False, orders_of_mag=4)\n",
    "# ms.make_sub_plot(data_improved[1], figsize=(10, 8), log=False, orders_of_mag=4)"
   ]
  },
  {
   "cell_type": "markdown",
   "id": "loose-terminal",
   "metadata": {},
   "source": [
    "### Time resolution\n",
    "- Q: What is the time resolution of the instrument? (at multiplier=10, FWHM)\n",
    "- A: 0.235 ms"
   ]
  },
  {
   "cell_type": "code",
   "execution_count": null,
   "id": "global-arbitration",
   "metadata": {},
   "outputs": [],
   "source": [
    "# quiz"
   ]
  },
  {
   "cell_type": "markdown",
   "id": "lasting-breakfast",
   "metadata": {},
   "source": [
    "### Run with known calibration sample\n",
    "We know run with a known calibration sample, its energy width can be adjusted with the gamma_ueV (HWHM). Run with the following parameters:\n",
    "- sample_choice: '\"Known_quasi-elastic\"'\n",
    "- gamma_ueV: 2 ueV\n",
    "- energy_width_ueV: 12 ueV"
   ]
  },
  {
   "cell_type": "code",
   "execution_count": null,
   "id": "sorted-enemy",
   "metadata": {
    "editable": true,
    "slideshow": {
     "slide_type": ""
    },
    "tags": []
   },
   "outputs": [],
   "source": [
    "if nexus_mode:\n",
    "    instrument.settings(\n",
    "        ncount=3e7,\n",
    "        mpi=ncpu,\n",
    "        suppress_output=True,\n",
    "        output_path=\"QENS_known_quasi_elastic_NeXus_3_pulse\",\n",
    "        NeXus=nexus_mode,\n",
    "    )\n",
    "    instrument.set_parameters(\n",
    "        sample_distance=150,\n",
    "        energy_width_ueV=12,\n",
    "        sample_choice='\"Known_quasi-elastic\"',\n",
    "        gamma_ueV=2,\n",
    "        n_pulses=3,\n",
    "        frequency_multiplier=10,\n",
    "    )\n",
    "\n",
    "    data_known = instrument.backengine()"
   ]
  },
  {
   "cell_type": "code",
   "execution_count": null,
   "id": "global-grade",
   "metadata": {
    "editable": true,
    "slideshow": {
     "slide_type": ""
    },
    "tags": []
   },
   "outputs": [],
   "source": [
    "instrument.settings(\n",
    "    ncount=1e7,\n",
    "    mpi=ncpu,\n",
    "    suppress_output=True,\n",
    "    output_path=\"QENS_known_quasi_elastic_NeXus_1_pulse\",\n",
    "    NeXus=nexus_mode,\n",
    ")\n",
    "instrument.set_parameters(\n",
    "    sample_distance=150,\n",
    "    energy_width_ueV=12,\n",
    "    sample_choice='\"Known_quasi-elastic\"',\n",
    "    gamma_ueV=2,\n",
    "    n_pulses=1,\n",
    "    frequency_multiplier=10,\n",
    ")\n",
    "\n",
    "data_known = instrument.backengine()"
   ]
  },
  {
   "cell_type": "code",
   "execution_count": null,
   "id": "indirect-career",
   "metadata": {},
   "outputs": [],
   "source": [
    "ms.make_sub_plot(data_known[0:4], figsize=(10, 8), log=False, orders_of_mag=4)"
   ]
  },
  {
   "cell_type": "markdown",
   "id": "structured-argument",
   "metadata": {},
   "source": [
    "- Q: What is the time width when using a known sample with 2 ueV broadening?\n",
    "- A: x s"
   ]
  },
  {
   "cell_type": "code",
   "execution_count": null,
   "id": "western-financing",
   "metadata": {},
   "outputs": [],
   "source": [
    "# quiz"
   ]
  },
  {
   "cell_type": "markdown",
   "id": "greater-edinburgh",
   "metadata": {},
   "source": [
    "### Run with unknnown sample\n",
    "- sample_choice: '\"Unknown_quasi-elastic\"'\n",
    "- energy_width_ueV: 20 ueV"
   ]
  },
  {
   "cell_type": "code",
   "execution_count": null,
   "id": "british-duration",
   "metadata": {
    "editable": true,
    "slideshow": {
     "slide_type": ""
    },
    "tags": []
   },
   "outputs": [],
   "source": [
    "if nexus_mode:\n",
    "    instrument.settings(\n",
    "        ncount=3e7,\n",
    "        mpi=ncpu,\n",
    "        suppress_output=True,\n",
    "        output_path=\"QENS_unknown_quasi_elastic_NeXus_3_pulse\",\n",
    "        NeXus=nexus_mode,\n",
    "    )\n",
    "\n",
    "    instrument.set_parameters(\n",
    "        sample_distance=150,\n",
    "        energy_width_ueV=20,\n",
    "        sample_choice='\"Unknown_quasi-elastic\"',\n",
    "        n_pulses=3,\n",
    "        frequency_multiplier=10,\n",
    "    )\n",
    "\n",
    "    data_unknown = instrument.backengine()"
   ]
  },
  {
   "cell_type": "code",
   "execution_count": null,
   "id": "addressed-stretch",
   "metadata": {
    "editable": true,
    "slideshow": {
     "slide_type": ""
    },
    "tags": []
   },
   "outputs": [],
   "source": [
    "instrument.settings(\n",
    "    ncount=1e7,\n",
    "    mpi=ncpu,\n",
    "    suppress_output=True,\n",
    "    output_path=\"QENS_unknown_quasi_elastic_NeXus_1_pulse\",\n",
    "    NeXus=nexus_mode,\n",
    ")\n",
    "\n",
    "instrument.set_parameters(\n",
    "    sample_distance=150,\n",
    "    energy_width_ueV=20,\n",
    "    sample_choice='\"Unknown_quasi-elastic\"',\n",
    "    n_pulses=1,\n",
    "    frequency_multiplier=10,\n",
    ")\n",
    "\n",
    "data_unknown = instrument.backengine()"
   ]
  },
  {
   "cell_type": "code",
   "execution_count": null,
   "id": "willing-wells",
   "metadata": {
    "editable": true,
    "slideshow": {
     "slide_type": ""
    },
    "tags": []
   },
   "outputs": [],
   "source": [
    "ms.make_sub_plot(data_unknown[0:4], figsize=(10, 8), log=False, orders_of_mag=4)"
   ]
  }
 ],
 "metadata": {
  "kernelspec": {
   "display_name": "Python 3 (ipykernel)",
   "language": "python",
   "name": "python3"
  },
  "language_info": {
   "codemirror_mode": {
    "name": "ipython",
    "version": 3
   },
   "file_extension": ".py",
   "mimetype": "text/x-python",
   "name": "python",
   "nbconvert_exporter": "python",
   "pygments_lexer": "ipython3",
   "version": "3.10.10"
  }
 },
 "nbformat": 4,
 "nbformat_minor": 5
}
