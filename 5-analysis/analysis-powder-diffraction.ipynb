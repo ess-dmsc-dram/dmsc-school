{
 "cells": [
  {
   "cell_type": "markdown",
   "id": "60194511",
   "metadata": {},
   "source": [
    "# Fitting Powder Diffraction data\n",
    "\n",
    "This tutorial guides you through the Rietveld refinement of crystal\n",
    "structures using simulated powder diffraction data. It consists of two parts:\n",
    "- Introduction: A simple reference fit using silicon (Si) crystal structure.\n",
    "- Exercise: A more complex fit using La₀.₅Ba₀.₅CoO₃ (LBCO) crystal structure.\n",
    "\n",
    "## 🛠️ Import Library\n",
    "\n",
    "We start by importing the necessary library for the analysis. In this\n",
    "tutorial, we use the EasyDiffraction library, which offers tools for\n",
    "analyzing and refining powder diffraction data.\n",
    "\n",
    "This tutorial is self-contained and designed for hands-on learning.\n",
    "However, if you're interested in exploring more advanced features or learning\n",
    "about additional capabilities of the EasyDiffraction library, please refer to\n",
    "the official documentation: https://easyscience.github.io/diffraction-lib\n",
    "\n",
    "Depending on your requirements, you may choose to import only specific\n",
    "classes. However, for the sake of simplicity in this tutorial, we will import\n",
    "the entire library."
   ]
  },
  {
   "cell_type": "code",
   "id": "ec0e8dc6",
   "metadata": {},
   "source": [
    "import easydiffraction as ed"
   ],
   "outputs": [],
   "execution_count": null
  },
  {
   "cell_type": "markdown",
   "id": "37c36d31",
   "metadata": {},
   "source": [
    "## 📘 Introduction: Simple Reference Fit – Si\n",
    "\n",
    "Before diving into the more complex fitting exercise with the La₀.₅Ba₀.₅CoO₃\n",
    "(LBCO) crystal structure, let's start with a simpler example using the\n",
    "silicon (Si) crystal structure. This will help us understand the basic\n",
    "concepts and steps involved in fitting a crystal structure using powder\n",
    "diffraction data.\n",
    "\n",
    "For this part of the tutorial, we will use the powder diffraction data\n",
    "from the previous tutorial, simulated using the Si crystal structure.\n",
    "\n",
    "### 📦 Create a Project – 'reference'\n",
    "\n",
    "In EasyDiffraction, a project serves as a container for all information\n",
    "related to the analysis of a specific experiment or set of experiments. It\n",
    "enables you to organize your data, experiments, sample models, and fitting\n",
    "parameters in a structured manner. You can think of it as a folder containing\n",
    "all the essential details about your analysis. The project also allows\n",
    "us to visualize both the measured and calculated diffraction patterns, among\n",
    "other things."
   ]
  },
  {
   "cell_type": "code",
   "id": "4164e1d9",
   "metadata": {},
   "source": [
    "project_1 = ed.Project(name=\"reference\")"
   ],
   "outputs": [],
   "execution_count": null
  },
  {
   "cell_type": "markdown",
   "id": "0d6eb80f",
   "metadata": {},
   "source": [
    "\n",
    "You can set the title and description of the project to provide context\n",
    "and information about the analysis being performed. This is useful for\n",
    "documentation purposes and helps others (or yourself in the future)\n",
    "understand the purpose of the project at a glance."
   ]
  },
  {
   "cell_type": "code",
   "id": "656b2e32",
   "metadata": {},
   "source": [
    "project_1.info.title = \"Reference Silicon Fit\"\n",
    "project_1.info.description = \"Fitting simulated powder diffraction pattern of Si.\""
   ],
   "outputs": [],
   "execution_count": null
  },
  {
   "cell_type": "markdown",
   "id": "a326b89c",
   "metadata": {},
   "source": [
    "### 🔬 Create an Experiment\n",
    "\n",
    "Now we will create an experiment within the project. An experiment\n",
    "represents a specific diffraction measurement performed on a specific sample\n",
    "using a particular instrument. It contains details about the measured data,\n",
    "instrument parameters, and other relevant information.\n",
    "\n",
    "In this case, the experiment is defined as a powder diffraction measurement\n",
    "using time-of-flight neutrons. The measured data is loaded from a file\n",
    "containing the reduced diffraction pattern of Si from the previous tutorial."
   ]
  },
  {
   "cell_type": "code",
   "id": "d7aa9526",
   "metadata": {},
   "source": [
    "project_1.experiments.add(\n",
    "    name=\"sim_si\",\n",
    "    sample_form=\"powder\",\n",
    "    beam_mode=\"time-of-flight\",\n",
    "    radiation_probe=\"neutron\",\n",
    "    data_path=\"../4-reduction/powder_reduced_Si.xye\",\n",
    ")"
   ],
   "outputs": [],
   "execution_count": null
  },
  {
   "cell_type": "markdown",
   "id": "c6939180",
   "metadata": {},
   "source": [
    "#### Inspect Measured Data\n",
    "\n",
    "After creating the experiment, we can examine the measured data. The measured\n",
    "data consists of a diffraction pattern having time-of-flight (TOF) values\n",
    "and corresponding intensities. The TOF values are given in microseconds (μs),\n",
    "and the intensities are in arbitrary units.\n",
    "\n",
    "The data is stored in XYE format, a simple text format containing three\n",
    "columns: TOF, intensity, and intensity error (if available).\n",
    "\n",
    "The `plot_meas` method of the project enables us to visualize the measured\n",
    "diffraction pattern.\n",
    "\n",
    "Before plotting, we set the plotting engine to 'plotly', which provides\n",
    "interactive visualizations."
   ]
  },
  {
   "cell_type": "code",
   "id": "ad96437f",
   "metadata": {},
   "source": [
    "project_1.plotter.engine = \"plotly\""
   ],
   "outputs": [],
   "execution_count": null
  },
  {
   "cell_type": "code",
   "id": "bb89e799",
   "metadata": {},
   "source": [
    "project_1.plot_meas(expt_name=\"sim_si\")"
   ],
   "outputs": [],
   "execution_count": null
  },
  {
   "cell_type": "markdown",
   "id": "1b130688",
   "metadata": {},
   "source": [
    "If you zoom in on the highest TOF peak (around 120,000 μs), you will notice\n",
    "that it has a broad and unusual shape. This distortion, along with some more\n",
    "effects on the low TOF peaks, is a result of the simplified data reduction\n",
    "process. Obtaining a more accurate diffraction pattern would require a more\n",
    "advanced data reduction, which is beyond the scope of this tutorial.\n",
    "Therefore, we will simply exclude both the low and high TOF regions from the\n",
    "analysis by adding an excluded region to the experiment."
   ]
  },
  {
   "cell_type": "code",
   "id": "61862088",
   "metadata": {},
   "source": [
    "project_1.experiments[\"sim_si\"].excluded_regions.add(minimum=0, maximum=47500)\n",
    "project_1.experiments[\"sim_si\"].excluded_regions.add(minimum=105500, maximum=200000)"
   ],
   "outputs": [],
   "execution_count": null
  },
  {
   "cell_type": "markdown",
   "id": "6ff6d8f6",
   "metadata": {},
   "source": [
    "To visualize the effect of excluding the high TOF region, we can plot\n",
    "the measured data again. The excluded region will be omitted from the plot\n",
    "and is not used in the fitting process."
   ]
  },
  {
   "cell_type": "code",
   "id": "7bcfd1d2",
   "metadata": {},
   "source": [
    "project_1.plot_meas(expt_name=\"sim_si\")"
   ],
   "outputs": [],
   "execution_count": null
  },
  {
   "cell_type": "markdown",
   "id": "779a4569",
   "metadata": {},
   "source": [
    "#### Set Instrument Parameters\n",
    "\n",
    "After the experiment is created and measured data are loaded, we need\n",
    "to set the instrument parameters.\n",
    "\n",
    "In this type of experiment, the instrument parameters define how the\n",
    "measured data is converted between d-spacing and time-of-flight (TOF)\n",
    "during the data reduction process as well as the angular position of the\n",
    "detector. So, we put values based on those from the reduction. These\n",
    "values can be found in the header of the corresponding .XYE file."
   ]
  },
  {
   "cell_type": "code",
   "id": "1dda5bf0",
   "metadata": {},
   "source": [
    "project_1.experiments[\"sim_si\"].instrument.setup_twotheta_bank = 157.707\n",
    "project_1.experiments[\"sim_si\"].instrument.calib_d_to_tof_linear = 61423.8"
   ],
   "outputs": [],
   "execution_count": null
  },
  {
   "cell_type": "markdown",
   "id": "8669fd57",
   "metadata": {},
   "source": [
    "#### Set Peak Profile Parameters\n",
    "\n",
    "The next set of parameters is needed to define the peak profile used in the\n",
    "fitting process. The peak profile describes the shape of the diffraction peaks.\n",
    "They include parameters for the broadening and asymmetry of the peaks.\n",
    "\n",
    "Here, we use a pseudo-Voigt peak profile function with Ikeda-Carpenter\n",
    "asymmetry, which is a common choice for neutron powder diffraction data.\n",
    "\n",
    "The values are typically determined experimentally on the same instrument and\n",
    "under the same configuration as the data being analyzed based on measurements\n",
    "of a standard sample. In some cases, these parameters are refined during the\n",
    "fitting process to improve the fit between the measured and calculated\n",
    "diffraction, but in this case, we will use the values from another simulation."
   ]
  },
  {
   "cell_type": "code",
   "id": "8dbc7188",
   "metadata": {
    "lines_to_next_cell": 2
   },
   "source": [
    "project_1.experiments[\"sim_si\"].peak_profile_type = \"pseudo-voigt * ikeda-carpenter\"\n",
    "project_1.experiments[\"sim_si\"].peak.broad_gauss_sigma_0 = 69498\n",
    "project_1.experiments[\"sim_si\"].peak.broad_gauss_sigma_1 = -55578\n",
    "project_1.experiments[\"sim_si\"].peak.broad_gauss_sigma_2 = 14560\n",
    "project_1.experiments[\"sim_si\"].peak.broad_mix_beta_0 = 0.0019\n",
    "project_1.experiments[\"sim_si\"].peak.broad_mix_beta_1 = 0.0137\n",
    "project_1.experiments[\"sim_si\"].peak.asym_alpha_0 = -0.0055\n",
    "project_1.experiments[\"sim_si\"].peak.asym_alpha_1 = 0.0147"
   ],
   "outputs": [],
   "execution_count": null
  },
  {
   "cell_type": "markdown",
   "id": "078f95cc",
   "metadata": {},
   "source": [
    "#### Set Background\n",
    "\n",
    "The background of the diffraction pattern represents the portion of the\n",
    "pattern that is not related to the crystal structure of the sample. It's\n",
    "rather representing the noise and other sources of scattering that can affect\n",
    "the measured intensities. This includes contributions from the instrument,\n",
    "the sample holder, the sample environment, and other sources of incoherent\n",
    "scattering.\n",
    "\n",
    "The background can be modeled in various ways. In this example, we will use\n",
    "a simple line segment background, which is a common approach for powder\n",
    "diffraction data. The background intensity at any point is defined by linear\n",
    "interpolation between neighboring points. The background points are selected\n",
    "to span the range of the diffraction pattern while avoiding the peaks.\n",
    "\n",
    "We will add several background points at specific TOF values (in μs) and\n",
    "corresponding intensity values. These points are chosen to represent the\n",
    "background level in the diffraction pattern free from any peaks.\n",
    "\n",
    "The background points are added using the `add` method of the `background`\n",
    "object. The `x` parameter represents the TOF value, and the `y` parameter\n",
    "represents the intensity value at that TOF.\n",
    "\n",
    "Let's set all the background points at a constant value of 0.01, which can be\n",
    "roughly determined by the eye, and we will refine them later during the fitting\n",
    "process."
   ]
  },
  {
   "cell_type": "code",
   "id": "a3b802aa",
   "metadata": {},
   "source": [
    "project_1.experiments[\"sim_si\"].background_type = \"line-segment\"\n",
    "project_1.experiments[\"sim_si\"].background.add(x=50000, y=0.01)\n",
    "project_1.experiments[\"sim_si\"].background.add(x=60000, y=0.01)\n",
    "project_1.experiments[\"sim_si\"].background.add(x=70000, y=0.01)\n",
    "project_1.experiments[\"sim_si\"].background.add(x=80000, y=0.01)\n",
    "project_1.experiments[\"sim_si\"].background.add(x=90000, y=0.01)\n",
    "project_1.experiments[\"sim_si\"].background.add(x=100000, y=0.01)\n",
    "project_1.experiments[\"sim_si\"].background.add(x=110000, y=0.01)"
   ],
   "outputs": [],
   "execution_count": null
  },
  {
   "cell_type": "markdown",
   "id": "77fae341",
   "metadata": {},
   "source": [
    "### 🧩 Create a Sample Model – Si\n",
    "\n",
    "After setting up the experiment, we need to create a sample model that\n",
    "describes the crystal structure of the sample being analyzed.\n",
    "\n",
    "In this case, we will create a sample model for silicon (Si) with a\n",
    "cubic crystal structure. The sample model contains information about the\n",
    "space group, lattice parameters, atomic positions of the atoms in the\n",
    "unit cell, atom types, occupancies and atomic displacement parameters.\n",
    "The sample model is essential for the fitting process, as it\n",
    "is used to calculate the expected diffraction pattern.\n",
    "\n",
    "EasyDiffraction refines the crystal structure of the sample,\n",
    "but does not solve it. Therefore, we need a good starting point with\n",
    "reasonable structural parameters.\n",
    "\n",
    "Here, we define the Si structure as a\n",
    "cubic structure. As this is a cubic structure, we only need to define\n",
    "the single lattice parameter, which\n",
    "is the length of the unit cell edge. The Si crystal structure has a\n",
    "single atom in the unit cell, which is located at the origin (0, 0, 0) of\n",
    "the unit cell. The symmetry of this site is defined by the Wyckoff letter 'a'.\n",
    "The atomic displacement parameter defines the thermal vibrations of the\n",
    "atoms in the unit cell and is presented as an isotropic parameter (B_iso).\n",
    "\n",
    "Sometimes, the initial crystal structure parameters can be obtained\n",
    "from one of the crystallographic databases, like for example\n",
    "the Crystallography Open Database (COD). In this case, we use the COD\n",
    "entry for silicon as a reference for the initial crystal structure model:\n",
    "https://www.crystallography.net/cod/4507226.html\n",
    "\n",
    "Usually, the crystal structure parameters are provided in a CIF file\n",
    "format, which is a standard format for crystallographic data. An example\n",
    "of a CIF file for silicon is shown below. The CIF file contains the\n",
    "space group information, unit cell parameters, and atomic positions."
   ]
  },
  {
   "cell_type": "markdown",
   "id": "b897365b",
   "metadata": {},
   "source": [
    "```\n",
    "data_si\n",
    "\n",
    "_space_group.name_H-M_alt  \"F d -3 m\"\n",
    "_space_group.IT_coordinate_system_code  2\n",
    "\n",
    "_cell.length_a      5.43\n",
    "_cell.length_b      5.43\n",
    "_cell.length_c      5.43\n",
    "_cell.angle_alpha  90.0\n",
    "_cell.angle_beta   90.0\n",
    "_cell.angle_gamma  90.0\n",
    "\n",
    "loop_\n",
    "_atom_site.label\n",
    "_atom_site.type_symbol\n",
    "_atom_site.fract_x\n",
    "_atom_site.fract_y\n",
    "_atom_site.fract_z\n",
    "_atom_site.wyckoff_letter\n",
    "_atom_site.occupancy\n",
    "_atom_site.ADP_type\n",
    "_atom_site.B_iso_or_equiv\n",
    "Si Si   0 0 0   a  1.0   Biso 0.63\n",
    "```"
   ]
  },
  {
   "cell_type": "markdown",
   "id": "6c36ee5a",
   "metadata": {},
   "source": [
    "\n",
    "As with adding the experiment in the\n",
    "previous step, we will create a default sample model\n",
    "and then modify its parameters to match the Si structure.\n",
    "\n",
    "#### Add Sample Model"
   ]
  },
  {
   "cell_type": "code",
   "id": "e46d255a",
   "metadata": {},
   "source": [
    "project_1.sample_models.add(name=\"si\")"
   ],
   "outputs": [],
   "execution_count": null
  },
  {
   "cell_type": "markdown",
   "id": "4c3ac1e6",
   "metadata": {},
   "source": [
    "#### Set Space Group"
   ]
  },
  {
   "cell_type": "code",
   "id": "ba69a031",
   "metadata": {},
   "source": [
    "project_1.sample_models[\"si\"].space_group.name_h_m = \"F d -3 m\"\n",
    "project_1.sample_models[\"si\"].space_group.it_coordinate_system_code = \"2\""
   ],
   "outputs": [],
   "execution_count": null
  },
  {
   "cell_type": "markdown",
   "id": "f6afea8d",
   "metadata": {},
   "source": [
    "#### Set Lattice Parameters"
   ]
  },
  {
   "cell_type": "code",
   "id": "0fc252e3",
   "metadata": {},
   "source": [
    "project_1.sample_models[\"si\"].cell.length_a = 5.43"
   ],
   "outputs": [],
   "execution_count": null
  },
  {
   "cell_type": "markdown",
   "id": "54fc9101",
   "metadata": {},
   "source": [
    "#### Set Atom Sites"
   ]
  },
  {
   "cell_type": "code",
   "id": "325d5f49",
   "metadata": {},
   "source": [
    "project_1.sample_models[\"si\"].atom_sites.add(\n",
    "    label=\"Si\",\n",
    "    type_symbol=\"Si\",\n",
    "    fract_x=0,\n",
    "    fract_y=0,\n",
    "    fract_z=0,\n",
    "    wyckoff_letter=\"a\",\n",
    "    b_iso=0.63,\n",
    ")"
   ],
   "outputs": [],
   "execution_count": null
  },
  {
   "cell_type": "markdown",
   "id": "33349f94",
   "metadata": {},
   "source": [
    "### 🔗 Assign Sample Model to Experiment\n",
    "\n",
    "Now we need to assign, or link, this sample model to the experiment created above.\n",
    "This linked crystallographic phase will be used to calculate the expected diffraction\n",
    "pattern based on the crystal structure defined in the sample model."
   ]
  },
  {
   "cell_type": "code",
   "id": "e47d6115",
   "metadata": {},
   "source": [
    "project_1.experiments[\"sim_si\"].linked_phases.add(id=\"si\", scale=1.0)"
   ],
   "outputs": [],
   "execution_count": null
  },
  {
   "cell_type": "markdown",
   "id": "ad28c299",
   "metadata": {},
   "source": [
    "### 🚀 Analyze and Fit the Data\n",
    "\n",
    "After setting up the experiment and sample model, we can now analyze the\n",
    "measured diffraction pattern and perform the fit.\n",
    "\n",
    "The fitting process involves comparing the measured diffraction pattern with\n",
    "the calculated diffraction pattern based on the sample model and instrument\n",
    "parameters. The goal is to adjust the parameters of the sample model and\n",
    "the experiment to minimize the difference between the measured and calculated\n",
    "diffraction patterns. This is done by refining the parameters of the sample\n",
    "model and the instrument settings to achieve a better fit.\n",
    "\n",
    "#### Set Fit Parameters\n",
    "\n",
    "To perform the fit, we need to specify the refinement parameters. These\n",
    "are the parameters that will be adjusted during the fitting process to\n",
    "minimize the difference between the measured and calculated diffraction\n",
    "patterns. In this case, we will refine only the scale factor of the Si phase\n",
    "in the experiment, as well as the intensities of the background points.\n",
    "This is done by setting\n",
    "the `free` attribute of the corresponding parameters to `True`."
   ]
  },
  {
   "cell_type": "code",
   "id": "e0b4b651",
   "metadata": {},
   "source": [
    "project_1.experiments[\"sim_si\"].linked_phases[\"si\"].scale.free = True\n",
    "for line_segment in project_1.experiments[\"sim_si\"].background:\n",
    "    line_segment.y.free = True"
   ],
   "outputs": [],
   "execution_count": null
  },
  {
   "cell_type": "markdown",
   "id": "04ac3b70",
   "metadata": {},
   "source": [
    "#### Show Free Parameters\n",
    "\n",
    "We can check which parameters are free to be refined by calling the\n",
    "`show_free_params` method of the `analysis` object of the project."
   ]
  },
  {
   "cell_type": "code",
   "id": "11d464c3",
   "metadata": {},
   "source": [
    "project_1.analysis.show_free_params()"
   ],
   "outputs": [],
   "execution_count": null
  },
  {
   "cell_type": "markdown",
   "id": "637fb4b6",
   "metadata": {},
   "source": [
    "#### Visualize Diffraction Patterns\n",
    "\n",
    "Before performing the fit, we can visually compare the measured\n",
    "diffraction pattern with the calculated diffraction pattern based on the\n",
    "initial parameters of the sample model and the instrument.\n",
    "This provides an indication of how well the initial parameters\n",
    "match the measured data. The `plot_meas_vs_calc` method of the project\n",
    "allows this comparison."
   ]
  },
  {
   "cell_type": "code",
   "id": "37089fac",
   "metadata": {},
   "source": "project_1.plot_meas_vs_calc(expt_name=\"sim_si\")",
   "outputs": [],
   "execution_count": null
  },
  {
   "cell_type": "markdown",
   "id": "4c669678",
   "metadata": {},
   "source": [
    "#### Run Fitting\n",
    "\n",
    "We can now perform the fit using the `fit` method of the `analysis`\n",
    "object of the project."
   ]
  },
  {
   "cell_type": "code",
   "id": "26fea591",
   "metadata": {},
   "source": [
    "project_1.analysis.fit()"
   ],
   "outputs": [],
   "execution_count": null
  },
  {
   "cell_type": "markdown",
   "id": "0128aea9",
   "metadata": {},
   "source": [
    "#### Check Fit Results\n",
    "You can\n",
    "see that the agreement between the measured and calculated diffraction patterns\n",
    "is now much improved and that the intensities of the\n",
    "calculated peaks align much better with the measured peaks. To check the\n",
    "quality of the fit numerically, we can look at the goodness-of-fit\n",
    "χ² value and the reliability R-factors. The χ² value is a measure of how well\n",
    "the calculated diffraction pattern matches the measured pattern, and it is\n",
    "calculated as the sum of the squared differences between the measured and\n",
    "calculated intensities, divided by the number of data points. Ideally, the\n",
    "χ² value should be close to 1, indicating a good fit."
   ]
  },
  {
   "cell_type": "markdown",
   "id": "b6b10e3a",
   "metadata": {},
   "source": [
    "#### Visualize Fit Results\n",
    "\n",
    "After the fit is completed, we can plot the comparison between the\n",
    "measured and calculated diffraction patterns again to see how well the fit\n",
    "improved the agreement between the two. The calculated diffraction pattern\n",
    "is now based on the refined parameters."
   ]
  },
  {
   "cell_type": "code",
   "id": "dbd9d48f",
   "metadata": {},
   "source": [
    "project_1.plot_meas_vs_calc(expt_name=\"sim_si\")"
   ],
   "outputs": [],
   "execution_count": null
  },
  {
   "cell_type": "markdown",
   "id": "3728cc3d",
   "metadata": {},
   "source": [
    "#### TOF vs d-spacing\n",
    "\n",
    "The diffraction pattern is typically analyzed and plotted in the\n",
    "time-of-flight (TOF) axis, which represents the time it takes for neutrons\n",
    "to travel from the sample to the detector. However, it is sometimes more\n",
    "convenient to visualize the diffraction pattern in the d-spacing axis,\n",
    "which represents the distance between planes in the crystal lattice. The\n",
    "d-spacing can be calculated from the TOF values using the instrument\n",
    "parameters. The `plot_meas_vs_calc` method of the project allows us to\n",
    "plot the measured and calculated diffraction patterns in the d-spacing axis\n",
    "by setting the `d_spacing` parameter to `True`."
   ]
  },
  {
   "cell_type": "code",
   "id": "ba29f44a",
   "metadata": {},
   "source": [
    "project_1.plot_meas_vs_calc(expt_name=\"sim_si\", d_spacing=True)"
   ],
   "outputs": [],
   "execution_count": null
  },
  {
   "cell_type": "markdown",
   "id": "372cfac2",
   "metadata": {},
   "source": [
    "As you can see, the calculated diffraction pattern now matches the measured\n",
    "pattern much more closely. Typically, additional parameters are included in the\n",
    "refinement process to further improve the fit. However, we will stop here,\n",
    "as the goal of this part of the tutorial is to demonstrate that the data reduction\n",
    "and fitting process function correctly. The fit is not perfect, but it is\n",
    "sufficient to show that the fitting process works and that the parameters\n",
    "are being adjusted appropriately. The next part of the tutorial will be more advanced\n",
    "and will involve fitting a more complex crystal structure: La₀.₅Ba₀.₅CoO₃ (LBCO).\n",
    "\n",
    "## 💪 Exercise: Complex Fit – LBCO\n",
    "\n",
    "Now that you have a basic understanding of the fitting process, we will\n",
    "undertake a more complex fit of the La₀.₅Ba₀.₅CoO₃ (LBCO) crystal structure\n",
    "using simulated powder diffraction data from the previous tutorial.\n",
    "\n",
    "You can use the same approach as in the previous part of the tutorial, but\n",
    "this time we will refine a more complex crystal structure LBCO with multiple atoms\n",
    "in the unit cell.\n",
    "\n",
    "### 📦 Exercise 1: Create a Project – 'main'\n",
    "\n",
    "Create a new project for the LBCO fit.\n",
    "\n",
    "**Hint:** You can use the same approach as in the previous part of the\n",
    "tutorial, but this time we will create a new project for the LBCO fit.\n",
    "\n",
    "**Solution:**"
   ]
  },
  {
   "cell_type": "code",
   "id": "c9ac219f",
   "metadata": {},
   "source": [
    "project_2 = ed.Project(name=\"main\")\n",
    "project_2.info.title = \"La0.5Ba0.5CoO3 Fit\"\n",
    "project_2.info.description = (\n",
    "    \"Fitting simulated powder diffraction pattern of La0.5Ba0.5CoO3.\"\n",
    ")"
   ],
   "outputs": [],
   "execution_count": null
  },
  {
   "cell_type": "markdown",
   "id": "9db79f04",
   "metadata": {},
   "source": [
    "### 🔬 Exercise 2: Define an Experiment\n",
    "\n",
    "#### Exercise 2.1: Create an Experiment\n",
    "\n",
    "Create an experiment within the new project and load the reduced diffraction\n",
    "pattern for LBCO.\n",
    "\n",
    "**Hint:** You can use the same approach as in the previous part of the\n",
    "tutorial, but this time you need to use the data file for LBCO.\n",
    "\n",
    "**Solution:**"
   ]
  },
  {
   "cell_type": "code",
   "id": "18359b79",
   "metadata": {},
   "source": [
    "project_2.experiments.add(\n",
    "    name=\"sim_lbco\",\n",
    "    sample_form=\"powder\",\n",
    "    beam_mode=\"time-of-flight\",\n",
    "    radiation_probe=\"neutron\",\n",
    "    data_path=\"../4-reduction/powder_reduced_unknown.xye\",\n",
    ")"
   ],
   "outputs": [],
   "execution_count": null
  },
  {
   "cell_type": "markdown",
   "id": "a6d13779",
   "metadata": {},
   "source": [
    "#### Exercise 2.1: Inspect Measured Data\n",
    "\n",
    "Check the measured data of the LBCO experiment. Are there any\n",
    "peaks with the shape similar to those excluded in the Si fit?\n",
    "If so, exclude them from this analysis as well.\n",
    "\n",
    "**Hint:** You can use the `plot_meas` method of the project to visualize the\n",
    "measured diffraction pattern. You can also use the `excluded_regions` attribute\n",
    "of the experiment to exclude specific regions from the analysis.\n",
    "\n",
    "**Solution:**"
   ]
  },
  {
   "cell_type": "code",
   "id": "d5798e4b",
   "metadata": {},
   "source": [
    "project_2.plotter.engine = \"plotly\"\n",
    "project_2.plot_meas(expt_name=\"sim_lbco\")"
   ],
   "outputs": [],
   "execution_count": null
  },
  {
   "cell_type": "code",
   "id": "2a2dcb68",
   "metadata": {},
   "source": [
    "project_2.experiments[\"sim_lbco\"].excluded_regions.add(minimum=0, maximum=47500)\n",
    "project_2.experiments[\"sim_lbco\"].excluded_regions.add(minimum=105500, maximum=200000)"
   ],
   "outputs": [],
   "execution_count": null
  },
  {
   "cell_type": "code",
   "id": "95ba2cb8",
   "metadata": {},
   "source": [
    "project_2.plot_meas(expt_name=\"sim_lbco\")"
   ],
   "outputs": [],
   "execution_count": null
  },
  {
   "cell_type": "markdown",
   "id": "c4078a0d",
   "metadata": {},
   "source": [
    "#### Exercise 2.2: Set Instrument Parameters\n",
    "\n",
    "Set the instrument parameters for the LBCO experiment.\n",
    "\n",
    "**Hint:** Use the values from the data reduction process for the LBCO and\n",
    "follow the same approach as in the previous part of the tutorial.\n",
    "\n",
    "**Solution:**"
   ]
  },
  {
   "cell_type": "code",
   "id": "af03ff64",
   "metadata": {},
   "source": [
    "project_2.experiments[\"sim_lbco\"].instrument.setup_twotheta_bank = 157.706\n",
    "project_2.experiments[\"sim_lbco\"].instrument.calib_d_to_tof_linear = 58583.1"
   ],
   "outputs": [],
   "execution_count": null
  },
  {
   "cell_type": "markdown",
   "id": "17de2311",
   "metadata": {},
   "source": [
    "#### Exercise 2.3: Set Peak Profile Parameters\n",
    "\n",
    "Set the peak profile parameters for the LBCO experiment.\n",
    "\n",
    "**Hint:** Use the values from the previous part of the tutorial.\n",
    "\n",
    "**Solution:**"
   ]
  },
  {
   "cell_type": "code",
   "id": "6c5c978d",
   "metadata": {},
   "source": [
    "project_2.peak_profile_type = \"pseudo-voigt * ikeda-carpenter\"\n",
    "project_2.experiments[\"sim_lbco\"].peak.broad_gauss_sigma_0 = 69498\n",
    "project_2.experiments[\"sim_lbco\"].peak.broad_gauss_sigma_1 = -55578\n",
    "project_2.experiments[\"sim_lbco\"].peak.broad_gauss_sigma_2 = 14560\n",
    "project_2.experiments[\"sim_lbco\"].peak.broad_mix_beta_0 = 0.0019\n",
    "project_2.experiments[\"sim_lbco\"].peak.broad_mix_beta_1 = 0.0137\n",
    "project_2.experiments[\"sim_lbco\"].peak.asym_alpha_0 = -0.0055\n",
    "project_2.experiments[\"sim_lbco\"].peak.asym_alpha_1 = 0.0147"
   ],
   "outputs": [],
   "execution_count": null
  },
  {
   "cell_type": "markdown",
   "id": "a8384726",
   "metadata": {},
   "source": [
    "#### Exercise 2.4: Set Background\n",
    "\n",
    "Set the background points for the LBCO experiment. What would you suggest as\n",
    "the initial intensity value for the background points?\n",
    "\n",
    "**Hint:** Use the same approach as in the previous part of the tutorial, but\n",
    "this time you need to set the background points for the LBCO experiment. You can\n",
    "zoom in on the measured diffraction pattern to determine the approximate\n",
    "background level.\n",
    "\n",
    "**Solution:**"
   ]
  },
  {
   "cell_type": "code",
   "id": "72899511",
   "metadata": {},
   "source": [
    "project_2.experiments[\"sim_lbco\"].background_type = \"line-segment\"\n",
    "project_2.experiments[\"sim_lbco\"].background.add(x=50000, y=0.2)\n",
    "project_2.experiments[\"sim_lbco\"].background.add(x=60000, y=0.2)\n",
    "project_2.experiments[\"sim_lbco\"].background.add(x=70000, y=0.2)\n",
    "project_2.experiments[\"sim_lbco\"].background.add(x=80000, y=0.2)\n",
    "project_2.experiments[\"sim_lbco\"].background.add(x=90000, y=0.2)\n",
    "project_2.experiments[\"sim_lbco\"].background.add(x=100000, y=0.2)\n",
    "project_2.experiments[\"sim_lbco\"].background.add(x=110000, y=0.2)"
   ],
   "outputs": [],
   "execution_count": null
  },
  {
   "cell_type": "markdown",
   "id": "bc3338fd",
   "metadata": {},
   "source": [
    "### 🧩 Exercise 3: Define a Sample Model – LBCO\n",
    "\n",
    "The LBSO structure is not as simple as the Si model, as it contains multiple\n",
    "atoms in the unit cell. It is not in COD, so we give you the structural\n",
    "parameters in CIF format to create the sample model right here:"
   ]
  },
  {
   "cell_type": "markdown",
   "id": "f9a2183d",
   "metadata": {},
   "source": [
    "```\n",
    "data_lbco\n",
    "\n",
    "_space_group.name_H-M_alt  \"P m -3 m\"\n",
    "_space_group.IT_coordinate_system_code  1\n",
    "\n",
    "_cell.length_a      3.89\n",
    "_cell.length_b      3.89\n",
    "_cell.length_c      3.89\n",
    "_cell.angle_alpha  90.0\n",
    "_cell.angle_beta   90.0\n",
    "_cell.angle_gamma  90.0\n",
    "\n",
    "loop_\n",
    "_atom_site.label\n",
    "_atom_site.type_symbol\n",
    "_atom_site.fract_x\n",
    "_atom_site.fract_y\n",
    "_atom_site.fract_z\n",
    "_atom_site.wyckoff_letter\n",
    "_atom_site.occupancy\n",
    "_atom_site.ADP_type\n",
    "_atom_site.B_iso_or_equiv\n",
    "La La   0.0 0.0 0.0   a   0.5   Biso 0.10\n",
    "Ba Ba   0.0 0.0 0.0   a   0.5   Biso 0.10\n",
    "Co Co   0.5 0.5 0.5   b   1.0   Biso 0.36\n",
    "O  O    0.0 0.5 0.5   c   1.0   Biso 2.14\n",
    "```"
   ]
  },
  {
   "cell_type": "markdown",
   "id": "cea5b06e",
   "metadata": {},
   "source": [
    "#### Exercise 3.1: Create Sample Model\n",
    "\n",
    "Create a sample model for LBCO based on the provided CIF data.\n",
    "\n",
    "**Hint:** You can use the same approach as in the previous part of the\n",
    "tutorial, but this time you need to create a sample model for LBCO.\n",
    "\n",
    "**Solution:**"
   ]
  },
  {
   "cell_type": "code",
   "id": "d14df9ce",
   "metadata": {},
   "source": [
    "project_2.sample_models.add(name=\"lbco\")"
   ],
   "outputs": [],
   "execution_count": null
  },
  {
   "cell_type": "markdown",
   "id": "76ca4888",
   "metadata": {},
   "source": [
    "#### Exercise 3.2: Set Space Group\n",
    "\n",
    "Set the space group for the LBCO sample model.\n",
    "\n",
    "**Hint:** Use the space group name and IT coordinate system code from the CIF data.\n",
    "\n",
    "**Solution:**"
   ]
  },
  {
   "cell_type": "code",
   "id": "76e256b3",
   "metadata": {},
   "source": [
    "project_2.sample_models[\"lbco\"].space_group.name_h_m = \"P m -3 m\"\n",
    "project_2.sample_models[\"lbco\"].space_group.it_coordinate_system_code = \"1\""
   ],
   "outputs": [],
   "execution_count": null
  },
  {
   "cell_type": "markdown",
   "id": "140fb92a",
   "metadata": {},
   "source": [
    "#### Exercise 3.3: Set Lattice Parameters\n",
    "\n",
    "Set the lattice parameters for the LBCO sample model.\n",
    "\n",
    "**Hint:** Use the lattice parameters from the CIF data.\n",
    "\n",
    "**Solution:**"
   ]
  },
  {
   "cell_type": "code",
   "id": "b2fee473",
   "metadata": {},
   "source": [
    "project_2.sample_models[\"lbco\"].cell.length_a = 3.88"
   ],
   "outputs": [],
   "execution_count": null
  },
  {
   "cell_type": "markdown",
   "id": "16094c3b",
   "metadata": {},
   "source": [
    "#### Exercise 3.4: Set Atom Sites\n",
    "\n",
    "Set the atom sites for the LBCO sample model.\n",
    "\n",
    "**Hint:** Use the atom sites from the CIF data. You can use the `add` method of\n",
    "the `atom_sites` attribute of the sample model to add the atom sites.\n",
    "Note that the `occupancy` of the La and Ba atoms is 0.5 and those atoms\n",
    "are located in the same position (0, 0, 0) in the unit cell. This means that\n",
    "an extra attribute `occupancy` needs to be set for those atoms."
   ]
  },
  {
   "cell_type": "code",
   "id": "f4c6a3fd",
   "metadata": {},
   "source": [
    "project_2.sample_models[\"lbco\"].atom_sites.add(\n",
    "    label=\"La\",\n",
    "    type_symbol=\"La\",\n",
    "    fract_x=0,\n",
    "    fract_y=0,\n",
    "    fract_z=0,\n",
    "    wyckoff_letter=\"a\",\n",
    "    b_iso=0.1,\n",
    "    occupancy=0.5,\n",
    ")\n",
    "project_2.sample_models[\"lbco\"].atom_sites.add(\n",
    "    label=\"Ba\",\n",
    "    type_symbol=\"Ba\",\n",
    "    fract_x=0,\n",
    "    fract_y=0,\n",
    "    fract_z=0,\n",
    "    wyckoff_letter=\"a\",\n",
    "    b_iso=0.1,\n",
    "    occupancy=0.5,\n",
    ")\n",
    "project_2.sample_models[\"lbco\"].atom_sites.add(\n",
    "    label=\"Co\",\n",
    "    type_symbol=\"Co\",\n",
    "    fract_x=0.5,\n",
    "    fract_y=0.5,\n",
    "    fract_z=0.5,\n",
    "    wyckoff_letter=\"b\",\n",
    "    b_iso=0.36,\n",
    ")\n",
    "project_2.sample_models[\"lbco\"].atom_sites.add(\n",
    "    label=\"O\",\n",
    "    type_symbol=\"O\",\n",
    "    fract_x=0,\n",
    "    fract_y=0.5,\n",
    "    fract_z=0.5,\n",
    "    wyckoff_letter=\"c\",\n",
    "    b_iso=2.14,\n",
    ")"
   ],
   "outputs": [],
   "execution_count": null
  },
  {
   "cell_type": "markdown",
   "id": "3ef67cad",
   "metadata": {},
   "source": [
    "### 🔗 Exercise 4: Assign Sample Model to Experiment\n",
    "\n",
    "Now assign the LBCO sample model to the experiment created above.\n",
    "\n",
    "**Hint:** Use the `linked_phases` attribute of the experiment to link the sample model.\n",
    "\n",
    "**Solution:**"
   ]
  },
  {
   "cell_type": "code",
   "id": "79a3d3f3",
   "metadata": {},
   "source": [
    "project_2.experiments[\"sim_lbco\"].linked_phases.add(id=\"lbco\", scale=1.0)"
   ],
   "outputs": [],
   "execution_count": null
  },
  {
   "cell_type": "markdown",
   "id": "60e8f0fc",
   "metadata": {},
   "source": [
    "### 🚀 Exercise 5: Analyze and Fit the Data\n",
    "\n",
    "#### Exercise 5.1: Set Fit Parameters\n",
    "\n",
    "Select the parameters to be refined during the fitting process.\n",
    "\n",
    "**Hint:** You can start with the same parameters as in the Si fit, but\n",
    "this time you will refine the scale factor of the LBCO phase and the\n",
    "background points for the second simulation.\n",
    "\n",
    "**Solution:**"
   ]
  },
  {
   "cell_type": "code",
   "id": "72ba7c10",
   "metadata": {},
   "source": [
    "project_2.experiments[\"sim_lbco\"].linked_phases[\"lbco\"].scale.free = True\n",
    "for line_segment in project_2.experiments[\"sim_lbco\"].background:\n",
    "    line_segment.y.free = True"
   ],
   "outputs": [],
   "execution_count": null
  },
  {
   "cell_type": "markdown",
   "id": "76151a8e",
   "metadata": {},
   "source": [
    "#### Exercise 5.2: Run Fitting\n",
    "\n",
    "Visualize the measured and calculated diffraction patterns before fitting and\n",
    "then run the fitting process.\n",
    "\n",
    "**Hint:** Use the `plot_meas_vs_calc` method of the project to visualize the\n",
    "measured and calculated diffraction patterns before fitting. Then, use the\n",
    "`fit` method of the `analysis` object of the project to perform the fitting\n",
    "process.\n",
    "\n",
    "**Solution:**"
   ]
  },
  {
   "cell_type": "code",
   "id": "17d6fab3",
   "metadata": {},
   "source": [
    "project_2.plot_meas_vs_calc(expt_name=\"sim_lbco\")"
   ],
   "outputs": [],
   "execution_count": null
  },
  {
   "cell_type": "code",
   "id": "cab87e11",
   "metadata": {},
   "source": [
    "project_2.analysis.fit()"
   ],
   "outputs": [],
   "execution_count": null
  },
  {
   "cell_type": "markdown",
   "id": "3e8311ca",
   "metadata": {},
   "source": [
    "#### Exercise 5.3: Find the Misfit in the Fit\n",
    "\n",
    "Visualize the measured and calculated diffraction patterns after the fit. As\n",
    "you can see, the fit shows noticeable discrepancies. If you zoom in on different regions of the pattern,\n",
    "you will observe that all the calculated peaks are shifted to the left.\n",
    "\n",
    "What could be the reason for the misfit?\n",
    "\n",
    "**Hint**: Consider the following options:\n",
    "1. The conversion parameters from TOF to d-spacing are not correct.\n",
    "2. The lattice parameters of the LBCO phase are not correct.\n",
    "3. The peak profile parameters are not correct.\n",
    "4. The background points are not correct.\n",
    "\n",
    "**Solution**:\n",
    "1. ❌ The conversion parameters from TOF to d-spacing were set based on the data reduction process and this was verified in the Si fit.\n",
    "2. ✅ The lattice parameters of the LBCO phase were set based on the CIF data, which is a good starting point, but they are not necessarily as accurate as needed for the fit. The lattice parameters may need to be refined.\n",
    "3. ❌ The peak profile parameters do not change the position of the peaks, but rather their shape.\n",
    "4. ❌ The background points affect the background level, but not the peak positions."
   ]
  },
  {
   "cell_type": "code",
   "id": "ee498b05",
   "metadata": {},
   "source": [
    "project_2.plot_meas_vs_calc(expt_name=\"sim_lbco\")"
   ],
   "outputs": [],
   "execution_count": null
  },
  {
   "cell_type": "markdown",
   "id": "953a893f",
   "metadata": {},
   "source": [
    "#### Exercise 5.4: Refine the LBCO Lattice Parameter\n",
    "\n",
    "To improve the fit, refine the lattice parameter of the LBCO phase.\n",
    "\n",
    "**Hint**: To accomplish this, we will set the `free` attribute of the `length_a` parameter\n",
    "of the LBCO cell to `True`. This will allow the fitting process to adjust\n",
    "the lattice parameter in addition to the scale factor of the LBCO phase\n",
    "and the background points. Then, you can run the fitting process again.\n",
    "\n",
    "**Solution**:"
   ]
  },
  {
   "cell_type": "code",
   "id": "ae225dae",
   "metadata": {},
   "source": [
    "project_2.sample_models[\"lbco\"].cell.length_a.free = True"
   ],
   "outputs": [],
   "execution_count": null
  },
  {
   "cell_type": "code",
   "id": "63f62a6a",
   "metadata": {},
   "source": [
    "project_2.analysis.fit()"
   ],
   "outputs": [],
   "execution_count": null
  },
  {
   "cell_type": "code",
   "id": "3a68fe49",
   "metadata": {},
   "source": [
    "project_2.plot_meas_vs_calc(expt_name=\"sim_lbco\")"
   ],
   "outputs": [],
   "execution_count": null
  },
  {
   "cell_type": "markdown",
   "id": "29bbcdf6",
   "metadata": {},
   "source": [
    "#### Exercise 5.5: Visualize the Fit Results in d-spacing\n",
    "\n",
    "Plot measured vs calculated diffraction patterns in d-spacing instead of TOF.\n",
    "\n",
    "**Hint**: Use the `plot_meas_vs_calc` method of the project and set the\n",
    "`d_spacing` parameter to `True`.\n",
    "\n",
    "**Solution**:"
   ]
  },
  {
   "cell_type": "code",
   "id": "2cf8b9fa",
   "metadata": {},
   "source": [
    "project_2.plot_meas_vs_calc(expt_name=\"sim_lbco\", d_spacing=True)"
   ],
   "outputs": [],
   "execution_count": null
  },
  {
   "cell_type": "markdown",
   "id": "9947fdf6",
   "metadata": {},
   "source": [
    "#### Exercise 5.6: Find Undefined Features\n",
    "\n",
    "After refining the lattice parameter, the fit is significantly improved, but\n",
    "inspect the diffraction pattern again. Are you noticing anything undefined?\n",
    "\n",
    "**Hint**: While the fit is now significantly better, there are still some unexplained peaks\n",
    "in the diffraction pattern. These peaks are not accounted for by the LBCO phase.\n",
    "For example, if you zoom in on the region around 1.6 Å (or 95,000 μs), you will\n",
    "notice that the rightmost peak is not explained by the LBCO phase at all.\n",
    "\n",
    "**Solution**:"
   ]
  },
  {
   "cell_type": "code",
   "id": "d52d3593",
   "metadata": {},
   "source": [
    "project_2.plot_meas_vs_calc(expt_name=\"sim_lbco\", x_min=1.53, x_max=1.7, d_spacing=True)"
   ],
   "outputs": [],
   "execution_count": null
  },
  {
   "cell_type": "markdown",
   "id": "1a6bd5ab",
   "metadata": {},
   "source": [
    "#### Exercise 5.7: Identify the Cause of the Unexplained Peaks\n",
    "\n",
    "**Hint**: Consider the following options:\n",
    "1. The LBCO phase is not correctly modeled.\n",
    "2. The LBCO phase is not the only phase present in the sample.\n",
    "3. The data reduction process introduced artifacts.\n",
    "4. The studied sample is not LBCO, but rather a different phase.\n",
    "\n",
    "**Solution**:\n",
    "1. ❌ In principle, this could be the case, as sometimes the presence of\n",
    "extra peaks in the diffraction pattern can indicate a lower symmetry\n",
    "than the one used in the model, or that the model is not complete. However,\n",
    "in this case, the LBCO phase is correctly modeled based on the CIF data.\n",
    "2. ✅ The unexplained peaks are due to the presence of an impurity phase\n",
    "in the sample, which is not included in the current model.\n",
    "3. ❌ The data reduction process is not likely to introduce such specific\n",
    "peaks, as it is tested and verified in the previous part of the tutorial.\n",
    "4. ❌ This could also be the case in real experiments, but in this case,\n",
    "we know that the sample is LBCO, as it was simulated based on the CIF data."
   ]
  },
  {
   "cell_type": "markdown",
   "id": "46addc5f",
   "metadata": {},
   "source": [
    "#### Exercise 5.8: Identify the impurity phase\n",
    "\n",
    "Identify the impurity phase.\n",
    "\n",
    "**Hint**: Check the positions of the unexplained peaks in the diffraction pattern.\n",
    "Compare them with the known diffraction patterns in the introduction section of the\n",
    "tutorial.\n",
    "\n",
    "**Solution**:\n",
    "The unexplained peaks are likely due to the presence of a small amount of\n",
    "Si in the LBCO sample. In real experiments, it might happen, e.g., because the\n",
    "sample holder was not cleaned properly after the Si experiment.\n",
    "\n",
    "You can visalize both the patterns of the Si and LBCO phases to confirm this hypothesis."
   ]
  },
  {
   "cell_type": "code",
   "id": "e9639a9b",
   "metadata": {},
   "source": [
    "project_1.plot_meas_vs_calc(expt_name=\"sim_si\", x_min=1, x_max=1.7, d_spacing=True)\n",
    "project_2.plot_meas_vs_calc(expt_name=\"sim_lbco\", x_min=1, x_max=1.7, d_spacing=True)"
   ],
   "outputs": [],
   "execution_count": null
  },
  {
   "cell_type": "markdown",
   "id": "9729a3e3",
   "metadata": {},
   "source": [
    "#### Exercise 5.9: Create a Second Sample Model – Si as Impurity\n",
    "\n",
    "Create a second sample model for the Si phase, which is the impurity phase\n",
    "identified in the previous step. Link this sample model to the LBCO\n",
    "experiment.\n",
    "\n",
    "**Hint**: You can use the same approach as in the previous part of the\n",
    "tutorial, but this time you need to create a sample model for Si and link it\n",
    "to the LBCO experiment.\n",
    "\n",
    "**Solution:**"
   ]
  },
  {
   "cell_type": "markdown",
   "id": "32078229",
   "metadata": {},
   "source": [
    "**Set Space Group**"
   ]
  },
  {
   "cell_type": "code",
   "id": "12e2f067",
   "metadata": {},
   "source": [
    "project_2.sample_models.add(name=\"si\")"
   ],
   "outputs": [],
   "execution_count": null
  },
  {
   "cell_type": "code",
   "id": "9d5dfa50",
   "metadata": {},
   "source": [
    "project_2.sample_models[\"si\"].space_group.name_h_m = \"F d -3 m\"\n",
    "project_2.sample_models[\"si\"].space_group.it_coordinate_system_code = \"2\""
   ],
   "outputs": [],
   "execution_count": null
  },
  {
   "cell_type": "markdown",
   "id": "64e97830",
   "metadata": {},
   "source": [
    "**Set Lattice Parameters**"
   ]
  },
  {
   "cell_type": "code",
   "id": "2e147ff4",
   "metadata": {},
   "source": [
    "project_2.sample_models[\"si\"].cell.length_a = 5.43"
   ],
   "outputs": [],
   "execution_count": null
  },
  {
   "cell_type": "markdown",
   "id": "4054a7d1",
   "metadata": {},
   "source": [
    "**Set Atom Sites**"
   ]
  },
  {
   "cell_type": "code",
   "id": "e6654513",
   "metadata": {},
   "source": [
    "project_2.sample_models[\"si\"].atom_sites.add(\n",
    "    label=\"Si\",\n",
    "    type_symbol=\"Si\",\n",
    "    fract_x=0,\n",
    "    fract_y=0,\n",
    "    fract_z=0,\n",
    "    wyckoff_letter=\"a\",\n",
    "    b_iso=0.63,\n",
    ")"
   ],
   "outputs": [],
   "execution_count": null
  },
  {
   "cell_type": "markdown",
   "id": "1bab0afa",
   "metadata": {},
   "source": [
    "**🔗 Assign Sample Model to Experiment**"
   ]
  },
  {
   "cell_type": "code",
   "id": "96d4c73f",
   "metadata": {},
   "source": [
    "project_2.experiments[\"sim_lbco\"].linked_phases.add(id=\"si\", scale=1.0)"
   ],
   "outputs": [],
   "execution_count": null
  },
  {
   "cell_type": "markdown",
   "id": "4aa8f8f7",
   "metadata": {},
   "source": [
    "#### Exercise 5.10: Refine the Scale of the Si Phase\n",
    "\n",
    "Visualize the measured diffraction pattern and the calculated diffraction\n",
    "pattern. Check if the Si phase is contributing to the calculated diffraction\n",
    "pattern. Refine the scale factor of the Si phase to improve the fit.\n",
    "\n",
    "**Hint**: You can use the `plot_meas_vs_calc` method of the project to\n",
    "visualize the patterns. Then, set the `free` attribute of the `scale`\n",
    "parameter of the Si phase to `True` to allow the fitting process to adjust\n",
    "the scale factor.\n",
    "\n",
    "**Solution:**\n",
    "\n",
    "Before optimizing the parameters, we can visualize the measured\n",
    "diffraction pattern and the calculated diffraction pattern based on the\n",
    "two phases: LBCO and Si.\n",
    "\n",
    "**Visualize Diffraction Patterns**"
   ]
  },
  {
   "cell_type": "code",
   "id": "8e6bc18e",
   "metadata": {},
   "source": [
    "project_2.plot_meas_vs_calc(expt_name=\"sim_lbco\")"
   ],
   "outputs": [],
   "execution_count": null
  },
  {
   "cell_type": "markdown",
   "id": "2a01d9fd",
   "metadata": {},
   "source": [
    "As you can see, the calculated pattern is now the sum of both phases,\n",
    "and Si peaks are visible in the calculated pattern. However, their intensities\n",
    "are much too high. Therefore, we need to refine the scale factor of the Si phase.\n",
    "\n",
    "**Set Fit Parameters**"
   ]
  },
  {
   "cell_type": "code",
   "id": "0a683b74",
   "metadata": {},
   "source": [
    "project_2.experiments[\"sim_lbco\"].linked_phases[\"si\"].scale.free = True"
   ],
   "outputs": [],
   "execution_count": null
  },
  {
   "cell_type": "markdown",
   "id": "c7596964",
   "metadata": {},
   "source": [
    "**Run Fitting**\n",
    "\n",
    "Now we can perform the fit with both phases included."
   ]
  },
  {
   "cell_type": "code",
   "id": "a7216729",
   "metadata": {},
   "source": [
    "project_2.analysis.fit()"
   ],
   "outputs": [],
   "execution_count": null
  },
  {
   "cell_type": "markdown",
   "id": "b62290c6",
   "metadata": {},
   "source": [
    "**Visualize Fit Results**\n",
    "\n",
    "Let's plot the measured diffraction pattern and the calculated diffraction\n",
    "pattern both for the full range and for a zoomed-in region around the previously unexplained\n",
    "peak near 95,000 μs. The calculated pattern will be the sum of the two phases."
   ]
  },
  {
   "cell_type": "code",
   "id": "38004527",
   "metadata": {},
   "source": [
    "project_2.plot_meas_vs_calc(expt_name=\"sim_lbco\")"
   ],
   "outputs": [],
   "execution_count": null
  },
  {
   "cell_type": "code",
   "id": "6fc93114",
   "metadata": {},
   "source": [
    "project_2.plot_meas_vs_calc(expt_name=\"sim_lbco\", x_min=88000, x_max=101000)"
   ],
   "outputs": [],
   "execution_count": null
  },
  {
   "cell_type": "markdown",
   "id": "d9315e63",
   "metadata": {},
   "source": [
    "All previously unexplained peaks are now accounted for in the pattern, and the fit is improved.\n",
    "Some discrepancies in the peak intensities remain, but\n",
    "further improvements would require more advanced data reduction and analysis,\n",
    "which are beyond the scope of this tutorial."
   ]
  },
  {
   "cell_type": "markdown",
   "id": "51f12db7",
   "metadata": {},
   "source": [
    "## 🎁 Bonus\n",
    "\n",
    "You've now completed the analysis part of the DMSC Summer School workflow,\n",
    "demonstrating the practical use of EasyDiffraction for refining simulated\n",
    "powder diffraction data.\n",
    "\n",
    "To continue learning and exploring more features of\n",
    "the EasyDiffraction library, you can visit the official tutorial page\n",
    "and select one of the many available tutorials:\n",
    "https://easyscience.github.io/diffraction-lib/tutorials/"
   ]
  }
 ],
 "metadata": {
  "jupytext": {
   "cell_metadata_filter": "-all",
   "main_language": "python",
   "notebook_metadata_filter": "-all"
  }
 },
 "nbformat": 4,
 "nbformat_minor": 5
}
