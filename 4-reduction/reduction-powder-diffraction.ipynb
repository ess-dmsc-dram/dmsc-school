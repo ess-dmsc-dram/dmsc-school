{
 "cells": [
  {
   "cell_type": "markdown",
   "id": "403b137b-6d4c-4d44-8a36-45c3380e74b1",
   "metadata": {
    "editable": true,
    "slideshow": {
     "slide_type": ""
    },
    "tags": []
   },
   "source": [
    "# Powder diffraction data reduction\n",
    "\n",
    "This notebook will guide you through the data reduction for the powder diffraction experiment that you simulated with McStas yesterday.\n",
    "\n",
    "The following is a basic outline of what this notebook will cover:\n",
    "\n",
    "- Loading the NeXus files that contain the data\n",
    "- Inspect/visualize the data contents\n",
    "- How to convert the raw event `time-of-arrival` coordinate to something more useful ($\\lambda$, $d$, ...)\n",
    "- Improve the estimate of neutron `time-of-flight`\n",
    "- Save the reduced data to disk, in a state that is ready for analysis/fitting."
   ]
  },
  {
   "cell_type": "code",
   "execution_count": null,
   "id": "0bfa10eb-2a03-4672-802d-9d8f5620c9c5",
   "metadata": {
    "editable": true,
    "slideshow": {
     "slide_type": ""
    },
    "tags": []
   },
   "outputs": [],
   "source": [
    "import numpy as np\n",
    "import scipp as sc\n",
    "import plopp as pp\n",
    "import powder_utils as utils"
   ]
  },
  {
   "cell_type": "markdown",
   "id": "2319763f-3ef7-411b-8bf9-3d9635b314dd",
   "metadata": {
    "editable": true,
    "slideshow": {
     "slide_type": ""
    },
    "tags": []
   },
   "source": [
    "## Process the run with a reference sample: Si\n",
    "\n",
    "### Load the NeXus file data\n",
    "\n",
    "By default, we will use the data we generated in yesterday's simulation:"
   ]
  },
  {
   "cell_type": "code",
   "execution_count": null,
   "id": "6aae0c28-173e-4ce3-a14a-d67d6fea4f18",
   "metadata": {
    "editable": true,
    "slideshow": {
     "slide_type": ""
    },
    "tags": []
   },
   "outputs": [],
   "source": [
    "folder = \"../3-mcstas/output_sample_Si\""
   ]
  },
  {
   "cell_type": "markdown",
   "id": "78532b6c-f4bc-41a0-beea-d1844959d19d",
   "metadata": {
    "tags": [
        "remove-cell",
        "dmsc-school-keep"
    ]
   },
   "source": [
    "⚠️ **If you did not complete the Si simulation yesterday**,\n",
    "you can use some pre-prepared data by uncommenting and running the cell below:"
   ]
  },
  {
   "cell_type": "code",
   "execution_count": null,
   "id": "6f2800c0-b914-4163-9fd6-78b7992eb218",
   "metadata": {
    "tags": [
        "remove-cell",
        "dmsc-school-keep"
    ]
   },
   "outputs": [],
   "source": [
    "# folder = utils.fetch_data(\"3-mcstas/output_sample_Si\")"
   ]
  },
  {
   "cell_type": "markdown",
   "id": "56fff439-cf4f-4bf3-ab93-2d7d99965b15",
   "metadata": {},
   "source": [
    "We now load the data:"
   ]
  },
  {
   "cell_type": "code",
   "execution_count": null,
   "id": "cf14702d-8e94-4360-a080-791de15f31d1",
   "metadata": {
    "editable": true,
    "slideshow": {
     "slide_type": ""
    },
    "tags": []
   },
   "outputs": [],
   "source": [
    "sample_si = utils.load_powder(folder)"
   ]
  },
  {
   "cell_type": "markdown",
   "id": "82e79171-532d-45c9-953d-fadac3d1e963",
   "metadata": {
    "editable": true,
    "slideshow": {
     "slide_type": ""
    },
    "tags": []
   },
   "source": [
    "The first way to inspect the data is to view the HTML representation of the loaded object.\n",
    "\n",
    "Try to explore what is inside the data, and familiarize yourself with the different sections (`Dimensions`, `Coordinates`, `Data`)."
   ]
  },
  {
   "cell_type": "code",
   "execution_count": null,
   "id": "bf4e4857-739c-4d6d-94bc-14b6e2fd3da7",
   "metadata": {
    "editable": true,
    "slideshow": {
     "slide_type": ""
    },
    "tags": []
   },
   "outputs": [],
   "source": [
    "sample_si"
   ]
  },
  {
   "cell_type": "markdown",
   "id": "d337b0c8-9836-4338-80c2-6a4155c816e2",
   "metadata": {
    "editable": true,
    "slideshow": {
     "slide_type": ""
    },
    "tags": []
   },
   "source": [
    "### Visualize the data\n",
    "\n",
    "Here is a 2D visualization of the neutron counts, histogrammed along the `x` and `toa`dimensions:"
   ]
  },
  {
   "cell_type": "code",
   "execution_count": null,
   "id": "31ef1533-c991-40bc-a840-9713e5b132cb",
   "metadata": {
    "editable": true,
    "slideshow": {
     "slide_type": ""
    },
    "tags": []
   },
   "outputs": [],
   "source": [
    "sample_si.hist(x=200, toa=200).plot(norm=\"log\", vmin=1.0e-2)"
   ]
  },
  {
   "cell_type": "markdown",
   "id": "880f08ad-c59f-47fe-a648-a13b65973bf2",
   "metadata": {},
   "source": [
    "We can also visualize the events in 3D, which show the shape of the detector panels:"
   ]
  },
  {
   "cell_type": "code",
   "execution_count": null,
   "id": "ea7a8821-a08b-4d57-be74-c3d1c636f8aa",
   "metadata": {},
   "outputs": [],
   "source": [
    "pp.scatter3d(sample_si[::20], pos='position', cbar=True, vmin=0.01, pixel_size=0.07)"
   ]
  },
  {
   "cell_type": "markdown",
   "id": "6e377969-cae6-44f3-a5cf-11c0df008e11",
   "metadata": {
    "editable": true,
    "slideshow": {
     "slide_type": ""
    },
    "tags": []
   },
   "source": [
    "### Coordinate transformations\n",
    "\n",
    "The first step of this data reduction workflow is to convert the raw event coordinates (position, time-of-flight) to something physically meaningful such as wavelength ($\\lambda$) or d-spacing ($d$).\n",
    "\n",
    "Scipp has a dedicated method for this called `transform_coords` (see docs [here](https://scipp.github.io/scippneutron/user-guide/coordinate-transformations.html)).\n",
    "\n",
    "We begin with a standard graph which describes how to compute e.g. the wavelength from the other coordinates in the raw data."
   ]
  },
  {
   "cell_type": "code",
   "execution_count": null,
   "id": "5b4e0704-015c-47a1-a591-b9685eee9072",
   "metadata": {
    "editable": true,
    "slideshow": {
     "slide_type": ""
    },
    "tags": []
   },
   "outputs": [],
   "source": [
    "from scippneutron.conversion.graph.beamline import beamline\n",
    "from scippneutron.conversion.graph.tof import kinematic\n",
    "\n",
    "graph = {**beamline(scatter=True), **kinematic(\"tof\")}\n",
    "\n",
    "def compute_tof(toa, time_origin):\n",
    "    return toa - time_origin\n",
    "\n",
    "graph['tof'] = compute_tof\n",
    "sc.show_graph(graph, simplified=True)"
   ]
  },
  {
   "cell_type": "markdown",
   "id": "e2ed91bc-43f8-424c-b84b-fadbfb2b106a",
   "metadata": {
    "editable": true,
    "slideshow": {
     "slide_type": ""
    },
    "tags": []
   },
   "source": [
    "To compute the wavelength of all the events, we simply call `transform_coords` on our loaded data,\n",
    "requesting the name of the coordinate we want in the output (`\"wavelength\"`),\n",
    "as well as providing it the graph to be used to compute it (i.e. the one we defined just above).\n",
    "\n",
    "This yields"
   ]
  },
  {
   "cell_type": "code",
   "execution_count": null,
   "id": "2c013a72-4006-472a-8f45-f63187adae19",
   "metadata": {
    "editable": true,
    "slideshow": {
     "slide_type": ""
    },
    "tags": []
   },
   "outputs": [],
   "source": [
    "si_wav = sample_si.transform_coords([\"wavelength\", \"two_theta\"], graph=graph)\n",
    "si_wav"
   ]
  },
  {
   "cell_type": "markdown",
   "id": "13ac3430-4024-4354-9f4c-cea499c4dca2",
   "metadata": {
    "editable": true,
    "slideshow": {
     "slide_type": ""
    },
    "tags": []
   },
   "source": [
    "The result has a `wavelength` coordinate. We can also plot the result:"
   ]
  },
  {
   "cell_type": "code",
   "execution_count": null,
   "id": "1a05518c-7537-4cf2-89f2-781af5257ee2",
   "metadata": {
    "editable": true,
    "slideshow": {
     "slide_type": ""
    },
    "tags": []
   },
   "outputs": [],
   "source": [
    "si_wav.hist(two_theta=128, wavelength=200).plot(norm='log', vmin=1.0e-3)"
   ]
  },
  {
   "cell_type": "markdown",
   "id": "2f24c81d-09ce-47fb-ab85-373f2a38facb",
   "metadata": {
    "editable": true,
    "slideshow": {
     "slide_type": ""
    },
    "tags": []
   },
   "source": [
    "### Exercise 1: convert raw data to d-spacing\n",
    "\n",
    "Instead of wavelength as in the example above,\n",
    "the task is now to convert the raw data to interplanar lattice spacing $d$.\n",
    "\n",
    "The transformation graph is missing the computation for $d$ so you will have to add it in yourself.\n",
    "As a reminder, $d$ is computed as follows\n",
    "\n",
    "$$d = \\frac{\\lambda}{2 \\sin \\theta}$$\n",
    "\n",
    "You have to:\n",
    "\n",
    "- create a function that computes $d$\n",
    "- add it to the graph with name \"dspacing\"\n",
    "- call `transform_coords` using the new graph\n",
    "\n",
    "Note that the graph already contains the necessary components to compute the scattering angle $2 \\theta$ (called `two_theta` in code)."
   ]
  },
  {
   "cell_type": "markdown",
   "id": "064ea76d-0138-4629-8d8a-71520192933c",
   "metadata": {
    "editable": true,
    "slideshow": {
     "slide_type": ""
    },
    "tags": []
   },
   "source": [
    "**Solution:**"
   ]
  },
  {
   "cell_type": "code",
   "execution_count": null,
   "id": "f4b5288c-8194-43ea-b375-e25d8a67a3c0",
   "metadata": {
    "editable": true,
    "slideshow": {
     "slide_type": ""
    },
    "tags": [
     "hide-cell",
     "solution"
    ]
   },
   "outputs": [],
   "source": [
    "def compute_d(two_theta, wavelength):\n",
    "    return wavelength / (2 * sc.sin(two_theta / 2))\n",
    "\n",
    "\n",
    "graph[\"dspacing\"] = compute_d\n",
    "\n",
    "# Show the updated graph\n",
    "display(sc.show_graph(graph, simplified=True))\n",
    "\n",
    "# Run the coordinate transformation\n",
    "si_dspacing = sample_si.transform_coords(\"dspacing\", graph=graph)\n",
    "si_dspacing"
   ]
  },
  {
   "cell_type": "markdown",
   "id": "6334deda-d505-40c9-8fb7-25f1fdda6054",
   "metadata": {
    "editable": true,
    "slideshow": {
     "slide_type": ""
    },
    "tags": []
   },
   "source": [
    "### Histogram the data in d-spacing\n",
    "\n",
    "The final step in processing the sample run is to histogram the data into $d$ bins."
   ]
  },
  {
   "cell_type": "code",
   "execution_count": null,
   "id": "d340cc55-630d-4665-91be-4c2cb79c1d2f",
   "metadata": {},
   "outputs": [],
   "source": [
    "dbins = sc.linspace ('dspacing', 0.7, 2.5, 901, unit='angstrom')\n",
    "ntheta = 128\n",
    "\n",
    "si_dspacing_hist = si_dspacing.hist(two_theta=ntheta, dspacing=dbins)\n",
    "si_dspacing_hist.plot(norm='log', vmin=1.0e-3)"
   ]
  },
  {
   "cell_type": "code",
   "execution_count": null,
   "id": "5a24ed62-9363-4f4b-b13c-51147b6fa342",
   "metadata": {},
   "outputs": [],
   "source": [
    "si_dspacing_hist.sum('two_theta').plot()"
   ]
  },
  {
   "cell_type": "markdown",
   "id": "a4ba424c-05f1-436d-be55-25c7736b9ade",
   "metadata": {
    "editable": true,
    "slideshow": {
     "slide_type": ""
    },
    "tags": []
   },
   "source": [
    "## Exercise 2: Correct the time-of-flight\n",
    "\n",
    "### Time-of-flight at a long-pulsed source\n",
    "\n",
    "The time-of-flight of a neutron is typically not known from experimental measurements.\n",
    "The only two parameters that we are able to record are usually the time at which the pulse was emitted (named `time_origin` in our dataset),\n",
    "and the timestamp when a neutron was detected by a detector pixel (named `toa`, standing for time-of-arrival).\n",
    "\n",
    "The difference between these two times is commonly used to compute an approximate time-of-flight.\n",
    "This approximation performs well at neutron sources with a short pulse,\n",
    "where it is satisfactory to assume that all neutrons left the source at the same time.\n",
    "\n",
    "At a long-pulsed source (lasting a few milliseconds) such as ESS, with high-precision instruments,\n",
    "this approximation is no longer valid.\n",
    "\n",
    "This is in fact the reason why in the $2\\theta$ vs d-spacing plot, the bright lines appear curved while they should in reality be vertical.\n",
    "\n",
    "In the following exercise, we will add a correction to our time-of-flight computation to improve our results.\n",
    "\n",
    "### Finding a new time-distance origin\n",
    "\n",
    "One way to look at the problem is to visualize the paths of each neutron that made it to the detector,\n",
    "on a time-distance diagram.\n",
    "\n",
    "The neutrons begin at the source (bottom left), travel along the guide, go through the chopper,\n",
    "and finally arrive at the detectors (top)."
   ]
  },
  {
   "cell_type": "code",
   "execution_count": null,
   "id": "bf31308f-c1a4-4f56-be94-2ab615dc7f4d",
   "metadata": {},
   "outputs": [],
   "source": [
    "utils.time_distance_diagram(si_wav)"
   ]
  },
  {
   "cell_type": "markdown",
   "id": "004ce140-b157-4683-a70e-38574f6a2d12",
   "metadata": {},
   "source": [
    "As the figure above illustrates,\n",
    "the current time-of-flight computation (`tof = toa - time_origin`) assumes that all neutrons were born at $t = 0$ (black dot).\n",
    "\n",
    "This is clearly not the case from looking at the neutron tracks.\n",
    "\n",
    "#### Exercise: find a new origin\n",
    "\n",
    "- Inspect the time-distance diagram and try to find a point which would be a better representation of a common origin for all tracks.\n",
    "- Set the origin as coordinates on the original data (**hint:** you will need to update the `source_position` and `time_origin` coordinates).\n",
    "- Compute wavelength/d-spacing again."
   ]
  },
  {
   "cell_type": "markdown",
   "id": "8fef658d-b88a-4fce-96c2-6a2a6408e250",
   "metadata": {
    "editable": true,
    "slideshow": {
     "slide_type": ""
    },
    "tags": []
   },
   "source": [
    "**Solution:**"
   ]
  },
  {
   "cell_type": "code",
   "execution_count": null,
   "id": "4dbd1772-d92c-402a-88d2-1c2bf93fae51",
   "metadata": {
    "editable": true,
    "slideshow": {
     "slide_type": ""
    },
    "tags": [
     "hide-cell",
     "solution"
    ]
   },
   "outputs": [],
   "source": [
    "better = sample_si.copy(deep=False)\n",
    "\n",
    "# Read off the plot that the lines cross as they go through the chopper:\n",
    "# time=5.53, distance=6.5 (approximately)\n",
    "better.coords['source_position'] = sc.vector([0, 0, 6.5], unit='m')\n",
    "better.coords['time_origin'] = sc.scalar(5.53, unit='ms').to(unit='s')\n",
    "\n",
    "better_dspacing = better.transform_coords(\"dspacing\", graph=graph)\n",
    "better_dspacing"
   ]
  },
  {
   "cell_type": "code",
   "execution_count": null,
   "id": "42dca3af669537f5",
   "metadata": {},
   "outputs": [],
   "source": [
    "better_dspacing.hist(two_theta=ntheta, dspacing=dbins).plot(norm='log', vmin=1.0e-3)"
   ]
  },
  {
   "cell_type": "code",
   "execution_count": null,
   "id": "a137e6e8-0572-4296-8850-c81e2c3196b3",
   "metadata": {},
   "outputs": [],
   "source": [
    "pp.plot({'original': si_dspacing_hist.sum('two_theta'),\n",
    "         'improved': better_dspacing.hist(two_theta=ntheta, dspacing=dbins).sum('two_theta')})"
   ]
  },
  {
   "cell_type": "markdown",
   "id": "04e8de0c-ffe1-4353-a106-9193757580ad",
   "metadata": {},
   "source": [
    "## Exercise 3: Process the Vanadium run\n",
    "\n",
    "We now need to repeat the process (load data, correct time-of-flight, convert to d-spacing) for the Vanadium run."
   ]
  },
  {
   "cell_type": "code",
   "execution_count": null,
   "id": "78f3b6c1-a474-47e1-85fb-6d8b08d05cd2",
   "metadata": {},
   "outputs": [],
   "source": [
    "folder = \"../3-mcstas/output_sample_vanadium\""
   ]
  },
  {
   "cell_type": "markdown",
   "id": "7cb3e439-d7a2-42cc-a7d7-01fddc70bd95",
   "metadata": {
    "tags": [
        "remove-cell",
        "dmsc-school-keep"
    ]
   },
   "source": [
    "⚠️ **If you did not complete the Vanadium simulation yesterday**,\n",
    "you can use some pre-prepared data by uncommenting and running the cell below:"
   ]
  },
  {
   "cell_type": "code",
   "execution_count": null,
   "id": "8eb42b85-fd22-49c3-8ea0-7b3b298ded63",
   "metadata": {
    "tags": [
        "remove-cell",
        "dmsc-school-keep"
    ]
   },
   "outputs": [],
   "source": [
    "# folder = utils.fetch_data(\"3-mcstas/output_sample_vanadium\")"
   ]
  },
  {
   "cell_type": "code",
   "execution_count": null,
   "id": "e7d00822-258b-46ec-8831-c936ff9c34c4",
   "metadata": {},
   "outputs": [],
   "source": [
    "sample_van = utils.load_powder(folder)"
   ]
  },
  {
   "cell_type": "code",
   "execution_count": null,
   "id": "b1714c92-e26e-4b64-9846-7a3de3d2d9c0",
   "metadata": {
    "tags": [
     "hide-cell",
     "solution"
    ]
   },
   "outputs": [],
   "source": [
    "# Read off the plot that the lines cross as they go through the chopper:\n",
    "# time=5.53, distance=6.5 (approximately)\n",
    "sample_van.coords['source_position'] = sc.vector([0, 0, 6.5], unit='m')\n",
    "sample_van.coords['time_origin'] = sc.scalar(5.53, unit='ms').to(unit='s')\n",
    "# Convert to dspacing\n",
    "van_dspacing = sample_van.transform_coords(\"dspacing\", graph=graph)"
   ]
  },
  {
   "cell_type": "code",
   "execution_count": null,
   "id": "b5b9f159-04e3-4a9d-82b8-3cb608459f96",
   "metadata": {},
   "outputs": [],
   "source": [
    "van_dspacing.hist(two_theta=ntheta, dspacing=dbins).plot(norm='log', vmin=1.0e-3)"
   ]
  },
  {
   "cell_type": "markdown",
   "id": "9673aab7-cabb-4cec-badf-3cd6758ee7a0",
   "metadata": {},
   "source": [
    "## Normalize by Vanadium\n",
    "\n",
    "The next step in our data reduction is to normalize our sample signal by the Vanadium counts.\n",
    "\n",
    "Vanadium is an almost perfect incoherent scatterer (scatters equally in all directions)\n",
    "and the signal from that run can be used to correct for difference in detector exposure and sensitivity.\n",
    "\n",
    "Performing accurate normalization is a complex subject,\n",
    "but in our simple idealised set-up,\n",
    "it basically boils down to a simple division operation.\n",
    "\n",
    "We first histogram the sample and vanadium data using the same binning for both:"
   ]
  },
  {
   "cell_type": "code",
   "execution_count": null,
   "id": "3c23e36f-081a-4648-a136-8114f261e038",
   "metadata": {},
   "outputs": [],
   "source": [
    "num = better_dspacing.hist(two_theta=ntheta, dspacing=dbins)\n",
    "den = van_dspacing.hist(two_theta=num.coords['two_theta'], dspacing=dbins)"
   ]
  },
  {
   "cell_type": "markdown",
   "id": "d52a29a6-5a0f-4ef9-854f-f5b0f9b17a15",
   "metadata": {},
   "source": [
    "For best results, it is common practice to smooth the Vanadium signal before using it for normalization,\n",
    "to remove any noise that mostly comes from collection statistics rather than detector efficiency.\n",
    "\n",
    "We thus smooth the Vandium histogram using a simple Gaussian filter.\n",
    "We will normalize the signal as a 1D histogram, so the data is first summed over the `two_theta` dimension.\n",
    "In Scipp, because of the physical units,\n",
    "we can define a physical kernel width as opposed to having to determine how many neighbours are necessary for good smoothing."
   ]
  },
  {
   "cell_type": "code",
   "execution_count": null,
   "id": "6a3e1488-af6f-4d67-b074-04960f39fc74",
   "metadata": {},
   "outputs": [],
   "source": [
    "# Smooth the Vanadium run \n",
    "from scipp.scipy.ndimage import gaussian_filter\n",
    "\n",
    "smooth_vana = gaussian_filter(\n",
    "    sc.values(den.sum('two_theta')),\n",
    "    sigma=sc.scalar(0.03, unit='angstrom')\n",
    ")\n",
    "\n",
    "pp.plot({'orig': den.sum('two_theta'), \n",
    "         'smooth': smooth_vana}, \n",
    "        title='Vanadium - smoothed')"
   ]
  },
  {
   "cell_type": "markdown",
   "id": "c40f096c-9ebc-490a-bdea-a9824143e783",
   "metadata": {},
   "source": [
    "### Exercise 4: perform the normalization\n",
    "\n",
    "Finally, we divide the sample histogram `num` (summed over `two_theta`) by the smoothed Vanadium."
   ]
  },
  {
   "cell_type": "code",
   "execution_count": null,
   "id": "42f44f24-3aea-43d0-82bb-dc38d81552a2",
   "metadata": {
    "tags": [
     "hide-cell",
     "solution"
    ]
   },
   "outputs": [],
   "source": [
    "normed = (num.sum('two_theta') / smooth_vana)"
   ]
  },
  {
   "cell_type": "code",
   "execution_count": null,
   "id": "7b11d6dc-b3b7-45fe-99c7-fa987776feab",
   "metadata": {},
   "outputs": [],
   "source": [
    "normed.plot()"
   ]
  },
  {
   "cell_type": "markdown",
   "id": "61d77d31-ba5d-42e2-9f11-4a944c14dcfe",
   "metadata": {},
   "source": [
    "You can compare to the plot above (before normalization) and see that the relative intensities of the Si peaks have changed."
   ]
  },
  {
   "cell_type": "markdown",
   "id": "c7abef6f-b5b7-4cc0-8727-da57c12545a2",
   "metadata": {},
   "source": [
    "## Save to disk\n",
    "\n",
    "We now need to save our reduced normalized data to a file,\n",
    "that will then be used by the analysis software in the next chapter.\n",
    "\n",
    "For this, we use a small helper function:"
   ]
  },
  {
   "cell_type": "code",
   "execution_count": null,
   "id": "65d1c461-8fbf-44c5-8b5b-37f93ff47a97",
   "metadata": {},
   "outputs": [],
   "source": [
    "utils.save_xye(\"reduced_Si.xye\",\n",
    "               event_data=better_dspacing,  # Needed for saving metadata required for analysis\n",
    "               normalized_histogram=normed)"
   ]
  },
  {
   "cell_type": "markdown",
   "id": "0dab1bbd-c726-4425-94c9-10be7cfb7583",
   "metadata": {},
   "source": [
    "## Exercise 5: Process and normalize main sample: LBCO\n",
    "\n",
    "Repeat the process for the LBCO sample:\n",
    "\n",
    "- load data\n",
    "- correct time-of-flight\n",
    "- convert to d-spacing\n",
    "- normalize by Vanadium\n",
    "- save to disk"
   ]
  },
  {
   "cell_type": "code",
   "execution_count": null,
   "id": "416e5e97-fc72-4263-83e9-69b9d5b2cdde",
   "metadata": {},
   "outputs": [],
   "source": [
    "folder = \"../3-mcstas/output_sample_LBCO\""
   ]
  },
  {
   "cell_type": "markdown",
   "id": "de904c09-7eb0-4f2a-a5bc-d44d24662c5d",
   "metadata": {
    "tags": [
        "remove-cell",
        "dmsc-school-keep"
    ]
   },
   "source": [
    "⚠️ **If you did not complete the Si simulation yesterday**,\n",
    "you can use some pre-prepared data by uncommenting and running the cell below:"
   ]
  },
  {
   "cell_type": "code",
   "execution_count": null,
   "id": "8e5e57f1-4fd8-44f9-b285-400369ab8139",
   "metadata": {
    "tags": [
        "remove-cell",
        "dmsc-school-keep"
    ]
   },
   "outputs": [],
   "source": [
    "# folder = utils.fetch_data(\"3-mcstas/output_sample_LBCO\")"
   ]
  },
  {
   "cell_type": "code",
   "execution_count": null,
   "id": "154af9e1-996c-469b-9696-e84f446c238e",
   "metadata": {
    "tags": [
     "hide-cell",
     "solution"
    ]
   },
   "outputs": [],
   "source": [
    "lbco = utils.load_powder(folder)\n",
    "\n",
    "# Read off the plot that the lines cross as they go through the chopper:\n",
    "# time=5.53, distance=6.5 (approximately)\n",
    "lbco.coords['source_position'] = sc.vector([0, 0, 6.5], unit='m')\n",
    "lbco.coords['time_origin'] = sc.scalar(5.53, unit='ms').to(unit='s')\n",
    "\n",
    "lbco_dspacing = lbco.transform_coords(\"dspacing\", graph=graph)\n",
    "lbco_dspacing.hist(two_theta=ntheta, dspacing=dbins).plot(norm='log', vmin=1.0e-3)\n",
    "\n",
    "# Normalize\n",
    "lbco_num = lbco_dspacing.hist(two_theta=den.coords['two_theta'], dspacing=dbins)\n",
    "\n",
    "lbco_normed = (lbco_num.sum('two_theta') / smooth_vana)\n",
    "\n",
    "lbco_normed.plot()"
   ]
  },
  {
   "cell_type": "code",
   "execution_count": null,
   "id": "39da8693-0900-4fff-a352-5097900b0793",
   "metadata": {
    "tags": [
     "hide-cell",
     "solution"
    ]
   },
   "outputs": [],
   "source": [
    "# Save to disk\n",
    "utils.save_xye(\"reduced_LBCO.xye\",\n",
    "               event_data=lbco_dspacing,  # Needed for saving metadata required for analysis\n",
    "               normalized_histogram=lbco_normed)"
   ]
  }
 ],
 "metadata": {
  "kernelspec": {
   "display_name": "Python 3 (ipykernel)",
   "language": "python",
   "name": "python3"
  },
  "language_info": {
   "codemirror_mode": {
    "name": "ipython",
    "version": 3
   },
   "file_extension": ".py",
   "mimetype": "text/x-python",
   "name": "python",
   "nbconvert_exporter": "python",
   "pygments_lexer": "ipython3",
   "version": "3.12.11"
  }
 },
 "nbformat": 4,
 "nbformat_minor": 5
}
