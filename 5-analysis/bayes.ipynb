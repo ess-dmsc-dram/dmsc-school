{
 "cells": [
  {
   "cell_type": "markdown",
   "metadata": {},
   "source": [
    "# Uniform priors in `easyCore`\n",
    "\n",
    "The use of {term}`Bayesian methods` is becoming more and more popular in the analysis of model-dependent data, in particular in neutron scattering.\n",
    "Bayesian methods is the continuation of the [](./prob_data.ipynb) section, where we thought about our data as a probability distribution. \n",
    "In this section, we will also consider how we can use our {term}`prior knowledge` about the system we are studying in the analysis. \n",
    "\n",
    "Before looking at anything new, we will generate the same simulated data as in the [](./fitting.ipynb) section. "
   ]
  },
  {
   "cell_type": "code",
   "execution_count": 6,
   "metadata": {},
   "outputs": [],
   "source": [
    "from easyCore import np\n",
    "\n",
    "np.random.seed(123)\n",
    "\n",
    "a_true = -0.9594\n",
    "b_true = 7.294\n",
    "c_true = 3.102\n",
    "\n",
    "N = 50\n",
    "x = np.sort(10 * np.random.rand(N))\n",
    "yerr = 0.1 + 3 * np.random.rand(N)\n",
    "y = a_true * x ** 2 + b_true * x + c_true\n",
    "y += np.abs(y) * 0.2 * np.random.randn(N)"
   ]
  },
  {
   "cell_type": "markdown",
   "metadata": {},
   "source": [
    "However, now we want to integrate our {term}`prior knowledge`, the most common way to do this is to have bounds on our parameters. \n",
    "By having these bounds we are saying that the probability of our parameter being less than some lower bound or greater then some upper bound is zero. \n",
    "For example, if parameter `b` in our quadratic model has bounds of 0 and 10, then there is an equal probability that the value of `b` can be anything in between 0 and 10, i.e., it has a uniform prior probability distribution. \n",
    "\n",
    "\n",
    "```{figure} ./images/uniform.png\n",
    "---\n",
    "height: 250px\n",
    "name: uniform\n",
    "---\n",
    "A uniform distribution (blue line), from 0 to 10.\n",
    "```\n",
    "\n",
    "We can include information about the upper and lower bound of the fitting in our `easyCore` parameters. "
   ]
  },
  {
   "cell_type": "code",
   "execution_count": 8,
   "metadata": {},
   "outputs": [],
   "source": [
    "from easyCore.Objects.Variable import Parameter\n",
    "\n",
    "a = Parameter(name='a', value=a_true, fixed=False, min=-5.0, max=0.5)\n",
    "b = Parameter(name='b', value=b_true, fixed=False, min=0, max=10)\n",
    "c = Parameter(name='c', value=c_true, fixed=False, min=-20, max=50)"
   ]
  },
  {
   "cell_type": "markdown",
   "metadata": {},
   "source": [
    "We can then perform the analysis in the same fashion as previously, however, this time the bounds will be respected. "
   ]
  },
  {
   "cell_type": "code",
   "execution_count": 9,
   "metadata": {},
   "outputs": [
    {
     "data": {
      "text/plain": [
       "(<Parameter 'a': -0.86+/-0.08, bounds=[-5.0:0.5]>,\n",
       " <Parameter 'b': 6.4+/-0.8, bounds=[0:10]>,\n",
       " <Parameter 'c': 4.2+/-1.9, bounds=[-20:50]>)"
      ]
     },
     "execution_count": 9,
     "metadata": {},
     "output_type": "execute_result"
    }
   ],
   "source": [
    "from easyCore.Objects.ObjectClasses import BaseObj\n",
    "from easyCore.Fitting.Fitting import Fitter\n",
    "\n",
    "def math_model(x, *args, **kwargs):\n",
    "    return a.raw_value * x ** 2 + b.raw_value * x + c.raw_value\n",
    "\n",
    "quad = BaseObj(name='quad', a=a, b=b, c=c)\n",
    "f = Fitter(quad, math_model)\n",
    "\n",
    "res = f.fit(x=x, y=y, weights=yerr)\n",
    "\n",
    "a, b, c"
   ]
  },
  {
   "cell_type": "markdown",
   "metadata": {},
   "source": [
    "Currently `easyCore` only supports uniform prior probability distributions, however, there is plans to extend this in future. "
   ]
  }
 ],
 "metadata": {
  "kernelspec": {
   "display_name": "summer-school",
   "language": "python",
   "name": "python3"
  },
  "language_info": {
   "codemirror_mode": {
    "name": "ipython",
    "version": 3
   },
   "file_extension": ".py",
   "mimetype": "text/x-python",
   "name": "python",
   "nbconvert_exporter": "python",
   "pygments_lexer": "ipython3",
   "version": "3.10.12"
  },
  "orig_nbformat": 4
 },
 "nbformat": 4,
 "nbformat_minor": 2
}
