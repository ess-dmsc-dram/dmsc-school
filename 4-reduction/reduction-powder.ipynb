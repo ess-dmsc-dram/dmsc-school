{
 "cells": [
  {
   "cell_type": "markdown",
   "id": "403b137b-6d4c-4d44-8a36-45c3380e74b1",
   "metadata": {
    "editable": true,
    "slideshow": {
     "slide_type": ""
    },
    "tags": []
   },
   "source": [
    "# Powder diffraction data reduction\n",
    "\n",
    "This notebook will guide you through the data reduction for the powder diffraction experiment that you simulated with McStas yesterday.\n",
    "\n",
    "The following is a basic outline of what this notebook will cover:\n",
    "\n",
    "- Loading the NeXus files that contain the data\n",
    "- Inspect/visualize the data contents\n",
    "- How to convert the raw `time-of-flight` coordinate to something more useful ($\\lambda$, $d$, ...)\n",
    "- TODO"
   ]
  },
  {
   "cell_type": "code",
   "execution_count": null,
   "id": "0bfa10eb-2a03-4672-802d-9d8f5620c9c5",
   "metadata": {
    "editable": true,
    "slideshow": {
     "slide_type": ""
    },
    "tags": []
   },
   "outputs": [],
   "source": [
    "import numpy as np\n",
    "import scipp as sc\n",
    "import plopp as pp\n",
    "import utils"
   ]
  },
  {
   "cell_type": "markdown",
   "id": "2319763f-3ef7-411b-8bf9-3d9635b314dd",
   "metadata": {
    "editable": true,
    "slideshow": {
     "slide_type": ""
    },
    "tags": []
   },
   "source": [
    "## Process the run with a sample\n",
    "\n",
    "### Load the NeXus file data"
   ]
  },
  {
   "cell_type": "code",
   "execution_count": null,
   "id": "6aff8748-d983-4dca-9330-1acaffc676d0",
   "metadata": {
    "editable": true,
    "slideshow": {
     "slide_type": ""
    },
    "tags": []
   },
   "outputs": [],
   "source": [
    "folder = \"../3-mcstas/powder_with_sample_1_pulse\"\n",
    "\n",
    "# sample = utils.load_powder(folder)"
   ]
  },
  {
   "cell_type": "markdown",
   "id": "82e79171-532d-45c9-953d-fadac3d1e963",
   "metadata": {
    "editable": true,
    "slideshow": {
     "slide_type": ""
    },
    "tags": []
   },
   "source": [
    "The first way to inspect the data is to view the HTML representation of the loaded object.\n",
    "\n",
    "Try to explore what is inside the data, and familiarize yourself with the different sections (`Dimensions`, `Coordinates`, `Data`)."
   ]
  },
  {
   "cell_type": "code",
   "execution_count": null,
   "id": "bf4e4857-739c-4d6d-94bc-14b6e2fd3da7",
   "metadata": {
    "editable": true,
    "slideshow": {
     "slide_type": ""
    },
    "tags": []
   },
   "outputs": [],
   "source": [
    "# sample"
   ]
  },
  {
   "cell_type": "markdown",
   "id": "d337b0c8-9836-4338-80c2-6a4155c816e2",
   "metadata": {
    "editable": true,
    "slideshow": {
     "slide_type": ""
    },
    "tags": []
   },
   "source": [
    "### Visualize the data\n",
    "\n",
    "Here is a 2D visualization of the neutron counts, histogrammed along the `tof` and `y` dimensions:"
   ]
  },
  {
   "cell_type": "code",
   "execution_count": null,
   "id": "31ef1533-c991-40bc-a840-9713e5b132cb",
   "metadata": {
    "editable": true,
    "slideshow": {
     "slide_type": ""
    },
    "tags": []
   },
   "outputs": [],
   "source": [
    "# sample.hist(tof=200, y=200).plot(norm=\"log\", vmin=1.0e-2)"
   ]
  },
  {
   "cell_type": "markdown",
   "id": "b3db4e2a-b79a-4866-9fef-5c2b315319eb",
   "metadata": {
    "editable": true,
    "slideshow": {
     "slide_type": ""
    },
    "tags": []
   },
   "source": [
    "Histogramming along `y` only gives a 1D plot:"
   ]
  },
  {
   "cell_type": "code",
   "execution_count": null,
   "id": "e7632c23-31ba-42dd-a118-75f4c821511d",
   "metadata": {
    "editable": true,
    "slideshow": {
     "slide_type": ""
    },
    "tags": []
   },
   "outputs": [],
   "source": [
    "# sample.hist(y=200).plot(norm=\"log\")"
   ]
  },
  {
   "cell_type": "markdown",
   "id": "6e377969-cae6-44f3-a5cf-11c0df008e11",
   "metadata": {
    "editable": true,
    "slideshow": {
     "slide_type": ""
    },
    "tags": []
   },
   "source": [
    "### Coordinate transformations\n",
    "\n",
    "The first step of this data reduction workflow is to convert the raw event coordinates (position, time-of-flight) to something physically meaningful such as wavelength ($\\lambda$) or d-spacing ($d$).\n",
    "\n",
    "Scipp has a dedicated method for this called `transform_coords` (see docs [here](https://scipp.github.io/scippneutron/user-guide/coordinate-transformations.html)).\n",
    "\n",
    "We begin with a standard graph which describes how to compute e.g. the wavelength from the other coordinates in the raw data."
   ]
  },
  {
   "cell_type": "code",
   "execution_count": null,
   "id": "5b4e0704-015c-47a1-a591-b9685eee9072",
   "metadata": {
    "editable": true,
    "slideshow": {
     "slide_type": ""
    },
    "tags": []
   },
   "outputs": [],
   "source": [
    "from scippneutron.conversion.graph.beamline import beamline\n",
    "from scippneutron.conversion.graph.tof import kinematic\n",
    "\n",
    "graph = {**beamline(scatter=True), **kinematic(\"tof\")}\n",
    "sc.show_graph(graph, simplified=True)"
   ]
  },
  {
   "cell_type": "markdown",
   "id": "e2ed91bc-43f8-424c-b84b-fadbfb2b106a",
   "metadata": {
    "editable": true,
    "slideshow": {
     "slide_type": ""
    },
    "tags": []
   },
   "source": [
    "To compute the wavelength of all the events, we simply call `transform_coords` on our loaded data,\n",
    "requesting the name of the coordinate we want in the output (`\"wavelength\"`),\n",
    "as well as providing it the graph to be used to compute it (i.e. the one we defined just above).\n",
    "\n",
    "This yields"
   ]
  },
  {
   "cell_type": "code",
   "execution_count": null,
   "id": "2c013a72-4006-472a-8f45-f63187adae19",
   "metadata": {
    "editable": true,
    "slideshow": {
     "slide_type": ""
    },
    "tags": []
   },
   "outputs": [],
   "source": [
    "# sample_wav = sample.transform_coords(\"wavelength\", graph=graph)\n",
    "# sample_wav"
   ]
  },
  {
   "cell_type": "markdown",
   "id": "13ac3430-4024-4354-9f4c-cea499c4dca2",
   "metadata": {
    "editable": true,
    "slideshow": {
     "slide_type": ""
    },
    "tags": []
   },
   "source": [
    "The result has a `wavelength` coordinate. We can also plot the result:"
   ]
  },
  {
   "cell_type": "code",
   "execution_count": null,
   "id": "1a05518c-7537-4cf2-89f2-781af5257ee2",
   "metadata": {
    "editable": true,
    "slideshow": {
     "slide_type": ""
    },
    "tags": []
   },
   "outputs": [],
   "source": [
    "# sample_wav.hist(wavelength=200).plot()"
   ]
  },
  {
   "cell_type": "markdown",
   "id": "1d6485a2-5c0b-45f8-8099-76b2e60cbcea",
   "metadata": {
    "editable": true,
    "slideshow": {
     "slide_type": ""
    },
    "tags": []
   },
   "source": [
    "We can see that the range of observed wavelengths agrees with the range set in the McStas model (TODO Å)"
   ]
  },
  {
   "cell_type": "markdown",
   "id": "2f24c81d-09ce-47fb-ab85-373f2a38facb",
   "metadata": {
    "editable": true,
    "slideshow": {
     "slide_type": ""
    },
    "tags": []
   },
   "source": [
    "### Exercise 1: convert raw data to d-spacing\n",
    "\n",
    "Instead of wavelength as in the example above,\n",
    "the task is now to convert the raw data to interplanar lattice spacing $d$.\n",
    "\n",
    "The transformation graph is missing the computation for $d$ so you will have to add it in yourself.\n",
    "As a reminder, $d$ is computed as follows\n",
    "\n",
    "$$d = \\frac{\\lambda}{2 \\sin \\theta}$$\n",
    "\n",
    "You have to:\n",
    "\n",
    "- create a function that computes $d$\n",
    "- add it to the graph with name \"dspacing\"\n",
    "- call `transform_coords` using the new graph\n",
    "\n",
    "Note that the graph already contains the necessary components to compute the scattering angle $2 \\theta$ (called `two_theta` in code)."
   ]
  },
  {
   "cell_type": "markdown",
   "id": "064ea76d-0138-4629-8d8a-71520192933c",
   "metadata": {
    "editable": true,
    "slideshow": {
     "slide_type": ""
    },
    "tags": []
   },
   "source": [
    "**Solution:**"
   ]
  },
  {
   "cell_type": "code",
   "execution_count": null,
   "id": "f4b5288c-8194-43ea-b375-e25d8a67a3c0",
   "metadata": {
    "editable": true,
    "slideshow": {
     "slide_type": ""
    },
    "tags": [
     "hide-cell",
     "solution"
    ]
   },
   "outputs": [],
   "source": [
    "# def compute_d(two_theta, wavelength):\n",
    "#     return wavelength / (2 * sc.sin(two_theta / 2))\n",
    "\n",
    "\n",
    "# graph[\"dspacing\"] = compute_d\n",
    "\n",
    "# # Show the updated graph\n",
    "# display(sc.show_graph(graph, simplified=True))\n",
    "\n",
    "# # Run the coordinate transformation\n",
    "# sample_d = sample.transform_coords(\"d\", graph=graph)\n",
    "# sample_d"
   ]
  },
  {
   "cell_type": "markdown",
   "id": "6334deda-d505-40c9-8fb7-25f1fdda6054",
   "metadata": {
    "editable": true,
    "slideshow": {
     "slide_type": ""
    },
    "tags": []
   },
   "source": [
    "### Histogram the data in d-spacing\n",
    "\n",
    "The final step in processing the sample run is to histogram the data into $d$ bins."
   ]
  },
  {
   "cell_type": "code",
   "execution_count": null,
   "id": "44e6ba9f-3255-4491-9760-e817da9c1820",
   "metadata": {
    "editable": true,
    "slideshow": {
     "slide_type": ""
    },
    "tags": []
   },
   "outputs": [],
   "source": [
    "# sample_h = sample_d.hist(dspacing=200)\n",
    "# sample_h.plot(norm=\"log\", vmin=1)"
   ]
  },
  {
   "cell_type": "markdown",
   "id": "a3db945e-dc69-482f-ba62-d5e23a6bc1ad",
   "metadata": {
    "editable": true,
    "slideshow": {
     "slide_type": ""
    },
    "tags": []
   },
   "source": [
    "The histogrammed data currently has no standard deviations on the counts.\n",
    "This needs to be added after we have performed the histogramming operation.\n",
    "\n",
    "When dealing with neutron events, we assume the data has a Poisson distribution.\n",
    "This means that the variance in a bin is equal to the counts in that bin\n",
    "(the standard deviation is then $\\sigma = \\sqrt{\\mathrm{counts}}$).\n",
    "\n",
    "We provide a helper function that will add Poisson variances to any given input:"
   ]
  },
  {
   "cell_type": "code",
   "execution_count": null,
   "id": "5b04672f-a7e1-4c61-8921-6e4a8615fd44",
   "metadata": {
    "editable": true,
    "slideshow": {
     "slide_type": ""
    },
    "tags": []
   },
   "outputs": [],
   "source": [
    "# utils.add_variances(sample_h)\n",
    "# sample_h.data"
   ]
  },
  {
   "cell_type": "code",
   "execution_count": null,
   "id": "832f4a50-f14f-4442-8010-8aa1f46695ef",
   "metadata": {
    "editable": true,
    "slideshow": {
     "slide_type": ""
    },
    "tags": []
   },
   "outputs": [],
   "source": [
    "# sample_h.plot(norm=\"log\", vmin=1)"
   ]
  },
  {
   "cell_type": "markdown",
   "id": "a4ba424c-05f1-436d-be55-25c7736b9ade",
   "metadata": {
    "editable": true,
    "slideshow": {
     "slide_type": ""
    },
    "tags": []
   },
   "source": [
    "## Exercise 2: TODO\n",
    "\n",
    "TODO:\n",
    "- normalise\n",
    "- ...?\n",
    "- convert back to tof"
   ]
  },
  {
   "cell_type": "markdown",
   "id": "8fef658d-b88a-4fce-96c2-6a2a6408e250",
   "metadata": {
    "editable": true,
    "slideshow": {
     "slide_type": ""
    },
    "tags": []
   },
   "source": [
    "**Solution:**"
   ]
  },
  {
   "cell_type": "code",
   "execution_count": null,
   "id": "4dbd1772-d92c-402a-88d2-1c2bf93fae51",
   "metadata": {
    "editable": true,
    "slideshow": {
     "slide_type": ""
    },
    "tags": [
     "hide-cell",
     "solution"
    ]
   },
   "outputs": [],
   "source": []
  },
  {
   "cell_type": "code",
   "execution_count": null,
   "id": "42dca3af669537f5",
   "metadata": {},
   "outputs": [],
   "source": []
  },
  {
   "cell_type": "markdown",
   "id": "e17a5ace-57af-447a-bcbb-1337f0bed86b",
   "metadata": {
    "editable": true,
    "slideshow": {
     "slide_type": ""
    },
    "tags": []
   },
   "source": [
    "## Save result to disk\n",
    "\n",
    "Finally, we need to save our results to disk,\n",
    "so that the reduced data can be forwarded to the next step in the pipeline (data analysis).\n",
    "\n",
    "We will use a simple text file for this:"
   ]
  },
  {
   "cell_type": "code",
   "execution_count": null,
   "id": "7f69249a-f61f-457a-8a86-e9487b4b9dba",
   "metadata": {
    "editable": true,
    "slideshow": {
     "slide_type": ""
    },
    "tags": []
   },
   "outputs": [],
   "source": [
    "# from scippneutron.io import save_xye\n",
    "\n",
    "# # This simple file format does not support bin-edge coordinates.\n",
    "# # So we convert to bin-centers first.\n",
    "# data = normed.copy()\n",
    "# data.coords[\"tof\"] = sc.midpoints(data.coords[\"tof\"])\n",
    "\n",
    "# save_xye(\"powder_reduced.xye\", data)"
   ]
  },
  {
   "cell_type": "markdown",
   "id": "dc74c0b5-300a-436f-af3f-0f6cb138ff0b",
   "metadata": {
    "editable": true,
    "slideshow": {
     "slide_type": ""
    },
    "tags": []
   },
   "source": [
    "## Process data from 3 pulses\n",
    "\n",
    "We now want to repeat the reduction, but using more than a single pulse to improve our statistics.\n",
    "\n",
    "We begin by loading the run with 3 pulses."
   ]
  },
  {
   "cell_type": "markdown",
   "id": "0d8a1bc4-0700-4666-bf12-f2a47ede6a81",
   "metadata": {
    "editable": true,
    "slideshow": {
     "slide_type": ""
    },
    "tags": []
   },
   "source": [
    "## Save results to disk\n",
    "\n",
    "Once again, we need to save our results to disk:"
   ]
  },
  {
   "cell_type": "code",
   "execution_count": null,
   "id": "4391e179-71f6-49a4-9bd2-dc0e0235b5f5",
   "metadata": {
    "editable": true,
    "slideshow": {
     "slide_type": ""
    },
    "tags": []
   },
   "outputs": [],
   "source": [
    "# data = folded_normed.copy()\n",
    "# data.coords[\"tof\"] = sc.midpoints(data.coords[\"tof\"])\n",
    "\n",
    "# save_xye(\"powder_reduced_3pulses.xye\", data)"
   ]
  }
 ],
 "metadata": {
  "kernelspec": {
   "display_name": "Python 3 (ipykernel)",
   "language": "python",
   "name": "python3"
  },
  "language_info": {
   "codemirror_mode": {
    "name": "ipython",
    "version": 3
   },
   "file_extension": ".py",
   "mimetype": "text/x-python",
   "name": "python",
   "nbconvert_exporter": "python",
   "pygments_lexer": "ipython3",
   "version": "3.11.10"
  }
 },
 "nbformat": 4,
 "nbformat_minor": 5
}
