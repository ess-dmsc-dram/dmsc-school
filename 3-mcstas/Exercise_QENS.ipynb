{
 "cells": [
  {
   "cell_type": "code",
   "execution_count": null,
   "id": "egyptian-salvation",
   "metadata": {
    "editable": true,
    "slideshow": {
     "slide_type": ""
    },
    "tags": []
   },
   "outputs": [],
   "source": [
    "import mcstasscript as ms\n",
    "import make_QENS_instrument\n",
    "import quizlib"
   ]
  },
  {
   "cell_type": "code",
   "execution_count": null,
   "id": "consistent-shower",
   "metadata": {
    "editable": true,
    "slideshow": {
     "slide_type": ""
    },
    "tags": []
   },
   "outputs": [],
   "source": [
    "quiz = quizlib.QENS_Quiz()"
   ]
  },
  {
   "cell_type": "code",
   "execution_count": null,
   "id": "44b22807-4acd-409b-9755-3b5f21e6fdfa",
   "metadata": {
    "editable": true,
    "slideshow": {
     "slide_type": ""
    },
    "tags": [
     "remove-cell"
    ]
   },
   "outputs": [],
   "source": [
    "my_configurator = ms.Configurator()\n",
    "my_configurator.set_mcrun_path(\"/usr/bin/\")\n",
    "my_configurator.set_mcstas_path(\"/usr/share/mcstas/3.4/\")"
   ]
  },
  {
   "cell_type": "markdown",
   "id": "unexpected-mandate",
   "metadata": {
    "editable": true,
    "slideshow": {
     "slide_type": ""
    },
    "tags": [
     "solution",
     "hide-cell"
    ]
   },
   "source": [
    "# QENS exercise\n",
    "\n",
    "This notebook contains code and questions for a McStas simulation of a simplified backscattering instrument that can investigate quasi-elastic scattering from samples.\n",
    "\n",
    "Quasi-elastic scattering is inelastic scattering with small energy transfers and typically seen as a broadening of the elastic signal.\n",
    "At ESS the backscattering instrument under construction is called MIRACLES and uses the indirect geometry time of flight technique,\n",
    "here neutrons are scattered of the sample and some hit an analyzer crystal afterwards.\n",
    "This analyzer is angled such that if the neutron is scattered almost backwards, and due to Braggs law this will happen with a certain energy.\n",
    "\n",
    "It turns out the precision of that energy is highest when the neutron is scattered back in the direction it came from,\n",
    "but most instruments choose a slightly lower angle to avoid hitting the sample a second time.\n",
    "The detector is then placed slightly above or below the sample.\n",
    "\n",
    "Since the analyzer choose a specific energy, the final energy of the neutrons being recorded in the detector is known,\n",
    "this can be used to calculate the time of the neutron to the sample position.\n",
    "Then the time at that moment and the known pulse time can be used to calculate the time-of-flight,\n",
    "which with the known distance from source to sample gives the speed and thus energy before scattering in the sample.\n",
    "The difference between the known initial and final energy provide the energy transfer, which for backscattering can be down to $\\mu$eV, where most other inelastic techniques look at meV.\n",
    "\n",
    "In this notebook you will get a McStas model of simplified backscattering instrument which can be used to perform virtual experiments. You will run a few and answer questions about the results. You will also get to improve it and run experiments with a small range of known and unknown samples. We will use the Python McStas API McStasScript to work with the instrument, you can find documentation [here](https://mads-bertelsen.github.io).\n",
    "\n",
    "### Get the instrument object\n",
    "First we need the McStas instrument object. Here it is retrieved from a local python function that generates it."
   ]
  },
  {
   "cell_type": "code",
   "execution_count": null,
   "id": "loose-workstation",
   "metadata": {
    "editable": true,
    "slideshow": {
     "slide_type": ""
    },
    "tags": []
   },
   "outputs": [],
   "source": [
    "instrument = make_QENS_instrument.make(input_path=\"run_folder\")"
   ]
  },
  {
   "cell_type": "markdown",
   "id": "continued-thong",
   "metadata": {
    "editable": true,
    "slideshow": {
     "slide_type": ""
    },
    "tags": []
   },
   "source": [
    "## Investigate instrument\n",
    "First investigate the instrument object `instrument` using some of the available methods.\n",
    "All the methods that help do that start with the word show.\n",
    "In particular, look at what parameters are available and take a look at the instrument geometry."
   ]
  },
  {
   "cell_type": "code",
   "execution_count": null,
   "id": "conceptual-knitting",
   "metadata": {
    "editable": true,
    "slideshow": {
     "slide_type": ""
    },
    "tags": [
     "solution",
     "hide-cell"
    ]
   },
   "outputs": [],
   "source": [
    "instrument.show_parameters()"
   ]
  },
  {
   "cell_type": "code",
   "execution_count": null,
   "id": "4b460d90-2d7f-4191-a132-5d5cd5dec08e",
   "metadata": {
    "editable": true,
    "slideshow": {
     "slide_type": ""
    },
    "tags": [
     "remove-cell",
     "dmsc-school-keep",
     "solution"
    ]
   },
   "outputs": [],
   "source": [
    "instrument.show_instrument()"
   ]
  },
  {
   "cell_type": "markdown",
   "id": "featured-replica",
   "metadata": {
    "editable": true,
    "slideshow": {
     "slide_type": ""
    },
    "tags": []
   },
   "source": [
    "## Set parameters\n",
    "\n",
    "Before running the instrument we need to set some parameters on the instrument.\n",
    "The most important one is the `sample_distance` parameter describing the distance between the source and the sample.\n",
    "Given the need for high precision in determining the energy of the neutron, which of the following instrument lengths should be chosen?\n",
    "\n",
    "- A: 30 m\n",
    "- B: 60 m\n",
    "- C: 150 m"
   ]
  },
  {
   "cell_type": "code",
   "execution_count": null,
   "id": "25fd4465-d480-4a94-a661-2f6566e2cc1d",
   "metadata": {
    "editable": true,
    "slideshow": {
     "slide_type": ""
    },
    "tags": [
     "remove-output"
    ]
   },
   "outputs": [],
   "source": [
    "quiz.question_1()"
   ]
  },
  {
   "cell_type": "code",
   "execution_count": null,
   "id": "disciplinary-statistics",
   "metadata": {
    "editable": true,
    "slideshow": {
     "slide_type": ""
    },
    "tags": [
     "solution",
     "hide-cell"
    ]
   },
   "outputs": [],
   "source": [
    "quiz.question_1(\"C\")"
   ]
  },
  {
   "cell_type": "markdown",
   "id": "computational-reform",
   "metadata": {
    "editable": true,
    "slideshow": {
     "slide_type": ""
    },
    "tags": []
   },
   "source": [
    "Set the `sample_distance` corresponding to the answer above and set the simulated energy width to 5 $\\mu$eV.\n",
    "Keep the sample type to `Elastic` and number of pulses to 1. Use the `set_parameters` method on the instrument object."
   ]
  },
  {
   "cell_type": "code",
   "execution_count": null,
   "id": "athletic-plant",
   "metadata": {
    "editable": true,
    "slideshow": {
     "slide_type": ""
    },
    "tags": [
     "solution",
     "hide-cell"
    ]
   },
   "outputs": [],
   "source": [
    "instrument.set_parameters(sample_distance=150, energy_width_ueV=5, sample_choice='\"Elastic\"', n_pulses=1)"
   ]
  },
  {
   "cell_type": "code",
   "execution_count": null,
   "id": "black-haven",
   "metadata": {
    "editable": true,
    "slideshow": {
     "slide_type": ""
    },
    "tags": [
     "hide-output"
    ]
   },
   "outputs": [],
   "source": [
    "# Validate the instrument by giving it to the question_2\n",
    "quiz.question_2(instrument)"
   ]
  },
  {
   "cell_type": "markdown",
   "id": "identified-reception",
   "metadata": {
    "editable": true,
    "slideshow": {
     "slide_type": ""
    },
    "tags": []
   },
   "source": [
    "## Instrument settings\n",
    "Before performing a simulation a few settings pertaining to the technical side should be set. These use a different method to clearly distinguish them from the instrument parameters. One important parameter is called `output_path` which sets the name of the generated folder."
   ]
  },
  {
   "cell_type": "code",
   "execution_count": null,
   "id": "ff5538d6-5fc8-4ee5-bc12-9f983db01ba1",
   "metadata": {
    "editable": true,
    "slideshow": {
     "slide_type": ""
    },
    "tags": []
   },
   "outputs": [],
   "source": [
    "instrument.settings(ncount=5e7, mpi=4, suppress_output=True, NeXus=True, output_path=\"first_run\")"
   ]
  },
  {
   "cell_type": "code",
   "execution_count": null,
   "id": "79641cfb-3f16-456a-8166-204e3146c1f7",
   "metadata": {
    "editable": true,
    "slideshow": {
     "slide_type": ""
    },
    "tags": [
     "remove-cell"
    ]
   },
   "outputs": [],
   "source": [
    "instrument.settings(mpi=2)"
   ]
  },
  {
   "cell_type": "markdown",
   "id": "painful-contributor",
   "metadata": {
    "editable": true,
    "slideshow": {
     "slide_type": ""
    },
    "tags": []
   },
   "source": [
    "## Run the simulation\n",
    "\n",
    "Now the simulation can be executed with the backengine method on the instrument object. Store the returned data in a python variable called `data`."
   ]
  },
  {
   "cell_type": "code",
   "execution_count": null,
   "id": "93c50614-7dee-45a5-9855-157e423f8735",
   "metadata": {
    "editable": true,
    "slideshow": {
     "slide_type": ""
    },
    "tags": [
     "solution"
    ]
   },
   "outputs": [],
   "source": [
    "data = instrument.backengine()\n",
    "data"
   ]
  },
  {
   "cell_type": "markdown",
   "id": "c2afac07-72a3-43a9-a26c-6f402c8f6833",
   "metadata": {
    "editable": true,
    "slideshow": {
     "slide_type": ""
    },
    "tags": []
   },
   "source": [
    "### Visualize the data\n",
    "The data objects in the returned list can be plotted with the McStasScript function `make_sub_plot`. "
   ]
  },
  {
   "cell_type": "code",
   "execution_count": null,
   "id": "together-framing",
   "metadata": {
    "editable": true,
    "slideshow": {
     "slide_type": ""
    },
    "tags": []
   },
   "outputs": [],
   "source": [
    "ms.make_sub_plot(data, figsize=(9.5, 8))"
   ]
  },
  {
   "cell_type": "markdown",
   "id": "occasional-spouse",
   "metadata": {
    "editable": true,
    "slideshow": {
     "slide_type": ""
    },
    "tags": []
   },
   "source": [
    "### Explanation of data\n",
    "\n",
    "The data is all from a He3 tube which can only be reached from the sample by being scattered almost backwards from a Si analyzer crystal.\n",
    "Two 1D monitors show the spatial and time distribution of the signal respectively.\n",
    "The two 2D monitors show the correlation between time and position, though one will zoom out to capture multiple pulses if `n_pulse` is set to more than one.\n",
    "\n",
    "### Questions\n",
    "\n",
    "Look at the time distribution of the signal, which statement about this data is true?\n",
    "\n",
    "- A: The data looks like a typical inelastic signal\n",
    "- B: The data looks like the ESS pulse structure\n",
    "- C: The data looks like a typical elastic signal\n",
    "- D: The data looks like the analyzer selected to broad an energy range"
   ]
  },
  {
   "cell_type": "code",
   "execution_count": null,
   "id": "5f8dc8fc-cb59-4f32-9626-6cb2184daa2f",
   "metadata": {
    "editable": true,
    "slideshow": {
     "slide_type": ""
    },
    "tags": [
     "remove-output"
    ]
   },
   "outputs": [],
   "source": [
    "quiz.question_3()"
   ]
  },
  {
   "cell_type": "code",
   "execution_count": null,
   "id": "outside-romania",
   "metadata": {
    "editable": true,
    "slideshow": {
     "slide_type": ""
    },
    "tags": [
     "solution",
     "hide-cell"
    ]
   },
   "outputs": [],
   "source": [
    "quiz.question_3(\"B\")"
   ]
  },
  {
   "cell_type": "markdown",
   "id": "smart-disclosure",
   "metadata": {
    "editable": true,
    "slideshow": {
     "slide_type": ""
    },
    "tags": []
   },
   "source": [
    "Is this a problem for a backscattering instrument?\n",
    "- A: Yes, the low time resolution means low energy resolution\n",
    "- B: No, the low time resolution is not necessary for high energy resolution"
   ]
  },
  {
   "cell_type": "code",
   "execution_count": null,
   "id": "17ef7333-2119-4e6a-b266-d2f553b45ae5",
   "metadata": {
    "editable": true,
    "slideshow": {
     "slide_type": ""
    },
    "tags": [
     "remove-output"
    ]
   },
   "outputs": [],
   "source": [
    "quiz.question_4()"
   ]
  },
  {
   "cell_type": "code",
   "execution_count": null,
   "id": "addressed-council",
   "metadata": {
    "editable": true,
    "slideshow": {
     "slide_type": ""
    },
    "tags": [
     "solution",
     "hide-cell"
    ]
   },
   "outputs": [],
   "source": [
    "quiz.question_4(\"A\")"
   ]
  },
  {
   "cell_type": "markdown",
   "id": "arranged-compression",
   "metadata": {
    "editable": true,
    "slideshow": {
     "slide_type": ""
    },
    "tags": []
   },
   "source": [
    "How can the instrument be improved? \n",
    "- A: Add a chopper to control the time aspect\n",
    "- B: Add a slit before sample to reduce the illuminated area\n",
    "- C: Add a slit before analyzer to ensure same angle\n",
    "- D: Add a spin polarizer to select spin state"
   ]
  },
  {
   "cell_type": "code",
   "execution_count": null,
   "id": "94e52ff6-9a73-4b0c-b9fa-f07be8a97847",
   "metadata": {
    "editable": true,
    "slideshow": {
     "slide_type": ""
    },
    "tags": [
     "remove-output"
    ]
   },
   "outputs": [],
   "source": [
    "quiz.question_5()"
   ]
  },
  {
   "cell_type": "code",
   "execution_count": null,
   "id": "legislative-adolescent",
   "metadata": {
    "editable": true,
    "slideshow": {
     "slide_type": ""
    },
    "tags": [
     "solution",
     "hide-cell"
    ]
   },
   "outputs": [],
   "source": [
    "quiz.question_5(\"A\")"
   ]
  },
  {
   "cell_type": "markdown",
   "id": "proved-rally",
   "metadata": {
    "editable": true,
    "slideshow": {
     "slide_type": ""
    },
    "tags": []
   },
   "source": [
    "## Improve the instrument\n",
    "\n",
    "In order to improve the performance of the instrument, we will add a McStas component.\n",
    "The first aspect to consider when doing so is where to place it, both in the component sequence and its physical location.\n",
    "We start by investigating where to put the component in the component sequence, as that needs to be specified when adding the component, and the physical location can be updated later.\n",
    "\n",
    "### McStas sequence \n",
    "\n",
    "Use either the `show_diagram` or `show_components` method on the instrument object to get an overview of the component sequence in the instrument.\n",
    "Where would you place the new component?\n",
    "\n",
    "- A: After the source\n",
    "- B: Before the sample position\n",
    "- C: After the sample position\n",
    "- D: After the analyzer"
   ]
  },
  {
   "cell_type": "code",
   "execution_count": null,
   "id": "skilled-botswana",
   "metadata": {
    "editable": true,
    "slideshow": {
     "slide_type": ""
    },
    "tags": [
     "solution",
     "hide-cell"
    ]
   },
   "outputs": [],
   "source": [
    "instrument.show_diagram()"
   ]
  },
  {
   "cell_type": "code",
   "execution_count": null,
   "id": "d4f41634-2bb0-4008-98e4-886cab7bccef",
   "metadata": {
    "editable": true,
    "slideshow": {
     "slide_type": ""
    },
    "tags": [
     "remove-output"
    ]
   },
   "outputs": [],
   "source": [
    "quiz.question_6()"
   ]
  },
  {
   "cell_type": "code",
   "execution_count": null,
   "id": "diverse-permit",
   "metadata": {
    "editable": true,
    "slideshow": {
     "slide_type": ""
    },
    "tags": [
     "solution",
     "hide-cell"
    ]
   },
   "outputs": [],
   "source": [
    "quiz.question_6(\"A\")"
   ]
  },
  {
   "cell_type": "markdown",
   "id": "german-garlic",
   "metadata": {
    "editable": true,
    "slideshow": {
     "slide_type": ""
    },
    "tags": []
   },
   "source": [
    "### Which component\n",
    "\n",
    "Now we need to select what type of component to add to the instrument, here we will need the `DiskChopper` component.\n",
    "Use the `component_help` method on the instrument object to learn more about this component."
   ]
  },
  {
   "cell_type": "code",
   "execution_count": null,
   "id": "human-essex",
   "metadata": {
    "editable": true,
    "slideshow": {
     "slide_type": ""
    },
    "tags": [
     "solution",
     "hide-cell"
    ]
   },
   "outputs": [],
   "source": [
    "instrument.component_help(\"DiskChopper\")"
   ]
  },
  {
   "cell_type": "markdown",
   "id": "floral-cleaning",
   "metadata": {
    "editable": true,
    "slideshow": {
     "slide_type": ""
    },
    "tags": []
   },
   "source": [
    "### Chopper calculations\n",
    "\n",
    "When adding a chopper one need to perform calculations to obtain the appropriate rotation frequency and phase.\n",
    "For this exercise, those calculations can be added to the instrument using a function included in the given Python file."
   ]
  },
  {
   "cell_type": "code",
   "execution_count": null,
   "id": "infectious-agreement",
   "metadata": {
    "editable": true,
    "slideshow": {
     "slide_type": ""
    },
    "tags": []
   },
   "outputs": [],
   "source": [
    "make_QENS_instrument.add_chopper_code(instrument)"
   ]
  },
  {
   "cell_type": "markdown",
   "id": "civil-explorer",
   "metadata": {
    "editable": true,
    "slideshow": {
     "slide_type": ""
    },
    "tags": []
   },
   "source": [
    "To see what variables are used in the instrument, one can use the `show_variables` method like below. This will included the ones added by the above function."
   ]
  },
  {
   "cell_type": "code",
   "execution_count": null,
   "id": "concrete-ballot",
   "metadata": {
    "editable": true,
    "slideshow": {
     "slide_type": ""
    },
    "tags": [
     "solution",
     "hide-cell"
    ]
   },
   "outputs": [],
   "source": [
    "instrument.show_variables()"
   ]
  },
  {
   "cell_type": "markdown",
   "id": "referenced-context",
   "metadata": {
    "editable": true,
    "slideshow": {
     "slide_type": ""
    },
    "tags": []
   },
   "source": [
    "### Add chopper component and set parameters\n",
    "\n",
    "Use the `add_component` method on the instrument object to add a chopper.\n",
    "Place it in the component sequence according to your answer in question 6 by using either the `before` or `after` keyword argument.\n",
    "\n",
    "The `add_component` method returns a component object, store that in a python variable.\n",
    "\n",
    "Set the parameters:\n",
    "\n",
    "- `yheight`: 0.05 m\n",
    "- `radius`: 0.7 m\n",
    "- `nslit`: 1.0\n",
    "- `nu`, `delay` and `theta_0`: To the variables calculated in the instrument (use quotation marks)\n",
    "\n"
   ]
  },
  {
   "cell_type": "code",
   "execution_count": null,
   "id": "atlantic-familiar",
   "metadata": {
    "editable": true,
    "slideshow": {
     "slide_type": ""
    },
    "tags": [
     "solution",
     "hide-cell"
    ]
   },
   "outputs": [],
   "source": [
    "chopper = instrument.add_component(\"chopper\", \"DiskChopper\", after=\"source\")\n",
    "chopper.set_parameters(\n",
    "    yheight=0.05,\n",
    "    radius=0.7,\n",
    "    nu=\"chopper_frequency\",\n",
    "    nslit=1.0,\n",
    "    delay=\"chopper_delay\",\n",
    "    theta_0=\"chopper_theta\",\n",
    ")"
   ]
  },
  {
   "cell_type": "markdown",
   "id": "946c839f-5640-4889-9ea0-267d132436a8",
   "metadata": {
    "editable": true,
    "slideshow": {
     "slide_type": ""
    },
    "tags": []
   },
   "source": [
    "To check if the component was added correctly, provide your instrument object to the *question_7* function below."
   ]
  },
  {
   "cell_type": "code",
   "execution_count": null,
   "id": "southeast-smart",
   "metadata": {
    "editable": true,
    "slideshow": {
     "slide_type": ""
    },
    "tags": [
     "hide-output"
    ]
   },
   "outputs": [],
   "source": [
    "# Validate the instrument again\n",
    "quiz.question_7(instrument)"
   ]
  },
  {
   "cell_type": "markdown",
   "id": "labeled-connection",
   "metadata": {
    "editable": true,
    "slideshow": {
     "slide_type": ""
    },
    "tags": []
   },
   "source": [
    "### Placing the component in space\n",
    "\n",
    "The next task is to specify the physical location of the component, this is done using the `set_AT` method on the component object.\n",
    "This method takes a list of 3 numbers, corresponding to the `x`, `y` and `z` coordinates of the component.\n",
    "\n",
    "One can also specify in what coordinate system one wants to work, which can be that of any preceeding component.\n",
    "Use the `RELATIVE` keyword to work in the `source` coordinate system.\n",
    "The position of the chopper is needed for calculating phase, so it is available as a variable in the instrument, use this variable to set the position."
   ]
  },
  {
   "cell_type": "code",
   "execution_count": null,
   "id": "boring-address",
   "metadata": {
    "editable": true,
    "slideshow": {
     "slide_type": ""
    },
    "tags": [
     "solution",
     "hide-cell"
    ]
   },
   "outputs": [],
   "source": [
    "chopper.set_AT([0, 0, \"chopper_distance\"], RELATIVE=\"source\")"
   ]
  },
  {
   "cell_type": "markdown",
   "id": "6077dba2-a908-464a-ac80-f8060f67f16b",
   "metadata": {
    "editable": true,
    "slideshow": {
     "slide_type": ""
    },
    "tags": []
   },
   "source": [
    "To check if the component was added correctly, provide your instrument object to the *question_7* function below."
   ]
  },
  {
   "cell_type": "code",
   "execution_count": null,
   "id": "lovely-miller",
   "metadata": {
    "editable": true,
    "slideshow": {
     "slide_type": ""
    },
    "tags": [
     "hide-output"
    ]
   },
   "outputs": [],
   "source": [
    "quiz.question_8(instrument)"
   ]
  },
  {
   "cell_type": "markdown",
   "id": "surgical-mathematics",
   "metadata": {
    "editable": true,
    "slideshow": {
     "slide_type": ""
    },
    "tags": []
   },
   "source": [
    "### Verify new component\n",
    "\n",
    "Now that the chopper has been added to the instrument, lets show the component sequence again to verify it was added correctly."
   ]
  },
  {
   "cell_type": "code",
   "execution_count": null,
   "id": "double-level",
   "metadata": {
    "editable": true,
    "slideshow": {
     "slide_type": ""
    },
    "tags": [
     "solution",
     "hide-cell"
    ]
   },
   "outputs": [],
   "source": [
    "instrument.show_diagram()"
   ]
  },
  {
   "cell_type": "markdown",
   "id": "intensive-billy",
   "metadata": {
    "editable": true,
    "slideshow": {
     "slide_type": ""
    },
    "tags": []
   },
   "source": [
    "## Run improved instrument\n",
    "\n",
    "Run the improved instrument with the following parameters:\n",
    "\n",
    "- `sample_distance`: 150 m\n",
    "- `energy_width_ueV`: 5 ueV (This controls the simulated energy range, should be larger than inelastic signal width)\n",
    "- `sample_choice`: '\"Elastic\"'\n",
    "- `frequency_multiplier`: 10 (This controls the ratio between chopper and source frequency)\n",
    "\n",
    "Use the `settings` method to set a reasonable name, including the sample type and number of pulses currently used.\n",
    "\n",
    "Store the resulting data in a variable called `data_improved`."
   ]
  },
  {
   "cell_type": "code",
   "execution_count": null,
   "id": "reasonable-story",
   "metadata": {
    "editable": true,
    "slideshow": {
     "slide_type": ""
    },
    "tags": [
     "solution",
     "hide-cell"
    ]
   },
   "outputs": [],
   "source": [
    "instrument.settings(output_path=\"QENS_elastic_1_pulse\")\n",
    "instrument.set_parameters(energy_width_ueV=5, sample_choice='\"Elastic\"', n_pulses=1, frequency_multiplier=10)\n",
    "\n",
    "data_improved = instrument.backengine()"
   ]
  },
  {
   "cell_type": "markdown",
   "id": "multiple-balance",
   "metadata": {
    "editable": true,
    "slideshow": {
     "slide_type": ""
    },
    "tags": [
     "remove-cell",
     "dmsc-school-keep"
    ]
   },
   "source": [
    "We will be reading values of the produced graphs, in those cases the %matplotlib widget mode helps as it provides information on the cursor position over the graphs."
   ]
  },
  {
   "cell_type": "code",
   "execution_count": null,
   "id": "liberal-venezuela",
   "metadata": {
    "editable": true,
    "slideshow": {
     "slide_type": ""
    },
    "tags": [
     "remove-cell",
     "dmsc-school-keep"
    ]
   },
   "outputs": [],
   "source": [
    "# %matplotlib widget"
   ]
  },
  {
   "cell_type": "markdown",
   "id": "024065d2-d3fe-40ec-aa03-af08ce5ca1b2",
   "metadata": {
    "editable": true,
    "slideshow": {
     "slide_type": ""
    },
    "tags": []
   },
   "source": [
    "Plot the data using the `make_sub_plot` function."
   ]
  },
  {
   "cell_type": "code",
   "execution_count": null,
   "id": "amazing-easter",
   "metadata": {
    "editable": true,
    "slideshow": {
     "slide_type": ""
    },
    "tags": [
     "solution",
     "hide-cell"
    ]
   },
   "outputs": [],
   "source": [
    "ms.make_sub_plot(data_improved, figsize=(9.5, 8))"
   ]
  },
  {
   "cell_type": "markdown",
   "id": "loose-terminal",
   "metadata": {
    "editable": true,
    "slideshow": {
     "slide_type": ""
    },
    "tags": []
   },
   "source": [
    "### Time resolution\n",
    "Using the plotted data above its possible to get a estimate of the time resolution of the instrument.\n",
    "\n",
    "Use the curser to zoom and read of values for the time resolution of the instrument (FWHM). Insert the found time in the question below as a value in seconds."
   ]
  },
  {
   "cell_type": "code",
   "execution_count": null,
   "id": "fa324fb5-8f92-42fa-a407-c0c24e8055c3",
   "metadata": {
    "editable": true,
    "slideshow": {
     "slide_type": ""
    },
    "tags": [
     "remove-output"
    ]
   },
   "outputs": [],
   "source": [
    "quiz.question_9()"
   ]
  },
  {
   "cell_type": "code",
   "execution_count": null,
   "id": "global-arbitration",
   "metadata": {
    "editable": true,
    "slideshow": {
     "slide_type": ""
    },
    "tags": [
     "solution",
     "hide-cell"
    ]
   },
   "outputs": [],
   "source": [
    "quiz.question_9(0.248503-0.248258)"
   ]
  },
  {
   "cell_type": "markdown",
   "id": "lasting-breakfast",
   "metadata": {
    "editable": true,
    "slideshow": {
     "slide_type": ""
    },
    "tags": []
   },
   "source": [
    "### Run with known calibration sample\n",
    "\n",
    "Next we will run a simulation with a known calibration sample, its energy width can be adjusted with the gamma_ueV (HWHM).\n",
    "Run with the following parameters:\n",
    "\n",
    "- `sample_choice`: '\"Known_quasi-elastic\"'\n",
    "- `gamma_ueV`: 12 ueV\n",
    "- `energy_width_ueV`: 150 ueV\n",
    "\n",
    "Again set a descriptive name, call the produced data `data_known`."
   ]
  },
  {
   "cell_type": "code",
   "execution_count": null,
   "id": "global-grade",
   "metadata": {
    "editable": true,
    "slideshow": {
     "slide_type": ""
    },
    "tags": [
     "solution",
     "hide-cell"
    ]
   },
   "outputs": [],
   "source": [
    "instrument.settings(output_path=\"QENS_known_quasi_elastic_1_pulse\")\n",
    "instrument.set_parameters(energy_width_ueV=150, sample_choice='\"Known_quasi-elastic\"',\n",
    "                          gamma_ueV=12, frequency_multiplier=10)\n",
    "\n",
    "data_known = instrument.backengine()"
   ]
  },
  {
   "cell_type": "markdown",
   "id": "ca0a1f2e-3206-4d1b-a262-36e34c18b6fc",
   "metadata": {
    "editable": true,
    "slideshow": {
     "slide_type": ""
    },
    "tags": []
   },
   "source": [
    "Plot the data with `make_sub_plot`."
   ]
  },
  {
   "cell_type": "code",
   "execution_count": null,
   "id": "indirect-career",
   "metadata": {
    "editable": true,
    "slideshow": {
     "slide_type": ""
    },
    "tags": [
     "solution",
     "hide-cell"
    ]
   },
   "outputs": [],
   "source": [
    "ms.make_sub_plot(data_known, figsize=(9.5, 8))"
   ]
  },
  {
   "cell_type": "markdown",
   "id": "structured-argument",
   "metadata": {
    "editable": true,
    "slideshow": {
     "slide_type": ""
    },
    "tags": []
   },
   "source": [
    "What is the time width when using a known sample with 12 ueV broadening? Insert the answer with units of seconds."
   ]
  },
  {
   "cell_type": "code",
   "execution_count": null,
   "id": "b77c63e5-8235-4817-9961-80ef1d7f7fa8",
   "metadata": {
    "editable": true,
    "slideshow": {
     "slide_type": ""
    },
    "tags": [
     "remove-output"
    ]
   },
   "outputs": [],
   "source": [
    "quiz.question_10()"
   ]
  },
  {
   "cell_type": "code",
   "execution_count": null,
   "id": "western-financing",
   "metadata": {
    "editable": true,
    "slideshow": {
     "slide_type": ""
    },
    "tags": [
     "solution",
     "hide-cell"
    ]
   },
   "outputs": [],
   "source": [
    "quiz.question_10(0.249004-0.247830)"
   ]
  },
  {
   "cell_type": "markdown",
   "id": "greater-edinburgh",
   "metadata": {
    "editable": true,
    "slideshow": {
     "slide_type": ""
    },
    "tags": []
   },
   "source": [
    "### Run with unknown sample\n",
    "Finally we can run a virtual experiment with an unknown sample.\n",
    "\n",
    "- `sample_choice`: `\"Unknown_quasi-elastic\"`\n",
    "- `energy_width_ueV`: 150 ueV\n",
    "\n",
    "Again set a descriptive name, call the produced data `data_unknown`."
   ]
  },
  {
   "cell_type": "code",
   "execution_count": null,
   "id": "addressed-stretch",
   "metadata": {
    "editable": true,
    "slideshow": {
     "slide_type": ""
    },
    "tags": [
     "solution",
     "hide-cell"
    ]
   },
   "outputs": [],
   "source": [
    "instrument.settings(\n",
    "    output_path=\"QENS_unknown_quasi_elastic_1_pulse\",\n",
    ")\n",
    "\n",
    "instrument.set_parameters(\n",
    "    energy_width_ueV=150,\n",
    "    sample_choice='\"Unknown_quasi-elastic\"',\n",
    "    n_pulses=1,\n",
    "    frequency_multiplier=10,\n",
    ")\n",
    "\n",
    "data_unknown = instrument.backengine()"
   ]
  },
  {
   "cell_type": "markdown",
   "id": "7200cdf8-862f-4b29-b6a6-e09507e0a2a2",
   "metadata": {
    "editable": true,
    "slideshow": {
     "slide_type": ""
    },
    "tags": []
   },
   "source": [
    "Plot the data using `make_sub_plot`."
   ]
  },
  {
   "cell_type": "code",
   "execution_count": null,
   "id": "willing-wells",
   "metadata": {
    "editable": true,
    "slideshow": {
     "slide_type": ""
    },
    "tags": [
     "solution",
     "hide-cell"
    ]
   },
   "outputs": [],
   "source": [
    "ms.make_sub_plot(data_unknown, figsize=(9.5, 8))"
   ]
  },
  {
   "cell_type": "markdown",
   "id": "4d13b60b-5f42-4729-a7c0-8cbcd061c884",
   "metadata": {
    "editable": true,
    "slideshow": {
     "slide_type": ""
    },
    "tags": []
   },
   "source": [
    "### Estimate unknown sample energy width\n",
    "By comparing the data from the known and unknown sample, provide an estimate of the energy width of the unknown sample. Insert the result below in ueV (HWHM). This questions is optional, if short on time go to the next question."
   ]
  },
  {
   "cell_type": "code",
   "execution_count": null,
   "id": "5e95f763-dbb7-44d9-ac0c-f2363ff601b7",
   "metadata": {
    "editable": true,
    "slideshow": {
     "slide_type": ""
    },
    "tags": [
     "remove-output"
    ]
   },
   "outputs": [],
   "source": [
    "quiz.question_11()"
   ]
  },
  {
   "cell_type": "code",
   "execution_count": null,
   "id": "bd90e546-0720-4490-849a-117e3c5627f5",
   "metadata": {
    "editable": true,
    "slideshow": {
     "slide_type": ""
    },
    "tags": [
     "solution",
     "hide-cell"
    ]
   },
   "outputs": [],
   "source": [
    "quiz.question_11((0.248782 - 0.247976)/(0.249004-0.247830)*12.0)"
   ]
  },
  {
   "cell_type": "markdown",
   "id": "af04855a-e7e8-4275-aa5e-e65f63b40235",
   "metadata": {
    "editable": true,
    "slideshow": {
     "slide_type": ""
    },
    "tags": []
   },
   "source": [
    "## Increase the number of pulses\n",
    "\n",
    "Your final task is to re-run the simulations for the 3 different samples, using 3 pulses instead of 1. We will use this data in the exercises for the rest of the week.\n",
    "\n",
    "**Hints:**\n",
    "\n",
    "- Change the destination folder so that you don't overwrite the results from the 1-pulse simulations.\n",
    "- Remember to adjust the `ncount` accordingly, we would like 3 times more rays now that we use 3 pulses."
   ]
  },
  {
   "cell_type": "markdown",
   "id": "9329eb8d-5b0f-4315-ae32-79af3cdd3a08",
   "metadata": {
    "editable": true,
    "slideshow": {
     "slide_type": ""
    },
    "tags": []
   },
   "source": [
    "**Solution:**"
   ]
  },
  {
   "cell_type": "code",
   "execution_count": null,
   "id": "400e664f-fef2-4616-be61-8fc0d5c00e79",
   "metadata": {
    "editable": true,
    "slideshow": {
     "slide_type": ""
    },
    "tags": [
     "hide-cell",
     "solution"
    ]
   },
   "outputs": [],
   "source": [
    "# Elastic sample\n",
    "instrument.settings(\n",
    "    ncount=1.5e8,\n",
    "    output_path=\"QENS_elastic_3_pulse\",\n",
    ")\n",
    "instrument.set_parameters(\n",
    "    energy_width_ueV=5,\n",
    "    sample_choice='\"Elastic\"',\n",
    "    n_pulses=3,\n",
    "    frequency_multiplier=10,\n",
    ")\n",
    "elastic_3_pulses = instrument.backengine()\n",
    "\n",
    "\n",
    "# Known calibration sample\n",
    "instrument.settings(\n",
    "    ncount=1.5e8,\n",
    "    output_path=\"QENS_known_quasi_elastic_3_pulse\",\n",
    ")\n",
    "instrument.set_parameters(\n",
    "    energy_width_ueV=150,\n",
    "    sample_choice='\"Known_quasi-elastic\"',\n",
    "    gamma_ueV=12,\n",
    "    n_pulses=3,\n",
    "    frequency_multiplier=10,\n",
    ")\n",
    "known_3_pulses = instrument.backengine()\n",
    "\n",
    "\n",
    "# Unknown sample\n",
    "instrument.settings(\n",
    "    ncount=1.5e8,\n",
    "    output_path=\"QENS_unknown_quasi_elastic_3_pulse\",\n",
    ")\n",
    "instrument.set_parameters(\n",
    "    energy_width_ueV=150,\n",
    "    sample_choice='\"Unknown_quasi-elastic\"',\n",
    "    n_pulses=3,\n",
    "    frequency_multiplier=10,\n",
    ")\n",
    "unknown_3_pulses = instrument.backengine()"
   ]
  }
 ],
 "metadata": {
  "celltoolbar": "Tags",
  "kernelspec": {
   "display_name": "Python 3 (ipykernel)",
   "language": "python",
   "name": "python3"
  },
  "language_info": {
   "codemirror_mode": {
    "name": "ipython",
    "version": 3
   },
   "file_extension": ".py",
   "mimetype": "text/x-python",
   "name": "python",
   "nbconvert_exporter": "python",
   "pygments_lexer": "ipython3",
   "version": "3.10.14"
  }
 },
 "nbformat": 4,
 "nbformat_minor": 5
}
