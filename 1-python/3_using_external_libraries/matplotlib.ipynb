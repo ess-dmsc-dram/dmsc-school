{
 "cells": [
  {
   "cell_type": "markdown",
   "metadata": {
    "tags": []
   },
   "source": [
    "# Plotting with Matplotlib\n",
    "\n",
    "[Matplotlib](https://matplotlib.org/) is a Python 2D plotting library which produces publication quality figures in a variety of hardcopy formats and interactive environments across platforms. Matplotlib can be used in Python scripts, the Python and IPython shells, the Jupyter notebook, web application servers, and four graphical user interface toolkits.\n",
    "\n",
    "Matplotlib tries to make easy things easy and hard things possible. You can generate plots, histograms, power spectra, bar charts, errorcharts, scatterplots, etc., with just a few lines of code.\n",
    "\n",
    "Matplotlib has also become the gold standard for creating figures for scientific publications. It is heavily inspired by `MATLAB`, and migrating from `MATLAB` to `matplotlib` should be relatively easy.\n",
    "\n",
    "## MATLAB-style API vs object-oriented API\n",
    "\n",
    "`matplotlib` provides two different ways of creating graphs. The first is via the `pyplot` API which aims to replicate the behaviour of `MATLAB` where each pyplot function makes some change to a figure: e.g., creates a figure, creates a plotting area in a figure, plots some lines in a plotting area, decorates the plot with labels, etc. `pyplot` is mainly intended for interactive plots and simple cases of programmatic plot generation, and you can find more information [here](https://matplotlib.org/tutorials/introductory/pyplot.html).\n",
    "\n",
    "At its core, `matplotlib` is object-oriented. We **strongly** recommend directly working with the objects, as it provides much more control and customization over your plots, especially when working with multiple figures or subplots.\n",
    "In many cases you will create a `Figure` and one or more `Axes` using `pyplot.subplots` and from then on only work on these objects. This will be the philosophy used throughout this tutorial.\n",
    "\n",
    "## General concepts\n",
    "\n",
    "We will begin by introducing the basic terminology associated with the `matplotlib` library. This is best illustrated with a picture\n",
    "\n",
    "<img src=\"https://matplotlib.org/_images/anatomy.png\" height=\"600\" width=\"600\" />\n",
    "\n",
    "**A few key aspects**:\n",
    "\n",
    "### Figure\n",
    "The whole figure. The figure keeps track of all the child `Axes`, a smattering of 'special' `artists` (titles, figure legends, etc), and the `canvas`. (Don't worry too much about the canvas, it is crucial as it is the object that actually does the drawing to get you your plot, but as the user it is more-or-less invisible to you). A figure can have any number of `Axes`, but to be useful should have at least one.\n",
    "\n",
    "### Axes\n",
    "This is what you think of as 'a plot', it is the region of the image with the data space. A given figure can contain many `Axes`, but a given `Axes` object can only be in one `Figure`. The `Axes` contains two (or three in the case of 3D) `Axis` objects (be aware of the difference between `Axes` and `Axis`) which take care of the data limits. Each `Axes` has a title (set via `set_title()`), an x-label (set via `set_xlabel()`), and a y-label set via `set_ylabel()`).\n",
    "\n",
    "The `Axes` class and its member functions are the primary entry point to working with the object-oriented interface."
   ]
  },
  {
   "cell_type": "markdown",
   "metadata": {},
   "source": [
    "## Learning from examples\n",
    "\n",
    "The best way to illustrate and understand the way `matplotlib` functions is to give a series of examples. We will first run through several typical use cases for a graphing library and how one creates them with `matplotlib`.\n",
    "Looking at examples around the web is also the best way to learn how to use `matplotlib`. There is a very large collection of examples on the `matplotlib` website itself (https://matplotlib.org/stable/gallery/index.html), as well as thousands of posts on stackoverflow.com.\n",
    "\n",
    "`matplotlib` is often seen as requiring more lines of code that other tools such as `Gnuplot`, but also comes with very fine control and is able to do things no other library can do. If you feel that a large amount of code is necessary to produce just the simplest of graphs, hopefully the benefits of the syntax will become clear by the end of this tutorial."
   ]
  },
  {
   "cell_type": "markdown",
   "metadata": {},
   "source": [
    "<div class=\"alert alert-warning\">\n",
    "\n",
    "**Warning**\n",
    "    \n",
    "We have added one exercise per example below; it would take some time to complete all of them.\n",
    "\n",
    "We suggest you try a couple to begin with, and then skip over the ones that do not interest you to focus on a select few.\n",
    "If one example reminds you of a case you were once yourself confronted with during your work/research, you can also try to expand the example to see how one would achieve your old case using `matplotlib`, instead of following the suggested exercise.\n",
    "\n",
    "</div>"
   ]
  },
  {
   "cell_type": "markdown",
   "metadata": {},
   "source": [
    "We import here `numpy` which will be used to generate all the data we visualize in this tutorial, as well as the plotting module of `matplotlib` (`matplotlib` contains other things than just plotting, e.g. modules to manipulate colors etc.)"
   ]
  },
  {
   "cell_type": "code",
   "execution_count": null,
   "metadata": {},
   "outputs": [],
   "source": [
    "import numpy as np\n",
    "import matplotlib.pyplot as plt"
   ]
  },
  {
   "cell_type": "markdown",
   "metadata": {},
   "source": [
    "We here activate the `widget` backend which provides interactive plots in Jupyter (for static plots, you can use the `inline` backend, which is the current default for Jupyter)"
   ]
  },
  {
   "cell_type": "code",
   "execution_count": null,
   "metadata": {
    "tags": []
   },
   "outputs": [],
   "source": [
    "# %matplotlib widget"
   ]
  },
  {
   "cell_type": "markdown",
   "metadata": {
    "tags": []
   },
   "source": [
    "**Note:** if you are running any of the code snippets below outside of a Jupyter notebook (e.g. in an IPython console), you will need to explicitly `show` the figure by adding `fig.show()` at the end of the snippet.\n",
    "\n",
    "### A simple 1D line plot"
   ]
  },
  {
   "cell_type": "code",
   "execution_count": null,
   "metadata": {
    "tags": []
   },
   "outputs": [],
   "source": [
    "# Data for plotting\n",
    "t = np.linspace(0.0, 2.0, 100)\n",
    "s = 1 + np.sin(2 * np.pi * t)\n",
    "\n",
    "# Create the Figure and Axes in one go using the `subplots` function.\n",
    "# The first two arguments of the subplots function are the number of rows and columns, respectively.\n",
    "fig, ax = plt.subplots(1, 1)\n",
    "# Make a simple x,y line plot on out axes object\n",
    "ax.plot(t, s)\n",
    "\n",
    "# Decorate the axes with axis labels and title\n",
    "ax.set(\n",
    "    xlabel=\"time (s)\", ylabel=\"voltage (mV)\", title=\"About as simple as it gets, folks\"\n",
    ")\n",
    "plt.show()"
   ]
  },
  {
   "cell_type": "markdown",
   "metadata": {},
   "source": [
    "<div class=\"alert alert-info\">\n",
    "\n",
    "**Exercise:**\n",
    "\n",
    "- Look at the documentation and try to add a grid to the axes to obtain <img src=\"https://matplotlib.org/_images/sphx_glr_simple_plot_001.png\" width=\"300px\"/>\n",
    "- Change the line color to red, the line thickness to 4 and the line style to dashed.\n",
    "- Add some random y error bars.\n",
    "\n",
    "</div>"
   ]
  },
  {
   "cell_type": "markdown",
   "metadata": {},
   "source": [
    "**Solution:**"
   ]
  },
  {
   "cell_type": "code",
   "execution_count": null,
   "metadata": {
    "tags": [
     "hide-cell",
     "solution"
    ]
   },
   "outputs": [],
   "source": [
    "fig, ax = plt.subplots(1, 1)\n",
    "\n",
    "# Change line style\n",
    "ax.plot(t, s, color=\"red\", lw=4, ls=\"dashed\")\n",
    "\n",
    "# Add errorbars\n",
    "e = np.random.random(100) * 0.3\n",
    "ax.errorbar(t, s, yerr=e)\n",
    "\n",
    "# Add grid\n",
    "ax.grid()"
   ]
  },
  {
   "cell_type": "markdown",
   "metadata": {
    "tags": []
   },
   "source": [
    "### Multiple subplots in one figure"
   ]
  },
  {
   "cell_type": "code",
   "execution_count": null,
   "metadata": {
    "tags": []
   },
   "outputs": [],
   "source": [
    "x = np.linspace(0.0, 4.0)\n",
    "y1 = np.cos(2 * np.pi * x) * np.exp(-x)\n",
    "y2 = np.cos(2 * np.pi * x)\n",
    "\n",
    "fig, ax = plt.subplots(2, 1)  # note here that ax is now a list of axes\n",
    "ax[0].plot(x, y1, \"o-\")\n",
    "ax[0].set_title(\"A tale of 2 subplots\")\n",
    "ax[0].set_ylabel(\"Damped oscillation\")\n",
    "\n",
    "ax[1].plot(x, y2, \".-\")\n",
    "ax[1].set_xlabel(\"time (s)\")\n",
    "ax[1].set_ylabel(\"Undamped\")\n",
    "\n",
    "plt.show()"
   ]
  },
  {
   "cell_type": "markdown",
   "metadata": {},
   "source": [
    "<div class=\"alert alert-info\">\n",
    "\n",
    "**Exercise:**\n",
    "\n",
    "Try adding two more subplots on the right hand side of the existing ones to have a 2x2 grid of plots.\n",
    "The new subplots should show a zoom onto a particular area of the left subplots.\n",
    "\n",
    "</div>"
   ]
  },
  {
   "cell_type": "markdown",
   "metadata": {},
   "source": [
    "**Solution:**"
   ]
  },
  {
   "cell_type": "code",
   "execution_count": null,
   "metadata": {},
   "outputs": [],
   "source": [
    "fig, ax = plt.subplots(2, 2)  # note here that ax is now a list of axes\n",
    "ax[0][0].plot(x, y1, \"o-\")\n",
    "ax[0][0].set_title(\"A tale of 4 subplots\")\n",
    "ax[0][0].set_ylabel(\"Damped oscillation\")\n",
    "\n",
    "ax[0][1].plot(x, y1, \"o-\")\n",
    "ax[0][1].set_title(\"A zoomed plot\")\n",
    "ax[0][1].set_ylabel(\"Damped oscillation\")\n",
    "ax[0][1].set_xlim([0, 1])\n",
    "\n",
    "ax[1][0].plot(x, y2, \".-\")\n",
    "ax[1][0].set_xlabel(\"time (s)\")\n",
    "ax[1][0].set_ylabel(\"Undamped\")\n",
    "\n",
    "ax[1][1].plot(x, y2, \".-\")\n",
    "ax[1][1].set_xlabel(\"time (s)\")\n",
    "ax[1][1].set_ylabel(\"Undamped\")\n",
    "ax[1][1].set_xlim([1, 2])\n",
    "ax[1][1].set_ylim([-1, 0])\n",
    "\n",
    "# Adjust spacing between subplots so `ax1` title and `ax0` tick labels\n",
    "# don't overlap\n",
    "fig.tight_layout()"
   ]
  },
  {
   "cell_type": "markdown",
   "metadata": {
    "tags": []
   },
   "source": [
    "### 2D image/heatmap with uniformly sized pixels"
   ]
  },
  {
   "cell_type": "code",
   "execution_count": null,
   "metadata": {
    "tags": []
   },
   "outputs": [],
   "source": [
    "N = 100\n",
    "M = 50\n",
    "x = np.arange(N + 1)\n",
    "y = np.arange(M + 1)\n",
    "z = np.random.random([M, N])\n",
    "\n",
    "fig, ax = plt.subplots()\n",
    "im = ax.imshow(z, origin=\"lower\", extent=[x[0], x[-1], y[0], y[-1]], aspect=\"auto\")\n",
    "cb = plt.colorbar(im)  # adds the colorbar that applies to the `im` object\n",
    "cb.ax.set_ylabel(\"Counts\")\n",
    "ax.set_xlabel(\"x coordinate\")\n",
    "ax.set_ylabel(\"y coordinate\")\n",
    "ax.set_title(\"A 2D image\")\n",
    "\n",
    "plt.show()"
   ]
  },
  {
   "cell_type": "markdown",
   "metadata": {},
   "source": [
    "<div class=\"alert alert-info\">\n",
    "\n",
    "**Exercise:**\n",
    "\n",
    "- Change the colormap to one of the many pre-defined [colormaps](https://matplotlib.org/stable/gallery/color/colormap_reference.html) that ship with Matplotlib.\n",
    "- In a second step, try to set the colorbar limits to [0.2, 0.8].\n",
    "\n",
    "</div>"
   ]
  },
  {
   "cell_type": "markdown",
   "metadata": {},
   "source": [
    "**Solution:**"
   ]
  },
  {
   "cell_type": "code",
   "execution_count": null,
   "metadata": {
    "tags": [
     "hide-cell",
     "solution"
    ]
   },
   "outputs": [],
   "source": [
    "fig, ax = plt.subplots()\n",
    "im = ax.imshow(\n",
    "    z,\n",
    "    origin=\"lower\",\n",
    "    extent=[x[0], x[-1], y[0], y[-1]],\n",
    "    aspect=\"auto\",\n",
    "    cmap=\"magma\",\n",
    "    vmin=0.2,\n",
    "    vmax=0.8,\n",
    ")\n",
    "cb = plt.colorbar(\n",
    "    im\n",
    ")  # adds the colorbar: we specify that it applies to the `im` object\n",
    "cb.ax.set_ylabel(\"Counts\")\n",
    "ax.set_xlabel(\"x coordinate\")\n",
    "ax.set_ylabel(\"y coordinate\")\n",
    "ax.set_title(\"A 2D image\")\n",
    "\n",
    "plt.show()"
   ]
  },
  {
   "cell_type": "markdown",
   "metadata": {
    "tags": []
   },
   "source": [
    "### 2D image/heatmap with non-uniformly sized pixels"
   ]
  },
  {
   "cell_type": "code",
   "execution_count": null,
   "metadata": {
    "tags": []
   },
   "outputs": [],
   "source": [
    "N = 10\n",
    "M = 5\n",
    "x = np.arange(N + 1) ** 2\n",
    "y = np.arange(M + 1)\n",
    "z = np.random.random([M, N])\n",
    "\n",
    "fig, ax = plt.subplots()\n",
    "pcmesh = ax.pcolormesh(x, y, z)\n",
    "cb = plt.colorbar(pcmesh)\n",
    "cb.ax.set_ylabel(\"Counts\")\n",
    "ax.set_xlabel(\"x coordinate\")\n",
    "ax.set_ylabel(\"y coordinate\")\n",
    "ax.set_title(\"A 2D image with non-equal sized pixels\")\n",
    "\n",
    "plt.show()"
   ]
  },
  {
   "cell_type": "markdown",
   "metadata": {},
   "source": [
    "<div class=\"alert alert-info\">\n",
    "\n",
    "**Exercise:**\n",
    "\n",
    "The `pcolormesh` function is slow for large datasets/images. See this for yourself by making the data above much larger and try to re-plot.\n",
    "\n",
    "</div>"
   ]
  },
  {
   "cell_type": "markdown",
   "metadata": {},
   "source": [
    "**Solution:**"
   ]
  },
  {
   "cell_type": "code",
   "execution_count": null,
   "metadata": {
    "tags": [
     "hide-cell",
     "solution"
    ]
   },
   "outputs": [],
   "source": [
    "N = 2000\n",
    "M = 1000\n",
    "x = np.arange(N + 1) ** 2\n",
    "y = np.arange(M + 1)\n",
    "z = np.random.random([M, N])\n",
    "\n",
    "fig, ax = plt.subplots()\n",
    "pcmesh = ax.pcolormesh(x, y, z)\n",
    "cb = plt.colorbar(pcmesh)\n",
    "cb.ax.set_ylabel(\"Counts\")\n",
    "ax.set_xlabel(\"x coordinate\")\n",
    "ax.set_ylabel(\"y coordinate\")\n",
    "ax.set_title(\"A 2D image with non-equal sized pixels\")\n",
    "\n",
    "plt.show()"
   ]
  },
  {
   "cell_type": "markdown",
   "metadata": {
    "tags": []
   },
   "source": [
    "### 2D filled/empty contour plot"
   ]
  },
  {
   "cell_type": "code",
   "execution_count": null,
   "metadata": {
    "tags": []
   },
   "outputs": [],
   "source": [
    "N = 100\n",
    "xx = np.linspace(1.0, 5.0, N)\n",
    "yy = np.linspace(1.0, 5.0, N)\n",
    "x, y = np.meshgrid(xx, yy)\n",
    "z = np.sin(x) ** 10 + np.cos(10 + y * x) * np.cos(x)\n",
    "\n",
    "fig, ax = plt.subplots(3, 1, figsize=(9, 9))\n",
    "\n",
    "pcmesh = ax[0].pcolormesh(x, y, z, cmap=\"RdBu\", shading=\"nearest\")\n",
    "cb1 = plt.colorbar(pcmesh, ax=ax[0])\n",
    "cb1.ax.set_ylabel(\"Counts\")\n",
    "ax[0].set_title(\"pcolormesh\")\n",
    "\n",
    "contf = ax[1].contourf(x, y, z, cmap=\"RdBu\")\n",
    "cb2 = plt.colorbar(contf, ax=ax[1])\n",
    "cb2.ax.set_ylabel(\"Counts\")\n",
    "ax[1].set_title(\"filled contours\")\n",
    "\n",
    "cont = ax[2].contour(x, y, z, cmap=\"RdBu\")\n",
    "cb3 = plt.colorbar(cont, ax=ax[2])\n",
    "cb3.ax.set_ylabel(\"Counts\")\n",
    "ax[2].set_title(\"contours\")\n",
    "\n",
    "# Adjust spacing between subplots so `ax1` title and `ax0` tick labels\n",
    "# don't overlap\n",
    "fig.tight_layout()"
   ]
  },
  {
   "cell_type": "markdown",
   "metadata": {},
   "source": [
    "<div class=\"alert alert-info\">\n",
    "\n",
    "**Exercise:**\n",
    "\n",
    "Change the number of filled contours to 30 in the middle panel.\n",
    "\n",
    "</div>"
   ]
  },
  {
   "cell_type": "markdown",
   "metadata": {},
   "source": [
    "**Solution:**"
   ]
  },
  {
   "cell_type": "code",
   "execution_count": null,
   "metadata": {
    "tags": [
     "hide-cell",
     "solution"
    ]
   },
   "outputs": [],
   "source": [
    "fig, ax = plt.subplots(3, 1, figsize=(9, 9))\n",
    "\n",
    "pcmesh = ax[0].pcolormesh(x, y, z, cmap=\"RdBu\", shading=\"nearest\")\n",
    "cb1 = plt.colorbar(pcmesh, ax=ax[0])\n",
    "cb1.ax.set_ylabel(\"Counts\")\n",
    "ax[0].set_title(\"pcolormesh\")\n",
    "\n",
    "contf = ax[1].contourf(x, y, z, cmap=\"RdBu\", levels=30)\n",
    "cb2 = plt.colorbar(contf, ax=ax[1])\n",
    "cb2.ax.set_ylabel(\"Counts\")\n",
    "ax[1].set_title(\"filled contours\")\n",
    "\n",
    "cont = ax[2].contour(x, y, z, cmap=\"RdBu\")\n",
    "cb3 = plt.colorbar(cont, ax=ax[2])\n",
    "cb3.ax.set_ylabel(\"Counts\")\n",
    "ax[2].set_title(\"contours\")\n",
    "\n",
    "# Adjust spacing between subplots so `ax1` title and `ax0` tick labels\n",
    "# don't overlap\n",
    "fig.tight_layout()"
   ]
  },
  {
   "cell_type": "markdown",
   "metadata": {
    "tags": []
   },
   "source": [
    "### Histogram"
   ]
  },
  {
   "cell_type": "code",
   "execution_count": null,
   "metadata": {
    "tags": []
   },
   "outputs": [],
   "source": [
    "y = np.random.normal(50.0, scale=20.0, size=1000)\n",
    "\n",
    "fig, ax = plt.subplots()\n",
    "ax.hist(y, bins=50)\n",
    "ax.set_xlabel(\"Some x label [m]\")\n",
    "ax.set_ylabel(\"A fancy y label [kg]\")\n",
    "ax.set_title(\"A 1D histogram plot\")\n",
    "\n",
    "plt.show()"
   ]
  },
  {
   "cell_type": "markdown",
   "metadata": {},
   "source": [
    "<div class=\"alert alert-info\">\n",
    "\n",
    "**Exercise:**\n",
    "\n",
    "Change the bins to be 30 log-spaced bins between 1 and 150.\n",
    "\n",
    "</div>"
   ]
  },
  {
   "cell_type": "markdown",
   "metadata": {},
   "source": [
    "**Solution:**"
   ]
  },
  {
   "cell_type": "code",
   "execution_count": null,
   "metadata": {
    "tags": [
     "hide-cell",
     "solution"
    ]
   },
   "outputs": [],
   "source": [
    "y = np.random.normal(50.0, scale=20.0, size=1000)\n",
    "\n",
    "fig, ax = plt.subplots()\n",
    "ax.hist(y, bins=np.logspace(0, np.log10(150.0), 30))\n",
    "ax.set_xlabel(\"Some x label [m]\")\n",
    "ax.set_ylabel(\"A fancy y label [kg]\")\n",
    "ax.set_title(\"A 1D histogram plot\")\n",
    "\n",
    "plt.show()"
   ]
  },
  {
   "cell_type": "markdown",
   "metadata": {
    "tags": []
   },
   "source": [
    "### 2D scatter plot with different symbol sizes and colors"
   ]
  },
  {
   "cell_type": "code",
   "execution_count": null,
   "metadata": {
    "tags": []
   },
   "outputs": [],
   "source": [
    "N = 100\n",
    "x = np.random.random(N)\n",
    "y = np.random.random(N)\n",
    "z = np.random.random(N)\n",
    "s = 300.0 * np.random.random(N)\n",
    "\n",
    "fig, ax = plt.subplots()\n",
    "scat = ax.scatter(x, y, c=z, s=s)\n",
    "cb = plt.colorbar(scat)\n",
    "cb.ax.set_ylabel(\"The colored quantity\")\n",
    "ax.set_xlabel(\"x coordinate\")\n",
    "ax.set_ylabel(\"y coordinate\")\n",
    "ax.set_title(\"A 2D scatter plot\")\n",
    "\n",
    "# produce a legend with a cross section of sizes from the scatter\n",
    "handles, labels = scat.legend_elements(prop=\"sizes\")\n",
    "legend = ax.legend(handles, labels, loc=\"upper right\", title=\"Sizes\")"
   ]
  },
  {
   "cell_type": "markdown",
   "metadata": {},
   "source": [
    "<div class=\"alert alert-info\">\n",
    "\n",
    "**Exercise:**\n",
    "\n",
    "Change the scatter markers from circles to squares and change their opacity to 50%.\n",
    "\n",
    "</div>"
   ]
  },
  {
   "cell_type": "markdown",
   "metadata": {},
   "source": [
    "**Solution:**"
   ]
  },
  {
   "cell_type": "code",
   "execution_count": null,
   "metadata": {
    "tags": [
     "hide-cell",
     "solution"
    ]
   },
   "outputs": [],
   "source": [
    "fig, ax = plt.subplots()\n",
    "scat = ax.scatter(x, y, c=z, s=s, marker=\"s\", alpha=0.5)\n",
    "cb = plt.colorbar(scat)\n",
    "cb.ax.set_ylabel(\"The colored quantity\")\n",
    "ax.set_xlabel(\"x coordinate\")\n",
    "ax.set_ylabel(\"y coordinate\")\n",
    "ax.set_title(\"A 2D scatter plot\")\n",
    "\n",
    "# produce a legend with a cross section of sizes from the scatter\n",
    "handles, labels = scat.legend_elements(prop=\"sizes\")\n",
    "legend = ax.legend(handles, labels, loc=\"upper right\", title=\"Sizes\")"
   ]
  },
  {
   "cell_type": "markdown",
   "metadata": {
    "tags": [
     "hide-cell",
     "solution"
    ]
   },
   "source": [
    "### Quiver (vectors) and stream plots"
   ]
  },
  {
   "cell_type": "code",
   "execution_count": null,
   "metadata": {
    "tags": []
   },
   "outputs": [],
   "source": [
    "N = 100\n",
    "w = 5.0\n",
    "xx = np.linspace(-w, w, N)\n",
    "x, y = np.meshgrid(xx, xx)\n",
    "u = -1.0 - x**2 + y\n",
    "v = -1.0 + x - y**2\n",
    "\n",
    "fig, ax = plt.subplots(1, 2, figsize=(9, 4))\n",
    "\n",
    "M = 4\n",
    "# Here we plot only 1 in every M^2 points to avoid over-crowding the figure\n",
    "ax[0].quiver(x[::M, ::M], y[::M, ::M], u[::M, ::M], v[::M, ::M], scale=200.0)\n",
    "ax[0].set_title(\"Quiver (vector field)\")\n",
    "ax[0].grid()\n",
    "\n",
    "ax[1].streamplot(x, y, u, v)\n",
    "ax[1].set_title(\"Streamlines\")\n",
    "\n",
    "plt.show()"
   ]
  },
  {
   "cell_type": "markdown",
   "metadata": {},
   "source": [
    "<div class=\"alert alert-info\">\n",
    "\n",
    "**Exercise:**\n",
    "\n",
    "- Overplot the arrows or streamlines onto an image or contour plot of the velocity magnitude.\n",
    "- Change the color of the arrows or streamlines to reflect the velocity magnitude via a colormap.\n",
    "\n",
    "</div>"
   ]
  },
  {
   "cell_type": "markdown",
   "metadata": {},
   "source": [
    "**Solution:**"
   ]
  },
  {
   "cell_type": "code",
   "execution_count": null,
   "metadata": {
    "tags": [
     "hide-cell",
     "solution"
    ]
   },
   "outputs": [],
   "source": [
    "fig, ax = plt.subplots(1, 2, figsize=(9, 4))\n",
    "\n",
    "vmag = np.sqrt(u**2 + v**2)\n",
    "\n",
    "M = 4\n",
    "# Here we plot only 1 in every M^2 points to avoid over-crowding the figure\n",
    "ax[0].imshow(vmag, extent=[xx[0], xx[-1], xx[0], xx[-1]])\n",
    "ax[0].quiver(x[::M, ::M], y[::M, ::M], u[::M, ::M], v[::M, ::M], scale=200.0)\n",
    "ax[0].set_title(\"Quiver (vector field)\")\n",
    "\n",
    "strm = ax[1].streamplot(x, y, u, v, color=vmag)\n",
    "cb = plt.colorbar(strm.lines)\n",
    "cb.ax.set_ylabel(\"Velocity magnitude\")\n",
    "ax[1].set_title(\"Streamlines\")\n",
    "\n",
    "plt.show()"
   ]
  },
  {
   "cell_type": "markdown",
   "metadata": {
    "tags": []
   },
   "source": [
    "### Patches: drawing geometric shapes"
   ]
  },
  {
   "cell_type": "code",
   "execution_count": null,
   "metadata": {
    "tags": []
   },
   "outputs": [],
   "source": [
    "import matplotlib.patches as mpatches\n",
    "\n",
    "fig, ax = plt.subplots(figsize=(6, 6))\n",
    "ax.add_patch(mpatches.Rectangle([0.0, 0.0], 1.0, 2.0))\n",
    "ax.add_patch(mpatches.Circle([3.0, 3.0], 1.6, color=\"#FF5733\"))\n",
    "ax.add_patch(mpatches.Polygon([[1.0, 1.5], [3.0, 3.0], [4.0, 0.5]], color=\"#4CFF33\"))\n",
    "ax.set_xlim([-0.5, 5.0])\n",
    "ax.set_ylim([-0.5, 5.0])\n",
    "\n",
    "plt.show()"
   ]
  },
  {
   "cell_type": "markdown",
   "metadata": {},
   "source": [
    "<div class=\"alert alert-info\">\n",
    "\n",
    "**Exercise:**\n",
    "\n",
    "Add an arrow and some text in the figure above.\n",
    "\n",
    "</div>"
   ]
  },
  {
   "cell_type": "markdown",
   "metadata": {},
   "source": [
    "**Solution:**"
   ]
  },
  {
   "cell_type": "code",
   "execution_count": null,
   "metadata": {
    "tags": [
     "hide-cell",
     "solution"
    ]
   },
   "outputs": [],
   "source": [
    "fig, ax = plt.subplots(figsize=(6, 6))\n",
    "ax.add_patch(mpatches.Rectangle([0.0, 0.0], 1.0, 2.0))\n",
    "ax.add_patch(mpatches.Circle([3.0, 3.0], 1.6, color=\"#FF5733\"))\n",
    "ax.add_patch(mpatches.Polygon([[1.0, 1.5], [3.0, 3.0], [4.0, 0.5]], color=\"#4CFF33\"))\n",
    "ax.arrow(1.0, 1.0, 2, 3, width=0.1, color=\"cyan\")\n",
    "ax.text(0, 4, \"My text\")\n",
    "ax.set_xlim([-0.5, 5.0])\n",
    "ax.set_ylim([-0.5, 5.0])\n",
    "\n",
    "plt.show()"
   ]
  },
  {
   "cell_type": "markdown",
   "metadata": {
    "tags": []
   },
   "source": [
    "### Grouped bar chart with labels"
   ]
  },
  {
   "cell_type": "code",
   "execution_count": null,
   "metadata": {
    "tags": []
   },
   "outputs": [],
   "source": [
    "labels = [\"G1\", \"G2\", \"G3\", \"G4\", \"G5\"]\n",
    "cats_means = [20, 34, 30, 35, 27]\n",
    "dogs_means = [25, 32, 34, 20, 25]\n",
    "\n",
    "x = np.arange(len(labels))  # the label locations\n",
    "width = 0.35  # the width of the bars\n",
    "\n",
    "fig, ax = plt.subplots()\n",
    "rects1 = ax.bar(x - width / 2, cats_means, width, label=\"Cats\")\n",
    "rects2 = ax.bar(x + width / 2, dogs_means, width, label=\"Dogs\")\n",
    "\n",
    "# Add some text for labels, title and custom x-axis tick labels, etc.\n",
    "ax.set_ylabel(\"Scores\")\n",
    "ax.set_title(\"Scores by group and animal\")\n",
    "ax.set_xticks(x)\n",
    "ax.set_xticklabels(labels)\n",
    "leg = ax.legend()"
   ]
  },
  {
   "cell_type": "markdown",
   "metadata": {},
   "source": [
    "<div class=\"alert alert-info\">\n",
    "\n",
    "**Exercise:**\n",
    "\n",
    "Attach a text label above each bar in rects1 and rects2, displaying its height.\n",
    "\n",
    "</div>"
   ]
  },
  {
   "cell_type": "markdown",
   "metadata": {},
   "source": [
    "**Solution:**"
   ]
  },
  {
   "cell_type": "code",
   "execution_count": null,
   "metadata": {
    "tags": [
     "hide-cell",
     "solution"
    ]
   },
   "outputs": [],
   "source": [
    "labels = [\"G1\", \"G2\", \"G3\", \"G4\", \"G5\"]\n",
    "cats_means = [20, 34, 30, 35, 27]\n",
    "dogs_means = [25, 32, 34, 20, 25]\n",
    "\n",
    "x = np.arange(len(labels))  # the label locations\n",
    "width = 0.35  # the width of the bars\n",
    "\n",
    "fig, ax = plt.subplots()\n",
    "rects1 = ax.bar(x - width / 2, cats_means, width, label=\"Cats\")\n",
    "rects2 = ax.bar(x + width / 2, dogs_means, width, label=\"Dogs\")\n",
    "\n",
    "# Add some text for labels, title and custom x-axis tick labels, etc.\n",
    "ax.set_ylabel(\"Scores\")\n",
    "ax.set_title(\"Scores by group and animal\")\n",
    "ax.set_xticks(x)\n",
    "ax.set_xticklabels(labels)\n",
    "leg = ax.legend()\n",
    "\n",
    "\n",
    "def autolabel(rects):\n",
    "    \"\"\"Attach a text label above each bar in *rects*, displaying its height.\"\"\"\n",
    "    for rect in rects:\n",
    "        height = rect.get_height()\n",
    "        ax.annotate(\n",
    "            \"{}\".format(height),\n",
    "            xy=(rect.get_x() + rect.get_width() / 2, height),\n",
    "            xytext=(0, 3),  # 3 points vertical offset\n",
    "            textcoords=\"offset points\",\n",
    "            ha=\"center\",\n",
    "            va=\"bottom\",\n",
    "        )\n",
    "\n",
    "\n",
    "autolabel(rects1)\n",
    "autolabel(rects2)"
   ]
  },
  {
   "cell_type": "markdown",
   "metadata": {
    "tags": []
   },
   "source": [
    "### Pie chart"
   ]
  },
  {
   "cell_type": "code",
   "execution_count": null,
   "metadata": {
    "tags": []
   },
   "outputs": [],
   "source": [
    "# Pie chart, where the slices will be ordered and plotted counter-clockwise:\n",
    "labels = \"Frogs\", \"Hogs\", \"Dogs\", \"Logs\"\n",
    "sizes = [15, 30, 45, 10]\n",
    "explode = (0, 0.1, 0, 0)  # only \"explode\" the 2nd slice (i.e. 'Hogs')\n",
    "\n",
    "fig1, ax1 = plt.subplots()\n",
    "ax1.pie(\n",
    "    sizes, explode=explode, labels=labels, autopct=\"%1.1f%%\", shadow=True, startangle=90\n",
    ")\n",
    "ax1.set_aspect(\"equal\")  # Equal aspect ratio ensures that pie is drawn as a circle."
   ]
  },
  {
   "cell_type": "markdown",
   "metadata": {},
   "source": [
    "<div class=\"alert alert-info\">\n",
    "\n",
    "**Exercise:**\n",
    "\n",
    "Create 4 subplots where a different section is exploded in each subplot.\n",
    "\n",
    "</div>"
   ]
  },
  {
   "cell_type": "markdown",
   "metadata": {},
   "source": [
    "**Solution:**"
   ]
  },
  {
   "cell_type": "code",
   "execution_count": null,
   "metadata": {
    "tags": [
     "hide-cell",
     "solution"
    ]
   },
   "outputs": [],
   "source": [
    "fig1, ax = plt.subplots(2, 2)\n",
    "\n",
    "ax[0][0].pie(\n",
    "    sizes,\n",
    "    explode=(0.1, 0, 0, 0),\n",
    "    labels=labels,\n",
    "    autopct=\"%1.1f%%\",\n",
    "    shadow=True,\n",
    "    startangle=90,\n",
    ")\n",
    "ax[0][0].set_aspect(\"equal\")\n",
    "\n",
    "ax[0][1].pie(\n",
    "    sizes,\n",
    "    explode=(0, 0.1, 0, 0),\n",
    "    labels=labels,\n",
    "    autopct=\"%1.1f%%\",\n",
    "    shadow=True,\n",
    "    startangle=90,\n",
    ")\n",
    "ax[0][1].set_aspect(\"equal\")\n",
    "\n",
    "ax[1][0].pie(\n",
    "    sizes,\n",
    "    explode=(0, 0, 0.1, 0),\n",
    "    labels=labels,\n",
    "    autopct=\"%1.1f%%\",\n",
    "    shadow=True,\n",
    "    startangle=90,\n",
    ")\n",
    "ax[1][0].set_aspect(\"equal\")\n",
    "\n",
    "ax[1][1].pie(\n",
    "    sizes,\n",
    "    explode=(0, 0, 0, 0.1),\n",
    "    labels=labels,\n",
    "    autopct=\"%1.1f%%\",\n",
    "    shadow=True,\n",
    "    startangle=90,\n",
    ")\n",
    "ax[1][1].set_aspect(\"equal\")"
   ]
  },
  {
   "cell_type": "markdown",
   "metadata": {
    "tags": []
   },
   "source": [
    "### Log plots"
   ]
  },
  {
   "cell_type": "code",
   "execution_count": null,
   "metadata": {
    "tags": []
   },
   "outputs": [],
   "source": [
    "# Data for plotting\n",
    "t = np.arange(0.01, 20.0, 0.01)\n",
    "\n",
    "# Create figure\n",
    "fig, ((ax1, ax2), (ax3, ax4)) = plt.subplots(2, 2)\n",
    "\n",
    "# log y axis\n",
    "ax1.semilogy(t, np.exp(-t / 5.0))\n",
    "ax1.set(title=\"semilogy\")\n",
    "ax1.grid()\n",
    "\n",
    "# log x axis\n",
    "y = np.sin(2 * np.pi * t)\n",
    "ax2.semilogx(t, y)\n",
    "ax2.set(title=\"semilogx\")\n",
    "ax2.grid()\n",
    "\n",
    "# log x and y axis\n",
    "ax3.loglog(t, 20 * np.exp(-t / 10.0), base=2)\n",
    "ax3.set(title=\"loglog base 2\")\n",
    "ax3.grid()\n",
    "\n",
    "# With errorbars: clip non-positive values\n",
    "# Use new data for plotting\n",
    "x = 10.0 ** np.linspace(0.0, 2.0, 20)\n",
    "y = x**2.0\n",
    "\n",
    "ax4.set_xscale(\"log\")\n",
    "ax4.set_yscale(\"log\")\n",
    "ax4.set(title=\"Errorbars go negative\")\n",
    "ax4.errorbar(x, y, xerr=0.1 * x, yerr=5.0 + 0.75 * y)\n",
    "# ylim must be set after errorbar to allow errorbar to autoscale limits\n",
    "ax4.set_ylim(bottom=0.1)\n",
    "\n",
    "fig.tight_layout()"
   ]
  },
  {
   "cell_type": "markdown",
   "metadata": {
    "tags": []
   },
   "source": [
    "<div class=\"alert alert-info\">\n",
    "\n",
    "**Exercise:**\n",
    "\n",
    "Create a 2D image where the x axis is logarithmic.\n",
    "\n",
    "</div>"
   ]
  },
  {
   "cell_type": "markdown",
   "metadata": {
    "tags": []
   },
   "source": [
    "**Solution:**"
   ]
  },
  {
   "cell_type": "code",
   "execution_count": null,
   "metadata": {
    "tags": [
     "hide-cell",
     "solution"
    ]
   },
   "outputs": [],
   "source": [
    "# Create figure\n",
    "fig, ((ax1, ax2), (ax3, ax4)) = plt.subplots(2, 2)\n",
    "\n",
    "# log y axis\n",
    "ax1.semilogy(t, np.exp(-t / 5.0))\n",
    "ax1.set(title=\"semilogy\")\n",
    "ax1.grid()\n",
    "\n",
    "# log x axis\n",
    "y = np.sin(2 * np.pi * t)\n",
    "ax2.semilogx(t, y)\n",
    "ax2.set(title=\"semilogx\")\n",
    "ax2.grid()\n",
    "\n",
    "# log x and y axis\n",
    "ax3.loglog(t, 20 * np.exp(-t / 10.0), base=2)\n",
    "ax3.set(title=\"loglog base 2 on x\")\n",
    "ax3.grid()\n",
    "\n",
    "# Image with log x axis\n",
    "ax4.imshow(np.random.random([20, 20]), extent=[1, 100.0, 0, 19])\n",
    "ax4.set(xscale=\"log\", title=\"log image\", aspect=\"auto\")\n",
    "\n",
    "fig.tight_layout()"
   ]
  },
  {
   "cell_type": "markdown",
   "metadata": {
    "tags": []
   },
   "source": [
    "### Controlling axis placement\n",
    "\n",
    "This example will illustrate how to place axes in exact position with respect to the figure, using the `add_axes()` function. This is useful for placing side panels around a central figure for instance."
   ]
  },
  {
   "cell_type": "code",
   "execution_count": null,
   "metadata": {
    "tags": []
   },
   "outputs": [],
   "source": [
    "N = 1000\n",
    "nbins = 50\n",
    "x = np.random.normal(0.0, scale=20.0, size=N)\n",
    "y = np.random.normal(0.0, scale=20.0, size=N)\n",
    "\n",
    "dx = 0.65\n",
    "xymin = 0.1\n",
    "fig = plt.figure(figsize=(8, 8))\n",
    "# Use: add_axes([x_lower_left, y_lower_left, size_x, size_y])\n",
    "ax1 = fig.add_axes([xymin, xymin, dx, dx])  # Central figure\n",
    "ax2 = fig.add_axes([xymin + dx, xymin, 0.2, dx])  # Right histogram\n",
    "ax3 = fig.add_axes([xymin, xymin + dx, dx, 0.2])  # Top histogram\n",
    "\n",
    "ax1.scatter(x, y)\n",
    "ax2.hist(\n",
    "    y, bins=nbins, orientation=\"horizontal\"\n",
    ")  # Note \"horizontal\" here refers to horizontal bars\n",
    "ax3.hist(x, bins=nbins)\n",
    "\n",
    "# Set the ticks on the histogram axes to the right and top to avoid overlap on main panel\n",
    "ax2.yaxis.tick_right()\n",
    "ax3.xaxis.tick_top()"
   ]
  },
  {
   "cell_type": "markdown",
   "metadata": {
    "tags": []
   },
   "source": [
    "<div class=\"alert alert-info\">\n",
    "\n",
    "**Exercise:**\n",
    "\n",
    "Connect the axes of the main panel and subplots so that zooming in on the central panel also zooms in on the histograms (hint: search for \"shared\" axes).\n",
    "\n",
    "</div>"
   ]
  },
  {
   "cell_type": "markdown",
   "metadata": {
    "tags": []
   },
   "source": [
    "**Solution:**"
   ]
  },
  {
   "cell_type": "code",
   "execution_count": null,
   "metadata": {
    "tags": [
     "hide-cell",
     "solution"
    ]
   },
   "outputs": [],
   "source": [
    "fig = plt.figure(figsize=(8, 8))\n",
    "# Use: add_axes([x_lower_left, y_lower_left, size_x, size_y])\n",
    "ax1 = fig.add_axes([xymin, xymin, dx, dx])  # Central figure\n",
    "# Share the axes with sharex and sharey\n",
    "ax2 = fig.add_axes([xymin + dx, xymin, 0.2, dx], sharey=ax1)  # Right histogram\n",
    "ax3 = fig.add_axes([xymin, xymin + dx, dx, 0.2], sharex=ax1)  # Top histogram\n",
    "\n",
    "ax1.scatter(x, y)\n",
    "ax2.hist(\n",
    "    y, bins=nbins, orientation=\"horizontal\"\n",
    ")  # Note \"horizontal\" here refers to horizontal bars\n",
    "ax3.hist(x, bins=nbins)\n",
    "\n",
    "# Set the ticks on the histogram axes to the right and top to avoid overlap on main panel\n",
    "ax2.yaxis.tick_right()\n",
    "ax3.xaxis.tick_top()"
   ]
  },
  {
   "cell_type": "markdown",
   "metadata": {
    "tags": []
   },
   "source": [
    "### Interactive 2D heatmap with slider through 3D data cube\n",
    "\n",
    "`matplotlib` ships with its own set of [widgets](https://matplotlib.org/stable/api/widgets_api.html?highlight=widget) which allow to create very useful and capable interactive data visualizations. In this example, we plot a 2D slice through a 3D data cube, and use a slider to navigate the 3rd dimension, updating the slice as we move the slider (note that performance can vary depending on if you are running the notebook kernel locally or remotely)."
   ]
  },
  {
   "cell_type": "code",
   "execution_count": null,
   "metadata": {
    "tags": []
   },
   "outputs": [],
   "source": [
    "from matplotlib.widgets import Slider\n",
    "\n",
    "data = np.random.random([10, 10, 10])\n",
    "idx = 0\n",
    "\n",
    "fig = plt.figure()\n",
    "ax = fig.add_subplot(111)\n",
    "fig.subplots_adjust(bottom=0.15)\n",
    "\n",
    "im_object = ax.imshow(data[:, :, idx], interpolation=\"nearest\")\n",
    "\n",
    "ax.set_xlabel(\"x coordinate\")\n",
    "ax.set_ylabel(\"y coordinate\")\n",
    "ax.set_title(\"2D heatmap with slider\")\n",
    "cb = plt.colorbar(im_object)\n",
    "cb.ax.set_ylabel(\"Temperature\")\n",
    "\n",
    "slider_ax = fig.add_axes([0.23, 0.02, 0.56, 0.04])\n",
    "slider = Slider(slider_ax, \"Depth\", 0, data.shape[2] - 1, valinit=idx)\n",
    "\n",
    "\n",
    "def update_depth(val):\n",
    "    idx = int(round(slider.val))\n",
    "    im_object.set_data(data[:, :, idx])\n",
    "    return\n",
    "\n",
    "\n",
    "slider.on_changed(update_depth)\n",
    "\n",
    "plt.show()"
   ]
  },
  {
   "cell_type": "markdown",
   "metadata": {
    "tags": []
   },
   "source": [
    "<div class=\"alert alert-info\">\n",
    "\n",
    "**Exercise:**\n",
    "\n",
    "Connect a mouse scroll event to the figure canvas to also navigate the 3rd dimension with the mouse wheel (see matplotlib's [event handling](https://matplotlib.org/stable/users/explain/event_handling.html)).\n",
    "\n",
    "</div>"
   ]
  },
  {
   "cell_type": "markdown",
   "metadata": {
    "tags": []
   },
   "source": [
    "**Solution:**"
   ]
  },
  {
   "cell_type": "code",
   "execution_count": null,
   "metadata": {
    "tags": [
     "hide-cell",
     "solution"
    ]
   },
   "outputs": [],
   "source": [
    "fig = plt.figure()\n",
    "ax = fig.add_subplot(111)\n",
    "fig.subplots_adjust(bottom=0.15)\n",
    "\n",
    "im_object = ax.imshow(data[:, :, idx], interpolation=\"nearest\")\n",
    "\n",
    "ax.set_xlabel(\"x coordinate\")\n",
    "ax.set_ylabel(\"y coordinate\")\n",
    "ax.set_title(\"2D heatmap with slider\")\n",
    "cb = plt.colorbar(im_object)\n",
    "cb.ax.set_ylabel(\"Temperature\")\n",
    "\n",
    "slider_ax = fig.add_axes([0.23, 0.02, 0.56, 0.04])\n",
    "slider = Slider(slider_ax, \"Depth\", 0, data.shape[2] - 1, valinit=idx)\n",
    "\n",
    "\n",
    "# Allow moving the slider with the mouse wheel\n",
    "def onscroll(event):\n",
    "    idx = int(round(slider.val))\n",
    "    if event.button == \"up\":\n",
    "        idx += 1\n",
    "    else:\n",
    "        idx -= 1\n",
    "    idx = np.clip(idx, 0, data.shape[-1] - 1)\n",
    "    slider.set_val(idx)\n",
    "\n",
    "\n",
    "def update_depth(val):\n",
    "    idx = int(round(slider.val))\n",
    "    im_object.set_data(data[:, :, idx])\n",
    "    return\n",
    "\n",
    "\n",
    "slider.on_changed(update_depth)\n",
    "\n",
    "fig.canvas.mpl_connect(\"scroll_event\", onscroll)\n",
    "\n",
    "plt.show()"
   ]
  },
  {
   "cell_type": "markdown",
   "metadata": {
    "tags": []
   },
   "source": [
    "### Interactive linked scatter and histogram\n",
    "\n",
    "In this example, we use the `RectangleSelector` to select points in a 2D scatter plots that represent the x and y coordinates of some data points. The points also have a 3rd dimension/property, e.g. temperature. The temperature of all the points are histogrammed in the right hand side panel. The histogram for only the selected points is overlayed with a red color and updated every time the selector is moved/resized."
   ]
  },
  {
   "cell_type": "code",
   "execution_count": null,
   "metadata": {
    "tags": []
   },
   "outputs": [],
   "source": [
    "from matplotlib.widgets import RectangleSelector\n",
    "\n",
    "fig, ax = plt.subplots(1, 2, figsize=(9, 5))\n",
    "N = 1000\n",
    "x = np.random.normal(0.0, scale=20.0, size=N)\n",
    "y = np.random.normal(0.0, scale=20.0, size=N)\n",
    "# Make a bimodal distribution for the temperature\n",
    "z = np.concatenate(\n",
    "    [\n",
    "        np.random.normal(-50.0, scale=20.0, size=N // 2),\n",
    "        np.random.normal(50.0, scale=20.0, size=N // 2),\n",
    "    ]\n",
    ")\n",
    "\n",
    "ax[0].set_xlabel(\"X coordinate\")\n",
    "ax[0].set_ylabel(\"Y coordinate\")\n",
    "ax[1].set_xlabel(\"Temperature\")\n",
    "ax[1].set_ylabel(\"Counts\")\n",
    "\n",
    "\n",
    "# Make scatter plot on the left\n",
    "ax[0].scatter(x, y, alpha=0.7)\n",
    "\n",
    "# Make histogram on the right, with well defined bins (they will be re-used later)\n",
    "bins = np.linspace(np.amin(z) - 1.0, np.amax(z) + 1.0, 50)\n",
    "ax[1].hist(z, bins=bins)\n",
    "\n",
    "# Save original patches so that we know how many to delete\n",
    "orig_patches = set(ax[1].patches)\n",
    "\n",
    "\n",
    "# Function to be called when rectangle selector is updated\n",
    "def update_histogram(eclick, erelease):\n",
    "    x1, w1 = eclick.xdata, eclick.ydata\n",
    "    x2, w2 = erelease.xdata, erelease.ydata\n",
    "    # Find all points that lie inside rectangle selector limits\n",
    "    select = np.where(\n",
    "        np.logical_and(\n",
    "            y >= min(w1, w2),\n",
    "            np.logical_and(\n",
    "                y <= max(w1, w2), np.logical_and(x >= min(x1, x2), x <= max(x1, x2))\n",
    "            ),\n",
    "        )\n",
    "    )\n",
    "    # Delete all patches (bars) apart from original ones\n",
    "    for patch in set(ax[1].patches) - orig_patches:\n",
    "        patch.remove()\n",
    "    # Draw new red histogram from selected points\n",
    "    ax[1].hist(z[select], bins=bins, alpha=0.5, color=\"r\")\n",
    "\n",
    "\n",
    "# Create rectangle selector and install callback to update function\n",
    "selector = RectangleSelector(\n",
    "    ax[0],\n",
    "    update_histogram,\n",
    "    useblit=True,\n",
    "    button=[1, 3],  # don't use middle button\n",
    "    interactive=True,\n",
    ")"
   ]
  },
  {
   "cell_type": "markdown",
   "metadata": {
    "tags": []
   },
   "source": [
    "<div class=\"alert alert-info\">\n",
    "\n",
    "**Exercise:**\n",
    "\n",
    "- Try to replace the `RectangleSelector` with the [LassoSelector](https://matplotlib.org/stable/gallery/widgets/lasso_selector_demo_sgskip.html) or a different kind of selector (hint: in Jupyter notebooks, one has to make sure that `useblit=False` for the `LassoSelector`).\n",
    "- Try to add a `RectangleSelector` in the histogram panel that would highlight scatter points in the left panel.\n",
    "\n",
    "</div>"
   ]
  },
  {
   "cell_type": "markdown",
   "metadata": {
    "tags": []
   },
   "source": [
    "**Solution 1:**"
   ]
  },
  {
   "cell_type": "code",
   "execution_count": null,
   "metadata": {
    "tags": [
     "hide-cell",
     "solution"
    ]
   },
   "outputs": [],
   "source": [
    "from matplotlib.widgets import RectangleSelector, LassoSelector\n",
    "from matplotlib.path import Path\n",
    "\n",
    "fig, ax = plt.subplots(1, 2, figsize=(9, 5))\n",
    "N = 1000\n",
    "x = np.random.normal(0.0, scale=20.0, size=N)\n",
    "y = np.random.normal(0.0, scale=20.0, size=N)\n",
    "# Make a bimodal distribution for the temperature\n",
    "z = np.concatenate(\n",
    "    [\n",
    "        np.random.normal(-50.0, scale=20.0, size=N // 2),\n",
    "        np.random.normal(50.0, scale=20.0, size=N // 2),\n",
    "    ]\n",
    ")\n",
    "ax[0].set_xlabel(\"X coordinate\")\n",
    "ax[0].set_ylabel(\"Y coordinate\")\n",
    "ax[1].set_xlabel(\"Temperature\")\n",
    "ax[1].set_ylabel(\"Counts\")\n",
    "# Make scatter plot on the left\n",
    "ax[0].scatter(x, y, alpha=0.7)\n",
    "# Make histogram on the right, with well defined bins (they will be re-used later)\n",
    "bins = np.linspace(np.amin(z) - 1.0, np.amax(z) + 1.0, 50)\n",
    "ax[1].hist(z, bins=bins)\n",
    "# Save original patches so that we know how many to delete\n",
    "orig_patches = set(ax[1].patches)\n",
    "\n",
    "xys = ax[0].collections[0].get_offsets()\n",
    "\n",
    "\n",
    "def update_select(verts):\n",
    "    path = Path(verts)\n",
    "    select = np.nonzero(path.contains_points(xys))[0]\n",
    "    for patch in set(ax[1].patches) - orig_patches:\n",
    "        patch.remove()\n",
    "    # Draw new red histogram from selected points\n",
    "    ax[1].hist(z[select], bins=bins, alpha=0.5, color=\"r\")\n",
    "\n",
    "\n",
    "selector = LassoSelector(\n",
    "    ax[0], onselect=update_select, useblit=False, props={\"color\": \"red\", \"linewidth\": 4}\n",
    ")"
   ]
  },
  {
   "cell_type": "markdown",
   "metadata": {
    "tags": []
   },
   "source": [
    "**Solution 2:**"
   ]
  },
  {
   "cell_type": "code",
   "execution_count": null,
   "metadata": {
    "tags": [
     "hide-cell",
     "solution"
    ]
   },
   "outputs": [],
   "source": [
    "from matplotlib.widgets import RectangleSelector\n",
    "\n",
    "fig, ax = plt.subplots(1, 2, figsize=(9, 5))\n",
    "N = 1000\n",
    "x = np.random.normal(0.0, scale=20.0, size=N)\n",
    "y = np.random.normal(0.0, scale=20.0, size=N)\n",
    "# Make a bimodal distribution for the temperature\n",
    "z = np.concatenate(\n",
    "    [\n",
    "        np.random.normal(-50.0, scale=20.0, size=N // 2),\n",
    "        np.random.normal(50.0, scale=20.0, size=N // 2),\n",
    "    ]\n",
    ")\n",
    "\n",
    "ax[0].set_xlabel(\"X coordinate\")\n",
    "ax[0].set_ylabel(\"Y coordinate\")\n",
    "ax[1].set_xlabel(\"Temperature\")\n",
    "ax[1].set_ylabel(\"Counts\")\n",
    "\n",
    "# Make scatter plot on the left\n",
    "ax[0].scatter(x, y, alpha=0.7)\n",
    "# Copy the colors of the scatter point to match the size of the data arrays N\n",
    "fc = np.broadcast_to(ax[0].collections[0].get_facecolors()[0], (N, 4)).copy()\n",
    "# Save original R value of RGBA\n",
    "red_original = fc[0, 0]\n",
    "\n",
    "# Make histogram on the right, with well defined bins (they will be re-used later)\n",
    "bins = np.linspace(np.amin(z) - 1.0, np.amax(z) + 1.0, 50)\n",
    "ax[1].hist(z, bins=bins)\n",
    "\n",
    "\n",
    "# Function to be called when rectangle selector is updated\n",
    "def update_scatter(eclick, erelease):\n",
    "    x1, w1 = eclick.xdata, eclick.ydata\n",
    "    x2, w2 = erelease.xdata, erelease.ydata\n",
    "    # Find all points that lie inside rectangle selector limits\n",
    "    select = np.where(np.logical_and(z >= x1, z <= x2))\n",
    "    # Reset all facecolors\n",
    "    fc[:, 0] = red_original\n",
    "    # Make selection red\n",
    "    fc[:, 0][select] = 1\n",
    "    ax[0].collections[0].set_facecolors(fc)\n",
    "\n",
    "\n",
    "# Create rectangle selector and install callback to update function\n",
    "selector = RectangleSelector(\n",
    "    ax[1],\n",
    "    update_scatter,\n",
    "    useblit=True,\n",
    "    button=[1, 3],  # don't use middle button\n",
    "    interactive=True,\n",
    ")"
   ]
  }
 ],
 "metadata": {
  "kernelspec": {
   "display_name": "Python 3 (ipykernel)",
   "language": "python",
   "name": "python3"
  },
  "language_info": {
   "codemirror_mode": {
    "name": "ipython",
    "version": 3
   },
   "file_extension": ".py",
   "mimetype": "text/x-python",
   "name": "python",
   "nbconvert_exporter": "python",
   "pygments_lexer": "ipython3",
   "version": "3.10.10"
  }
 },
 "nbformat": 4,
 "nbformat_minor": 4
}
