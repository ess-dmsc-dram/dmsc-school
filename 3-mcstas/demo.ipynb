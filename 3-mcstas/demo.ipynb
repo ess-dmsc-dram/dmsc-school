{
 "cells": [
  {
   "cell_type": "code",
   "execution_count": null,
   "id": "4426c34d-ec7c-441d-bfab-7e755ad09e3f",
   "metadata": {},
   "outputs": [],
   "source": [
    "import mcstasscript as ms\n",
    "import make_powder_instrument\n",
    "import quizlib\n",
    "\n",
    "%matplotlib widget\n",
    "\n",
    "import numpy as np\n",
    "import mcstastox\n",
    "import scipp as sc\n",
    "\n",
    "from scippneutron.conversion.graph.beamline import beamline\n",
    "from scippneutron.conversion.graph.tof import elastic\n",
    "\n",
    "def read_event_union(data, source_name=\"Source\", sample_name=\"sample_position\"):\n",
    "    with mcstastox.Read(data[0].original_data_location) as file:\n",
    "        source_position, source_rotation = file.get_component_placement(source_name)\n",
    "        sample_position, sample_rotation = file.get_component_placement(sample_name)\n",
    "        \n",
    "        detector_comps = file.get_components_with_ids()\n",
    "        global_positions_all = None    \n",
    "    \n",
    "        for detector in detector_comps:\n",
    "            mon = ms.name_search(detector, data)\n",
    "    \n",
    "            y = mon.get_data_column(\"y\")\n",
    "            positions = np.column_stack((np.zeros_like(y), y, np.zeros_like(y)))\n",
    "            global_positions = file.transform(positions, detector)\n",
    "    \n",
    "            if global_positions_all is None:\n",
    "                global_positions_all = global_positions\n",
    "                event_weights = mon.get_data_column(\"p\")\n",
    "                event_times = mon.get_data_column(\"t\")\n",
    "            else:\n",
    "                global_positions_all = np.vstack((global_positions_all, global_positions))\n",
    "                event_weights = np.concatenate((event_weights, mon.get_data_column(\"p\")))\n",
    "                event_times = np.concatenate((event_times, mon.get_data_column(\"t\")))\n",
    "    \n",
    "        events = sc.DataArray(\n",
    "                data=sc.array(dims=['events'], unit=sc.units.counts, values=event_weights),\n",
    "                coords={\n",
    "                    'position' : sc.vectors(dims=['events'], values=global_positions_all, unit='m'),\n",
    "                    't': sc.array(dims=['events'], unit='s', values=event_times),\n",
    "                    'source_position': sc.vector(source_position, unit='m'),\n",
    "                    'sample_position': sc.vector(sample_position, unit='m'),                \n",
    "                })\n",
    "\n",
    "        return events\n",
    "\n",
    "def read_event_classic(data, source_name=\"Source\", sample_name=\"sample_position\"):\n",
    "    with mcstastox.Read(data[0].original_data_location) as file:\n",
    "        events = file.export_scipp_simple(source_name, sample_name)\n",
    "    \n",
    "        detector_name_1 = \"Banana_large\"\n",
    "        detector_name_2 = \"Banana_small\"\n",
    "        variables_1 = file.get_component_variables(detector_name_1)\n",
    "        variables_2 = file.get_component_variables(detector_name_2)\n",
    "\n",
    "\n",
    "        all_metadata_1 = all(item in variables_1 for item in [\"L\", \"v\", \"U1\", \"U2\"])\n",
    "        all_metadata_2 = all(item in variables_2 for item in [\"L\", \"v\", \"U1\", \"U2\"])\n",
    "        all_metadata = all_metadata_1 and all_metadata_2\n",
    "        \n",
    "        if all_metadata:\n",
    "            raw_event_data_1 = file.get_event_data(variables=[\"id\", \"v\", \"L\", \"U1\", \"U2\"], component_name=detector_name_1)\n",
    "            raw_event_data_2 = file.get_event_data(variables=[\"id\", \"v\", \"L\", \"U1\", \"U2\"], component_name=detector_name_2)\n",
    "            \n",
    "            full_L = np.concatenate((raw_event_data_1[\"L\"], raw_event_data_2[\"L\"]))\n",
    "            events.coords[\"sim_wavelength\"] = sc.array(dims=[\"events\"], values=full_L, unit=\"Å\")\n",
    "            \n",
    "            full_source_time = np.concatenate((raw_event_data_1[\"U1\"], raw_event_data_2[\"U1\"]))\n",
    "            events.coords[\"sim_source_time\"] = sc.array(dims=[\"events\"], values=full_source_time, unit=\"s\")\n",
    "            \n",
    "            full_scattering_order = np.concatenate((raw_event_data_1[\"U2\"], raw_event_data_2[\"U2\"]))\n",
    "            events.coords[\"sim_scattering_order\"] = sc.array(dims=[\"events\"], values=full_scattering_order)\n",
    "            \n",
    "            full_speed = np.concatenate((raw_event_data_1[\"v\"], raw_event_data_2[\"v\"]))\n",
    "            events.coords[\"sim_speed\"] = sc.array(dims=[\"events\"], values=full_speed, unit=\"m/s\")\n",
    "            \n",
    "    events.coords[\"x\"] = sc.array(dims=[\"events\"], values=events.coords[\"position\"].fields.x.values, unit=\"m\")\n",
    "    events.coords[\"y\"] = sc.array(dims=[\"events\"], values=events.coords[\"position\"].fields.y.values, unit=\"m\")\n",
    "    events.coords[\"z\"] = sc.array(dims=[\"events\"], values=events.coords[\"position\"].fields.z.values, unit=\"m\")\n",
    "\n",
    "    return events\n",
    "\n",
    "\n",
    "def analyze(data, union_detectors=False):\n",
    "\n",
    "    if union_detectors:\n",
    "        events = read_event_union(data)\n",
    "    else:\n",
    "        events = read_event_classic(data)\n",
    "    \n",
    "    # McStas provides absolute time, not time of flight\n",
    "    events.coords[\"tof\"] = events.coords[\"t\"] - sc.to_unit(sc.scalar(2.86/2, unit=\"ms\"), \"s\")\n",
    "    \n",
    "    graph = {**beamline(scatter=True), **elastic(\"tof\")}\n",
    "    events = events.transform_coords(\"dspacing\", graph=graph)\n",
    "    events = events.transform_coords(\"wavelength\", graph=graph)\n",
    "\n",
    "    return events\n",
    "\n",
    "def run(par_dict=None, settings_dict=None, union_detectors=False):\n",
    "\n",
    "    if par_dict is None:\n",
    "        par_dict = {}\n",
    "\n",
    "    if settings_dict is None:\n",
    "        settings_dict = {}\n",
    "\n",
    "    if \"NeXus\" not in settings_dict:\n",
    "        settings_dict[\"NeXus\"] = True\n",
    "\n",
    "    instrument = make_powder_instrument.make(union_detectors=False)\n",
    "    instrument.set_parameters(**par_dict)\n",
    "    instrument.settings(**settings_dict)\n",
    "    data = instrument.backengine()\n",
    "\n",
    "    events = analyze(data)\n",
    "\n",
    "    return events\n",
    "\n",
    "def plot_with_dspacings(events, filename, d_min=0):\n",
    "    d_hist = events.hist(dspacing=sc.linspace(\"dspacing\", 0.6, 3.0, num=800, unit=\"Å\", endpoint=False))\n",
    "    max_val = max(d_hist.values)\n",
    "\n",
    "    laz = np.loadtxt(filename)\n",
    "    d_spacings = laz[:, 5]\n",
    "    intensity = laz[:, 11]\n",
    "\n",
    "    intensity_normalized = intensity/intensity.max()\n",
    "\n",
    "    fig =  d_hist.plot()\n",
    "\n",
    "    for d_space, intensity_norm in zip(d_spacings, intensity_normalized):\n",
    "        if d_space > d_min:\n",
    "            fig.ax.plot([d_space, d_space], [0, max_val], \"-k\", alpha=intensity_norm)\n",
    "    \n",
    "    return fig\n",
    "\n",
    "def run_and_plot(par_dict=None, settings_dict=None, union_detectors=False):\n",
    "    events = run(par_dict, settings_dict, union_detectors)\n",
    "\n",
    "    if \"reflections\" in par_dict:\n",
    "        filename = par_dict[\"reflections\"].strip(('\"'))\n",
    "    else:\n",
    "        filename = \"Na2Ca3Al2F14.laz\"\n",
    "    \n",
    "    return plot_with_dspacings(events, filename, d_min=0.5)"
   ]
  },
  {
   "cell_type": "code",
   "execution_count": null,
   "id": "0561791a-7f2c-4ab6-a706-42e0f9ed9c05",
   "metadata": {},
   "outputs": [],
   "source": [
    "instrument = make_powder_instrument.make(union_detectors=False)\n",
    "instrument.show_parameters()"
   ]
  },
  {
   "cell_type": "markdown",
   "id": "2cf11e6e-a208-48c6-a49b-98d8939dbfc7",
   "metadata": {},
   "source": [
    "### Quick run for testing"
   ]
  },
  {
   "cell_type": "code",
   "execution_count": null,
   "id": "81685319-800e-4fb5-8f3c-7f3284f64dd7",
   "metadata": {},
   "outputs": [],
   "source": [
    "pars = dict(reflections='\"Fe.laz\"', frequency_multiplier=3, guide_curve_deg=0, detector_height=1.5)\n",
    "settings = dict(suppress_output=True, ncount=1E8, mpi=10)\n",
    "\n",
    "fig = run_and_plot(pars, settings)\n",
    "fig"
   ]
  },
  {
   "cell_type": "markdown",
   "id": "570e9a5a-903d-4d69-80e5-70294c8ca43a",
   "metadata": {},
   "source": [
    "### Run and work with scipp object directly"
   ]
  },
  {
   "cell_type": "code",
   "execution_count": null,
   "id": "73a97140-5ced-4473-b2f2-d35e8a186277",
   "metadata": {},
   "outputs": [],
   "source": [
    "settings[\"ncount\"]=5E7\n",
    "events = run(pars, settings)"
   ]
  },
  {
   "cell_type": "code",
   "execution_count": null,
   "id": "4e150db3-ca95-4256-8017-9207c26d35cf",
   "metadata": {},
   "outputs": [],
   "source": [
    "graph = {**beamline(scatter=True), **elastic(\"tof\")}\n",
    "events = events.transform_coords(\"wavelength\", graph=graph)\n",
    "\n",
    "events"
   ]
  },
  {
   "cell_type": "code",
   "execution_count": null,
   "id": "a08156a1-b046-4baf-9fd3-4d7c372a4e64",
   "metadata": {},
   "outputs": [],
   "source": [
    "import plopp as pp\n",
    "\n",
    "pp.scatter3d(events[0::3], pos='position', size=0.02, cbar=True, norm=\"linear\")"
   ]
  },
  {
   "cell_type": "code",
   "execution_count": null,
   "id": "504a6c11-8619-40f5-ae54-8f758ad03579",
   "metadata": {},
   "outputs": [],
   "source": [
    "events_binned = events.bin(wavelength=120, two_theta=800)\n",
    "pp.slicer(events_binned.hist(), keep=[\"wavelength\", \"two_theta\"], norm=\"log\", vmax=1E6, vmin=1E-3)"
   ]
  },
  {
   "cell_type": "code",
   "execution_count": null,
   "id": "ae256185-9e3d-4856-a2a2-00e87c829bb6",
   "metadata": {},
   "outputs": [],
   "source": [
    "events_binned = events.bin(sim_wavelength=120, two_theta=800)\n",
    "pp.slicer(events_binned.hist(), keep=[\"sim_wavelength\", \"two_theta\"], norm=\"log\", vmax=1E6, vmin=1E-3)"
   ]
  },
  {
   "cell_type": "code",
   "execution_count": null,
   "id": "b90077b1-9982-4ee7-92f1-87f56a721718",
   "metadata": {},
   "outputs": [],
   "source": [
    "events.hist(t=200).plot()"
   ]
  },
  {
   "cell_type": "markdown",
   "id": "80a15e7a-d826-4d5b-8ab1-a6241aebd26e",
   "metadata": {},
   "source": [
    "### Run instrument directly without the help functions"
   ]
  },
  {
   "cell_type": "code",
   "execution_count": null,
   "id": "cfc9ba35-ff3b-487c-84bc-2edb1f617287",
   "metadata": {},
   "outputs": [],
   "source": [
    "instrument = make_powder_instrument.make(union_detectors=False)"
   ]
  },
  {
   "cell_type": "code",
   "execution_count": null,
   "id": "bc355501-ac80-4d0d-b7f2-36f7b6965c8b",
   "metadata": {},
   "outputs": [],
   "source": [
    "instrument.show_parameters()"
   ]
  },
  {
   "cell_type": "code",
   "execution_count": null,
   "id": "93c5a7be-298f-4d35-b19b-04dbe33fa456",
   "metadata": {},
   "outputs": [],
   "source": [
    "instrument.set_parameters(frequency_multiplier=3, reflections='\"Fe.laz\"')\n",
    "instrument.settings(ncount=3e7, mpi=10, suppress_output=False, NeXus=True, output_path=\"first_run\", custom_flags=\"--bufsiz=100000\")"
   ]
  },
  {
   "cell_type": "code",
   "execution_count": null,
   "id": "3c807166-cfab-4365-ab4d-b3a8ff839d1e",
   "metadata": {},
   "outputs": [],
   "source": [
    "data = instrument.backengine()"
   ]
  },
  {
   "cell_type": "code",
   "execution_count": null,
   "id": "6184112e-4b4c-401c-9cc0-160629dab555",
   "metadata": {},
   "outputs": [],
   "source": [
    "data"
   ]
  },
  {
   "cell_type": "code",
   "execution_count": null,
   "id": "26d0aef4-3333-457c-bb1d-8ae2458d64e7",
   "metadata": {},
   "outputs": [],
   "source": [
    "ms.make_sub_plot(data, log=True, orders_of_mag=5)"
   ]
  },
  {
   "cell_type": "code",
   "execution_count": null,
   "id": "0f8ec62e-5748-43dd-abb2-bcb801958a14",
   "metadata": {},
   "outputs": [],
   "source": [
    "ms.make_sub_plot([data[0].make_2d(\"th\", \"y\"), data[1].make_2d(\"th\", \"y\")], log=True, orders_of_mag=5)"
   ]
  },
  {
   "cell_type": "markdown",
   "id": "eeffde02-ad04-4a15-8ece-02e6e1ec67aa",
   "metadata": {},
   "source": [
    "### Visualize instrument (opens in new window)"
   ]
  },
  {
   "cell_type": "code",
   "execution_count": null,
   "id": "06a06f6b-060e-4c31-995a-b9adc58f656d",
   "metadata": {},
   "outputs": [],
   "source": [
    "#instrument.show_instrument(format=\"window\")"
   ]
  },
  {
   "cell_type": "code",
   "execution_count": null,
   "id": "27c143b1-e301-41d9-a669-734c5c7bc2cd",
   "metadata": {
    "scrolled": true
   },
   "outputs": [],
   "source": [
    "instrument.show_instrument_file()"
   ]
  },
  {
   "cell_type": "code",
   "execution_count": null,
   "id": "10b8d539-0b62-46de-b907-1cb9450e005a",
   "metadata": {},
   "outputs": [],
   "source": [
    "events = analyze(data)\n",
    "events"
   ]
  }
 ],
 "metadata": {
  "kernelspec": {
   "display_name": "Python 3 (ipykernel)",
   "language": "python",
   "name": "python3"
  },
  "language_info": {
   "codemirror_mode": {
    "name": "ipython",
    "version": 3
   },
   "file_extension": ".py",
   "mimetype": "text/x-python",
   "name": "python",
   "nbconvert_exporter": "python",
   "pygments_lexer": "ipython3",
   "version": "3.12.9"
  }
 },
 "nbformat": 4,
 "nbformat_minor": 5
}
