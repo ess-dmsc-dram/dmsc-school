{
 "cells": [
  {
   "cell_type": "markdown",
   "metadata": {},
   "source": [
    "# Fitting data with `easyCore`\n",
    "\n",
    "The `easyCore` library is designed to enable the model-dependent analysis, using a purely Python interface and give access to a range of optimization algorithms. \n",
    "We can perform the analysis of any data for which we have a closed-form mathematical description, the parameters of which we want to refine. \n",
    "\n",
    "In this short demonstration, we will look at how `easyCore` can be used to analyse the toy problem of data that follows a quadratic relationship. \n",
    "We will manufacture some quadratic data to work with below. \n",
    "`easyCore` comes packages with an internal version of `numpy` that we will use throughout and set the random seed to ensure reproducibility in this example. \n"
   ]
  },
  {
   "cell_type": "code",
   "execution_count": null,
   "metadata": {},
   "outputs": [],
   "source": [
    "from easyCore import np\n",
    "\n",
    "np.random.seed(123)\n",
    "\n",
    "a_true = -0.9594\n",
    "b_true = 7.294\n",
    "c_true = 3.102\n",
    "\n",
    "N = 50\n",
    "x = np.sort(10 * np.random.rand(N))\n",
    "yerr = 0.1 + 3 * np.random.rand(N)\n",
    "y = a_true * x ** 2 + b_true * x + c_true\n",
    "y += np.abs(y) * 0.2 * np.random.randn(N)"
   ]
  },
  {
   "cell_type": "markdown",
   "metadata": {},
   "source": [
    "With our data created, lets have a look at it."
   ]
  },
  {
   "cell_type": "code",
   "execution_count": null,
   "metadata": {},
   "outputs": [],
   "source": [
    "import matplotlib.pyplot as plt\n",
    "\n",
    "plt.errorbar(x, y, yerr, marker='.', ls='', color='k')\n",
    "plt.xlabel('x')\n",
    "plt.ylabel('y')\n",
    "plt.show()"
   ]
  },
  {
   "cell_type": "markdown",
   "metadata": {},
   "source": [
    "The data looks reasonable, so we can start to construct the `easyCore` analysis model. \n",
    "\n",
    "This will consist of three parameters, which we will call `a`, `b` and `c`. \n",
    "We will give these initial values that are the same as the true values defined above and cause we want to optimize these parameters, we will set them not to be fixed. "
   ]
  },
  {
   "cell_type": "code",
   "execution_count": null,
   "metadata": {},
   "outputs": [],
   "source": [
    "from easyCore.Objects.Variable import Parameter\n",
    "\n",
    "a = Parameter(name='a', value=a_true, fixed=False)\n",
    "b = Parameter(name='b', value=b_true, fixed=False)\n",
    "c = Parameter(name='c', value=c_true, fixed=False)"
   ]
  },
  {
   "cell_type": "markdown",
   "metadata": {},
   "source": [
    "The mathematical model that we are looking to optimize is\n",
    "\n",
    "```{math}\n",
    ":label: quadratic\n",
    "y = a x ^ 2 + b x + c.\n",
    "```\n",
    "\n",
    "We can create a function that implements this mathematical model as shown below. \n",
    "Note, that it is necessary to include the `*args`, and `**kwargs` arguments and to use the `raw_value` property of each parameter. "
   ]
  },
  {
   "cell_type": "code",
   "execution_count": null,
   "metadata": {},
   "outputs": [],
   "source": [
    "def math_model(x, *args, **kwargs):\n",
    "    return a.raw_value * x ** 2 + b.raw_value * x + c.raw_value"
   ]
  },
  {
   "cell_type": "markdown",
   "metadata": {},
   "source": [
    "We can now plot the initial guess of this mathematical model along with the experimental data.  "
   ]
  },
  {
   "cell_type": "code",
   "execution_count": null,
   "metadata": {},
   "outputs": [],
   "source": [
    "plt.errorbar(x, y, yerr, marker='.', ls='', color='k')\n",
    "plt.plot(x, math_model(x), '-')\n",
    "plt.xlabel('$x$')\n",
    "plt.ylabel('$y$')\n",
    "plt.show()"
   ]
  },
  {
   "cell_type": "markdown",
   "metadata": {},
   "source": [
    "Now we can begin the process of using `easyCore` to optimize the parameters `a`, `b`, and `c` and therefore fit the model to the data.\n",
    "First, we create a `BaseObj` that collects together the parameters to be optimized and then, using this and our mathematical model, create a `Fitter`. "
   ]
  },
  {
   "cell_type": "code",
   "execution_count": null,
   "metadata": {},
   "outputs": [],
   "source": [
    "from easyCore.Objects.ObjectClasses import BaseObj\n",
    "from easyCore.Fitting.Fitting import Fitter\n",
    "\n",
    "quad = BaseObj(name='quad', a=a, b=b, c=c)\n",
    "f = Fitter(quad, math_model)"
   ]
  },
  {
   "cell_type": "markdown",
   "metadata": {},
   "source": [
    "We can then use `easyCore` to obtain the {term}`maximum likelihood estimation` (MLE) parameters for the quadratic model.\n",
    "The `y` describes the position of the normal distributions for the data while the `weights` the reciprocal of their width."
   ]
  },
  {
   "cell_type": "code",
   "execution_count": null,
   "metadata": {},
   "outputs": [],
   "source": [
    "res = f.fit(x=x, y=y, weights=1/yerr)"
   ]
  },
  {
   "cell_type": "markdown",
   "metadata": {},
   "source": [
    "With the MLE found, we can print the paramaters out to see the optimized values and estimated statistical uncertainties. "
   ]
  },
  {
   "cell_type": "code",
   "execution_count": null,
   "metadata": {},
   "outputs": [],
   "source": [
    "a, b, c"
   ]
  },
  {
   "cell_type": "markdown",
   "metadata": {},
   "source": [
    "Additionally, we can thne plot the optimized model with the data. "
   ]
  },
  {
   "cell_type": "code",
   "execution_count": null,
   "metadata": {},
   "outputs": [],
   "source": [
    "plt.errorbar(x, y, yerr, marker='.', ls='', color='k')\n",
    "plt.plot(x, math_model(x), '-')\n",
    "plt.xlabel('$x$')\n",
    "plt.ylabel('$y$')\n",
    "plt.show()"
   ]
  },
  {
   "cell_type": "markdown",
   "metadata": {},
   "source": [
    "This approach to use `easyCore` for the optimization of mathematical models can be applied to many different use cases, including in neutron scattering. \n",
    "In the exercises, you will look to analyse your simulated and reduced data using `easyCore`. "
   ]
  }
 ],
 "metadata": {
  "kernelspec": {
   "display_name": "summer-school",
   "language": "python",
   "name": "python3"
  },
  "language_info": {
   "codemirror_mode": {
    "name": "ipython",
    "version": 3
   },
   "file_extension": ".py",
   "mimetype": "text/x-python",
   "name": "python",
   "nbconvert_exporter": "python",
   "pygments_lexer": "ipython3",
   "version": "3.10.12"
  },
  "orig_nbformat": 4
 },
 "nbformat": 4,
 "nbformat_minor": 2
}
