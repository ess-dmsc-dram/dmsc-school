{
 "cells": [
  {
   "cell_type": "markdown",
   "id": "9ac76e6f-c896-43b7-bdd6-5808b22bc7b8",
   "metadata": {},
   "source": [
    "# Scicat Widgets"
   ]
  },
  {
   "cell_type": "code",
   "execution_count": null,
   "id": "baf24b4d",
   "metadata": {},
   "outputs": [],
   "source": [
    "import sys\n",
    "\n",
    "sys.path.append(\"../tools\")"
   ]
  },
  {
   "cell_type": "code",
   "execution_count": null,
   "id": "bb098c2b",
   "metadata": {},
   "outputs": [],
   "source": [
    "import scipp as sc\n",
    "\n",
    "example_metadata = {\n",
    "    \"sample-name\": \"Iron\",\n",
    "    \"sample-width\": sc.scalar(0.01, unit=\"m\"),\n",
    "    \"sample-height\": 0.2,\n",
    "    \"invalid-metadata\": sc.array(dims=[\"x\"], values=[1, 2, 3], unit=\"m\"),\n",
    "}"
   ]
  },
  {
   "cell_type": "code",
   "execution_count": null,
   "id": "323b2f07-af0f-47bf-adfd-14c59bcbe620",
   "metadata": {},
   "outputs": [],
   "source": [
    "from scicat_widgets import upload_widget\n",
    "\n",
    "upload_wg = upload_widget(metadata_registry=example_metadata)"
   ]
  },
  {
   "cell_type": "code",
   "execution_count": null,
   "id": "85c4199c",
   "metadata": {},
   "outputs": [],
   "source": [
    "from scicat_widgets import download_widget\n",
    "\n",
    "download_registry = {}\n",
    "download_wg = download_widget(download_registry=download_registry)"
   ]
  }
 ],
 "metadata": {
  "kernelspec": {
   "display_name": "dmsc-school",
   "language": "python",
   "name": "python3"
  },
  "language_info": {
   "codemirror_mode": {
    "name": "ipython",
    "version": 3
   },
   "file_extension": ".py",
   "mimetype": "text/x-python",
   "name": "python",
   "nbconvert_exporter": "python",
   "pygments_lexer": "ipython3",
   "version": "3.12.11"
  },
  "orphan": true
 },
 "nbformat": 4,
 "nbformat_minor": 5
}
