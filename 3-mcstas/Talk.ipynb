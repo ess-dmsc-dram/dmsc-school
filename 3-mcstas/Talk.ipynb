{
 "cells": [
  {
   "cell_type": "code",
   "execution_count": null,
   "metadata": {},
   "outputs": [],
   "source": [
    "%matplotlib widget"
   ]
  },
  {
   "cell_type": "markdown",
   "id": "polyphonic-waste",
   "metadata": {
    "editable": true,
    "slideshow": {
     "slide_type": "slide"
    },
    "tags": []
   },
   "source": [
    "# Simulation session\n",
    "- Theory on Monte Carlo ray-tracing simulations\n",
    "- Introduction to the McStas package\n",
    "- Learn basics of the Python API McStasScript"
   ]
  },
  {
   "cell_type": "markdown",
   "id": "numeric-situation",
   "metadata": {
    "editable": true,
    "slideshow": {
     "slide_type": "slide"
    },
    "tags": []
   },
   "source": [
    "## Monte Carlo"
   ]
  },
  {
   "cell_type": "code",
   "execution_count": null,
   "id": "violent-hearing",
   "metadata": {
    "editable": true,
    "slideshow": {
     "slide_type": "-"
    },
    "tags": []
   },
   "outputs": [],
   "source": [
    "import monte_carlo\n",
    "%matplotlib widget\n",
    "monte_carlo.example_interactive(square_side_length=1.0)"
   ]
  },
  {
   "cell_type": "markdown",
   "id": "infinite-retreat",
   "metadata": {
    "editable": true,
    "slideshow": {
     "slide_type": "slide"
    },
    "tags": []
   },
   "source": [
    "## Monte Carlo ray-tracing\n",
    "### Random starting position and direction"
   ]
  },
  {
   "cell_type": "code",
   "execution_count": null,
   "id": "institutional-trial",
   "metadata": {
    "editable": true,
    "slideshow": {
     "slide_type": ""
    },
    "tags": []
   },
   "outputs": [],
   "source": [
    "import simple_simulator\n",
    "sim = simple_simulator.Simulator()\n",
    "src = sim.add_component(\"Source\", width=0.1, height=0.1, angle_spread=30)\n",
    "sim.add_component(\"Propagator\", distance=0.1)\n",
    "\n",
    "rays = sim.run(num_rays=15)\n",
    "sim.visualize(rays, show_coordinates=False)"
   ]
  },
  {
   "cell_type": "markdown",
   "id": "enormous-latino",
   "metadata": {
    "editable": true,
    "slideshow": {
     "slide_type": "slide"
    },
    "tags": []
   },
   "source": [
    "### Example with guide"
   ]
  },
  {
   "cell_type": "code",
   "execution_count": null,
   "id": "peaceful-raleigh",
   "metadata": {
    "editable": true,
    "slideshow": {
     "slide_type": ""
    },
    "tags": []
   },
   "outputs": [],
   "source": [
    "import ray_tracer_examples\n",
    "sim = ray_tracer_examples.guide()\n",
    "\n",
    "rays = sim.run(num_rays=20)\n",
    "sim.visualize(rays)"
   ]
  },
  {
   "cell_type": "markdown",
   "id": "welsh-medium",
   "metadata": {
    "editable": true,
    "slideshow": {
     "slide_type": "slide"
    },
    "tags": []
   },
   "source": [
    "### Complex example"
   ]
  },
  {
   "cell_type": "code",
   "execution_count": null,
   "id": "unlimited-procedure",
   "metadata": {
    "editable": true,
    "slideshow": {
     "slide_type": ""
    },
    "tags": []
   },
   "outputs": [],
   "source": [
    "import ray_tracer_examples\n",
    "sim = ray_tracer_examples.large()\n",
    "\n",
    "rays = sim.run(num_rays=100)\n",
    "sim.visualize(rays)"
   ]
  },
  {
   "cell_type": "markdown",
   "id": "searching-uniform",
   "metadata": {
    "editable": true,
    "slideshow": {
     "slide_type": "slide"
    },
    "tags": []
   },
   "source": [
    "## Monte Carlo ray-tracing in Neutron Scattering\n",
    "- Used to simulate the facility\n",
    "    - Target\n",
    "    - Moderator\n",
    "    - Guides\n",
    "    - Choppers\n",
    "    - Sample\n",
    "    - Detectors\n",
    "    - ...\n",
    "- Predict performance\n",
    "- Optimize source / instruments"
   ]
  },
  {
   "cell_type": "markdown",
   "id": "caring-latest",
   "metadata": {
    "editable": true,
    "slideshow": {
     "slide_type": "slide"
    },
    "tags": []
   },
   "source": [
    "## McStas\n",
    "McStas was originally created in Denmark and is celebrating its 25th anniversary this year!\n",
    "\n",
    "- Allows user to simulate an instrument through sequence of components place in space\n",
    "- Has large component library\n",
    "- Relatively easy to create new components\n",
    "\n",
    "### Technical\n",
    "- C programming language and code generation\n",
    "- C-meta language for instrument file that describes simulation"
   ]
  },
  {
   "cell_type": "markdown",
   "id": "adequate-delay",
   "metadata": {
    "editable": true,
    "slideshow": {
     "slide_type": "slide"
    },
    "tags": []
   },
   "source": [
    "### Coordinate system\n",
    "- x: left, looking in the beam direction\n",
    "- y: upwards, against gravity\n",
    "- z: beam direction "
   ]
  },
  {
   "cell_type": "code",
   "execution_count": null,
   "id": "boring-residence",
   "metadata": {
    "editable": true,
    "slideshow": {
     "slide_type": ""
    },
    "tags": []
   },
   "outputs": [],
   "source": [
    "import simple_simulator\n",
    "sim = simple_simulator.Simulator()\n",
    "src = sim.add_component(\"Source\", width=0.1, height=0.1, angle_spread=3)\n",
    "sim.add_component(\"Propagator\", distance=0.1)\n",
    "\n",
    "rays = sim.run(num_rays=5)\n",
    "sim.visualize(rays, show_coordinates=0.06)"
   ]
  },
  {
   "cell_type": "code",
   "execution_count": null,
   "id": "stunning-photograph",
   "metadata": {
    "editable": true,
    "slideshow": {
     "slide_type": "slide"
    },
    "tags": []
   },
   "outputs": [],
   "source": [
    "sim = simple_simulator.Simulator()\n",
    "\n",
    "src = sim.add_component(\"Source\", width=0.05, height=0.05, angle_spread=3)\n",
    "guide = sim.add_component(\"Guide\", width=0.07, height=0.07, length=2,\n",
    "                          position=[0,0,0.75], rotation=[0,0,0])\n",
    "monitor = sim.add_component(\"Monitor\", nx=20, ny=20, width=0.08, height=0.08,\n",
    "                            position=[0,0,guide.length + 0.2], relative=guide)\n",
    "\n",
    "rays = sim.run(num_rays=5)\n",
    "sim.visualize(rays, show_coordinates=[0.06, 0.06, 0.25])"
   ]
  },
  {
   "cell_type": "code",
   "execution_count": null,
   "id": "impressed-shark",
   "metadata": {
    "editable": true,
    "slideshow": {
     "slide_type": "slide"
    },
    "tags": []
   },
   "outputs": [],
   "source": [
    "import ray_tracer_examples\n",
    "sim = ray_tracer_examples.large()\n",
    "rays = sim.run(num_rays=20)\n",
    "sim.visualize(rays, show_coordinates=[0.06, 0.06, 0.1])"
   ]
  },
  {
   "cell_type": "markdown",
   "id": "hazardous-hacker",
   "metadata": {
    "editable": true,
    "slideshow": {
     "slide_type": "slide"
    },
    "tags": []
   },
   "source": [
    "### Units in McStas\n",
    "Components can be contributed and could use any unit. Commonly SI + meV and \u00c5.\n",
    "\n",
    "Positions and rotation of components always in meters and degrees."
   ]
  },
  {
   "cell_type": "markdown",
   "id": "expanded-nepal",
   "metadata": {
    "editable": true,
    "slideshow": {
     "slide_type": "slide"
    },
    "tags": []
   },
   "source": [
    "## McStasScript Python API\n",
    "There exists a Python API to run McStas, here we will go through how to make a simple simulation."
   ]
  },
  {
   "cell_type": "markdown",
   "id": "retired-adrian",
   "metadata": {
    "editable": true,
    "slideshow": {
     "slide_type": "slide"
    },
    "tags": []
   },
   "source": [
    "### Import the McStasScript package"
   ]
  },
  {
   "cell_type": "code",
   "execution_count": null,
   "id": "mexican-nelson",
   "metadata": {
    "editable": true,
    "slideshow": {
     "slide_type": ""
    },
    "tags": []
   },
   "outputs": [],
   "source": [
    "import mcstasscript as ms"
   ]
  },
  {
   "cell_type": "markdown",
   "id": "administrative-smoke",
   "metadata": {
    "editable": true,
    "slideshow": {
     "slide_type": "slide"
    },
    "tags": []
   },
   "source": [
    "### Create instrument object"
   ]
  },
  {
   "cell_type": "code",
   "execution_count": null,
   "id": "material-publicity",
   "metadata": {
    "editable": true,
    "slideshow": {
     "slide_type": ""
    },
    "tags": []
   },
   "outputs": [],
   "source": [
    "instrument = ms.McStas_instr(\"python_tutorial\")"
   ]
  },
  {
   "cell_type": "markdown",
   "id": "ordinary-bumper",
   "metadata": {
    "editable": true,
    "slideshow": {
     "slide_type": "slide"
    },
    "tags": []
   },
   "source": [
    "### See available components"
   ]
  },
  {
   "cell_type": "code",
   "execution_count": null,
   "id": "animal-slovakia",
   "metadata": {
    "editable": true,
    "slideshow": {
     "slide_type": ""
    },
    "tags": []
   },
   "outputs": [],
   "source": [
    "instrument.available_components()"
   ]
  },
  {
   "cell_type": "code",
   "execution_count": null,
   "id": "compliant-disclaimer",
   "metadata": {
    "editable": true,
    "slideshow": {
     "slide_type": ""
    },
    "tags": []
   },
   "outputs": [],
   "source": [
    "instrument.available_components(\"sources\")"
   ]
  },
  {
   "cell_type": "markdown",
   "id": "representative-trinidad",
   "metadata": {
    "editable": true,
    "slideshow": {
     "slide_type": "slide"
    },
    "tags": []
   },
   "source": [
    "### Get help for any component"
   ]
  },
  {
   "cell_type": "code",
   "execution_count": null,
   "id": "liberal-composition",
   "metadata": {
    "editable": true,
    "slideshow": {
     "slide_type": ""
    },
    "tags": []
   },
   "outputs": [],
   "source": [
    "instrument.component_help(\"Source_div\")"
   ]
  },
  {
   "cell_type": "markdown",
   "id": "prerequisite-beauty",
   "metadata": {
    "editable": true,
    "slideshow": {
     "slide_type": "slide"
    },
    "tags": []
   },
   "source": [
    "### Add a component to the instrument"
   ]
  },
  {
   "cell_type": "code",
   "execution_count": null,
   "id": "spiritual-volleyball",
   "metadata": {
    "editable": true,
    "slideshow": {
     "slide_type": ""
    },
    "tags": []
   },
   "outputs": [],
   "source": [
    "src = instrument.add_component(\"source\", \"Source_div\")\n",
    "instrument.show_components()"
   ]
  },
  {
   "cell_type": "code",
   "execution_count": null,
   "id": "prostate-bullet",
   "metadata": {
    "editable": true,
    "slideshow": {
     "slide_type": ""
    },
    "tags": []
   },
   "outputs": [],
   "source": [
    "print(src)"
   ]
  },
  {
   "cell_type": "markdown",
   "id": "underlying-exception",
   "metadata": {
    "editable": true,
    "slideshow": {
     "slide_type": "slide"
    },
    "tags": []
   },
   "source": [
    "### Set component parameters"
   ]
  },
  {
   "cell_type": "code",
   "execution_count": null,
   "id": "hybrid-vegetation",
   "metadata": {
    "editable": true,
    "slideshow": {
     "slide_type": ""
    },
    "tags": []
   },
   "outputs": [],
   "source": [
    "src.set_parameters(xwidth=0.1, yheight=0.05,\n",
    "                   focus_aw=1.2, focus_ah=2.3)\n",
    "print(src)"
   ]
  },
  {
   "cell_type": "markdown",
   "id": "plain-worcester",
   "metadata": {
    "editable": true,
    "slideshow": {
     "slide_type": "slide"
    },
    "tags": []
   },
   "source": [
    "### See all parameters"
   ]
  },
  {
   "cell_type": "code",
   "execution_count": null,
   "id": "musical-dominant",
   "metadata": {
    "editable": true,
    "slideshow": {
     "slide_type": ""
    },
    "tags": []
   },
   "outputs": [],
   "source": [
    "src.show_parameters()"
   ]
  },
  {
   "cell_type": "markdown",
   "id": "coated-covering",
   "metadata": {
    "editable": true,
    "slideshow": {
     "slide_type": "slide"
    },
    "tags": []
   },
   "source": [
    "### Add instrument parameters"
   ]
  },
  {
   "cell_type": "code",
   "execution_count": null,
   "id": "selective-appeal",
   "metadata": {
    "editable": true,
    "slideshow": {
     "slide_type": ""
    },
    "tags": []
   },
   "outputs": [],
   "source": [
    "wavelength_par = instrument.add_parameter(\"wavelength\", value=5.0,\n",
    "                                      comment=\"Wavelength in [Ang]\")\n",
    "\n",
    "wavelength_spread_par = instrument.add_parameter(\"wavelength_spread\", value=1.2,\n",
    "                                      comment=\"Wavelength spread in [Ang]\")"
   ]
  },
  {
   "cell_type": "code",
   "execution_count": null,
   "id": "dominican-notebook",
   "metadata": {
    "editable": true,
    "slideshow": {
     "slide_type": ""
    },
    "tags": []
   },
   "outputs": [],
   "source": [
    "src.set_parameters(lambda0=wavelength_par, dlambda=\"wavelength_spread\")\n",
    "print(src)"
   ]
  },
  {
   "cell_type": "markdown",
   "id": "written-database",
   "metadata": {
    "editable": true,
    "slideshow": {
     "slide_type": "slide"
    },
    "tags": []
   },
   "source": [
    "### Place components in space"
   ]
  },
  {
   "cell_type": "code",
   "execution_count": null,
   "id": "functional-courage",
   "metadata": {
    "editable": true,
    "slideshow": {
     "slide_type": ""
    },
    "tags": []
   },
   "outputs": [],
   "source": [
    "guide_A = instrument.add_component(\"guide_A\", \"Guide_gravity\")\n",
    "guide_A.set_parameters(w1=0.05, h1=0.05, l=5, m=2.5)\n",
    "guide_A.set_AT([0, 0, 2], RELATIVE=\"source\")"
   ]
  },
  {
   "cell_type": "code",
   "execution_count": null,
   "id": "aware-frequency",
   "metadata": {
    "editable": true,
    "slideshow": {
     "slide_type": ""
    },
    "tags": []
   },
   "outputs": [],
   "source": [
    "guide_B = instrument.add_component(\"guide_B\", \"Guide_gravity\")\n",
    "guide_B.set_parameters(w1=0.05, h1=0.05, l=5, m=2.5)\n",
    "guide_B.set_AT([0, 0, guide_A.l + 0.2], RELATIVE=guide_A)"
   ]
  },
  {
   "cell_type": "markdown",
   "id": "closed-bidding",
   "metadata": {
    "editable": true,
    "slideshow": {
     "slide_type": "slide"
    },
    "tags": []
   },
   "source": [
    "### Place a monitor component"
   ]
  },
  {
   "cell_type": "code",
   "execution_count": null,
   "id": "canadian-hamburg",
   "metadata": {
    "editable": true,
    "slideshow": {
     "slide_type": ""
    },
    "tags": []
   },
   "outputs": [],
   "source": [
    "mon = instrument.add_component(\"monitor\", \"PSD_monitor\")\n",
    "mon.set_parameters(nx=100, ny=100, filename='\"PSD.dat\"',\n",
    "                   xwidth=0.05, yheight=0.05, restore_neutron=1)\n",
    "mon.set_AT([0, 0, guide_B.l + 0.5], RELATIVE=guide_B)"
   ]
  },
  {
   "cell_type": "markdown",
   "id": "pressing-radar",
   "metadata": {
    "editable": true,
    "slideshow": {
     "slide_type": "slide"
    },
    "tags": []
   },
   "source": [
    "### See geometry"
   ]
  },
  {
   "cell_type": "code",
   "execution_count": null,
   "id": "immune-teaching",
   "metadata": {
    "editable": true,
    "slideshow": {
     "slide_type": ""
    },
    "tags": []
   },
   "outputs": [],
   "source": [
    "instrument.show_instrument()"
   ]
  },
  {
   "cell_type": "markdown",
   "id": "behind-might",
   "metadata": {
    "editable": true,
    "slideshow": {
     "slide_type": "slide"
    },
    "tags": []
   },
   "source": [
    "### Get overview of component sequence"
   ]
  },
  {
   "cell_type": "code",
   "execution_count": null,
   "id": "legitimate-liberia",
   "metadata": {
    "editable": true,
    "slideshow": {
     "slide_type": ""
    },
    "tags": []
   },
   "outputs": [],
   "source": [
    "instrument.show_components()"
   ]
  },
  {
   "cell_type": "markdown",
   "id": "classified-spank",
   "metadata": {
    "editable": true,
    "slideshow": {
     "slide_type": "slide"
    },
    "tags": []
   },
   "source": [
    "### Place a component earlier in the sequence"
   ]
  },
  {
   "cell_type": "code",
   "execution_count": null,
   "id": "pending-alert",
   "metadata": {
    "editable": true,
    "slideshow": {
     "slide_type": ""
    },
    "tags": []
   },
   "outputs": [],
   "source": [
    "mon = instrument.add_component(\"monitor_in_guide\", \"PSD_monitor\", after=\"guide_A\")\n",
    "mon.set_parameters(nx=100, ny=100, filename='\"PSD_in_guide.dat\"',\n",
    "                   xwidth=0.05, yheight=0.05, restore_neutron=1)\n",
    "mon.set_AT([0, 0, guide_A.l + 0.1], RELATIVE=guide_A)"
   ]
  },
  {
   "cell_type": "markdown",
   "id": "appointed-compiler",
   "metadata": {
    "editable": true,
    "slideshow": {
     "slide_type": "slide"
    },
    "tags": []
   },
   "source": [
    "### See diagram of instrument sequence"
   ]
  },
  {
   "cell_type": "code",
   "execution_count": null,
   "id": "unsigned-washer",
   "metadata": {
    "editable": true,
    "scrolled": true,
    "slideshow": {
     "slide_type": ""
    },
    "tags": []
   },
   "outputs": [],
   "source": [
    "instrument.show_diagram()"
   ]
  },
  {
   "cell_type": "markdown",
   "id": "neither-pharmacology",
   "metadata": {
    "editable": true,
    "slideshow": {
     "slide_type": "slide"
    },
    "tags": []
   },
   "source": [
    "## Executing the simulation\n",
    "### See what parameters are available"
   ]
  },
  {
   "cell_type": "code",
   "execution_count": null,
   "id": "continental-matrix",
   "metadata": {
    "editable": true,
    "slideshow": {
     "slide_type": ""
    },
    "tags": []
   },
   "outputs": [],
   "source": [
    "instrument.show_parameters()"
   ]
  },
  {
   "cell_type": "markdown",
   "id": "fixed-sydney",
   "metadata": {
    "editable": true,
    "slideshow": {
     "slide_type": ""
    },
    "tags": []
   },
   "source": [
    "### Set parameters"
   ]
  },
  {
   "cell_type": "code",
   "execution_count": null,
   "id": "latin-blond",
   "metadata": {
    "editable": true,
    "slideshow": {
     "slide_type": ""
    },
    "tags": []
   },
   "outputs": [],
   "source": [
    "instrument.set_parameters(wavelength=2.8)\n",
    "instrument.show_parameters()"
   ]
  },
  {
   "cell_type": "markdown",
   "id": "eleven-venue",
   "metadata": {
    "editable": true,
    "slideshow": {
     "slide_type": "slide"
    },
    "tags": []
   },
   "source": [
    "### McStas settings"
   ]
  },
  {
   "cell_type": "code",
   "execution_count": null,
   "id": "colonial-daniel",
   "metadata": {
    "editable": true,
    "slideshow": {
     "slide_type": ""
    },
    "tags": []
   },
   "outputs": [],
   "source": [
    "instrument.settings(ncount=5E6, output_path=\"mcstas_data_set\", suppress_output=True)\n",
    "instrument.show_settings()"
   ]
  },
  {
   "cell_type": "markdown",
   "id": "outer-telling",
   "metadata": {
    "editable": true,
    "slideshow": {
     "slide_type": "slide"
    },
    "tags": []
   },
   "source": [
    "### Execute the simulation"
   ]
  },
  {
   "cell_type": "code",
   "execution_count": null,
   "id": "legal-cancellation",
   "metadata": {
    "editable": true,
    "slideshow": {
     "slide_type": ""
    },
    "tags": [
     "hide-output"
    ]
   },
   "outputs": [],
   "source": [
    "data = instrument.backengine()"
   ]
  },
  {
   "cell_type": "markdown",
   "id": "amended-cholesterol",
   "metadata": {
    "editable": true,
    "slideshow": {
     "slide_type": "slide"
    },
    "tags": []
   },
   "source": [
    "### Plot the data"
   ]
  },
  {
   "cell_type": "code",
   "execution_count": null,
   "id": "manual-excuse",
   "metadata": {
    "editable": true,
    "slideshow": {
     "slide_type": ""
    },
    "tags": []
   },
   "outputs": [],
   "source": [
    "ms.make_sub_plot(data, figsize=(10, 4))"
   ]
  },
  {
   "cell_type": "markdown",
   "id": "national-latest",
   "metadata": {
    "editable": true,
    "slideshow": {
     "slide_type": "slide"
    },
    "tags": []
   },
   "source": [
    "### Run with different parameters"
   ]
  },
  {
   "cell_type": "code",
   "execution_count": null,
   "id": "delayed-threshold",
   "metadata": {
    "editable": true,
    "slideshow": {
     "slide_type": ""
    },
    "tags": [
     "hide-output"
    ]
   },
   "outputs": [],
   "source": [
    "instrument.set_parameters(wavelength=0.8, wavelength_spread=0.1)\n",
    "instrument.settings(ncount=1E8, mpi=6)\n",
    "data = instrument.backengine()"
   ]
  },
  {
   "cell_type": "code",
   "execution_count": null,
   "id": "binding-stewart",
   "metadata": {
    "editable": true,
    "slideshow": {
     "slide_type": ""
    },
    "tags": []
   },
   "outputs": [],
   "source": [
    "ms.make_sub_plot(data, figsize=(10, 4))"
   ]
  },
  {
   "cell_type": "markdown",
   "id": "472b92fb-fa56-4ade-81ab-cd0a896d76f6",
   "metadata": {
    "editable": true,
    "slideshow": {
     "slide_type": ""
    },
    "tags": []
   },
   "source": [
    "### Use interactive interface"
   ]
  },
  {
   "cell_type": "code",
   "execution_count": null,
   "id": "322f8e39-817c-4b7c-9d61-7e3184289edc",
   "metadata": {
    "editable": true,
    "slideshow": {
     "slide_type": ""
    },
    "tags": []
   },
   "outputs": [],
   "source": [
    "%matplotlib widget"
   ]
  },
  {
   "cell_type": "code",
   "execution_count": null,
   "id": "736755f6-e219-4cea-baff-0f552a158647",
   "metadata": {
    "editable": true,
    "slideshow": {
     "slide_type": ""
    },
    "tags": []
   },
   "outputs": [],
   "source": [
    "from mcstasscript.jb_interface import show\n",
    "show(instrument)"
   ]
  },
  {
   "cell_type": "markdown",
   "id": "figured-hundred",
   "metadata": {
    "editable": true,
    "slideshow": {
     "slide_type": "slide"
    },
    "tags": []
   },
   "source": [
    "## Exercises\n",
    "\n",
    "Two choices:\n",
    "- Elastic: Small Angle Neutron Scattering SANS\n",
    "- Inelastic: Quasi-Elastic Neutron Scattering QENS\n",
    "\n",
    "In both you will get an instrument and change it slightly.\n",
    "\n",
    "There will be quiz questions to guide you with feedback.\n",
    "\n",
    "In the coming days you will continue working with the data you generate today!"
   ]
  },
  {
   "cell_type": "code",
   "execution_count": null,
   "id": "sixth-individual",
   "metadata": {},
   "outputs": [],
   "source": [
    "import quizlib\n",
    "quiz = quizlib.SANS_Quiz()"
   ]
  },
  {
   "cell_type": "code",
   "execution_count": null,
   "id": "integrated-arena",
   "metadata": {},
   "outputs": [],
   "source": [
    "quiz.question_1()"
   ]
  }
 ],
 "metadata": {
  "celltoolbar": "Slideshow",
  "kernelspec": {
   "display_name": "Python 3 (ipykernel)",
   "language": "python",
   "name": "python3"
  },
  "language_info": {
   "codemirror_mode": {
    "name": "ipython",
    "version": 3
   },
   "file_extension": ".py",
   "mimetype": "text/x-python",
   "name": "python",
   "nbconvert_exporter": "python",
   "pygments_lexer": "ipython3",
   "version": "3.10.14"
  },
  "orphan": true
 },
 "nbformat": 4,
 "nbformat_minor": 5
}
