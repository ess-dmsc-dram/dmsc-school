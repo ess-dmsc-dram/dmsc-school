{
 "cells": [
  {
   "cell_type": "markdown",
   "metadata": {
    "tags": []
   },
   "source": [
    "# Data arrays with Numpy\n",
    "\n",
    "Numpy is an ubiquitously used Python library, especially in the scientific community.\n",
    "It provides fast multi-dimensional arrays of data such as integers or floating-point values.\n",
    "Many other Python libraries for higher-level functionality such as plotting or fitting work with Numpy arrays.\n",
    "\n",
    "Numpy is typically imported under the name `np`:"
   ]
  },
  {
   "cell_type": "code",
   "execution_count": null,
   "metadata": {
    "tags": []
   },
   "outputs": [],
   "source": [
    "import numpy as np"
   ]
  },
  {
   "cell_type": "markdown",
   "metadata": {},
   "source": [
    "## Creating arrays\n",
    "\n",
    "### Overview\n",
    "\n",
    "Commonly, Numpy arrays are created with either a pattern, or from an existing Python array-like such as a `list`:"
   ]
  },
  {
   "cell_type": "code",
   "execution_count": null,
   "metadata": {},
   "outputs": [],
   "source": [
    "a = np.array([1.5, 3.5, 4.5])\n",
    "# Just typing the name of a variable will print its representation\n",
    "a"
   ]
  },
  {
   "cell_type": "markdown",
   "metadata": {},
   "source": [
    "More examples:"
   ]
  },
  {
   "cell_type": "code",
   "execution_count": null,
   "metadata": {},
   "outputs": [],
   "source": [
    "print(np.zeros(4))\n",
    "print(np.ones(3))\n",
    "print(np.arange(5))\n",
    "print(np.arange(1.5, 1.6, step=0.01))\n",
    "print(np.linspace(100, 1000, num=7))\n",
    "print(np.random.rand(4))  # uniform in [0,1)"
   ]
  },
  {
   "cell_type": "markdown",
   "metadata": {},
   "source": [
    "Multi-dimensional arrays are created either by specifying a `shape` argument, or by using `reshape`:"
   ]
  },
  {
   "cell_type": "code",
   "execution_count": null,
   "metadata": {},
   "outputs": [],
   "source": [
    "a = np.zeros(shape=(4, 3))\n",
    "a"
   ]
  },
  {
   "cell_type": "code",
   "execution_count": null,
   "metadata": {},
   "outputs": [],
   "source": [
    "a = np.array([1, 2, 3, 4, 5, 6]).reshape((2, 3))\n",
    "a"
   ]
  },
  {
   "cell_type": "markdown",
   "metadata": {},
   "source": [
    "It is important to note that the *last* size in the `shape` argument is the *inner* index, i.e., Numpy uses C-style order for arrays (unless specified otherwise, see the `order` parameter, e.g., https://docs.scipy.org/doc/numpy/reference/generated/numpy.zeros.html).\n",
    "\n",
    "Some functions do not have a `shape` argument but accept multiple sizes instead:"
   ]
  },
  {
   "cell_type": "code",
   "execution_count": null,
   "metadata": {},
   "outputs": [],
   "source": [
    "np.random.rand(4, 3)"
   ]
  },
  {
   "cell_type": "markdown",
   "metadata": {},
   "source": [
    "### Data types\n",
    "\n",
    "Numpy arrays supports a variety of data-types (`dtype`).\n",
    "The most commonly used ones are integers and floating-point numbers in either double-precison or single-precision.\n",
    "By default `dtype` is inferred from the values used for initialization.\n",
    "To control it, many functions support a `dtype` keyword argument.\n",
    "For explicit conversion `astype()` can be used:"
   ]
  },
  {
   "cell_type": "code",
   "execution_count": null,
   "metadata": {},
   "outputs": [],
   "source": [
    "print(np.arange(5))\n",
    "print(np.arange(5.0))\n",
    "print(np.arange(5, dtype=np.float32))\n",
    "print(np.arange(5).astype(np.float32))"
   ]
  },
  {
   "cell_type": "markdown",
   "metadata": {},
   "source": [
    "Note that the printed representation does not include the precision (32-bit vs. 64-bit).\n",
    "The `dtype` property provides this:"
   ]
  },
  {
   "cell_type": "code",
   "execution_count": null,
   "metadata": {},
   "outputs": [],
   "source": [
    "print(np.arange(5.0).dtype)  # 64-bit since Python's float is 64 bit\n",
    "print(np.arange(5, dtype=np.float32).dtype)"
   ]
  },
  {
   "cell_type": "markdown",
   "metadata": {},
   "source": [
    "## Slicing and views\n",
    "\n",
    "### Basics\n",
    "\n",
    "Much of the power of Numpy comes from its convenient slicing-syntax, a generalization of slicing known from the Python builtin `list`.\n",
    "A recap of slicing for `list`:"
   ]
  },
  {
   "cell_type": "code",
   "execution_count": null,
   "metadata": {},
   "outputs": [],
   "source": [
    "l = list(range(8))  # NOT a numpy array\n",
    "print(l)  # the full list\n",
    "print(l[4])  # fifth item in the list\n",
    "print(l[-2])  # second item from the back of the list\n",
    "print(l[:2])  # range -> first two items\n",
    "print(l[3:5])  # range -> items 3 to 5 (exclusive)\n",
    "print(l[1:7:2])  # range -> items 1 to 7 (exclusive), with stride 2 (\"every other\")"
   ]
  },
  {
   "cell_type": "markdown",
   "metadata": {},
   "source": [
    "**Exercise (1): Slicing a 1-D Numpy array**\n",
    "\n",
    "Experiment with accessing and slicing a 1-D Numpy array with indices and slices (using the `begin:end` notation):"
   ]
  },
  {
   "cell_type": "code",
   "execution_count": null,
   "metadata": {},
   "outputs": [],
   "source": [
    "a = np.arange(8)\n",
    "print(a)\n",
    "print(a[3])"
   ]
  },
  {
   "cell_type": "markdown",
   "metadata": {},
   "source": [
    "**Solution:**"
   ]
  },
  {
   "cell_type": "code",
   "execution_count": null,
   "metadata": {
    "tags": [
     "hide-cell",
     "solution"
    ]
   },
   "outputs": [],
   "source": [
    "print(a[-2])  # second item from the back of the list\n",
    "print(a[:2])  # range -> first two items\n",
    "print(a[3:5])  # range -> items 3 to 5 (exclusive)\n",
    "print(a[1:7:2])  # range -> items 1 to 7 (exclusive), with stride 2 (\"every other\")"
   ]
  },
  {
   "cell_type": "markdown",
   "metadata": {},
   "source": [
    "For multi-dimensional arrays, we can specify indices and slices for each dimension separately.\n",
    "Consider a 2-D array:"
   ]
  },
  {
   "cell_type": "code",
   "execution_count": null,
   "metadata": {},
   "outputs": [],
   "source": [
    "a = np.arange(8).reshape((2, 4))\n",
    "a"
   ]
  },
  {
   "cell_type": "markdown",
   "metadata": {},
   "source": [
    "With just a single index, the *outer* dimension is sliced:"
   ]
  },
  {
   "cell_type": "code",
   "execution_count": null,
   "metadata": {},
   "outputs": [],
   "source": [
    "a[1]"
   ]
  },
  {
   "cell_type": "markdown",
   "metadata": {},
   "source": [
    "Slicing again would return an individual element of the array:"
   ]
  },
  {
   "cell_type": "code",
   "execution_count": null,
   "metadata": {},
   "outputs": [],
   "source": [
    "a[1][1]"
   ]
  },
  {
   "cell_type": "markdown",
   "metadata": {},
   "source": [
    "It is more convenient and common to use a different syntax though, separting indices or slices for each dimension by a comma:"
   ]
  },
  {
   "cell_type": "code",
   "execution_count": null,
   "metadata": {
    "scrolled": true
   },
   "outputs": [],
   "source": [
    "a[1, 1]"
   ]
  },
  {
   "cell_type": "markdown",
   "metadata": {},
   "source": [
    "**Exercise (2): Multi-dimensional slicing with ranges**\n",
    "\n",
    "Combine range-based slicing (using `begin:end`) with the `,` (comma) notation shown above:"
   ]
  },
  {
   "cell_type": "markdown",
   "metadata": {},
   "source": [
    "**Solution:**"
   ]
  },
  {
   "cell_type": "code",
   "execution_count": null,
   "metadata": {
    "tags": [
     "hide-cell",
     "solution"
    ]
   },
   "outputs": [],
   "source": [
    "a = np.arange(12).reshape((3, 4))\n",
    "print(a[1:3, 1:3])  # range for both dimensions\n",
    "print(a[:, 1])  # full range for first index, single index for second\n",
    "print(a[:, 1:3])  # full range for first index, range for second\n",
    "print(a[:-1, :-1])  # everything but last row and column\n",
    "print(a[1:-1, 1:-1])  # remove one on all sides\n",
    "print(a[::2, ::2])  # every other row and column (\"stride 2\")"
   ]
  },
  {
   "cell_type": "markdown",
   "metadata": {},
   "source": [
    "To slice only the *inner* dimension we can specify the \"full range\" for the other dimension(s):"
   ]
  },
  {
   "cell_type": "code",
   "execution_count": null,
   "metadata": {},
   "outputs": [],
   "source": [
    "a[:, 1:3]"
   ]
  },
  {
   "cell_type": "markdown",
   "metadata": {},
   "source": [
    "### Modifying arrays and slices\n",
    "\n",
    "Consider a 2-D array, initialized with zeros:"
   ]
  },
  {
   "cell_type": "code",
   "execution_count": null,
   "metadata": {},
   "outputs": [],
   "source": [
    "a = np.zeros(12).reshape((3, 4))\n",
    "a"
   ]
  },
  {
   "cell_type": "markdown",
   "metadata": {},
   "source": [
    "Numpy arrays support a large variety of mathematical operations.\n",
    "The simplest example are operations between arrays and scalars:"
   ]
  },
  {
   "cell_type": "code",
   "execution_count": null,
   "metadata": {},
   "outputs": [],
   "source": [
    "a += 0.5\n",
    "a"
   ]
  },
  {
   "cell_type": "markdown",
   "metadata": {},
   "source": [
    "Numpy is *broadcasting* the scalar value to the shape of the array, i.e., it is (conceptually) duplicated and added to each element of the array.\n",
    "This is also supported for slices:"
   ]
  },
  {
   "cell_type": "code",
   "execution_count": null,
   "metadata": {
    "scrolled": true
   },
   "outputs": [],
   "source": [
    "a[1] *= 10.0\n",
    "a"
   ]
  },
  {
   "cell_type": "markdown",
   "metadata": {},
   "source": [
    "**WARNING**\n",
    "At this point an important difference between slicing Python container and slicing Numpy arrays must be highlighted.\n",
    "Slicing a Numpy arrays *returns a view*, it does *not copy the data*.\n",
    "Consider:"
   ]
  },
  {
   "cell_type": "code",
   "execution_count": null,
   "metadata": {},
   "outputs": [],
   "source": [
    "lis = list(range(4))\n",
    "subsection = lis[:2]\n",
    "subsection[1] = 666\n",
    "lis"
   ]
  },
  {
   "cell_type": "code",
   "execution_count": null,
   "metadata": {
    "scrolled": true
   },
   "outputs": [],
   "source": [
    "arr = np.array(range(4))\n",
    "subsection = arr[:2]\n",
    "subsection[1] = 666\n",
    "arr"
   ]
  },
  {
   "cell_type": "markdown",
   "metadata": {},
   "source": [
    "While this is convenient and crucial for efficient operation, it also represents a common pitfall to be aware of.\n",
    "To obtain an actual copy of a slice, the `copy()` method can be used."
   ]
  },
  {
   "cell_type": "markdown",
   "metadata": {},
   "source": [
    "Let use return to operations with the 2-D array `a`:"
   ]
  },
  {
   "cell_type": "code",
   "execution_count": null,
   "metadata": {},
   "outputs": [],
   "source": [
    "a"
   ]
  },
  {
   "cell_type": "markdown",
   "metadata": {},
   "source": [
    "Operations between slices of matching shape are also supported:"
   ]
  },
  {
   "cell_type": "code",
   "execution_count": null,
   "metadata": {},
   "outputs": [],
   "source": [
    "a[0] + a[2]  # returns a new 1-D array"
   ]
  },
  {
   "cell_type": "code",
   "execution_count": null,
   "metadata": {},
   "outputs": [],
   "source": [
    "a[0] += a[2]  # modify first row in-place\n",
    "a"
   ]
  },
  {
   "cell_type": "markdown",
   "metadata": {},
   "source": [
    "The same can be done for the inner dimension:"
   ]
  },
  {
   "cell_type": "code",
   "execution_count": null,
   "metadata": {},
   "outputs": [],
   "source": [
    "a[:, 0] += a[:, 1]\n",
    "a"
   ]
  },
  {
   "cell_type": "markdown",
   "metadata": {},
   "source": [
    "We can also attempt to mix rows and columns.\n",
    "In this case the number of rows and columns in the array is different, so we get an error:"
   ]
  },
  {
   "cell_type": "code",
   "execution_count": null,
   "metadata": {},
   "outputs": [],
   "source": [
    "a[:, 1] += a[1]"
   ]
  },
  {
   "cell_type": "markdown",
   "metadata": {},
   "source": [
    "This is actually a *fortunate* situation, because it indicates that something is (probably) wrong, instead of silently corrupting scientific data and results:\n",
    "If shapes happen to match we may end up *accidentally* combining data that should not have been combined.\n",
    "The most common situation where this may occur is with square arrays:"
   ]
  },
  {
   "cell_type": "code",
   "execution_count": null,
   "metadata": {},
   "outputs": [],
   "source": [
    "xy = np.array([[1, 2], [3, 4]])\n",
    "yx = (xy).T  # transpose\n",
    "(\n",
    "    xy - yx\n",
    ")  # operation succeeds even though we are subtracting elements that were transposed!"
   ]
  },
  {
   "cell_type": "markdown",
   "metadata": {},
   "source": [
    "This may be intentional, but in many cases it may be a source of bugs when using Numpy.\n",
    "Higher-level libraries such as [xarray](http://xarray.pydata.org/en/stable/) building on top of Numpy have been developed as a remedy."
   ]
  },
  {
   "cell_type": "markdown",
   "metadata": {},
   "source": [
    "**Exercise (3): Operations with slices of 3-D arrays**\n",
    "\n",
    "- Create a 3-D array.\n",
    "- Try various operations and slicing as shown above, but with the 3-D array."
   ]
  },
  {
   "cell_type": "markdown",
   "metadata": {},
   "source": [
    "**Solution:**"
   ]
  },
  {
   "cell_type": "code",
   "execution_count": null,
   "metadata": {
    "tags": [
     "hide-cell",
     "solution"
    ]
   },
   "outputs": [],
   "source": [
    "a3d = np.random.rand(3, 4, 5)\n",
    "a3d[1:, 1:, 1:] *= 0.0\n",
    "a3d"
   ]
  },
  {
   "cell_type": "markdown",
   "metadata": {},
   "source": [
    "**Exercise (4): Using slicing to compute derivatives**\n",
    "\n",
    "Compute the second derivative (Laplace stencil, $(a_{i-1} - 2 a_i + a_{i+1})/h$) using slicing.\n",
    "- Exclude the first and last point for simplicity.\n",
    "- There are (at least) two ways to solve this, one of them is simpler.\n",
    "\n",
    "Note that Numpy has some built-in ways to compute derivatives, e.g., https://docs.scipy.org/doc/numpy/reference/generated/numpy.gradient.html, but here the goal is to practice the slicing notation so we compute a derivate by hand."
   ]
  },
  {
   "cell_type": "code",
   "execution_count": null,
   "metadata": {},
   "outputs": [],
   "source": [
    "h = 0.01\n",
    "a = np.sin(np.arange(0, 10, step=h))"
   ]
  },
  {
   "cell_type": "markdown",
   "metadata": {},
   "source": [
    "**Solution:**"
   ]
  },
  {
   "cell_type": "code",
   "execution_count": null,
   "metadata": {
    "tags": [
     "hide-cell",
     "solution"
    ]
   },
   "outputs": [],
   "source": [
    "# Option 1: Using loops\n",
    "num = len(a) - 2\n",
    "result1 = np.zeros(num)\n",
    "for i in range(num):\n",
    "    result1[i] = a[i] - 2 * a[i + 1] + a[i + 2]\n",
    "\n",
    "# Option 2 (recommended): The \"Numpy\" way\n",
    "result2 = a[2:] - 2 * a[1:-1] + a[:-2]"
   ]
  },
  {
   "cell_type": "markdown",
   "metadata": {},
   "source": [
    "Optional advanced task:\n",
    "Use a 2-D array and compute (a) 1-D second derivative along the first axis, (b) along the second axis, and (c) the 2-D second derivative (2-D Laplace stencil)."
   ]
  },
  {
   "cell_type": "markdown",
   "metadata": {},
   "source": [
    "## Loading files\n",
    "\n",
    "Numpy can, e.g., load data from text files:"
   ]
  },
  {
   "cell_type": "code",
   "execution_count": null,
   "metadata": {},
   "outputs": [],
   "source": [
    "filename = \"../../notebooks/using_external_libraries/numpy-sample-data.txt\"\n",
    "a = np.loadtxt(filename)\n",
    "a"
   ]
  },
  {
   "cell_type": "markdown",
   "metadata": {},
   "source": [
    "By default this loads data as a 2-D array if there are multiple columns.\n",
    "[loadtxt](https://docs.scipy.org/doc/numpy/reference/generated/numpy.loadtxt.html) has many options to control how data is loaded.\n",
    "On example is the `unpack` option, to unpack columns into separate variables:"
   ]
  },
  {
   "cell_type": "code",
   "execution_count": null,
   "metadata": {},
   "outputs": [],
   "source": [
    "col1, col2, col3 = np.loadtxt(filename, unpack=True)\n",
    "print(col1)"
   ]
  },
  {
   "cell_type": "markdown",
   "metadata": {},
   "source": [
    "Numpy also supports a native format for saving and loading Numpy arrays,\n",
    "[numpy.save](https://docs.scipy.org/doc/numpy/reference/generated/numpy.save.html) and\n",
    "[numpy.load](https://docs.scipy.org/doc/numpy/reference/generated/numpy.load.html)."
   ]
  },
  {
   "cell_type": "markdown",
   "metadata": {},
   "source": [
    "## More functions\n",
    "\n",
    "We give a couple more examples from the extensive set of operations Numpy supports.\n",
    "\n",
    "### Transpose\n",
    "\n",
    "[numpy.transpose](https://docs.scipy.org/doc/numpy/reference/generated/numpy.transpose.html) is used to transpose arrays:"
   ]
  },
  {
   "cell_type": "code",
   "execution_count": null,
   "metadata": {},
   "outputs": [],
   "source": [
    "np.transpose(a)"
   ]
  },
  {
   "cell_type": "markdown",
   "metadata": {},
   "source": [
    "Note that this does *not* transpose the data in the array, but rather returns a *transposed view*, which could be used to modify the original array:"
   ]
  },
  {
   "cell_type": "code",
   "execution_count": null,
   "metadata": {
    "scrolled": true
   },
   "outputs": [],
   "source": [
    "np.transpose(a)[0] = 0.0  # zero first row of transpose, i.e., first column of `a`\n",
    "a"
   ]
  },
  {
   "cell_type": "markdown",
   "metadata": {},
   "source": [
    "### Element-wise mathematical operations\n",
    "\n",
    "Numpy supports unary functions such as [numpy.exp](https://docs.scipy.org/doc/numpy/reference/generated/numpy.exp.html).\n",
    "These functions are simply applied to each element of an array:"
   ]
  },
  {
   "cell_type": "code",
   "execution_count": null,
   "metadata": {},
   "outputs": [],
   "source": [
    "np.exp(a)"
   ]
  },
  {
   "cell_type": "markdown",
   "metadata": {},
   "source": [
    "Note that in this case Numpy returns a new array, i.e., `a` is *not modified*.\n",
    "If this is desired, it can be achieved using the optional `out` argument supported by many functions, including `exp`."
   ]
  },
  {
   "cell_type": "markdown",
   "metadata": {},
   "source": [
    "### Reduction operations\n",
    "\n",
    "[numpy.sum](https://docs.scipy.org/doc/numpy/reference/generated/numpy.sum.html) is an example of a reduction operation.\n",
    "It supports summing all elements, or just selected axes:"
   ]
  },
  {
   "cell_type": "code",
   "execution_count": null,
   "metadata": {},
   "outputs": [],
   "source": [
    "print(np.sum(a))\n",
    "print(np.sum(a, axis=0))\n",
    "print(np.sum(a, axis=1))"
   ]
  },
  {
   "cell_type": "markdown",
   "metadata": {},
   "source": [
    "Note that axis 0 is the outermost dimension (leftmost in the `shape` property), not to be confused with the data layout where the rightmost index is the innermost/fastest."
   ]
  },
  {
   "cell_type": "markdown",
   "metadata": {},
   "source": [
    "**Exercise (5): Putting things together**\n",
    "\n",
    "Compute the (row) sum of the exponentials of all but the last row of `a`."
   ]
  },
  {
   "cell_type": "markdown",
   "metadata": {},
   "source": [
    "**Solution:**"
   ]
  },
  {
   "cell_type": "code",
   "execution_count": null,
   "metadata": {
    "tags": [
     "hide-cell",
     "solution"
    ]
   },
   "outputs": [],
   "source": [
    "np.sum(np.exp(a[:-1]))"
   ]
  }
 ],
 "metadata": {
  "kernelspec": {
   "display_name": "Python 3 (ipykernel)",
   "language": "python",
   "name": "python3"
  },
  "language_info": {
   "codemirror_mode": {
    "name": "ipython",
    "version": 3
   },
   "file_extension": ".py",
   "mimetype": "text/x-python",
   "name": "python",
   "nbconvert_exporter": "python",
   "pygments_lexer": "ipython3",
   "version": "3.10.10"
  }
 },
 "nbformat": 4,
 "nbformat_minor": 4
}
