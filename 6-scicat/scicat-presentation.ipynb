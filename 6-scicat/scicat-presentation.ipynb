{
 "cells": [
  {
   "cell_type": "markdown",
   "id": "87fb0212-07db-456c-b1ad-699d8ccc6f2a",
   "metadata": {
    "slideshow": {
     "slide_type": "slide"
    },
    "tags": []
   },
   "source": [
    "# Data Curation,<br> Data Catalog,<br> and SciCat\n",
    "\n",
    "Max Novelli  \n",
    "DMSC Summer School 2023  \n",
    "Copenhagen, Denmark"
   ]
  },
  {
   "cell_type": "markdown",
   "id": "de901404-0495-49e4-b55a-6da335ed1e19",
   "metadata": {
    "slideshow": {
     "slide_type": "slide"
    },
    "tags": []
   },
   "source": [
    "## Dataset\n",
    "\n",
    "> A Dataset is a collection of multi-modal items which: \n",
    "> - share a common source\n",
    "> - were collected for a specific purpose, \n",
    "> - describes an individual event or a series of events or an experiment, \n",
    "> - pertains to the same experimental data collection.  \n",
    "\n",
    "A dataset might contain one or more files and must have a set of descriptors that, according to the current standards, are called _metadata_ and help users to find the dataset itself.  "
   ]
  },
  {
   "cell_type": "markdown",
   "id": "3bd699e6-cd03-4656-8dd5-8997edeba477",
   "metadata": {
    "slideshow": {
     "slide_type": "slide"
    },
    "tags": []
   },
   "source": [
    "## Data Curation\n",
    "> __Data curation__ is the effort to organize multi-modal data (measurements and observations) collected during an experiment in an organized set, called dataset, with the purpose of making the data more logical, easy to find, understand and reproduce.\n",
    "\n",
    "Data curation refers to the complete process of collecting the files with all the data measured during the experiment.\n",
    "This includes the set of information that is available in lab notebooks or in the memory of scientists and all the actors involved in collecting, reducing, and analyzing such data.\n"
   ]
  },
  {
   "cell_type": "markdown",
   "id": "665bada0-2476-41bb-b159-22edf3bb839c",
   "metadata": {
    "slideshow": {
     "slide_type": "slide"
    },
    "tags": []
   },
   "source": [
    "## FAIR Data\n",
    "\n",
    "The FAIR principles can be summarized in the following four points:\n",
    "- Findable\n",
    "- Accessible\n",
    "- Interoperable\n",
    "- Reusable\n",
    "\n",
    "![FAIR logo](images/fair.png)"
   ]
  },
  {
   "cell_type": "markdown",
   "id": "4e9fc3d7-86ec-4b61-8a1b-853f3b79c4fe",
   "metadata": {
    "slideshow": {
     "slide_type": "slide"
    },
    "tags": []
   },
   "source": [
    "## TRUSTed Repositories\n",
    "\n",
    "The TRUST principles are geared more towards the repositories holding the data and are:\n",
    "- Transparency\n",
    "- Responsibility\n",
    "- User Focus\n",
    "- Sustainability\n",
    "- Technology\n",
    "\n",
    "![TRUST logo](images/trust.png)"
   ]
  },
  {
   "cell_type": "markdown",
   "id": "ec616299-f873-43c8-b93f-cc6ece99cd9f",
   "metadata": {
    "slideshow": {
     "slide_type": "slide"
    },
    "tags": []
   },
   "source": [
    "## Data\n",
    "> __Data__ are every measurement, time series and piece of information, quantitative and qualitative, including log book entries, that can be digitally acquired and recorded during the experimental time. Such information is saved in one or multiple files which are generated during the experimental data acquisition."
   ]
  },
  {
   "cell_type": "markdown",
   "id": "01131655-aa84-400c-9753-25a66bc6f000",
   "metadata": {
    "slideshow": {
     "slide_type": "slide"
    },
    "tags": []
   },
   "source": [
    "## Metadata\n",
    "> __Metadata__ are any information saved in the data catalogue and available to the user to search the individual dataset or a group of them and their linked data.  \n",
    "> Metadata can be:\n",
    "> 1) a duplicate of any piece of data contained in the linked data files, as long it is of small size.\n",
    "> 2) any derived information that results from any type of data aggregation (like average, min, max or something more complex) performed on information contained in the linked data files\n",
    "> 3) any qualitative or quantitative information that has been collected or discovered at a later stage, which is relevant to describe and facilitate finding the dataset itself.\n"
   ]
  },
  {
   "cell_type": "markdown",
   "id": "e5ca7c32-aec9-407d-b285-3b83a890d639",
   "metadata": {
    "slideshow": {
     "slide_type": "slide"
    },
    "tags": []
   },
   "source": [
    "## Data catalog\n",
    "> A __data catalog__ is a detailed inventory of all the scientific and experimental data produced at the facility and related to its scientific process, designed and configured to increase data FAIRness, to improve their accessibility and searchability."
   ]
  },
  {
   "cell_type": "markdown",
   "id": "bd4cb98b-28b2-49d8-9bc4-c3b6ef17ee12",
   "metadata": {
    "slideshow": {
     "slide_type": "slide"
    },
    "tags": []
   },
   "source": [
    "## SciCat\n",
    "\n",
    "SciCat is the data catalog of choice in ESS.  \n",
    "It has been developed as an in-kind contribution and through a collaboration between ESS, [PSI](https://www.psi.ch/en), and [MaxIV](https://www.maxiv.lu.se/).  \n",
    "\n",
    "The current version is _4.x_, and it is based on the following technologies:\n",
    "- backend\n",
    "  - mongodb\n",
    "  - mongoose\n",
    "  - typescript\n",
    "  - node.js\n",
    "  - nest.js\n",
    "- frontend\n",
    "  - node.js\n",
    "  - angular.js"
   ]
  },
  {
   "cell_type": "markdown",
   "id": "f02c0bc0-eaef-4ec9-9ef6-157387a0c12d",
   "metadata": {
    "slideshow": {
     "slide_type": "slide"
    },
    "tags": []
   },
   "source": [
    "## Datasets List\n",
    "\n",
    "![SciCat Datasets List](images/scicat_datasets_list.png)"
   ]
  },
  {
   "cell_type": "markdown",
   "id": "6b9115ff-e9c0-426c-9a2e-28cded33e33f",
   "metadata": {
    "slideshow": {
     "slide_type": "slide"
    },
    "tags": []
   },
   "source": [
    "## Dataset Details\n",
    "![SciCat Dataset List](images/scicat_dataset_details.png)"
   ]
  },
  {
   "cell_type": "markdown",
   "id": "5784b772-f6e6-4435-88f5-cf4befa15ee7",
   "metadata": {},
   "source": [
    "## Python Libraries\n",
    "\n",
    "- Pyscicat https://github.com/SciCatProject/pyscicat  \n",
    "  ![pySciCat logo](images/pyscicat.png)  \n",
    "  \n",
    "- Scitacean https://github.com/SciCatProject/scitacean  \n",
    "  ![Scitacean logo](images/scitacean.png)"
   ]
  },
  {
   "cell_type": "markdown",
   "id": "8842468b-8ca4-409c-874c-178060d94c8f",
   "metadata": {
    "slideshow": {
     "slide_type": "slide"
    },
    "tags": []
   },
   "source": [
    "## Example\n",
    "\n",
    "The material provided contains the document (8-example.md)[8-example.md] which explains in details how to use Scitacean to interact with SciCat.\n",
    "\n",
    "There are also three additional working notebooks which illustrate further how to retrieve a single dataset, multiple datasets and create a raw and a derived dataset:\n",
    "- [access individual dataset](./notebooks/access_individual_dataset.ipynb)\n",
    "- [access multiple datasets](./notebooks/access_multiple_datasets.ipynb)\n",
    "- [upload and create dataset](./notebooks/create_single_dataset.ipynb)"
   ]
  },
  {
   "cell_type": "markdown",
   "id": "525f39d5-445d-4ec8-b533-48faf58d2534",
   "metadata": {
    "slideshow": {
     "slide_type": "slide"
    },
    "tags": []
   },
   "source": [
    "## Exercise \n",
    "\n",
    "Please open the notebook [9-exercise.ipynb](./9-exercise.ipynb).  \n",
    "This notebook contains the tasks that you should be working on in the SciCat section of the DMSC Summer School.  \n",
    "The instructions and all the necessary information are contained in the notebook\n",
    "\n",
    "### Good Luck"
   ]
  },
  {
   "cell_type": "markdown",
   "id": "dbdf0676-a4ed-49ea-840f-62270932c69b",
   "metadata": {
    "slideshow": {
     "slide_type": "slide"
    },
    "tags": []
   },
   "source": [
    "## Thank you\n",
    "\n",
    "Max (Massimiliano) Novelli  \n",
    "max.novelli@ess.eu"
   ]
  }
 ],
 "metadata": {
  "kernelspec": {
   "display_name": "Python 3 (ipykernel)",
   "language": "python",
   "name": "python3"
  },
  "language_info": {
   "codemirror_mode": {
    "name": "ipython",
    "version": 3
   },
   "file_extension": ".py",
   "mimetype": "text/x-python",
   "name": "python",
   "nbconvert_exporter": "python",
   "pygments_lexer": "ipython3",
   "version": "3.11.9"
  },
  "orphan": true
 },
 "nbformat": 4,
 "nbformat_minor": 5
}
